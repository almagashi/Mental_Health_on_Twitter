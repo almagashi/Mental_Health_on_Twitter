{
 "cells": [
  {
   "cell_type": "markdown",
   "id": "97fb048d",
   "metadata": {},
   "source": [
    "## Root Code ##\n",
    "### Store docs in a list\n",
    "### Vectorize them\n",
    "### Calculate the similarity\n",
    "### Create the matrix\n",
    "### Display results"
   ]
  },
  {
   "cell_type": "code",
   "execution_count": null,
   "id": "eb7feaa5",
   "metadata": {},
   "outputs": [],
   "source": []
  }
 ],
 "metadata": {
  "kernelspec": {
   "display_name": "Python 3",
   "language": "python",
   "name": "python3"
  },
  "language_info": {
   "codemirror_mode": {
    "name": "ipython",
    "version": 3
   },
   "file_extension": ".py",
   "mimetype": "text/x-python",
   "name": "python",
   "nbconvert_exporter": "python",
   "pygments_lexer": "ipython3",
   "version": "3.6.5"
  }
 },
 "nbformat": 4,
 "nbformat_minor": 5
}
