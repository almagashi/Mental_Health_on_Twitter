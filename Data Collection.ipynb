{
 "cells": [
  {
   "cell_type": "code",
   "execution_count": null,
   "id": "95707e0c",
   "metadata": {},
   "outputs": [],
   "source": [
    "import requests\n",
    "from requests_oauthlib import OAuth1Session\n",
    "\n",
    "import json\n",
    "import os\n",
    "import tweepy as tw  \n",
    "\n",
    "import pandas as pd\n",
    "import random\n",
    "import numpy as np\n",
    "\n",
    "import matplotlib.pyplot as plt\n",
    "%matplotlib inline"
   ]
  },
  {
   "cell_type": "code",
   "execution_count": null,
   "id": "11e3771d",
   "metadata": {},
   "outputs": [],
   "source": [
    "# authentication\n",
    "\n",
    "auth = tw.OAuthHandler('Authentication1')\n",
    "api = tw.API(auth)\n",
    "os.environ['BEARER_TOKEN'] = 'Authentication2'"
   ]
  },
  {
   "cell_type": "markdown",
   "id": "817b94ad",
   "metadata": {},
   "source": [
    "**Data Collection**"
   ]
  },
  {
   "cell_type": "code",
   "execution_count": null,
   "id": "7c474eb5",
   "metadata": {},
   "outputs": [],
   "source": [
    "search_query = \"#disorder -filter:retweets & -filter:replies\"\n",
    "\n",
    "since_date = '2021-10-01'\n",
    "# specify the search and filter out retweets and replies\n",
    "   # get tweets from the API\n",
    "tweets = tw.Cursor(api.search,\n",
    "              q=search_query,\n",
    "              lang=\"en\",\n",
    "              since=since_date).items(10000) # Request 10000 tweets\n",
    "\n",
    "# store the API responses in a list\n",
    "tweets_copy = []\n",
    "for tweet in tweets:\n",
    "    tweets_copy.append(tweet)\n",
    "\n",
    "# intialize the dataframe\n",
    "tweets_df = pd.DataFrame()\n",
    "\n",
    "# populate the dataframe\n",
    "for tweet in tweets_copy:\n",
    "    hashtags = []\n",
    "    try:\n",
    "        for hashtag in tweet.entities[\"hashtags\"]:\n",
    "            hashtags.append(hashtag[\"text\"])\n",
    "        text = api.get_status(id=tweet.id, tweet_mode='extended').full_text\n",
    "    except:\n",
    "        pass\n",
    "    tweets_df = tweets_df.append(pd.DataFrame({'user_ID': tweet.user.id_str, \n",
    "                                               'followers_count': tweet.user.followers_count,\n",
    "                                               'user_location': tweet.user.location,\n",
    "                                               'user_description': tweet.user.description,\n",
    "                                               'date': tweet.created_at,\n",
    "                                               'text': text, \n",
    "                                               'hashtags': [hashtags if hashtags else None]}))\n",
    "    tweets_df = tweets_df.reset_index(drop=True)\n",
    "tweets_df.to_csv('disorder.csv')"
   ]
  },
  {
   "cell_type": "code",
   "execution_count": null,
   "id": "d4e73d59",
   "metadata": {},
   "outputs": [],
   "source": [
    "data = pd.read_csv('disorder.csv')\n",
    "data.dropna()\n",
    "data.drop_duplicates()"
   ]
  },
  {
   "cell_type": "code",
   "execution_count": null,
   "id": "d792af46",
   "metadata": {},
   "outputs": [],
   "source": []
  }
 ],
 "metadata": {
  "kernelspec": {
   "display_name": "Python 3",
   "language": "python",
   "name": "python3"
  },
  "language_info": {
   "codemirror_mode": {
    "name": "ipython",
    "version": 3
   },
   "file_extension": ".py",
   "mimetype": "text/x-python",
   "name": "python",
   "nbconvert_exporter": "python",
   "pygments_lexer": "ipython3",
   "version": "3.6.5"
  }
 },
 "nbformat": 4,
 "nbformat_minor": 5
}
