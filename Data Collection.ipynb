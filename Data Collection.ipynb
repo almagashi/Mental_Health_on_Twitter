{
 "cells": [
  {
   "cell_type": "markdown",
   "id": "4d120d03",
   "metadata": {},
   "source": [
    "**Data Collection**"
   ]
  },
  {
   "cell_type": "markdown",
   "id": "94226caf",
   "metadata": {},
   "source": [
    "1. Import the needed libraries\n",
    "2. Authenticate your access to Twitter\n",
    "3. Replace **#disorder1** with the name of the disorder [ocd, depression, adhd].\n",
    "4. Request 10000 english tweets from the specified data with items such as:\n",
    "     1. user_id\n",
    "     2. followers_count\n",
    "     3. user_location\n",
    "     4. user_description\n",
    "     5. date\n",
    "     6. text\n",
    "     7. hashtags\n",
    "5. Store the data in a pandas dataframe.\n",
    "6. Remove duplicates and NA values.\n",
    "7. Check length of data.\n",
    "8. Save it as [disorder1].csv.\n",
    "9. Check the length of all the disorders data.\n",
    "10. Create a master file (csv) with all the disorders' data."
   ]
  },
  {
   "cell_type": "code",
   "execution_count": null,
   "id": "aa4d9304",
   "metadata": {},
   "outputs": [],
   "source": [
    "import requests\n",
    "from requests_oauthlib import OAuth1Session\n",
    "\n",
    "import json\n",
    "import os\n",
    "import tweepy as tw  \n",
    "\n",
    "import pandas as pd\n",
    "import random\n",
    "import numpy as np\n",
    "\n",
    "import matplotlib.pyplot as plt\n",
    "%matplotlib inline"
   ]
  },
  {
   "cell_type": "code",
   "execution_count": null,
   "id": "38e3ca79",
   "metadata": {},
   "outputs": [],
   "source": [
    "# authentication\n",
    "\n",
    "auth = tw.OAuthHandler('Auth1')\n",
    "api = tw.API(auth)\n",
    "os.environ['BEARER_TOKEN'] = 'Auth2'"
   ]
  },
  {
   "cell_type": "code",
   "execution_count": null,
   "id": "6fbf4a55",
   "metadata": {},
   "outputs": [],
   "source": [
    "search_query = \"#disorder1' -filter:retweets & -filter:replies\"\n",
    "\n",
    "since_date = '2021-10-01'\n",
    "# specify the search and filter out retweets and replies\n",
    "   # get tweets from the API\n",
    "tweets = tw.Cursor(api.search,\n",
    "              q=search_query,\n",
    "              lang=\"en\",\n",
    "              since=since_date).items(1) # Request 10000 tweets\n",
    "\n",
    "# store the API responses in a list\n",
    "tweets_copy = []\n",
    "for tweet in tweets:\n",
    "    tweets_copy.append(tweet)"
   ]
  },
  {
   "cell_type": "code",
   "execution_count": null,
   "id": "00a98112",
   "metadata": {},
   "outputs": [],
   "source": [
    "# intialize the dataframe\n",
    "tweets_df = pd.DataFrame()\n",
    "\n",
    "# populate the dataframe\n",
    "for tweet in tweets_copy:\n",
    "    hashtags = []\n",
    "    try:\n",
    "        for hashtag in tweet.entities[\"hashtags\"]:\n",
    "            hashtags.append(hashtag[\"text\"])\n",
    "        text = api.get_status(id=tweet.id, tweet_mode='extended').full_text\n",
    "    except:\n",
    "        pass\n",
    "    tweets_df = tweets_df.append(pd.DataFrame({'user_ID': tweet.user.id_str, \n",
    "                                               'followers_count': tweet.user.followers_count,\n",
    "                                               'user_location': tweet.user.location,\n",
    "                                               'user_description': tweet.user.description,\n",
    "                                               'date': tweet.created_at,\n",
    "                                               'text': text, \n",
    "                                               'hashtags': [hashtags if hashtags else None]}))\n",
    "    tweets_df = tweets_df.reset_index(drop=True)\n"
   ]
  },
  {
   "cell_type": "code",
   "execution_count": null,
   "id": "98312d91",
   "metadata": {},
   "outputs": [],
   "source": [
    "tweets_df.dropna()\n",
    "tweets_df.drop_duplicates () \n",
    "len(tweets_df)"
   ]
  },
  {
   "cell_type": "code",
   "execution_count": null,
   "id": "39b72c08",
   "metadata": {},
   "outputs": [],
   "source": [
    "tweets_df.to_csv('disorder1.csv')"
   ]
  },
  {
   "cell_type": "code",
   "execution_count": null,
   "id": "e727fca3",
   "metadata": {},
   "outputs": [],
   "source": [
    "disorder1 = pd.read_csv('disorder1.csv')\n",
    "disorder2 = pd.read_csv('disorder2.csv')\n",
    "disorder3 = pd.read_csv('disorder3.csv')"
   ]
  },
  {
   "cell_type": "code",
   "execution_count": null,
   "id": "b1320f4b",
   "metadata": {},
   "outputs": [],
   "source": [
    "disorders = [disorder1, disorder2, disorder3]"
   ]
  },
  {
   "cell_type": "code",
   "execution_count": null,
   "id": "2944fdd5",
   "metadata": {},
   "outputs": [],
   "source": [
    "disorders = pd.concat(disorder, ignore_index)"
   ]
  },
  {
   "cell_type": "code",
   "execution_count": null,
   "id": "d47a51fa",
   "metadata": {},
   "outputs": [],
   "source": [
    "len(disorders)"
   ]
  },
  {
   "cell_type": "code",
   "execution_count": null,
   "id": "2a75f7d8",
   "metadata": {},
   "outputs": [],
   "source": [
    "disorders.to_csv('disorder.csv')"
   ]
  }
 ],
 "metadata": {
  "kernelspec": {
   "display_name": "Python 3",
   "language": "python",
   "name": "python3"
  },
  "language_info": {
   "codemirror_mode": {
    "name": "ipython",
    "version": 3
   },
   "file_extension": ".py",
   "mimetype": "text/x-python",
   "name": "python",
   "nbconvert_exporter": "python",
   "pygments_lexer": "ipython3",
   "version": "3.6.5"
  }
 },
 "nbformat": 4,
 "nbformat_minor": 5
}
