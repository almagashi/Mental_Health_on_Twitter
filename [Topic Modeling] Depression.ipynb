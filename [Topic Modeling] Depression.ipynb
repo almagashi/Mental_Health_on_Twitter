{
 "cells": [
  {
   "cell_type": "markdown",
   "id": "5f74d3d3",
   "metadata": {},
   "source": [
    "# Topic Modeling: Depression"
   ]
  },
  {
   "cell_type": "markdown",
   "id": "303fb3fd",
   "metadata": {},
   "source": [
    "### The first step is importing the packages that we will be using for identifying topic models."
   ]
  },
  {
   "cell_type": "code",
   "execution_count": 1,
   "id": "7c5eb0e4",
   "metadata": {},
   "outputs": [],
   "source": [
    "# Import required packages\n",
    "\n",
    "# DATA PREPROCESSING\n",
    "import nltk\n",
    "from nltk.tokenize import RegexpTokenizer\n",
    "from nltk.corpus import stopwords\n",
    "from nltk.stem import WordNetLemmatizer\n",
    "from gensim.models import Phrases\n",
    "\n",
    "# MODELING\n",
    "import sklearn\n",
    "import re\n",
    "from gensim.models.coherencemodel import CoherenceModel\n",
    "from gensim.models.ldamodel import LdaModel\n",
    "from gensim.corpora.dictionary import Dictionary\n",
    "from numpy import array\n",
    "\n",
    "# VISUALIZATION\n",
    "import matplotlib.pyplot as plt\n",
    "import seaborn as sns\n",
    "import pyLDAvis\n",
    "import pyLDAvis.gensim\n",
    "import pickle \n",
    "\n",
    "# OTHER\n",
    "import numpy as np\n",
    "import pandas as pd\n",
    "import logging\n",
    "import json\n",
    "import warnings\n",
    "import random\n",
    "\n",
    "warnings.filterwarnings('ignore')  "
   ]
  },
  {
   "cell_type": "markdown",
   "id": "534d8b8e",
   "metadata": {},
   "source": [
    "### In the second step, we read the dataset, and take a glance at what it looks like."
   ]
  },
  {
   "cell_type": "code",
   "execution_count": 2,
   "id": "0a25c3ae",
   "metadata": {},
   "outputs": [],
   "source": [
    "data = pd.read_csv('depression.csv')"
   ]
  },
  {
   "cell_type": "code",
   "execution_count": 3,
   "id": "d29909d1",
   "metadata": {},
   "outputs": [
    {
     "data": {
      "text/html": [
       "<div>\n",
       "<style scoped>\n",
       "    .dataframe tbody tr th:only-of-type {\n",
       "        vertical-align: middle;\n",
       "    }\n",
       "\n",
       "    .dataframe tbody tr th {\n",
       "        vertical-align: top;\n",
       "    }\n",
       "\n",
       "    .dataframe thead th {\n",
       "        text-align: right;\n",
       "    }\n",
       "</style>\n",
       "<table border=\"1\" class=\"dataframe\">\n",
       "  <thead>\n",
       "    <tr style=\"text-align: right;\">\n",
       "      <th></th>\n",
       "      <th>user_ID</th>\n",
       "      <th>followers_count</th>\n",
       "      <th>user_location</th>\n",
       "      <th>user_description</th>\n",
       "      <th>date</th>\n",
       "      <th>text</th>\n",
       "      <th>hashtags</th>\n",
       "    </tr>\n",
       "  </thead>\n",
       "  <tbody>\n",
       "    <tr>\n",
       "      <th>0</th>\n",
       "      <td>1.390000e+18</td>\n",
       "      <td>53</td>\n",
       "      <td>Barcelona, Spain</td>\n",
       "      <td>For 34 years, Psych Congress has served as a u...</td>\n",
       "      <td>10/27/2021 11:45</td>\n",
       "      <td>Extended abstract submission deadline is TODAY...</td>\n",
       "      <td>NaN</td>\n",
       "    </tr>\n",
       "    <tr>\n",
       "      <th>1</th>\n",
       "      <td>2.350451e+09</td>\n",
       "      <td>30626</td>\n",
       "      <td>Sacramento, California</td>\n",
       "      <td>Believer in creating a healthy game plan to fe...</td>\n",
       "      <td>10/27/2021 11:39</td>\n",
       "      <td>🌟This Fall and if you can, intentionally spend...</td>\n",
       "      <td>['anxiety']</td>\n",
       "    </tr>\n",
       "    <tr>\n",
       "      <th>2</th>\n",
       "      <td>3.345540e+09</td>\n",
       "      <td>829</td>\n",
       "      <td>Pittsburgh, PA</td>\n",
       "      <td>Founder Motivation Champs, Publisher 📚, Screen...</td>\n",
       "      <td>10/27/2021 11:38</td>\n",
       "      <td>Proud to welcome Stephanie Kunkel to the Motiv...</td>\n",
       "      <td>NaN</td>\n",
       "    </tr>\n",
       "    <tr>\n",
       "      <th>3</th>\n",
       "      <td>1.174093e+07</td>\n",
       "      <td>3089</td>\n",
       "      <td>Toronto, Canada</td>\n",
       "      <td>Self healing journey from ✝️ trauma to spiritu...</td>\n",
       "      <td>10/27/2021 11:35</td>\n",
       "      <td>How much energy do you put into keeping up app...</td>\n",
       "      <td>['travelblogger']</td>\n",
       "    </tr>\n",
       "    <tr>\n",
       "      <th>4</th>\n",
       "      <td>4.008473e+09</td>\n",
       "      <td>417</td>\n",
       "      <td>London, England</td>\n",
       "      <td>rTMS treatment across the UK and Ireland.\\r\\r\\...</td>\n",
       "      <td>10/27/2021 11:35</td>\n",
       "      <td>Did you know that we treat seasonal affective ...</td>\n",
       "      <td>['seasonalaffectivedisorder', 'SAD']</td>\n",
       "    </tr>\n",
       "  </tbody>\n",
       "</table>\n",
       "</div>"
      ],
      "text/plain": [
       "        user_ID  followers_count           user_location  \\\n",
       "0  1.390000e+18               53        Barcelona, Spain   \n",
       "1  2.350451e+09            30626  Sacramento, California   \n",
       "2  3.345540e+09              829          Pittsburgh, PA   \n",
       "3  1.174093e+07             3089         Toronto, Canada   \n",
       "4  4.008473e+09              417         London, England   \n",
       "\n",
       "                                    user_description              date  \\\n",
       "0  For 34 years, Psych Congress has served as a u...  10/27/2021 11:45   \n",
       "1  Believer in creating a healthy game plan to fe...  10/27/2021 11:39   \n",
       "2  Founder Motivation Champs, Publisher 📚, Screen...  10/27/2021 11:38   \n",
       "3  Self healing journey from ✝️ trauma to spiritu...  10/27/2021 11:35   \n",
       "4  rTMS treatment across the UK and Ireland.\\r\\r\\...  10/27/2021 11:35   \n",
       "\n",
       "                                                text  \\\n",
       "0  Extended abstract submission deadline is TODAY...   \n",
       "1  🌟This Fall and if you can, intentionally spend...   \n",
       "2  Proud to welcome Stephanie Kunkel to the Motiv...   \n",
       "3  How much energy do you put into keeping up app...   \n",
       "4  Did you know that we treat seasonal affective ...   \n",
       "\n",
       "                               hashtags  \n",
       "0                                   NaN  \n",
       "1                           ['anxiety']  \n",
       "2                                   NaN  \n",
       "3                     ['travelblogger']  \n",
       "4  ['seasonalaffectivedisorder', 'SAD']  "
      ]
     },
     "execution_count": 3,
     "metadata": {},
     "output_type": "execute_result"
    }
   ],
   "source": [
    "data.head()"
   ]
  },
  {
   "cell_type": "markdown",
   "id": "bfce7704",
   "metadata": {},
   "source": [
    "### Then, we extract our column of interest, which is the tweet."
   ]
  },
  {
   "cell_type": "code",
   "execution_count": 4,
   "id": "3d62a26e",
   "metadata": {},
   "outputs": [],
   "source": [
    "tweets = data['text']"
   ]
  },
  {
   "cell_type": "markdown",
   "id": "4d0c8174",
   "metadata": {},
   "source": [
    "### Once we have the tweets, we pre-process the data to make it ready for analysis."
   ]
  },
  {
   "cell_type": "markdown",
   "id": "f4c7dc86",
   "metadata": {},
   "source": [
    "Initially, we convert everything to lowercase, and then we remove users, links, punctuation, double spaces, numbers, short words, emojis and stopwords.\n",
    "\n",
    "Then, we tokenize each word, splitting the sentences in separate words.\n",
    "\n",
    "Lasly, we convert each word into their lemmas (the form of a word under which it is registered in a dictionary)."
   ]
  },
  {
   "cell_type": "code",
   "execution_count": 5,
   "id": "9e60c710",
   "metadata": {},
   "outputs": [],
   "source": [
    "# list of commonly repeated words that do not add meanings\n",
    "my_stopwords = nltk.corpus.stopwords.words('english')\n",
    "repeated_words = ['ever', 'start', 'pre', '&amp', \n",
    "                  'amp', 'may', 'and', 'when',\n",
    "                  'what','who', 'why','how', \n",
    "                  'this', 'your', 'mine', 'their',\n",
    "                  'her', 'his', 'that', 'mental']\n",
    "\n",
    "for i in repeated_words:\n",
    "    my_stopwords.append(i)\n",
    "    \n",
    "tweets = tweets.apply(lambda x: ' '.join([word for word in x.split() if word not in (my_stopwords)]))\n",
    "tweets = array(tweets)\n",
    "    \n",
    "# list of common punctuation    \n",
    "my_punctuation = '!\"$%&\\'()*+,-./:;<=>?[\\\\]^_`’{|}~•@'\n",
    "\n",
    "# list of the majority of emojis\n",
    "emoj = re.compile(\"[\"  \n",
    "    u\"\\U0001F600-\\U0001F64F\" \n",
    "    u\"\\U0001F300-\\U0001F5FF\" \n",
    "    u\"\\U0001F680-\\U0001F6FF\"  \n",
    "    u\"\\U0001F1E0-\\U0001F1FF\"  \n",
    "    u\"\\U00002500-\\U00002BEF\"  \n",
    "    u\"\\U00002702-\\U000027B0\"\n",
    "    u\"\\U00002702-\\U000027B0\"\n",
    "    u\"\\U000024C2-\\U0001F251\"\n",
    "    u\"\\U0001f926-\\U0001f937\"\n",
    "    u\"\\U00010000-\\U0010ffff\"\n",
    "    u\"\\u2640-\\u2642\" \n",
    "    u\"\\u2600-\\u2B55\"\n",
    "    u\"\\u200d\"\n",
    "    u\"\\u23cf\"\n",
    "    u\"\\u23e9\"\n",
    "    u\"\\u231a\"\n",
    "    u\"\\ufe0f\"  \n",
    "    u\"\\u3030\"\n",
    "                  \"]+\", re.UNICODE) "
   ]
  },
  {
   "cell_type": "code",
   "execution_count": 6,
   "id": "ab518ac2",
   "metadata": {},
   "outputs": [],
   "source": [
    "def preprocessor(tweets):\n",
    "    \"\"\"\n",
    "    Removes unnecessary information from tweets,\n",
    "    and lemmatizes the tweets.\n",
    "\n",
    "    Input(s):\n",
    "    ------------------------------\n",
    "    tweets(array): all original tweets\n",
    "    \n",
    "    Output(s):\n",
    "    ------------------------------\n",
    "    tweets(array): cleaned up and lemmatized tweets\n",
    "    \"\"\"\n",
    "    tokenizer = RegexpTokenizer(r'\\w+')\n",
    "    for idx in range(len(tweets)):       \n",
    "        tweets[idx] = re.sub(r'http\\S+', '', tweets[idx]) # http links\n",
    "        tweets[idx] = re.sub(r'bit.ly/\\S+', '', tweets[idx]) # bitly links\n",
    "        tweets[idx] = tweets[idx].strip('[link]') # other links(i.e. gifs)\n",
    "        tweets[idx] = tweets[idx].lower()  # turn to lowercase\n",
    "        tweets[idx] = re.sub('(RT\\s@[A-Za-z]+[A-Za-z0-9-_]+)', '', tweets[idx]) # retweets\n",
    "        tweets[idx] = re.sub('(@[A-Za-z]+[A-Za-z0-9-_]+)', '', tweets[idx]) # tweeted at\n",
    "        tweets[idx] = re.sub ('#', '', tweets[idx]) # hashtags\n",
    "        tweets[idx] = re.sub(emoj, '', tweets[idx]) # emojis\n",
    "        tweets[idx] = re.sub('['+my_punctuation + ']+', ' ', tweets[idx]) # remove punctuation\n",
    "        tweets[idx] = re.sub('\\s+', ' ', tweets[idx]) # remove double spacing\n",
    "        tweets[idx] = tokenizer.tokenize(tweets[idx])   # split into words\n",
    "\n",
    "\n",
    "    # numbers (but not words with number)\n",
    "    tweets = [[token for token in tweet if not token.isdigit()] for tweet in tweets]\n",
    "    \n",
    "    # words that are only one character\n",
    "    tweets = [[token for token in tweet if len(token) > 3] for tweet in tweets]\n",
    "    \n",
    "    # lemmatize all words in documents\n",
    "    lemmatizer = WordNetLemmatizer()\n",
    "    tweets = [[lemmatizer.lemmatize(token) for token in tweet] for tweet in tweets]\n",
    " \n",
    "    return tweets"
   ]
  },
  {
   "cell_type": "code",
   "execution_count": 7,
   "id": "1c87ff96",
   "metadata": {},
   "outputs": [],
   "source": [
    "tweets = preprocessor(tweets)"
   ]
  },
  {
   "cell_type": "markdown",
   "id": "a9b20527",
   "metadata": {},
   "source": [
    "### We also create bi- and trigrams, and remove words that appear rarely. This is words that occurr frequently together, for example \"more_than, less_than\"."
   ]
  },
  {
   "cell_type": "code",
   "execution_count": 8,
   "id": "5649113b",
   "metadata": {},
   "outputs": [],
   "source": [
    "# add bigrams and trigrams to docs\n",
    "\n",
    "# only add bi/trigrams that appear > 10 times\n",
    "bigram = Phrases(tweets, min_count=10)\n",
    "trigram = Phrases(bigram[tweets])\n",
    "\n",
    "for idx in range(len(tweets)):\n",
    "    for token in bigram[tweets[idx]]:\n",
    "        if '_' in token:\n",
    "            tweets[idx].append(token)\n",
    "    for token in trigram[tweets[idx]]:\n",
    "        if '_' in token:\n",
    "            tweets[idx].append(token)\n",
    "\n",
    "dictionary = Dictionary(tweets)\n",
    "dictionary.filter_extremes(no_below=10, no_above=0.2)\n",
    "\n",
    "corpus = [dictionary.doc2bow(t) for t in tweets]"
   ]
  },
  {
   "cell_type": "markdown",
   "id": "29e9a629",
   "metadata": {},
   "source": [
    "### After being ready for analysis, we analyze this data with Latent Dirichlet Allocation model by assigning a random number of topics."
   ]
  },
  {
   "cell_type": "code",
   "execution_count": 9,
   "id": "7aa922f4",
   "metadata": {},
   "outputs": [
    {
     "name": "stdout",
     "output_type": "stream",
     "text": [
      "[(0, '0.099*\"really_help\" + 0.099*\"research_find\" + 0.066*\"acupuncture\" + 0.066*\"performance_always\" + 0.066*\"evidence_back\" + 0.066*\"beneficial_good\" + 0.034*\"always\" + 0.034*\"find\" + 0.034*\"back\" + 0.033*\"really\"'), (1, '0.098*\"million_case\" + 0.098*\"disorder_pandemic\" + 0.066*\"study_published\" + 0.065*\"document_world\" + 0.065*\"lancet_october\" + 0.065*\"wide_increase\" + 0.034*\"disorder\" + 0.034*\"study\" + 0.034*\"world\" + 0.033*\"pandemic\"'), (2, '0.020*\"therapy\" + 0.019*\"online\" + 0.017*\"online_mindfulness\" + 0.012*\"mindfulness\" + 0.011*\"help\" + 0.010*\"like\" + 0.008*\"depressiontreatment_depressionrecovery\" + 0.008*\"life\" + 0.008*\"people\" + 0.008*\"feel\"'), (3, '0.141*\"live_podcast\" + 0.094*\"quote_radio\" + 0.050*\"live\" + 0.050*\"quote\" + 0.049*\"podcast\" + 0.047*\"lgbtq\" + 0.047*\"radio\" + 0.047*\"iheart\" + 0.047*\"irving_iheart\" + 0.047*\"lgbtq_kyrie\"'), (4, '0.031*\"health\" + 0.017*\"mentalhealthawareness\" + 0.016*\"mental_health\" + 0.014*\"help\" + 0.013*\"mentalhealthmatters\" + 0.011*\"stress\" + 0.010*\"ptsd\" + 0.010*\"life\" + 0.009*\"selfcare\" + 0.009*\"love\"')]\n"
     ]
    }
   ],
   "source": [
    "num_topics = 5 # number of topics\n",
    "\n",
    "temp = dictionary[0] \n",
    "id2word = dictionary.id2token\n",
    "\n",
    "lda_model = LdaModel(corpus=corpus, id2word=id2word, chunksize=len(data)/5, \\\n",
    "                       alpha='auto', eta='auto', \\\n",
    "                       iterations=20, num_topics=num_topics, \\\n",
    "                       passes=20, eval_every=1)\n",
    "\n",
    "# show keywords\n",
    "print(lda_model.print_topics())"
   ]
  },
  {
   "cell_type": "markdown",
   "id": "8e92abed",
   "metadata": {},
   "source": [
    "### We check the accuracy of our model with coherence scores (through CV, and UMass)."
   ]
  },
  {
   "cell_type": "markdown",
   "id": "a4e8db40",
   "metadata": {},
   "source": [
    "High values of c_v and low values of UMass indicate higher accuracy."
   ]
  },
  {
   "cell_type": "code",
   "execution_count": 10,
   "id": "75b031d6",
   "metadata": {},
   "outputs": [
    {
     "name": "stdout",
     "output_type": "stream",
     "text": [
      "\n",
      "Coherence Score:  0.6934296832827711\n"
     ]
    }
   ],
   "source": [
    "# coherence score (c_v)\n",
    "coherence_model_cv = CoherenceModel(model=lda_model, texts=tweets, dictionary=dictionary, coherence='c_v')\n",
    "coherence_score = coherence_model_cv.get_coherence()\n",
    "print('\\nCoherence Score: ', coherence_score)"
   ]
  },
  {
   "cell_type": "code",
   "execution_count": 11,
   "id": "a533b8a8",
   "metadata": {},
   "outputs": [
    {
     "name": "stdout",
     "output_type": "stream",
     "text": [
      "\n",
      "Coherence Score:  -4.41353716313626\n"
     ]
    }
   ],
   "source": [
    "coherence_model_cv = CoherenceModel(model=lda_model, texts=tweets, dictionary=dictionary, coherence='u_mass')\n",
    "coherence_score = coherence_model_cv.get_coherence()\n",
    "print('\\nCoherence Score: ', coherence_score)"
   ]
  },
  {
   "cell_type": "markdown",
   "id": "4a2d18d7",
   "metadata": {},
   "source": [
    "### To determine the ideal number of topics, we run a simulation with different number of topics and keep track of the coherence scores."
   ]
  },
  {
   "cell_type": "code",
   "execution_count": 12,
   "id": "5fc6e140",
   "metadata": {},
   "outputs": [],
   "source": [
    "def simulate_coherence_values(dictionary, corpus, texts, limit=11):\n",
    "    \"\"\"\n",
    "    Simulate c_v for multiple LDA models with different number of topics.\n",
    "\n",
    "    Input:\n",
    "    ----------\n",
    "    dictionary (dict) : gensim dictionary\n",
    "    corpus (list): gensim corpus\n",
    "    texts (list): list of input texts\n",
    "    limit (int): maximum number of topics\n",
    "\n",
    "    Output:\n",
    "    -------\n",
    "     coherence_scores : coherence scores corresponding to the LDA model with respective number of topics\n",
    "    \"\"\"\n",
    "    coherence_scores = []\n",
    "    models = []\n",
    "    for num_topics in range(2,limit):\n",
    "        model = LdaModel(corpus=corpus, id2word=dictionary, num_topics=num_topics)\n",
    "        coherencemodel = CoherenceModel(model=model, texts=texts, dictionary=dictionary, coherence='c_v')\n",
    "        coherence_scores.append(coherencemodel.get_coherence())\n",
    "        models.append(model)\n",
    "\n",
    "    return coherence_scores, models"
   ]
  },
  {
   "cell_type": "code",
   "execution_count": 13,
   "id": "34a8497a",
   "metadata": {},
   "outputs": [],
   "source": [
    "coherence_values, models = simulate_coherence_values(dictionary=dictionary, corpus=corpus, texts=tweets)"
   ]
  },
  {
   "cell_type": "code",
   "execution_count": 14,
   "id": "495abbba",
   "metadata": {},
   "outputs": [
    {
     "data": {
      "text/plain": [
       "[0.5525151283820398,\n",
       " 0.9671766920776551,\n",
       " 0.8333867779876124,\n",
       " 0.7249608640926901,\n",
       " 0.5998468702100527,\n",
       " 0.6577556119687193,\n",
       " 0.49246305351926356,\n",
       " 0.5524409079190951,\n",
       " 0.5276854788294896]"
      ]
     },
     "execution_count": 14,
     "metadata": {},
     "output_type": "execute_result"
    }
   ],
   "source": [
    "coherence_values"
   ]
  },
  {
   "cell_type": "code",
   "execution_count": 15,
   "id": "9fdfb289",
   "metadata": {},
   "outputs": [],
   "source": [
    "# pick the best model, with the highest coherence score\n",
    "best_model = models[(coherence_values.index(max(coherence_values)))]"
   ]
  },
  {
   "cell_type": "markdown",
   "id": "183aeac3",
   "metadata": {},
   "source": [
    "### We plot the results of the simulation and find out that the ideal number of topics is 4."
   ]
  },
  {
   "cell_type": "code",
   "execution_count": 16,
   "id": "ef508d95",
   "metadata": {},
   "outputs": [
    {
     "data": {
      "image/png": "[encoded data removed]",
      "text/plain": [
       "<Figure size 432x288 with 1 Axes>"
      ]
     },
     "metadata": {},
     "output_type": "display_data"
    }
   ],
   "source": [
    "limit=11; start=2; \n",
    "x = range(start, limit)\n",
    "plt.plot(x, coherence_values)\n",
    "plt.title('Optimal Number of Topics (Depression Data)')\n",
    "plt.xlabel(\"Num Topics\")\n",
    "plt.ylabel(\"Coherence score\")\n",
    "plt.legend((\"coherence_values\"), loc='best')\n",
    "plt.show()"
   ]
  },
  {
   "cell_type": "markdown",
   "id": "ddbbb6e8",
   "metadata": {},
   "source": [
    "### Once we have the weights and frequency of topic words, we are able to visualize the topics."
   ]
  },
  {
   "cell_type": "code",
   "execution_count": 17,
   "id": "2734bb2b",
   "metadata": {},
   "outputs": [
    {
     "data": {
      "text/html": [
       "\n",
       "<link rel=\"stylesheet\" type=\"text/css\" href=\"https://cdn.jsdelivr.net/gh/bmabey/pyLDAvis@3.2.2/pyLDAvis/js/ldavis.v1.0.0.css\">\n",
       "\n",
       "\n",
       "<div id=\"ldavis_el2060422203497602808741985511\"></div>\n",
       "<script type=\"text/javascript\">\n",
       "\n",
       "var ldavis_el2060422203497602808741985511_data = {\"mdsDat\": {\"x\": [-0.35938439888372026, 0.2577216857592632, 0.10166271312445697], \"y\": [-0.043705332618600615, -0.12911924923609583, 0.1728245818546965], \"topics\": [1, 2, 3], \"cluster\": [1, 1, 1], \"Freq\": [38.9979662221238, 34.09837489252015, 26.903658885356048]}, \"tinfo\": {\"Term\": [\"million_case\", \"disorder_pandemic\", \"really_help\", \"research_find\", \"wide_increase\", \"lancet_october\", \"document_world\", \"study_published\", \"million\", \"pandemic\", \"acupuncture\", \"evidence_back\", \"beneficial_good\", \"performance_always\", \"published\", \"wide\", \"october\", \"document\", \"lancet\", \"help\", \"document_world_wide_increase\", \"study_published_lancet_october\", \"research\", \"find\", \"really\", \"good\", \"always\", \"back\", \"world\", \"case\", \"research_find\", \"beneficial_good\", \"evidence_back\", \"performance_always\", \"acupuncture\", \"really_help\", \"reduces\", \"ssri\", \"beneficial_good_evidence_back\", \"enhances\", \"enhances_ssri\", \"enhances_ssri_performance_always\", \"performance\", \"evidence\", \"find\", \"always\", \"research\", \"really\", \"good\", \"back\", \"online_psychotherapy\", \"talk_psychotherapist\", \"mentalillness_mhsm\", \"poetry_heartbreak\", \"going_hurt\", \"life_lust\", \"poem_poetrycommunity\", \"goal_relationship\", \"beneficial\", \"reason_keep\", \"onlinetherapy_onlinetherapist\", \"help\", \"onlinetherapist\", \"please_retweet\", \"talk\", \"online\", \"therapy\", \"study_published\", \"disorder_pandemic\", \"million\", \"pandemic\", \"million_case\", \"show_loved\", \"self_care\", \"bipolar_mhsm\", \"care_have\", \"sign_symptom\", \"btslovemyself\", \"postpartum\", \"take_step\", \"disorder_pandemic\", \"latest\", \"retweet_domesticabuse\", \"sometimes_smallest\", \"show_loved_care_have\", \"document\", \"book_tiptoe\", \"end_biggest\", \"right_direction\", \"dark\", \"related\", \"build\", \"depressive_disorder\", \"online_survey\", \"letstalk\", \"selfconfidence\", \"document_world\", \"lancet_october\", \"wide_increase\", \"document_world_wide_increase\", \"study_published_lancet_october\", \"freepj\", \"strapup_freepj\", \"irving\", \"live_podcast\", \"increase\", \"iheart\", \"disorder\", \"radio\", \"podcast\", \"lgbtq_kyrie_irving_iheart\", \"quote_radio\", \"kyrie\", \"irving_iheart\", \"lgbtq\", \"mentalhealthmatters\", \"major\", \"study\", \"world\", \"case\", \"study_published\", \"lancet\", \"october\", \"live\", \"wide\", \"quote\", \"published\", \"tip_socialanxiety\", \"mental_health\", \"introvert_mentalhealthawareness\", \"shyness_anxietyhelp\", \"introvert\", \"help_with\", \"introvertlife\", \"introvertmemes\", \"introvertmemes_infj\", \"introvertproblems\", \"introvertproblems_introvertlife\", \"introvertproblems_introvertlife_introvert_mentalhealthawareness\", \"shyness\", \"socialanxietyproblems\", \"socialanxietyproblems_mentalillness\", \"socialanxietyproblems_mentalillness_introvertmemes_infj\", \"infj\", \"could_conversation\", \"wide\", \"without_drug\", \"treatment_resistant\", \"wait_hell\", \"business\", \"mindfulness_wellness\", \"anxietyhelp\", \"side_effect\", \"socialanxiety\", \"looking_online\", \"depressiontreatment_depressionrecovery\", \"october\", \"mentalhealthawareness\", \"lancet\", \"study_published\", \"health\", \"world\", \"case\", \"study\", \"online_mindfulness\", \"major\", \"mentalhealthmatters\", \"with\", \"stress\", \"disorder\", \"mindfulness\", \"increase\", \"therapy\", \"mentalillness\", \"tip\", \"contact_learn\", \"friend\", \"life\", \"treatment\", \"online\", \"document_world\", \"lancet_october\", \"wide_increase\", \"document_world_wide_increase\", \"study_published_lancet_october\", \"disorder_pandemic\", \"document\", \"people\"], \"Freq\": [10776.0, 10359.0, 5728.0, 5586.0, 6519.0, 6519.0, 6519.0, 5336.0, 3624.0, 3638.0, 3726.0, 3723.0, 3723.0, 3723.0, 2464.0, 2494.0, 2590.0, 3390.0, 2596.0, 2982.0, 3260.0, 3260.0, 2159.0, 2144.0, 2166.0, 2164.0, 2104.0, 2103.0, 2752.0, 2708.0, 5584.499564332801, 3721.5387463086954, 3721.5387463086954, 3721.5387463086954, 3725.032698856057, 5725.765145878189, 1906.6767124700673, 1908.8974597733786, 1861.5548814597516, 1861.5548814597516, 1861.5548814597516, 1861.5548814597516, 1863.312882411403, 1941.8389074263785, 2142.1050839930767, 2100.943723482141, 2155.1262441072017, 2159.3817698038474, 2156.1676409907654, 2093.7668031848434, 228.49898063192302, 141.10670288029235, 112.97884178176965, 120.99236831624964, 160.61283968750882, 101.85479664789841, 114.22658872340091, 109.95367377318027, 1801.020405585008, 82.62357868122633, 452.68651433881047, 2846.651635858455, 232.00261603789693, 143.83486642700808, 196.01429554155325, 310.57007425873206, 224.574068345537, 229.84769041391647, 180.26864375125362, 3620.0659683071704, 3630.0365808315228, 10679.206110571233, 67.03923372748515, 40.18976686351155, 44.5103827998322, 31.887616357837437, 49.60293719904732, 22.89955024085264, 26.775929474422217, 35.48484047855654, 9321.214011884882, 20.071297799430784, 28.429678466096153, 28.421667952201723, 16.2236083739742, 2939.65391695125, 19.168378912539097, 19.13881214935478, 19.12980081667839, 22.650887400832374, 16.182679840340413, 14.10218469276728, 11.442862534462993, 11.21747616294596, 12.569162191669047, 12.292452643921424, 5459.126613212706, 5459.126613212706, 5459.126613212706, 2729.8669530429806, 2729.8669530429806, 81.99635746019109, 81.84749904365512, 81.37941709024155, 213.24948773003314, 1792.321670551142, 77.53305449285332, 1793.239966374527, 77.67046592070692, 97.72380645482413, 76.58178119514764, 133.06951528631373, 75.95599398352942, 75.47122511101861, 78.54176884318548, 1326.758879084561, 1180.3151746874785, 860.079102511814, 788.3855025751469, 778.2951564517231, 886.6239399567523, 483.490234362263, 354.34930339536913, 87.36539944338436, 151.19539379189717, 77.98472698188147, 2442.0515124806416, 179.55517114369917, 177.07519725010937, 119.43580340832439, 119.43580340832439, 130.73341916943872, 64.29584787331463, 59.2821040007212, 59.2821040007212, 59.2821040007212, 59.2821040007212, 59.2821040007212, 59.2821040007212, 59.2821040007212, 59.2821040007212, 59.2821040007212, 59.2821040007212, 60.90864593726528, 43.62646116814501, 2341.0273051581858, 39.086793343688875, 29.53445744325495, 27.52021279208396, 30.511778013465992, 60.973099914731826, 61.79066156020348, 24.940738657151886, 66.31758870032198, 33.8270923425273, 147.1693522984596, 2231.4113357297024, 229.37722633156713, 2104.203339597529, 4220.042495389901, 330.71441541359866, 1952.313666953394, 1919.4419257879822, 1941.0769462844305, 293.8113140699925, 1662.7638584817666, 1712.5755434906303, 99.65768918069274, 133.956718487389, 1298.754713684599, 228.59639813681466, 1241.4042462896932, 300.9813233836011, 160.40984423817022, 86.79527095043582, 110.1496896424743, 92.93018253547848, 196.79746387319966, 141.29486480461293, 247.20317625284528, 1052.82910845915, 1052.82910845915, 1052.82910845915, 526.61345151084, 526.61345151084, 857.8077973076471, 449.26197358602445, 151.35375079986113], \"Total\": [10776.0, 10359.0, 5728.0, 5586.0, 6519.0, 6519.0, 6519.0, 5336.0, 3624.0, 3638.0, 3726.0, 3723.0, 3723.0, 3723.0, 2464.0, 2494.0, 2590.0, 3390.0, 2596.0, 2982.0, 3260.0, 3260.0, 2159.0, 2144.0, 2166.0, 2164.0, 2104.0, 2103.0, 2752.0, 2708.0, 5586.238190341224, 3723.0307870692077, 3723.0307870692077, 3723.0307870692077, 3726.5351548625117, 5728.2675837780835, 1907.7817414939514, 1910.0777743747346, 1862.8041249179757, 1862.8041249179757, 1862.8041249179757, 1862.8041249179757, 1864.5644115912833, 1943.2939587364335, 2144.504341893122, 2104.676858335537, 2159.027223100906, 2166.870286141485, 2164.6509019543355, 2103.3749392273753, 229.88550223385482, 142.173440173355, 114.07801599810476, 122.21897877856932, 162.24637800526722, 102.92768692912507, 115.52856023388225, 111.21783945805883, 1822.9618418996488, 83.65668126113574, 462.4536391378171, 2982.849767631228, 240.2472735493404, 163.97029431246966, 263.893716194022, 571.9225618780588, 537.1183971083723, 5336.51412576057, 10359.290452943782, 3624.669939755127, 3638.122301834524, 10776.222357914494, 69.29197981889179, 42.335426571661735, 46.906598413218724, 33.98935589051784, 54.34319828614601, 25.253349912121347, 29.542140224889867, 39.40352118897349, 10359.290452943782, 22.60589661620376, 32.020695651253966, 32.04864547653374, 18.313303635891867, 3390.6036883557376, 22.20162677354194, 22.22768524032058, 22.242417365929196, 26.366904845768662, 18.883677955402366, 16.755611422783964, 13.597048152313182, 13.363473864506403, 14.990336825231086, 14.671180685865428, 6519.256764226319, 6519.256764226319, 6519.256764226319, 3260.933546583125, 3260.933546583125, 102.5496135507235, 102.59382750951936, 102.35202066937242, 292.70794521380543, 3045.6773840023625, 101.10605830972636, 3115.57364887087, 101.73668412648148, 131.14668935674294, 101.45415141252536, 193.0593193263549, 100.78018429770952, 100.64953504547772, 105.9913551060549, 3089.0068299462437, 2850.6539570341665, 2823.859759266893, 2752.8273125943547, 2708.40263087208, 5336.51412576057, 2596.5654614311175, 2590.645837354742, 146.72123079105535, 2494.02068150044, 133.09368315632224, 2464.3490394796845, 181.98176846527392, 180.23118088325486, 121.82858870890193, 121.82858870890193, 134.23886778915363, 66.81747914543875, 61.64496825139717, 61.64496825139717, 61.64496825139717, 61.64496825139717, 61.64496825139717, 61.64496825139717, 61.64496825139717, 61.64496825139717, 61.64496825139717, 61.64496825139717, 63.41883763823801, 45.898927493764326, 2494.02068150044, 41.805454282779486, 31.924242841240126, 29.822837078053787, 33.11056347696615, 66.30359591365541, 67.46792470493952, 27.250948401911362, 72.55927818088045, 37.215061367960914, 162.1629889675574, 2590.645837354742, 261.99783880491464, 2596.5654614311175, 5336.51412576057, 404.82539863724656, 2752.8273125943547, 2708.40263087208, 2823.859759266893, 383.5537906098084, 2850.6539570341665, 3089.0068299462437, 117.69092706722682, 172.06863542308324, 3115.57364887087, 342.88912252213686, 3045.6773840023625, 537.1183971083723, 233.71312544611885, 102.76827287564062, 143.10577618010868, 114.66331673440598, 352.45153283324447, 227.60659206751353, 571.9225618780588, 6519.256764226319, 6519.256764226319, 6519.256764226319, 3260.933546583125, 3260.933546583125, 10359.290452943782, 3390.6036883557376, 281.54314962843085], \"Category\": [\"Default\", \"Default\", \"Default\", \"Default\", \"Default\", \"Default\", \"Default\", \"Default\", \"Default\", \"Default\", \"Default\", \"Default\", \"Default\", \"Default\", \"Default\", \"Default\", \"Default\", \"Default\", \"Default\", \"Default\", \"Default\", \"Default\", \"Default\", \"Default\", \"Default\", \"Default\", \"Default\", \"Default\", \"Default\", \"Default\", \"Topic1\", \"Topic1\", \"Topic1\", \"Topic1\", \"Topic1\", \"Topic1\", \"Topic1\", \"Topic1\", \"Topic1\", \"Topic1\", \"Topic1\", \"Topic1\", \"Topic1\", \"Topic1\", \"Topic1\", \"Topic1\", \"Topic1\", \"Topic1\", \"Topic1\", \"Topic1\", \"Topic1\", \"Topic1\", \"Topic1\", \"Topic1\", \"Topic1\", \"Topic1\", \"Topic1\", \"Topic1\", \"Topic1\", \"Topic1\", \"Topic1\", \"Topic1\", \"Topic1\", \"Topic1\", \"Topic1\", \"Topic1\", \"Topic1\", \"Topic1\", \"Topic1\", \"Topic2\", \"Topic2\", \"Topic2\", \"Topic2\", \"Topic2\", \"Topic2\", \"Topic2\", \"Topic2\", \"Topic2\", \"Topic2\", \"Topic2\", \"Topic2\", \"Topic2\", \"Topic2\", \"Topic2\", \"Topic2\", \"Topic2\", \"Topic2\", \"Topic2\", \"Topic2\", \"Topic2\", \"Topic2\", \"Topic2\", \"Topic2\", \"Topic2\", \"Topic2\", \"Topic2\", \"Topic2\", \"Topic2\", \"Topic2\", \"Topic2\", \"Topic2\", \"Topic2\", \"Topic2\", \"Topic2\", \"Topic2\", \"Topic2\", \"Topic2\", \"Topic2\", \"Topic2\", \"Topic2\", \"Topic2\", \"Topic2\", \"Topic2\", \"Topic2\", \"Topic2\", \"Topic2\", \"Topic2\", \"Topic2\", \"Topic2\", \"Topic2\", \"Topic2\", \"Topic2\", \"Topic2\", \"Topic2\", \"Topic2\", \"Topic2\", \"Topic3\", \"Topic3\", \"Topic3\", \"Topic3\", \"Topic3\", \"Topic3\", \"Topic3\", \"Topic3\", \"Topic3\", \"Topic3\", \"Topic3\", \"Topic3\", \"Topic3\", \"Topic3\", \"Topic3\", \"Topic3\", \"Topic3\", \"Topic3\", \"Topic3\", \"Topic3\", \"Topic3\", \"Topic3\", \"Topic3\", \"Topic3\", \"Topic3\", \"Topic3\", \"Topic3\", \"Topic3\", \"Topic3\", \"Topic3\", \"Topic3\", \"Topic3\", \"Topic3\", \"Topic3\", \"Topic3\", \"Topic3\", \"Topic3\", \"Topic3\", \"Topic3\", \"Topic3\", \"Topic3\", \"Topic3\", \"Topic3\", \"Topic3\", \"Topic3\", \"Topic3\", \"Topic3\", \"Topic3\", \"Topic3\", \"Topic3\", \"Topic3\", \"Topic3\", \"Topic3\", \"Topic3\", \"Topic3\", \"Topic3\", \"Topic3\", \"Topic3\", \"Topic3\", \"Topic3\", \"Topic3\", \"Topic3\"], \"logprob\": [30.0, 29.0, 28.0, 27.0, 26.0, 25.0, 24.0, 23.0, 22.0, 21.0, 20.0, 19.0, 18.0, 17.0, 16.0, 15.0, 14.0, 13.0, 12.0, 11.0, 10.0, 9.0, 8.0, 7.0, 6.0, 5.0, 4.0, 3.0, 2.0, 1.0, -2.6352, -3.041, -3.041, -3.041, -3.0401, -2.6102, -3.7098, -3.7086, -3.7337, -3.7337, -3.7337, -3.7337, -3.7328, -3.6915, -3.5934, -3.6128, -3.5873, -3.5853, -3.5868, -3.6162, -5.8314, -6.3134, -6.5357, -6.4672, -6.1839, -6.6394, -6.5247, -6.5629, -3.7668, -6.8486, -5.1477, -3.309, -5.8162, -6.2942, -5.9847, -5.5245, -5.8487, -5.8255, -6.0685, -2.9344, -2.9317, -1.8526, -6.9234, -7.435, -7.3329, -7.6664, -7.2246, -7.9975, -7.8412, -7.5596, -1.9886, -8.1294, -7.7812, -7.7815, -8.3422, -3.1426, -8.1754, -8.1769, -8.1774, -8.0085, -8.3447, -8.4823, -8.6913, -8.7112, -8.5974, -8.6197, -2.5236, -2.5236, -2.5236, -3.2166, -3.2166, -6.722, -6.7238, -6.7295, -5.7662, -3.6374, -6.778, -3.6369, -6.7762, -6.5465, -6.7903, -6.2378, -6.7985, -6.8049, -6.765, -3.9382, -4.0551, -4.3716, -4.4587, -4.4716, -4.3412, -4.9476, -5.2584, -6.6586, -6.1101, -6.7721, -3.0911, -5.7012, -5.7151, -6.1089, -6.1089, -6.0185, -6.7282, -6.8094, -6.8094, -6.8094, -6.8094, -6.8094, -6.8094, -6.8094, -6.8094, -6.8094, -6.8094, -6.7823, -7.116, -3.1333, -7.2259, -7.5061, -7.5767, -7.4736, -6.7812, -6.7679, -7.6752, -6.6972, -7.3704, -5.9001, -3.1813, -5.4563, -3.24, -2.5441, -5.0904, -3.3149, -3.3319, -3.3207, -5.2087, -3.4754, -3.4459, -6.2899, -5.9942, -3.7225, -5.4597, -3.7677, -5.1846, -5.8139, -6.4281, -6.1898, -6.3598, -5.6095, -5.9408, -5.3815, -3.9324, -3.9324, -3.9324, -4.6252, -4.6252, -4.1373, -4.7841, -5.872], \"loglift\": [30.0, 29.0, 28.0, 27.0, 26.0, 25.0, 24.0, 23.0, 22.0, 21.0, 20.0, 19.0, 18.0, 17.0, 16.0, 15.0, 14.0, 13.0, 12.0, 11.0, 10.0, 9.0, 8.0, 7.0, 6.0, 5.0, 4.0, 3.0, 2.0, 1.0, 0.9413, 0.9413, 0.9413, 0.9413, 0.9413, 0.9412, 0.9411, 0.941, 0.941, 0.941, 0.941, 0.941, 0.941, 0.9409, 0.9405, 0.9399, 0.9399, 0.9382, 0.9377, 0.9371, 0.9356, 0.9341, 0.932, 0.9316, 0.9315, 0.9312, 0.9303, 0.9302, 0.9296, 0.9292, 0.9203, 0.8949, 0.9067, 0.8106, 0.6443, 0.3311, 0.0696, -2.2033, -3.1095, 1.0746, 1.0737, 1.0669, 1.0429, 1.0239, 1.0235, 1.0121, 0.9847, 0.9781, 0.9776, 0.9712, 0.9703, 0.957, 0.957, 0.9558, 0.9548, 0.9332, 0.929, 0.9263, 0.9252, 0.924, 0.9216, 0.9035, 0.9034, 0.9009, 0.8998, 0.899, 0.8984, 0.8984, 0.8984, 0.8982, 0.8982, 0.8522, 0.85, 0.8466, 0.7592, 0.5457, 0.8105, 0.5235, 0.806, 0.7817, 0.7947, 0.7038, 0.7931, 0.788, 0.7762, 0.2308, 0.1942, -0.1129, -0.1745, -0.1711, -0.719, -0.605, -0.9135, 0.5575, -1.7272, 0.5414, 1.3038, 1.2995, 1.2952, 1.2931, 1.2931, 1.2864, 1.2744, 1.2738, 1.2738, 1.2738, 1.2738, 1.2738, 1.2738, 1.2738, 1.2738, 1.2738, 1.2738, 1.2725, 1.2621, 1.2496, 1.2457, 1.2351, 1.2326, 1.2312, 1.2291, 1.225, 1.2243, 1.223, 1.2175, 1.2159, 1.1636, 1.1799, 1.1027, 1.0782, 1.1107, 0.9693, 0.9686, 0.938, 1.0464, 0.7738, 0.7231, 1.1466, 1.0625, 0.4379, 0.9075, 0.4154, 0.7337, 0.9365, 1.144, 1.0512, 1.1028, 0.7302, 0.8361, 0.4741, -0.5104, -0.5104, -0.5104, -0.5104, -0.5104, -1.1784, -0.7082, 0.6922]}, \"token.table\": {\"Topic\": [1, 2, 3, 1, 2, 3, 1, 2, 3, 1, 2, 3, 1, 2, 3, 1, 2, 3, 1, 2, 3, 1, 2, 1, 2, 1, 2, 3, 1, 2, 3, 1, 2, 3, 1, 2, 1, 2, 3, 1, 2, 3, 1, 2, 3, 1, 2, 3, 1, 2, 3, 1, 2, 1, 2, 3, 1, 2, 3, 1, 2, 3, 1, 2, 3, 1, 2, 3, 1, 2, 1, 2, 3, 1, 2, 3, 1, 2, 3, 1, 2, 3, 1, 2, 3, 1, 2, 3, 1, 2, 3, 1, 2, 3, 1, 2, 1, 2, 3, 1, 2, 3, 1, 2, 3, 1, 2, 3, 1, 2, 3, 1, 2, 3, 1, 2, 3, 1, 2, 3, 1, 2, 3, 1, 2, 3, 1, 2, 3, 1, 2, 3, 1, 2, 3, 1, 2, 3, 1, 2, 3, 1, 2, 3, 1, 2, 3, 1, 2, 3, 1, 2, 3, 1, 2, 3, 1, 2, 3, 1, 2, 3, 1, 2, 1, 2, 3, 1, 2, 3, 1, 2, 3, 1, 2, 1, 2, 3, 1, 2, 3, 1, 2, 3, 1, 2, 3, 1, 2, 3, 1, 2, 3, 1, 2, 3, 1, 2, 3, 1, 2, 1, 2, 3, 1, 2, 3, 1, 2, 3, 1, 2, 3, 1, 2, 3, 1, 2, 3, 1, 2, 3, 1, 2, 3, 1, 2, 1, 2, 3, 1, 2, 3, 1, 2, 3, 1, 2, 3, 1, 2, 3, 1, 2, 3, 1, 2, 3, 1, 2, 3, 1, 2, 1, 2, 1, 2, 3, 1, 2, 3, 1, 2, 3, 1, 2, 3, 1, 2, 3, 1, 2, 3, 1, 2, 3, 1, 2, 1, 2, 1, 2, 1, 2, 3, 1, 2, 3, 1, 2, 1, 2, 1, 2, 1, 2, 1, 2, 1, 2, 1, 2, 3, 1, 2, 3, 1, 2, 3, 1, 2, 3, 1, 2, 3, 1, 2, 3, 1, 2, 3, 1, 2, 3, 1, 2, 1, 2, 1, 2, 3, 1, 2, 3, 1, 2, 3, 1, 2, 3, 1, 2, 3, 1, 2, 3, 1, 2, 3, 1, 2, 1, 2, 3, 1, 2, 3, 1, 2, 3, 1, 2, 3, 1, 2, 3, 1, 2, 3, 1, 2, 3, 1, 2, 3, 1, 2, 3, 1, 2, 3, 1, 2, 3], \"Freq\": [0.9995880476639248, 0.00026834578460776506, 0.00026834578460776506, 0.998253005766194, 0.00047513232068833604, 0.0009502646413766721, 0.07410929003473461, 0.014821858006946924, 0.9189551964307093, 0.9955429062824058, 0.0009508528235744086, 0.0038034112942976345, 0.987952659570338, 0.0005485578342978001, 0.011519714520253802, 0.9997231322736336, 0.000268598369767231, 0.000268598369767231, 0.999568325565088, 0.0005368250942884468, 0.0005368250942884468, 0.04263792446387204, 0.9593533004371209, 0.1351252334164608, 0.8557931449709184, 0.07919741368807552, 0.9107702574128685, 0.03959870684403776, 0.11936299723926742, 0.8355409806748719, 0.05968149861963371, 0.0604036835975724, 0.0302018417987862, 0.9362570957623723, 0.058841950593066364, 0.9414712094890618, 0.004061434542491972, 0.2872541885507959, 0.7085357170038268, 0.2096351440227185, 0.02096351440227185, 0.7686621947499678, 0.04357400290609652, 0.02178700145304826, 0.9586280639341234, 0.11377899747991989, 0.8723056473460524, 0.037926332493306625, 0.08633289315357195, 0.006166635225255139, 0.9064953781125055, 0.1470907492270484, 0.8089991207487662, 0.007703236291235791, 0.5754959445910739, 0.41693766426313716, 0.017375707421047326, 0.8997720492865674, 0.08282420537365892, 0.0005898654587289421, 0.8671022243315448, 0.1324247954846475, 0.0010737420312100154, 0.8373653926250677, 0.16152147983773515, 0.0012266425987709209, 0.8371835736611535, 0.16161016238806883, 0.1349668203218057, 0.8547898620381027, 0.999568325565088, 0.0005368250942884468, 0.0005368250942884468, 0.999568325565088, 0.0005368250942884468, 0.0005368250942884468, 0.999568325565088, 0.0005368250942884468, 0.0005368250942884468, 0.9993341415329285, 0.0005145901861652567, 0.0005145901861652567, 0.9997231322736336, 0.000268598369767231, 0.000268598369767231, 0.9988322047924085, 0.0004663082188573336, 0.0004663082188573336, 0.01950275511287765, 0.7996129596279836, 0.17552479601589885, 0.17442370035680976, 0.017442370035680978, 0.8110702066591654, 0.9890499629916107, 0.008991363299923734, 0.992317991806099, 0.006163465787615522, 0.006163465787615522, 0.9960035579194201, 0.0013859047651939983, 0.0027718095303879966, 0.16797365044018153, 0.014821204450604255, 0.8176364455250014, 0.9544563829176316, 0.0053639979370151405, 0.04022998452761355, 0.029932287562760118, 0.014966143781380059, 0.9578332020083238, 0.01978120830181351, 0.7714671237707269, 0.20770268716904186, 0.003940010213501553, 0.5883748585495653, 0.40746272291295227, 0.03153637112380805, 0.015768185561904024, 0.9618593192761454, 0.02234822186307502, 0.0074494072876916725, 0.9758723546876091, 0.01641650799040949, 0.008208253995204745, 0.9767822254293647, 0.03244384832584727, 0.016221924162923635, 0.9570935256124944, 0.03244384832584727, 0.016221924162923635, 0.9570935256124944, 0.03244384832584727, 0.016221924162923635, 0.9570935256124944, 0.03244384832584727, 0.016221924162923635, 0.9570935256124944, 0.03244384832584727, 0.016221924162923635, 0.9570935256124944, 0.03244384832584727, 0.016221924162923635, 0.9570935256124944, 0.019540405620916825, 0.7913864276471314, 0.18563385339870983, 0.029806397005654055, 0.7451599251413514, 0.21858024470812973, 0.029767756636938224, 0.7541165014691017, 0.21829688200421363, 0.003466117120359284, 0.18601495212594824, 0.8103011579151037, 0.0010737420312100154, 0.8373653926250677, 0.16152147983773515, 0.08847249166690485, 0.8847249166690486, 0.044236245833452426, 0.1334192835903251, 0.8672253433371132, 0.028304195158163622, 0.7453438058316421, 0.23586829298469683, 0.029570007320859862, 0.7589635212354031, 0.21684672035297234, 0.38870592758868455, 0.05107085179997315, 0.5589421002552617, 0.9909870030425937, 0.009715558853358761, 0.06815646206131495, 0.5929612199334402, 0.3339666641004433, 0.017081873183687594, 0.7276877976250914, 0.2562280977553139, 0.08061252325604792, 0.02687084108534931, 0.9136085969018766, 0.0028063735972791437, 0.4139401055986737, 0.583374911534402, 0.011096858990762005, 0.005548429495381002, 0.9820720206824375, 0.0954206344374282, 0.030534603019977024, 0.8740530114468423, 0.01618643232357959, 0.4295879138678023, 0.5545471714058368, 0.2995124893665336, 0.012836249544280011, 0.6845999756949339, 0.9905501863030063, 0.008765930852238993, 0.0005517743775961887, 0.9987116234491016, 0.0008276615663942831, 0.001020765870882495, 0.9909780668321966, 0.007980533172354051, 0.3149706214230448, 0.017498367856835822, 0.6678543732025672, 0.07541069124684134, 0.01508213824936827, 0.9200104332114645, 0.0019300206643087124, 0.13664546303305683, 0.8611752204145475, 0.5437799113550432, 0.024478838453281686, 0.4318766498543269, 0.2190044840032717, 0.01564317742880512, 0.7665156940114509, 0.9917980811511256, 0.004349991583996165, 0.004349991583996165, 0.1496616838015474, 0.8231392609085108, 0.965671728850456, 0.016649512566387175, 0.016649512566387175, 0.9795576500264066, 0.01513665242866412, 0.004324757836761177, 0.0008246011956462402, 0.9977674467319506, 0.001374335326077067, 0.3836001697875938, 0.07814077532710244, 0.5363298670178395, 0.9991609774478383, 0.000536318291705764, 0.000536318291705764, 0.9997231322736336, 0.000268598369767231, 0.000268598369767231, 0.8782078522441796, 0.06708532204643039, 0.05488799076526123, 0.022875148543318943, 0.7472548524150854, 0.2287514854331894, 0.9867689839569735, 0.008655868280324329, 0.9900262725907912, 0.008182035310667695, 0.06769990206447393, 0.9139486778703981, 0.033849951032236966, 0.000811573347752019, 0.00811573347752019, 0.9909310576052152, 0.03756752297648387, 0.5860533584331483, 0.3756752297648387, 0.020719020526733786, 0.6889074325138984, 0.290066287374273, 0.02948788852082429, 0.7666851015414315, 0.20641521964577003, 0.9963679015805328, 0.00046149509105165946, 0.002768970546309957, 0.999604141436321, 0.00017457285040801973, 0.00034914570081603946, 0.9921502831425274, 0.011953617869187078, 0.9995902353623852, 0.0005241689750196042, 0.10591157107865351, 0.8472925686292281, 0.9981347048069537, 0.0013895146702649008, 0.0004631715567549669, 0.9995993385414367, 0.00017901134286200514, 0.00017901134286200514, 0.09368940739682265, 0.8744344690370114, 0.13487742589505503, 0.8542236973353484, 0.04724175854504675, 0.944835170900935, 0.13632168008992274, 0.8179300805395364, 0.028863369256115833, 0.9669228700798804, 0.10921022442287481, 0.8736817953829985, 0.03244384832584727, 0.016221924162923635, 0.9570935256124944, 0.01641650799040949, 0.008208253995204745, 0.9767822254293647, 0.07339194109881773, 0.03669597054940887, 0.9173992637352217, 0.03680313384333638, 0.9200783460834095, 0.055204700765004576, 0.06890917502701277, 0.013781835005402554, 0.9096011103565685, 0.03244384832584727, 0.016221924162923635, 0.9570935256124944, 0.03244384832584727, 0.016221924162923635, 0.9570935256124944, 0.03244384832584727, 0.016221924162923635, 0.9570935256124944, 0.09360770027540236, 0.8736718692370886, 0.9994357431989451, 0.0005235388911466449, 0.02924152527325915, 0.7992683574690834, 0.17544915163955488, 0.18597230065385384, 0.034869806372597595, 0.778759008988013, 0.00814488039801632, 0.3045477018388711, 0.6873570805456382, 0.04309929564127594, 0.16621337058179023, 0.7907783808964541, 0.0012266425987709209, 0.8371835736611535, 0.16161016238806883, 0.0761353277442501, 0.8882454903495844, 0.025378442581416697, 0.7427232555090298, 0.011368213094525967, 0.2463112837147293, 0.9917464178124676, 0.007033662537677075, 0.4189020543911897, 0.022341442900863453, 0.5603978594299915, 0.116767555435335, 0.038922518478445, 0.8465647769061787, 0.010990111904433128, 0.005495055952216564, 0.9891100713989814, 0.3602707604166265, 0.01757418343495739, 0.6194899660822479, 0.06264831432169084, 0.03132415716084542, 0.9397247148253626, 0.0670627008009165, 0.03353135040045825, 0.938877811212831, 0.0008019179691792973, 0.06054480667303695, 0.9386449829243676, 0.0010737420312100154, 0.8373653926250677, 0.16152147983773515, 0.14444613891340446, 0.008496831700788498, 0.8496831700788499, 0.04784064745407732, 0.02392032372703866, 0.9328926253545077, 0.004359154657140773, 0.28625115581891075, 0.7090891575615658], \"Term\": [\"acupuncture\", \"acupuncture\", \"acupuncture\", \"always\", \"always\", \"always\", \"anxietyhelp\", \"anxietyhelp\", \"anxietyhelp\", \"back\", \"back\", \"back\", \"beneficial\", \"beneficial\", \"beneficial\", \"beneficial_good\", \"beneficial_good\", \"beneficial_good\", \"beneficial_good_evidence_back\", \"beneficial_good_evidence_back\", \"beneficial_good_evidence_back\", \"bipolar_mhsm\", \"bipolar_mhsm\", \"book_tiptoe\", \"book_tiptoe\", \"btslovemyself\", \"btslovemyself\", \"btslovemyself\", \"build\", \"build\", \"build\", \"business\", \"business\", \"business\", \"care_have\", \"care_have\", \"case\", \"case\", \"case\", \"contact_learn\", \"contact_learn\", \"contact_learn\", \"could_conversation\", \"could_conversation\", \"could_conversation\", \"dark\", \"dark\", \"dark\", \"depressiontreatment_depressionrecovery\", \"depressiontreatment_depressionrecovery\", \"depressiontreatment_depressionrecovery\", \"depressive_disorder\", \"depressive_disorder\", \"disorder\", \"disorder\", \"disorder\", \"disorder_pandemic\", \"disorder_pandemic\", \"disorder_pandemic\", \"document\", \"document\", \"document\", \"document_world\", \"document_world\", \"document_world\", \"document_world_wide_increase\", \"document_world_wide_increase\", \"document_world_wide_increase\", \"end_biggest\", \"end_biggest\", \"enhances\", \"enhances\", \"enhances\", \"enhances_ssri\", \"enhances_ssri\", \"enhances_ssri\", \"enhances_ssri_performance_always\", \"enhances_ssri_performance_always\", \"enhances_ssri_performance_always\", \"evidence\", \"evidence\", \"evidence\", \"evidence_back\", \"evidence_back\", \"evidence_back\", \"find\", \"find\", \"find\", \"freepj\", \"freepj\", \"freepj\", \"friend\", \"friend\", \"friend\", \"goal_relationship\", \"goal_relationship\", \"going_hurt\", \"going_hurt\", \"going_hurt\", \"good\", \"good\", \"good\", \"health\", \"health\", \"health\", \"help\", \"help\", \"help\", \"help_with\", \"help_with\", \"help_with\", \"iheart\", \"iheart\", \"iheart\", \"increase\", \"increase\", \"increase\", \"infj\", \"infj\", \"infj\", \"introvert\", \"introvert\", \"introvert\", \"introvert_mentalhealthawareness\", \"introvert_mentalhealthawareness\", \"introvert_mentalhealthawareness\", \"introvertlife\", \"introvertlife\", \"introvertlife\", \"introvertmemes\", \"introvertmemes\", \"introvertmemes\", \"introvertmemes_infj\", \"introvertmemes_infj\", \"introvertmemes_infj\", \"introvertproblems\", \"introvertproblems\", \"introvertproblems\", \"introvertproblems_introvertlife\", \"introvertproblems_introvertlife\", \"introvertproblems_introvertlife\", \"introvertproblems_introvertlife_introvert_mentalhealthawareness\", \"introvertproblems_introvertlife_introvert_mentalhealthawareness\", \"introvertproblems_introvertlife_introvert_mentalhealthawareness\", \"irving\", \"irving\", \"irving\", \"irving_iheart\", \"irving_iheart\", \"irving_iheart\", \"kyrie\", \"kyrie\", \"kyrie\", \"lancet\", \"lancet\", \"lancet\", \"lancet_october\", \"lancet_october\", \"lancet_october\", \"latest\", \"latest\", \"latest\", \"letstalk\", \"letstalk\", \"lgbtq\", \"lgbtq\", \"lgbtq\", \"lgbtq_kyrie_irving_iheart\", \"lgbtq_kyrie_irving_iheart\", \"lgbtq_kyrie_irving_iheart\", \"life\", \"life\", \"life\", \"life_lust\", \"life_lust\", \"live\", \"live\", \"live\", \"live_podcast\", \"live_podcast\", \"live_podcast\", \"looking_online\", \"looking_online\", \"looking_online\", \"major\", \"major\", \"major\", \"mental_health\", \"mental_health\", \"mental_health\", \"mentalhealthawareness\", \"mentalhealthawareness\", \"mentalhealthawareness\", \"mentalhealthmatters\", \"mentalhealthmatters\", \"mentalhealthmatters\", \"mentalillness\", \"mentalillness\", \"mentalillness\", \"mentalillness_mhsm\", \"mentalillness_mhsm\", \"million\", \"million\", \"million\", \"million_case\", \"million_case\", \"million_case\", \"mindfulness\", \"mindfulness\", \"mindfulness\", \"mindfulness_wellness\", \"mindfulness_wellness\", \"mindfulness_wellness\", \"october\", \"october\", \"october\", \"online\", \"online\", \"online\", \"online_mindfulness\", \"online_mindfulness\", \"online_mindfulness\", \"online_psychotherapy\", \"online_psychotherapy\", \"online_psychotherapy\", \"online_survey\", \"online_survey\", \"onlinetherapist\", \"onlinetherapist\", \"onlinetherapist\", \"onlinetherapy_onlinetherapist\", \"onlinetherapy_onlinetherapist\", \"onlinetherapy_onlinetherapist\", \"pandemic\", \"pandemic\", \"pandemic\", \"people\", \"people\", \"people\", \"performance\", \"performance\", \"performance\", \"performance_always\", \"performance_always\", \"performance_always\", \"please_retweet\", \"please_retweet\", \"please_retweet\", \"podcast\", \"podcast\", \"podcast\", \"poem_poetrycommunity\", \"poem_poetrycommunity\", \"poetry_heartbreak\", \"poetry_heartbreak\", \"postpartum\", \"postpartum\", \"postpartum\", \"published\", \"published\", \"published\", \"quote\", \"quote\", \"quote\", \"quote_radio\", \"quote_radio\", \"quote_radio\", \"radio\", \"radio\", \"radio\", \"really\", \"really\", \"really\", \"really_help\", \"really_help\", \"really_help\", \"reason_keep\", \"reason_keep\", \"reduces\", \"reduces\", \"related\", \"related\", \"research\", \"research\", \"research\", \"research_find\", \"research_find\", \"research_find\", \"retweet_domesticabuse\", \"retweet_domesticabuse\", \"right_direction\", \"right_direction\", \"self_care\", \"self_care\", \"selfconfidence\", \"selfconfidence\", \"show_loved\", \"show_loved\", \"show_loved_care_have\", \"show_loved_care_have\", \"shyness\", \"shyness\", \"shyness\", \"shyness_anxietyhelp\", \"shyness_anxietyhelp\", \"shyness_anxietyhelp\", \"side_effect\", \"side_effect\", \"side_effect\", \"sign_symptom\", \"sign_symptom\", \"sign_symptom\", \"socialanxiety\", \"socialanxiety\", \"socialanxiety\", \"socialanxietyproblems\", \"socialanxietyproblems\", \"socialanxietyproblems\", \"socialanxietyproblems_mentalillness\", \"socialanxietyproblems_mentalillness\", \"socialanxietyproblems_mentalillness\", \"socialanxietyproblems_mentalillness_introvertmemes_infj\", \"socialanxietyproblems_mentalillness_introvertmemes_infj\", \"socialanxietyproblems_mentalillness_introvertmemes_infj\", \"sometimes_smallest\", \"sometimes_smallest\", \"ssri\", \"ssri\", \"strapup_freepj\", \"strapup_freepj\", \"strapup_freepj\", \"stress\", \"stress\", \"stress\", \"study\", \"study\", \"study\", \"study_published\", \"study_published\", \"study_published\", \"study_published_lancet_october\", \"study_published_lancet_october\", \"study_published_lancet_october\", \"take_step\", \"take_step\", \"take_step\", \"talk\", \"talk\", \"talk\", \"talk_psychotherapist\", \"talk_psychotherapist\", \"therapy\", \"therapy\", \"therapy\", \"tip\", \"tip\", \"tip\", \"tip_socialanxiety\", \"tip_socialanxiety\", \"tip_socialanxiety\", \"treatment\", \"treatment\", \"treatment\", \"treatment_resistant\", \"treatment_resistant\", \"treatment_resistant\", \"wait_hell\", \"wait_hell\", \"wait_hell\", \"wide\", \"wide\", \"wide\", \"wide_increase\", \"wide_increase\", \"wide_increase\", \"with\", \"with\", \"with\", \"without_drug\", \"without_drug\", \"without_drug\", \"world\", \"world\", \"world\"]}, \"R\": 30, \"lambda.step\": 0.01, \"plot.opts\": {\"xlab\": \"PC1\", \"ylab\": \"PC2\"}, \"topic.order\": [2, 3, 1]};\n",
       "\n",
       "function LDAvis_load_lib(url, callback){\n",
       "  var s = document.createElement('script');\n",
       "  s.src = url;\n",
       "  s.async = true;\n",
       "  s.onreadystatechange = s.onload = callback;\n",
       "  s.onerror = function(){console.warn(\"failed to load library \" + url);};\n",
       "  document.getElementsByTagName(\"head\")[0].appendChild(s);\n",
       "}\n",
       "\n",
       "if(typeof(LDAvis) !== \"undefined\"){\n",
       "   // already loaded: just create the visualization\n",
       "   !function(LDAvis){\n",
       "       new LDAvis(\"#\" + \"ldavis_el2060422203497602808741985511\", ldavis_el2060422203497602808741985511_data);\n",
       "   }(LDAvis);\n",
       "}else if(typeof define === \"function\" && define.amd){\n",
       "   // require.js is available: use it to load d3/LDAvis\n",
       "   require.config({paths: {d3: \"https://d3js.org/d3.v5\"}});\n",
       "   require([\"d3\"], function(d3){\n",
       "      window.d3 = d3;\n",
       "      LDAvis_load_lib(\"https://cdn.jsdelivr.net/gh/bmabey/pyLDAvis@3.2.2/pyLDAvis/js/ldavis.v3.0.0.js\", function(){\n",
       "        new LDAvis(\"#\" + \"ldavis_el2060422203497602808741985511\", ldavis_el2060422203497602808741985511_data);\n",
       "      });\n",
       "    });\n",
       "}else{\n",
       "    // require.js not available: dynamically load d3 & LDAvis\n",
       "    LDAvis_load_lib(\"https://d3js.org/d3.v5.js\", function(){\n",
       "         LDAvis_load_lib(\"https://cdn.jsdelivr.net/gh/bmabey/pyLDAvis@3.2.2/pyLDAvis/js/ldavis.v3.0.0.js\", function(){\n",
       "                 new LDAvis(\"#\" + \"ldavis_el2060422203497602808741985511\", ldavis_el2060422203497602808741985511_data);\n",
       "            })\n",
       "         });\n",
       "}\n",
       "</script>"
      ],
      "text/plain": [
       "PreparedData(topic_coordinates=              x         y  topics  cluster       Freq\n",
       "topic                                                \n",
       "1     -0.359384 -0.043705       1        1  38.997966\n",
       "2      0.257722 -0.129119       2        1  34.098375\n",
       "0      0.101663  0.172825       3        1  26.903659, topic_info=                                Term          Freq         Total Category  \\\n",
       "term                                                                        \n",
       "1197                    million_case  10776.000000  10776.000000  Default   \n",
       "1196               disorder_pandemic  10359.000000  10359.000000  Default   \n",
       "839                      really_help   5728.000000   5728.000000  Default   \n",
       "1210                   research_find   5586.000000   5586.000000  Default   \n",
       "1229                   wide_increase   6519.000000   6519.000000  Default   \n",
       "1227                  lancet_october   6519.000000   6519.000000  Default   \n",
       "1225                  document_world   6519.000000   6519.000000  Default   \n",
       "1195                 study_published   5336.000000   5336.000000  Default   \n",
       "807                          million   3624.000000   3624.000000  Default   \n",
       "640                         pandemic   3638.000000   3638.000000  Default   \n",
       "1201                     acupuncture   3726.000000   3726.000000  Default   \n",
       "1207                   evidence_back   3723.000000   3723.000000  Default   \n",
       "1202                 beneficial_good   3723.000000   3723.000000  Default   \n",
       "1209              performance_always   3723.000000   3723.000000  Default   \n",
       "1071                       published   2464.000000   2464.000000  Default   \n",
       "684                             wide   2494.000000   2494.000000  Default   \n",
       "805                          october   2590.000000   2590.000000  Default   \n",
       "1224                        document   3390.000000   3390.000000  Default   \n",
       "1190                          lancet   2596.000000   2596.000000  Default   \n",
       "11                              help   2982.000000   2982.000000  Default   \n",
       "1226    document_world_wide_increase   3260.000000   3260.000000  Default   \n",
       "1228  study_published_lancet_october   3260.000000   3260.000000  Default   \n",
       "571                         research   2159.000000   2159.000000  Default   \n",
       "78                              find   2144.000000   2144.000000  Default   \n",
       "153                           really   2166.000000   2166.000000  Default   \n",
       "308                             good   2164.000000   2164.000000  Default   \n",
       "62                            always   2104.000000   2104.000000  Default   \n",
       "75                              back   2103.000000   2103.000000  Default   \n",
       "7                              world   2752.000000   2752.000000  Default   \n",
       "262                             case   2708.000000   2708.000000  Default   \n",
       "...                              ...           ...           ...      ...   \n",
       "1190                          lancet   2104.203340   2596.565461   Topic3   \n",
       "1195                 study_published   4220.042495   5336.514126   Topic3   \n",
       "127                           health    330.714415    404.825399   Topic3   \n",
       "7                              world   1952.313667   2752.827313   Topic3   \n",
       "262                             case   1919.441926   2708.402631   Topic3   \n",
       "289                            study   1941.076946   2823.859759   Topic3   \n",
       "121               online_mindfulness    293.811314    383.553791   Topic3   \n",
       "591                            major   1662.763858   2850.653957   Topic3   \n",
       "132              mentalhealthmatters   1712.575543   3089.006830   Topic3   \n",
       "404                             with     99.657689    117.690927   Topic3   \n",
       "84                            stress    133.956718    172.068635   Topic3   \n",
       "42                          disorder   1298.754714   3115.573649   Topic3   \n",
       "120                      mindfulness    228.596398    342.889123   Topic3   \n",
       "271                         increase   1241.404246   3045.677384   Topic3   \n",
       "39                           therapy    300.981323    537.118397   Topic3   \n",
       "134                    mentalillness    160.409844    233.713125   Topic3   \n",
       "623                              tip     86.795271    102.768273   Topic3   \n",
       "698                    contact_learn    110.149690    143.105776   Topic3   \n",
       "230                           friend     92.930183    114.663317   Topic3   \n",
       "54                              life    196.797464    352.451533   Topic3   \n",
       "279                        treatment    141.294865    227.606592   Topic3   \n",
       "49                            online    247.203176    571.922562   Topic3   \n",
       "1225                  document_world   1052.829108   6519.256764   Topic3   \n",
       "1227                  lancet_october   1052.829108   6519.256764   Topic3   \n",
       "1229                   wide_increase   1052.829108   6519.256764   Topic3   \n",
       "1226    document_world_wide_increase    526.613452   3260.933547   Topic3   \n",
       "1228  study_published_lancet_october    526.613452   3260.933547   Topic3   \n",
       "1196               disorder_pandemic    857.807797  10359.290453   Topic3   \n",
       "1224                        document    449.261974   3390.603688   Topic3   \n",
       "147                           people    151.353751    281.543150   Topic3   \n",
       "\n",
       "      logprob  loglift  \n",
       "term                    \n",
       "1197  30.0000  30.0000  \n",
       "1196  29.0000  29.0000  \n",
       "839   28.0000  28.0000  \n",
       "1210  27.0000  27.0000  \n",
       "1229  26.0000  26.0000  \n",
       "1227  25.0000  25.0000  \n",
       "1225  24.0000  24.0000  \n",
       "1195  23.0000  23.0000  \n",
       "807   22.0000  22.0000  \n",
       "640   21.0000  21.0000  \n",
       "1201  20.0000  20.0000  \n",
       "1207  19.0000  19.0000  \n",
       "1202  18.0000  18.0000  \n",
       "1209  17.0000  17.0000  \n",
       "1071  16.0000  16.0000  \n",
       "684   15.0000  15.0000  \n",
       "805   14.0000  14.0000  \n",
       "1224  13.0000  13.0000  \n",
       "1190  12.0000  12.0000  \n",
       "11    11.0000  11.0000  \n",
       "1226  10.0000  10.0000  \n",
       "1228   9.0000   9.0000  \n",
       "571    8.0000   8.0000  \n",
       "78     7.0000   7.0000  \n",
       "153    6.0000   6.0000  \n",
       "308    5.0000   5.0000  \n",
       "62     4.0000   4.0000  \n",
       "75     3.0000   3.0000  \n",
       "7      2.0000   2.0000  \n",
       "262    1.0000   1.0000  \n",
       "...       ...      ...  \n",
       "1190  -3.2400   1.1027  \n",
       "1195  -2.5441   1.0782  \n",
       "127   -5.0904   1.1107  \n",
       "7     -3.3149   0.9693  \n",
       "262   -3.3319   0.9686  \n",
       "289   -3.3207   0.9380  \n",
       "121   -5.2087   1.0464  \n",
       "591   -3.4754   0.7738  \n",
       "132   -3.4459   0.7231  \n",
       "404   -6.2899   1.1466  \n",
       "84    -5.9942   1.0625  \n",
       "42    -3.7225   0.4379  \n",
       "120   -5.4597   0.9075  \n",
       "271   -3.7677   0.4154  \n",
       "39    -5.1846   0.7337  \n",
       "134   -5.8139   0.9365  \n",
       "623   -6.4281   1.1440  \n",
       "698   -6.1898   1.0512  \n",
       "230   -6.3598   1.1028  \n",
       "54    -5.6095   0.7302  \n",
       "279   -5.9408   0.8361  \n",
       "49    -5.3815   0.4741  \n",
       "1225  -3.9324  -0.5104  \n",
       "1227  -3.9324  -0.5104  \n",
       "1229  -3.9324  -0.5104  \n",
       "1226  -4.6252  -0.5104  \n",
       "1228  -4.6252  -0.5104  \n",
       "1196  -4.1373  -1.1784  \n",
       "1224  -4.7841  -0.7082  \n",
       "147   -5.8720   0.6922  \n",
       "\n",
       "[188 rows x 6 columns], token_table=      Topic      Freq                           Term\n",
       "term                                                \n",
       "1201      1  0.999588                    acupuncture\n",
       "1201      2  0.000268                    acupuncture\n",
       "1201      3  0.000268                    acupuncture\n",
       "62        1  0.998253                         always\n",
       "62        2  0.000475                         always\n",
       "62        3  0.000950                         always\n",
       "1191      1  0.074109                    anxietyhelp\n",
       "1191      2  0.014822                    anxietyhelp\n",
       "1191      3  0.918955                    anxietyhelp\n",
       "75        1  0.995543                           back\n",
       "75        2  0.000951                           back\n",
       "75        3  0.003803                           back\n",
       "935       1  0.987953                     beneficial\n",
       "935       2  0.000549                     beneficial\n",
       "935       3  0.011520                     beneficial\n",
       "1202      1  0.999723                beneficial_good\n",
       "1202      2  0.000269                beneficial_good\n",
       "1202      3  0.000269                beneficial_good\n",
       "1203      1  0.999568  beneficial_good_evidence_back\n",
       "1203      2  0.000537  beneficial_good_evidence_back\n",
       "1203      3  0.000537  beneficial_good_evidence_back\n",
       "1004      1  0.042638                   bipolar_mhsm\n",
       "1004      2  0.959353                   bipolar_mhsm\n",
       "783       1  0.135125                    book_tiptoe\n",
       "783       2  0.855793                    book_tiptoe\n",
       "370       1  0.079197                  btslovemyself\n",
       "370       2  0.910770                  btslovemyself\n",
       "370       3  0.039599                  btslovemyself\n",
       "851       1  0.119363                          build\n",
       "851       2  0.835541                          build\n",
       "...     ...       ...                            ...\n",
       "623       1  0.116768                            tip\n",
       "623       2  0.038923                            tip\n",
       "623       3  0.846565                            tip\n",
       "1223      1  0.010990              tip_socialanxiety\n",
       "1223      2  0.005495              tip_socialanxiety\n",
       "1223      3  0.989110              tip_socialanxiety\n",
       "279       1  0.360271                      treatment\n",
       "279       2  0.017574                      treatment\n",
       "279       3  0.619490                      treatment\n",
       "1016      1  0.062648            treatment_resistant\n",
       "1016      2  0.031324            treatment_resistant\n",
       "1016      3  0.939725            treatment_resistant\n",
       "908       1  0.067063                      wait_hell\n",
       "908       2  0.033531                      wait_hell\n",
       "908       3  0.938878                      wait_hell\n",
       "684       1  0.000802                           wide\n",
       "684       2  0.060545                           wide\n",
       "684       3  0.938645                           wide\n",
       "1229      1  0.001074                  wide_increase\n",
       "1229      2  0.837365                  wide_increase\n",
       "1229      3  0.161521                  wide_increase\n",
       "404       1  0.144446                           with\n",
       "404       2  0.008497                           with\n",
       "404       3  0.849683                           with\n",
       "470       1  0.047841                   without_drug\n",
       "470       2  0.023920                   without_drug\n",
       "470       3  0.932893                   without_drug\n",
       "7         1  0.004359                          world\n",
       "7         2  0.286251                          world\n",
       "7         3  0.709089                          world\n",
       "\n",
       "[384 rows x 3 columns], R=30, lambda_step=0.01, plot_opts={'xlab': 'PC1', 'ylab': 'PC2'}, topic_order=[2, 3, 1])"
      ]
     },
     "execution_count": 17,
     "metadata": {},
     "output_type": "execute_result"
    }
   ],
   "source": [
    "# visualize the topics\n",
    "pyLDAvis.enable_notebook()\n",
    "LDAvis_viz = pyLDAvis.gensim.prepare(best_model, corpus, dictionary)\n",
    "LDAvis_viz"
   ]
  },
  {
   "cell_type": "markdown",
   "id": "d1735b5a",
   "metadata": {},
   "source": [
    "### We interpret the topics based on the keywords."
   ]
  },
  {
   "cell_type": "code",
   "execution_count": 26,
   "id": "943a7bb4",
   "metadata": {},
   "outputs": [
    {
     "name": "stdout",
     "output_type": "stream",
     "text": [
      "1: Treatment/Tips\n",
      "2: Stats/Pandemic news\n",
      "3: Studies/Publications\n"
     ]
    }
   ],
   "source": [
    "print('1: Treatment/Tips')\n",
    "print('2: Stats/Pandemic news')\n",
    "print('3: Studies/Publications')"
   ]
  },
  {
   "cell_type": "markdown",
   "id": "49ee058f",
   "metadata": {},
   "source": [
    "### Finally, we label the data and save it."
   ]
  },
  {
   "cell_type": "code",
   "execution_count": 27,
   "id": "60f89cc3",
   "metadata": {},
   "outputs": [],
   "source": [
    "cat_name = ['Treatment/Tips', 'Stats/Pandemic News', 'Studies/Publications']\n",
    "\n",
    "def add_labels(model=best_model, corpus=corpus, data=data):\n",
    "    # get main topic in each document\n",
    "    topics = []\n",
    "    categories = []\n",
    "    for i, row in enumerate(model[corpus]):\n",
    "        row = sorted(row, key=lambda x: (x[1]), reverse=True)\n",
    "        for j, (topic_num, prop_topic) in enumerate(row):\n",
    "            if j == 0:  # dominant topic\n",
    "                wp = model.show_topic(topic_num)\n",
    "                topics.append(topic_num+1)\n",
    "                categories.append(cat_name[topic_num])\n",
    "            else:\n",
    "                break\n",
    "    data['category'] = categories\n",
    "    data['class'] = topics\n",
    "    return data.reset_index()"
   ]
  },
  {
   "cell_type": "code",
   "execution_count": 28,
   "id": "8ca15c60",
   "metadata": {},
   "outputs": [],
   "source": [
    "data_labelled = add_labels(model=best_model, corpus=corpus, data=data)"
   ]
  },
  {
   "cell_type": "code",
   "execution_count": 29,
   "id": "7a773f65",
   "metadata": {},
   "outputs": [
    {
     "data": {
      "text/plain": [
       "count              16733\n",
       "unique                 3\n",
       "top       Treatment/Tips\n",
       "freq               10537\n",
       "Name: category, dtype: object"
      ]
     },
     "execution_count": 29,
     "metadata": {},
     "output_type": "execute_result"
    }
   ],
   "source": [
    "data_labelled.category.describe()"
   ]
  },
  {
   "cell_type": "code",
   "execution_count": 30,
   "id": "2e58a8ca",
   "metadata": {},
   "outputs": [
    {
     "data": {
      "text/plain": [
       "array([1, 2, 3], dtype=int64)"
      ]
     },
     "execution_count": 30,
     "metadata": {},
     "output_type": "execute_result"
    }
   ],
   "source": [
    "data_labelled['class'].unique()"
   ]
  },
  {
   "cell_type": "code",
   "execution_count": 31,
   "id": "84d65493",
   "metadata": {},
   "outputs": [
    {
     "data": {
      "text/html": [
       "<div>\n",
       "<style scoped>\n",
       "    .dataframe tbody tr th:only-of-type {\n",
       "        vertical-align: middle;\n",
       "    }\n",
       "\n",
       "    .dataframe tbody tr th {\n",
       "        vertical-align: top;\n",
       "    }\n",
       "\n",
       "    .dataframe thead th {\n",
       "        text-align: right;\n",
       "    }\n",
       "</style>\n",
       "<table border=\"1\" class=\"dataframe\">\n",
       "  <thead>\n",
       "    <tr style=\"text-align: right;\">\n",
       "      <th></th>\n",
       "      <th>user_ID</th>\n",
       "      <th>followers_count</th>\n",
       "      <th>user_location</th>\n",
       "      <th>user_description</th>\n",
       "      <th>date</th>\n",
       "      <th>text</th>\n",
       "      <th>hashtags</th>\n",
       "      <th>category</th>\n",
       "      <th>class</th>\n",
       "    </tr>\n",
       "  </thead>\n",
       "  <tbody>\n",
       "    <tr>\n",
       "      <th>0</th>\n",
       "      <td>1.390000e+18</td>\n",
       "      <td>53</td>\n",
       "      <td>Barcelona, Spain</td>\n",
       "      <td>For 34 years, Psych Congress has served as a u...</td>\n",
       "      <td>10/27/2021 11:45</td>\n",
       "      <td>Extended abstract submission deadline is TODAY...</td>\n",
       "      <td>NaN</td>\n",
       "      <td>Treatment/Tips</td>\n",
       "      <td>1</td>\n",
       "    </tr>\n",
       "    <tr>\n",
       "      <th>1</th>\n",
       "      <td>2.350451e+09</td>\n",
       "      <td>30626</td>\n",
       "      <td>Sacramento, California</td>\n",
       "      <td>Believer in creating a healthy game plan to fe...</td>\n",
       "      <td>10/27/2021 11:39</td>\n",
       "      <td>🌟This Fall and if you can, intentionally spend...</td>\n",
       "      <td>['anxiety']</td>\n",
       "      <td>Treatment/Tips</td>\n",
       "      <td>1</td>\n",
       "    </tr>\n",
       "    <tr>\n",
       "      <th>2</th>\n",
       "      <td>3.345540e+09</td>\n",
       "      <td>829</td>\n",
       "      <td>Pittsburgh, PA</td>\n",
       "      <td>Founder Motivation Champs, Publisher 📚, Screen...</td>\n",
       "      <td>10/27/2021 11:38</td>\n",
       "      <td>Proud to welcome Stephanie Kunkel to the Motiv...</td>\n",
       "      <td>NaN</td>\n",
       "      <td>Treatment/Tips</td>\n",
       "      <td>1</td>\n",
       "    </tr>\n",
       "    <tr>\n",
       "      <th>3</th>\n",
       "      <td>1.174093e+07</td>\n",
       "      <td>3089</td>\n",
       "      <td>Toronto, Canada</td>\n",
       "      <td>Self healing journey from ✝️ trauma to spiritu...</td>\n",
       "      <td>10/27/2021 11:35</td>\n",
       "      <td>How much energy do you put into keeping up app...</td>\n",
       "      <td>['travelblogger']</td>\n",
       "      <td>Treatment/Tips</td>\n",
       "      <td>1</td>\n",
       "    </tr>\n",
       "    <tr>\n",
       "      <th>4</th>\n",
       "      <td>4.008473e+09</td>\n",
       "      <td>417</td>\n",
       "      <td>London, England</td>\n",
       "      <td>rTMS treatment across the UK and Ireland.\\r\\r\\...</td>\n",
       "      <td>10/27/2021 11:35</td>\n",
       "      <td>Did you know that we treat seasonal affective ...</td>\n",
       "      <td>['seasonalaffectivedisorder', 'SAD']</td>\n",
       "      <td>Treatment/Tips</td>\n",
       "      <td>1</td>\n",
       "    </tr>\n",
       "  </tbody>\n",
       "</table>\n",
       "</div>"
      ],
      "text/plain": [
       "        user_ID  followers_count           user_location  \\\n",
       "0  1.390000e+18               53        Barcelona, Spain   \n",
       "1  2.350451e+09            30626  Sacramento, California   \n",
       "2  3.345540e+09              829          Pittsburgh, PA   \n",
       "3  1.174093e+07             3089         Toronto, Canada   \n",
       "4  4.008473e+09              417         London, England   \n",
       "\n",
       "                                    user_description              date  \\\n",
       "0  For 34 years, Psych Congress has served as a u...  10/27/2021 11:45   \n",
       "1  Believer in creating a healthy game plan to fe...  10/27/2021 11:39   \n",
       "2  Founder Motivation Champs, Publisher 📚, Screen...  10/27/2021 11:38   \n",
       "3  Self healing journey from ✝️ trauma to spiritu...  10/27/2021 11:35   \n",
       "4  rTMS treatment across the UK and Ireland.\\r\\r\\...  10/27/2021 11:35   \n",
       "\n",
       "                                                text  \\\n",
       "0  Extended abstract submission deadline is TODAY...   \n",
       "1  🌟This Fall and if you can, intentionally spend...   \n",
       "2  Proud to welcome Stephanie Kunkel to the Motiv...   \n",
       "3  How much energy do you put into keeping up app...   \n",
       "4  Did you know that we treat seasonal affective ...   \n",
       "\n",
       "                               hashtags        category  class  \n",
       "0                                   NaN  Treatment/Tips      1  \n",
       "1                           ['anxiety']  Treatment/Tips      1  \n",
       "2                                   NaN  Treatment/Tips      1  \n",
       "3                     ['travelblogger']  Treatment/Tips      1  \n",
       "4  ['seasonalaffectivedisorder', 'SAD']  Treatment/Tips      1  "
      ]
     },
     "execution_count": 31,
     "metadata": {},
     "output_type": "execute_result"
    }
   ],
   "source": [
    "data.head()"
   ]
  },
  {
   "cell_type": "code",
   "execution_count": 33,
   "id": "8857cf45",
   "metadata": {},
   "outputs": [
    {
     "name": "stdout",
     "output_type": "stream",
     "text": [
      "Tweet: Post-traumatic olfactory dysfunction is a less known ilness which is associated with depression and changes in sexuality.\r",
      "\r\n",
      "The loss of smell can occur from head trauma and the ilness affects 20% of the population\r",
      "\r\n",
      "https://t.co/xeTZwUTFhe\r",
      "\r\n",
      "#2021EBE #Biology #depression\n",
      "************************************************************\n",
      "Category: Treatment/Tips\n",
      "--------------------------------------------------------------------------------------------------------------------------------\n",
      "Tweet: Skype Therapist for #anxiety and #depression https://t.co/5WjxvQCxf5 #onlinetherapy #onlinepsychotherapy #onlinecounseling\n",
      "************************************************************\n",
      "Category: Treatment/Tips\n",
      "--------------------------------------------------------------------------------------------------------------------------------\n",
      "Tweet: A new study published in the Lancet on 8 October 2021 documents a world-wide increase of more than 129 million cases of major #depression (53.2mn) and #anxiety (76.2mn) disorders during the #pandemic https://t.co/2ZrVYEY9sX #MentalHealthMatters https://t.co/x2MeI2XNIz\n",
      "************************************************************\n",
      "Category: Studies/Publications\n",
      "--------------------------------------------------------------------------------------------------------------------------------\n"
     ]
    }
   ],
   "source": [
    "for i in range(3):\n",
    "    random_tweet = random.randint(1,len(data))\n",
    "    print('Tweet:', data.text[random_tweet])\n",
    "    print('************************************************************')\n",
    "    print('Category:', data.category[random_tweet])\n",
    "    print('--------------------------------------------------------------------------------------------------------------------------------')"
   ]
  },
  {
   "cell_type": "code",
   "execution_count": 34,
   "id": "1c743bf7",
   "metadata": {},
   "outputs": [],
   "source": [
    "data.to_csv('Depression with TM labels.csv')"
   ]
  }
 ],
 "metadata": {
  "kernelspec": {
   "display_name": "Python 3",
   "language": "python",
   "name": "python3"
  },
  "language_info": {
   "codemirror_mode": {
    "name": "ipython",
    "version": 3
   },
   "file_extension": ".py",
   "mimetype": "text/x-python",
   "name": "python",
   "nbconvert_exporter": "python",
   "pygments_lexer": "ipython3",
   "version": "3.6.5"
  }
 },
 "nbformat": 4,
 "nbformat_minor": 5
}
