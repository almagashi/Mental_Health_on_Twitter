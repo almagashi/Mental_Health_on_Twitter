{
 "cells": [
  {
   "cell_type": "markdown",
   "id": "0622a01b",
   "metadata": {},
   "source": [
    "# Topic Modeling: Depression"
   ]
  },
  {
   "cell_type": "markdown",
   "id": "2e16fbbc",
   "metadata": {},
   "source": [
    "### The first step is importing the packages that we will be using for identifying topic models."
   ]
  },
  {
   "cell_type": "code",
   "execution_count": 1,
   "id": "8234a1b2",
   "metadata": {},
   "outputs": [],
   "source": [
    "# Import required packages\n",
    "\n",
    "# DATA PREPROCESSING\n",
    "import nltk\n",
    "from nltk.tokenize import RegexpTokenizer\n",
    "from nltk.corpus import stopwords\n",
    "from nltk.stem import WordNetLemmatizer\n",
    "from gensim.models import Phrases\n",
    "\n",
    "# MODELING\n",
    "import sklearn\n",
    "import re\n",
    "from gensim.models.coherencemodel import CoherenceModel\n",
    "from gensim.models.ldamodel import LdaModel\n",
    "from gensim.corpora.dictionary import Dictionary\n",
    "from numpy import array\n",
    "\n",
    "# VISUALIZATION\n",
    "import matplotlib.pyplot as plt\n",
    "import seaborn as sns\n",
    "import pyLDAvis\n",
    "import pyLDAvis.gensim\n",
    "import pickle \n",
    "\n",
    "# OTHER\n",
    "import numpy as np\n",
    "import pandas as pd\n",
    "import logging\n",
    "import json\n",
    "import warnings\n",
    "import random\n",
    "\n",
    "warnings.filterwarnings('ignore')  "
   ]
  },
  {
   "cell_type": "markdown",
   "id": "c525133b",
   "metadata": {},
   "source": [
    "### In the second step, we read the dataset, and take a glance at what it looks like."
   ]
  },
  {
   "cell_type": "code",
   "execution_count": 2,
   "id": "6cef3d19",
   "metadata": {},
   "outputs": [],
   "source": [
    "data = pd.read_csv('depression.csv')"
   ]
  },
  {
   "cell_type": "code",
   "execution_count": 3,
   "id": "ec8afc05",
   "metadata": {},
   "outputs": [
    {
     "data": {
      "text/html": [
       "<div>\n",
       "<style scoped>\n",
       "    .dataframe tbody tr th:only-of-type {\n",
       "        vertical-align: middle;\n",
       "    }\n",
       "\n",
       "    .dataframe tbody tr th {\n",
       "        vertical-align: top;\n",
       "    }\n",
       "\n",
       "    .dataframe thead th {\n",
       "        text-align: right;\n",
       "    }\n",
       "</style>\n",
       "<table border=\"1\" class=\"dataframe\">\n",
       "  <thead>\n",
       "    <tr style=\"text-align: right;\">\n",
       "      <th></th>\n",
       "      <th>user_ID</th>\n",
       "      <th>followers_count</th>\n",
       "      <th>user_location</th>\n",
       "      <th>user_description</th>\n",
       "      <th>date</th>\n",
       "      <th>text</th>\n",
       "      <th>hashtags</th>\n",
       "    </tr>\n",
       "  </thead>\n",
       "  <tbody>\n",
       "    <tr>\n",
       "      <th>0</th>\n",
       "      <td>1.390000e+18</td>\n",
       "      <td>53</td>\n",
       "      <td>Barcelona, Spain</td>\n",
       "      <td>For 34 years, Psych Congress has served as a u...</td>\n",
       "      <td>10/27/2021 11:45</td>\n",
       "      <td>Extended abstract submission deadline is TODAY...</td>\n",
       "      <td>NaN</td>\n",
       "    </tr>\n",
       "    <tr>\n",
       "      <th>1</th>\n",
       "      <td>2.350451e+09</td>\n",
       "      <td>30626</td>\n",
       "      <td>Sacramento, California</td>\n",
       "      <td>Believer in creating a healthy game plan to fe...</td>\n",
       "      <td>10/27/2021 11:39</td>\n",
       "      <td>🌟This Fall and if you can, intentionally spend...</td>\n",
       "      <td>['anxiety']</td>\n",
       "    </tr>\n",
       "    <tr>\n",
       "      <th>2</th>\n",
       "      <td>3.345540e+09</td>\n",
       "      <td>829</td>\n",
       "      <td>Pittsburgh, PA</td>\n",
       "      <td>Founder Motivation Champs, Publisher 📚, Screen...</td>\n",
       "      <td>10/27/2021 11:38</td>\n",
       "      <td>Proud to welcome Stephanie Kunkel to the Motiv...</td>\n",
       "      <td>NaN</td>\n",
       "    </tr>\n",
       "    <tr>\n",
       "      <th>3</th>\n",
       "      <td>1.174093e+07</td>\n",
       "      <td>3089</td>\n",
       "      <td>Toronto, Canada</td>\n",
       "      <td>Self healing journey from ✝️ trauma to spiritu...</td>\n",
       "      <td>10/27/2021 11:35</td>\n",
       "      <td>How much energy do you put into keeping up app...</td>\n",
       "      <td>['travelblogger']</td>\n",
       "    </tr>\n",
       "    <tr>\n",
       "      <th>4</th>\n",
       "      <td>4.008473e+09</td>\n",
       "      <td>417</td>\n",
       "      <td>London, England</td>\n",
       "      <td>rTMS treatment across the UK and Ireland.\\r\\r\\...</td>\n",
       "      <td>10/27/2021 11:35</td>\n",
       "      <td>Did you know that we treat seasonal affective ...</td>\n",
       "      <td>['seasonalaffectivedisorder', 'SAD']</td>\n",
       "    </tr>\n",
       "  </tbody>\n",
       "</table>\n",
       "</div>"
      ],
      "text/plain": [
       "        user_ID  followers_count           user_location  \\\n",
       "0  1.390000e+18               53        Barcelona, Spain   \n",
       "1  2.350451e+09            30626  Sacramento, California   \n",
       "2  3.345540e+09              829          Pittsburgh, PA   \n",
       "3  1.174093e+07             3089         Toronto, Canada   \n",
       "4  4.008473e+09              417         London, England   \n",
       "\n",
       "                                    user_description              date  \\\n",
       "0  For 34 years, Psych Congress has served as a u...  10/27/2021 11:45   \n",
       "1  Believer in creating a healthy game plan to fe...  10/27/2021 11:39   \n",
       "2  Founder Motivation Champs, Publisher 📚, Screen...  10/27/2021 11:38   \n",
       "3  Self healing journey from ✝️ trauma to spiritu...  10/27/2021 11:35   \n",
       "4  rTMS treatment across the UK and Ireland.\\r\\r\\...  10/27/2021 11:35   \n",
       "\n",
       "                                                text  \\\n",
       "0  Extended abstract submission deadline is TODAY...   \n",
       "1  🌟This Fall and if you can, intentionally spend...   \n",
       "2  Proud to welcome Stephanie Kunkel to the Motiv...   \n",
       "3  How much energy do you put into keeping up app...   \n",
       "4  Did you know that we treat seasonal affective ...   \n",
       "\n",
       "                               hashtags  \n",
       "0                                   NaN  \n",
       "1                           ['anxiety']  \n",
       "2                                   NaN  \n",
       "3                     ['travelblogger']  \n",
       "4  ['seasonalaffectivedisorder', 'SAD']  "
      ]
     },
     "execution_count": 3,
     "metadata": {},
     "output_type": "execute_result"
    }
   ],
   "source": [
    "data.head()"
   ]
  },
  {
   "cell_type": "markdown",
   "id": "a853e4c0",
   "metadata": {},
   "source": [
    "### Then, we extract our column of interest, which is the tweet."
   ]
  },
  {
   "cell_type": "code",
   "execution_count": 4,
   "id": "835a2ae0",
   "metadata": {},
   "outputs": [],
   "source": [
    "tweets = data['text']"
   ]
  },
  {
   "cell_type": "markdown",
   "id": "f2571bc0",
   "metadata": {},
   "source": [
    "### Once we have the tweets, we pre-process the data to make it ready for analysis."
   ]
  },
  {
   "cell_type": "markdown",
   "id": "1c224745",
   "metadata": {},
   "source": [
    "Initially, we convert everything to lowercase, and then we remove users, links, punctuation, double spaces, numbers, short words, emojis and stopwords.\n",
    "\n",
    "Then, we tokenize each word, splitting the sentences in separate words.\n",
    "\n",
    "Lasly, we convert each word into their lemmas (the form of a word under which it is registered in a dictionary)."
   ]
  },
  {
   "cell_type": "code",
   "execution_count": 5,
   "id": "65b01f31",
   "metadata": {},
   "outputs": [],
   "source": [
    "# list of commonly repeated words that do not add meanings\n",
    "my_stopwords = nltk.corpus.stopwords.words('english')\n",
    "repeated_words = ['ever', 'start', 'pre', '&amp', \n",
    "                  'amp', 'may', 'and', 'when',\n",
    "                  'what','who', 'why','how', \n",
    "                  'this', 'your', 'mine', 'their',\n",
    "                  'her', 'his', 'that', 'mental']\n",
    "\n",
    "for i in repeated_words:\n",
    "    my_stopwords.append(i)\n",
    "    \n",
    "tweets = tweets.apply(lambda x: ' '.join([word for word in x.split() if word not in (my_stopwords)]))\n",
    "tweets = array(tweets)\n",
    "    \n",
    "# list of common punctuation    \n",
    "my_punctuation = '!\"$%&\\'()*+,-./:;<=>?[\\\\]^_`’{|}~•@'\n",
    "\n",
    "# list of the majority of emojis\n",
    "emoj = re.compile(\"[\"  \n",
    "    u\"\\U0001F600-\\U0001F64F\" \n",
    "    u\"\\U0001F300-\\U0001F5FF\" \n",
    "    u\"\\U0001F680-\\U0001F6FF\"  \n",
    "    u\"\\U0001F1E0-\\U0001F1FF\"  \n",
    "    u\"\\U00002500-\\U00002BEF\"  \n",
    "    u\"\\U00002702-\\U000027B0\"\n",
    "    u\"\\U00002702-\\U000027B0\"\n",
    "    u\"\\U000024C2-\\U0001F251\"\n",
    "    u\"\\U0001f926-\\U0001f937\"\n",
    "    u\"\\U00010000-\\U0010ffff\"\n",
    "    u\"\\u2640-\\u2642\" \n",
    "    u\"\\u2600-\\u2B55\"\n",
    "    u\"\\u200d\"\n",
    "    u\"\\u23cf\"\n",
    "    u\"\\u23e9\"\n",
    "    u\"\\u231a\"\n",
    "    u\"\\ufe0f\"  \n",
    "    u\"\\u3030\"\n",
    "                  \"]+\", re.UNICODE) "
   ]
  },
  {
   "cell_type": "code",
   "execution_count": 6,
   "id": "d72580ae",
   "metadata": {},
   "outputs": [],
   "source": [
    "def preprocessor(tweets):\n",
    "    \"\"\"\n",
    "    Removes unnecessary information from tweets,\n",
    "    and lemmatizes the tweets.\n",
    "\n",
    "    Input(s):\n",
    "    ------------------------------\n",
    "    tweets(array): all original tweets\n",
    "    \n",
    "    Output(s):\n",
    "    ------------------------------\n",
    "    tweets(array): cleaned up and lemmatized tweets\n",
    "    \"\"\"\n",
    "    tokenizer = RegexpTokenizer(r'\\w+')\n",
    "    for idx in range(len(tweets)):       \n",
    "        tweets[idx] = re.sub(r'http\\S+', '', tweets[idx]) # http links\n",
    "        tweets[idx] = re.sub(r'bit.ly/\\S+', '', tweets[idx]) # bitly links\n",
    "        tweets[idx] = tweets[idx].strip('[link]') # other links(i.e. gifs)\n",
    "        tweets[idx] = tweets[idx].lower()  # turn to lowercase\n",
    "        tweets[idx] = re.sub('(RT\\s@[A-Za-z]+[A-Za-z0-9-_]+)', '', tweets[idx]) # retweets\n",
    "        tweets[idx] = re.sub('(@[A-Za-z]+[A-Za-z0-9-_]+)', '', tweets[idx]) # tweeted at\n",
    "        tweets[idx] = re.sub ('#', '', tweets[idx]) # hashtags\n",
    "        tweets[idx] = re.sub(emoj, '', tweets[idx]) # emojis\n",
    "        tweets[idx] = re.sub('['+my_punctuation + ']+', ' ', tweets[idx]) # remove punctuation\n",
    "        tweets[idx] = re.sub('\\s+', ' ', tweets[idx]) # remove double spacing\n",
    "        tweets[idx] = tokenizer.tokenize(tweets[idx])   # split into words\n",
    "\n",
    "\n",
    "    # numbers (but not words with number)\n",
    "    tweets = [[token for token in tweet if not token.isdigit()] for tweet in tweets]\n",
    "    \n",
    "    # words that are only one character\n",
    "    tweets = [[token for token in tweet if len(token) > 3] for tweet in tweets]\n",
    "    \n",
    "    tweets = [[token for token in tweet if len(token) > 3] for tweet in tweets]\n",
    "    \n",
    "    # lemmatize all words in documents\n",
    "    lemmatizer = WordNetLemmatizer()\n",
    "    tweets = [[lemmatizer.lemmatize(token) for token in tweet] for tweet in tweets]\n",
    " \n",
    "    return tweets"
   ]
  },
  {
   "cell_type": "code",
   "execution_count": 7,
   "id": "9e1652bc",
   "metadata": {},
   "outputs": [],
   "source": [
    "tweets = preprocessor(tweets)"
   ]
  },
  {
   "cell_type": "markdown",
   "id": "15f9dbc9",
   "metadata": {},
   "source": [
    "### We also create bi- and trigrams, and remove words that appear rarely. This is words that occurr frequently together, for example \"more_than, less_than\"."
   ]
  },
  {
   "cell_type": "code",
   "execution_count": 8,
   "id": "e43b0fc4",
   "metadata": {},
   "outputs": [],
   "source": [
    "# add bigrams and trigrams to docs\n",
    "\n",
    "# only add bi/trigrams that appear > 10 times\n",
    "bigram = Phrases(tweets, min_count=10)\n",
    "trigram = Phrases(bigram[tweets])\n",
    "\n",
    "for idx in range(len(tweets)):\n",
    "    for token in bigram[tweets[idx]]:\n",
    "        if '_' in token:\n",
    "            tweets[idx].append(token)\n",
    "    for token in trigram[tweets[idx]]:\n",
    "        if '_' in token:\n",
    "            tweets[idx].append(token)\n",
    "\n",
    "dictionary = Dictionary(tweets)\n",
    "dictionary.filter_extremes(no_below=10, no_above=0.2)\n",
    "\n",
    "corpus = [dictionary.doc2bow(t) for t in tweets]"
   ]
  },
  {
   "cell_type": "markdown",
   "id": "1649408b",
   "metadata": {},
   "source": [
    "### After being ready for analysis, we analyze this data with Latent Dirichlet Allocation model by assigning a random number of topics."
   ]
  },
  {
   "cell_type": "code",
   "execution_count": 9,
   "id": "78a183f5",
   "metadata": {},
   "outputs": [
    {
     "name": "stdout",
     "output_type": "stream",
     "text": [
      "[(0, '0.059*\"online\" + 0.057*\"online_mindfulness\" + 0.048*\"therapy\" + 0.035*\"mindfulness\" + 0.026*\"depressiontreatment_depressionrecovery\" + 0.022*\"contact_learn\" + 0.021*\"onlinetherapy_onlinetherapist\" + 0.019*\"mindfulness_therapy\" + 0.018*\"contact\" + 0.015*\"overcoming\"'), (1, '0.091*\"really_help\" + 0.090*\"research_find\" + 0.060*\"acupuncture\" + 0.060*\"evidence_back\" + 0.060*\"beneficial_good\" + 0.060*\"performance_always\" + 0.039*\"really\" + 0.038*\"research\" + 0.038*\"find\" + 0.037*\"back\"'), (2, '0.103*\"study\" + 0.103*\"disorder\" + 0.102*\"mentalhealthmatters\" + 0.102*\"world\" + 0.101*\"major\" + 0.101*\"increase\" + 0.100*\"published\" + 0.100*\"million\" + 0.057*\"pandemic\" + 0.013*\"study_published\"'), (3, '0.138*\"million_case\" + 0.138*\"disorder_pandemic\" + 0.092*\"wide_increase\" + 0.092*\"lancet_october\" + 0.092*\"document_world\" + 0.086*\"study_published\" + 0.046*\"october\" + 0.046*\"wide\" + 0.046*\"document\" + 0.046*\"lancet\"'), (4, '0.016*\"health\" + 0.015*\"help\" + 0.012*\"mentalhealthawareness\" + 0.011*\"life\" + 0.010*\"tip_socialanxiety\" + 0.009*\"mentalillness\" + 0.008*\"mental_health\" + 0.007*\"people\" + 0.007*\"like\" + 0.007*\"ptsd\"')]\n"
     ]
    }
   ],
   "source": [
    "num_topics = 5 # number of topics\n",
    "\n",
    "temp = dictionary[0] \n",
    "id2word = dictionary.id2token\n",
    "\n",
    "lda_model = LdaModel(corpus=corpus, id2word=id2word, chunksize=400, \\\n",
    "                       alpha='auto', eta='auto', \\\n",
    "                       iterations=20, num_topics=num_topics, \\\n",
    "                       passes=20, eval_every=1)\n",
    "\n",
    "# show keywords\n",
    "print(lda_model.print_topics())"
   ]
  },
  {
   "cell_type": "markdown",
   "id": "05939aa3",
   "metadata": {},
   "source": [
    "### We check the accuracy of our model with coherence scores (through CV, and UMass)."
   ]
  },
  {
   "cell_type": "markdown",
   "id": "479ed23f",
   "metadata": {},
   "source": [
    "High values of c_v and low values of UMass indicate higher accuracy."
   ]
  },
  {
   "cell_type": "code",
   "execution_count": 10,
   "id": "55d993b4",
   "metadata": {},
   "outputs": [
    {
     "name": "stdout",
     "output_type": "stream",
     "text": [
      "\n",
      "Coherence Score:  0.5612748125367043\n"
     ]
    }
   ],
   "source": [
    "# coherence score (c_v)\n",
    "coherence_model_cv = CoherenceModel(model=lda_model, texts=tweets, dictionary=dictionary, coherence='c_v')\n",
    "coherence_score = coherence_model_cv.get_coherence()\n",
    "print('\\nCoherence Score: ', coherence_score)"
   ]
  },
  {
   "cell_type": "code",
   "execution_count": 11,
   "id": "ade13b47",
   "metadata": {},
   "outputs": [
    {
     "name": "stdout",
     "output_type": "stream",
     "text": [
      "\n",
      "Coherence Score:  -7.6218310337195945\n"
     ]
    }
   ],
   "source": [
    "coherence_model_cv = CoherenceModel(model=lda_model, texts=tweets, dictionary=dictionary, coherence='u_mass')\n",
    "coherence_score = coherence_model_cv.get_coherence()\n",
    "print('\\nCoherence Score: ', coherence_score)"
   ]
  },
  {
   "cell_type": "markdown",
   "id": "2c8483cd",
   "metadata": {},
   "source": [
    "### To determine the ideal number of topics, we run a simulation with different number of topics and keep track of the coherence scores."
   ]
  },
  {
   "cell_type": "code",
   "execution_count": 12,
   "id": "b6dacd24",
   "metadata": {},
   "outputs": [],
   "source": [
    "def simulate_coherence_values(dictionary, corpus, texts, limit=11):\n",
    "    \"\"\"\n",
    "    Simulate c_v for multiple LDA models with different number of topics.\n",
    "\n",
    "    Input:\n",
    "    ----------\n",
    "    dictionary (dict) : gensim dictionary\n",
    "    corpus (list): gensim corpus\n",
    "    texts (list): list of input texts\n",
    "    limit (int): maximum number of topics\n",
    "\n",
    "    Output:\n",
    "    -------\n",
    "     coherence_scores : coherence scores corresponding to the LDA model with respective number of topics\n",
    "    \"\"\"\n",
    "    coherence_scores = []\n",
    "    models = []\n",
    "    for num_topics in range(2,limit):\n",
    "        model = LdaModel(corpus=corpus, id2word=dictionary, num_topics=num_topics)\n",
    "        coherencemodel = CoherenceModel(model=model, texts=texts, dictionary=dictionary, coherence='c_v')\n",
    "        coherence_scores.append(coherencemodel.get_coherence())\n",
    "        models.append(model)\n",
    "\n",
    "    return coherence_scores, models"
   ]
  },
  {
   "cell_type": "code",
   "execution_count": 13,
   "id": "2f936d91",
   "metadata": {},
   "outputs": [],
   "source": [
    "coherence_values, models = simulate_coherence_values(dictionary=dictionary, corpus=corpus, texts=tweets)"
   ]
  },
  {
   "cell_type": "code",
   "execution_count": 14,
   "id": "ef89681e",
   "metadata": {},
   "outputs": [
    {
     "data": {
      "text/plain": [
       "[0.6008030277111318,\n",
       " 0.6718798271467654,\n",
       " 0.7535811564035169,\n",
       " 0.737542540143336,\n",
       " 0.4986645613970846,\n",
       " 0.43723662564726273,\n",
       " 0.5155404501978307,\n",
       " 0.5600260115382594,\n",
       " 0.5670587909084681]"
      ]
     },
     "execution_count": 14,
     "metadata": {},
     "output_type": "execute_result"
    }
   ],
   "source": [
    "coherence_values"
   ]
  },
  {
   "cell_type": "code",
   "execution_count": 15,
   "id": "1d5877e5",
   "metadata": {},
   "outputs": [],
   "source": [
    "# pick the best model, with the highest coherence score\n",
    "best_model = models[(coherence_values.index(max(coherence_values)))]"
   ]
  },
  {
   "cell_type": "markdown",
   "id": "7b3f2151",
   "metadata": {},
   "source": [
    "### We plot the results of the simulation and find out that the ideal number of topics is 4."
   ]
  },
  {
   "cell_type": "code",
   "execution_count": 16,
   "id": "32b251d0",
   "metadata": {},
   "outputs": [
    {
     "data": {
      "image/png": "[encoded data removed]",
      "text/plain": [
       "<Figure size 432x288 with 1 Axes>"
      ]
     },
     "metadata": {},
     "output_type": "display_data"
    }
   ],
   "source": [
    "limit=11; start=2; \n",
    "x = range(start, limit)\n",
    "plt.plot(x, coherence_values)\n",
    "plt.title('Optimal Number of Topics (Depression Data)')\n",
    "plt.xlabel(\"Num Topics\")\n",
    "plt.ylabel(\"Coherence score\")\n",
    "plt.legend((\"coherence_values\"), loc='best')\n",
    "plt.show()"
   ]
  },
  {
   "cell_type": "markdown",
   "id": "9e3acdca",
   "metadata": {},
   "source": [
    "### Once we have the weights and frequency of topic words, we are able to visualize the topics."
   ]
  },
  {
   "cell_type": "code",
   "execution_count": 17,
   "id": "93a638d1",
   "metadata": {},
   "outputs": [
    {
     "data": {
      "text/html": [
       "\n",
       "<link rel=\"stylesheet\" type=\"text/css\" href=\"https://cdn.jsdelivr.net/gh/bmabey/pyLDAvis@3.2.2/pyLDAvis/js/ldavis.v1.0.0.css\">\n",
       "\n",
       "\n",
       "<div id=\"ldavis_el2173215168603882404400369005\"></div>\n",
       "<script type=\"text/javascript\">\n",
       "\n",
       "var ldavis_el2173215168603882404400369005_data = {\"mdsDat\": {\"x\": [-0.2345476021420175, 0.3587765501314805, -0.10826525564206878, -0.015963692347394327], \"y\": [0.2024694127483839, 0.04074321356769436, -0.3140622226309502, 0.07084959631487188], \"topics\": [1, 2, 3, 4], \"cluster\": [1, 1, 1, 1], \"Freq\": [37.45207424030887, 35.958979158227244, 13.339770681323804, 13.24917592014008]}, \"tinfo\": {\"Term\": [\"really_help\", \"million_case\", \"disorder_pandemic\", \"wide\", \"research_find\", \"live_podcast\", \"study_published\", \"evidence_back\", \"performance_always\", \"beneficial_good\", \"acupuncture\", \"quote_radio\", \"find\", \"beneficial\", \"wide_increase\", \"lancet_october\", \"document_world\", \"live\", \"research\", \"published\", \"quote\", \"document\", \"case\", \"major\", \"lancet\", \"podcast\", \"back\", \"world\", \"always\", \"evidence\", \"study_published\", \"million_case\", \"published\", \"document\", \"case\", \"lancet\", \"major\", \"disorder_pandemic\", \"october\", \"study\", \"disorder\", \"tip_socialanxiety\", \"increase\", \"introvert_mentalhealthawareness\", \"shyness_anxietyhelp\", \"introvert\", \"tip\", \"million\", \"socialanxiety\", \"introvertlife\", \"introvertmemes\", \"introvertmemes_infj\", \"introvertproblems\", \"introvertproblems_introvertlife\", \"introvertproblems_introvertlife_introvert_mentalhealthawareness\", \"shyness\", \"socialanxietyproblems\", \"socialanxietyproblems_mentalillness\", \"socialanxietyproblems_mentalillness_introvertmemes_infj\", \"like_share\", \"document_world\", \"lancet_october\", \"wide_increase\", \"mentalhealthmatters\", \"document_world_wide_increase\", \"study_published_lancet_october\", \"pandemic\", \"world\", \"with\", \"help_with\", \"online_mindfulness\", \"stress\", \"health\", \"wide\", \"therapy\", \"mindfulness\", \"mentalillness\", \"online\", \"mental_health\", \"mentalhealthawareness\", \"help\", \"really_help\", \"beneficial\", \"find\", \"going_hurt\", \"research_find\", \"beneficial_good\", \"evidence_back\", \"performance_always\", \"acupuncture\", \"performance\", \"beneficial_good_evidence_back\", \"enhances\", \"enhances_ssri\", \"enhances_ssri_performance_always\", \"research\", \"survey\", \"evidence\", \"back\", \"ssri\", \"always\", \"really\", \"feel_lonely\", \"weather\", \"motherhood\", \"online_survey\", \"good\", \"affective\", \"postpartumdepression\", \"seasonal_affective\", \"local\", \"help\", \"psychotherapy_skype\", \"finding\", \"lonely\", \"feel_like\", \"bipolarclub\", \"feel\", \"mental_health\", \"reduces\", \"health\", \"live_podcast\", \"quote_radio\", \"iheart\", \"radio\", \"freepj\", \"lgbtq_kyrie_irving_iheart\", \"kyrie\", \"irving_iheart\", \"lgbtq_kyrie\", \"strapup_freepj\", \"irving\", \"podcast\", \"lgbtq\", \"strapup\", \"quote_radio_strapup_freepj\", \"live\", \"self_care\", \"quote\", \"recently\", \"could_conversation\", \"stopthestigma\", \"blackmentalhealth\", \"repurposeyourpain_elsachristiespeaks\", \"rather\", \"alright\", \"essential\", \"elsachristiespeaks\", \"repurposeyourpain\", \"healthylifestyle_stopthestigma\", \"prevention\", \"wanted\", \"talking\", \"conversation\", \"register\", \"youth\", \"could\", \"loved\", \"online_psychotherapy\", \"show_loved\", \"still\", \"using_mindfulness\", \"onlinetherapy_onlinetherapist\", \"wait_hell\", \"therapy_overcoming\", \"suicide_suicideprevention\", \"step\", \"talk_psychotherapist\", \"onlinetherapist\", \"side_effect\", \"care_have\", \"poetry\", \"therapist_online\", \"life_lust\", \"poetry_heartbreak\", \"click_read\", \"reduces\", \"contact_schedule\", \"retweet_domesticabuse\", \"sometimes_smallest\", \"ketamine\", \"poem_poetrycommunity\", \"talk_buddhist\", \"psilocybin\", \"take_step\", \"well_being\", \"young\", \"goal_relationship\", \"poem\", \"wide\", \"sometimes\", \"without_depending\", \"something\", \"med\", \"hard\", \"life\", \"keep\", \"day\", \"have\", \"talk\", \"overcoming\", \"talk_therapist\", \"online\", \"thought\", \"going\", \"never\", \"world\", \"therapy\", \"care\", \"someone\", \"love\", \"mentalhealthawareness\", \"bipolar\", \"know\", \"document_world\", \"lancet_october\", \"wide_increase\", \"mindfulness\", \"help\", \"pandemic\", \"mentalhealthmatters\", \"good\", \"document_world_wide_increase\", \"study_published_lancet_october\", \"million\", \"research_find\", \"really\", \"acupuncture\", \"beneficial_good\", \"evidence_back\", \"performance_always\", \"always\"], \"Freq\": [7285.0, 6330.0, 6321.0, 3573.0, 6573.0, 2182.0, 4226.0, 4381.0, 4381.0, 4381.0, 4383.0, 1458.0, 2657.0, 2421.0, 3977.0, 3977.0, 3977.0, 1084.0, 2598.0, 2123.0, 1007.0, 2112.0, 2119.0, 2135.0, 2111.0, 956.0, 2510.0, 2508.0, 2464.0, 2304.0, 4220.627418163202, 6320.3148815902805, 2118.165849439395, 2105.3947674895676, 2112.078782858005, 2102.093508351489, 2123.6526237632847, 6271.68187487776, 2118.1675211746215, 2165.081705451998, 2158.0432822155913, 153.86093777521575, 2085.6439123475216, 101.94309324043273, 101.94309324043273, 112.80844056708285, 78.64851640381902, 2033.2547952041077, 58.10045252574517, 49.87059578331106, 49.87059578331106, 49.87059578331106, 49.87059578331106, 49.87059578331106, 49.87059578331106, 49.87059578331106, 49.87059578331106, 49.87059578331106, 49.87059578331106, 66.73500415072853, 3548.605738686965, 3548.605738686965, 3548.605738686965, 2151.4041250757255, 1774.4327074460564, 1774.4327074460564, 2010.3192844560158, 1852.7051617865532, 88.06251893152832, 55.21042719289796, 240.21119931514474, 115.84177801428841, 250.04485091941953, 855.1491286127006, 214.62067699128838, 166.45222111867596, 128.72039084976396, 174.7372190027141, 137.53282119769054, 140.83270463698898, 152.07970389162415, 7281.127468348252, 2417.1508643010156, 2630.1035680753216, 203.2581701130336, 6355.7966464078145, 4235.170091689215, 4235.170091689215, 4235.170091689215, 4235.194970560342, 2120.5679689898166, 2118.365520108196, 2118.365520108196, 2118.365520108196, 2118.365520108196, 2508.619505331453, 107.58617859892753, 2198.3793135877368, 2391.4512579413054, 2133.6882295751516, 2325.2384163114366, 2332.6253009182847, 39.2299127075979, 41.46461383545771, 38.256472535811845, 36.89655297839121, 2146.050353377964, 42.05805767421643, 29.36398778418387, 28.55745800258901, 27.952542379252208, 2629.3347307030663, 54.21854641918129, 54.794242326688945, 78.97095413145637, 103.81591776499668, 45.48830726940814, 86.95885240831504, 74.33934598310162, 110.45662015441312, 62.87233905113751, 2173.0203340620083, 1450.608795483455, 727.350090790101, 728.9996655760455, 725.4682437272644, 725.6571479268218, 726.0423993598044, 724.8290359787221, 725.1129629106549, 725.3225587443642, 724.5690259956169, 949.2993262901396, 767.7927580935334, 724.6264862170742, 722.47276993717, 1073.8140383407003, 270.5008897212253, 997.1269717969202, 124.75574229730368, 401.6498259590309, 109.03150211339648, 85.77530241484222, 140.1760461932309, 90.37284582722152, 58.176371568362995, 98.42214581588668, 74.06331647261406, 71.62503440037018, 56.30701019483906, 72.57745121658562, 104.67943616049604, 106.56192828626791, 172.2862991072625, 120.81817890048514, 124.1984203263606, 208.32565516961654, 135.05298117210748, 108.90384582501535, 83.42179948644097, 70.95727992700147, 74.15454850871822, 224.9034923355077, 51.675570150380366, 138.96384915431395, 52.55393299012954, 80.66763650246783, 66.71202175887403, 120.18704615656985, 45.72218265616078, 40.574477545648506, 63.532907890155705, 40.546617114859444, 48.2458109710376, 57.353134759484654, 63.6925239789881, 868.1917649785834, 38.68831868072319, 36.88602140658426, 36.88383754307631, 37.63628170834712, 54.22922427833974, 34.78049668649751, 36.12399781182158, 46.27628642791373, 41.852376520066514, 51.42166906580965, 52.05223578216267, 73.77784591450701, 2712.349556612541, 79.7125704623307, 66.47291180627114, 84.60116586599871, 53.918610507015224, 71.7348893459535, 289.8261013069195, 85.87525463003682, 71.1042240631234, 67.79457121631327, 140.46165301931495, 106.18267180884219, 67.70977940439937, 236.96728988235094, 83.94579735984874, 85.272933369774, 77.71465877380584, 639.8155045974966, 209.77314383677924, 94.4781613917899, 100.72685713156388, 131.82661358603158, 138.595629437537, 110.49261422755782, 103.78070532871455, 373.1570348222961, 373.1570348222961, 373.1570348222961, 120.06536584060623, 280.6568069262065, 249.58039840599875, 236.21803680677579, 228.71877888896336, 186.8654197843284, 186.8654197843284, 183.90449513345126, 214.09821620972772, 149.54303842327616, 144.59179786301468, 142.91997488271696, 142.91997488271696, 142.91997488271696, 133.46438184849583], \"Total\": [7285.0, 6330.0, 6321.0, 3573.0, 6573.0, 2182.0, 4226.0, 4381.0, 4381.0, 4381.0, 4383.0, 1458.0, 2657.0, 2421.0, 3977.0, 3977.0, 3977.0, 1084.0, 2598.0, 2123.0, 1007.0, 2112.0, 2119.0, 2135.0, 2111.0, 956.0, 2510.0, 2508.0, 2464.0, 2304.0, 4226.427024789776, 6330.868754690654, 2123.529936727294, 2112.4992520531705, 2119.693380218383, 2111.869023200538, 2135.378298033105, 6321.974266098134, 2159.3413755040083, 2215.427925871431, 2213.395250181729, 159.3659918201607, 2172.2882478802426, 107.45550491345554, 107.45550491345554, 119.22357704428222, 85.84963340480401, 2230.6213369321513, 64.30011928272978, 55.41680210873613, 55.41680210873613, 55.41680210873613, 55.41680210873613, 55.41680210873613, 55.41680210873613, 55.41680210873613, 55.41680210873613, 55.41680210873613, 55.41680210873613, 74.16676003600266, 3977.6504580619535, 3977.6504580619535, 3977.6504580619535, 2418.3898210786056, 1991.5312540553555, 1991.5312540553555, 2281.722860378272, 2508.773590895081, 102.07154822687995, 62.270098717910535, 338.5401486065404, 154.00545886331543, 458.58561072833896, 3573.3711702029705, 463.8276556779374, 309.8277123177537, 200.66562859229788, 458.384545227683, 248.42403139631332, 307.2952991278795, 3087.542170218853, 7285.97322382453, 2421.2856870286464, 2657.095342687412, 208.45755156215534, 6573.72183269003, 4381.744247109585, 4381.744247109585, 4381.744247109585, 4383.442887685723, 2195.812035554777, 2193.5965812430045, 2193.5965812430045, 2193.5965812430045, 2193.5965812430045, 2598.310444298613, 112.45476915143541, 2304.1269148065558, 2510.063045091382, 2258.564124540249, 2464.5236373136768, 2497.8364288647053, 43.28266553156328, 45.853897103932454, 42.472399887200524, 40.98576915932734, 2384.305045369844, 46.87590643136434, 34.077952320434726, 33.15037615537853, 32.51724741722103, 3087.542170218853, 63.290552367246136, 65.11292891300495, 107.43755845272452, 164.38190651137361, 53.72597816826898, 241.8182671189877, 248.42403139631332, 981.9705138635394, 458.58561072833896, 2182.9054805960604, 1458.2034661075104, 731.7741332268796, 733.7202157936318, 730.2012259779244, 730.4083745276348, 730.9641464571537, 729.7801725275535, 730.2361854251209, 730.7017726848131, 729.9652822694312, 956.3975539740036, 773.614771233422, 730.2523297424478, 728.697847259089, 1084.0248365030527, 273.10591668596726, 1007.594471247737, 127.22723726274613, 410.5225421574409, 111.81459114980885, 88.17700796787071, 144.67860124342445, 93.52928418975677, 60.56506890905738, 102.65427272777562, 77.54588626114385, 75.0313594454012, 59.02297969615887, 76.16501017587413, 110.35409257953675, 113.26100677936341, 187.42035079759637, 129.50320021503663, 134.2378188630727, 267.3828277122741, 216.91495191082487, 115.34712939971124, 89.26337130748426, 76.60290235785358, 80.96827090062267, 245.57620248538575, 56.54940283213505, 153.79377820076002, 58.18421955010817, 89.37085724577689, 73.94475050703083, 133.77139495336309, 51.07992648123013, 45.42995948366527, 71.32081396238212, 45.60935775169739, 54.42831199810985, 64.70741388649829, 71.97731092270742, 981.9705138635394, 43.761389215621115, 41.740471849583386, 41.73976491730709, 42.69096556148338, 61.54874682733801, 39.635706318963514, 41.20554981427891, 52.79925467156568, 47.821628125859164, 58.93856677114771, 59.78787986974522, 85.70835797076512, 3573.3711702029705, 96.01262314843584, 78.96315947830877, 102.69466314658855, 63.03558201885113, 86.75478515296724, 409.4593911355422, 106.88433353586353, 86.45258631591088, 81.87897244939404, 191.8646580747547, 145.35598242378092, 83.12884513119505, 458.384545227683, 114.86432596381925, 117.55806541222897, 103.87287827060098, 2508.773590895081, 463.8276556779374, 140.15372405565316, 156.9604129689385, 247.51808302911672, 307.2952991278795, 209.48363519630155, 201.52444671855466, 3977.6504580619535, 3977.6504580619535, 3977.6504580619535, 309.8277123177537, 3087.542170218853, 2281.722860378272, 2418.3898210786056, 2384.305045369844, 1991.5312540553555, 1991.5312540553555, 2230.6213369321513, 6573.72183269003, 2497.8364288647053, 4383.442887685723, 4381.744247109585, 4381.744247109585, 4381.744247109585, 2464.5236373136768], \"Category\": [\"Default\", \"Default\", \"Default\", \"Default\", \"Default\", \"Default\", \"Default\", \"Default\", \"Default\", \"Default\", \"Default\", \"Default\", \"Default\", \"Default\", \"Default\", \"Default\", \"Default\", \"Default\", \"Default\", \"Default\", \"Default\", \"Default\", \"Default\", \"Default\", \"Default\", \"Default\", \"Default\", \"Default\", \"Default\", \"Default\", \"Topic1\", \"Topic1\", \"Topic1\", \"Topic1\", \"Topic1\", \"Topic1\", \"Topic1\", \"Topic1\", \"Topic1\", \"Topic1\", \"Topic1\", \"Topic1\", \"Topic1\", \"Topic1\", \"Topic1\", \"Topic1\", \"Topic1\", \"Topic1\", \"Topic1\", \"Topic1\", \"Topic1\", \"Topic1\", \"Topic1\", \"Topic1\", \"Topic1\", \"Topic1\", \"Topic1\", \"Topic1\", \"Topic1\", \"Topic1\", \"Topic1\", \"Topic1\", \"Topic1\", \"Topic1\", \"Topic1\", \"Topic1\", \"Topic1\", \"Topic1\", \"Topic1\", \"Topic1\", \"Topic1\", \"Topic1\", \"Topic1\", \"Topic1\", \"Topic1\", \"Topic1\", \"Topic1\", \"Topic1\", \"Topic1\", \"Topic1\", \"Topic1\", \"Topic2\", \"Topic2\", \"Topic2\", \"Topic2\", \"Topic2\", \"Topic2\", \"Topic2\", \"Topic2\", \"Topic2\", \"Topic2\", \"Topic2\", \"Topic2\", \"Topic2\", \"Topic2\", \"Topic2\", \"Topic2\", \"Topic2\", \"Topic2\", \"Topic2\", \"Topic2\", \"Topic2\", \"Topic2\", \"Topic2\", \"Topic2\", \"Topic2\", \"Topic2\", \"Topic2\", \"Topic2\", \"Topic2\", \"Topic2\", \"Topic2\", \"Topic2\", \"Topic2\", \"Topic2\", \"Topic2\", \"Topic2\", \"Topic2\", \"Topic2\", \"Topic2\", \"Topic2\", \"Topic3\", \"Topic3\", \"Topic3\", \"Topic3\", \"Topic3\", \"Topic3\", \"Topic3\", \"Topic3\", \"Topic3\", \"Topic3\", \"Topic3\", \"Topic3\", \"Topic3\", \"Topic3\", \"Topic3\", \"Topic3\", \"Topic3\", \"Topic3\", \"Topic3\", \"Topic3\", \"Topic3\", \"Topic3\", \"Topic3\", \"Topic3\", \"Topic3\", \"Topic3\", \"Topic3\", \"Topic3\", \"Topic3\", \"Topic3\", \"Topic3\", \"Topic3\", \"Topic3\", \"Topic3\", \"Topic3\", \"Topic3\", \"Topic3\", \"Topic4\", \"Topic4\", \"Topic4\", \"Topic4\", \"Topic4\", \"Topic4\", \"Topic4\", \"Topic4\", \"Topic4\", \"Topic4\", \"Topic4\", \"Topic4\", \"Topic4\", \"Topic4\", \"Topic4\", \"Topic4\", \"Topic4\", \"Topic4\", \"Topic4\", \"Topic4\", \"Topic4\", \"Topic4\", \"Topic4\", \"Topic4\", \"Topic4\", \"Topic4\", \"Topic4\", \"Topic4\", \"Topic4\", \"Topic4\", \"Topic4\", \"Topic4\", \"Topic4\", \"Topic4\", \"Topic4\", \"Topic4\", \"Topic4\", \"Topic4\", \"Topic4\", \"Topic4\", \"Topic4\", \"Topic4\", \"Topic4\", \"Topic4\", \"Topic4\", \"Topic4\", \"Topic4\", \"Topic4\", \"Topic4\", \"Topic4\", \"Topic4\", \"Topic4\", \"Topic4\", \"Topic4\", \"Topic4\", \"Topic4\", \"Topic4\", \"Topic4\", \"Topic4\", \"Topic4\", \"Topic4\", \"Topic4\", \"Topic4\", \"Topic4\", \"Topic4\", \"Topic4\", \"Topic4\", \"Topic4\", \"Topic4\", \"Topic4\", \"Topic4\", \"Topic4\", \"Topic4\", \"Topic4\"], \"logprob\": [30.0, 29.0, 28.0, 27.0, 26.0, 25.0, 24.0, 23.0, 22.0, 21.0, 20.0, 19.0, 18.0, 17.0, 16.0, 15.0, 14.0, 13.0, 12.0, 11.0, 10.0, 9.0, 8.0, 7.0, 6.0, 5.0, 4.0, 3.0, 2.0, 1.0, -2.8747, -2.4709, -3.5642, -3.5702, -3.567, -3.5718, -3.5616, -2.4787, -3.5642, -3.5423, -3.5455, -6.1864, -3.5796, -6.5981, -6.5981, -6.4968, -6.8575, -3.6051, -7.1603, -7.313, -7.313, -7.313, -7.313, -7.313, -7.313, -7.313, -7.313, -7.313, -7.313, -7.0217, -3.0482, -3.0482, -3.0482, -3.5486, -3.7412, -3.7412, -3.6164, -3.6981, -6.7444, -7.2113, -5.7409, -6.4702, -5.7008, -4.4712, -5.8536, -6.1078, -6.3648, -6.0592, -6.2986, -6.2749, -6.1981, -2.2887, -3.3914, -3.307, -5.8673, -2.4247, -2.8306, -2.8306, -2.8306, -2.8306, -3.5223, -3.5234, -3.5234, -3.5234, -3.5234, -3.3543, -6.5035, -3.4863, -3.4021, -3.5162, -3.4302, -3.427, -7.5123, -7.4569, -7.5375, -7.5737, -3.5104, -7.4427, -7.802, -7.8299, -7.8513, -3.3073, -7.1888, -7.1782, -6.8127, -6.5392, -7.3643, -6.7164, -6.8731, -6.4772, -7.0407, -2.5063, -2.9104, -3.6007, -3.5985, -3.6033, -3.6031, -3.6025, -3.6042, -3.6038, -3.6035, -3.6046, -3.3344, -3.5466, -3.6045, -3.6075, -3.2112, -4.5899, -3.2853, -5.3638, -4.1946, -5.4985, -5.7384, -5.2473, -5.6862, -6.1267, -5.6009, -5.8852, -5.9187, -6.1593, -5.9055, -5.5393, -5.5214, -5.041, -5.3959, -5.3683, -4.8511, -5.2845, -5.4929, -5.7594, -5.9213, -5.8772, -4.7677, -6.2384, -5.2491, -6.2215, -5.793, -5.983, -5.3943, -6.3608, -6.4802, -6.0318, -6.4809, -6.307, -6.1341, -6.0293, -3.4169, -6.5278, -6.5755, -6.5756, -6.5554, -6.1901, -6.6343, -6.5964, -6.3487, -6.4492, -6.2433, -6.2311, -5.8823, -2.2778, -5.8049, -5.9865, -5.7454, -6.1959, -5.9104, -4.5141, -5.7304, -5.9192, -5.9669, -5.2384, -5.5182, -5.9681, -4.7154, -5.7532, -5.7375, -5.8303, -3.7222, -4.8373, -5.635, -5.5709, -5.3019, -5.2518, -5.4784, -5.5411, -4.2613, -4.2613, -4.2613, -5.3953, -4.5462, -4.6636, -4.7186, -4.7508, -4.953, -4.953, -4.9689, -4.8169, -5.1758, -5.2094, -5.2211, -5.2211, -5.2211, -5.2895], \"loglift\": [30.0, 29.0, 28.0, 27.0, 26.0, 25.0, 24.0, 23.0, 22.0, 21.0, 20.0, 19.0, 18.0, 17.0, 16.0, 15.0, 14.0, 13.0, 12.0, 11.0, 10.0, 9.0, 8.0, 7.0, 6.0, 5.0, 4.0, 3.0, 2.0, 1.0, 0.9807, 0.9804, 0.9796, 0.9787, 0.9785, 0.9775, 0.9766, 0.9741, 0.9629, 0.9591, 0.9568, 0.947, 0.9414, 0.9294, 0.9294, 0.9268, 0.8945, 0.8895, 0.8807, 0.8767, 0.8767, 0.8767, 0.8767, 0.8767, 0.8767, 0.8767, 0.8767, 0.8767, 0.8767, 0.8765, 0.868, 0.868, 0.868, 0.8651, 0.8667, 0.8667, 0.8555, 0.679, 0.8345, 0.8618, 0.639, 0.6973, 0.3756, -0.4479, 0.2115, 0.3608, 0.5381, 0.0177, 0.3908, 0.2019, -2.0286, 1.0221, 1.0211, 1.0126, 0.9975, 0.9891, 0.9888, 0.9888, 0.9888, 0.9884, 0.9879, 0.9879, 0.9879, 0.9879, 0.9879, 0.9877, 0.9785, 0.9758, 0.9744, 0.9659, 0.9646, 0.9544, 0.9245, 0.9222, 0.9182, 0.9177, 0.9175, 0.9143, 0.8739, 0.8737, 0.8715, 0.8621, 0.8681, 0.8503, 0.715, 0.5632, 0.8564, 0.0, -0.1837, -1.1621, -0.9642, 2.0099, 2.0092, 2.0084, 2.008, 2.0079, 2.0079, 2.0077, 2.0076, 2.0074, 2.007, 2.007, 2.007, 2.0069, 2.0067, 2.0058, 2.005, 2.0048, 2.004, 1.9948, 1.9926, 1.9892, 1.9868, 1.9828, 1.9801, 1.9742, 1.9723, 1.9685, 1.968, 1.9673, 1.9662, 1.9616, 1.9535, 1.9302, 1.945, 1.9367, 1.7648, 1.5406, 1.9638, 1.9536, 1.9447, 1.9333, 1.9333, 1.9311, 1.9198, 1.9195, 1.9188, 1.9183, 1.9142, 1.9104, 1.9082, 1.9056, 1.9036, 1.9007, 1.9006, 1.899, 1.8981, 1.898, 1.8976, 1.8976, 1.8952, 1.8946, 1.8906, 1.8896, 1.8894, 1.8879, 1.8848, 1.8827, 1.8713, 1.7455, 1.8352, 1.849, 1.8274, 1.865, 1.8311, 1.6757, 1.8024, 1.8258, 1.8325, 1.7094, 1.7072, 1.8161, 1.3614, 1.7077, 1.7002, 1.7311, 0.6549, 1.2277, 1.6269, 1.5777, 1.3912, 1.225, 1.3815, 1.3576, -0.3452, -0.3452, -0.3452, 1.0733, -0.3768, -0.1917, -0.3049, -0.3229, -0.345, -0.345, -0.4744, -1.4032, -0.7944, -1.3904, -1.4017, -1.4017, -1.4017, -0.8947]}, \"token.table\": {\"Topic\": [2, 3, 4, 2, 3, 4, 2, 3, 4, 2, 3, 4, 1, 2, 3, 4, 2, 3, 4, 2, 3, 4, 2, 3, 4, 1, 2, 3, 4, 1, 2, 3, 4, 2, 3, 4, 1, 2, 3, 4, 2, 3, 4, 1, 2, 3, 4, 2, 3, 4, 2, 3, 4, 1, 2, 3, 4, 1, 2, 3, 4, 2, 3, 4, 2, 3, 4, 1, 2, 3, 4, 1, 2, 3, 4, 1, 2, 3, 4, 1, 2, 3, 4, 1, 2, 3, 4, 2, 3, 4, 2, 3, 4, 2, 3, 4, 2, 3, 4, 2, 3, 4, 2, 3, 4, 2, 3, 4, 1, 2, 3, 4, 1, 2, 3, 4, 2, 3, 4, 1, 2, 3, 4, 1, 2, 3, 4, 1, 2, 3, 4, 2, 3, 4, 1, 2, 3, 4, 2, 3, 4, 1, 2, 3, 4, 2, 3, 4, 1, 2, 3, 4, 1, 2, 3, 4, 2, 3, 4, 1, 2, 3, 4, 1, 2, 3, 4, 1, 2, 3, 4, 1, 2, 3, 4, 1, 2, 3, 4, 1, 2, 3, 4, 1, 2, 3, 4, 1, 2, 3, 4, 1, 2, 3, 4, 1, 2, 3, 4, 1, 2, 3, 4, 1, 2, 3, 4, 1, 2, 3, 4, 1, 2, 3, 4, 1, 2, 3, 4, 2, 3, 4, 1, 2, 3, 4, 1, 2, 3, 4, 1, 2, 3, 4, 1, 2, 3, 4, 1, 2, 3, 4, 1, 2, 3, 4, 1, 2, 3, 4, 1, 2, 3, 4, 2, 3, 4, 1, 2, 3, 4, 1, 2, 3, 4, 1, 2, 3, 4, 1, 2, 3, 4, 1, 2, 3, 4, 1, 2, 3, 4, 1, 2, 3, 4, 1, 2, 3, 4, 2, 3, 4, 1, 2, 3, 4, 1, 2, 3, 4, 1, 2, 3, 4, 1, 2, 3, 4, 1, 2, 3, 4, 1, 2, 3, 4, 1, 2, 3, 4, 1, 2, 3, 4, 1, 2, 3, 4, 1, 2, 3, 4, 1, 2, 3, 4, 1, 2, 3, 4, 2, 3, 4, 2, 3, 4, 2, 3, 4, 2, 3, 4, 1, 2, 3, 4, 1, 2, 3, 4, 2, 3, 4, 2, 3, 4, 1, 2, 3, 4, 1, 2, 3, 4, 2, 3, 4, 2, 3, 4, 2, 3, 4, 2, 3, 4, 1, 2, 3, 4, 2, 3, 4, 1, 2, 3, 4, 1, 2, 3, 4, 1, 2, 3, 4, 1, 2, 3, 4, 1, 2, 3, 4, 1, 2, 3, 4, 1, 2, 3, 4, 1, 2, 3, 4, 2, 3, 4, 2, 3, 4, 2, 3, 4, 2, 3, 4, 2, 3, 4, 2, 3, 4, 1, 2, 3, 4, 2, 3, 4, 2, 3, 4, 2, 3, 4, 2, 3, 4, 1, 2, 3, 4, 1, 2, 3, 4, 1, 2, 3, 4, 1, 2, 3, 4, 1, 2, 3, 4, 1, 2, 3, 4, 1, 2, 3, 4, 1, 2, 3, 4, 1, 2, 3, 4, 1, 2, 3, 4, 1, 2, 3, 4, 2, 3, 4, 2, 3, 4, 1, 2, 3, 4, 2, 3, 4, 2, 3, 4, 1, 2, 3, 4, 1, 2, 3, 4, 1, 2, 3, 4, 1, 2, 3, 4, 1, 2, 3, 4, 1, 2, 3, 4, 2, 3, 4, 1, 2, 3, 4, 2, 3, 4, 1, 2, 3, 4, 2, 3, 4, 2, 3, 4, 1, 2, 3, 4, 2, 3, 4, 2, 3, 4, 1, 2, 3, 4, 2, 3, 4, 1, 2, 3, 4, 1, 2, 3, 4, 1, 2, 3, 4, 2, 3, 4, 2, 3, 4, 1, 2, 3, 4, 2, 3, 4, 2, 3, 4, 1, 2, 3, 4, 1, 2, 3, 4, 1, 2, 3, 4, 2, 3, 4, 1, 2, 3, 4, 2, 3, 4, 2, 3, 4], \"Freq\": [0.9661355488164933, 0.0006843935410742574, 0.03307902115192244, 0.8959826742016469, 0.0853316832572997, 0.021332920814324925, 0.0330223350856438, 0.9576477174836702, 0.0165111675428219, 0.9433871782760594, 0.002028789630701203, 0.053965804176652005, 0.0007967927355096324, 0.9525657153017656, 0.0015935854710192648, 0.045018789556294236, 0.9982299953072016, 0.0012390111650482435, 0.00041300372168274785, 0.9665100839223137, 0.0006846588551988054, 0.03263540543114306, 0.9655376098370068, 0.0013676170111005762, 0.03282280826641383, 0.3580231932185036, 0.06683099606745402, 0.04296278318622044, 0.5251006833871387, 0.07445187852089093, 0.8375836333600228, 0.05583890889066819, 0.01861296963022273, 0.02268164962831065, 0.975310934017358, 0.011340824814155326, 0.17837556703147492, 0.02854009072503599, 0.12129538558140295, 0.6706921320383458, 0.04402381209957092, 0.06603571814935638, 0.9024881480412039, 0.9963705221282568, 0.0009435326914093342, 0.0014152990371140012, 0.0014152990371140012, 0.02778653403914593, 0.0833596021174378, 0.8891690892526698, 0.04570238824333478, 0.06855358236500217, 0.8911965707450282, 0.026677999367313767, 0.01600679962038826, 0.9177231782355936, 0.03734919911423927, 0.059839295353766385, 0.029919647676883192, 0.777910839598963, 0.13089845858636395, 0.0048718396546247955, 0.9792397705795839, 0.017051438791186785, 0.09253627150918059, 0.08096923757053302, 0.8212594096439778, 0.9749727256452815, 0.007228713443153153, 0.005421535082364865, 0.012198453935320945, 0.9920951487629232, 0.0025308549713339876, 0.0011072490499586195, 0.004428996199834478, 0.9964500569427981, 0.0009467458973328247, 0.0014201188459992372, 0.0009467458973328247, 0.8922352623536441, 0.0010056187797730562, 0.013073044137049732, 0.0937739512138375, 0.890771860289716, 0.0015063785686973777, 0.0135574071182764, 0.0938975974488032, 0.03868677172502984, 0.9542737025507361, 0.012895590575009948, 0.9655376098370068, 0.0013676170111005762, 0.03282280826641383, 0.9655376098370068, 0.0013676170111005762, 0.03282280826641383, 0.9655376098370068, 0.0013676170111005762, 0.03282280826641383, 0.019482871456346612, 0.9546607013609839, 0.019482871456346612, 0.9539405081705468, 0.0017360154834768823, 0.0442683948286605, 0.9665100839223137, 0.0006846588551988054, 0.03263540543114306, 0.2646615607765832, 0.35977430918066783, 0.08684207462981637, 0.2894735820993879, 0.34675349136467254, 0.6326730368758937, 0.018250183756035397, 0.006083394585345132, 0.9010535631535861, 0.06931181255027585, 0.023103937516758617, 0.004892560605993037, 0.9898026456739759, 0.002258104895073709, 0.0030108065267649455, 0.03071586600983851, 0.844686315270559, 0.10750553103443479, 0.015357933004919255, 0.0013694855122445826, 0.004108456536733748, 0.9928769963773223, 0.0013694855122445826, 0.03345159594816258, 0.10035478784448773, 0.8697414946522269, 0.05954504248988624, 0.17012869282824641, 0.042532173207061603, 0.7230469445200473, 0.9738193626411846, 0.014391419152332777, 0.009594279434888518, 0.0012582282648043687, 0.900052618756725, 0.0025164565296087373, 0.09604475754673347, 0.057633708517448694, 0.11526741703489739, 0.8299254026512612, 0.04885259157926331, 0.036639443684447486, 0.0854920352637108, 0.8304940568474763, 0.5451544796683497, 0.13737892887642414, 0.14174016471377093, 0.1766300514125453, 0.03388510729711867, 0.9487830043193227, 0.016942553648559334, 0.04923009682786806, 0.8514863457925337, 0.008097055399320404, 0.09101090268836134, 0.883248961096966, 0.032118144039889676, 0.08029536009972418, 0.016059072019944838, 0.0013665418803344878, 0.004099625641003463, 0.9934759470031725, 0.0013665418803344878, 0.960277717303657, 0.0032224084473277083, 0.0013810321917118748, 0.03498614885670083, 0.9477991082085161, 0.025162808182526974, 0.025162808182526974, 0.008387602727508991, 0.9492301030286965, 0.01861235496134699, 0.027918532442020482, 0.009306177480673495, 0.902253433929523, 0.03609013735718092, 0.05413520603577138, 0.01804506867859046, 0.902253433929523, 0.03609013735718092, 0.05413520603577138, 0.01804506867859046, 0.902253433929523, 0.03609013735718092, 0.05413520603577138, 0.01804506867859046, 0.902253433929523, 0.03609013735718092, 0.05413520603577138, 0.01804506867859046, 0.902253433929523, 0.03609013735718092, 0.05413520603577138, 0.01804506867859046, 0.902253433929523, 0.03609013735718092, 0.05413520603577138, 0.01804506867859046, 0.0013699281654752707, 0.005479712661901083, 0.9931979199695712, 0.0013699281654752707, 0.0013702756496337177, 0.004110826948901153, 0.9934498459844453, 0.0013702756496337177, 0.10291498890535819, 0.03742363232922116, 0.056135448493831744, 0.8046080950782549, 0.046848319631459426, 0.07027247944718913, 0.890118072997729, 0.26795756484777955, 0.08435701115578244, 0.13397878242388978, 0.5160664211883161, 0.0013680561554856182, 0.005472224621942473, 0.9932087688825588, 0.0013680561554856182, 0.9953268772390149, 0.0014205426411593933, 0.0014205426411593933, 0.001894056854879191, 0.8922352623536441, 0.0010056187797730562, 0.013073044137049732, 0.0937739512138375, 0.0012926330225127916, 0.005170532090051166, 0.992742161289824, 0.0012926330225127916, 0.0013694199492700174, 0.0054776797970800695, 0.9928294632207626, 0.0013694199492700174, 0.0013690971172759538, 0.004107291351827861, 0.9939645071423424, 0.0013690971172759538, 0.17584161349999672, 0.04396040337499918, 0.07326733895833197, 0.7082509432638757, 0.03674558196971926, 0.07349116393943853, 0.8818939672732624, 0.9033696492536049, 0.026966258186674773, 0.040449387280012156, 0.026966258186674773, 0.0009224880891344632, 0.006457416623941242, 0.9907522077304135, 0.0018449761782689264, 0.00045810503885259464, 0.003664840310820757, 0.9954622494266882, 0.00045810503885259464, 0.030752910514510623, 0.8610814944062974, 0.09225873154353187, 0.030752910514510623, 0.16753917586390885, 0.735310827402711, 0.0930773199243938, 0.00930773199243938, 0.2828076201275588, 0.05656152402551176, 0.1252433746279189, 0.5332943693833966, 0.018440407010967257, 0.009220203505483629, 0.6223637366201449, 0.34575763145563604, 0.9946715305463274, 0.0018732043889761346, 0.0018732043889761346, 0.0018732043889761346, 0.06345622380076983, 0.07932027975096229, 0.8566590213103927, 0.5555018136705431, 0.2978777841421753, 0.14491351660970692, 0.004025375461380747, 0.45884203370557747, 0.045558783488497054, 0.045558783488497054, 0.4523336360643636, 0.8894347723646351, 0.009096961874487202, 0.0037214844031993096, 0.09758559101722634, 0.6428604684566861, 0.05481755932576393, 0.039867315873282856, 0.2641209676604989, 0.911405251236435, 0.004483055834906223, 0.001793222333962489, 0.0824882273622745, 0.998283212760871, 0.0007897810227538535, 0.00047386861365231214, 0.00031591240910154144, 0.53578164057111, 0.03227600244404277, 0.04195880317725561, 0.3873120293285133, 0.023544702033693177, 0.8946986772803407, 0.07063410610107952, 0.023544702033693177, 0.009627152117561268, 0.14440728176341902, 0.10589867329317394, 0.7509178651697789, 0.9808546365234359, 0.0032417292047516766, 0.002315520860536912, 0.01389312516322147, 0.38177552411387733, 0.052357786164188895, 0.05017621174068102, 0.5170331383713653, 0.7089262558306898, 0.04430789098941811, 0.04430789098941811, 0.20086243915202875, 0.026008449587021195, 0.026008449587021195, 0.9449736683284368, 0.902752364025837, 0.07319613762371652, 0.024398712541238838, 0.02242631917717457, 0.08222983698297343, 0.8970527670869828, 0.012216167403999702, 0.07329700442399821, 0.9162125552999777, 0.17887120685681718, 0.02063898540655583, 0.06879661802185276, 0.7292441510316393, 0.8809132935920077, 0.0070122451231204586, 0.002629591921170172, 0.10956633004875717, 0.9659296723292276, 0.001366237160295937, 0.03278969184710249, 0.9665100839223137, 0.0006846588551988054, 0.03263540543114306, 0.0010455902943758276, 0.005227951471879139, 0.9922651893626605, 0.0010455902943758276, 0.0350024206626767, 0.0350024206626767, 0.05833736777112783, 0.8633930430126918, 0.032494568989529175, 0.09748370696858753, 0.8773533627172878, 0.04206345712182054, 0.0701057618697009, 0.8973537519321716, 0.030908359334343848, 0.09272507800303154, 0.8808882410287996, 0.8509900984458579, 0.11737794461322179, 0.029344486153305448, 0.013129388385702047, 0.026258776771404094, 0.9584453521562494, 0.013129388385702047, 0.04853715116081141, 0.07280572674121712, 0.8736687208946053, 0.07900073254199594, 0.8532079114535561, 0.04740043952519756, 0.01580014650839919, 0.997395875315129, 0.0009418280220161747, 0.001412742033024262, 0.00047091401100808736, 0.0019849255400571373, 0.00694723939019998, 0.9894853817184829, 0.0009924627700285686, 0.000685775355252291, 0.004114652131513746, 0.9950600404710742, 0.000685775355252291, 0.0013723109019209841, 0.0068615545096049205, 0.9908084711869506, 0.0013723109019209841, 0.0013629173334393483, 0.004088752000318045, 0.993566736077285, 0.0013629173334393483, 0.01069183848313381, 0.02138367696626762, 0.9622654634820429, 0.01069183848313381, 0.0032027717698216492, 0.9340083173742384, 0.0032027717698216492, 0.06005197068415592, 0.9993174249106122, 0.0005490000960915325, 0.00013725002402288313, 0.01571990434618694, 0.9824940216366838, 0.00785995217309347, 0.1120196568501916, 0.003055081550459771, 0.8839369285996937, 0.06177453519848322, 0.9343398448770587, 0.007721816899810403, 0.03998328195270191, 0.959598766864846, 0.013327760650900638, 0.02764748874831825, 0.9676621061911387, 0.006911872187079562, 0.001539461925643669, 0.9656274928599913, 0.001539461925643669, 0.03155896947569521, 0.966879974810109, 0.0004563624802439155, 0.032553856924065976, 0.04791512676730707, 0.0718726901509606, 0.8864298451951808, 0.8748015366122732, 0.12066228091203768, 0.03016557022800942, 0.007323166133744784, 0.9922890111224183, 0.003661583066872392, 0.011202803404716973, 0.022405606809433945, 0.03360841021415092, 0.9298326825915088, 0.902253433929523, 0.03609013735718092, 0.05413520603577138, 0.01804506867859046, 0.9492301030286965, 0.01861235496134699, 0.027918532442020482, 0.009306177480673495, 0.019577162084746944, 0.03915432416949389, 0.058731486254240836, 0.9005494558983596, 0.9020200996046688, 0.04665621204851735, 0.04665621204851735, 0.015552070682839116, 0.902253433929523, 0.03609013735718092, 0.05413520603577138, 0.01804506867859046, 0.902253433929523, 0.03609013735718092, 0.05413520603577138, 0.01804506867859046, 0.902253433929523, 0.03609013735718092, 0.05413520603577138, 0.01804506867859046, 0.1274206637310382, 0.15927582966379775, 0.0637103318655191, 0.643474351841743, 0.009737604363846821, 0.038950417455387285, 0.12658885673000866, 0.8276963709269798, 0.041661188589921, 0.07290708003236175, 0.05207648573740125, 0.83322377179842, 0.047915938289597663, 0.07187390743439649, 0.8864448583575567, 0.9448480903478421, 0.02258071818544515, 0.0327641793279008, 0.011189329842164558, 0.022378659684329116, 0.05594664921082279, 0.9063357172153292, 0.026108671322359542, 0.052217342644719084, 0.9268578319437638, 0.017886753235276835, 0.9748280513225875, 0.008943376617638417, 0.0013693896743235167, 0.005477558697294067, 0.9928075138845496, 0.0013693896743235167, 0.0013685473846952719, 0.005474189538781087, 0.9921968539040721, 0.0013685473846952719, 0.7532200537316899, 0.08441259222855145, 0.06493276325273188, 0.09739914487909783, 0.9772378395692582, 0.005867940838060211, 0.0022569003223308504, 0.014444162062917444, 0.998715930794985, 0.00047321294991470504, 0.0007098194248720576, 0.00023660647495735252, 0.890771860289716, 0.0015063785686973777, 0.0135574071182764, 0.0938975974488032, 0.03437358128139199, 0.05156037192208798, 0.9108999039568877, 0.00889246412176051, 0.9603861251501351, 0.02667739236528153, 0.00889246412176051, 0.037879322585912804, 0.09469830646478201, 0.8712244194759945, 0.17720824846623318, 0.0416960584626431, 0.05212007307830387, 0.7296810230962543, 0.050459552402201284, 0.07568932860330192, 0.8830421670385225, 0.02704722088162074, 0.06761805220405184, 0.9060818995342947, 0.060147593679533665, 0.04811807494362693, 0.07217711241544039, 0.8180072740416579, 0.05297498380610566, 0.9447205445422175, 0.008829163967684276, 0.043850650361889135, 0.0657759755428337, 0.8989383324187272, 0.4635342402896455, 0.034495571370392226, 0.051743357055588336, 0.45275437423639797, 0.01950664087388403, 0.07152434987090811, 0.9038076938232934, 0.1915303103500534, 0.043529615988648504, 0.0348236927909188, 0.7312975486092949, 0.9202135975059305, 0.023296546772302036, 0.058241366930755094, 0.011648273386151018, 0.966329128574583, 0.01254972894252705, 0.018824593413790575, 0.006274864471263525, 0.024701033846390556, 0.06175258461597639, 0.9139382523164505, 0.03536730539731659, 0.05305095809597488, 0.9195499403302313, 0.009061739140116246, 0.036246956560464984, 0.9514826097122059, 0.009061739140116246, 0.8941442841176485, 0.06542519152080355, 0.021808397173601182, 0.04182208089478484, 0.08364416178956968, 0.8782636987904817, 0.23926985450868662, 0.000559695566102191, 0.001119391132204382, 0.7589471876345709, 0.8922352623536441, 0.0010056187797730562, 0.013073044137049732, 0.0937739512138375, 0.8621403469299558, 0.07837639517545053, 0.04898524698465658, 0.009797049396931316, 0.0506565343436999, 0.1013130686873998, 0.8358328166710483, 0.7386079025723825, 0.0019930056734279076, 0.004384612481541397, 0.25510472619877217, 0.05090045727865569, 0.06786727637154093, 0.8653077737371467, 0.06704518947212869, 0.9237337216159953, 0.007449465496903188], \"Term\": [\"acupuncture\", \"acupuncture\", \"acupuncture\", \"affective\", \"affective\", \"affective\", \"alright\", \"alright\", \"alright\", \"always\", \"always\", \"always\", \"back\", \"back\", \"back\", \"back\", \"beneficial\", \"beneficial\", \"beneficial\", \"beneficial_good\", \"beneficial_good\", \"beneficial_good\", \"beneficial_good_evidence_back\", \"beneficial_good_evidence_back\", \"beneficial_good_evidence_back\", \"bipolar\", \"bipolar\", \"bipolar\", \"bipolar\", \"bipolarclub\", \"bipolarclub\", \"bipolarclub\", \"bipolarclub\", \"blackmentalhealth\", \"blackmentalhealth\", \"blackmentalhealth\", \"care\", \"care\", \"care\", \"care\", \"care_have\", \"care_have\", \"care_have\", \"case\", \"case\", \"case\", \"case\", \"click_read\", \"click_read\", \"click_read\", \"contact_schedule\", \"contact_schedule\", \"contact_schedule\", \"conversation\", \"conversation\", \"conversation\", \"conversation\", \"could\", \"could\", \"could\", \"could\", \"could_conversation\", \"could_conversation\", \"could_conversation\", \"day\", \"day\", \"day\", \"disorder\", \"disorder\", \"disorder\", \"disorder\", \"disorder_pandemic\", \"disorder_pandemic\", \"disorder_pandemic\", \"disorder_pandemic\", \"document\", \"document\", \"document\", \"document\", \"document_world\", \"document_world\", \"document_world\", \"document_world\", \"document_world_wide_increase\", \"document_world_wide_increase\", \"document_world_wide_increase\", \"document_world_wide_increase\", \"elsachristiespeaks\", \"elsachristiespeaks\", \"elsachristiespeaks\", \"enhances\", \"enhances\", \"enhances\", \"enhances_ssri\", \"enhances_ssri\", \"enhances_ssri\", \"enhances_ssri_performance_always\", \"enhances_ssri_performance_always\", \"enhances_ssri_performance_always\", \"essential\", \"essential\", \"essential\", \"evidence\", \"evidence\", \"evidence\", \"evidence_back\", \"evidence_back\", \"evidence_back\", \"feel\", \"feel\", \"feel\", \"feel\", \"feel_like\", \"feel_like\", \"feel_like\", \"feel_like\", \"feel_lonely\", \"feel_lonely\", \"feel_lonely\", \"find\", \"find\", \"find\", \"find\", \"finding\", \"finding\", \"finding\", \"finding\", \"freepj\", \"freepj\", \"freepj\", \"freepj\", \"goal_relationship\", \"goal_relationship\", \"goal_relationship\", \"going\", \"going\", \"going\", \"going\", \"going_hurt\", \"going_hurt\", \"going_hurt\", \"good\", \"good\", \"good\", \"good\", \"hard\", \"hard\", \"hard\", \"have\", \"have\", \"have\", \"have\", \"health\", \"health\", \"health\", \"health\", \"healthylifestyle_stopthestigma\", \"healthylifestyle_stopthestigma\", \"healthylifestyle_stopthestigma\", \"help\", \"help\", \"help\", \"help\", \"help_with\", \"help_with\", \"help_with\", \"help_with\", \"iheart\", \"iheart\", \"iheart\", \"iheart\", \"increase\", \"increase\", \"increase\", \"increase\", \"introvert\", \"introvert\", \"introvert\", \"introvert\", \"introvert_mentalhealthawareness\", \"introvert_mentalhealthawareness\", \"introvert_mentalhealthawareness\", \"introvert_mentalhealthawareness\", \"introvertlife\", \"introvertlife\", \"introvertlife\", \"introvertlife\", \"introvertmemes\", \"introvertmemes\", \"introvertmemes\", \"introvertmemes\", \"introvertmemes_infj\", \"introvertmemes_infj\", \"introvertmemes_infj\", \"introvertmemes_infj\", \"introvertproblems\", \"introvertproblems\", \"introvertproblems\", \"introvertproblems\", \"introvertproblems_introvertlife\", \"introvertproblems_introvertlife\", \"introvertproblems_introvertlife\", \"introvertproblems_introvertlife\", \"introvertproblems_introvertlife_introvert_mentalhealthawareness\", \"introvertproblems_introvertlife_introvert_mentalhealthawareness\", \"introvertproblems_introvertlife_introvert_mentalhealthawareness\", \"introvertproblems_introvertlife_introvert_mentalhealthawareness\", \"irving\", \"irving\", \"irving\", \"irving\", \"irving_iheart\", \"irving_iheart\", \"irving_iheart\", \"irving_iheart\", \"keep\", \"keep\", \"keep\", \"keep\", \"ketamine\", \"ketamine\", \"ketamine\", \"know\", \"know\", \"know\", \"know\", \"kyrie\", \"kyrie\", \"kyrie\", \"kyrie\", \"lancet\", \"lancet\", \"lancet\", \"lancet\", \"lancet_october\", \"lancet_october\", \"lancet_october\", \"lancet_october\", \"lgbtq\", \"lgbtq\", \"lgbtq\", \"lgbtq\", \"lgbtq_kyrie\", \"lgbtq_kyrie\", \"lgbtq_kyrie\", \"lgbtq_kyrie\", \"lgbtq_kyrie_irving_iheart\", \"lgbtq_kyrie_irving_iheart\", \"lgbtq_kyrie_irving_iheart\", \"lgbtq_kyrie_irving_iheart\", \"life\", \"life\", \"life\", \"life\", \"life_lust\", \"life_lust\", \"life_lust\", \"like_share\", \"like_share\", \"like_share\", \"like_share\", \"live\", \"live\", \"live\", \"live\", \"live_podcast\", \"live_podcast\", \"live_podcast\", \"live_podcast\", \"local\", \"local\", \"local\", \"local\", \"lonely\", \"lonely\", \"lonely\", \"lonely\", \"love\", \"love\", \"love\", \"love\", \"loved\", \"loved\", \"loved\", \"loved\", \"major\", \"major\", \"major\", \"major\", \"med\", \"med\", \"med\", \"mental_health\", \"mental_health\", \"mental_health\", \"mental_health\", \"mentalhealthawareness\", \"mentalhealthawareness\", \"mentalhealthawareness\", \"mentalhealthawareness\", \"mentalhealthmatters\", \"mentalhealthmatters\", \"mentalhealthmatters\", \"mentalhealthmatters\", \"mentalillness\", \"mentalillness\", \"mentalillness\", \"mentalillness\", \"million\", \"million\", \"million\", \"million\", \"million_case\", \"million_case\", \"million_case\", \"million_case\", \"mindfulness\", \"mindfulness\", \"mindfulness\", \"mindfulness\", \"motherhood\", \"motherhood\", \"motherhood\", \"motherhood\", \"never\", \"never\", \"never\", \"never\", \"october\", \"october\", \"october\", \"october\", \"online\", \"online\", \"online\", \"online\", \"online_mindfulness\", \"online_mindfulness\", \"online_mindfulness\", \"online_mindfulness\", \"online_psychotherapy\", \"online_psychotherapy\", \"online_psychotherapy\", \"online_survey\", \"online_survey\", \"online_survey\", \"onlinetherapist\", \"onlinetherapist\", \"onlinetherapist\", \"onlinetherapy_onlinetherapist\", \"onlinetherapy_onlinetherapist\", \"onlinetherapy_onlinetherapist\", \"overcoming\", \"overcoming\", \"overcoming\", \"overcoming\", \"pandemic\", \"pandemic\", \"pandemic\", \"pandemic\", \"performance\", \"performance\", \"performance\", \"performance_always\", \"performance_always\", \"performance_always\", \"podcast\", \"podcast\", \"podcast\", \"podcast\", \"poem\", \"poem\", \"poem\", \"poem\", \"poem_poetrycommunity\", \"poem_poetrycommunity\", \"poem_poetrycommunity\", \"poetry\", \"poetry\", \"poetry\", \"poetry_heartbreak\", \"poetry_heartbreak\", \"poetry_heartbreak\", \"postpartumdepression\", \"postpartumdepression\", \"postpartumdepression\", \"prevention\", \"prevention\", \"prevention\", \"prevention\", \"psilocybin\", \"psilocybin\", \"psilocybin\", \"psychotherapy_skype\", \"psychotherapy_skype\", \"psychotherapy_skype\", \"psychotherapy_skype\", \"published\", \"published\", \"published\", \"published\", \"quote\", \"quote\", \"quote\", \"quote\", \"quote_radio\", \"quote_radio\", \"quote_radio\", \"quote_radio\", \"quote_radio_strapup_freepj\", \"quote_radio_strapup_freepj\", \"quote_radio_strapup_freepj\", \"quote_radio_strapup_freepj\", \"radio\", \"radio\", \"radio\", \"radio\", \"rather\", \"rather\", \"rather\", \"rather\", \"really\", \"really\", \"really\", \"really\", \"really_help\", \"really_help\", \"really_help\", \"recently\", \"recently\", \"recently\", \"reduces\", \"reduces\", \"reduces\", \"register\", \"register\", \"register\", \"repurposeyourpain\", \"repurposeyourpain\", \"repurposeyourpain\", \"repurposeyourpain_elsachristiespeaks\", \"repurposeyourpain_elsachristiespeaks\", \"repurposeyourpain_elsachristiespeaks\", \"research\", \"research\", \"research\", \"research\", \"research_find\", \"research_find\", \"research_find\", \"retweet_domesticabuse\", \"retweet_domesticabuse\", \"retweet_domesticabuse\", \"seasonal_affective\", \"seasonal_affective\", \"seasonal_affective\", \"self_care\", \"self_care\", \"self_care\", \"show_loved\", \"show_loved\", \"show_loved\", \"show_loved\", \"shyness\", \"shyness\", \"shyness\", \"shyness\", \"shyness_anxietyhelp\", \"shyness_anxietyhelp\", \"shyness_anxietyhelp\", \"shyness_anxietyhelp\", \"side_effect\", \"side_effect\", \"side_effect\", \"side_effect\", \"socialanxiety\", \"socialanxiety\", \"socialanxiety\", \"socialanxiety\", \"socialanxietyproblems\", \"socialanxietyproblems\", \"socialanxietyproblems\", \"socialanxietyproblems\", \"socialanxietyproblems_mentalillness\", \"socialanxietyproblems_mentalillness\", \"socialanxietyproblems_mentalillness\", \"socialanxietyproblems_mentalillness\", \"socialanxietyproblems_mentalillness_introvertmemes_infj\", \"socialanxietyproblems_mentalillness_introvertmemes_infj\", \"socialanxietyproblems_mentalillness_introvertmemes_infj\", \"socialanxietyproblems_mentalillness_introvertmemes_infj\", \"someone\", \"someone\", \"someone\", \"someone\", \"something\", \"something\", \"something\", \"something\", \"sometimes\", \"sometimes\", \"sometimes\", \"sometimes\", \"sometimes_smallest\", \"sometimes_smallest\", \"sometimes_smallest\", \"ssri\", \"ssri\", \"ssri\", \"step\", \"step\", \"step\", \"step\", \"still\", \"still\", \"still\", \"stopthestigma\", \"stopthestigma\", \"stopthestigma\", \"strapup\", \"strapup\", \"strapup\", \"strapup\", \"strapup_freepj\", \"strapup_freepj\", \"strapup_freepj\", \"strapup_freepj\", \"stress\", \"stress\", \"stress\", \"stress\", \"study\", \"study\", \"study\", \"study\", \"study_published\", \"study_published\", \"study_published\", \"study_published\", \"study_published_lancet_october\", \"study_published_lancet_october\", \"study_published_lancet_october\", \"study_published_lancet_october\", \"suicide_suicideprevention\", \"suicide_suicideprevention\", \"suicide_suicideprevention\", \"survey\", \"survey\", \"survey\", \"survey\", \"take_step\", \"take_step\", \"take_step\", \"talk\", \"talk\", \"talk\", \"talk\", \"talk_buddhist\", \"talk_buddhist\", \"talk_buddhist\", \"talk_psychotherapist\", \"talk_psychotherapist\", \"talk_psychotherapist\", \"talk_therapist\", \"talk_therapist\", \"talk_therapist\", \"talk_therapist\", \"talking\", \"talking\", \"talking\", \"therapist_online\", \"therapist_online\", \"therapist_online\", \"therapy\", \"therapy\", \"therapy\", \"therapy\", \"therapy_overcoming\", \"therapy_overcoming\", \"therapy_overcoming\", \"thought\", \"thought\", \"thought\", \"thought\", \"tip\", \"tip\", \"tip\", \"tip\", \"tip_socialanxiety\", \"tip_socialanxiety\", \"tip_socialanxiety\", \"tip_socialanxiety\", \"using_mindfulness\", \"using_mindfulness\", \"using_mindfulness\", \"wait_hell\", \"wait_hell\", \"wait_hell\", \"wanted\", \"wanted\", \"wanted\", \"wanted\", \"weather\", \"weather\", \"weather\", \"well_being\", \"well_being\", \"well_being\", \"wide\", \"wide\", \"wide\", \"wide\", \"wide_increase\", \"wide_increase\", \"wide_increase\", \"wide_increase\", \"with\", \"with\", \"with\", \"with\", \"without_depending\", \"without_depending\", \"without_depending\", \"world\", \"world\", \"world\", \"world\", \"young\", \"young\", \"young\", \"youth\", \"youth\", \"youth\"]}, \"R\": 30, \"lambda.step\": 0.01, \"plot.opts\": {\"xlab\": \"PC1\", \"ylab\": \"PC2\"}, \"topic.order\": [1, 2, 4, 3]};\n",
       "\n",
       "function LDAvis_load_lib(url, callback){\n",
       "  var s = document.createElement('script');\n",
       "  s.src = url;\n",
       "  s.async = true;\n",
       "  s.onreadystatechange = s.onload = callback;\n",
       "  s.onerror = function(){console.warn(\"failed to load library \" + url);};\n",
       "  document.getElementsByTagName(\"head\")[0].appendChild(s);\n",
       "}\n",
       "\n",
       "if(typeof(LDAvis) !== \"undefined\"){\n",
       "   // already loaded: just create the visualization\n",
       "   !function(LDAvis){\n",
       "       new LDAvis(\"#\" + \"ldavis_el2173215168603882404400369005\", ldavis_el2173215168603882404400369005_data);\n",
       "   }(LDAvis);\n",
       "}else if(typeof define === \"function\" && define.amd){\n",
       "   // require.js is available: use it to load d3/LDAvis\n",
       "   require.config({paths: {d3: \"https://d3js.org/d3.v5\"}});\n",
       "   require([\"d3\"], function(d3){\n",
       "      window.d3 = d3;\n",
       "      LDAvis_load_lib(\"https://cdn.jsdelivr.net/gh/bmabey/pyLDAvis@3.2.2/pyLDAvis/js/ldavis.v3.0.0.js\", function(){\n",
       "        new LDAvis(\"#\" + \"ldavis_el2173215168603882404400369005\", ldavis_el2173215168603882404400369005_data);\n",
       "      });\n",
       "    });\n",
       "}else{\n",
       "    // require.js not available: dynamically load d3 & LDAvis\n",
       "    LDAvis_load_lib(\"https://d3js.org/d3.v5.js\", function(){\n",
       "         LDAvis_load_lib(\"https://cdn.jsdelivr.net/gh/bmabey/pyLDAvis@3.2.2/pyLDAvis/js/ldavis.v3.0.0.js\", function(){\n",
       "                 new LDAvis(\"#\" + \"ldavis_el2173215168603882404400369005\", ldavis_el2173215168603882404400369005_data);\n",
       "            })\n",
       "         });\n",
       "}\n",
       "</script>"
      ],
      "text/plain": [
       "PreparedData(topic_coordinates=              x         y  topics  cluster       Freq\n",
       "topic                                                \n",
       "0     -0.234548  0.202469       1        1  37.452074\n",
       "1      0.358777  0.040743       2        1  35.958979\n",
       "3     -0.108265 -0.314062       3        1  13.339771\n",
       "2     -0.015964  0.070850       4        1  13.249176, topic_info=                                Term         Freq        Total Category  \\\n",
       "term                                                                      \n",
       "839                      really_help  7285.000000  7285.000000  Default   \n",
       "1197                    million_case  6330.000000  6330.000000  Default   \n",
       "1196               disorder_pandemic  6321.000000  6321.000000  Default   \n",
       "684                             wide  3573.000000  3573.000000  Default   \n",
       "1210                   research_find  6573.000000  6573.000000  Default   \n",
       "1175                    live_podcast  2182.000000  2182.000000  Default   \n",
       "1195                 study_published  4226.000000  4226.000000  Default   \n",
       "1207                   evidence_back  4381.000000  4381.000000  Default   \n",
       "1209              performance_always  4381.000000  4381.000000  Default   \n",
       "1202                 beneficial_good  4381.000000  4381.000000  Default   \n",
       "1201                     acupuncture  4383.000000  4383.000000  Default   \n",
       "1176                     quote_radio  1458.000000  1458.000000  Default   \n",
       "78                              find  2657.000000  2657.000000  Default   \n",
       "935                       beneficial  2421.000000  2421.000000  Default   \n",
       "1229                   wide_increase  3977.000000  3977.000000  Default   \n",
       "1227                  lancet_october  3977.000000  3977.000000  Default   \n",
       "1225                  document_world  3977.000000  3977.000000  Default   \n",
       "171                             live  1084.000000  1084.000000  Default   \n",
       "571                         research  2598.000000  2598.000000  Default   \n",
       "1071                       published  2123.000000  2123.000000  Default   \n",
       "465                            quote  1007.000000  1007.000000  Default   \n",
       "1224                        document  2112.000000  2112.000000  Default   \n",
       "262                             case  2119.000000  2119.000000  Default   \n",
       "591                            major  2135.000000  2135.000000  Default   \n",
       "1190                          lancet  2111.000000  2111.000000  Default   \n",
       "159                          podcast   956.000000   956.000000  Default   \n",
       "75                              back  2510.000000  2510.000000  Default   \n",
       "7                              world  2508.000000  2508.000000  Default   \n",
       "62                            always  2464.000000  2464.000000  Default   \n",
       "274                         evidence  2304.000000  2304.000000  Default   \n",
       "...                              ...          ...          ...      ...   \n",
       "49                            online   236.967290   458.384545   Topic4   \n",
       "248                          thought    83.945797   114.864326   Topic4   \n",
       "211                            going    85.272933   117.558065   Topic4   \n",
       "66                             never    77.714659   103.872878   Topic4   \n",
       "7                              world   639.815505  2508.773591   Topic4   \n",
       "39                           therapy   209.773144   463.827656   Topic4   \n",
       "168                             care    94.478161   140.153724   Topic4   \n",
       "68                           someone   100.726857   156.960413   Topic4   \n",
       "129                             love   131.826614   247.518083   Topic4   \n",
       "55             mentalhealthawareness   138.595629   307.295299   Topic4   \n",
       "380                          bipolar   110.492614   209.483635   Topic4   \n",
       "43                              know   103.780705   201.524447   Topic4   \n",
       "1225                  document_world   373.157035  3977.650458   Topic4   \n",
       "1227                  lancet_october   373.157035  3977.650458   Topic4   \n",
       "1229                   wide_increase   373.157035  3977.650458   Topic4   \n",
       "120                      mindfulness   120.065366   309.827712   Topic4   \n",
       "11                              help   280.656807  3087.542170   Topic4   \n",
       "640                         pandemic   249.580398  2281.722860   Topic4   \n",
       "132              mentalhealthmatters   236.218037  2418.389821   Topic4   \n",
       "308                             good   228.718779  2384.305045   Topic4   \n",
       "1226    document_world_wide_increase   186.865420  1991.531254   Topic4   \n",
       "1228  study_published_lancet_october   186.865420  1991.531254   Topic4   \n",
       "807                          million   183.904495  2230.621337   Topic4   \n",
       "1210                   research_find   214.098216  6573.721833   Topic4   \n",
       "153                           really   149.543038  2497.836429   Topic4   \n",
       "1201                     acupuncture   144.591798  4383.442888   Topic4   \n",
       "1202                 beneficial_good   142.919975  4381.744247   Topic4   \n",
       "1207                   evidence_back   142.919975  4381.744247   Topic4   \n",
       "1209              performance_always   142.919975  4381.744247   Topic4   \n",
       "62                            always   133.464382  2464.523637   Topic4   \n",
       "\n",
       "      logprob  loglift  \n",
       "term                    \n",
       "839   30.0000  30.0000  \n",
       "1197  29.0000  29.0000  \n",
       "1196  28.0000  28.0000  \n",
       "684   27.0000  27.0000  \n",
       "1210  26.0000  26.0000  \n",
       "1175  25.0000  25.0000  \n",
       "1195  24.0000  24.0000  \n",
       "1207  23.0000  23.0000  \n",
       "1209  22.0000  22.0000  \n",
       "1202  21.0000  21.0000  \n",
       "1201  20.0000  20.0000  \n",
       "1176  19.0000  19.0000  \n",
       "78    18.0000  18.0000  \n",
       "935   17.0000  17.0000  \n",
       "1229  16.0000  16.0000  \n",
       "1227  15.0000  15.0000  \n",
       "1225  14.0000  14.0000  \n",
       "171   13.0000  13.0000  \n",
       "571   12.0000  12.0000  \n",
       "1071  11.0000  11.0000  \n",
       "465   10.0000  10.0000  \n",
       "1224   9.0000   9.0000  \n",
       "262    8.0000   8.0000  \n",
       "591    7.0000   7.0000  \n",
       "1190   6.0000   6.0000  \n",
       "159    5.0000   5.0000  \n",
       "75     4.0000   4.0000  \n",
       "7      3.0000   3.0000  \n",
       "62     2.0000   2.0000  \n",
       "274    1.0000   1.0000  \n",
       "...       ...      ...  \n",
       "49    -4.7154   1.3614  \n",
       "248   -5.7532   1.7077  \n",
       "211   -5.7375   1.7002  \n",
       "66    -5.8303   1.7311  \n",
       "7     -3.7222   0.6549  \n",
       "39    -4.8373   1.2277  \n",
       "168   -5.6350   1.6269  \n",
       "68    -5.5709   1.5777  \n",
       "129   -5.3019   1.3912  \n",
       "55    -5.2518   1.2250  \n",
       "380   -5.4784   1.3815  \n",
       "43    -5.5411   1.3576  \n",
       "1225  -4.2613  -0.3452  \n",
       "1227  -4.2613  -0.3452  \n",
       "1229  -4.2613  -0.3452  \n",
       "120   -5.3953   1.0733  \n",
       "11    -4.5462  -0.3768  \n",
       "640   -4.6636  -0.1917  \n",
       "132   -4.7186  -0.3049  \n",
       "308   -4.7508  -0.3229  \n",
       "1226  -4.9530  -0.3450  \n",
       "1228  -4.9530  -0.3450  \n",
       "807   -4.9689  -0.4744  \n",
       "1210  -4.8169  -1.4032  \n",
       "153   -5.1758  -0.7944  \n",
       "1201  -5.2094  -1.3904  \n",
       "1202  -5.2211  -1.4017  \n",
       "1207  -5.2211  -1.4017  \n",
       "1209  -5.2211  -1.4017  \n",
       "62    -5.2895  -0.8947  \n",
       "\n",
       "[232 rows x 6 columns], token_table=      Topic      Freq                           Term\n",
       "term                                                \n",
       "1201      2  0.966136                    acupuncture\n",
       "1201      3  0.000684                    acupuncture\n",
       "1201      4  0.033079                    acupuncture\n",
       "41        2  0.895983                      affective\n",
       "41        3  0.085332                      affective\n",
       "41        4  0.021333                      affective\n",
       "542       2  0.033022                        alright\n",
       "542       3  0.957648                        alright\n",
       "542       4  0.016511                        alright\n",
       "62        2  0.943387                         always\n",
       "62        3  0.002029                         always\n",
       "62        4  0.053966                         always\n",
       "75        1  0.000797                           back\n",
       "75        2  0.952566                           back\n",
       "75        3  0.001594                           back\n",
       "75        4  0.045019                           back\n",
       "935       2  0.998230                     beneficial\n",
       "935       3  0.001239                     beneficial\n",
       "935       4  0.000413                     beneficial\n",
       "1202      2  0.966510                beneficial_good\n",
       "1202      3  0.000685                beneficial_good\n",
       "1202      4  0.032635                beneficial_good\n",
       "1203      2  0.965538  beneficial_good_evidence_back\n",
       "1203      3  0.001368  beneficial_good_evidence_back\n",
       "1203      4  0.032823  beneficial_good_evidence_back\n",
       "380       1  0.358023                        bipolar\n",
       "380       2  0.066831                        bipolar\n",
       "380       3  0.042963                        bipolar\n",
       "380       4  0.525101                        bipolar\n",
       "933       1  0.074452                    bipolarclub\n",
       "...     ...       ...                            ...\n",
       "816       3  0.065425                        weather\n",
       "816       4  0.021808                        weather\n",
       "799       2  0.041822                     well_being\n",
       "799       3  0.083644                     well_being\n",
       "799       4  0.878264                     well_being\n",
       "684       1  0.239270                           wide\n",
       "684       2  0.000560                           wide\n",
       "684       3  0.001119                           wide\n",
       "684       4  0.758947                           wide\n",
       "1229      1  0.892235                  wide_increase\n",
       "1229      2  0.001006                  wide_increase\n",
       "1229      3  0.013073                  wide_increase\n",
       "1229      4  0.093774                  wide_increase\n",
       "404       1  0.862140                           with\n",
       "404       2  0.078376                           with\n",
       "404       3  0.048985                           with\n",
       "404       4  0.009797                           with\n",
       "220       2  0.050657              without_depending\n",
       "220       3  0.101313              without_depending\n",
       "220       4  0.835833              without_depending\n",
       "7         1  0.738608                          world\n",
       "7         2  0.001993                          world\n",
       "7         3  0.004385                          world\n",
       "7         4  0.255105                          world\n",
       "336       2  0.050900                          young\n",
       "336       3  0.067867                          young\n",
       "336       4  0.865308                          young\n",
       "363       2  0.067045                          youth\n",
       "363       3  0.923734                          youth\n",
       "363       4  0.007449                          youth\n",
       "\n",
       "[633 rows x 3 columns], R=30, lambda_step=0.01, plot_opts={'xlab': 'PC1', 'ylab': 'PC2'}, topic_order=[1, 2, 4, 3])"
      ]
     },
     "execution_count": 17,
     "metadata": {},
     "output_type": "execute_result"
    }
   ],
   "source": [
    "# visualize the topics\n",
    "pyLDAvis.enable_notebook()\n",
    "LDAvis_viz = pyLDAvis.gensim.prepare(best_model, corpus, dictionary)\n",
    "LDAvis_viz"
   ]
  },
  {
   "cell_type": "markdown",
   "id": "a79f634c",
   "metadata": {},
   "source": [
    "### We interpret the topics based on the keywords."
   ]
  },
  {
   "cell_type": "code",
   "execution_count": 34,
   "id": "277ca787",
   "metadata": {},
   "outputs": [
    {
     "name": "stdout",
     "output_type": "stream",
     "text": [
      "1: Studies/Publications/Stats\n",
      "2: Treatment Research/Experience\n",
      "3: Mediums/Trends\n",
      "4: Therapy/Symptoms\n"
     ]
    }
   ],
   "source": [
    "print('1: Studies/Publications/Stats')\n",
    "print('2: Treatment Research/Experience')\n",
    "print('3: Mediums/Trends')\n",
    "print('4: Therapy/Symptoms')"
   ]
  },
  {
   "cell_type": "markdown",
   "id": "880e28f6",
   "metadata": {},
   "source": [
    "### Finally, we label the data and save it."
   ]
  },
  {
   "cell_type": "code",
   "execution_count": 35,
   "id": "361de8d0",
   "metadata": {},
   "outputs": [],
   "source": [
    "cat_name = ['Studies/Publications/Stats', 'Treatment Research/Experience', 'Mediums/Trends', 'Therapy/Symptoms']\n",
    "\n",
    "def add_labels(model=best_model, corpus=corpus, data=data):\n",
    "    # get main topic in each document\n",
    "    topics = []\n",
    "    categories = []\n",
    "    for i, row in enumerate(model[corpus]):\n",
    "        row = sorted(row, key=lambda x: (x[1]), reverse=True)\n",
    "        for j, (topic_num, prop_topic) in enumerate(row):\n",
    "            if j == 0:  # dominant topic\n",
    "                wp = model.show_topic(topic_num)\n",
    "                topics.append(topic_num+1)\n",
    "                categories.append(cat_name[topic_num])\n",
    "            else:\n",
    "                break\n",
    "    data['category'] = categories\n",
    "    data['class'] = topics\n",
    "    return data.reset_index()"
   ]
  },
  {
   "cell_type": "code",
   "execution_count": 36,
   "id": "677937f7",
   "metadata": {},
   "outputs": [],
   "source": [
    "data_labelled = add_labels(model=best_model, corpus=corpus, data=data)"
   ]
  },
  {
   "cell_type": "code",
   "execution_count": 37,
   "id": "a2358077",
   "metadata": {},
   "outputs": [
    {
     "data": {
      "text/plain": [
       "count                          16733\n",
       "unique                             4\n",
       "top       Studies/Publications/Stats\n",
       "freq                           10090\n",
       "Name: category, dtype: object"
      ]
     },
     "execution_count": 37,
     "metadata": {},
     "output_type": "execute_result"
    }
   ],
   "source": [
    "data_labelled.category.describe()"
   ]
  },
  {
   "cell_type": "code",
   "execution_count": 38,
   "id": "604916b8",
   "metadata": {},
   "outputs": [
    {
     "data": {
      "text/plain": [
       "array([1, 3, 2, 4], dtype=int64)"
      ]
     },
     "execution_count": 38,
     "metadata": {},
     "output_type": "execute_result"
    }
   ],
   "source": [
    "data_labelled['class'].unique()"
   ]
  },
  {
   "cell_type": "code",
   "execution_count": 39,
   "id": "95ef357f",
   "metadata": {},
   "outputs": [
    {
     "data": {
      "text/html": [
       "<div>\n",
       "<style scoped>\n",
       "    .dataframe tbody tr th:only-of-type {\n",
       "        vertical-align: middle;\n",
       "    }\n",
       "\n",
       "    .dataframe tbody tr th {\n",
       "        vertical-align: top;\n",
       "    }\n",
       "\n",
       "    .dataframe thead th {\n",
       "        text-align: right;\n",
       "    }\n",
       "</style>\n",
       "<table border=\"1\" class=\"dataframe\">\n",
       "  <thead>\n",
       "    <tr style=\"text-align: right;\">\n",
       "      <th></th>\n",
       "      <th>user_ID</th>\n",
       "      <th>followers_count</th>\n",
       "      <th>user_location</th>\n",
       "      <th>user_description</th>\n",
       "      <th>date</th>\n",
       "      <th>text</th>\n",
       "      <th>hashtags</th>\n",
       "      <th>category</th>\n",
       "      <th>class</th>\n",
       "    </tr>\n",
       "  </thead>\n",
       "  <tbody>\n",
       "    <tr>\n",
       "      <th>0</th>\n",
       "      <td>1.390000e+18</td>\n",
       "      <td>53</td>\n",
       "      <td>Barcelona, Spain</td>\n",
       "      <td>For 34 years, Psych Congress has served as a u...</td>\n",
       "      <td>10/27/2021 11:45</td>\n",
       "      <td>Extended abstract submission deadline is TODAY...</td>\n",
       "      <td>NaN</td>\n",
       "      <td>Studies/Publications/Stats</td>\n",
       "      <td>1</td>\n",
       "    </tr>\n",
       "    <tr>\n",
       "      <th>1</th>\n",
       "      <td>2.350451e+09</td>\n",
       "      <td>30626</td>\n",
       "      <td>Sacramento, California</td>\n",
       "      <td>Believer in creating a healthy game plan to fe...</td>\n",
       "      <td>10/27/2021 11:39</td>\n",
       "      <td>🌟This Fall and if you can, intentionally spend...</td>\n",
       "      <td>['anxiety']</td>\n",
       "      <td>Mediums/Trends</td>\n",
       "      <td>3</td>\n",
       "    </tr>\n",
       "    <tr>\n",
       "      <th>2</th>\n",
       "      <td>3.345540e+09</td>\n",
       "      <td>829</td>\n",
       "      <td>Pittsburgh, PA</td>\n",
       "      <td>Founder Motivation Champs, Publisher 📚, Screen...</td>\n",
       "      <td>10/27/2021 11:38</td>\n",
       "      <td>Proud to welcome Stephanie Kunkel to the Motiv...</td>\n",
       "      <td>NaN</td>\n",
       "      <td>Mediums/Trends</td>\n",
       "      <td>3</td>\n",
       "    </tr>\n",
       "    <tr>\n",
       "      <th>3</th>\n",
       "      <td>1.174093e+07</td>\n",
       "      <td>3089</td>\n",
       "      <td>Toronto, Canada</td>\n",
       "      <td>Self healing journey from ✝️ trauma to spiritu...</td>\n",
       "      <td>10/27/2021 11:35</td>\n",
       "      <td>How much energy do you put into keeping up app...</td>\n",
       "      <td>['travelblogger']</td>\n",
       "      <td>Studies/Publications/Stats</td>\n",
       "      <td>1</td>\n",
       "    </tr>\n",
       "    <tr>\n",
       "      <th>4</th>\n",
       "      <td>4.008473e+09</td>\n",
       "      <td>417</td>\n",
       "      <td>London, England</td>\n",
       "      <td>rTMS treatment across the UK and Ireland.\\r\\r\\...</td>\n",
       "      <td>10/27/2021 11:35</td>\n",
       "      <td>Did you know that we treat seasonal affective ...</td>\n",
       "      <td>['seasonalaffectivedisorder', 'SAD']</td>\n",
       "      <td>Treatment Research/Experience</td>\n",
       "      <td>2</td>\n",
       "    </tr>\n",
       "  </tbody>\n",
       "</table>\n",
       "</div>"
      ],
      "text/plain": [
       "        user_ID  followers_count           user_location  \\\n",
       "0  1.390000e+18               53        Barcelona, Spain   \n",
       "1  2.350451e+09            30626  Sacramento, California   \n",
       "2  3.345540e+09              829          Pittsburgh, PA   \n",
       "3  1.174093e+07             3089         Toronto, Canada   \n",
       "4  4.008473e+09              417         London, England   \n",
       "\n",
       "                                    user_description              date  \\\n",
       "0  For 34 years, Psych Congress has served as a u...  10/27/2021 11:45   \n",
       "1  Believer in creating a healthy game plan to fe...  10/27/2021 11:39   \n",
       "2  Founder Motivation Champs, Publisher 📚, Screen...  10/27/2021 11:38   \n",
       "3  Self healing journey from ✝️ trauma to spiritu...  10/27/2021 11:35   \n",
       "4  rTMS treatment across the UK and Ireland.\\r\\r\\...  10/27/2021 11:35   \n",
       "\n",
       "                                                text  \\\n",
       "0  Extended abstract submission deadline is TODAY...   \n",
       "1  🌟This Fall and if you can, intentionally spend...   \n",
       "2  Proud to welcome Stephanie Kunkel to the Motiv...   \n",
       "3  How much energy do you put into keeping up app...   \n",
       "4  Did you know that we treat seasonal affective ...   \n",
       "\n",
       "                               hashtags                       category  class  \n",
       "0                                   NaN     Studies/Publications/Stats      1  \n",
       "1                           ['anxiety']                 Mediums/Trends      3  \n",
       "2                                   NaN                 Mediums/Trends      3  \n",
       "3                     ['travelblogger']     Studies/Publications/Stats      1  \n",
       "4  ['seasonalaffectivedisorder', 'SAD']  Treatment Research/Experience      2  "
      ]
     },
     "execution_count": 39,
     "metadata": {},
     "output_type": "execute_result"
    }
   ],
   "source": [
    "data.head()"
   ]
  },
  {
   "cell_type": "code",
   "execution_count": 40,
   "id": "c26f56a0",
   "metadata": {},
   "outputs": [
    {
     "name": "stdout",
     "output_type": "stream",
     "text": [
      "Tweet: A new study published in the Lancet on 8 October 2021 documents a world-wide increase of more than 129 million cases of major #depression (53.2mn) and #anxiety (76.2mn) disorders during the #pandemic https://t.co/2ZrVYEY9sX #MentalHealthMatters https://t.co/x2MeI2XNIz\n",
      "************************************************************\n",
      "Category: Studies/Publications/Stats\n",
      "--------------------------------------------------------------------------------------------------------------------------------\n",
      "Tweet: A new study published in the Lancet on 8 October 2021 documents a world-wide increase of more than 129 million cases of major #depression (53.2mn) and #anxiety (76.2mn) disorders during the #pandemic https://t.co/2ZrVYEY9sX #MentalHealthMatters https://t.co/x2MeI2XNIz\n",
      "************************************************************\n",
      "Category: Studies/Publications/Stats\n",
      "--------------------------------------------------------------------------------------------------------------------------------\n",
      "Tweet: Exactly this👇#depression #mentalhealth #signs https://t.co/aiKaUVWfft\n",
      "************************************************************\n",
      "Category: Therapy/Symptoms\n",
      "--------------------------------------------------------------------------------------------------------------------------------\n",
      "Tweet: A new study published in the Lancet on 8 October 2021 documents a world-wide increase of more than 129 million cases of major #depression (53.2mn) and #anxiety (76.2mn) disorders during the #pandemic https://t.co/2ZrVYEY9sX #MentalHealthMatters https://t.co/x2MeI2XNIz\n",
      "************************************************************\n",
      "Category: Studies/Publications/Stats\n",
      "--------------------------------------------------------------------------------------------------------------------------------\n",
      "Tweet: New research out finds that #acupuncture reduces #depression &amp; enhances SSRI performance https://t.co/TIBa8O94vm \r",
      "\r\n",
      "We've always known how beneficial it is, so its good to have the evidence to back it up. Acupuncture can really help!\r",
      "\r\n",
      "\r",
      "\r\n",
      "#mentalhealth https://t.co/OtkjCKTKX4\n",
      "************************************************************\n",
      "Category: Treatment Research/Experience\n",
      "--------------------------------------------------------------------------------------------------------------------------------\n"
     ]
    }
   ],
   "source": [
    "for i in range(5):\n",
    "    random_tweet = random.randint(1,len(data))\n",
    "    print('Tweet:', data.text[random_tweet])\n",
    "    print('************************************************************')\n",
    "    print('Category:', data.category[random_tweet])\n",
    "    print('--------------------------------------------------------------------------------------------------------------------------------')"
   ]
  },
  {
   "cell_type": "code",
   "execution_count": 41,
   "id": "4dbc8322",
   "metadata": {},
   "outputs": [],
   "source": [
    "data.to_csv('Depression with TM labels.csv')"
   ]
  }
 ],
 "metadata": {
  "kernelspec": {
   "display_name": "Python 3",
   "language": "python",
   "name": "python3"
  },
  "language_info": {
   "codemirror_mode": {
    "name": "ipython",
    "version": 3
   },
   "file_extension": ".py",
   "mimetype": "text/x-python",
   "name": "python",
   "nbconvert_exporter": "python",
   "pygments_lexer": "ipython3",
   "version": "3.6.5"
  }
 },
 "nbformat": 4,
 "nbformat_minor": 5
}
