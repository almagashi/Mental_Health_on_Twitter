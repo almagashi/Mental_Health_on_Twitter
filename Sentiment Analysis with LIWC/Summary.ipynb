{
 "cells": [
  {
   "cell_type": "code",
   "execution_count": 1,
   "id": "64b5dd58",
   "metadata": {},
   "outputs": [],
   "source": [
    "import pandas as pd\n",
    "import matplotlib.pyplot as plt\n",
    "% matplotlib inline\n",
    "import numpy as np\n",
    "import seaborn as sns\n",
    "from sklearn.metrics import confusion_matrix\n",
    "from sklearn import linear_model, metrics\n",
    "from sklearn.model_selection import train_test_split\n",
    "from scipy import stats\n",
    "from sklearn.preprocessing import MinMaxScaler\n",
    "import statsmodels.api as sm\n",
    "from sklearn.model_selection import cross_val_score\n",
    "from sklearn.linear_model import LogisticRegression\n",
    "from sklearn.svm import SVC\n"
   ]
  },
  {
   "cell_type": "markdown",
   "id": "a6ea931b",
   "metadata": {},
   "source": [
    "**Data Description**"
   ]
  },
  {
   "cell_type": "code",
   "execution_count": 9,
   "id": "f6fe8fd9",
   "metadata": {},
   "outputs": [
    {
     "data": {
      "text/html": [
       "<div>\n",
       "<style scoped>\n",
       "    .dataframe tbody tr th:only-of-type {\n",
       "        vertical-align: middle;\n",
       "    }\n",
       "\n",
       "    .dataframe tbody tr th {\n",
       "        vertical-align: top;\n",
       "    }\n",
       "\n",
       "    .dataframe thead th {\n",
       "        text-align: right;\n",
       "    }\n",
       "</style>\n",
       "<table border=\"1\" class=\"dataframe\">\n",
       "  <thead>\n",
       "    <tr style=\"text-align: right;\">\n",
       "      <th></th>\n",
       "      <th>A</th>\n",
       "      <th>B</th>\n",
       "      <th>C</th>\n",
       "      <th>D</th>\n",
       "      <th>E</th>\n",
       "      <th>F</th>\n",
       "      <th>G</th>\n",
       "      <th>H</th>\n",
       "      <th>I</th>\n",
       "      <th>WC</th>\n",
       "      <th>...</th>\n",
       "      <th>risk</th>\n",
       "      <th>focuspast</th>\n",
       "      <th>focuspresent</th>\n",
       "      <th>focusfuture</th>\n",
       "      <th>informal</th>\n",
       "      <th>swear</th>\n",
       "      <th>netspeak</th>\n",
       "      <th>assent</th>\n",
       "      <th>nonflu</th>\n",
       "      <th>filler</th>\n",
       "    </tr>\n",
       "  </thead>\n",
       "  <tbody>\n",
       "    <tr>\n",
       "      <th>0</th>\n",
       "      <td>0</td>\n",
       "      <td>1.390000e+18</td>\n",
       "      <td>53</td>\n",
       "      <td>Barcelona, Spain</td>\n",
       "      <td>For 34 years, Psych Congress has served as a u...</td>\n",
       "      <td>10/27/2021 11:45</td>\n",
       "      <td>Extended abstract submission deadline is TODAY...</td>\n",
       "      <td>NaN</td>\n",
       "      <td>2.0</td>\n",
       "      <td>47</td>\n",
       "      <td>...</td>\n",
       "      <td>0.00</td>\n",
       "      <td>2.13</td>\n",
       "      <td>10.64</td>\n",
       "      <td>0.0</td>\n",
       "      <td>4.26</td>\n",
       "      <td>0.0</td>\n",
       "      <td>4.26</td>\n",
       "      <td>0.0</td>\n",
       "      <td>0.0</td>\n",
       "      <td>0.0</td>\n",
       "    </tr>\n",
       "    <tr>\n",
       "      <th>1</th>\n",
       "      <td>1</td>\n",
       "      <td>2.350451e+09</td>\n",
       "      <td>30626</td>\n",
       "      <td>Sacramento, California</td>\n",
       "      <td>Believer in creating a healthy game plan to fe...</td>\n",
       "      <td>10/27/2021 11:39</td>\n",
       "      <td>🌟This Fall and if you can, intentionally spend...</td>\n",
       "      <td>['anxiety']</td>\n",
       "      <td>2.0</td>\n",
       "      <td>43</td>\n",
       "      <td>...</td>\n",
       "      <td>2.33</td>\n",
       "      <td>0.00</td>\n",
       "      <td>6.98</td>\n",
       "      <td>0.0</td>\n",
       "      <td>4.65</td>\n",
       "      <td>0.0</td>\n",
       "      <td>4.65</td>\n",
       "      <td>0.0</td>\n",
       "      <td>0.0</td>\n",
       "      <td>0.0</td>\n",
       "    </tr>\n",
       "  </tbody>\n",
       "</table>\n",
       "<p>2 rows × 50 columns</p>\n",
       "</div>"
      ],
      "text/plain": [
       "   A             B      C                       D  \\\n",
       "0  0  1.390000e+18     53        Barcelona, Spain   \n",
       "1  1  2.350451e+09  30626  Sacramento, California   \n",
       "\n",
       "                                                   E                 F  \\\n",
       "0  For 34 years, Psych Congress has served as a u...  10/27/2021 11:45   \n",
       "1  Believer in creating a healthy game plan to fe...  10/27/2021 11:39   \n",
       "\n",
       "                                                   G            H    I  WC  \\\n",
       "0  Extended abstract submission deadline is TODAY...          NaN  2.0  47   \n",
       "1  🌟This Fall and if you can, intentionally spend...  ['anxiety']  2.0  43   \n",
       "\n",
       "    ...    risk  focuspast  focuspresent  focusfuture  informal  swear  \\\n",
       "0   ...    0.00       2.13         10.64          0.0      4.26    0.0   \n",
       "1   ...    2.33       0.00          6.98          0.0      4.65    0.0   \n",
       "\n",
       "   netspeak  assent  nonflu  filler  \n",
       "0      4.26     0.0     0.0     0.0  \n",
       "1      4.65     0.0     0.0     0.0  \n",
       "\n",
       "[2 rows x 50 columns]"
      ]
     },
     "execution_count": 9,
     "metadata": {},
     "output_type": "execute_result"
    }
   ],
   "source": [
    "sentiment_d = pd.read_csv('liwcdepression.csv')\n",
    "sentiment_d.head(2)"
   ]
  },
  {
   "cell_type": "code",
   "execution_count": 3,
   "id": "e92ba1d6",
   "metadata": {},
   "outputs": [
    {
     "data": {
      "text/plain": [
       "Index(['A', 'B', 'C', 'D', 'E', 'F', 'G', 'H', 'I', 'WC', 'Analytic', 'Clout',\n",
       "       'Authentic', 'Tone', 'WPS', 'Sixltr', 'Dic', 'affect', 'posemo',\n",
       "       'negemo', 'anx', 'anger', 'sad', 'social', 'family', 'friend', 'female',\n",
       "       'male', 'cogproc', 'insight', 'cause', 'discrep', 'tentat', 'certain',\n",
       "       'differ', 'drives', 'affiliation', 'achieve', 'power', 'reward', 'risk',\n",
       "       'focuspast', 'focuspresent', 'focusfuture', 'informal', 'swear',\n",
       "       'netspeak', 'assent', 'nonflu', 'filler'],\n",
       "      dtype='object')"
      ]
     },
     "execution_count": 3,
     "metadata": {},
     "output_type": "execute_result"
    }
   ],
   "source": [
    "sentiment_d.columns"
   ]
  },
  {
   "cell_type": "code",
   "execution_count": 15,
   "id": "95ef8caf",
   "metadata": {},
   "outputs": [
    {
     "name": "stdout",
     "output_type": "stream",
     "text": [
      "Positive Mood Average 1.4611253212215716\n",
      "Negative Mood Average 8.804785752705042\n",
      "Tone Average 13.93900794836531\n",
      "Risk Words Average 0.5970089045598372\n",
      "Anger Words Average 0.1596312675551309\n",
      "Anxious Words Average 2.219996414270925\n",
      "Social Words Average 2.8010004183348243\n"
     ]
    }
   ],
   "source": [
    "posemo_d = sentiment_d['posemo']\n",
    "negemo_d = sentiment_d['negemo']\n",
    "tone_d = sentiment_d['Tone']\n",
    "risk_d = sentiment_d['risk']\n",
    "anger_d = sentiment_d['anger']\n",
    "anx_d = sentiment_d['anx']\n",
    "social_d = sentiment_d['social']\n",
    "\n",
    "print('Positive Mood Average', np.mean(posemo_d))\n",
    "print('Negative Mood Average',np.mean(negemo_d))\n",
    "print('Tone Average',np.mean(tone_d))\n",
    "print('Risk Words Average',np.mean(risk_d))\n",
    "print('Anger Words Average',np.mean(anger_d))\n",
    "print('Anxious Words Average',np.mean(anx_d))\n",
    "print('Social Words Average',np.mean(social_d))"
   ]
  },
  {
   "cell_type": "code",
   "execution_count": 10,
   "id": "534f7c2b",
   "metadata": {},
   "outputs": [
    {
     "data": {
      "text/html": [
       "<div>\n",
       "<style scoped>\n",
       "    .dataframe tbody tr th:only-of-type {\n",
       "        vertical-align: middle;\n",
       "    }\n",
       "\n",
       "    .dataframe tbody tr th {\n",
       "        vertical-align: top;\n",
       "    }\n",
       "\n",
       "    .dataframe thead th {\n",
       "        text-align: right;\n",
       "    }\n",
       "</style>\n",
       "<table border=\"1\" class=\"dataframe\">\n",
       "  <thead>\n",
       "    <tr style=\"text-align: right;\">\n",
       "      <th></th>\n",
       "      <th>A</th>\n",
       "      <th>B</th>\n",
       "      <th>C</th>\n",
       "      <th>D</th>\n",
       "      <th>E</th>\n",
       "      <th>F</th>\n",
       "      <th>G</th>\n",
       "      <th>H</th>\n",
       "      <th>WC</th>\n",
       "      <th>Analytic</th>\n",
       "      <th>...</th>\n",
       "      <th>risk</th>\n",
       "      <th>focuspast</th>\n",
       "      <th>focuspresent</th>\n",
       "      <th>focusfuture</th>\n",
       "      <th>informal</th>\n",
       "      <th>swear</th>\n",
       "      <th>netspeak</th>\n",
       "      <th>assent</th>\n",
       "      <th>nonflu</th>\n",
       "      <th>filler</th>\n",
       "    </tr>\n",
       "  </thead>\n",
       "  <tbody>\n",
       "    <tr>\n",
       "      <th>0</th>\n",
       "      <td>0</td>\n",
       "      <td>1365319367676878849</td>\n",
       "      <td>52</td>\n",
       "      <td>Sheffield, England</td>\n",
       "      <td>❤Sal / UK\\r\\r\\n🧡Player of games, Master of non...</td>\n",
       "      <td>2021-10-27 12:40:38</td>\n",
       "      <td>Saw GP today and we went through stuff and I t...</td>\n",
       "      <td>NaN</td>\n",
       "      <td>47</td>\n",
       "      <td>81.28</td>\n",
       "      <td>...</td>\n",
       "      <td>0.0</td>\n",
       "      <td>4.26</td>\n",
       "      <td>10.64</td>\n",
       "      <td>0.0</td>\n",
       "      <td>0.00</td>\n",
       "      <td>0.0</td>\n",
       "      <td>0.00</td>\n",
       "      <td>0.0</td>\n",
       "      <td>0.0</td>\n",
       "      <td>0.0</td>\n",
       "    </tr>\n",
       "    <tr>\n",
       "      <th>1</th>\n",
       "      <td>1</td>\n",
       "      <td>53638786</td>\n",
       "      <td>1667</td>\n",
       "      <td>UK</td>\n",
       "      <td>27y/o nonbinary creator. They/Them. disabled. ...</td>\n",
       "      <td>2021-10-27 12:40:00</td>\n",
       "      <td>My ADHD Graveyard | Officially Diagnosed and A...</td>\n",
       "      <td>NaN</td>\n",
       "      <td>33</td>\n",
       "      <td>73.59</td>\n",
       "      <td>...</td>\n",
       "      <td>0.0</td>\n",
       "      <td>0.00</td>\n",
       "      <td>3.03</td>\n",
       "      <td>0.0</td>\n",
       "      <td>6.06</td>\n",
       "      <td>0.0</td>\n",
       "      <td>6.06</td>\n",
       "      <td>0.0</td>\n",
       "      <td>0.0</td>\n",
       "      <td>0.0</td>\n",
       "    </tr>\n",
       "  </tbody>\n",
       "</table>\n",
       "<p>2 rows × 49 columns</p>\n",
       "</div>"
      ],
      "text/plain": [
       "   A                    B     C                   D  \\\n",
       "0  0  1365319367676878849    52  Sheffield, England   \n",
       "1  1             53638786  1667                  UK   \n",
       "\n",
       "                                                   E                    F  \\\n",
       "0  ❤Sal / UK\\r\\r\\n🧡Player of games, Master of non...  2021-10-27 12:40:38   \n",
       "1  27y/o nonbinary creator. They/Them. disabled. ...  2021-10-27 12:40:00   \n",
       "\n",
       "                                                   G    H  WC  Analytic  \\\n",
       "0  Saw GP today and we went through stuff and I t...  NaN  47     81.28   \n",
       "1  My ADHD Graveyard | Officially Diagnosed and A...  NaN  33     73.59   \n",
       "\n",
       "    ...    risk  focuspast  focuspresent  focusfuture  informal  swear  \\\n",
       "0   ...     0.0       4.26         10.64          0.0      0.00    0.0   \n",
       "1   ...     0.0       0.00          3.03          0.0      6.06    0.0   \n",
       "\n",
       "   netspeak  assent  nonflu  filler  \n",
       "0      0.00     0.0     0.0     0.0  \n",
       "1      6.06     0.0     0.0     0.0  \n",
       "\n",
       "[2 rows x 49 columns]"
      ]
     },
     "execution_count": 10,
     "metadata": {},
     "output_type": "execute_result"
    }
   ],
   "source": [
    "sentiment_a = pd.read_csv('liwcadhd.csv')\n",
    "sentiment_a.head(2)"
   ]
  },
  {
   "cell_type": "code",
   "execution_count": 16,
   "id": "db060076",
   "metadata": {},
   "outputs": [
    {
     "name": "stdout",
     "output_type": "stream",
     "text": [
      "Positive Mood Average 1.5461720051842187\n",
      "Negative Mood Average 0.8152036659877753\n",
      "Tone Average 40.86207276431081\n",
      "Risk Words Average 0.13222181077578232\n",
      "Anger Words Average 0.12365210146269179\n",
      "Anxious Words Average 0.19719496389557523\n",
      "Social Words Average 9.381833919643295\n"
     ]
    }
   ],
   "source": [
    "posemo_a = sentiment_a['posemo']\n",
    "negemo_a = sentiment_a['negemo']\n",
    "tone_a = sentiment_a['Tone']\n",
    "risk_a = sentiment_a['risk']\n",
    "anger_a = sentiment_a['anger']\n",
    "anx_a = sentiment_a['anx']\n",
    "social_a = sentiment_a['social']\n",
    "\n",
    "print('Positive Mood Average', np.mean(posemo_a))\n",
    "print('Negative Mood Average',np.mean(negemo_a))\n",
    "print('Tone Average',np.mean(tone_a))\n",
    "print('Risk Words Average',np.mean(risk_a))\n",
    "print('Anger Words Average',np.mean(anger_a))\n",
    "print('Anxious Words Average',np.mean(anx_a))\n",
    "print('Social Words Average',np.mean(social_a))"
   ]
  },
  {
   "cell_type": "code",
   "execution_count": 11,
   "id": "74f12cd2",
   "metadata": {},
   "outputs": [
    {
     "data": {
      "text/html": [
       "<div>\n",
       "<style scoped>\n",
       "    .dataframe tbody tr th:only-of-type {\n",
       "        vertical-align: middle;\n",
       "    }\n",
       "\n",
       "    .dataframe tbody tr th {\n",
       "        vertical-align: top;\n",
       "    }\n",
       "\n",
       "    .dataframe thead th {\n",
       "        text-align: right;\n",
       "    }\n",
       "</style>\n",
       "<table border=\"1\" class=\"dataframe\">\n",
       "  <thead>\n",
       "    <tr style=\"text-align: right;\">\n",
       "      <th></th>\n",
       "      <th>Source (A)</th>\n",
       "      <th>Source (B)</th>\n",
       "      <th>Source (C)</th>\n",
       "      <th>Source (D)</th>\n",
       "      <th>Source (E)</th>\n",
       "      <th>Source (F)</th>\n",
       "      <th>Source (G)</th>\n",
       "      <th>Source (H)</th>\n",
       "      <th>WC</th>\n",
       "      <th>Analytic</th>\n",
       "      <th>...</th>\n",
       "      <th>risk</th>\n",
       "      <th>focuspast</th>\n",
       "      <th>focuspresent</th>\n",
       "      <th>focusfuture</th>\n",
       "      <th>informal</th>\n",
       "      <th>swear</th>\n",
       "      <th>netspeak</th>\n",
       "      <th>assent</th>\n",
       "      <th>nonflu</th>\n",
       "      <th>filler</th>\n",
       "    </tr>\n",
       "  </thead>\n",
       "  <tbody>\n",
       "    <tr>\n",
       "      <th>0</th>\n",
       "      <td>0</td>\n",
       "      <td>829318199468490752</td>\n",
       "      <td>294</td>\n",
       "      <td>Eora Nation</td>\n",
       "      <td>PhD candidate in gender and cultural studies @...</td>\n",
       "      <td>2021-10-27 11:59:28</td>\n",
       "      <td>New research out finds that #acupuncture reduc...</td>\n",
       "      <td>NaN</td>\n",
       "      <td>45</td>\n",
       "      <td>46.37</td>\n",
       "      <td>...</td>\n",
       "      <td>0.0</td>\n",
       "      <td>4.44</td>\n",
       "      <td>6.67</td>\n",
       "      <td>0.0</td>\n",
       "      <td>4.44</td>\n",
       "      <td>0.0</td>\n",
       "      <td>4.44</td>\n",
       "      <td>0.0</td>\n",
       "      <td>0.0</td>\n",
       "      <td>0.0</td>\n",
       "    </tr>\n",
       "    <tr>\n",
       "      <th>1</th>\n",
       "      <td>1</td>\n",
       "      <td>415086641</td>\n",
       "      <td>432</td>\n",
       "      <td>London</td>\n",
       "      <td>Children’s Book Illustrator 🎨 &amp; former @pathwa...</td>\n",
       "      <td>2021-10-27 11:51:28</td>\n",
       "      <td>New research out finds that #acupuncture reduc...</td>\n",
       "      <td>['ocd']</td>\n",
       "      <td>45</td>\n",
       "      <td>46.37</td>\n",
       "      <td>...</td>\n",
       "      <td>0.0</td>\n",
       "      <td>4.44</td>\n",
       "      <td>6.67</td>\n",
       "      <td>0.0</td>\n",
       "      <td>4.44</td>\n",
       "      <td>0.0</td>\n",
       "      <td>4.44</td>\n",
       "      <td>0.0</td>\n",
       "      <td>0.0</td>\n",
       "      <td>0.0</td>\n",
       "    </tr>\n",
       "  </tbody>\n",
       "</table>\n",
       "<p>2 rows × 49 columns</p>\n",
       "</div>"
      ],
      "text/plain": [
       "   Source (A)          Source (B)  Source (C)   Source (D)  \\\n",
       "0           0  829318199468490752         294  Eora Nation   \n",
       "1           1           415086641         432       London   \n",
       "\n",
       "                                          Source (E)           Source (F)  \\\n",
       "0  PhD candidate in gender and cultural studies @...  2021-10-27 11:59:28   \n",
       "1  Children’s Book Illustrator 🎨 & former @pathwa...  2021-10-27 11:51:28   \n",
       "\n",
       "                                          Source (G) Source (H)  WC  Analytic  \\\n",
       "0  New research out finds that #acupuncture reduc...        NaN  45     46.37   \n",
       "1  New research out finds that #acupuncture reduc...    ['ocd']  45     46.37   \n",
       "\n",
       "    ...    risk  focuspast  focuspresent  focusfuture  informal  swear  \\\n",
       "0   ...     0.0       4.44          6.67          0.0      4.44    0.0   \n",
       "1   ...     0.0       4.44          6.67          0.0      4.44    0.0   \n",
       "\n",
       "   netspeak  assent  nonflu  filler  \n",
       "0      4.44     0.0     0.0     0.0  \n",
       "1      4.44     0.0     0.0     0.0  \n",
       "\n",
       "[2 rows x 49 columns]"
      ]
     },
     "execution_count": 11,
     "metadata": {},
     "output_type": "execute_result"
    }
   ],
   "source": [
    "sentiment_o = pd.read_csv('liwcocd.csv')\n",
    "sentiment_o.head(2)"
   ]
  },
  {
   "cell_type": "code",
   "execution_count": 49,
   "id": "3ed8626d",
   "metadata": {},
   "outputs": [
    {
     "name": "stdout",
     "output_type": "stream",
     "text": [
      "Positive Mood Average 2.6491198044009883\n",
      "Negative Mood Average 3.3707998602864064\n",
      "Tone Average 36.44690534404496\n",
      "Risk Words Average 0.28133077191756894\n",
      "Anger Words Average 0.31406566538595804\n",
      "Anxious Words Average 1.7610653161019938\n",
      "Social Words Average 5.430764931889652\n"
     ]
    }
   ],
   "source": [
    "posemo_o = sentiment_o['posemo']\n",
    "negemo_o = sentiment_o['negemo']\n",
    "tone_o = sentiment_o['Tone']\n",
    "risk_o = sentiment_o['risk']\n",
    "anger_o = sentiment_o['anger']\n",
    "anx_o = sentiment_o['anx']\n",
    "social_o = sentiment_o['social']\n",
    "\n",
    "print('Positive Mood Average', np.mean(posemo_o))\n",
    "print('Negative Mood Average',np.mean(negemo_o))\n",
    "print('Tone Average',np.mean(tone_o))\n",
    "print('Risk Words Average',np.mean(risk_o))\n",
    "print('Anger Words Average',np.mean(anger_o))\n",
    "print('Anxious Words Average',np.mean(anx_o))\n",
    "print('Social Words Average',np.mean(social_o))"
   ]
  },
  {
   "cell_type": "code",
   "execution_count": 93,
   "id": "2d897db5",
   "metadata": {},
   "outputs": [
    {
     "data": {
      "text/plain": [
       "<matplotlib.legend.Legend at 0x208bb57deb8>"
      ]
     },
     "execution_count": 93,
     "metadata": {},
     "output_type": "execute_result"
    },
    {
     "data": {
      "image/png": "[encoded data removed]",
      "text/plain": [
       "<Figure size 432x288 with 1 Axes>"
      ]
     },
     "metadata": {},
     "output_type": "display_data"
    }
   ],
   "source": [
    "data = [[1.46,8.8, 0.59],\n",
    "[1.54, 0.81, 0.13],\n",
    "[2.64, 3.3, 0.281]]\n",
    "\n",
    "# the x locations for the groups\n",
    "width = 0.27  \n",
    "X = np.arange(3)\n",
    "\n",
    "fig = plt.figure()\n",
    "ax = fig.add_axes([0,0,1,1])\n",
    "n = ['Positive Emotion', 'Negative Emotion', 'Risk']\n",
    "ax.bar(X + 0.00, data[0], color = 'lightblue', width = 0.25)\n",
    "ax.bar(X + 0.25, data[1], color = 'lightpink', width = 0.25)\n",
    "ax.bar(X + 0.50, data[2], color = 'lightgray', width = 0.25)\n",
    "ax.set_ylabel('The percentage of total words')\n",
    "ax.set_xticks(X+width)\n",
    "ax.set_xticklabels(['Positive Emotion', 'Negative Emotion', 'Risk'])\n",
    "ax.set_title('Positive, Negative and Risk Words Appearance in Tweet')\n",
    "ax.legend(labels=['Depression', 'ADHD', 'OCD'])"
   ]
  },
  {
   "cell_type": "code",
   "execution_count": 97,
   "id": "0891444a",
   "metadata": {},
   "outputs": [],
   "source": [
    "avg_wc_d = np.mean(sentiment_d['WC'])\n",
    "avg_wc_a = np.mean(sentiment_a['WC'])\n",
    "avg_wc_o = np.mean(sentiment_o['WC'])"
   ]
  },
  {
   "cell_type": "code",
   "execution_count": 98,
   "id": "2cea9eae",
   "metadata": {},
   "outputs": [
    {
     "name": "stdout",
     "output_type": "stream",
     "text": [
      "33.08402557819877 28.939270505461952 32.58330422633601\n"
     ]
    }
   ],
   "source": [
    "print(avg_wc_d, avg_wc_a, avg_wc_o)"
   ]
  },
  {
   "cell_type": "code",
   "execution_count": 102,
   "id": "5da5ce52",
   "metadata": {},
   "outputs": [
    {
     "data": {
      "text/plain": [
       "<matplotlib.legend.Legend at 0x208be4a8e80>"
      ]
     },
     "execution_count": 102,
     "metadata": {},
     "output_type": "execute_result"
    },
    {
     "data": {
      "image/png": "[encoded data removed]",
      "text/plain": [
       "<Figure size 432x288 with 1 Axes>"
      ]
     },
     "metadata": {},
     "output_type": "display_data"
    }
   ],
   "source": [
    "data = [[1.46,2.21,0.159],\n",
    "[1.54, 0.19, 0.123],\n",
    "[2.64, 1.76, 0.31]]\n",
    "\n",
    "# the x locations for the groups\n",
    "width = 0.27  \n",
    "X = np.arange(3)\n",
    "\n",
    "fig = plt.figure()\n",
    "ax = fig.add_axes([0,0,1,1])\n",
    "n = ['Positive Emotion', 'Anxiety', 'Anger']\n",
    "ax.bar(X + 0.00, data[0], color = 'lightblue', width = 0.25)\n",
    "ax.bar(X + 0.25, data[1], color = 'lightpink', width = 0.25)\n",
    "ax.bar(X + 0.50, data[2], color = 'lightgray', width = 0.25)\n",
    "ax.set_ylabel('The percentage of total words')\n",
    "ax.set_xticks(X+width)\n",
    "ax.set_xticklabels(['Positive Emotion', 'Anxiety', 'Anger'])\n",
    "ax.set_title('Positive Emotions, Anxiety and Anger Words Appearance in Tweet')\n",
    "ax.legend(labels=['Depression', 'ADHD', 'OCD'])"
   ]
  },
  {
   "cell_type": "code",
   "execution_count": 118,
   "id": "a5c0ef09",
   "metadata": {},
   "outputs": [
    {
     "data": {
      "image/png": "[encoded data removed]",
      "text/plain": [
       "<Figure size 432x288 with 1 Axes>"
      ]
     },
     "metadata": {},
     "output_type": "display_data"
    }
   ],
   "source": [
    "import matplotlib.pyplot as plt\n",
    "fig = plt.figure()\n",
    "ax = fig.add_axes([0,0,1,1])\n",
    "langs = ['Depression', 'ADHD', 'OCD']\n",
    "students = [13.939,40.86,36.44]\n",
    "ax.bar(langs,students, width=0.45, color='lightgreen')\n",
    "ax.set_title('The tone average across disorder')\n",
    "plt.show()"
   ]
  },
  {
   "cell_type": "code",
   "execution_count": null,
   "id": "9965ed6a",
   "metadata": {},
   "outputs": [],
   "source": []
  }
 ],
 "metadata": {
  "kernelspec": {
   "display_name": "Python 3",
   "language": "python",
   "name": "python3"
  },
  "language_info": {
   "codemirror_mode": {
    "name": "ipython",
    "version": 3
   },
   "file_extension": ".py",
   "mimetype": "text/x-python",
   "name": "python",
   "nbconvert_exporter": "python",
   "pygments_lexer": "ipython3",
   "version": "3.6.5"
  }
 },
 "nbformat": 4,
 "nbformat_minor": 5
}
