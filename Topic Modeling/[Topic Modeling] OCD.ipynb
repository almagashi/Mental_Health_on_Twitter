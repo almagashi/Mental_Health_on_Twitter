{
 "cells": [
  {
   "cell_type": "markdown",
   "id": "e348f703",
   "metadata": {},
   "source": [
    "# Topic Modeling: OCD"
   ]
  },
  {
   "cell_type": "markdown",
   "id": "53308b05",
   "metadata": {},
   "source": [
    "### The first step is importing the packages that we will be using for identifying topic models."
   ]
  },
  {
   "cell_type": "code",
   "execution_count": 1,
   "id": "3898fb89",
   "metadata": {},
   "outputs": [],
   "source": [
    "# Import required packages\n",
    "\n",
    "# DATA PREPROCESSING\n",
    "import nltk\n",
    "from nltk.tokenize import RegexpTokenizer\n",
    "from nltk.corpus import stopwords\n",
    "from nltk.stem import WordNetLemmatizer\n",
    "from gensim.models import Phrases\n",
    "\n",
    "# MODELING\n",
    "import sklearn\n",
    "import re\n",
    "from gensim.models.coherencemodel import CoherenceModel\n",
    "from gensim.models.ldamodel import LdaModel\n",
    "from gensim.corpora.dictionary import Dictionary\n",
    "from numpy import array\n",
    "\n",
    "# VISUALIZATION\n",
    "import matplotlib.pyplot as plt\n",
    "import seaborn as sns\n",
    "import pyLDAvis\n",
    "import pyLDAvis.gensim\n",
    "import pickle \n",
    "\n",
    "# OTHER\n",
    "import numpy as np\n",
    "import pandas as pd\n",
    "import logging\n",
    "import json\n",
    "import warnings\n",
    "import random\n",
    "\n",
    "warnings.filterwarnings('ignore')  "
   ]
  },
  {
   "cell_type": "markdown",
   "id": "665bda2b",
   "metadata": {},
   "source": [
    "### In the second step, we read the dataset, and take a glance at what it looks like."
   ]
  },
  {
   "cell_type": "code",
   "execution_count": 2,
   "id": "1d4f33cd",
   "metadata": {},
   "outputs": [],
   "source": [
    "data = pd.read_csv('ocd.csv')"
   ]
  },
  {
   "cell_type": "code",
   "execution_count": 3,
   "id": "17e24a9f",
   "metadata": {},
   "outputs": [
    {
     "data": {
      "text/html": [
       "<div>\n",
       "<style scoped>\n",
       "    .dataframe tbody tr th:only-of-type {\n",
       "        vertical-align: middle;\n",
       "    }\n",
       "\n",
       "    .dataframe tbody tr th {\n",
       "        vertical-align: top;\n",
       "    }\n",
       "\n",
       "    .dataframe thead th {\n",
       "        text-align: right;\n",
       "    }\n",
       "</style>\n",
       "<table border=\"1\" class=\"dataframe\">\n",
       "  <thead>\n",
       "    <tr style=\"text-align: right;\">\n",
       "      <th></th>\n",
       "      <th>user_ID</th>\n",
       "      <th>followers_count</th>\n",
       "      <th>user_location</th>\n",
       "      <th>user_description</th>\n",
       "      <th>date</th>\n",
       "      <th>text</th>\n",
       "      <th>hashtags</th>\n",
       "    </tr>\n",
       "  </thead>\n",
       "  <tbody>\n",
       "    <tr>\n",
       "      <th>0</th>\n",
       "      <td>8.293180e+17</td>\n",
       "      <td>294</td>\n",
       "      <td>Eora Nation</td>\n",
       "      <td>PhD candidate in gender and cultural studies @...</td>\n",
       "      <td>10/27/2021 11:59</td>\n",
       "      <td>New research out finds that #acupuncture reduc...</td>\n",
       "      <td>NaN</td>\n",
       "    </tr>\n",
       "    <tr>\n",
       "      <th>1</th>\n",
       "      <td>4.150866e+08</td>\n",
       "      <td>432</td>\n",
       "      <td>London</td>\n",
       "      <td>Children’s Book Illustrator 🎨 &amp; former @pathwa...</td>\n",
       "      <td>10/27/2021 11:51</td>\n",
       "      <td>New research out finds that #acupuncture reduc...</td>\n",
       "      <td>['ocd']</td>\n",
       "    </tr>\n",
       "    <tr>\n",
       "      <th>2</th>\n",
       "      <td>1.311980e+18</td>\n",
       "      <td>17</td>\n",
       "      <td>NaN</td>\n",
       "      <td>One of the greatest regrets in life is being w...</td>\n",
       "      <td>10/27/2021 11:26</td>\n",
       "      <td>New research out finds that #acupuncture reduc...</td>\n",
       "      <td>['oknottobeok']</td>\n",
       "    </tr>\n",
       "    <tr>\n",
       "      <th>3</th>\n",
       "      <td>8.996297e+07</td>\n",
       "      <td>29198</td>\n",
       "      <td>Boulder CO, USA</td>\n",
       "      <td>Peter Strong - Psychotherapist specializing in...</td>\n",
       "      <td>10/27/2021 11:25</td>\n",
       "      <td>New research out finds that #acupuncture reduc...</td>\n",
       "      <td>['OCD']</td>\n",
       "    </tr>\n",
       "    <tr>\n",
       "      <th>4</th>\n",
       "      <td>8.853120e+17</td>\n",
       "      <td>981</td>\n",
       "      <td>Hell</td>\n",
       "      <td>A free thinker and freelance writer\\r\\r\\n\\r\\r\\...</td>\n",
       "      <td>10/27/2021 11:06</td>\n",
       "      <td>New research out finds that #acupuncture reduc...</td>\n",
       "      <td>NaN</td>\n",
       "    </tr>\n",
       "  </tbody>\n",
       "</table>\n",
       "</div>"
      ],
      "text/plain": [
       "        user_ID  followers_count    user_location  \\\n",
       "0  8.293180e+17              294      Eora Nation   \n",
       "1  4.150866e+08              432           London   \n",
       "2  1.311980e+18               17              NaN   \n",
       "3  8.996297e+07            29198  Boulder CO, USA   \n",
       "4  8.853120e+17              981             Hell   \n",
       "\n",
       "                                    user_description              date  \\\n",
       "0  PhD candidate in gender and cultural studies @...  10/27/2021 11:59   \n",
       "1  Children’s Book Illustrator 🎨 & former @pathwa...  10/27/2021 11:51   \n",
       "2  One of the greatest regrets in life is being w...  10/27/2021 11:26   \n",
       "3  Peter Strong - Psychotherapist specializing in...  10/27/2021 11:25   \n",
       "4  A free thinker and freelance writer\\r\\r\\n\\r\\r\\...  10/27/2021 11:06   \n",
       "\n",
       "                                                text         hashtags  \n",
       "0  New research out finds that #acupuncture reduc...              NaN  \n",
       "1  New research out finds that #acupuncture reduc...          ['ocd']  \n",
       "2  New research out finds that #acupuncture reduc...  ['oknottobeok']  \n",
       "3  New research out finds that #acupuncture reduc...          ['OCD']  \n",
       "4  New research out finds that #acupuncture reduc...              NaN  "
      ]
     },
     "execution_count": 3,
     "metadata": {},
     "output_type": "execute_result"
    }
   ],
   "source": [
    "data.head()"
   ]
  },
  {
   "cell_type": "markdown",
   "id": "27b8c523",
   "metadata": {},
   "source": [
    "### Then, we extract our column of interest, which is the tweet."
   ]
  },
  {
   "cell_type": "code",
   "execution_count": 4,
   "id": "4c42dfce",
   "metadata": {},
   "outputs": [],
   "source": [
    "tweets = data['text']"
   ]
  },
  {
   "cell_type": "markdown",
   "id": "d15124fb",
   "metadata": {},
   "source": [
    "### Once we have the tweets, we pre-process the data to make it ready for analysis."
   ]
  },
  {
   "cell_type": "markdown",
   "id": "9f2421f3",
   "metadata": {},
   "source": [
    "Initially, we convert everything to lowercase, and then we remove users, links, punctuation, double spaces, numbers, short words, emojis and stopwords.\n",
    "\n",
    "Then, we tokenize each word, splitting the sentences in separate words.\n",
    "\n",
    "Lasly, we convert each word into their lemmas (the form of a word under which it is registered in a dictionary)."
   ]
  },
  {
   "cell_type": "code",
   "execution_count": 5,
   "id": "0618974e",
   "metadata": {},
   "outputs": [],
   "source": [
    "# list of commonly repeated words that do not add meanings\n",
    "my_stopwords = nltk.corpus.stopwords.words('english')\n",
    "repeated_words = ['ever', 'start', 'pre', '&amp', \n",
    "                  'amp', 'may', 'and', 'when',\n",
    "                  'what','who', 'why','how', \n",
    "                  'this', 'your', 'mine', 'their',\n",
    "                  'her', 'his', 'that', 'mental']\n",
    "\n",
    "for i in repeated_words:\n",
    "    my_stopwords.append(i)\n",
    "    \n",
    "tweets = tweets.apply(lambda x: ' '.join([word for word in x.split() if word not in (my_stopwords)]))\n",
    "tweets = array(tweets)\n",
    "    \n",
    "# list of common punctuation    \n",
    "my_punctuation = '!\"$%&\\'()*+,-./:;<=>?[\\\\]^_`’{|}~•@'\n",
    "\n",
    "# list of the majority of emojis\n",
    "emoj = re.compile(\"[\"  \n",
    "    u\"\\U0001F600-\\U0001F64F\" \n",
    "    u\"\\U0001F300-\\U0001F5FF\" \n",
    "    u\"\\U0001F680-\\U0001F6FF\"  \n",
    "    u\"\\U0001F1E0-\\U0001F1FF\"  \n",
    "    u\"\\U00002500-\\U00002BEF\"  \n",
    "    u\"\\U00002702-\\U000027B0\"\n",
    "    u\"\\U00002702-\\U000027B0\"\n",
    "    u\"\\U000024C2-\\U0001F251\"\n",
    "    u\"\\U0001f926-\\U0001f937\"\n",
    "    u\"\\U00010000-\\U0010ffff\"\n",
    "    u\"\\u2640-\\u2642\" \n",
    "    u\"\\u2600-\\u2B55\"\n",
    "    u\"\\u200d\"\n",
    "    u\"\\u23cf\"\n",
    "    u\"\\u23e9\"\n",
    "    u\"\\u231a\"\n",
    "    u\"\\ufe0f\"  \n",
    "    u\"\\u3030\"\n",
    "                  \"]+\", re.UNICODE) "
   ]
  },
  {
   "cell_type": "code",
   "execution_count": 6,
   "id": "28d5b7ff",
   "metadata": {},
   "outputs": [],
   "source": [
    "def preprocessor(tweets):\n",
    "    \"\"\"\n",
    "    Removes unnecessary information from tweets,\n",
    "    and lemmatizes the tweets.\n",
    "\n",
    "    Input(s):\n",
    "    ------------------------------\n",
    "    tweets(array): all original tweets\n",
    "    \n",
    "    Output(s):\n",
    "    ------------------------------\n",
    "    tweets(array): cleaned up and lemmatized tweets\n",
    "    \"\"\"\n",
    "    tokenizer = RegexpTokenizer(r'\\w+')\n",
    "    for idx in range(len(tweets)):       \n",
    "        tweets[idx] = re.sub(r'http\\S+', '', tweets[idx]) # http links\n",
    "        tweets[idx] = re.sub(r'bit.ly/\\S+', '', tweets[idx]) # bitly links\n",
    "        tweets[idx] = tweets[idx].strip('[link]') # other links(i.e. gifs)\n",
    "        tweets[idx] = tweets[idx].lower()  # turn to lowercase\n",
    "        tweets[idx] = re.sub('(RT\\s@[A-Za-z]+[A-Za-z0-9-_]+)', '', tweets[idx]) # retweets\n",
    "        tweets[idx] = re.sub('(@[A-Za-z]+[A-Za-z0-9-_]+)', '', tweets[idx]) # tweeted at\n",
    "        tweets[idx] = re.sub ('#', '', tweets[idx]) # hashtags\n",
    "        tweets[idx] = re.sub(emoj, '', tweets[idx]) # emojis\n",
    "        tweets[idx] = re.sub('['+my_punctuation + ']+', ' ', tweets[idx]) # remove punctuation\n",
    "        tweets[idx] = re.sub('\\s+', ' ', tweets[idx]) # remove double spacing\n",
    "        tweets[idx] = tokenizer.tokenize(tweets[idx])   # split into words\n",
    "\n",
    "\n",
    "    # numbers (but not words with number)\n",
    "    tweets = [[token for token in tweet if not token.isdigit()] for tweet in tweets]\n",
    "    \n",
    "    # words that are only one character\n",
    "    tweets = [[token for token in tweet if len(token) > 3] for tweet in tweets]\n",
    "    \n",
    "    tweets = [[token for token in tweet if len(token) > 3] for tweet in tweets]\n",
    "    \n",
    "    # lemmatize all words in documents\n",
    "    lemmatizer = WordNetLemmatizer()\n",
    "    tweets = [[lemmatizer.lemmatize(token) for token in tweet] for tweet in tweets]\n",
    " \n",
    "    return tweets"
   ]
  },
  {
   "cell_type": "code",
   "execution_count": 7,
   "id": "e2d38bfc",
   "metadata": {},
   "outputs": [],
   "source": [
    "tweets = preprocessor(tweets)"
   ]
  },
  {
   "cell_type": "markdown",
   "id": "a3589737",
   "metadata": {},
   "source": [
    "### We also create bi- and trigrams, and remove words that appear rarely. This is words that occurr frequently together, for example \"more_than, less_than\"."
   ]
  },
  {
   "cell_type": "code",
   "execution_count": 8,
   "id": "9010db3a",
   "metadata": {},
   "outputs": [],
   "source": [
    "# add bigrams and trigrams to docs\n",
    "\n",
    "# only add bi/trigrams that appear > 10 times\n",
    "bigram = Phrases(tweets, min_count=10)\n",
    "trigram = Phrases(bigram[tweets])\n",
    "\n",
    "for idx in range(len(tweets)):\n",
    "    for token in bigram[tweets[idx]]:\n",
    "        if '_' in token:\n",
    "            tweets[idx].append(token)\n",
    "    for token in trigram[tweets[idx]]:\n",
    "        if '_' in token:\n",
    "            tweets[idx].append(token)\n",
    "\n",
    "dictionary = Dictionary(tweets)\n",
    "dictionary.filter_extremes(no_below=10, no_above=0.2)\n",
    "\n",
    "corpus = [dictionary.doc2bow(t) for t in tweets]"
   ]
  },
  {
   "cell_type": "markdown",
   "id": "e7c660a5",
   "metadata": {},
   "source": [
    "### After being ready for analysis, we analyze this data with Latent Dirichlet Allocation model by assigning a random number of topics."
   ]
  },
  {
   "cell_type": "code",
   "execution_count": 9,
   "id": "061feaf3",
   "metadata": {},
   "outputs": [
    {
     "name": "stdout",
     "output_type": "stream",
     "text": [
      "[(0, '0.028*\"mentalhealth_bipolar\" + 0.027*\"tough_fabulous\" + 0.019*\"time_last\" + 0.019*\"issue_managed\" + 0.019*\"know_fucking\" + 0.019*\"want_make\" + 0.019*\"case_didn\" + 0.018*\"stephen_gold\" + 0.018*\"best_fictional\" + 0.013*\"night\"'), (1, '0.055*\"organized\" + 0.055*\"house\" + 0.036*\"help_mentalhealth\" + 0.023*\"evidence_back\" + 0.023*\"research_find\" + 0.023*\"acupuncture\" + 0.023*\"always_known\" + 0.023*\"ssri_performance\" + 0.023*\"depression\" + 0.020*\"back\"'), (2, '0.059*\"online\" + 0.049*\"mindfulness_therapy\" + 0.038*\"mindfulness\" + 0.036*\"therapy\" + 0.029*\"online_therapist\" + 0.029*\"obsessive_compulsive\" + 0.027*\"ocdrecovery_ocdawareness\" + 0.027*\"skype\" + 0.026*\"ocdrecovery\" + 0.018*\"obsessive\"'), (3, '0.060*\"hive\" + 0.040*\"hiveblogshare\" + 0.036*\"life\" + 0.029*\"proofofbrain\" + 0.029*\"community\" + 0.028*\"brain\" + 0.028*\"clean\" + 0.028*\"your\" + 0.027*\"changing\" + 0.022*\"posh\"'), (4, '0.046*\"health\" + 0.040*\"know\" + 0.037*\"condition\" + 0.036*\"more\" + 0.036*\"living\" + 0.035*\"ocdrecovery\" + 0.034*\"ocdawareness\" + 0.034*\"individual\" + 0.034*\"seen\" + 0.034*\"health_condition\"')]\n"
     ]
    }
   ],
   "source": [
    "num_topics = 5 # number of topics\n",
    "\n",
    "temp = dictionary[0] \n",
    "id2word = dictionary.id2token\n",
    "\n",
    "lda_model = LdaModel(corpus=corpus, id2word=id2word, chunksize=(len(data)/5), \\\n",
    "                       alpha='auto', eta='auto', \\\n",
    "                       iterations=20, num_topics=num_topics, \\\n",
    "                       passes=20, eval_every=1, random_state=np.random.RandomState(1000))\n",
    "\n",
    "# show keywords\n",
    "print(lda_model.print_topics())"
   ]
  },
  {
   "cell_type": "markdown",
   "id": "f90e3b67",
   "metadata": {},
   "source": [
    "### We check the accuracy of our model with coherence scores (through CV, and UMass)"
   ]
  },
  {
   "cell_type": "markdown",
   "id": "1e172c35",
   "metadata": {},
   "source": [
    "High values of c_v and low values of UMass indicate higher accuracy."
   ]
  },
  {
   "cell_type": "code",
   "execution_count": 10,
   "id": "8de60df9",
   "metadata": {},
   "outputs": [
    {
     "name": "stdout",
     "output_type": "stream",
     "text": [
      "\n",
      "Coherence Score:  0.5072563265366484\n"
     ]
    }
   ],
   "source": [
    "# coherence score (c_v)\n",
    "coherence_model_cv = CoherenceModel(model=lda_model, texts=tweets, dictionary=dictionary, coherence='c_v')\n",
    "coherence_score = coherence_model_cv.get_coherence()\n",
    "print('\\nCoherence Score: ', coherence_score)"
   ]
  },
  {
   "cell_type": "code",
   "execution_count": 11,
   "id": "f3607455",
   "metadata": {},
   "outputs": [
    {
     "name": "stdout",
     "output_type": "stream",
     "text": [
      "\n",
      "Coherence Score:  -8.50676839221822\n"
     ]
    }
   ],
   "source": [
    "coherence_model_cv = CoherenceModel(model=lda_model, texts=tweets, dictionary=dictionary, coherence='u_mass')\n",
    "coherence_score = coherence_model_cv.get_coherence()\n",
    "print('\\nCoherence Score: ', coherence_score)"
   ]
  },
  {
   "cell_type": "markdown",
   "id": "3ac1afe8",
   "metadata": {},
   "source": [
    "### To determine the ideal number of topics, we run a simulation with different number of topics and keep track of the coherence scores."
   ]
  },
  {
   "cell_type": "code",
   "execution_count": 12,
   "id": "35f70980",
   "metadata": {},
   "outputs": [],
   "source": [
    "def simulate_coherence_values(dictionary, corpus, texts, limit=8):\n",
    "    \"\"\"\n",
    "    Simulate c_v for multiple LDA models with different number of topics.\n",
    "\n",
    "    Input:\n",
    "    ----------\n",
    "    dictionary (dict) : gensim dictionary\n",
    "    corpus (list): gensim corpus\n",
    "    texts (list): list of input texts\n",
    "    limit (int): maximum number of topics\n",
    "\n",
    "    Output:\n",
    "    -------\n",
    "     coherence_scores : coherence scores corresponding to the LDA model with respective number of topics\n",
    "    \"\"\"\n",
    "    coherence_scores = []\n",
    "    models = []\n",
    "    for num_topics in range(2,limit):\n",
    "        model = LdaModel(corpus=corpus, id2word=dictionary, num_topics=num_topics, random_state=np.random.RandomState(1000))\n",
    "        coherencemodel = CoherenceModel(model=model, texts=texts, dictionary=dictionary, coherence='c_v')\n",
    "        coherence_scores.append(coherencemodel.get_coherence())\n",
    "        models.append(model)\n",
    "\n",
    "    return coherence_scores, models"
   ]
  },
  {
   "cell_type": "code",
   "execution_count": 13,
   "id": "3c408782",
   "metadata": {},
   "outputs": [],
   "source": [
    "coherence_values, models = simulate_coherence_values(dictionary=dictionary, corpus=corpus, texts=tweets)"
   ]
  },
  {
   "cell_type": "code",
   "execution_count": 14,
   "id": "30f302a3",
   "metadata": {},
   "outputs": [
    {
     "data": {
      "text/plain": [
       "[0.4765349848101776,\n",
       " 0.4669659399409931,\n",
       " 0.5344178676711099,\n",
       " 0.47542956286842697,\n",
       " 0.512108154126083,\n",
       " 0.5027849389760296]"
      ]
     },
     "execution_count": 14,
     "metadata": {},
     "output_type": "execute_result"
    }
   ],
   "source": [
    "coherence_values"
   ]
  },
  {
   "cell_type": "code",
   "execution_count": 15,
   "id": "0a51d84b",
   "metadata": {},
   "outputs": [],
   "source": [
    "# pick the best model, with the highest coherence score\n",
    "best_model = models[(coherence_values.index(max(coherence_values)))]"
   ]
  },
  {
   "cell_type": "markdown",
   "id": "95ab2ae7",
   "metadata": {},
   "source": [
    "### We plot the results of the simulation and find out that the ideal number of topics is 4."
   ]
  },
  {
   "cell_type": "code",
   "execution_count": 16,
   "id": "fa70333b",
   "metadata": {},
   "outputs": [
    {
     "data": {
      "image/png": "[encoded data removed]",
      "text/plain": [
       "<Figure size 432x288 with 1 Axes>"
      ]
     },
     "metadata": {
      "needs_background": "light"
     },
     "output_type": "display_data"
    }
   ],
   "source": [
    "limit=8; start=2; \n",
    "x = range(start, limit)\n",
    "plt.plot(x, coherence_values)\n",
    "plt.title('Optimal Number of Topics (ADHD Data)')\n",
    "plt.xlabel(\"Num Topics\")\n",
    "plt.ylabel(\"Coherence score\")\n",
    "plt.legend((\"coherence_values\"), loc='best')\n",
    "plt.show()"
   ]
  },
  {
   "cell_type": "markdown",
   "id": "011442cd",
   "metadata": {},
   "source": [
    "### Once we have the weights and frequency of topic words, we are able to visualize the topics."
   ]
  },
  {
   "cell_type": "code",
   "execution_count": 17,
   "id": "72d591a0",
   "metadata": {},
   "outputs": [
    {
     "data": {
      "text/html": [
       "\n",
       "<link rel=\"stylesheet\" type=\"text/css\" href=\"https://cdn.jsdelivr.net/gh/bmabey/pyLDAvis@3.2.2/pyLDAvis/js/ldavis.v1.0.0.css\">\n",
       "\n",
       "\n",
       "<div id=\"ldavis_el2173228546021705602853018395\"></div>\n",
       "<script type=\"text/javascript\">\n",
       "\n",
       "var ldavis_el2173228546021705602853018395_data = {\"mdsDat\": {\"x\": [-0.11280721960875953, 0.18216834201256854, 0.1135939157967904, -0.18295503820059894], \"y\": [0.18756224393991325, -0.03166658873509642, -0.0053781013970826816, -0.1505175538077341], \"topics\": [1, 2, 3, 4], \"cluster\": [1, 1, 1, 1], \"Freq\": [33.11484907171131, 24.106374941976068, 21.952028635407803, 20.826747350904824]}, \"tinfo\": {\"Term\": [\"tough_fabulous\", \"hive_hiveblogshare\", \"online\", \"mindfulness_therapy\", \"best_fictional\", \"stephen_gold\", \"hive\", \"online_therapist\", \"skype\", \"obsessive_compulsive\", \"mentalhealth_bipolar\", \"parent_anxiety\", \"ocdrecovery_ocdawareness\", \"adhd_selfhelp\", \"online_counseling\", \"feel_like\", \"contact_looking\", \"effective_online\", \"skype_overcoming\", \"adhd\", \"hard\", \"contact\", \"depression_ptsd\", \"mindfulness\", \"fabulous\", \"posh\", \"gold\", \"mindfulness_depressio\", \"hiveblogshare\", \"tuesdaybookblog\", \"better_without\", \"most_people\", \"using_medication\", \"contact_schedule\", \"image_contact\", \"onlinetherapistforocd_intrusivethoughts\", \"memory_memory\", \"session_contact\", \"effective_online_mindfulness_therapy\", \"skype_overcoming_ocdrecovery_ocdawareness\", \"most_people_huge_improvement\", \"huge_improvement\", \"ocdtreatment_ocdreco\", \"online_therapist_contact_looking\", \"better_without_using_medication\", \"overcoming_online\", \"improvement_session_online_psychotherapy\", \"mindfulness_therapy_contact_schedule\", \"therapy_skype_most_people\", \"memory_memory_image_contact\", \"obsessive_intrusive_thought_traumatic\", \"learn_manage\", \"contact_looking\", \"effective_online\", \"schedule\", \"skype_overcoming\", \"eatingdisorders_mindfulness\", \"originalcontent\", \"depression_email\", \"bilbao\", \"contact\", \"online_counseling\", \"learn_more\", \"counseling\", \"therapy_skype\", \"ocdtreatment_ocdrecovery\", \"visit_bulimia\", \"online_therapist_obsessive_compulsive\", \"hiveworks_hiveblogshare\", \"bulimia\", \"skype\", \"looking_online\", \"online\", \"obsessive_compulsive\", \"mindfulness_therapy\", \"mindfulness_depressio\", \"ocdrecovery_ocdawareness\", \"therapy\", \"online_therapist\", \"overcoming\", \"mindfulness\", \"looking\", \"compulsive\", \"obsessive\", \"disorder\", \"online_mindfulness\", \"ocdrecovery\", \"therapist\", \"session\", \"ocdawareness\", \"effective\", \"hive\", \"depression\", \"treatment\", \"feel_like\", \"anyone_else\", \"positivity_process\", \"stream\", \"addictionrecovery_bipolar_adhd_selfhelp\", \"parent_anxiety\", \"adhd_autism\", \"adhd_selfhelp\", \"parent_anxiety_depression_ptsd\", \"addictionrecovery_bipolar\", \"neurodiversity\", \"parenting\", \"addictionrecovery\", \"selfhelp\", \"brainsway\", \"parent\", \"livestream\", \"else\", \"twitch\", \"faith\", \"music\", \"relieftms\", \"youtube\", \"hive_peakd\", \"neurodivergent\", \"mind\", \"ocdgaming\", \"teenager\", \"process\", \"stress_health\", \"happiness_anxiety\", \"wellness_selflove\", \"need_message\", \"mentalhealthawareness_recovery\", \"retweet_really\", \"selfcare_mindfulness\", \"mentalillness_motivation\", \"adhd\", \"gaming\", \"depression_ptsd\", \"today_depression\", \"really\", \"ptsd\", \"help_mentalhealth\", \"depression\", \"always\", \"back\", \"research_find\", \"evidence_back\", \"bipolar\", \"mentalhealth\", \"find\", \"ssri_performance\", \"always_known\", \"help\", \"this\", \"like\", \"good\", \"acupuncture\", \"posh\", \"hive\", \"mental_health\", \"thank_much\", \"eupd_anxiety\", \"enjoy_tweet\", \"twitter_hope\", \"thank_much_another_friend\", \"iwillnotletmymhkillme\", \"iwillnotletmymhkillme_retweet\", \"podcast\", \"hive_hiveblogshare\", \"debilitating_illness\", \"mentalhealth_letsbeatmentalhealthtogether_iwillnotletmymhkillme_retweet\", \"letsbeatmentalhealthtogether\", \"twitter_hope_enjoy_tweet\", \"insect\", \"another_friend\", \"supernatural\", \"mentalhealth_letsbeatmentalhealthtogether\", \"hiveblogshare_photography\", \"photography_macrophotography\", \"macrophotography\", \"eupd\", \"episode\", \"archon\", \"macrophotography_amazingnature\", \"posh_insect\", \"photography_animal\", \"amazingnature_proofofbrain\", \"photography_macrophotography_insect_photofeed\", \"neoxian\", \"insect_photofeed\", \"amazingnature\", \"palnet\", \"proofofbrain\", \"friend\", \"dyslexia_dyspraxia\", \"hope\", \"hiveblogshare\", \"hive\", \"photography\", \"posh\", \"keep\", \"thing\", \"mentalhealth\", \"article\", \"illness\", \"online_psychotherapy\", \"week\", \"what\", \"much\", \"mentalhealth_bipolar\", \"life\", \"take\", \"like\", \"thought\", \"depression\", \"health\", \"ocdrecovery_ocdawareness\", \"make\", \"autism\", \"bipolar\", \"online\", \"best_fictional\", \"stephen_gold\", \"tough_fabulous\", \"tuesdaybookblog\", \"tuesdaybookblog_pray\", \"hard_hitting\", \"hitting\", \"dying\", \"depiction_read_hard_hitting\", \"depiction_read\", \"when_dying\", \"fabulous\", \"stephen_gold_best_fictional\", \"noir\", \"tuesdaybookblog_pray_when_dying\", \"depiction\", \"gold\", \"ocdawareness_intrusivethoughts\", \"overcoming_ocdrecovery\", \"tough\", \"pray\", \"stephen\", \"fictional\", \"last_night\", \"overcoming_ocdrecovery_ocdawareness_intrusivethoughts\", \"effective_help\", \"hard\", \"treatment_without\", \"ocdawareness_onlinetherapistforocd\", \"medication_online\", \"intrusivethoughts_ocdtreatment\", \"effective_notice\", \"when\", \"best\", \"anxiety_hypochondria\", \"mentalhealth_bipolar\", \"read\", \"online_psychotherapist\", \"ocdrecovery\", \"mindfulness_therapy\", \"online\"], \"Freq\": [286.0, 290.0, 787.0, 653.0, 191.0, 191.0, 515.0, 375.0, 354.0, 382.0, 351.0, 170.0, 358.0, 160.0, 239.0, 139.0, 205.0, 205.0, 205.0, 230.0, 118.0, 205.0, 222.0, 554.0, 99.0, 348.0, 98.0, 231.0, 216.0, 96.0, 50.670221899747375, 117.17069167607868, 50.662242594602, 49.01262178102248, 51.470343679775496, 51.44056607869668, 51.435209651941676, 87.17013486709209, 75.43536219259903, 75.30457979499671, 28.599934215032558, 68.27100122580762, 25.46169342195219, 75.0437011536326, 25.455162048970273, 25.44599488610099, 24.62992925177869, 24.629936629776978, 24.6280017497267, 25.835398257592175, 25.828344891231584, 26.21469192693315, 197.26325297020742, 196.91126342802016, 48.972791657280176, 196.19260212705822, 49.6666923959972, 28.632008218077615, 73.98330572809974, 22.089785889682858, 192.50376530045259, 220.47130730397174, 107.79186879199348, 111.36551293137327, 128.74462398795578, 58.028790226399266, 49.40633759251133, 67.5066184694727, 71.9571819730306, 49.623597508013724, 305.50115864852876, 48.816130930692744, 625.5352031991866, 317.74423851487626, 521.0479324611072, 196.67969757384287, 290.86049494745043, 374.66909574786206, 292.1229294780234, 151.76378680962404, 405.7212312744308, 147.98741741136357, 131.74428199474687, 174.23107535956416, 185.2434608439613, 102.54963131644394, 218.18095529631702, 155.33042922863126, 93.75746258800302, 126.35769398274864, 99.52513896742508, 148.8256465525344, 122.47759730659745, 100.3772313673737, 135.49676161370868, 114.10403938451071, 54.65762613804213, 33.443024686918875, 76.8223089097765, 160.64857129716214, 33.35577697918053, 151.74733398477898, 80.36975038101389, 84.56938652727207, 17.14470091952522, 17.478453143024968, 78.95052028568244, 88.45392226923383, 24.952680600486712, 90.00202192038255, 25.973606877170493, 38.592221175755554, 25.91372931432024, 15.944599824159535, 17.435652380738233, 20.230727722918033, 27.190743148566163, 69.46421927177857, 35.206360772784606, 29.82619109010178, 16.835268165423685, 19.891836883617326, 50.30309838887428, 62.616065080455506, 62.37973977723319, 62.315707817390994, 61.763073655672905, 61.53492824465321, 61.145086290854685, 60.89939412486061, 60.37463497334057, 177.45577378516964, 34.805658843914706, 163.47753572327198, 34.723784729182746, 138.62881709482735, 159.2985507165536, 137.17308631176837, 242.84330772638435, 89.48311168718729, 91.20663592081931, 90.80904911832992, 90.18781772534993, 135.9631604837621, 184.96707393201328, 82.6606519175959, 86.81402843710347, 84.51717056404561, 109.57936128407623, 82.88464024616988, 92.9273995079693, 73.50650393946799, 74.75079283399587, 82.16952001826274, 75.40513050113015, 41.588786311553974, 76.24619708953595, 88.7011021427897, 59.26267316817667, 59.16471785144396, 29.95826269822968, 29.761882536583396, 29.743179664045655, 33.24232865009603, 275.52817494835944, 37.82357135634745, 29.638083606228975, 29.630414645941535, 29.61311302156856, 44.40317246408144, 58.21728334623907, 13.595890323723347, 29.463316413658077, 29.832580764233256, 39.18146641907977, 67.11948385531267, 31.749468689958125, 38.7755006157004, 18.36491128862008, 12.587717946497031, 12.55614828998213, 12.542764291368234, 50.1174282435649, 10.134458878806068, 25.920895025730704, 36.34578031626415, 42.85774002044245, 26.524703375403003, 46.0399134661428, 58.090911792727, 37.03483737627453, 47.41054448078104, 150.6641981703448, 286.98738191215034, 93.33952213235766, 184.73852342055363, 50.795109027026434, 79.10947286389587, 194.69455547698328, 39.40201505474416, 41.8896022570126, 76.7410602284922, 47.38899509364681, 54.04921321185141, 51.281789659247416, 97.3940251379989, 63.42700174987307, 47.50196553033006, 67.80478958079468, 62.4465731081254, 75.25950318112488, 58.69504294302364, 58.725102528436025, 50.5851125481351, 48.68689325851812, 49.4399626605196, 49.299236261061324, 190.01224082778046, 189.9735786351907, 284.3981235274722, 95.1309512234257, 95.12276590084669, 95.12219979577036, 95.1188031653124, 95.0809854901316, 95.07972335422372, 95.07146378835601, 95.06626675814712, 97.92269376712281, 95.06774234351, 95.04669437116397, 94.99751747281229, 94.9279329504796, 97.17643735076966, 46.910222906481906, 46.8804513477138, 97.04791293762143, 96.77874389444496, 96.75268450011178, 96.63292079502999, 44.966575370204595, 23.56523281120303, 23.55466474307735, 112.35857738248485, 65.94959411903436, 22.337297538287746, 22.321699487352745, 65.18832663774747, 43.57761336441054, 106.01120309767157, 103.92851180227856, 79.57465285790325, 207.46121407168314, 113.20948899466966, 105.72817840074173, 102.79635733209268, 109.47320477132781, 108.46755158467313], \"Total\": [286.0, 290.0, 787.0, 653.0, 191.0, 191.0, 515.0, 375.0, 354.0, 382.0, 351.0, 170.0, 358.0, 160.0, 239.0, 139.0, 205.0, 205.0, 205.0, 230.0, 118.0, 205.0, 222.0, 554.0, 99.0, 348.0, 98.0, 231.0, 216.0, 96.0, 51.537097078835835, 119.17642154997039, 51.53678475714179, 49.87717285026635, 52.38146143025366, 52.39696999162369, 52.3969478507039, 89.29719138823913, 77.58855487385128, 77.57685917497572, 29.466747940444915, 70.37775312820683, 26.313901399030414, 77.55640312740759, 26.31399133568332, 26.313560052460073, 25.48367188314452, 25.483835309850505, 25.4830991127444, 26.74573209623594, 26.748818842308193, 27.169057074493605, 205.3665515645331, 205.29577175808768, 51.12156783645953, 205.22223970065167, 52.01993320857847, 30.01621137798098, 77.67027576546162, 23.260299426890807, 205.75196969240486, 239.14063267600554, 115.57521962787143, 120.11180936414343, 139.65324410687873, 61.5040465220094, 52.142691121253606, 72.31926516281686, 77.5209285657704, 52.653713878945695, 354.74596706930924, 51.98791098299036, 787.7852480349464, 382.92431366733285, 653.6041893722969, 231.4223110172909, 358.1745324814226, 495.52568429260384, 375.9058544973064, 180.10580287637816, 554.0082241842032, 178.69392071628474, 166.74390575626458, 237.7099335471066, 276.6160441759512, 126.50224177287893, 362.1868377312621, 231.54836649890754, 119.36843863547982, 224.05222099855382, 159.09099494958548, 515.5496310437406, 473.3603120005847, 203.174691075579, 139.3485385139228, 119.35093732093611, 57.757521828128716, 35.35908968475869, 81.31539838124957, 170.19163973209675, 35.348772696885305, 160.96738165537207, 85.59655601666758, 90.13159320288088, 18.313840570844118, 18.825821569451527, 85.09283324152874, 95.42094396412159, 27.039155653370486, 97.632743721205, 28.178350598570933, 41.86902904270505, 28.150586175404605, 17.582085988747476, 19.226559071459086, 22.362938394207106, 30.115303786370273, 77.71341111068368, 39.487323263736684, 33.47031952678339, 18.904449479251767, 22.366959496724146, 56.793174149732295, 70.77947254942762, 70.69633574994596, 70.65423224595807, 70.48800864283102, 70.38017501219973, 70.29550479216816, 70.20485035482425, 70.01977683980995, 230.73154571282154, 39.43542972300545, 222.59576404111556, 39.70241859237116, 207.3408937092327, 246.59194240101732, 209.91586819917384, 473.3603120005847, 131.71139130853473, 138.4430942857996, 138.3942544562398, 138.2178939185289, 277.1103966001191, 542.3359194765249, 123.2878483046066, 137.13332051916314, 136.32309541683753, 250.4318124366223, 147.15252943218985, 202.25768156847707, 118.5317837932509, 133.22994865782505, 348.297493620091, 515.5496310437406, 42.485517578780616, 78.25339588861785, 91.65553413245327, 61.446692032819044, 61.492355156681505, 31.18344422999552, 31.268395281378087, 31.276612819173057, 34.99116543467471, 290.17054381453374, 39.89483026407475, 31.32209285694564, 31.32552775387071, 31.33146794248247, 47.20189374466117, 61.899594251284455, 14.464627084784386, 31.40008316635787, 31.842421176953593, 42.007380810153876, 72.17905510249359, 34.176112265240576, 41.80618325228887, 19.84824625805396, 13.606414776891388, 13.605589743441122, 13.60481715528893, 54.70848798423671, 11.221397244012284, 28.86521711502385, 40.68658266678551, 48.232422754846134, 29.603212018930652, 52.60561726966956, 67.70071113202145, 42.16094052975963, 54.900937816209556, 216.59098379742872, 515.5496310437406, 130.97287251569944, 348.297493620091, 67.66972366138941, 131.70176049275977, 542.3359194765249, 48.800408487241086, 54.23472113629609, 151.33637042064552, 69.99918615001951, 91.67059931307918, 83.26933140579034, 351.58321823799463, 149.66129524920905, 74.16338571279839, 202.25768156847707, 196.02019555918017, 473.3603120005847, 203.09517907222215, 358.1745324814226, 134.6901180284942, 120.52965858603352, 277.1103966001191, 787.7852480349464, 191.4156171416777, 191.4137833816674, 286.7093550059423, 96.24753907652243, 96.24986018339102, 96.254902785667, 96.2523286114086, 96.2607197481751, 96.26257293721828, 96.2608035852323, 96.26627185955542, 99.15961734289117, 96.27212437139632, 96.25783295421125, 96.28879955781774, 96.30119044264882, 98.9732256624646, 47.820475198702816, 47.82397227862441, 99.52988038365106, 99.30110791657172, 99.87564053625245, 99.929781668057, 46.519336844945514, 24.45477932165714, 24.458534100848972, 118.02476963230836, 70.35389022610396, 24.1596024430891, 24.16178562577587, 71.42616372995691, 47.990769169802014, 122.27442865594017, 125.20983867203466, 97.01098412068656, 351.58321823799463, 162.04715174643874, 169.06236346056232, 362.1868377312621, 653.6041893722969, 787.7852480349464], \"Category\": [\"Default\", \"Default\", \"Default\", \"Default\", \"Default\", \"Default\", \"Default\", \"Default\", \"Default\", \"Default\", \"Default\", \"Default\", \"Default\", \"Default\", \"Default\", \"Default\", \"Default\", \"Default\", \"Default\", \"Default\", \"Default\", \"Default\", \"Default\", \"Default\", \"Default\", \"Default\", \"Default\", \"Default\", \"Default\", \"Default\", \"Topic1\", \"Topic1\", \"Topic1\", \"Topic1\", \"Topic1\", \"Topic1\", \"Topic1\", \"Topic1\", \"Topic1\", \"Topic1\", \"Topic1\", \"Topic1\", \"Topic1\", \"Topic1\", \"Topic1\", \"Topic1\", \"Topic1\", \"Topic1\", \"Topic1\", \"Topic1\", \"Topic1\", \"Topic1\", \"Topic1\", \"Topic1\", \"Topic1\", \"Topic1\", \"Topic1\", \"Topic1\", \"Topic1\", \"Topic1\", \"Topic1\", \"Topic1\", \"Topic1\", \"Topic1\", \"Topic1\", \"Topic1\", \"Topic1\", \"Topic1\", \"Topic1\", \"Topic1\", \"Topic1\", \"Topic1\", \"Topic1\", \"Topic1\", \"Topic1\", \"Topic1\", \"Topic1\", \"Topic1\", \"Topic1\", \"Topic1\", \"Topic1\", \"Topic1\", \"Topic1\", \"Topic1\", \"Topic1\", \"Topic1\", \"Topic1\", \"Topic1\", \"Topic1\", \"Topic1\", \"Topic1\", \"Topic1\", \"Topic1\", \"Topic1\", \"Topic2\", \"Topic2\", \"Topic2\", \"Topic2\", \"Topic2\", \"Topic2\", \"Topic2\", \"Topic2\", \"Topic2\", \"Topic2\", \"Topic2\", \"Topic2\", \"Topic2\", \"Topic2\", \"Topic2\", \"Topic2\", \"Topic2\", \"Topic2\", \"Topic2\", \"Topic2\", \"Topic2\", \"Topic2\", \"Topic2\", \"Topic2\", \"Topic2\", \"Topic2\", \"Topic2\", \"Topic2\", \"Topic2\", \"Topic2\", \"Topic2\", \"Topic2\", \"Topic2\", \"Topic2\", \"Topic2\", \"Topic2\", \"Topic2\", \"Topic2\", \"Topic2\", \"Topic2\", \"Topic2\", \"Topic2\", \"Topic2\", \"Topic2\", \"Topic2\", \"Topic2\", \"Topic2\", \"Topic2\", \"Topic2\", \"Topic2\", \"Topic2\", \"Topic2\", \"Topic2\", \"Topic2\", \"Topic2\", \"Topic2\", \"Topic2\", \"Topic2\", \"Topic2\", \"Topic2\", \"Topic2\", \"Topic3\", \"Topic3\", \"Topic3\", \"Topic3\", \"Topic3\", \"Topic3\", \"Topic3\", \"Topic3\", \"Topic3\", \"Topic3\", \"Topic3\", \"Topic3\", \"Topic3\", \"Topic3\", \"Topic3\", \"Topic3\", \"Topic3\", \"Topic3\", \"Topic3\", \"Topic3\", \"Topic3\", \"Topic3\", \"Topic3\", \"Topic3\", \"Topic3\", \"Topic3\", \"Topic3\", \"Topic3\", \"Topic3\", \"Topic3\", \"Topic3\", \"Topic3\", \"Topic3\", \"Topic3\", \"Topic3\", \"Topic3\", \"Topic3\", \"Topic3\", \"Topic3\", \"Topic3\", \"Topic3\", \"Topic3\", \"Topic3\", \"Topic3\", \"Topic3\", \"Topic3\", \"Topic3\", \"Topic3\", \"Topic3\", \"Topic3\", \"Topic3\", \"Topic3\", \"Topic3\", \"Topic3\", \"Topic3\", \"Topic3\", \"Topic3\", \"Topic3\", \"Topic3\", \"Topic3\", \"Topic3\", \"Topic3\", \"Topic4\", \"Topic4\", \"Topic4\", \"Topic4\", \"Topic4\", \"Topic4\", \"Topic4\", \"Topic4\", \"Topic4\", \"Topic4\", \"Topic4\", \"Topic4\", \"Topic4\", \"Topic4\", \"Topic4\", \"Topic4\", \"Topic4\", \"Topic4\", \"Topic4\", \"Topic4\", \"Topic4\", \"Topic4\", \"Topic4\", \"Topic4\", \"Topic4\", \"Topic4\", \"Topic4\", \"Topic4\", \"Topic4\", \"Topic4\", \"Topic4\", \"Topic4\", \"Topic4\", \"Topic4\", \"Topic4\", \"Topic4\", \"Topic4\", \"Topic4\", \"Topic4\", \"Topic4\", \"Topic4\"], \"logprob\": [30.0, 29.0, 28.0, 27.0, 26.0, 25.0, 24.0, 23.0, 22.0, 21.0, 20.0, 19.0, 18.0, 17.0, 16.0, 15.0, 14.0, 13.0, 12.0, 11.0, 10.0, 9.0, 8.0, 7.0, 6.0, 5.0, 4.0, 3.0, 2.0, 1.0, -5.7452, -4.9069, -5.7454, -5.7785, -5.7295, -5.7301, -5.7302, -5.2027, -5.3473, -5.349, -6.3171, -5.4471, -6.4334, -5.3525, -6.4336, -6.434, -6.4666, -6.4666, -6.4667, -6.4188, -6.4191, -6.4042, -4.386, -4.3878, -5.7793, -4.3915, -5.7652, -6.316, -5.3667, -6.5754, -4.4104, -4.2748, -4.9904, -4.9577, -4.8127, -5.6096, -5.7705, -5.4583, -5.3945, -5.7661, -3.9486, -5.7825, -3.2319, -3.9093, -3.4147, -4.389, -3.9977, -3.7445, -3.9934, -4.6482, -3.6649, -4.6734, -4.7897, -4.5102, -4.4489, -5.0402, -4.2852, -4.625, -5.1298, -4.8314, -5.0701, -4.6678, -4.8626, -5.0616, -4.4441, -4.6159, -5.352, -5.8432, -5.0116, -4.2738, -5.8458, -4.3308, -4.9664, -4.9155, -6.5114, -6.4921, -4.9842, -4.8706, -6.1361, -4.8532, -6.096, -5.7, -6.0983, -6.5839, -6.4945, -6.3458, -6.0502, -5.1122, -5.7918, -5.9577, -6.5296, -6.3627, -5.435, -5.216, -5.2198, -5.2208, -5.2297, -5.2334, -5.2398, -5.2438, -5.2525, -4.1743, -5.8033, -4.2564, -5.8056, -4.4212, -4.2823, -4.4318, -3.8606, -4.859, -4.8399, -4.8443, -4.8512, -4.4407, -4.1329, -4.9383, -4.8893, -4.9161, -4.6564, -4.9356, -4.8212, -5.0557, -5.0389, -4.9443, -5.0302, -5.5316, -4.9255, -4.7742, -5.1775, -5.1791, -5.8596, -5.8662, -5.8668, -5.7556, -3.6407, -5.6265, -5.8704, -5.8706, -5.8712, -5.4661, -5.1952, -6.6497, -5.8763, -5.8638, -5.5912, -5.053, -5.8016, -5.6016, -6.349, -6.7267, -6.7292, -6.7303, -5.3451, -6.9435, -6.0044, -5.6664, -5.5015, -5.9814, -5.4299, -5.1974, -5.6476, -5.4006, -4.2444, -3.6, -4.7232, -4.0405, -5.3316, -4.8886, -3.988, -5.5856, -5.5244, -4.919, -5.401, -5.2695, -5.3221, -4.6807, -5.1095, -5.3987, -5.0428, -5.1251, -4.9385, -5.1871, -5.1866, -5.3358, -5.374, -5.3587, -5.3615, -3.9597, -3.9599, -3.5564, -4.6516, -4.6516, -4.6516, -4.6517, -4.6521, -4.6521, -4.6522, -4.6522, -4.6226, -4.6522, -4.6524, -4.653, -4.6537, -4.6303, -5.3586, -5.3592, -4.6316, -4.6344, -4.6347, -4.6359, -5.4009, -6.047, -6.0475, -4.4851, -5.0179, -6.1006, -6.1013, -5.0295, -5.4323, -4.5433, -4.5631, -4.8301, -3.8719, -4.4776, -4.5459, -4.5741, -4.5111, -4.5204], \"loglift\": [30.0, 29.0, 28.0, 27.0, 26.0, 25.0, 24.0, 23.0, 22.0, 21.0, 20.0, 19.0, 18.0, 17.0, 16.0, 15.0, 14.0, 13.0, 12.0, 11.0, 10.0, 9.0, 8.0, 7.0, 6.0, 5.0, 4.0, 3.0, 2.0, 1.0, 1.0882, 1.0882, 1.0881, 1.0877, 1.0876, 1.0868, 1.0867, 1.0811, 1.077, 1.0755, 1.0753, 1.0748, 1.0723, 1.0723, 1.072, 1.0717, 1.0711, 1.0711, 1.0711, 1.0706, 1.0702, 1.0694, 1.0649, 1.0635, 1.0622, 1.0602, 1.0589, 1.058, 1.0566, 1.0536, 1.0386, 1.0239, 1.0355, 1.0296, 1.0239, 1.047, 1.0513, 1.0363, 1.0307, 1.0459, 0.9557, 1.0422, 0.8746, 0.9186, 0.8785, 0.9425, 0.897, 0.8256, 0.853, 0.934, 0.7937, 0.9166, 0.8696, 0.7945, 0.7042, 0.8953, 0.5984, 0.706, 0.8637, 0.5324, 0.6361, -0.1373, -0.2467, 0.4001, 1.3947, 1.3777, 1.3675, 1.367, 1.3659, 1.365, 1.3647, 1.3637, 1.3597, 1.359, 1.3567, 1.3484, 1.3478, 1.3469, 1.3424, 1.3413, 1.3412, 1.3412, 1.3399, 1.3249, 1.3249, 1.3225, 1.3205, 1.3105, 1.3079, 1.3074, 1.3068, 1.3054, 1.3013, 1.3001, 1.2975, 1.2971, 1.2906, 1.2884, 1.2832, 1.2805, 1.2745, 1.1602, 1.2978, 1.114, 1.2887, 1.0201, 0.9857, 0.9972, 0.7553, 1.0361, 1.0054, 1.0013, 0.9958, 0.7107, 0.347, 1.0229, 0.9655, 0.9446, 0.5962, 0.8487, 0.645, 0.9449, 0.8448, -0.0216, -0.4997, 1.495, 1.4903, 1.4835, 1.4801, 1.4777, 1.4762, 1.4669, 1.466, 1.465, 1.4645, 1.463, 1.461, 1.4607, 1.4599, 1.4552, 1.455, 1.4544, 1.4526, 1.4511, 1.4467, 1.4436, 1.4427, 1.4411, 1.4386, 1.4385, 1.436, 1.435, 1.4287, 1.4144, 1.4087, 1.4035, 1.3982, 1.4065, 1.383, 1.3632, 1.3867, 1.3696, 1.1534, 0.9305, 1.1776, 0.8822, 1.2295, 1.0066, 0.4919, 1.3024, 1.258, 0.8372, 1.1262, 0.988, 1.0316, 0.2326, 0.6578, 1.0708, 0.4234, 0.3724, -0.3226, 0.275, -0.2918, 0.537, 0.6098, -0.2073, -1.255, 1.5616, 1.5614, 1.5608, 1.5573, 1.5572, 1.5571, 1.5571, 1.5566, 1.5566, 1.5565, 1.5564, 1.5564, 1.5563, 1.5563, 1.5554, 1.5546, 1.5506, 1.5497, 1.549, 1.5437, 1.5432, 1.5372, 1.5354, 1.535, 1.5319, 1.5313, 1.5197, 1.5043, 1.4905, 1.4897, 1.4775, 1.4725, 1.4262, 1.3826, 1.3708, 1.0414, 1.2103, 1.0995, 0.3095, -0.2179, -0.4138]}, \"token.table\": {\"Topic\": [1, 2, 3, 1, 2, 3, 4, 1, 2, 3, 4, 1, 2, 3, 4, 1, 2, 3, 4, 1, 2, 3, 1, 2, 3, 4, 1, 2, 3, 4, 1, 2, 3, 1, 3, 1, 3, 2, 3, 1, 2, 3, 4, 1, 2, 3, 2, 3, 1, 2, 3, 4, 1, 2, 3, 4, 1, 2, 3, 4, 1, 2, 3, 4, 2, 4, 1, 1, 1, 2, 1, 2, 3, 4, 2, 3, 4, 1, 2, 1, 2, 3, 4, 1, 2, 3, 4, 1, 2, 3, 4, 1, 1, 2, 4, 1, 3, 2, 4, 2, 4, 2, 4, 1, 2, 3, 4, 1, 2, 1, 2, 3, 4, 1, 2, 3, 4, 2, 4, 1, 2, 3, 1, 2, 1, 2, 3, 4, 4, 1, 2, 4, 1, 2, 3, 4, 1, 2, 4, 1, 2, 3, 2, 3, 1, 2, 3, 2, 3, 4, 2, 3, 1, 2, 3, 2, 4, 2, 4, 1, 2, 3, 4, 2, 4, 1, 2, 3, 4, 1, 2, 3, 4, 2, 3, 4, 2, 4, 1, 2, 3, 4, 1, 2, 3, 4, 1, 2, 3, 4, 4, 1, 2, 3, 4, 1, 2, 3, 4, 1, 2, 3, 4, 1, 2, 3, 4, 1, 2, 3, 4, 1, 2, 1, 2, 3, 4, 2, 3, 1, 2, 3, 1, 2, 3, 4, 1, 4, 1, 2, 3, 4, 1, 1, 1, 3, 1, 3, 1, 2, 4, 2, 3, 2, 3, 1, 2, 3, 4, 1, 4, 1, 1, 2, 3, 4, 2, 3, 1, 2, 3, 4, 1, 2, 3, 4, 2, 4, 1, 2, 3, 4, 1, 2, 4, 1, 3, 3, 1, 2, 3, 4, 1, 4, 1, 1, 3, 1, 2, 3, 4, 1, 2, 3, 4, 2, 3, 2, 3, 1, 2, 3, 4, 1, 2, 3, 4, 1, 2, 4, 1, 2, 3, 4, 1, 2, 3, 4, 1, 2, 3, 4, 1, 1, 4, 1, 1, 2, 3, 4, 1, 2, 1, 2, 3, 4, 1, 2, 3, 1, 2, 3, 4, 2, 3, 4, 1, 2, 3, 4, 1, 2, 3, 4, 1, 1, 2, 3, 4, 4, 1, 4, 2, 4, 1, 2, 3, 4, 1, 2, 3, 4, 1, 1, 2, 3, 4, 1, 2, 3, 4, 1, 2, 4, 1, 2, 3, 4, 1, 2, 3, 4, 1, 2, 3, 4, 1, 2, 3, 4, 1, 2, 4, 1, 3, 4, 1, 1, 2, 1, 2, 3, 4, 4, 4, 1, 1, 2, 3, 1, 2, 3, 4, 1, 2, 3, 4, 1, 2, 3, 4, 1, 2, 1, 2, 3, 3, 1, 3, 3, 2, 3, 1, 2, 3, 4, 3, 1, 2, 3, 2, 3, 4, 1, 2, 3, 4, 1, 2, 3, 4, 1, 2, 3, 4, 1, 2, 3, 4, 1, 2, 3, 4, 2, 3, 4, 1, 2, 3, 1, 2, 3, 4, 1, 2, 1, 2, 3, 4, 1, 2, 3, 4, 1, 2, 4, 1, 4, 1, 2, 3, 4, 1, 2, 3, 4, 1, 2, 4, 1, 2, 3, 2, 4, 1, 2, 4, 2, 4, 1, 2, 3, 1, 2, 3, 4, 3, 1, 2, 3, 4, 1, 2, 3, 2, 3, 2, 3, 1, 2, 3, 4, 1, 2, 3, 4, 1, 2, 4, 1, 1, 2, 3, 4, 1, 2, 3, 4, 1, 2, 3, 4, 1, 2, 3, 4, 1, 2, 4, 1, 2, 4, 1, 2, 3, 4, 1, 4, 4, 4, 2, 4, 2, 4, 2, 3, 2, 3, 1, 1, 2, 1, 2, 3, 4, 1, 2, 3, 4, 1, 2, 3, 4, 1, 2, 3, 4, 2, 4, 1, 2, 3, 4], \"Freq\": [0.39030263483439287, 0.5629364925496051, 0.04503491940396841, 0.011751871008473597, 0.9283978096694142, 0.023503742016947195, 0.035255613025420796, 0.011094888756144132, 0.9430655442722513, 0.022189777512288265, 0.0332846662684324, 0.012297793774697769, 0.9469301206517282, 0.012297793774697769, 0.024595587549395538, 0.04334041090526231, 0.7671252730231429, 0.16035952034947054, 0.026004246543157385, 0.028289525313225747, 0.9335543353364496, 0.028289525313225747, 0.012424877508922646, 0.9442906906781211, 0.012424877508922646, 0.03727463252676794, 0.17462422780215237, 0.6757198380170244, 0.04555414638317018, 0.09870065049686873, 0.35210468081897317, 0.6235187056169316, 0.02934205673491443, 0.1036647075643246, 0.8915164850531916, 0.07311479712531134, 0.9139349640663916, 0.04846558424634178, 0.9370012954292744, 0.11338922184641942, 0.06184866646168332, 0.01030811107694722, 0.8246488861557776, 0.016757304507982, 0.9551663569549741, 0.025135956761973003, 0.05038228501393281, 0.9068811302507906, 0.02049163175061231, 0.1434414222542862, 0.7991736382738802, 0.02049163175061231, 0.2157145411761149, 0.373352090497122, 0.40653894298575505, 0.01659342624431653, 0.18057961019269347, 0.6573097811014043, 0.12279413493103157, 0.036115922038538695, 0.007986592831728867, 0.0718793354855598, 0.08785252114901754, 0.8306056544998023, 0.005224234129547761, 0.9926044846140745, 0.9895784374891305, 0.9500649172175766, 0.9458175750982036, 0.04299170795900926, 0.07217340181162804, 0.49077913231907067, 0.1768248344384887, 0.2598242465218609, 0.9245850839607744, 0.03698340335843098, 0.03698340335843098, 0.949600632444527, 0.056976037946671616, 0.7916331298665213, 0.00599722068080698, 0.07196664816968376, 0.13793607565856053, 0.938022611829822, 0.004860220786683016, 0.014580662360049047, 0.04860220786683016, 0.9592603980502441, 0.0048693421220824575, 0.014608026366247372, 0.01947736848832983, 0.9824133406097482, 0.9241389384409395, 0.008325576021990445, 0.05827903215393312, 0.025065904363566097, 0.9525043658155117, 0.010384087625537088, 0.9864883244260233, 0.010388444338245827, 0.9869022121333535, 0.010388253393685959, 0.9868840724001662, 0.2577317888869595, 0.5133510221273047, 0.15844167349608168, 0.06971433633827594, 0.9527454263643322, 0.038624814582337796, 0.22012997511915472, 0.7322691009065758, 0.013477345415458452, 0.031447139302736384, 0.6687970705065985, 0.12652917550124837, 0.09760822110096304, 0.10483845970103436, 0.01038845338593012, 0.9869030716633613, 0.02371863595628618, 0.09487454382514472, 0.8775895303825887, 0.9611700153385555, 0.03844680061354222, 0.628571089342229, 0.03142855446711145, 0.03142855446711145, 0.3142855446711145, 0.9812525926959352, 0.04167468108134619, 0.04167468108134619, 0.9168429837896162, 0.9595911221792571, 0.0048710209247678025, 0.014613062774303407, 0.01948408369907121, 0.9666374134940401, 0.012888498846587201, 0.012888498846587201, 0.023884002635457164, 0.9314761027828294, 0.04776800527091433, 0.03254853815290477, 0.9601818755106906, 0.02391990663116204, 0.04783981326232408, 0.9328763586153196, 0.05852040701639828, 0.9363265122623725, 0.02926020350819914, 0.02182083186717083, 0.971027018089102, 0.30386803625264663, 0.651145791969957, 0.0434097194646638, 0.010084750494165665, 0.9883055484282353, 0.9100171623685602, 0.056876072648035014, 0.007176250362325017, 0.9687937989138773, 0.014352500724650033, 0.007176250362325017, 0.030021080301819204, 0.9706815964254876, 0.20277748653892183, 0.6732212553092205, 0.08111099461556873, 0.04055549730778436, 0.07385446794273144, 0.014770893588546288, 0.8567118281356847, 0.044312680765638865, 0.8875267810149422, 0.025357908028998347, 0.10143163211599339, 0.010103742636522434, 0.9800630357426762, 0.1602945589103827, 0.6243051241772799, 0.1602945589103827, 0.05061933439275243, 0.07072502339704108, 0.8769902901233094, 0.028290009358816433, 0.014145004679408216, 0.01694559545619749, 0.01694559545619749, 0.01694559545619749, 0.9489533455470593, 0.9869627130738335, 0.12801879453157383, 0.2757327882218513, 0.2905041875908791, 0.3052755869599068, 0.20364824861420813, 0.43924132054044895, 0.10382067576410611, 0.2555585864962612, 0.30488404973403477, 0.6526424189619181, 0.038110506216754346, 0.9869891084249554, 0.2890119418732712, 0.14547580966775397, 0.5566874316619386, 0.007758709848946879, 0.03790874103000197, 0.0103387475536369, 0.951164774934595, 0.0034462491845456337, 0.10294233499293917, 0.8878776393141004, 0.16621190489475665, 0.12927592602925517, 0.6971666010863403, 0.013850992074563053, 0.06280929420805251, 0.9421394131207877, 0.9287814443413648, 0.03869922684755687, 0.03869922684755687, 0.03642925020143277, 0.09107312550358193, 0.8560873797336701, 0.018214625100716385, 0.9662144211413614, 0.01420903560502002, 0.07375349068261433, 0.05531511801196075, 0.7744116521674504, 0.09219186335326791, 0.9736269017218413, 0.9810203221355855, 0.04237118135172728, 0.9321659897380002, 0.09831250839519141, 0.8848125755567227, 0.02800094384967197, 0.04200141577450795, 0.910030675114339, 0.0319811743135904, 0.9594352294077119, 0.0319727716610983, 0.959183149832949, 0.16255423259953866, 0.02955531501809794, 0.7536605329614975, 0.05911063003619588, 0.021496437133941074, 0.9673396710273484, 0.9569710103928811, 0.9344563683092094, 0.03460949512256331, 0.025957121341922483, 0.008652373780640828, 0.031922846052495825, 0.9576853815748748, 0.19377087410415997, 0.30736069685487444, 0.4209505196055889, 0.0734992970739917, 0.0494418798952482, 0.4598094830258083, 0.3362047832876878, 0.15821401566479426, 0.9226941764759855, 0.03548823755676867, 0.8282318693705424, 0.011192322559061383, 0.0671539353543683, 0.08953858047249107, 0.9425268119742692, 0.038470482121398746, 0.019235241060699373, 0.05541773848826418, 0.928247119678425, 0.9554316999125075, 0.23758238888193922, 0.37122248262803004, 0.3786469322805906, 0.0222733489576818, 0.04138766958238371, 0.9105287308124417, 0.9733391369534679, 0.9721177160695148, 0.9885721627874646, 0.1511978038982708, 0.34111699659975736, 0.3595557531727172, 0.14751005258367886, 0.07395119747268486, 0.05972981334332239, 0.275894852109632, 0.5887653029556065, 0.03184704940754433, 0.9235644328187855, 0.03192634683024544, 0.9577904049073633, 0.07104273325738815, 0.880929892391613, 0.02841709330295526, 0.02841709330295526, 0.0856900760156191, 0.856900760156191, 0.028563358671873033, 0.028563358671873033, 0.08963165103934428, 0.8963165103934428, 0.029877217013114764, 0.7328411064616405, 0.07761617630012448, 0.036100547116336965, 0.15342732524443212, 0.851257595406525, 0.004321104545210786, 0.14259644999195595, 0.004321104545210786, 0.7971185137297755, 0.012239823627328606, 0.022949669301241135, 0.16676759692235224, 0.9810140308957543, 0.9817378175845143, 0.008390921517816362, 0.9841601814564588, 0.012009223361321026, 0.30023058403302566, 0.6124703914273724, 0.07205534016792615, 0.05201138676365926, 0.8841935749822074, 0.07093405100058142, 0.8795822324072097, 0.02837362040023257, 0.02837362040023257, 0.03464377198394663, 0.06928754396789326, 0.9007380715826123, 0.025324583115471727, 0.8863604090415105, 0.050649166230943454, 0.025324583115471727, 0.9282596915834372, 0.05460351126961395, 0.9869326691074628, 0.7319845553089547, 0.029447654523923464, 0.02524084673479154, 0.2145471972457281, 0.8304513154426226, 0.0026114821240334042, 0.03656074973646766, 0.13318558832570362, 0.9720055361426353, 0.5623688952443515, 0.004463245200351996, 0.16067682721267185, 0.2722579572214717, 0.982842596287603, 0.0413914095795087, 0.9106110107491915, 0.8992591939087166, 0.10579519928337841, 0.6018992886808139, 0.01932704137965916, 0.0966352068982958, 0.28438360887212766, 0.8124530741590157, 0.0027919349627457584, 0.16472416280199975, 0.01954354473922031, 0.9500681643855812, 0.9430273824218139, 0.0162590928003761, 0.0162590928003761, 0.0325181856007522, 0.7946328032436454, 0.005077525899320418, 0.06219969226667512, 0.13709319928165128, 0.9199607675959535, 0.004181639852708879, 0.07526951734875982, 0.8142148198837879, 0.01580999650259782, 0.047429989507793466, 0.11857497376948366, 0.15378940331722676, 0.017744931151987702, 0.2011092197225273, 0.6269875673702322, 0.47576137712218886, 0.006607796904474845, 0.5088003616445631, 0.01321559380894969, 0.7767902428401587, 0.0026602405576717763, 0.007980721673015329, 0.21015900405607033, 0.9670381422510272, 0.012893841896680363, 0.025787683793360727, 0.9402750407779638, 0.027655148258175406, 0.04148272238726311, 0.9733387256582391, 0.9661445821664741, 0.03331533041953359, 0.8439483768567437, 0.005552291953004893, 0.011104583906009786, 0.1443595907781272, 0.9827707269102635, 0.9814032539130547, 0.9500804889250527, 0.06756023632574197, 0.033780118162870985, 0.9120631903975166, 0.020484930810826092, 0.9218218864871741, 0.020484930810826092, 0.040969861621652184, 0.005875729275387011, 0.9459924133373088, 0.01762718782616103, 0.029378646376935054, 0.011682713026506317, 0.9346170421205053, 0.023365426053012634, 0.03504813907951895, 0.053118531709802776, 0.9030150390666472, 0.19851439080931385, 0.09162202652737562, 0.7100707055871611, 0.9555438968135044, 0.04761068082389386, 0.9284082760659302, 0.8911546202801065, 0.02857864228234718, 0.943095195317457, 0.22107537783199935, 0.23543092184706424, 0.531155128557401, 0.011484435212051914, 0.9554896366228403, 0.034627524462553586, 0.9522569227202237, 0.017313762231276793, 0.010070381096252768, 0.020140762192505535, 0.9768269663365186, 0.035215499572661714, 0.8803874893165429, 0.07043099914532343, 0.017607749786330857, 0.07603750716382623, 0.03801875358191312, 0.8744313323840017, 0.01900937679095656, 0.14193488910956242, 0.6447899248120122, 0.09327149855771245, 0.11760319383363745, 0.049368346890279816, 0.049368346890279816, 0.20364443092240422, 0.6973278998252024, 0.12539735666646373, 0.6703935606399408, 0.1302203319228662, 0.07234462884603678, 0.8943368553562173, 0.04471684276781087, 0.04471684276781087, 0.3034808068082074, 0.6575417480844493, 0.036128667477167545, 0.07112830350650054, 0.8677653027793066, 0.028451321402600215, 0.028451321402600215, 0.9584995545667431, 0.039122430798642575, 0.08546418046153843, 0.8688858346923074, 0.028488060153846147, 0.028488060153846147, 0.02095975911485431, 0.9222294010535897, 0.031439638672281466, 0.02095975911485431, 0.7874778381499281, 0.016754847620211236, 0.1926807476324292, 0.974274763264932, 0.011198560497298069, 0.8625890874193212, 0.016913511518025903, 0.005637837172675302, 0.11557566203984368, 0.9550621817883689, 0.004872766233614127, 0.01461829870084238, 0.024363831168070636, 0.9667831463869454, 0.012890441951825938, 0.012890441951825938, 0.32085564495502317, 0.6344191161610685, 0.043753042493866794, 0.020024902861814922, 0.9712077887980237, 0.005224284178146466, 0.005224284178146466, 0.9926139938478286, 0.010387222745207364, 0.9867861607946996, 0.028281271065387283, 0.9332819451577804, 0.028281271065387283, 0.07064195055294226, 0.8900885769670724, 0.028256780221176902, 0.014128390110588451, 0.9678783917441511, 0.06741871277779528, 0.18877239577782676, 0.6472196426668346, 0.10786994044447244, 0.04470880363271814, 0.8941760726543628, 0.04470880363271814, 0.02555799626698252, 0.9712038581453357, 0.03206829856972934, 0.9620489570918802, 0.6694065794704335, 0.07341878613546689, 0.0172750085024628, 0.23753136690886348, 0.7567720743584415, 0.07870429573327792, 0.05852370708371948, 0.10695711984265974, 0.923716458038557, 0.01432118539594662, 0.05728474158378648, 0.9810423720204895, 0.07592912928866842, 0.15185825857733684, 0.5998401213804806, 0.17463699736393737, 0.1427090657634745, 0.5640405932556374, 0.10873071677217105, 0.18348308455303866, 0.3775121220999842, 0.09182727294323939, 0.3162939401378246, 0.2091621217040453, 0.07556214725357945, 0.8815583846250935, 0.025187382417859814, 0.025187382417859814, 0.010047234018019192, 0.010047234018019192, 0.9745816997478616, 0.003487852707070804, 0.003487852707070804, 0.9905501688081083, 0.4921872870612658, 0.1525780589889924, 0.07382809305918987, 0.2854686264955342, 0.05685542032067828, 0.9381144352911917, 0.9870382236419514, 0.9870144207897072, 0.010385423897610628, 0.9866152702730097, 0.9236042133544065, 0.07104647795033896, 0.03252436819022516, 0.9594688616116422, 0.03191679374345866, 0.9575038123037598, 0.9895844345030197, 0.9397290194718655, 0.03835628650905574, 0.10000116265634681, 0.057143521517912466, 0.6714363778354714, 0.15714468417425928, 0.07076716908612415, 0.8775128966679394, 0.02830686763444966, 0.02830686763444966, 0.06545173747046666, 0.3163500644405889, 0.5890656372341999, 0.021817245823488887, 0.008178324863114535, 0.12267487294671804, 0.008178324863114535, 0.8669024354901408, 0.010387854236828843, 0.9868461524987401, 0.03320570853589014, 0.8965541304690338, 0.03320570853589014, 0.03320570853589014], \"Term\": [\"acupuncture\", \"acupuncture\", \"acupuncture\", \"addictionrecovery\", \"addictionrecovery\", \"addictionrecovery\", \"addictionrecovery\", \"addictionrecovery_bipolar\", \"addictionrecovery_bipolar\", \"addictionrecovery_bipolar\", \"addictionrecovery_bipolar\", \"addictionrecovery_bipolar_adhd_selfhelp\", \"addictionrecovery_bipolar_adhd_selfhelp\", \"addictionrecovery_bipolar_adhd_selfhelp\", \"addictionrecovery_bipolar_adhd_selfhelp\", \"adhd\", \"adhd\", \"adhd\", \"adhd\", \"adhd_autism\", \"adhd_autism\", \"adhd_autism\", \"adhd_selfhelp\", \"adhd_selfhelp\", \"adhd_selfhelp\", \"adhd_selfhelp\", \"always\", \"always\", \"always\", \"always\", \"always_known\", \"always_known\", \"always_known\", \"amazingnature\", \"amazingnature\", \"amazingnature_proofofbrain\", \"amazingnature_proofofbrain\", \"another_friend\", \"another_friend\", \"anxiety_hypochondria\", \"anxiety_hypochondria\", \"anxiety_hypochondria\", \"anxiety_hypochondria\", \"anyone_else\", \"anyone_else\", \"anyone_else\", \"archon\", \"archon\", \"article\", \"article\", \"article\", \"article\", \"autism\", \"autism\", \"autism\", \"autism\", \"back\", \"back\", \"back\", \"back\", \"best\", \"best\", \"best\", \"best\", \"best_fictional\", \"best_fictional\", \"better_without\", \"better_without_using_medication\", \"bilbao\", \"bilbao\", \"bipolar\", \"bipolar\", \"bipolar\", \"bipolar\", \"brainsway\", \"brainsway\", \"brainsway\", \"bulimia\", \"bulimia\", \"compulsive\", \"compulsive\", \"compulsive\", \"compulsive\", \"contact\", \"contact\", \"contact\", \"contact\", \"contact_looking\", \"contact_looking\", \"contact_looking\", \"contact_looking\", \"contact_schedule\", \"counseling\", \"counseling\", \"counseling\", \"debilitating_illness\", \"debilitating_illness\", \"depiction\", \"depiction\", \"depiction_read\", \"depiction_read\", \"depiction_read_hard_hitting\", \"depiction_read_hard_hitting\", \"depression\", \"depression\", \"depression\", \"depression\", \"depression_email\", \"depression_email\", \"depression_ptsd\", \"depression_ptsd\", \"depression_ptsd\", \"depression_ptsd\", \"disorder\", \"disorder\", \"disorder\", \"disorder\", \"dying\", \"dying\", \"dyslexia_dyspraxia\", \"dyslexia_dyspraxia\", \"dyslexia_dyspraxia\", \"eatingdisorders_mindfulness\", \"eatingdisorders_mindfulness\", \"effective\", \"effective\", \"effective\", \"effective\", \"effective_help\", \"effective_notice\", \"effective_notice\", \"effective_notice\", \"effective_online\", \"effective_online\", \"effective_online\", \"effective_online\", \"effective_online_mindfulness_therapy\", \"effective_online_mindfulness_therapy\", \"effective_online_mindfulness_therapy\", \"else\", \"else\", \"else\", \"enjoy_tweet\", \"enjoy_tweet\", \"episode\", \"episode\", \"episode\", \"eupd\", \"eupd\", \"eupd\", \"eupd_anxiety\", \"eupd_anxiety\", \"evidence_back\", \"evidence_back\", \"evidence_back\", \"fabulous\", \"fabulous\", \"faith\", \"faith\", \"feel_like\", \"feel_like\", \"feel_like\", \"feel_like\", \"fictional\", \"fictional\", \"find\", \"find\", \"find\", \"find\", \"friend\", \"friend\", \"friend\", \"friend\", \"gaming\", \"gaming\", \"gaming\", \"gold\", \"gold\", \"good\", \"good\", \"good\", \"good\", \"happiness_anxiety\", \"happiness_anxiety\", \"happiness_anxiety\", \"happiness_anxiety\", \"hard\", \"hard\", \"hard\", \"hard\", \"hard_hitting\", \"health\", \"health\", \"health\", \"health\", \"help\", \"help\", \"help\", \"help\", \"help_mentalhealth\", \"help_mentalhealth\", \"help_mentalhealth\", \"hitting\", \"hive\", \"hive\", \"hive\", \"hive\", \"hive_hiveblogshare\", \"hive_hiveblogshare\", \"hive_hiveblogshare\", \"hive_hiveblogshare\", \"hive_peakd\", \"hive_peakd\", \"hiveblogshare\", \"hiveblogshare\", \"hiveblogshare\", \"hiveblogshare\", \"hiveblogshare_photography\", \"hiveblogshare_photography\", \"hiveworks_hiveblogshare\", \"hiveworks_hiveblogshare\", \"hiveworks_hiveblogshare\", \"hope\", \"hope\", \"hope\", \"hope\", \"huge_improvement\", \"huge_improvement\", \"illness\", \"illness\", \"illness\", \"illness\", \"image_contact\", \"improvement_session_online_psychotherapy\", \"insect\", \"insect\", \"insect_photofeed\", \"insect_photofeed\", \"intrusivethoughts_ocdtreatment\", \"intrusivethoughts_ocdtreatment\", \"intrusivethoughts_ocdtreatment\", \"iwillnotletmymhkillme\", \"iwillnotletmymhkillme\", \"iwillnotletmymhkillme_retweet\", \"iwillnotletmymhkillme_retweet\", \"keep\", \"keep\", \"keep\", \"keep\", \"last_night\", \"last_night\", \"learn_manage\", \"learn_more\", \"learn_more\", \"learn_more\", \"learn_more\", \"letsbeatmentalhealthtogether\", \"letsbeatmentalhealthtogether\", \"life\", \"life\", \"life\", \"life\", \"like\", \"like\", \"like\", \"like\", \"livestream\", \"livestream\", \"looking\", \"looking\", \"looking\", \"looking\", \"looking_online\", \"looking_online\", \"looking_online\", \"macrophotography\", \"macrophotography\", \"macrophotography_amazingnature\", \"make\", \"make\", \"make\", \"make\", \"medication_online\", \"medication_online\", \"memory_memory\", \"memory_memory_image_contact\", \"mental_health\", \"mentalhealth\", \"mentalhealth\", \"mentalhealth\", \"mentalhealth\", \"mentalhealth_bipolar\", \"mentalhealth_bipolar\", \"mentalhealth_bipolar\", \"mentalhealth_bipolar\", \"mentalhealth_letsbeatmentalhealthtogether\", \"mentalhealth_letsbeatmentalhealthtogether\", \"mentalhealth_letsbeatmentalhealthtogether_iwillnotletmymhkillme_retweet\", \"mentalhealth_letsbeatmentalhealthtogether_iwillnotletmymhkillme_retweet\", \"mentalhealthawareness_recovery\", \"mentalhealthawareness_recovery\", \"mentalhealthawareness_recovery\", \"mentalhealthawareness_recovery\", \"mentalillness_motivation\", \"mentalillness_motivation\", \"mentalillness_motivation\", \"mentalillness_motivation\", \"mind\", \"mind\", \"mind\", \"mindfulness\", \"mindfulness\", \"mindfulness\", \"mindfulness\", \"mindfulness_depressio\", \"mindfulness_depressio\", \"mindfulness_depressio\", \"mindfulness_depressio\", \"mindfulness_therapy\", \"mindfulness_therapy\", \"mindfulness_therapy\", \"mindfulness_therapy\", \"mindfulness_therapy_contact_schedule\", \"most_people\", \"most_people\", \"most_people_huge_improvement\", \"much\", \"much\", \"much\", \"much\", \"music\", \"music\", \"need_message\", \"need_message\", \"need_message\", \"need_message\", \"neoxian\", \"neoxian\", \"neoxian\", \"neurodivergent\", \"neurodivergent\", \"neurodivergent\", \"neurodivergent\", \"neurodiversity\", \"neurodiversity\", \"noir\", \"obsessive\", \"obsessive\", \"obsessive\", \"obsessive\", \"obsessive_compulsive\", \"obsessive_compulsive\", \"obsessive_compulsive\", \"obsessive_compulsive\", \"obsessive_intrusive_thought_traumatic\", \"ocdawareness\", \"ocdawareness\", \"ocdawareness\", \"ocdawareness\", \"ocdawareness_intrusivethoughts\", \"ocdawareness_onlinetherapistforocd\", \"ocdawareness_onlinetherapistforocd\", \"ocdgaming\", \"ocdgaming\", \"ocdrecovery\", \"ocdrecovery\", \"ocdrecovery\", \"ocdrecovery\", \"ocdrecovery_ocdawareness\", \"ocdrecovery_ocdawareness\", \"ocdrecovery_ocdawareness\", \"ocdrecovery_ocdawareness\", \"ocdtreatment_ocdreco\", \"ocdtreatment_ocdrecovery\", \"ocdtreatment_ocdrecovery\", \"ocdtreatment_ocdrecovery\", \"ocdtreatment_ocdrecovery\", \"online\", \"online\", \"online\", \"online\", \"online_counseling\", \"online_counseling\", \"online_counseling\", \"online_mindfulness\", \"online_mindfulness\", \"online_mindfulness\", \"online_mindfulness\", \"online_psychotherapist\", \"online_psychotherapist\", \"online_psychotherapist\", \"online_psychotherapist\", \"online_psychotherapy\", \"online_psychotherapy\", \"online_psychotherapy\", \"online_psychotherapy\", \"online_therapist\", \"online_therapist\", \"online_therapist\", \"online_therapist\", \"online_therapist_contact_looking\", \"online_therapist_contact_looking\", \"online_therapist_contact_looking\", \"online_therapist_obsessive_compulsive\", \"online_therapist_obsessive_compulsive\", \"online_therapist_obsessive_compulsive\", \"onlinetherapistforocd_intrusivethoughts\", \"originalcontent\", \"originalcontent\", \"overcoming\", \"overcoming\", \"overcoming\", \"overcoming\", \"overcoming_ocdrecovery\", \"overcoming_ocdrecovery_ocdawareness_intrusivethoughts\", \"overcoming_online\", \"palnet\", \"palnet\", \"palnet\", \"parent\", \"parent\", \"parent\", \"parent\", \"parent_anxiety\", \"parent_anxiety\", \"parent_anxiety\", \"parent_anxiety\", \"parent_anxiety_depression_ptsd\", \"parent_anxiety_depression_ptsd\", \"parent_anxiety_depression_ptsd\", \"parent_anxiety_depression_ptsd\", \"parenting\", \"parenting\", \"photography\", \"photography\", \"photography\", \"photography_animal\", \"photography_macrophotography\", \"photography_macrophotography\", \"photography_macrophotography_insect_photofeed\", \"podcast\", \"podcast\", \"posh\", \"posh\", \"posh\", \"posh\", \"posh_insect\", \"positivity_process\", \"positivity_process\", \"positivity_process\", \"pray\", \"pray\", \"pray\", \"process\", \"process\", \"process\", \"process\", \"proofofbrain\", \"proofofbrain\", \"proofofbrain\", \"proofofbrain\", \"ptsd\", \"ptsd\", \"ptsd\", \"ptsd\", \"read\", \"read\", \"read\", \"read\", \"really\", \"really\", \"really\", \"really\", \"relieftms\", \"relieftms\", \"relieftms\", \"research_find\", \"research_find\", \"research_find\", \"retweet_really\", \"retweet_really\", \"retweet_really\", \"retweet_really\", \"schedule\", \"schedule\", \"selfcare_mindfulness\", \"selfcare_mindfulness\", \"selfcare_mindfulness\", \"selfcare_mindfulness\", \"selfhelp\", \"selfhelp\", \"selfhelp\", \"selfhelp\", \"session\", \"session\", \"session\", \"session_contact\", \"session_contact\", \"skype\", \"skype\", \"skype\", \"skype\", \"skype_overcoming\", \"skype_overcoming\", \"skype_overcoming\", \"skype_overcoming\", \"skype_overcoming_ocdrecovery_ocdawareness\", \"skype_overcoming_ocdrecovery_ocdawareness\", \"skype_overcoming_ocdrecovery_ocdawareness\", \"ssri_performance\", \"ssri_performance\", \"ssri_performance\", \"stephen\", \"stephen\", \"stephen_gold\", \"stephen_gold\", \"stephen_gold\", \"stephen_gold_best_fictional\", \"stephen_gold_best_fictional\", \"stream\", \"stream\", \"stream\", \"stress_health\", \"stress_health\", \"stress_health\", \"stress_health\", \"supernatural\", \"take\", \"take\", \"take\", \"take\", \"teenager\", \"teenager\", \"teenager\", \"thank_much\", \"thank_much\", \"thank_much_another_friend\", \"thank_much_another_friend\", \"therapist\", \"therapist\", \"therapist\", \"therapist\", \"therapy\", \"therapy\", \"therapy\", \"therapy\", \"therapy_skype\", \"therapy_skype\", \"therapy_skype\", \"therapy_skype_most_people\", \"thing\", \"thing\", \"thing\", \"thing\", \"this\", \"this\", \"this\", \"this\", \"thought\", \"thought\", \"thought\", \"thought\", \"today_depression\", \"today_depression\", \"today_depression\", \"today_depression\", \"tough\", \"tough\", \"tough\", \"tough_fabulous\", \"tough_fabulous\", \"tough_fabulous\", \"treatment\", \"treatment\", \"treatment\", \"treatment\", \"treatment_without\", \"treatment_without\", \"tuesdaybookblog\", \"tuesdaybookblog_pray\", \"tuesdaybookblog_pray_when_dying\", \"tuesdaybookblog_pray_when_dying\", \"twitch\", \"twitch\", \"twitter_hope\", \"twitter_hope\", \"twitter_hope_enjoy_tweet\", \"twitter_hope_enjoy_tweet\", \"using_medication\", \"visit_bulimia\", \"visit_bulimia\", \"week\", \"week\", \"week\", \"week\", \"wellness_selflove\", \"wellness_selflove\", \"wellness_selflove\", \"wellness_selflove\", \"what\", \"what\", \"what\", \"what\", \"when\", \"when\", \"when\", \"when\", \"when_dying\", \"when_dying\", \"youtube\", \"youtube\", \"youtube\", \"youtube\"]}, \"R\": 30, \"lambda.step\": 0.01, \"plot.opts\": {\"xlab\": \"PC1\", \"ylab\": \"PC2\"}, \"topic.order\": [3, 2, 4, 1]};\n",
       "\n",
       "function LDAvis_load_lib(url, callback){\n",
       "  var s = document.createElement('script');\n",
       "  s.src = url;\n",
       "  s.async = true;\n",
       "  s.onreadystatechange = s.onload = callback;\n",
       "  s.onerror = function(){console.warn(\"failed to load library \" + url);};\n",
       "  document.getElementsByTagName(\"head\")[0].appendChild(s);\n",
       "}\n",
       "\n",
       "if(typeof(LDAvis) !== \"undefined\"){\n",
       "   // already loaded: just create the visualization\n",
       "   !function(LDAvis){\n",
       "       new LDAvis(\"#\" + \"ldavis_el2173228546021705602853018395\", ldavis_el2173228546021705602853018395_data);\n",
       "   }(LDAvis);\n",
       "}else if(typeof define === \"function\" && define.amd){\n",
       "   // require.js is available: use it to load d3/LDAvis\n",
       "   require.config({paths: {d3: \"https://d3js.org/d3.v5\"}});\n",
       "   require([\"d3\"], function(d3){\n",
       "      window.d3 = d3;\n",
       "      LDAvis_load_lib(\"https://cdn.jsdelivr.net/gh/bmabey/pyLDAvis@3.2.2/pyLDAvis/js/ldavis.v3.0.0.js\", function(){\n",
       "        new LDAvis(\"#\" + \"ldavis_el2173228546021705602853018395\", ldavis_el2173228546021705602853018395_data);\n",
       "      });\n",
       "    });\n",
       "}else{\n",
       "    // require.js not available: dynamically load d3 & LDAvis\n",
       "    LDAvis_load_lib(\"https://d3js.org/d3.v5.js\", function(){\n",
       "         LDAvis_load_lib(\"https://cdn.jsdelivr.net/gh/bmabey/pyLDAvis@3.2.2/pyLDAvis/js/ldavis.v3.0.0.js\", function(){\n",
       "                 new LDAvis(\"#\" + \"ldavis_el2173228546021705602853018395\", ldavis_el2173228546021705602853018395_data);\n",
       "            })\n",
       "         });\n",
       "}\n",
       "</script>"
      ],
      "text/plain": [
       "PreparedData(topic_coordinates=              x         y  topics  cluster       Freq\n",
       "topic                                                \n",
       "2     -0.112807  0.187562       1        1  33.114849\n",
       "1      0.182168 -0.031667       2        1  24.106375\n",
       "3      0.113594 -0.005378       3        1  21.952029\n",
       "0     -0.182955 -0.150518       4        1  20.826747, topic_info=                                                   Term        Freq  \\\n",
       "term                                                                  \n",
       "241                                      tough_fabulous  286.000000   \n",
       "380                                  hive_hiveblogshare  290.000000   \n",
       "49                                               online  787.000000   \n",
       "76                                  mindfulness_therapy  653.000000   \n",
       "224                                      best_fictional  191.000000   \n",
       "238                                        stephen_gold  191.000000   \n",
       "33                                                 hive  515.000000   \n",
       "213                                    online_therapist  375.000000   \n",
       "53                                                skype  354.000000   \n",
       "81                                 obsessive_compulsive  382.000000   \n",
       "340                                mentalhealth_bipolar  351.000000   \n",
       "741                                      parent_anxiety  170.000000   \n",
       "132                            ocdrecovery_ocdawareness  358.000000   \n",
       "738                                       adhd_selfhelp  160.000000   \n",
       "50                                    online_counseling  239.000000   \n",
       "509                                           feel_like  139.000000   \n",
       "209                                     contact_looking  205.000000   \n",
       "211                                    effective_online  205.000000   \n",
       "216                                    skype_overcoming  205.000000   \n",
       "133                                                adhd  230.000000   \n",
       "232                                                hard  118.000000   \n",
       "69                                              contact  205.000000   \n",
       "45                                      depression_ptsd  222.000000   \n",
       "75                                          mindfulness  554.000000   \n",
       "229                                            fabulous   99.000000   \n",
       "39                                                 posh  348.000000   \n",
       "231                                                gold   98.000000   \n",
       "271                               mindfulness_depressio  231.000000   \n",
       "35                                        hiveblogshare  216.000000   \n",
       "242                                     tuesdaybookblog   96.000000   \n",
       "...                                                 ...         ...   \n",
       "229                                            fabulous   97.922694   \n",
       "239                         stephen_gold_best_fictional   95.067742   \n",
       "235                                                noir   95.046694   \n",
       "244                     tuesdaybookblog_pray_when_dying   94.997517   \n",
       "225                                           depiction   94.927933   \n",
       "231                                                gold   97.176437   \n",
       "353                      ocdawareness_intrusivethoughts   46.910223   \n",
       "354                              overcoming_ocdrecovery   46.880451   \n",
       "240                                               tough   97.047913   \n",
       "236                                                pray   96.778744   \n",
       "237                                             stephen   96.752685   \n",
       "230                                           fictional   96.632921   \n",
       "263                                          last_night   44.966575   \n",
       "355   overcoming_ocdrecovery_ocdawareness_intrusivet...   23.565233   \n",
       "352                                      effective_help   23.554665   \n",
       "232                                                hard  112.358577   \n",
       "571                                   treatment_without   65.949594   \n",
       "570                  ocdawareness_onlinetherapistforocd   22.337298   \n",
       "568                                   medication_online   22.321699   \n",
       "468                      intrusivethoughts_ocdtreatment   65.188327   \n",
       "467                                    effective_notice   43.577613   \n",
       "245                                                when  106.011203   \n",
       "188                                                best  103.928512   \n",
       "290                                anxiety_hypochondria   79.574653   \n",
       "340                                mentalhealth_bipolar  207.461214   \n",
       "117                                                read  113.209489   \n",
       "471                              online_psychotherapist  105.728178   \n",
       "82                                          ocdrecovery  102.796357   \n",
       "76                                  mindfulness_therapy  109.473205   \n",
       "49                                               online  108.467552   \n",
       "\n",
       "           Total Category  logprob  loglift  \n",
       "term                                         \n",
       "241   286.000000  Default  30.0000  30.0000  \n",
       "380   290.000000  Default  29.0000  29.0000  \n",
       "49    787.000000  Default  28.0000  28.0000  \n",
       "76    653.000000  Default  27.0000  27.0000  \n",
       "224   191.000000  Default  26.0000  26.0000  \n",
       "238   191.000000  Default  25.0000  25.0000  \n",
       "33    515.000000  Default  24.0000  24.0000  \n",
       "213   375.000000  Default  23.0000  23.0000  \n",
       "53    354.000000  Default  22.0000  22.0000  \n",
       "81    382.000000  Default  21.0000  21.0000  \n",
       "340   351.000000  Default  20.0000  20.0000  \n",
       "741   170.000000  Default  19.0000  19.0000  \n",
       "132   358.000000  Default  18.0000  18.0000  \n",
       "738   160.000000  Default  17.0000  17.0000  \n",
       "50    239.000000  Default  16.0000  16.0000  \n",
       "509   139.000000  Default  15.0000  15.0000  \n",
       "209   205.000000  Default  14.0000  14.0000  \n",
       "211   205.000000  Default  13.0000  13.0000  \n",
       "216   205.000000  Default  12.0000  12.0000  \n",
       "133   230.000000  Default  11.0000  11.0000  \n",
       "232   118.000000  Default  10.0000  10.0000  \n",
       "69    205.000000  Default   9.0000   9.0000  \n",
       "45    222.000000  Default   8.0000   8.0000  \n",
       "75    554.000000  Default   7.0000   7.0000  \n",
       "229    99.000000  Default   6.0000   6.0000  \n",
       "39    348.000000  Default   5.0000   5.0000  \n",
       "231    98.000000  Default   4.0000   4.0000  \n",
       "271   231.000000  Default   3.0000   3.0000  \n",
       "35    216.000000  Default   2.0000   2.0000  \n",
       "242    96.000000  Default   1.0000   1.0000  \n",
       "...          ...      ...      ...      ...  \n",
       "229    99.159617   Topic4  -4.6226   1.5564  \n",
       "239    96.272124   Topic4  -4.6522   1.5563  \n",
       "235    96.257833   Topic4  -4.6524   1.5563  \n",
       "244    96.288800   Topic4  -4.6530   1.5554  \n",
       "225    96.301190   Topic4  -4.6537   1.5546  \n",
       "231    98.973226   Topic4  -4.6303   1.5506  \n",
       "353    47.820475   Topic4  -5.3586   1.5497  \n",
       "354    47.823972   Topic4  -5.3592   1.5490  \n",
       "240    99.529880   Topic4  -4.6316   1.5437  \n",
       "236    99.301108   Topic4  -4.6344   1.5432  \n",
       "237    99.875641   Topic4  -4.6347   1.5372  \n",
       "230    99.929782   Topic4  -4.6359   1.5354  \n",
       "263    46.519337   Topic4  -5.4009   1.5350  \n",
       "355    24.454779   Topic4  -6.0470   1.5319  \n",
       "352    24.458534   Topic4  -6.0475   1.5313  \n",
       "232   118.024770   Topic4  -4.4851   1.5197  \n",
       "571    70.353890   Topic4  -5.0179   1.5043  \n",
       "570    24.159602   Topic4  -6.1006   1.4905  \n",
       "568    24.161786   Topic4  -6.1013   1.4897  \n",
       "468    71.426164   Topic4  -5.0295   1.4775  \n",
       "467    47.990769   Topic4  -5.4323   1.4725  \n",
       "245   122.274429   Topic4  -4.5433   1.4262  \n",
       "188   125.209839   Topic4  -4.5631   1.3826  \n",
       "290    97.010984   Topic4  -4.8301   1.3708  \n",
       "340   351.583218   Topic4  -3.8719   1.0414  \n",
       "117   162.047152   Topic4  -4.4776   1.2103  \n",
       "471   169.062363   Topic4  -4.5459   1.0995  \n",
       "82    362.186838   Topic4  -4.5741   0.3095  \n",
       "76    653.604189   Topic4  -4.5111  -0.2179  \n",
       "49    787.785248   Topic4  -4.5204  -0.4138  \n",
       "\n",
       "[258 rows x 6 columns], token_table=      Topic      Freq                                     Term\n",
       "term                                                          \n",
       "0         1  0.390303                              acupuncture\n",
       "0         2  0.562936                              acupuncture\n",
       "0         3  0.045035                              acupuncture\n",
       "735       1  0.011752                        addictionrecovery\n",
       "735       2  0.928398                        addictionrecovery\n",
       "735       3  0.023504                        addictionrecovery\n",
       "735       4  0.035256                        addictionrecovery\n",
       "736       1  0.011095                addictionrecovery_bipolar\n",
       "736       2  0.943066                addictionrecovery_bipolar\n",
       "736       3  0.022190                addictionrecovery_bipolar\n",
       "736       4  0.033285                addictionrecovery_bipolar\n",
       "737       1  0.012298  addictionrecovery_bipolar_adhd_selfhelp\n",
       "737       2  0.946930  addictionrecovery_bipolar_adhd_selfhelp\n",
       "737       3  0.012298  addictionrecovery_bipolar_adhd_selfhelp\n",
       "737       4  0.024596  addictionrecovery_bipolar_adhd_selfhelp\n",
       "133       1  0.043340                                     adhd\n",
       "133       2  0.767125                                     adhd\n",
       "133       3  0.160360                                     adhd\n",
       "133       4  0.026004                                     adhd\n",
       "134       1  0.028290                              adhd_autism\n",
       "134       2  0.933554                              adhd_autism\n",
       "134       3  0.028290                              adhd_autism\n",
       "738       1  0.012425                            adhd_selfhelp\n",
       "738       2  0.944291                            adhd_selfhelp\n",
       "738       3  0.012425                            adhd_selfhelp\n",
       "738       4  0.037275                            adhd_selfhelp\n",
       "3         1  0.174624                                   always\n",
       "3         2  0.675720                                   always\n",
       "3         3  0.045554                                   always\n",
       "3         4  0.098701                                   always\n",
       "...     ...       ...                                      ...\n",
       "319       4  0.071046                                   twitch\n",
       "824       2  0.032524                             twitter_hope\n",
       "824       3  0.959469                             twitter_hope\n",
       "825       2  0.031917                 twitter_hope_enjoy_tweet\n",
       "825       3  0.957504                 twitter_hope_enjoy_tweet\n",
       "492       1  0.989584                         using_medication\n",
       "399       1  0.939729                            visit_bulimia\n",
       "399       2  0.038356                            visit_bulimia\n",
       "344       1  0.100001                                     week\n",
       "344       2  0.057144                                     week\n",
       "344       3  0.671436                                     week\n",
       "344       4  0.157145                                     week\n",
       "653       1  0.070767                        wellness_selflove\n",
       "653       2  0.877513                        wellness_selflove\n",
       "653       3  0.028307                        wellness_selflove\n",
       "653       4  0.028307                        wellness_selflove\n",
       "206       1  0.065452                                     what\n",
       "206       2  0.316350                                     what\n",
       "206       3  0.589066                                     what\n",
       "206       4  0.021817                                     what\n",
       "245       1  0.008178                                     when\n",
       "245       2  0.122675                                     when\n",
       "245       3  0.008178                                     when\n",
       "245       4  0.866902                                     when\n",
       "246       2  0.010388                               when_dying\n",
       "246       4  0.986846                               when_dying\n",
       "728       1  0.033206                                  youtube\n",
       "728       2  0.896554                                  youtube\n",
       "728       3  0.033206                                  youtube\n",
       "728       4  0.033206                                  youtube\n",
       "\n",
       "[613 rows x 3 columns], R=30, lambda_step=0.01, plot_opts={'xlab': 'PC1', 'ylab': 'PC2'}, topic_order=[3, 2, 4, 1])"
      ]
     },
     "execution_count": 17,
     "metadata": {},
     "output_type": "execute_result"
    }
   ],
   "source": [
    "# visualize the topics\n",
    "pyLDAvis.enable_notebook()\n",
    "LDAvis_viz = pyLDAvis.gensim.prepare(best_model, corpus, dictionary)\n",
    "LDAvis_viz"
   ]
  },
  {
   "cell_type": "code",
   "execution_count": 18,
   "id": "a887deae",
   "metadata": {},
   "outputs": [],
   "source": [
    "pyLDAvis.save_html(LDAvis_viz, 'OCD Visualization.html')"
   ]
  },
  {
   "cell_type": "markdown",
   "id": "b24eb162",
   "metadata": {},
   "source": [
    "### We interpret the topics based on the keywords"
   ]
  },
  {
   "cell_type": "code",
   "execution_count": 19,
   "id": "3cdd8b08",
   "metadata": {},
   "outputs": [
    {
     "name": "stdout",
     "output_type": "stream",
     "text": [
      "1: Treatment/Online(Therapy)\n",
      "2: Comorbidity/Symptoms\n",
      "3: Sharing/Experience\n",
      "4: Perception/Reading\n"
     ]
    }
   ],
   "source": [
    "print('1: Treatment/Online(Therapy)')\n",
    "print('2: Comorbidity/Symptoms')\n",
    "print('3: Sharing/Experience')\n",
    "print('4: Perception/Reading')"
   ]
  }
 ],
 "metadata": {
  "kernelspec": {
   "display_name": "Python 3",
   "language": "python",
   "name": "python3"
  },
  "language_info": {
   "codemirror_mode": {
    "name": "ipython",
    "version": 3
   },
   "file_extension": ".py",
   "mimetype": "text/x-python",
   "name": "python",
   "nbconvert_exporter": "python",
   "pygments_lexer": "ipython3",
   "version": "3.6.5"
  }
 },
 "nbformat": 4,
 "nbformat_minor": 5
}
