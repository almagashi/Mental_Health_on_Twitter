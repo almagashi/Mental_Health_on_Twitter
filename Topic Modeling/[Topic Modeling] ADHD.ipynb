{
 "cells": [
  {
   "cell_type": "markdown",
   "id": "aa506f7e",
   "metadata": {},
   "source": [
    "# Topic Modeling: ADHD"
   ]
  },
  {
   "cell_type": "markdown",
   "id": "30bdb5c2",
   "metadata": {},
   "source": [
    "### The first step is importing the packages that we will be using for identifying topic models."
   ]
  },
  {
   "cell_type": "code",
   "execution_count": 1,
   "id": "9c527e3b",
   "metadata": {},
   "outputs": [],
   "source": [
    "# Import required packages\n",
    "\n",
    "# DATA PREPROCESSING\n",
    "import nltk\n",
    "from nltk.tokenize import RegexpTokenizer\n",
    "from nltk.corpus import stopwords\n",
    "from nltk.stem import WordNetLemmatizer\n",
    "from gensim.models import Phrases\n",
    "\n",
    "# MODELING\n",
    "import sklearn\n",
    "import re\n",
    "from gensim.models.coherencemodel import CoherenceModel\n",
    "from gensim.models.ldamodel import LdaModel\n",
    "from gensim.corpora.dictionary import Dictionary\n",
    "from numpy import array\n",
    "\n",
    "# VISUALIZATION\n",
    "import matplotlib.pyplot as plt\n",
    "import seaborn as sns\n",
    "import pyLDAvis\n",
    "import pyLDAvis.gensim\n",
    "import pickle \n",
    "\n",
    "# OTHER\n",
    "import numpy as np\n",
    "import pandas as pd\n",
    "import logging\n",
    "import json\n",
    "import warnings\n",
    "import random\n",
    "\n",
    "warnings.filterwarnings('ignore')  "
   ]
  },
  {
   "cell_type": "markdown",
   "id": "cd7b4981",
   "metadata": {},
   "source": [
    "### In the second step, we read the dataset, and take a glance at what it looks like."
   ]
  },
  {
   "cell_type": "code",
   "execution_count": 2,
   "id": "c8500224",
   "metadata": {},
   "outputs": [],
   "source": [
    "data = pd.read_csv('adhd.csv')"
   ]
  },
  {
   "cell_type": "code",
   "execution_count": 3,
   "id": "09a34a38",
   "metadata": {},
   "outputs": [
    {
     "data": {
      "text/html": [
       "<div>\n",
       "<style scoped>\n",
       "    .dataframe tbody tr th:only-of-type {\n",
       "        vertical-align: middle;\n",
       "    }\n",
       "\n",
       "    .dataframe tbody tr th {\n",
       "        vertical-align: top;\n",
       "    }\n",
       "\n",
       "    .dataframe thead th {\n",
       "        text-align: right;\n",
       "    }\n",
       "</style>\n",
       "<table border=\"1\" class=\"dataframe\">\n",
       "  <thead>\n",
       "    <tr style=\"text-align: right;\">\n",
       "      <th></th>\n",
       "      <th>user_ID</th>\n",
       "      <th>followers_count</th>\n",
       "      <th>user_location</th>\n",
       "      <th>user_description</th>\n",
       "      <th>date</th>\n",
       "      <th>text</th>\n",
       "      <th>hashtags</th>\n",
       "    </tr>\n",
       "  </thead>\n",
       "  <tbody>\n",
       "    <tr>\n",
       "      <th>0</th>\n",
       "      <td>1.365320e+18</td>\n",
       "      <td>52</td>\n",
       "      <td>Sheffield, England</td>\n",
       "      <td>❤Sal / UK\\r\\r\\n🧡Player of games, Master of non...</td>\n",
       "      <td>10/27/2021 12:40</td>\n",
       "      <td>Saw GP today and we went through stuff and I t...</td>\n",
       "      <td>NaN</td>\n",
       "    </tr>\n",
       "    <tr>\n",
       "      <th>1</th>\n",
       "      <td>5.363879e+07</td>\n",
       "      <td>1667</td>\n",
       "      <td>UK</td>\n",
       "      <td>27y/o nonbinary creator. They/Them. disabled. ...</td>\n",
       "      <td>10/27/2021 12:40</td>\n",
       "      <td>My ADHD Graveyard | Officially Diagnosed and A...</td>\n",
       "      <td>NaN</td>\n",
       "    </tr>\n",
       "    <tr>\n",
       "      <th>2</th>\n",
       "      <td>1.329360e+18</td>\n",
       "      <td>12</td>\n",
       "      <td>England, United Kingdom</td>\n",
       "      <td>38. A diagnosis referral is hard in the UK. Se...</td>\n",
       "      <td>10/27/2021 12:37</td>\n",
       "      <td>Have there been any studies of adults or child...</td>\n",
       "      <td>['askADHD', 'ADHD']</td>\n",
       "    </tr>\n",
       "    <tr>\n",
       "      <th>3</th>\n",
       "      <td>1.242600e+18</td>\n",
       "      <td>8</td>\n",
       "      <td>West Hempstead, NY</td>\n",
       "      <td>OrganizeU4Life is making an impact on the live...</td>\n",
       "      <td>10/27/2021 12:35</td>\n",
       "      <td>Environmental factors don’t directly cause ADH...</td>\n",
       "      <td>NaN</td>\n",
       "    </tr>\n",
       "    <tr>\n",
       "      <th>4</th>\n",
       "      <td>1.429030e+18</td>\n",
       "      <td>48</td>\n",
       "      <td>España</td>\n",
       "      <td>🔞. Mainly NSFW. He/Him. 28. Gay, Single and Lo...</td>\n",
       "      <td>10/27/2021 12:33</td>\n",
       "      <td>Here in Spain we celebrate the national day of...</td>\n",
       "      <td>['ADHD']</td>\n",
       "    </tr>\n",
       "  </tbody>\n",
       "</table>\n",
       "</div>"
      ],
      "text/plain": [
       "        user_ID  followers_count            user_location  \\\n",
       "0  1.365320e+18               52       Sheffield, England   \n",
       "1  5.363879e+07             1667                       UK   \n",
       "2  1.329360e+18               12  England, United Kingdom   \n",
       "3  1.242600e+18                8       West Hempstead, NY   \n",
       "4  1.429030e+18               48                   España   \n",
       "\n",
       "                                    user_description              date  \\\n",
       "0  ❤Sal / UK\\r\\r\\n🧡Player of games, Master of non...  10/27/2021 12:40   \n",
       "1  27y/o nonbinary creator. They/Them. disabled. ...  10/27/2021 12:40   \n",
       "2  38. A diagnosis referral is hard in the UK. Se...  10/27/2021 12:37   \n",
       "3  OrganizeU4Life is making an impact on the live...  10/27/2021 12:35   \n",
       "4  🔞. Mainly NSFW. He/Him. 28. Gay, Single and Lo...  10/27/2021 12:33   \n",
       "\n",
       "                                                text             hashtags  \n",
       "0  Saw GP today and we went through stuff and I t...                  NaN  \n",
       "1  My ADHD Graveyard | Officially Diagnosed and A...                  NaN  \n",
       "2  Have there been any studies of adults or child...  ['askADHD', 'ADHD']  \n",
       "3  Environmental factors don’t directly cause ADH...                  NaN  \n",
       "4  Here in Spain we celebrate the national day of...             ['ADHD']  "
      ]
     },
     "execution_count": 3,
     "metadata": {},
     "output_type": "execute_result"
    }
   ],
   "source": [
    "data.head()"
   ]
  },
  {
   "cell_type": "markdown",
   "id": "6e8918ec",
   "metadata": {},
   "source": [
    "### Then, we extract our column of interest, which is the tweet."
   ]
  },
  {
   "cell_type": "code",
   "execution_count": 4,
   "id": "ae310a78",
   "metadata": {},
   "outputs": [],
   "source": [
    "tweets = data['text']"
   ]
  },
  {
   "cell_type": "markdown",
   "id": "309727dc",
   "metadata": {},
   "source": [
    "### Once we have the tweets, we pre-process the data to make it ready for analysis."
   ]
  },
  {
   "cell_type": "markdown",
   "id": "1010b465",
   "metadata": {},
   "source": [
    "Initially, we convert everything to lowercase, and then we remove users, links, punctuation, double spaces, numbers, short words, emojis and stopwords.\n",
    "\n",
    "Then, we tokenize each word, splitting the sentences in separate words.\n",
    "\n",
    "Lasly, we convert each word into their lemmas (the form of a word under which it is registered in a dictionary)."
   ]
  },
  {
   "cell_type": "code",
   "execution_count": 5,
   "id": "e9c9c185",
   "metadata": {},
   "outputs": [],
   "source": [
    "# list of commonly repeated words that do not add meanings\n",
    "my_stopwords = nltk.corpus.stopwords.words('english')\n",
    "repeated_words = ['ever', 'start', 'pre', '&amp', \n",
    "                  'amp', 'may', 'and', 'when',\n",
    "                  'what','who', 'why','how', \n",
    "                  'this', 'your', 'mine', 'their',\n",
    "                  'her', 'his', 'that', 'mental']\n",
    "\n",
    "for i in repeated_words:\n",
    "    my_stopwords.append(i)\n",
    "    \n",
    "tweets = tweets.apply(lambda x: ' '.join([word for word in x.split() if word not in (my_stopwords)]))\n",
    "tweets = array(tweets)\n",
    "    \n",
    "# list of common punctuation    \n",
    "my_punctuation = '!\"$%&\\'()*+,-./:;<=>?[\\\\]^_`’{|}~•@'\n",
    "\n",
    "# list of the majority of emojis\n",
    "emoj = re.compile(\"[\"  \n",
    "    u\"\\U0001F600-\\U0001F64F\" \n",
    "    u\"\\U0001F300-\\U0001F5FF\" \n",
    "    u\"\\U0001F680-\\U0001F6FF\"  \n",
    "    u\"\\U0001F1E0-\\U0001F1FF\"  \n",
    "    u\"\\U00002500-\\U00002BEF\"  \n",
    "    u\"\\U00002702-\\U000027B0\"\n",
    "    u\"\\U00002702-\\U000027B0\"\n",
    "    u\"\\U000024C2-\\U0001F251\"\n",
    "    u\"\\U0001f926-\\U0001f937\"\n",
    "    u\"\\U00010000-\\U0010ffff\"\n",
    "    u\"\\u2640-\\u2642\" \n",
    "    u\"\\u2600-\\u2B55\"\n",
    "    u\"\\u200d\"\n",
    "    u\"\\u23cf\"\n",
    "    u\"\\u23e9\"\n",
    "    u\"\\u231a\"\n",
    "    u\"\\ufe0f\"  \n",
    "    u\"\\u3030\"\n",
    "                  \"]+\", re.UNICODE) "
   ]
  },
  {
   "cell_type": "code",
   "execution_count": 6,
   "id": "5363edce",
   "metadata": {},
   "outputs": [],
   "source": [
    "def preprocessor(tweets):\n",
    "    \"\"\"\n",
    "    Removes unnecessary information from tweets,\n",
    "    and lemmatizes the tweets.\n",
    "\n",
    "    Input(s):\n",
    "    ------------------------------\n",
    "    tweets(array): all original tweets\n",
    "    \n",
    "    Output(s):\n",
    "    ------------------------------\n",
    "    tweets(array): cleaned up and lemmatized tweets\n",
    "    \"\"\"\n",
    "    tokenizer = RegexpTokenizer(r'\\w+')\n",
    "    for idx in range(len(tweets)):       \n",
    "        tweets[idx] = re.sub(r'http\\S+', '', tweets[idx]) # http links\n",
    "        tweets[idx] = re.sub(r'bit.ly/\\S+', '', tweets[idx]) # bitly links\n",
    "        tweets[idx] = tweets[idx].strip('[link]') # other links(i.e. gifs)\n",
    "        tweets[idx] = tweets[idx].lower()  # turn to lowercase\n",
    "        tweets[idx] = re.sub('(RT\\s@[A-Za-z]+[A-Za-z0-9-_]+)', '', tweets[idx]) # retweets\n",
    "        tweets[idx] = re.sub('(@[A-Za-z]+[A-Za-z0-9-_]+)', '', tweets[idx]) # tweeted at\n",
    "        tweets[idx] = re.sub ('#', '', tweets[idx]) # hashtags\n",
    "        tweets[idx] = re.sub(emoj, '', tweets[idx]) # emojis\n",
    "        tweets[idx] = re.sub('['+my_punctuation + ']+', ' ', tweets[idx]) # remove punctuation\n",
    "        tweets[idx] = re.sub('\\s+', ' ', tweets[idx]) # remove double spacing\n",
    "        tweets[idx] = tokenizer.tokenize(tweets[idx])   # split into words\n",
    "\n",
    "\n",
    "    # numbers (but not words with number)\n",
    "    tweets = [[token for token in tweet if not token.isdigit()] for tweet in tweets]\n",
    "    \n",
    "    # words that are only one character\n",
    "    tweets = [[token for token in tweet if len(token) > 3] for tweet in tweets]\n",
    "    \n",
    "    tweets = [[token for token in tweet if len(token) > 3] for tweet in tweets]\n",
    "    \n",
    "    # lemmatize all words in documents\n",
    "    lemmatizer = WordNetLemmatizer()\n",
    "    tweets = [[lemmatizer.lemmatize(token) for token in tweet] for tweet in tweets]\n",
    " \n",
    "    return tweets"
   ]
  },
  {
   "cell_type": "code",
   "execution_count": 7,
   "id": "1161edb7",
   "metadata": {},
   "outputs": [],
   "source": [
    "tweets = preprocessor(tweets)"
   ]
  },
  {
   "cell_type": "markdown",
   "id": "544fa83e",
   "metadata": {},
   "source": [
    "### We also create bi- and trigrams, and remove words that appear rarely. This is words that occurr frequently together, for example \"more_than, less_than\"."
   ]
  },
  {
   "cell_type": "code",
   "execution_count": 8,
   "id": "e836de8a",
   "metadata": {},
   "outputs": [],
   "source": [
    "# add bigrams and trigrams to docs\n",
    "\n",
    "# only add bi/trigrams that appear > 10 times\n",
    "bigram = Phrases(tweets, min_count=10)\n",
    "trigram = Phrases(bigram[tweets])\n",
    "\n",
    "for idx in range(len(tweets)):\n",
    "    for token in bigram[tweets[idx]]:\n",
    "        if '_' in token:\n",
    "            tweets[idx].append(token)\n",
    "    for token in trigram[tweets[idx]]:\n",
    "        if '_' in token:\n",
    "            tweets[idx].append(token)\n",
    "\n",
    "dictionary = Dictionary(tweets)\n",
    "dictionary.filter_extremes(no_below=10, no_above=0.2)\n",
    "\n",
    "corpus = [dictionary.doc2bow(t) for t in tweets]"
   ]
  },
  {
   "cell_type": "markdown",
   "id": "8a63f951",
   "metadata": {},
   "source": [
    "### After being ready for analysis, we analyze this data with Latent Dirichlet Allocation model by assigning a random number of topics."
   ]
  },
  {
   "cell_type": "code",
   "execution_count": 9,
   "id": "7bc173ad",
   "metadata": {},
   "outputs": [
    {
     "name": "stdout",
     "output_type": "stream",
     "text": [
      "[(0, '0.017*\"think_might\" + 0.017*\"planner\" + 0.016*\"many_different\" + 0.016*\"started_hyperfocus\" + 0.016*\"organisation_planner\" + 0.016*\"adhdawareness_adhdperson\" + 0.016*\"planner_journal\" + 0.016*\"adh_adhdtwitter\" + 0.016*\"already_curious\" + 0.014*\"adhdtwitter\"'), (1, '0.099*\"what\" + 0.095*\"change_knew\" + 0.065*\"would\" + 0.063*\"find_started\" + 0.063*\"asking_question\" + 0.063*\"exercise_nutrition\" + 0.063*\"important_sleep\" + 0.033*\"sleep\" + 0.033*\"question\" + 0.033*\"important\"'), (2, '0.127*\"meet_brain\" + 0.085*\"have_heard\" + 0.085*\"learn_below\" + 0.085*\"teamadhd_lifeinadhd\" + 0.044*\"adhdawareness\" + 0.043*\"learn\" + 0.043*\"brain\" + 0.043*\"have\" + 0.043*\"teamadhd\" + 0.043*\"heard\"'), (3, '0.081*\"job\" + 0.044*\"people\" + 0.042*\"feel\" + 0.041*\"with\" + 0.041*\"there\" + 0.041*\"body\" + 0.041*\"room\" + 0.041*\"human\" + 0.041*\"thinking\" + 0.041*\"though\"'), (4, '0.058*\"especially_part\" + 0.058*\"life_diagnosed\" + 0.058*\"never_feeling\" + 0.058*\"mourning_thanks\" + 0.058*\"kitchen_listening\" + 0.035*\"diagnosed\" + 0.033*\"part\" + 0.033*\"never\" + 0.032*\"thanks\" + 0.032*\"feeling\"')]\n"
     ]
    }
   ],
   "source": [
    "num_topics = 5 # number of topics\n",
    "\n",
    "temp = dictionary[0] \n",
    "id2word = dictionary.id2token\n",
    "\n",
    "lda_model = LdaModel(corpus=corpus, id2word=id2word, chunksize=len(data)/5, \\\n",
    "                       alpha='auto', eta='auto', \\\n",
    "                       iterations=20, num_topics=num_topics,random_state=np.random.RandomState(1000),\\\n",
    "                       passes=20, eval_every=1)\n",
    "\n",
    "# show keywords\n",
    "print(lda_model.print_topics())"
   ]
  },
  {
   "cell_type": "markdown",
   "id": "7dc09e0f",
   "metadata": {},
   "source": [
    "### We check the accuracy of our model with coherence scores (through CV, and UMass)"
   ]
  },
  {
   "cell_type": "markdown",
   "id": "81cb455f",
   "metadata": {},
   "source": [
    "High values of c_v and low values of UMass indicate higher accuracy."
   ]
  },
  {
   "cell_type": "code",
   "execution_count": 10,
   "id": "d4ffdde3",
   "metadata": {},
   "outputs": [
    {
     "name": "stdout",
     "output_type": "stream",
     "text": [
      "\n",
      "Coherence Score:  0.8787744108297844\n"
     ]
    }
   ],
   "source": [
    "# coherence score (c_v)\n",
    "coherence_model_cv = CoherenceModel(model=lda_model, texts=tweets, dictionary=dictionary, coherence='c_v')\n",
    "coherence_score = coherence_model_cv.get_coherence()\n",
    "print('\\nCoherence Score: ', coherence_score)"
   ]
  },
  {
   "cell_type": "code",
   "execution_count": 11,
   "id": "b780317c",
   "metadata": {},
   "outputs": [
    {
     "name": "stdout",
     "output_type": "stream",
     "text": [
      "\n",
      "Coherence Score:  -1.972618276920683\n"
     ]
    }
   ],
   "source": [
    "coherence_model_cv = CoherenceModel(model=lda_model, texts=tweets, dictionary=dictionary, coherence='u_mass')\n",
    "coherence_score = coherence_model_cv.get_coherence()\n",
    "print('\\nCoherence Score: ', coherence_score)"
   ]
  },
  {
   "cell_type": "markdown",
   "id": "e3be09bc",
   "metadata": {},
   "source": [
    "### To determine the ideal number of topics, we run a simulation with different number of topics and keep track of the coherence scores."
   ]
  },
  {
   "cell_type": "code",
   "execution_count": 12,
   "id": "ea5f752e",
   "metadata": {},
   "outputs": [],
   "source": [
    "def simulate_coherence_values(dictionary, corpus, texts, limit=11):\n",
    "    \"\"\"\n",
    "    Simulate c_v for multiple LDA models with different number of topics.\n",
    "\n",
    "    Input:\n",
    "    ----------\n",
    "    dictionary (dict) : gensim dictionary\n",
    "    corpus (list): gensim corpus\n",
    "    texts (list): list of input texts\n",
    "    limit (int): maximum number of topics\n",
    "\n",
    "    Output:\n",
    "    -------\n",
    "     coherence_scores : coherence scores corresponding to the LDA model with respective number of topics\n",
    "    \"\"\"\n",
    "    coherence_scores = []\n",
    "    models = []\n",
    "    for num_topics in range(2,limit):\n",
    "        model = LdaModel(corpus=corpus, id2word=dictionary, num_topics=num_topics, random_state=np.random.RandomState(1000))\n",
    "        coherencemodel = CoherenceModel(model=model, texts=texts, dictionary=dictionary, coherence='c_v')\n",
    "        coherence_scores.append(coherencemodel.get_coherence())\n",
    "        models.append(model)\n",
    "\n",
    "    return coherence_scores, models"
   ]
  },
  {
   "cell_type": "code",
   "execution_count": 13,
   "id": "a95b6218",
   "metadata": {},
   "outputs": [],
   "source": [
    "coherence_values, models = simulate_coherence_values(dictionary=dictionary, corpus=corpus, texts=tweets)"
   ]
  },
  {
   "cell_type": "code",
   "execution_count": 14,
   "id": "b99137bb",
   "metadata": {},
   "outputs": [
    {
     "data": {
      "text/plain": [
       "[0.9022027314395564,\n",
       " 0.7439260843026899,\n",
       " 0.623230656684578,\n",
       " 0.5980943996996706,\n",
       " 0.5630455842435845,\n",
       " 0.5602117520442838,\n",
       " 0.5955873575833338,\n",
       " 0.5803712763712569,\n",
       " 0.5477768967133896]"
      ]
     },
     "execution_count": 14,
     "metadata": {},
     "output_type": "execute_result"
    }
   ],
   "source": [
    "coherence_values"
   ]
  },
  {
   "cell_type": "code",
   "execution_count": 15,
   "id": "c660a275",
   "metadata": {},
   "outputs": [],
   "source": [
    "# pick the best model, with the highest coherence score\n",
    "best_model = models[(coherence_values.index(max(coherence_values)))]"
   ]
  },
  {
   "cell_type": "markdown",
   "id": "0c0722bb",
   "metadata": {},
   "source": [
    "### We plot the results of the simulation and find out that the ideal number of topics is 2."
   ]
  },
  {
   "cell_type": "code",
   "execution_count": 16,
   "id": "815f26a1",
   "metadata": {},
   "outputs": [
    {
     "data": {
      "image/png": "[encoded data removed]",
      "text/plain": [
       "<Figure size 432x288 with 1 Axes>"
      ]
     },
     "metadata": {
      "needs_background": "light"
     },
     "output_type": "display_data"
    }
   ],
   "source": [
    "limit=11; start=2; \n",
    "x = range(start, limit)\n",
    "plt.plot(x, coherence_values)\n",
    "plt.title('Optimal Number of Topics (ADHD Data)')\n",
    "plt.xlabel(\"Num Topics\")\n",
    "plt.ylabel(\"Coherence score\")\n",
    "plt.legend((\"coherence_values\"), loc='best')\n",
    "plt.show()"
   ]
  },
  {
   "cell_type": "markdown",
   "id": "eaac1386",
   "metadata": {},
   "source": [
    "### Once we have the weights and frequency of topic words, we are able to visualize the topics."
   ]
  },
  {
   "cell_type": "code",
   "execution_count": 17,
   "id": "208cdea3",
   "metadata": {},
   "outputs": [
    {
     "data": {
      "text/html": [
       "\n",
       "<link rel=\"stylesheet\" type=\"text/css\" href=\"https://cdn.jsdelivr.net/gh/bmabey/pyLDAvis@3.2.2/pyLDAvis/js/ldavis.v1.0.0.css\">\n",
       "\n",
       "\n",
       "<div id=\"ldavis_el267762242219675464381990643\"></div>\n",
       "<script type=\"text/javascript\">\n",
       "\n",
       "var ldavis_el267762242219675464381990643_data = {\"mdsDat\": {\"x\": [0.24413367968906585, -0.24413367968906585], \"y\": [0.0, 0.0], \"topics\": [1, 2], \"cluster\": [1, 1], \"Freq\": [53.53825274104212, 46.46174725895788]}, \"tinfo\": {\"Term\": [\"meet_brain\", \"learn_below\", \"teamadhd_lifeinadhd\", \"have_heard\", \"what\", \"change_knew\", \"learn\", \"adhdawareness\", \"teamadhd\", \"have\", \"meet\", \"below\", \"vortex\", \"frontal_vortex\", \"frontal\", \"lifeinadhd\", \"have_heard_frontal_vortex\", \"teamadhd_lifeinadhd_learn_below\", \"heard\", \"would\", \"find_started\", \"exercise_nutrition\", \"asking_question\", \"important_sleep\", \"brain\", \"important\", \"question\", \"started\", \"sleep\", \"find\", \"find_started\", \"change_knew\", \"exercise_nutrition\", \"important_sleep_exercise_nutrition\", \"find_started_asking_question\", \"asking_question\", \"autism_send\", \"nutrition\", \"knew\", \"behaviour_forgetting\", \"common_mistake\", \"learning_behaviour\", \"asking\", \"mattered\", \"would\", \"important_sleep\", \"best_treatment\", \"lack_internet\", \"visit_recent\", \"barrier\", \"question\", \"newly_diagnosed\", \"sleep\", \"common_mistake_behaviour_forgetting\", \"pupil\", \"pupil_barrier\", \"pupil_barrier_learning_behaviour\", \"addictiveness\", \"commentary\", \"commentary_faculty\", \"what\", \"important\", \"habit\", \"exercise\", \"change\", \"parent\", \"find\", \"constantly_myself\", \"extra_energy\", \"started\", \"accept_everyone\", \"else_nurodiverse\", \"researcher_estimated\", \"word_hate\", \"meet_brain\", \"learn_below\", \"teamadhd\", \"teamadhd_lifeinadhd\", \"vortex\", \"below\", \"learn\", \"have_heard_frontal_vortex\", \"teamadhd_lifeinadhd_learn_below\", \"frontal_vortex\", \"lifeinadhd\", \"frontal\", \"treatment_option\", \"childhood_neurodevelopmental\", \"childhood_persist\", \"disorder_prevent\", \"growth_sign\", \"often_begin\", \"have\", \"meet\", \"have_heard\", \"adulthood_learn\", \"disorder_prevent_growth_sign\", \"hcpspace\", \"often_begin_childhood_persist\", \"treatment_option_childhood_neurodevelopmental\", \"video_game\", \"persist\", \"begin\", \"heard\", \"adhdawareness\", \"childhood\", \"brain\", \"think_might\", \"adhdawarenessmonth\", \"awareness_month\", \"think\", \"adulthood\", \"talk\", \"people\", \"know\", \"time\", \"like\", \"autism\", \"child\", \"feel_like\", \"help\", \"anxiety\", \"disorder\", \"mentalhealth\"], \"Freq\": [4786.0, 3189.0, 3190.0, 3205.0, 3248.0, 2628.0, 1814.0, 1851.0, 1667.0, 1675.0, 1645.0, 1601.0, 1597.0, 1600.0, 1603.0, 1598.0, 1594.0, 1594.0, 1677.0, 1938.0, 1753.0, 1753.0, 1752.0, 1749.0, 1858.0, 1237.0, 1126.0, 1228.0, 1080.0, 1159.0, 1751.6987777324628, 2625.8244469731567, 1751.1335775241757, 876.183664891972, 875.858015344315, 1749.4114338898269, 498.7454707944739, 877.881588030163, 900.8547286359111, 332.82016240689285, 332.82016240689285, 332.82016240689285, 921.147605911695, 874.3818922291588, 1934.3657783037618, 1746.0072929229798, 476.9669729829513, 476.9669729829513, 476.9669729829513, 169.32244034098514, 1124.056969093846, 317.6681891242495, 1077.0790772292144, 166.89481254585954, 166.89481254585954, 166.89481254585954, 166.89481254585954, 238.96822820225182, 238.96822820225182, 238.96822820225182, 3238.2113244837333, 1232.7565651246946, 966.4892871351954, 886.0388354741845, 944.5371399787874, 991.8663119846129, 1147.3268107775282, 432.99225674808736, 432.99225674808736, 1210.7417930552758, 392.29116452560334, 392.29116452560334, 535.4527525049521, 535.4527525049521, 4776.247565572685, 3183.0601486191645, 1663.5061388367628, 3182.6083816614964, 1592.4998328267443, 1596.4281034471835, 1808.2551226109117, 1589.1146039412713, 1589.0502509042803, 1594.295383335361, 1592.192320327834, 1596.6807646997993, 247.30125289288605, 244.1106127627219, 244.1106127627219, 244.1106127627219, 244.1106127627219, 244.1106127627219, 1664.741515593854, 1634.4431843927273, 3183.5263122294036, 122.11726597486206, 122.11726597486206, 122.11726597486206, 122.11726597486206, 122.11726597486206, 121.94678261470149, 122.20261113088272, 122.91402171766352, 1656.9678990717825, 1827.8240605506778, 267.3805521662832, 1743.5893903260778, 167.54278988556595, 553.3209449020212, 197.92960651255518, 186.162322575742, 130.4201484349715, 178.97443386350915, 318.1351409925549, 259.3992819266952, 242.26080486972924, 364.64053981677074, 343.68754369048963, 313.4062005393965, 275.99491520266747, 281.90560488209127, 258.9217269651096, 253.78685489690477, 247.79539999655938], \"Total\": [4786.0, 3189.0, 3190.0, 3205.0, 3248.0, 2628.0, 1814.0, 1851.0, 1667.0, 1675.0, 1645.0, 1601.0, 1597.0, 1600.0, 1603.0, 1598.0, 1594.0, 1594.0, 1677.0, 1938.0, 1753.0, 1753.0, 1752.0, 1749.0, 1858.0, 1237.0, 1126.0, 1228.0, 1080.0, 1159.0, 1753.6355856935602, 2628.9762445410265, 1753.258116007095, 877.3569485631634, 877.1379311829276, 1752.0885608879485, 499.5656568081495, 879.3770193676895, 902.6072666143115, 333.47184445954406, 333.47184445954406, 333.47184445954406, 922.9679299101183, 876.1327720618519, 1938.4481448446777, 1749.7781954775135, 478.0766901608315, 478.0766901608315, 478.0766901608315, 169.73263844057487, 1126.8126298317407, 318.5510951249363, 1080.0892235455428, 167.37799056719018, 167.37799056719018, 167.37799056719018, 167.37799056719018, 239.68042378619697, 239.68042378619697, 239.68042378619697, 3248.090374962052, 1237.7870890178547, 969.709887486676, 888.6890491675375, 950.2047264332163, 999.8180882069852, 1159.948192999175, 434.7444639127816, 434.7444639127816, 1228.684792174262, 393.78203462680807, 393.78203462680807, 553.3037637624425, 553.3037637624425, 4786.6018425847, 3189.9737394245844, 1667.631452593774, 3190.7184899907916, 1597.637244949606, 1601.7268797007246, 1814.3146395962144, 1594.6784930825852, 1594.6943484063456, 1600.0405328480847, 1598.1433796991478, 1603.372284608699, 248.3968839759009, 245.3513995518265, 245.3513995518265, 245.3513995518265, 245.3513995518265, 245.3513995518265, 1675.6053419213627, 1645.776860221514, 3205.96293929542, 123.26945129430376, 123.26945129430376, 123.26945129430376, 123.26945129430376, 123.26945129430376, 123.24719883192057, 123.50804847093242, 124.24941593174866, 1677.8469802673653, 1851.191294860873, 271.630323865586, 1858.132212160104, 170.5515482308302, 610.1755787282559, 207.31970481677942, 197.2995295885468, 132.69227816283663, 190.99275603536992, 381.1668619131845, 299.1272203270961, 290.8369384298884, 620.9072205634794, 588.4155220047516, 511.76565642404, 438.65311090988365, 575.9947677355749, 482.04836131945575, 544.015067442906, 445.99694571147495], \"Category\": [\"Default\", \"Default\", \"Default\", \"Default\", \"Default\", \"Default\", \"Default\", \"Default\", \"Default\", \"Default\", \"Default\", \"Default\", \"Default\", \"Default\", \"Default\", \"Default\", \"Default\", \"Default\", \"Default\", \"Default\", \"Default\", \"Default\", \"Default\", \"Default\", \"Default\", \"Default\", \"Default\", \"Default\", \"Default\", \"Default\", \"Topic1\", \"Topic1\", \"Topic1\", \"Topic1\", \"Topic1\", \"Topic1\", \"Topic1\", \"Topic1\", \"Topic1\", \"Topic1\", \"Topic1\", \"Topic1\", \"Topic1\", \"Topic1\", \"Topic1\", \"Topic1\", \"Topic1\", \"Topic1\", \"Topic1\", \"Topic1\", \"Topic1\", \"Topic1\", \"Topic1\", \"Topic1\", \"Topic1\", \"Topic1\", \"Topic1\", \"Topic1\", \"Topic1\", \"Topic1\", \"Topic1\", \"Topic1\", \"Topic1\", \"Topic1\", \"Topic1\", \"Topic1\", \"Topic1\", \"Topic1\", \"Topic1\", \"Topic1\", \"Topic1\", \"Topic1\", \"Topic1\", \"Topic1\", \"Topic2\", \"Topic2\", \"Topic2\", \"Topic2\", \"Topic2\", \"Topic2\", \"Topic2\", \"Topic2\", \"Topic2\", \"Topic2\", \"Topic2\", \"Topic2\", \"Topic2\", \"Topic2\", \"Topic2\", \"Topic2\", \"Topic2\", \"Topic2\", \"Topic2\", \"Topic2\", \"Topic2\", \"Topic2\", \"Topic2\", \"Topic2\", \"Topic2\", \"Topic2\", \"Topic2\", \"Topic2\", \"Topic2\", \"Topic2\", \"Topic2\", \"Topic2\", \"Topic2\", \"Topic2\", \"Topic2\", \"Topic2\", \"Topic2\", \"Topic2\", \"Topic2\", \"Topic2\", \"Topic2\", \"Topic2\", \"Topic2\", \"Topic2\", \"Topic2\", \"Topic2\", \"Topic2\", \"Topic2\", \"Topic2\", \"Topic2\"], \"logprob\": [30.0, 29.0, 28.0, 27.0, 26.0, 25.0, 24.0, 23.0, 22.0, 21.0, 20.0, 19.0, 18.0, 17.0, 16.0, 15.0, 14.0, 13.0, 12.0, 11.0, 10.0, 9.0, 8.0, 7.0, 6.0, 5.0, 4.0, 3.0, 2.0, 1.0, -3.9288, -3.524, -3.9291, -4.6215, -4.6219, -3.9301, -5.185, -4.6196, -4.5938, -5.5895, -5.5895, -5.5895, -4.5715, -4.6236, -3.8296, -3.932, -5.2297, -5.2297, -5.2297, -6.2653, -4.3724, -5.6361, -4.4151, -6.2797, -6.2797, -6.2797, -6.2797, -5.9208, -5.9208, -5.9208, -3.3143, -4.2801, -4.5234, -4.6103, -4.5464, -4.4975, -4.3519, -5.3264, -5.3264, -4.2981, -5.4251, -5.4251, -5.114, -5.114, -2.7839, -3.1897, -3.8387, -3.1899, -3.8823, -3.8798, -3.7552, -3.8844, -3.8844, -3.8812, -3.8825, -3.8797, -5.7447, -5.7577, -5.7577, -5.7577, -5.7577, -5.7577, -3.8379, -3.8563, -3.1896, -6.4504, -6.4504, -6.4504, -6.4504, -6.4504, -6.4518, -6.4497, -6.4439, -3.8426, -3.7445, -5.6667, -3.7916, -6.1341, -4.9394, -5.9674, -6.0287, -6.3846, -6.0681, -5.4929, -5.697, -5.7653, -5.3564, -5.4156, -5.5078, -5.635, -5.6138, -5.6988, -5.7188, -5.7427], \"loglift\": [30.0, 29.0, 28.0, 27.0, 26.0, 25.0, 24.0, 23.0, 22.0, 21.0, 20.0, 19.0, 18.0, 17.0, 16.0, 15.0, 14.0, 13.0, 12.0, 11.0, 10.0, 9.0, 8.0, 7.0, 6.0, 5.0, 4.0, 3.0, 2.0, 1.0, 0.6237, 0.6236, 0.6236, 0.6234, 0.6233, 0.6232, 0.6231, 0.6231, 0.6228, 0.6228, 0.6228, 0.6228, 0.6228, 0.6228, 0.6227, 0.6226, 0.6224, 0.6224, 0.6224, 0.6224, 0.6223, 0.622, 0.622, 0.6219, 0.6219, 0.6219, 0.6219, 0.6218, 0.6218, 0.6218, 0.6217, 0.6207, 0.6214, 0.6218, 0.6188, 0.6168, 0.6138, 0.6207, 0.6207, 0.6101, 0.621, 0.621, 0.592, 0.592, 0.7644, 0.7644, 0.7641, 0.764, 0.7633, 0.7632, 0.7632, 0.763, 0.763, 0.7629, 0.7628, 0.7624, 0.7621, 0.7615, 0.7615, 0.7615, 0.7615, 0.7615, 0.76, 0.7596, 0.7595, 0.7572, 0.7572, 0.7572, 0.7572, 0.7572, 0.7559, 0.7559, 0.7557, 0.754, 0.7538, 0.7508, 0.7029, 0.7487, 0.6687, 0.7202, 0.7084, 0.7493, 0.7015, 0.5858, 0.624, 0.5838, 0.2343, 0.2288, 0.2762, 0.3032, 0.052, 0.145, 0.0041, 0.1788]}, \"token.table\": {\"Topic\": [1, 2, 1, 2, 1, 2, 1, 2, 1, 2, 1, 2, 1, 2, 1, 2, 1, 2, 1, 2, 1, 2, 1, 2, 1, 1, 2, 1, 2, 1, 2, 1, 2, 1, 2, 1, 2, 1, 2, 1, 2, 1, 2, 1, 2, 1, 2, 1, 2, 1, 2, 1, 2, 1, 1, 2, 1, 2, 1, 2, 1, 2, 1, 2, 1, 2, 1, 2, 1, 2, 1, 2, 1, 2, 1, 2, 1, 2, 1, 2, 1, 2, 1, 2, 1, 2, 1, 2, 1, 2, 1, 2, 1, 2, 1, 2, 1, 2, 1, 2, 1, 2, 1, 2, 1, 2, 1, 2, 1, 2, 1, 2, 1, 2, 1, 2, 1, 2, 1, 2, 1, 2, 1, 2, 1, 2, 1, 2, 1, 2, 1, 2, 1, 2, 1, 2, 1, 2, 1, 2, 1, 2, 1, 1, 1, 1, 2, 1, 2, 1, 2, 1, 2, 1, 2, 1, 2, 1, 2, 1, 2, 1, 2, 1, 2, 1, 2, 1, 2, 1, 2, 1, 2, 1, 2, 1, 2, 1, 2, 1, 2, 1, 2], \"Freq\": [0.9954745659524642, 0.0025394759335522045, 0.9971611207313121, 0.004172222262474109, 0.012424431804455181, 0.9874722321106117, 0.09341573472802846, 0.9062965141157849, 0.015072467122356964, 0.9797103629532027, 0.008112309980292819, 0.989701817595724, 0.46260918591157046, 0.5372904894668016, 0.9978678241720599, 0.0021669225280609335, 0.9982372118870617, 0.00171224221592978, 0.4163724287307662, 0.5846208795240145, 0.9988677027725171, 0.0020017388833116576, 0.04341121365165857, 0.9550467003364885, 0.9956835736054891, 0.008048327571610552, 0.9899442913080978, 0.9985850545784194, 0.0029987539176529114, 0.0031216308244350795, 0.9964245591596773, 0.9977478714545374, 0.0020917146152086737, 0.06189010623001413, 0.9385769153490839, 0.9945225210016022, 0.006314428704772078, 0.998867907404182, 0.0011411286070877936, 0.3868958331114362, 0.611608059413533, 0.014725896369285216, 0.9829535826497882, 0.004075786817709863, 0.9944919835212066, 0.004075786817709863, 0.9944919835212066, 0.9971611207313121, 0.004172222262474109, 0.9971611207313121, 0.004172222262474109, 0.9985850545784194, 0.0029987539176529114, 0.9977416949151481, 0.9959873809614938, 0.004600403607212442, 0.5330734704888211, 0.4668988327729675, 0.004075786817709863, 0.9944919835212066, 0.008112309980292819, 0.989701817595724, 0.9954745659524642, 0.0025394759335522045, 0.9969741394134918, 0.0033757589370659994, 0.9987120458839012, 0.0011407333476686479, 0.9959873809614938, 0.004600403607212442, 0.371592030116678, 0.6291987749214917, 0.9888372661147081, 0.01120739708761221, 0.9990673172311832, 0.0011404878050584285, 0.9987026770334821, 0.0011400715491249795, 0.004365798303485296, 0.9960256986665739, 0.0037499050035438497, 0.9962247626081494, 0.004075786817709863, 0.9944919835212066, 0.9961742294942547, 0.0030937087872492386, 0.006564791675459004, 0.9936707399672038, 0.006862212825465468, 0.9931493471037296, 0.003762513902348887, 0.9964390984720636, 0.008112309980292819, 0.989701817595724, 0.012516040048332443, 0.9875751600041361, 0.5104213032278241, 0.4895877806470966, 0.9961325424539264, 0.004039466919926709, 0.9978407574815604, 0.0022860040263036896, 0.9984533677366029, 0.001139786949471008, 0.9982193068084414, 0.002215803122771235, 0.1337223672130538, 0.8658523277045235, 0.9977478714545374, 0.0020917146152086737, 0.0033070338898523867, 0.9965195454755192, 0.002194375431210502, 0.9978138567918611, 0.9985850545784194, 0.0029987539176529114, 0.0037543565090696097, 0.9961559270731364, 0.4122999242425905, 0.587849501361506, 0.9975656976546685, 0.0022827590335347107, 0.006683773642630661, 0.9928441938235, 0.00208916478304787, 0.9977851003836629, 0.4439492285852793, 0.556057619642168, 0.9982699945679981, 0.0031392138193962202, 0.998434096710101, 0.0011371686750684521, 0.004075786817709863, 0.9944919835212066, 0.008112309980292819, 0.989701817595724, 0.9921804893318087, 0.008001455559127488, 0.16528194419573922, 0.8342802897499217, 0.008096638335560371, 0.9877898769383654, 0.9977416949151481, 0.9977416949151481, 0.9977416949151481, 0.9975039063662602, 0.002662376974287171, 0.9669191410555792, 0.03253185895140266, 0.9971398441182461, 0.002777548312307092, 0.9856067298245247, 0.014649811013081292, 0.06282960803904898, 0.9372083199158141, 0.0023986115120211626, 0.9978223890008037, 0.0025072722727171987, 0.9975809555073554, 0.0037624764933769828, 0.9964291913293376, 0.055752793850748994, 0.9427290596581193, 0.01758998983661936, 0.9850394308506842, 0.16847928693147193, 0.8320813762738001, 0.0040258153966899945, 0.9943764029824287, 0.008112309980292819, 0.989701817595724, 0.008113774669749359, 0.9898805097094219, 0.9977478714545374, 0.0020917146152086737, 0.003129621580747333, 0.9964715113099508, 0.9968934439017357, 0.003078732068875033, 0.9669191410555792, 0.03253185895140266, 0.9977053062489665, 0.002063506321094036], \"Term\": [\"accept_everyone\", \"accept_everyone\", \"addictiveness\", \"addictiveness\", \"adhdawareness\", \"adhdawareness\", \"adhdawarenessmonth\", \"adhdawarenessmonth\", \"adulthood\", \"adulthood\", \"adulthood_learn\", \"adulthood_learn\", \"anxiety\", \"anxiety\", \"asking\", \"asking\", \"asking_question\", \"asking_question\", \"autism\", \"autism\", \"autism_send\", \"autism_send\", \"awareness_month\", \"awareness_month\", \"barrier\", \"begin\", \"begin\", \"behaviour_forgetting\", \"behaviour_forgetting\", \"below\", \"below\", \"best_treatment\", \"best_treatment\", \"brain\", \"brain\", \"change\", \"change\", \"change_knew\", \"change_knew\", \"child\", \"child\", \"childhood\", \"childhood\", \"childhood_neurodevelopmental\", \"childhood_neurodevelopmental\", \"childhood_persist\", \"childhood_persist\", \"commentary\", \"commentary\", \"commentary_faculty\", \"commentary_faculty\", \"common_mistake\", \"common_mistake\", \"common_mistake_behaviour_forgetting\", \"constantly_myself\", \"constantly_myself\", \"disorder\", \"disorder\", \"disorder_prevent\", \"disorder_prevent\", \"disorder_prevent_growth_sign\", \"disorder_prevent_growth_sign\", \"else_nurodiverse\", \"else_nurodiverse\", \"exercise\", \"exercise\", \"exercise_nutrition\", \"exercise_nutrition\", \"extra_energy\", \"extra_energy\", \"feel_like\", \"feel_like\", \"find\", \"find\", \"find_started\", \"find_started\", \"find_started_asking_question\", \"find_started_asking_question\", \"frontal\", \"frontal\", \"frontal_vortex\", \"frontal_vortex\", \"growth_sign\", \"growth_sign\", \"habit\", \"habit\", \"have\", \"have\", \"have_heard\", \"have_heard\", \"have_heard_frontal_vortex\", \"have_heard_frontal_vortex\", \"hcpspace\", \"hcpspace\", \"heard\", \"heard\", \"help\", \"help\", \"important\", \"important\", \"important_sleep\", \"important_sleep\", \"important_sleep_exercise_nutrition\", \"important_sleep_exercise_nutrition\", \"knew\", \"knew\", \"know\", \"know\", \"lack_internet\", \"lack_internet\", \"learn\", \"learn\", \"learn_below\", \"learn_below\", \"learning_behaviour\", \"learning_behaviour\", \"lifeinadhd\", \"lifeinadhd\", \"like\", \"like\", \"mattered\", \"mattered\", \"meet\", \"meet\", \"meet_brain\", \"meet_brain\", \"mentalhealth\", \"mentalhealth\", \"newly_diagnosed\", \"newly_diagnosed\", \"nutrition\", \"nutrition\", \"often_begin\", \"often_begin\", \"often_begin_childhood_persist\", \"often_begin_childhood_persist\", \"parent\", \"parent\", \"people\", \"people\", \"persist\", \"persist\", \"pupil\", \"pupil_barrier\", \"pupil_barrier_learning_behaviour\", \"question\", \"question\", \"researcher_estimated\", \"researcher_estimated\", \"sleep\", \"sleep\", \"started\", \"started\", \"talk\", \"talk\", \"teamadhd\", \"teamadhd\", \"teamadhd_lifeinadhd\", \"teamadhd_lifeinadhd\", \"teamadhd_lifeinadhd_learn_below\", \"teamadhd_lifeinadhd_learn_below\", \"think\", \"think\", \"think_might\", \"think_might\", \"time\", \"time\", \"treatment_option\", \"treatment_option\", \"treatment_option_childhood_neurodevelopmental\", \"treatment_option_childhood_neurodevelopmental\", \"video_game\", \"video_game\", \"visit_recent\", \"visit_recent\", \"vortex\", \"vortex\", \"what\", \"what\", \"word_hate\", \"word_hate\", \"would\", \"would\"]}, \"R\": 30, \"lambda.step\": 0.01, \"plot.opts\": {\"xlab\": \"PC1\", \"ylab\": \"PC2\"}, \"topic.order\": [2, 1]};\n",
       "\n",
       "function LDAvis_load_lib(url, callback){\n",
       "  var s = document.createElement('script');\n",
       "  s.src = url;\n",
       "  s.async = true;\n",
       "  s.onreadystatechange = s.onload = callback;\n",
       "  s.onerror = function(){console.warn(\"failed to load library \" + url);};\n",
       "  document.getElementsByTagName(\"head\")[0].appendChild(s);\n",
       "}\n",
       "\n",
       "if(typeof(LDAvis) !== \"undefined\"){\n",
       "   // already loaded: just create the visualization\n",
       "   !function(LDAvis){\n",
       "       new LDAvis(\"#\" + \"ldavis_el267762242219675464381990643\", ldavis_el267762242219675464381990643_data);\n",
       "   }(LDAvis);\n",
       "}else if(typeof define === \"function\" && define.amd){\n",
       "   // require.js is available: use it to load d3/LDAvis\n",
       "   require.config({paths: {d3: \"https://d3js.org/d3.v5\"}});\n",
       "   require([\"d3\"], function(d3){\n",
       "      window.d3 = d3;\n",
       "      LDAvis_load_lib(\"https://cdn.jsdelivr.net/gh/bmabey/pyLDAvis@3.2.2/pyLDAvis/js/ldavis.v3.0.0.js\", function(){\n",
       "        new LDAvis(\"#\" + \"ldavis_el267762242219675464381990643\", ldavis_el267762242219675464381990643_data);\n",
       "      });\n",
       "    });\n",
       "}else{\n",
       "    // require.js not available: dynamically load d3 & LDAvis\n",
       "    LDAvis_load_lib(\"https://d3js.org/d3.v5.js\", function(){\n",
       "         LDAvis_load_lib(\"https://cdn.jsdelivr.net/gh/bmabey/pyLDAvis@3.2.2/pyLDAvis/js/ldavis.v3.0.0.js\", function(){\n",
       "                 new LDAvis(\"#\" + \"ldavis_el267762242219675464381990643\", ldavis_el267762242219675464381990643_data);\n",
       "            })\n",
       "         });\n",
       "}\n",
       "</script>"
      ],
      "text/plain": [
       "PreparedData(topic_coordinates=              x    y  topics  cluster       Freq\n",
       "topic                                           \n",
       "1      0.244134  0.0       1        1  53.538253\n",
       "0     -0.244134  0.0       2        1  46.461747, topic_info=                                               Term         Freq        Total  \\\n",
       "term                                                                            \n",
       "481                                      meet_brain  4786.000000  4786.000000   \n",
       "479                                     learn_below  3189.000000  3189.000000   \n",
       "482                             teamadhd_lifeinadhd  3190.000000  3190.000000   \n",
       "475                                      have_heard  3205.000000  3205.000000   \n",
       "132                                            what  3248.000000  3248.000000   \n",
       "1050                                    change_knew  2628.000000  2628.000000   \n",
       "478                                           learn  1814.000000  1814.000000   \n",
       "12                                    adhdawareness  1851.000000  1851.000000   \n",
       "148                                        teamadhd  1667.000000  1667.000000   \n",
       "32                                             have  1675.000000  1675.000000   \n",
       "480                                            meet  1645.000000  1645.000000   \n",
       "474                                           below  1601.000000  1601.000000   \n",
       "410                                          vortex  1597.000000  1597.000000   \n",
       "407                                  frontal_vortex  1600.000000  1600.000000   \n",
       "230                                         frontal  1603.000000  1603.000000   \n",
       "408                                      lifeinadhd  1598.000000  1598.000000   \n",
       "476                       have_heard_frontal_vortex  1594.000000  1594.000000   \n",
       "483                 teamadhd_lifeinadhd_learn_below  1594.000000  1594.000000   \n",
       "477                                           heard  1677.000000  1677.000000   \n",
       "64                                            would  1938.000000  1938.000000   \n",
       "1052                                   find_started  1753.000000  1753.000000   \n",
       "1051                             exercise_nutrition  1753.000000  1753.000000   \n",
       "1049                                asking_question  1752.000000  1752.000000   \n",
       "1054                                important_sleep  1749.000000  1749.000000   \n",
       "183                                           brain  1858.000000  1858.000000   \n",
       "169                                       important  1237.000000  1237.000000   \n",
       "210                                        question  1126.000000  1126.000000   \n",
       "179                                         started  1228.000000  1228.000000   \n",
       "424                                           sleep  1080.000000  1080.000000   \n",
       "435                                            find  1159.000000  1159.000000   \n",
       "...                                             ...          ...          ...   \n",
       "475                                      have_heard  3183.526312  3205.962939   \n",
       "1140                                adulthood_learn   122.117266   123.269451   \n",
       "1144                   disorder_prevent_growth_sign   122.117266   123.269451   \n",
       "1146                                       hcpspace   122.117266   123.269451   \n",
       "1148                  often_begin_childhood_persist   122.117266   123.269451   \n",
       "1149  treatment_option_childhood_neurodevelopmental   122.117266   123.269451   \n",
       "989                                      video_game   121.946783   123.247199   \n",
       "1021                                        persist   122.202611   123.508048   \n",
       "1063                                          begin   122.914022   124.249416   \n",
       "477                                           heard  1656.967899  1677.846980   \n",
       "12                                    adhdawareness  1827.824061  1851.191295   \n",
       "81                                        childhood   267.380552   271.630324   \n",
       "183                                           brain  1743.589390  1858.132212   \n",
       "202                                     think_might   167.542790   170.551548   \n",
       "13                               adhdawarenessmonth   553.320945   610.175579   \n",
       "66                                  awareness_month   197.929607   207.319705   \n",
       "62                                            think   186.162323   197.299530   \n",
       "960                                       adulthood   130.420148   132.692278   \n",
       "623                                            talk   178.974434   190.992756   \n",
       "53                                           people   318.135141   381.166862   \n",
       "114                                            know   259.399282   299.127220   \n",
       "63                                             time   242.260805   290.836938   \n",
       "59                                             like   364.640540   620.907221   \n",
       "90                                           autism   343.687544   588.415522   \n",
       "31                                            child   313.406201   511.765656   \n",
       "157                                       feel_like   275.994915   438.653111   \n",
       "125                                            help   281.905605   575.994768   \n",
       "226                                         anxiety   258.921727   482.048361   \n",
       "269                                        disorder   253.786855   544.015067   \n",
       "219                                    mentalhealth   247.795400   445.996946   \n",
       "\n",
       "     Category  logprob  loglift  \n",
       "term                             \n",
       "481   Default  30.0000  30.0000  \n",
       "479   Default  29.0000  29.0000  \n",
       "482   Default  28.0000  28.0000  \n",
       "475   Default  27.0000  27.0000  \n",
       "132   Default  26.0000  26.0000  \n",
       "1050  Default  25.0000  25.0000  \n",
       "478   Default  24.0000  24.0000  \n",
       "12    Default  23.0000  23.0000  \n",
       "148   Default  22.0000  22.0000  \n",
       "32    Default  21.0000  21.0000  \n",
       "480   Default  20.0000  20.0000  \n",
       "474   Default  19.0000  19.0000  \n",
       "410   Default  18.0000  18.0000  \n",
       "407   Default  17.0000  17.0000  \n",
       "230   Default  16.0000  16.0000  \n",
       "408   Default  15.0000  15.0000  \n",
       "476   Default  14.0000  14.0000  \n",
       "483   Default  13.0000  13.0000  \n",
       "477   Default  12.0000  12.0000  \n",
       "64    Default  11.0000  11.0000  \n",
       "1052  Default  10.0000  10.0000  \n",
       "1051  Default   9.0000   9.0000  \n",
       "1049  Default   8.0000   8.0000  \n",
       "1054  Default   7.0000   7.0000  \n",
       "183   Default   6.0000   6.0000  \n",
       "169   Default   5.0000   5.0000  \n",
       "210   Default   4.0000   4.0000  \n",
       "179   Default   3.0000   3.0000  \n",
       "424   Default   2.0000   2.0000  \n",
       "435   Default   1.0000   1.0000  \n",
       "...       ...      ...      ...  \n",
       "475    Topic2  -3.1896   0.7595  \n",
       "1140   Topic2  -6.4504   0.7572  \n",
       "1144   Topic2  -6.4504   0.7572  \n",
       "1146   Topic2  -6.4504   0.7572  \n",
       "1148   Topic2  -6.4504   0.7572  \n",
       "1149   Topic2  -6.4504   0.7572  \n",
       "989    Topic2  -6.4518   0.7559  \n",
       "1021   Topic2  -6.4497   0.7559  \n",
       "1063   Topic2  -6.4439   0.7557  \n",
       "477    Topic2  -3.8426   0.7540  \n",
       "12     Topic2  -3.7445   0.7538  \n",
       "81     Topic2  -5.6667   0.7508  \n",
       "183    Topic2  -3.7916   0.7029  \n",
       "202    Topic2  -6.1341   0.7487  \n",
       "13     Topic2  -4.9394   0.6687  \n",
       "66     Topic2  -5.9674   0.7202  \n",
       "62     Topic2  -6.0287   0.7084  \n",
       "960    Topic2  -6.3846   0.7493  \n",
       "623    Topic2  -6.0681   0.7015  \n",
       "53     Topic2  -5.4929   0.5858  \n",
       "114    Topic2  -5.6970   0.6240  \n",
       "63     Topic2  -5.7653   0.5838  \n",
       "59     Topic2  -5.3564   0.2343  \n",
       "90     Topic2  -5.4156   0.2288  \n",
       "31     Topic2  -5.5078   0.2762  \n",
       "157    Topic2  -5.6350   0.3032  \n",
       "125    Topic2  -5.6138   0.0520  \n",
       "226    Topic2  -5.6988   0.1450  \n",
       "269    Topic2  -5.7188   0.0041  \n",
       "219    Topic2  -5.7427   0.1788  \n",
       "\n",
       "[124 rows x 6 columns], token_table=      Topic      Freq                                           Term\n",
       "term                                                                \n",
       "1300      1  0.995475                                accept_everyone\n",
       "1300      2  0.002539                                accept_everyone\n",
       "1209      1  0.997161                                  addictiveness\n",
       "1209      2  0.004172                                  addictiveness\n",
       "12        1  0.012424                                  adhdawareness\n",
       "12        2  0.987472                                  adhdawareness\n",
       "13        1  0.093416                             adhdawarenessmonth\n",
       "13        2  0.906297                             adhdawarenessmonth\n",
       "960       1  0.015072                                      adulthood\n",
       "960       2  0.979710                                      adulthood\n",
       "1140      1  0.008112                                adulthood_learn\n",
       "1140      2  0.989702                                adulthood_learn\n",
       "226       1  0.462609                                        anxiety\n",
       "226       2  0.537290                                        anxiety\n",
       "513       1  0.997868                                         asking\n",
       "513       2  0.002167                                         asking\n",
       "1049      1  0.998237                                asking_question\n",
       "1049      2  0.001712                                asking_question\n",
       "90        1  0.416372                                         autism\n",
       "90        2  0.584621                                         autism\n",
       "1150      1  0.998868                                    autism_send\n",
       "1150      2  0.002002                                    autism_send\n",
       "66        1  0.043411                                awareness_month\n",
       "66        2  0.955047                                awareness_month\n",
       "533       1  0.995684                                        barrier\n",
       "1063      1  0.008048                                          begin\n",
       "1063      2  0.989944                                          begin\n",
       "1151      1  0.998585                           behaviour_forgetting\n",
       "1151      2  0.002999                           behaviour_forgetting\n",
       "474       1  0.003122                                          below\n",
       "...     ...       ...                                            ...\n",
       "623       1  0.062830                                           talk\n",
       "623       2  0.937208                                           talk\n",
       "148       1  0.002399                                       teamadhd\n",
       "148       2  0.997822                                       teamadhd\n",
       "482       1  0.002507                            teamadhd_lifeinadhd\n",
       "482       2  0.997581                            teamadhd_lifeinadhd\n",
       "483       1  0.003762                teamadhd_lifeinadhd_learn_below\n",
       "483       2  0.996429                teamadhd_lifeinadhd_learn_below\n",
       "62        1  0.055753                                          think\n",
       "62        2  0.942729                                          think\n",
       "202       1  0.017590                                    think_might\n",
       "202       2  0.985039                                    think_might\n",
       "63        1  0.168479                                           time\n",
       "63        2  0.832081                                           time\n",
       "1008      1  0.004026                               treatment_option\n",
       "1008      2  0.994376                               treatment_option\n",
       "1149      1  0.008112  treatment_option_childhood_neurodevelopmental\n",
       "1149      2  0.989702  treatment_option_childhood_neurodevelopmental\n",
       "989       1  0.008114                                     video_game\n",
       "989       2  0.989881                                     video_game\n",
       "1221      1  0.997748                                   visit_recent\n",
       "1221      2  0.002092                                   visit_recent\n",
       "410       1  0.003130                                         vortex\n",
       "410       2  0.996472                                         vortex\n",
       "132       1  0.996893                                           what\n",
       "132       2  0.003079                                           what\n",
       "1260      1  0.966919                                      word_hate\n",
       "1260      2  0.032532                                      word_hate\n",
       "64        1  0.997705                                          would\n",
       "64        2  0.002064                                          would\n",
       "\n",
       "[183 rows x 3 columns], R=30, lambda_step=0.01, plot_opts={'xlab': 'PC1', 'ylab': 'PC2'}, topic_order=[2, 1])"
      ]
     },
     "execution_count": 17,
     "metadata": {},
     "output_type": "execute_result"
    }
   ],
   "source": [
    "# visualize the topics\n",
    "pyLDAvis.enable_notebook()\n",
    "LDAvis_viz = pyLDAvis.gensim.prepare(best_model, corpus, dictionary)\n",
    "LDAvis_viz"
   ]
  },
  {
   "cell_type": "code",
   "execution_count": 18,
   "id": "e030d988",
   "metadata": {},
   "outputs": [],
   "source": [
    "pyLDAvis.save_html(LDAvis_viz, 'ADHD Visualization.html')"
   ]
  },
  {
   "cell_type": "markdown",
   "id": "71653c55",
   "metadata": {},
   "source": [
    "### We interpret the topics based on the keywords"
   ]
  },
  {
   "cell_type": "code",
   "execution_count": 19,
   "id": "2f316153",
   "metadata": {},
   "outputs": [
    {
     "name": "stdout",
     "output_type": "stream",
     "text": [
      "1: Contact Awareness\n",
      "2: Treatment/Factors\n"
     ]
    }
   ],
   "source": [
    "print('1: Contact Awareness')\n",
    "print('2: Treatment/Factors')"
   ]
  }
 ],
 "metadata": {
  "kernelspec": {
   "display_name": "Python 3",
   "language": "python",
   "name": "python3"
  },
  "language_info": {
   "codemirror_mode": {
    "name": "ipython",
    "version": 3
   },
   "file_extension": ".py",
   "mimetype": "text/x-python",
   "name": "python",
   "nbconvert_exporter": "python",
   "pygments_lexer": "ipython3",
   "version": "3.6.5"
  }
 },
 "nbformat": 4,
 "nbformat_minor": 5
}
