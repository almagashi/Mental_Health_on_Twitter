{
 "cells": [
  {
   "cell_type": "markdown",
   "id": "b9d5afe0",
   "metadata": {},
   "source": [
    "# Topic Modeling: OCD"
   ]
  },
  {
   "cell_type": "markdown",
   "id": "bd1e4b8c",
   "metadata": {},
   "source": [
    "### The first step is importing the packages that we will be using for identifying topic models."
   ]
  },
  {
   "cell_type": "code",
   "execution_count": 1,
   "id": "90618a13",
   "metadata": {},
   "outputs": [],
   "source": [
    "# Import required packages\n",
    "\n",
    "# DATA PREPROCESSING\n",
    "import nltk\n",
    "from nltk.tokenize import RegexpTokenizer\n",
    "from nltk.corpus import stopwords\n",
    "from nltk.stem import WordNetLemmatizer\n",
    "from gensim.models import Phrases\n",
    "\n",
    "# MODELING\n",
    "import sklearn\n",
    "import re\n",
    "from gensim.models.coherencemodel import CoherenceModel\n",
    "from gensim.models.ldamodel import LdaModel\n",
    "from gensim.corpora.dictionary import Dictionary\n",
    "from numpy import array\n",
    "\n",
    "# VISUALIZATION\n",
    "import matplotlib.pyplot as plt\n",
    "import seaborn as sns\n",
    "import pyLDAvis\n",
    "import pyLDAvis.gensim\n",
    "import pickle \n",
    "\n",
    "# OTHER\n",
    "import numpy as np\n",
    "import pandas as pd\n",
    "import logging\n",
    "import json\n",
    "import warnings\n",
    "import random\n",
    "\n",
    "warnings.filterwarnings('ignore')  "
   ]
  },
  {
   "cell_type": "markdown",
   "id": "a440c604",
   "metadata": {},
   "source": [
    "### In the second step, we read the dataset, and take a glance at what it looks like."
   ]
  },
  {
   "cell_type": "code",
   "execution_count": 2,
   "id": "d543a448",
   "metadata": {},
   "outputs": [],
   "source": [
    "data = pd.read_csv('ocd.csv')"
   ]
  },
  {
   "cell_type": "code",
   "execution_count": 3,
   "id": "663b8143",
   "metadata": {},
   "outputs": [
    {
     "data": {
      "text/html": [
       "<div>\n",
       "<style scoped>\n",
       "    .dataframe tbody tr th:only-of-type {\n",
       "        vertical-align: middle;\n",
       "    }\n",
       "\n",
       "    .dataframe tbody tr th {\n",
       "        vertical-align: top;\n",
       "    }\n",
       "\n",
       "    .dataframe thead th {\n",
       "        text-align: right;\n",
       "    }\n",
       "</style>\n",
       "<table border=\"1\" class=\"dataframe\">\n",
       "  <thead>\n",
       "    <tr style=\"text-align: right;\">\n",
       "      <th></th>\n",
       "      <th>user_ID</th>\n",
       "      <th>followers_count</th>\n",
       "      <th>user_location</th>\n",
       "      <th>user_description</th>\n",
       "      <th>date</th>\n",
       "      <th>text</th>\n",
       "      <th>hashtags</th>\n",
       "    </tr>\n",
       "  </thead>\n",
       "  <tbody>\n",
       "    <tr>\n",
       "      <th>0</th>\n",
       "      <td>8.293180e+17</td>\n",
       "      <td>294</td>\n",
       "      <td>Eora Nation</td>\n",
       "      <td>PhD candidate in gender and cultural studies @...</td>\n",
       "      <td>10/27/2021 11:59</td>\n",
       "      <td>New research out finds that #acupuncture reduc...</td>\n",
       "      <td>NaN</td>\n",
       "    </tr>\n",
       "    <tr>\n",
       "      <th>1</th>\n",
       "      <td>4.150866e+08</td>\n",
       "      <td>432</td>\n",
       "      <td>London</td>\n",
       "      <td>Children’s Book Illustrator 🎨 &amp; former @pathwa...</td>\n",
       "      <td>10/27/2021 11:51</td>\n",
       "      <td>New research out finds that #acupuncture reduc...</td>\n",
       "      <td>['ocd']</td>\n",
       "    </tr>\n",
       "    <tr>\n",
       "      <th>2</th>\n",
       "      <td>1.311980e+18</td>\n",
       "      <td>17</td>\n",
       "      <td>NaN</td>\n",
       "      <td>One of the greatest regrets in life is being w...</td>\n",
       "      <td>10/27/2021 11:26</td>\n",
       "      <td>New research out finds that #acupuncture reduc...</td>\n",
       "      <td>['oknottobeok']</td>\n",
       "    </tr>\n",
       "    <tr>\n",
       "      <th>3</th>\n",
       "      <td>8.996297e+07</td>\n",
       "      <td>29198</td>\n",
       "      <td>Boulder CO, USA</td>\n",
       "      <td>Peter Strong - Psychotherapist specializing in...</td>\n",
       "      <td>10/27/2021 11:25</td>\n",
       "      <td>New research out finds that #acupuncture reduc...</td>\n",
       "      <td>['OCD']</td>\n",
       "    </tr>\n",
       "    <tr>\n",
       "      <th>4</th>\n",
       "      <td>8.853120e+17</td>\n",
       "      <td>981</td>\n",
       "      <td>Hell</td>\n",
       "      <td>A free thinker and freelance writer\\r\\r\\n\\r\\r\\...</td>\n",
       "      <td>10/27/2021 11:06</td>\n",
       "      <td>New research out finds that #acupuncture reduc...</td>\n",
       "      <td>NaN</td>\n",
       "    </tr>\n",
       "  </tbody>\n",
       "</table>\n",
       "</div>"
      ],
      "text/plain": [
       "        user_ID  followers_count    user_location  \\\n",
       "0  8.293180e+17              294      Eora Nation   \n",
       "1  4.150866e+08              432           London   \n",
       "2  1.311980e+18               17              NaN   \n",
       "3  8.996297e+07            29198  Boulder CO, USA   \n",
       "4  8.853120e+17              981             Hell   \n",
       "\n",
       "                                    user_description              date  \\\n",
       "0  PhD candidate in gender and cultural studies @...  10/27/2021 11:59   \n",
       "1  Children’s Book Illustrator 🎨 & former @pathwa...  10/27/2021 11:51   \n",
       "2  One of the greatest regrets in life is being w...  10/27/2021 11:26   \n",
       "3  Peter Strong - Psychotherapist specializing in...  10/27/2021 11:25   \n",
       "4  A free thinker and freelance writer\\r\\r\\n\\r\\r\\...  10/27/2021 11:06   \n",
       "\n",
       "                                                text         hashtags  \n",
       "0  New research out finds that #acupuncture reduc...              NaN  \n",
       "1  New research out finds that #acupuncture reduc...          ['ocd']  \n",
       "2  New research out finds that #acupuncture reduc...  ['oknottobeok']  \n",
       "3  New research out finds that #acupuncture reduc...          ['OCD']  \n",
       "4  New research out finds that #acupuncture reduc...              NaN  "
      ]
     },
     "execution_count": 3,
     "metadata": {},
     "output_type": "execute_result"
    }
   ],
   "source": [
    "data.head()"
   ]
  },
  {
   "cell_type": "markdown",
   "id": "0989ddd2",
   "metadata": {},
   "source": [
    "### Then, we extract our column of interest, which is the tweet."
   ]
  },
  {
   "cell_type": "code",
   "execution_count": 4,
   "id": "623a96d0",
   "metadata": {},
   "outputs": [],
   "source": [
    "tweets = data['text']"
   ]
  },
  {
   "cell_type": "markdown",
   "id": "3a33b97d",
   "metadata": {},
   "source": [
    "### Once we have the tweets, we pre-process the data to make it ready for analysis."
   ]
  },
  {
   "cell_type": "markdown",
   "id": "d1cb8ce7",
   "metadata": {},
   "source": [
    "Initially, we convert everything to lowercase, and then we remove users, links, punctuation, double spaces, numbers, short words, emojis and stopwords.\n",
    "\n",
    "Then, we tokenize each word, splitting the sentences in separate words.\n",
    "\n",
    "Lasly, we convert each word into their lemmas (the form of a word under which it is registered in a dictionary)."
   ]
  },
  {
   "cell_type": "code",
   "execution_count": 5,
   "id": "9f6073de",
   "metadata": {},
   "outputs": [],
   "source": [
    "# list of commonly repeated words that do not add meanings\n",
    "my_stopwords = nltk.corpus.stopwords.words('english')\n",
    "repeated_words = ['ever', 'start', 'pre', '&amp', \n",
    "                  'amp', 'may', 'and', 'when',\n",
    "                  'what','who', 'why','how', \n",
    "                  'this', 'your', 'mine', 'their',\n",
    "                  'her', 'his', 'that', 'mental']\n",
    "\n",
    "for i in repeated_words:\n",
    "    my_stopwords.append(i)\n",
    "    \n",
    "tweets = tweets.apply(lambda x: ' '.join([word for word in x.split() if word not in (my_stopwords)]))\n",
    "tweets = array(tweets)\n",
    "    \n",
    "# list of common punctuation    \n",
    "my_punctuation = '!\"$%&\\'()*+,-./:;<=>?[\\\\]^_`’{|}~•@'\n",
    "\n",
    "# list of the majority of emojis\n",
    "emoj = re.compile(\"[\"  \n",
    "    u\"\\U0001F600-\\U0001F64F\" \n",
    "    u\"\\U0001F300-\\U0001F5FF\" \n",
    "    u\"\\U0001F680-\\U0001F6FF\"  \n",
    "    u\"\\U0001F1E0-\\U0001F1FF\"  \n",
    "    u\"\\U00002500-\\U00002BEF\"  \n",
    "    u\"\\U00002702-\\U000027B0\"\n",
    "    u\"\\U00002702-\\U000027B0\"\n",
    "    u\"\\U000024C2-\\U0001F251\"\n",
    "    u\"\\U0001f926-\\U0001f937\"\n",
    "    u\"\\U00010000-\\U0010ffff\"\n",
    "    u\"\\u2640-\\u2642\" \n",
    "    u\"\\u2600-\\u2B55\"\n",
    "    u\"\\u200d\"\n",
    "    u\"\\u23cf\"\n",
    "    u\"\\u23e9\"\n",
    "    u\"\\u231a\"\n",
    "    u\"\\ufe0f\"  \n",
    "    u\"\\u3030\"\n",
    "                  \"]+\", re.UNICODE) "
   ]
  },
  {
   "cell_type": "code",
   "execution_count": 6,
   "id": "3ec4564e",
   "metadata": {},
   "outputs": [],
   "source": [
    "def preprocessor(tweets):\n",
    "    \"\"\"\n",
    "    Removes unnecessary information from tweets,\n",
    "    and lemmatizes the tweets.\n",
    "\n",
    "    Input(s):\n",
    "    ------------------------------\n",
    "    tweets(array): all original tweets\n",
    "    \n",
    "    Output(s):\n",
    "    ------------------------------\n",
    "    tweets(array): cleaned up and lemmatized tweets\n",
    "    \"\"\"\n",
    "    tokenizer = RegexpTokenizer(r'\\w+')\n",
    "    for idx in range(len(tweets)):       \n",
    "        tweets[idx] = re.sub(r'http\\S+', '', tweets[idx]) # http links\n",
    "        tweets[idx] = re.sub(r'bit.ly/\\S+', '', tweets[idx]) # bitly links\n",
    "        tweets[idx] = tweets[idx].strip('[link]') # other links(i.e. gifs)\n",
    "        tweets[idx] = tweets[idx].lower()  # turn to lowercase\n",
    "        tweets[idx] = re.sub('(RT\\s@[A-Za-z]+[A-Za-z0-9-_]+)', '', tweets[idx]) # retweets\n",
    "        tweets[idx] = re.sub('(@[A-Za-z]+[A-Za-z0-9-_]+)', '', tweets[idx]) # tweeted at\n",
    "        tweets[idx] = re.sub ('#', '', tweets[idx]) # hashtags\n",
    "        tweets[idx] = re.sub(emoj, '', tweets[idx]) # emojis\n",
    "        tweets[idx] = re.sub('['+my_punctuation + ']+', ' ', tweets[idx]) # remove punctuation\n",
    "        tweets[idx] = re.sub('\\s+', ' ', tweets[idx]) # remove double spacing\n",
    "        tweets[idx] = tokenizer.tokenize(tweets[idx])   # split into words\n",
    "\n",
    "\n",
    "    # numbers (but not words with number)\n",
    "    tweets = [[token for token in tweet if not token.isdigit()] for tweet in tweets]\n",
    "    \n",
    "    # words that are only one character\n",
    "    tweets = [[token for token in tweet if len(token) > 3] for tweet in tweets]\n",
    "    \n",
    "    tweets = [[token for token in tweet if len(token) > 3] for tweet in tweets]\n",
    "    \n",
    "    # lemmatize all words in documents\n",
    "    lemmatizer = WordNetLemmatizer()\n",
    "    tweets = [[lemmatizer.lemmatize(token) for token in tweet] for tweet in tweets]\n",
    " \n",
    "    return tweets"
   ]
  },
  {
   "cell_type": "code",
   "execution_count": 7,
   "id": "ac427256",
   "metadata": {},
   "outputs": [],
   "source": [
    "tweets = preprocessor(tweets)"
   ]
  },
  {
   "cell_type": "markdown",
   "id": "1c180d7a",
   "metadata": {},
   "source": [
    "### We also create bi- and trigrams, and remove words that appear rarely. This is words that occurr frequently together, for example \"more_than, less_than\"."
   ]
  },
  {
   "cell_type": "code",
   "execution_count": 8,
   "id": "44f82a3e",
   "metadata": {},
   "outputs": [],
   "source": [
    "# add bigrams and trigrams to docs\n",
    "\n",
    "# only add bi/trigrams that appear > 10 times\n",
    "bigram = Phrases(tweets, min_count=10)\n",
    "trigram = Phrases(bigram[tweets])\n",
    "\n",
    "for idx in range(len(tweets)):\n",
    "    for token in bigram[tweets[idx]]:\n",
    "        if '_' in token:\n",
    "            tweets[idx].append(token)\n",
    "    for token in trigram[tweets[idx]]:\n",
    "        if '_' in token:\n",
    "            tweets[idx].append(token)\n",
    "\n",
    "dictionary = Dictionary(tweets)\n",
    "dictionary.filter_extremes(no_below=10, no_above=0.2)\n",
    "\n",
    "corpus = [dictionary.doc2bow(t) for t in tweets]"
   ]
  },
  {
   "cell_type": "markdown",
   "id": "3fc413b9",
   "metadata": {},
   "source": [
    "### After being ready for analysis, we analyze this data with Latent Dirichlet Allocation model by assigning a random number of topics."
   ]
  },
  {
   "cell_type": "code",
   "execution_count": 9,
   "id": "a604db1d",
   "metadata": {},
   "outputs": [
    {
     "name": "stdout",
     "output_type": "stream",
     "text": [
      "[(0, '0.033*\"help_mentalhealth\" + 0.031*\"online_counseling\" + 0.027*\"online\" + 0.023*\"depression\" + 0.021*\"research_find\" + 0.021*\"acupuncture\" + 0.021*\"evidence_back\" + 0.021*\"ssri_performance\" + 0.021*\"always_known\" + 0.019*\"online_psychotherapy\"'), (1, '0.029*\"mentalhealth\" + 0.028*\"mentalhealth_bipolar\" + 0.017*\"obsessive_compulsive\" + 0.014*\"bipolar\" + 0.013*\"disorder\" + 0.012*\"like\" + 0.010*\"thought\" + 0.009*\"thing\" + 0.009*\"time\" + 0.008*\"depression\"'), (2, '0.083*\"hive\" + 0.056*\"hiveblogshare\" + 0.043*\"life\" + 0.041*\"proofofbrain\" + 0.040*\"community\" + 0.039*\"brain\" + 0.039*\"clean\" + 0.038*\"your\" + 0.037*\"organized\" + 0.037*\"house\"'), (3, '0.038*\"online\" + 0.036*\"mindfulness_therapy\" + 0.029*\"mindfulness\" + 0.025*\"online_therapist\" + 0.024*\"therapy\" + 0.023*\"ocdrecovery_ocdawareness\" + 0.020*\"ocdrecovery\" + 0.016*\"skype\" + 0.015*\"mindfulness_depressio\" + 0.015*\"want_make\"'), (4, '0.043*\"health\" + 0.036*\"ocdrecovery\" + 0.036*\"condition\" + 0.036*\"ocdawareness\" + 0.036*\"know\" + 0.035*\"more\" + 0.035*\"living\" + 0.034*\"individual\" + 0.033*\"seen\" + 0.033*\"health_condition\"')]\n"
     ]
    }
   ],
   "source": [
    "num_topics = 5 # number of topics\n",
    "\n",
    "temp = dictionary[0] \n",
    "id2word = dictionary.id2token\n",
    "\n",
    "lda_model = LdaModel(corpus=corpus, id2word=id2word, chunksize=(len(data)/5), \\\n",
    "                       alpha='auto', eta='auto', \\\n",
    "                       iterations=20, num_topics=num_topics, \\\n",
    "                       passes=20, eval_every=1)\n",
    "\n",
    "# show keywords\n",
    "print(lda_model.print_topics())"
   ]
  },
  {
   "cell_type": "markdown",
   "id": "f0ee1dfb",
   "metadata": {},
   "source": [
    "### We check the accuracy of our model with coherence scores (through CV, and UMass)"
   ]
  },
  {
   "cell_type": "markdown",
   "id": "94890618",
   "metadata": {},
   "source": [
    "High values of c_v and low values of UMass indicate higher accuracy."
   ]
  },
  {
   "cell_type": "code",
   "execution_count": 10,
   "id": "af24e1e1",
   "metadata": {},
   "outputs": [
    {
     "name": "stdout",
     "output_type": "stream",
     "text": [
      "\n",
      "Coherence Score:  0.30024866765007296\n"
     ]
    }
   ],
   "source": [
    "# coherence score (c_v)\n",
    "coherence_model_cv = CoherenceModel(model=lda_model, texts=tweets, dictionary=dictionary, coherence='c_v')\n",
    "coherence_score = coherence_model_cv.get_coherence()\n",
    "print('\\nCoherence Score: ', coherence_score)"
   ]
  },
  {
   "cell_type": "code",
   "execution_count": 11,
   "id": "d218b89e",
   "metadata": {},
   "outputs": [
    {
     "name": "stdout",
     "output_type": "stream",
     "text": [
      "\n",
      "Coherence Score:  -11.681981643672533\n"
     ]
    }
   ],
   "source": [
    "coherence_model_cv = CoherenceModel(model=lda_model, texts=tweets, dictionary=dictionary, coherence='u_mass')\n",
    "coherence_score = coherence_model_cv.get_coherence()\n",
    "print('\\nCoherence Score: ', coherence_score)"
   ]
  },
  {
   "cell_type": "markdown",
   "id": "7767dfca",
   "metadata": {},
   "source": [
    "### To determine the ideal number of topics, we run a simulation with different number of topics and keep track of the coherence scores."
   ]
  },
  {
   "cell_type": "code",
   "execution_count": 12,
   "id": "f86cd369",
   "metadata": {},
   "outputs": [],
   "source": [
    "def simulate_coherence_values(dictionary, corpus, texts, limit=11):\n",
    "    \"\"\"\n",
    "    Simulate c_v for multiple LDA models with different number of topics.\n",
    "\n",
    "    Input:\n",
    "    ----------\n",
    "    dictionary (dict) : gensim dictionary\n",
    "    corpus (list): gensim corpus\n",
    "    texts (list): list of input texts\n",
    "    limit (int): maximum number of topics\n",
    "\n",
    "    Output:\n",
    "    -------\n",
    "     coherence_scores : coherence scores corresponding to the LDA model with respective number of topics\n",
    "    \"\"\"\n",
    "    coherence_scores = []\n",
    "    models = []\n",
    "    for num_topics in range(2,limit):\n",
    "        model = LdaModel(corpus=corpus, id2word=dictionary, num_topics=num_topics)\n",
    "        coherencemodel = CoherenceModel(model=model, texts=texts, dictionary=dictionary, coherence='c_v')\n",
    "        coherence_scores.append(coherencemodel.get_coherence())\n",
    "        models.append(model)\n",
    "\n",
    "    return coherence_scores, models"
   ]
  },
  {
   "cell_type": "code",
   "execution_count": 13,
   "id": "ec9561fd",
   "metadata": {},
   "outputs": [],
   "source": [
    "coherence_values, models = simulate_coherence_values(dictionary=dictionary, corpus=corpus, texts=tweets)"
   ]
  },
  {
   "cell_type": "code",
   "execution_count": 14,
   "id": "0b0441d0",
   "metadata": {},
   "outputs": [
    {
     "data": {
      "text/plain": [
       "[0.5932978365030674,\n",
       " 0.462720141825056,\n",
       " 0.40102525778156284,\n",
       " 0.6054316825347248,\n",
       " 0.6337215146425216,\n",
       " 0.5171591634198498,\n",
       " 0.47408856685530615,\n",
       " 0.4939858116155507,\n",
       " 0.4744586160906441]"
      ]
     },
     "execution_count": 14,
     "metadata": {},
     "output_type": "execute_result"
    }
   ],
   "source": [
    "coherence_values"
   ]
  },
  {
   "cell_type": "code",
   "execution_count": 15,
   "id": "8990e42b",
   "metadata": {},
   "outputs": [],
   "source": [
    "# pick the best model, with the highest coherence score\n",
    "best_model = models[(coherence_values.index(max(coherence_values)))]"
   ]
  },
  {
   "cell_type": "markdown",
   "id": "ae8736d6",
   "metadata": {},
   "source": [
    "### We plot the results of the simulation and find out that the ideal number of topics is 5."
   ]
  },
  {
   "cell_type": "code",
   "execution_count": 16,
   "id": "ad7b7256",
   "metadata": {},
   "outputs": [
    {
     "data": {
      "image/png": "[encoded data removed]",
      "text/plain": [
       "<Figure size 432x288 with 1 Axes>"
      ]
     },
     "metadata": {},
     "output_type": "display_data"
    }
   ],
   "source": [
    "limit=11; start=2; \n",
    "x = range(start, limit)\n",
    "plt.plot(x, coherence_values)\n",
    "plt.title('Optimal Number of Topics (ADHD Data)')\n",
    "plt.xlabel(\"Num Topics\")\n",
    "plt.ylabel(\"Coherence score\")\n",
    "plt.legend((\"coherence_values\"), loc='best')\n",
    "plt.show()"
   ]
  },
  {
   "cell_type": "markdown",
   "id": "b7eca6bb",
   "metadata": {},
   "source": [
    "### Once we have the weights and frequency of topic words, we are able to visualize the topics."
   ]
  },
  {
   "cell_type": "code",
   "execution_count": 17,
   "id": "6a45f91c",
   "metadata": {},
   "outputs": [
    {
     "data": {
      "text/html": [
       "\n",
       "<link rel=\"stylesheet\" type=\"text/css\" href=\"https://cdn.jsdelivr.net/gh/bmabey/pyLDAvis@3.2.2/pyLDAvis/js/ldavis.v1.0.0.css\">\n",
       "\n",
       "\n",
       "<div id=\"ldavis_el1909632302321186407961333458\"></div>\n",
       "<script type=\"text/javascript\">\n",
       "\n",
       "var ldavis_el1909632302321186407961333458_data = {\"mdsDat\": {\"x\": [0.10588607796761741, -0.05733576143397667, 0.07100370009320142, -0.30661671745860003, 0.13512495384942366, 0.05193774698233358], \"y\": [-0.20224671318188672, 0.2021483585233377, 0.03774915009713195, -0.06657028293642883, 0.10111575595542055, -0.0721962684575741], \"topics\": [1, 2, 3, 4, 5, 6], \"cluster\": [1, 1, 1, 1, 1, 1], \"Freq\": [22.953692416335397, 21.593783730188644, 17.410311850679538, 13.42995582540649, 13.373064401874554, 11.239191775515376]}, \"tinfo\": {\"Term\": [\"tough_fabulous\", \"mentalhealth_bipolar\", \"help_mentalhealth\", \"stephen_gold\", \"best_fictional\", \"online\", \"hive\", \"acupuncture\", \"always_known\", \"evidence_back\", \"ssri_performance\", \"research_find\", \"online_therapist\", \"mindfulness_therapy\", \"posh\", \"obsessive_compulsive\", \"ocdrecovery_ocdawareness\", \"hive_hiveblogshare\", \"always\", \"online_counseling\", \"bipolar\", \"fabulous\", \"when\", \"tough\", \"gold\", \"pray\", \"fictional\", \"tuesdaybookblog_pray_when_dying\", \"depiction\", \"stephen_gold_best_fictional\", \"software_business\", \"odoo_erpsystem\", \"software\", \"odoo\", \"positive_achievement\", \"erpsystem\", \"erpsoftware_technology\", \"erpsoftware\", \"erpsolutions\", \"software_business_erpsoftware_technology\", \"achievement\", \"hunt\", \"witcher_wild\", \"generalisedanxietydisorder\", \"business\", \"depressionawareness\", \"sheffield_socialanxiety\", \"privatepractice\", \"privatetherapy_phobia\", \"treat\", \"dronfield_derbyshire\", \"mother_partner\", \"witcher\", \"take_med\", \"job\", \"partner\", \"walk_self\", \"mother\", \"sheffield\", \"sword_destiny\", \"mentalhealth_bipolar\", \"keep_distracted\", \"read_witcher\", \"drink_litre\", \"bipolar\", \"survive_mentalhealth\", \"med\", \"survive\", \"harm\", \"wife\", \"guy_dropped\", \"litre\", \"parent_anxiety\", \"time\", \"adhd_selfhelp\", \"parent\", \"addictionrecovery_bipolar\", \"night\", \"walk\", \"addictionrecovery\", \"want\", \"parent_anxiety_depression_ptsd\", \"depression_ptsd\", \"mentalhealth\", \"ptsd\", \"selfhelp\", \"want_make\", \"feel_like\", \"case_didn\", \"know_fucking\", \"time_last\", \"last\", \"hive_hiveblogshare\", \"depression\", \"know\", \"today\", \"adhd\", \"like\", \"make\", \"intrusivethoughts_ocdtreatment\", \"session_contact\", \"online_psychotherapy\", \"most_people\", \"using_medication\", \"better_without\", \"huge_improvement\", \"effective_notice\", \"improvement_session\", \"ocdtreatment_ocdrecovery\", \"most_people_huge_improvement\", \"ocdawareness_intrusivethoughts\", \"overcoming_ocdrecovery\", \"learn_manage\", \"overcoming_online\", \"better_without_using_medication\", \"contact_schedule\", \"session_visit\", \"mindfulness_therapy_effective_notice\", \"significant\", \"significant_improvement_session_visit\", \"significant_improvement\", \"mindfulness_therapy_contact_schedule\", \"overcoming_ocdrecovery_ocdawareness_intrusivethoughts\", \"improvement_session_online_psychotherapy\", \"therapy_skype_most_people\", \"effective_help\", \"hive_peakd\", \"mental_health\", \"therapy_skype_learn_manage\", \"mindfulness_based\", \"improvement\", \"online_therapist\", \"stress_health\", \"overcoming\", \"mentalillness_motivation\", \"effective\", \"effective_online\", \"contact_looking\", \"skype_overcoming\", \"ocdrecovery_ocdawareness\", \"online_counseling\", \"online\", \"session\", \"online_therapist_obsessive_compulsive\", \"mindfulness_therapy\", \"therapy\", \"contact\", \"mindfulness\", \"ocdrecovery\", \"therapist\", \"skype\", \"psychotherapy\", \"ocdawareness\", \"most\", \"ocdtreatment\", \"obsessive_compulsive\", \"mindfulness_depressio\", \"therapy_skype\", \"looking\", \"intrusivethoughts\", \"mentalhealth\", \"disorder\", \"onlinetherapistforocd_intrusivethoughts\", \"memory_memory\", \"image_contact\", \"obsessive_intrusive_thought_traumatic\", \"memory_memory_image_contact\", \"misconception\", \"community_preview\", \"preview\", \"motorsport_posh\", \"brainsway\", \"racing_sport\", \"ritual\", \"photography_macrophotography\", \"motorsport\", \"today_bring\", \"relieftms\", \"community_preview_racing_sport\", \"nascar\", \"symptom_treatment\", \"another_friend\", \"this_posted\", \"tweet\", \"spravato\", \"eupd_anxiety\", \"anxiety_spravato\", \"long\", \"race\", \"racing\", \"enjoy_tweet\", \"mentalhealth_letsbeatmentalhealthtogether\", \"share_follow\", \"twitter_hope\", \"eupd\", \"thank_much_another_friend\", \"iwillnotletmymhkillme_retweet\", \"learn_more\", \"twitter_hope_enjoy_tweet\", \"letsbeatmentalhealthtogether\", \"episode\", \"dyslexia_dyspraxia\", \"blog\", \"common\", \"enjoy\", \"right\", \"memory\", \"obsessive_compulsive\", \"thank_much\", \"even\", \"more\", \"disorder\", \"treatment\", \"symptom\", \"obsessive\", \"anyone_else\", \"compulsive\", \"this\", \"thought\", \"like\", \"obsessive_intrusive\", \"mentalhealth\", \"depression\", \"hive\", \"learn\", \"know\", \"posh\", \"thing\", \"therapy\", \"mindfulness_therapy\", \"tough_fabulous\", \"stephen_gold\", \"best_fictional\", \"tuesdaybookblog_pray_when_dying\", \"depiction\", \"stephen_gold_best_fictional\", \"depiction_read_hard_hitting\", \"depiction_read\", \"hard_hitting\", \"tuesdaybookblog\", \"noir\", \"hitting\", \"tuesdaybookblog_pray\", \"when_dying\", \"dying\", \"fabulous\", \"gold\", \"tough\", \"pray\", \"stephen\", \"fictional\", \"addiction_onlinetherapy\", \"skype_counseling\", \"depression_ptsd_addiction_onlinetherapy\", \"looking_online\", \"onlinetherapy\", \"visit_bulimia\", \"thinking_around\", \"panicattacks_onlinetherapistforocd\", \"health_recommend\", \"when\", \"best\", \"depression_email\", \"suffering_obsessive\", \"hard\", \"read\", \"hive_hiveblogshare\", \"skype\", \"depression_ptsd\", \"mindfulness_therapy\", \"depression\", \"acupuncture\", \"always_known\", \"depression_enhances\", \"beneficial_good\", \"research_find_acupuncture_reduces\", \"evidence_back\", \"ssri_performance\", \"research_find\", \"performance\", \"acupuncture_reduces\", \"always_known_beneficial_good\", \"triggered\", \"help_mentalhealth\", \"acupuncture_really\", \"enhances\", \"beneficial\", \"reduces\", \"depression_enhances_ssri_performance\", \"ssri\", \"evidence_back_acupuncture_really\", \"evidence\", \"known\", \"care\", \"always\", \"trigger\", \"research\", \"actually\", \"find\", \"interested\", \"success\", \"back\", \"good\", \"really\", \"last_night\", \"help\", \"depression\", \"mentalhealth\", \"treatment_without\", \"visit_ocdrecovery\", \"hiveworks_hiveblogshare\", \"visit_ocdrecovery_ocdawareness_onlinetherapistforocd\", \"hiveworks\", \"mindfulness_therapist\", \"ocdawareness_onlinetherapistforocd\", \"medication_online\", \"bilbao\", \"online_psychotherapist_managing_visit\", \"hivetrending\", \"managing_visit\", \"hive_originalcontent\", \"managing\", \"city_hive\", \"culture\", \"posh_hivemind\", \"bilbaobilbao2021\", \"originalcontent\", \"memory_using\", \"strong_ocdtreatment\", \"powerful_technique\", \"developed_peter_strong_ocdtreatment\", \"travelblogger_posh\", \"developed_peter\", \"odesa\", \"peter\", \"thought_traumatic_memory_using\", \"powerful_technique_mindfulness_therapy\", \"hivemind\", \"technique\", \"odesa_travel\", \"must_place\", \"online_psychotherapist_obsessive_intrusive\", \"architecture\", \"hive\", \"posh\", \"photography\", \"online_psychotherapist\", \"leofinance\", \"hiveblogshare_photography\", \"autism\", \"hiveblogshare\", \"psychotherapist\", \"mindfulness_depressio\", \"hive_hiveblogshare\", \"visit\", \"online\", \"ocdrecovery\", \"obsessive_intrusive\", \"mindfulness\", \"treatment\", \"ocdawareness\", \"issue_managed\", \"ocdrecovery_ocdawareness\", \"first\", \"adhd\", \"mindfulness_therapy\", \"know_fucking\", \"therapy\", \"time_last\"], \"Freq\": [280.0, 517.0, 264.0, 187.0, 187.0, 690.0, 445.0, 178.0, 177.0, 176.0, 176.0, 175.0, 340.0, 588.0, 292.0, 374.0, 315.0, 285.0, 157.0, 205.0, 335.0, 97.0, 120.0, 97.0, 96.0, 97.0, 97.0, 94.0, 94.0, 94.0, 38.07935968871705, 38.07947219868645, 29.109988216340838, 24.04393789778517, 67.24887590705261, 19.207611201875775, 19.151422700336596, 19.109787619044535, 19.07357858673155, 19.051503619325175, 33.82063488381201, 18.57528471745689, 18.539562802170536, 15.477634669327754, 36.991845995574494, 21.732285052969985, 34.262676325428515, 31.921758103344015, 34.18519531217928, 25.25659847553365, 33.97409592503682, 150.3178502095134, 48.83631768250557, 70.33521870325646, 14.293756187389098, 53.800830310717224, 45.517022994646936, 74.96885996780361, 17.210857140636595, 47.58947197337103, 452.5150560375658, 57.85163924920503, 60.499402842396364, 46.49438687069642, 270.67535929687193, 45.66408886692892, 53.103677627562504, 38.59320294717255, 34.93548849952019, 76.45722366853634, 49.94351806324939, 34.87675062435606, 118.50137075299615, 155.99619768088897, 106.8586754680154, 71.65988039850369, 65.88585854041703, 93.53575629992787, 64.30513949707067, 59.85150906948333, 85.24134747628584, 59.132258405519394, 113.17869797944957, 215.39583602870132, 115.83730855650953, 62.82501459455216, 63.94749076068758, 71.92444759156152, 63.84505554763308, 62.266806609524124, 62.11439139960584, 66.48090331224643, 90.61428152161973, 100.52617457815624, 67.5937445337291, 68.05155271333098, 70.09894265341468, 65.35000424067412, 63.4307989543703, 63.81334317832964, 74.31711307989485, 123.99396797917977, 98.83220564498768, 42.68423165247081, 42.671236867434224, 58.295298472717775, 42.523430208458336, 71.9277709519782, 50.61842594332025, 24.079555577903196, 42.65221858337291, 42.633691031660256, 22.13770842984868, 21.419184860482353, 21.41630301070934, 40.301432622536296, 21.316039656336006, 21.301014586484378, 21.293345690761196, 21.286569254358373, 21.280343689072428, 20.29481120546961, 21.34174537142318, 20.282465919129784, 20.24226676090203, 21.297050238883436, 43.712267811899494, 32.664343091090444, 11.13820022855671, 30.574602684233803, 78.88324287333785, 289.227677698143, 39.96207677013334, 135.9585133718658, 39.728719105041016, 119.42417212642619, 148.3817106886938, 148.2586908244267, 147.9121952974609, 232.63700058281563, 157.69384773687108, 467.6611542423847, 84.51831281080081, 54.36598531258917, 373.63868370203676, 265.7824682529558, 134.17393150825254, 283.5490191814755, 192.52542364599336, 136.1307315596368, 182.61838428039903, 69.38508458730813, 122.29441752272552, 56.44109034881224, 68.08423491973454, 142.73073524981248, 98.72790096539009, 73.56637437516942, 80.66563087468653, 77.20474579686143, 98.81288426153455, 83.63011612633447, 53.15609412465675, 52.5922393886788, 52.31776362324771, 26.67249544592055, 26.4388366965828, 12.513643749229683, 20.834261817387382, 17.610452620810346, 28.951235074151946, 18.375973866617386, 37.18041294080161, 12.485566413355356, 37.50528108979826, 18.999604342010713, 46.815990602974196, 15.06501757687741, 10.491137812546466, 12.838948288277223, 55.47368216497413, 53.815434882792324, 19.391781292456795, 42.13103502435646, 11.79745494404237, 78.32912038402301, 11.775699445371949, 25.787527454894956, 18.56594124405993, 18.831345914966498, 52.4115002061791, 26.77336361203917, 45.77971357448099, 52.160926978468815, 29.21195776469029, 26.640051300270308, 26.60014197548282, 98.03042829079847, 26.386985800491598, 26.356110719513225, 35.04806762830912, 35.39444107901368, 60.18197782302486, 26.9857401034728, 30.36638982385141, 50.641218991109874, 55.632691062450796, 190.052141846027, 51.991603759700425, 46.52633234279477, 55.681031443021496, 123.62729984172614, 99.09793533084476, 42.1230907859189, 97.13607306490037, 55.772875062887685, 77.82769463896987, 73.09148553375282, 86.41487332679117, 85.36797165519226, 52.68595657649682, 126.66138603928914, 94.93280370182573, 88.0234031753528, 53.70204717099147, 56.99418147295869, 64.79907377897338, 55.68929376131837, 59.36577714597434, 57.862147707601565, 279.44600654990074, 186.43566901588403, 186.43150387603885, 93.31459022779389, 93.3101378369249, 93.3097907419378, 93.30935986540209, 93.30442273843043, 93.30341137545078, 93.28863590091377, 93.28408775970352, 93.28241212873132, 93.27971915038314, 93.26534463040021, 93.2124784732273, 95.7463317230096, 95.23615595154179, 95.69192757598009, 95.05140566806412, 94.72604002403725, 95.08968186698621, 21.70222926796271, 21.688023807176073, 21.62272805882725, 42.045040073567016, 21.479096562528095, 41.082186610563134, 41.18366401911881, 40.80495346621271, 60.31964500386972, 103.05253757592101, 101.95495141395962, 58.00327070108994, 39.99357704309567, 93.40139389655015, 98.7891698493902, 113.03717969393024, 83.89968657791785, 66.54911433163096, 80.27196946069097, 75.30789475236058, 166.35835079329306, 164.92079066241865, 83.09428283478101, 83.09163105954374, 83.03499033228475, 163.94654631738192, 163.57242552424415, 162.1988536237019, 86.66940025062351, 81.58923651387944, 80.7014460006232, 16.0701273986783, 241.0919915200529, 80.18250848430309, 80.1790045655626, 79.99947640247665, 84.64300299998362, 79.32450723938643, 80.04912716939111, 77.09240373888008, 82.3954119402825, 85.80588688864063, 23.62836019703789, 123.2290202317783, 15.226648347589135, 99.55046699468755, 10.097519134160448, 99.96479346765872, 11.324205032978465, 18.43490159792349, 104.70011916073906, 92.68791700149627, 133.11742454205944, 50.018952498308096, 113.89661870068431, 123.95399770451161, 128.0301993364251, 59.760514333196916, 59.3980114839779, 59.34382787029355, 19.999716952435726, 29.70956050359721, 19.996250032519562, 19.996108551136203, 19.994027647957918, 17.442831587049124, 19.802952657562123, 17.694797410338694, 19.76410662747222, 12.850163084194994, 19.700865701157486, 10.03385219567754, 10.02519929443499, 9.420942322481206, 9.716568299037874, 21.820365752050243, 36.548332358594685, 36.4973364582027, 36.47337727455671, 18.537559441400504, 26.452368583574017, 18.429018179409795, 28.56643099156468, 18.39164831348788, 18.377904586539618, 18.30403627985348, 15.393099386820314, 20.305287943399797, 25.93788217538662, 25.77683128740673, 18.12324310468035, 17.804168779914963, 222.11649670787813, 143.86933870262368, 64.47979239753984, 76.35457781665342, 23.866314264309878, 21.525388336171286, 50.18579551952633, 76.5406371042019, 37.76234779983401, 64.42001463499834, 67.94515476644034, 45.24420387616056, 95.02166158644947, 60.88918019088798, 36.71189735823643, 69.66688554222797, 48.69691555570284, 41.46819095901903, 32.307056034198986, 44.150054467819025, 32.587815197073986, 36.3279193878899, 42.55495078218714, 29.970847821569283, 32.246852575459776, 29.758728414434266], \"Total\": [280.0, 517.0, 264.0, 187.0, 187.0, 690.0, 445.0, 178.0, 177.0, 176.0, 176.0, 175.0, 340.0, 588.0, 292.0, 374.0, 315.0, 285.0, 157.0, 205.0, 335.0, 97.0, 120.0, 97.0, 96.0, 97.0, 97.0, 94.0, 94.0, 94.0, 39.39246941042248, 39.39288284045784, 30.20926779149087, 25.20489763649481, 70.71310480963567, 20.277966645970523, 20.25882325111959, 20.24500526235523, 20.2324979700904, 20.225258470874714, 35.92064315876513, 19.74473036282718, 19.74616114831315, 16.54686851350208, 39.66699844825963, 23.725928322254365, 37.568229289817246, 35.01950251132943, 37.53386673747567, 27.795992289443777, 37.43824070876833, 165.95895752902075, 54.02856930457324, 78.0528170905545, 15.954586012380798, 60.10470839047474, 51.03984033799737, 84.11608861898951, 19.330176065374662, 53.52830815793651, 517.8706645394432, 65.17579838801448, 68.23025890316384, 52.427176175073136, 335.7921368995762, 52.20837582975804, 61.611044419364504, 43.662678326678325, 39.51983554359282, 94.74447835710323, 58.93906690263009, 39.53664393674992, 157.14214626703463, 225.54985834461564, 146.2628193754923, 92.4047216442016, 84.74561537051935, 135.26243813056948, 86.418977040092, 79.30515072209892, 131.62178351493577, 79.04599236739301, 200.48716882924853, 600.5035678548978, 227.2770859420605, 87.99346539487827, 98.11779322289956, 123.31611347321062, 97.93919639182897, 97.03429395933665, 97.0589103197778, 116.73254868864436, 285.1556018839159, 467.041482932322, 151.4385745399516, 158.53185002458235, 193.69699556145792, 220.3924828942117, 135.40972734389584, 65.02709931360644, 75.83774755133166, 126.63242696491689, 101.01228470240423, 43.772301037199114, 43.77676049740418, 59.85742670553688, 43.726478743738234, 74.34739983970793, 52.54731201043229, 25.114085374893804, 44.52824985259496, 44.53338172402011, 23.140635743003525, 22.453408502530912, 22.452160784966505, 42.27803384453123, 22.431030560781807, 22.429897684467193, 22.429367817004653, 22.428877539588026, 22.42860014848415, 21.712570368698334, 22.835528608167383, 21.710591485043913, 21.70932709743092, 22.840617458854684, 47.062016546434144, 35.21856109456636, 12.139323476210592, 33.32763340735072, 88.33895095925607, 340.55200478457493, 44.45763716899117, 166.12076329256985, 44.473336761902, 145.71006423586334, 187.8550471525483, 189.12534934829455, 189.16257702377175, 315.23917085046156, 205.8541695845331, 690.6583129555243, 103.56027809580783, 63.4898137267389, 588.2596717131014, 435.6519976276074, 191.4254873990404, 489.7017406219653, 326.1627244417464, 210.76886723403575, 319.42194074338505, 88.9141381390938, 205.20095262409276, 70.22436650965207, 97.71770593185805, 374.91444906146876, 213.20961711231303, 124.59217403032982, 172.69284153070836, 154.6297437517081, 600.5035678548978, 262.2844087514797, 55.01201183392344, 55.04661199389668, 55.011010897084255, 28.05135134401855, 28.088905800362472, 13.485362631467616, 22.489501971671917, 19.20594071423491, 31.856582919681575, 20.238861793544036, 41.164823678394384, 13.851613804403081, 41.85602255885781, 21.203915167552637, 52.3310384240007, 16.939243673894445, 11.809525814372552, 14.572486992639165, 63.057498732990865, 61.20690079927588, 22.178105823995125, 48.473129838609395, 13.610565731972498, 90.6001879824271, 13.625441420274969, 29.843707522667412, 21.509348657716643, 21.848558368190748, 60.838100529613776, 31.079691860057324, 53.15532749060323, 60.74245816060652, 33.91109041468739, 31.062351440045475, 31.046064267495886, 121.47316561733824, 30.99015890569502, 31.000641410983775, 42.31414765799583, 43.23256515612465, 79.84430793789969, 32.034555241346624, 36.97647123934171, 68.70274725652402, 78.31663763306312, 374.91444906146876, 74.57759055734593, 64.51394833174434, 84.94255943839015, 262.2844087514797, 195.74479944650085, 60.76058697017454, 226.9658332822975, 94.48907555346096, 162.25443618790405, 147.78409068301113, 204.6765040806853, 220.3924828942117, 95.09682965496978, 600.5035678548978, 467.041482932322, 445.81425622229654, 110.84769017354489, 151.4385745399516, 292.42971820053407, 143.26059771141433, 435.6519976276074, 588.2596717131014, 280.8410164154954, 187.59382746181433, 187.59581651553256, 94.36318525655786, 94.36333334519232, 94.36333877691159, 94.36303972308723, 94.36293876899192, 94.36428761291577, 94.36541009180019, 94.36627221366743, 94.3673044395297, 94.36748397906715, 94.3686512012465, 94.37611191311836, 97.13731019840213, 96.76118271264858, 97.57677984107728, 97.12489734821395, 97.42038909701957, 97.97014910344873, 23.57478775573026, 23.576687735259693, 23.568276370642845, 45.99024884151352, 23.559646030057557, 45.9725511285654, 46.45840945525737, 46.40741083442377, 68.96697627253593, 120.8517680517181, 124.34655545792185, 68.19525192561913, 46.32900665061148, 125.65413781106648, 176.35408673896393, 285.1556018839159, 319.42194074338505, 200.48716882924853, 588.2596717131014, 467.041482932322, 178.1213307117337, 177.30472406953461, 89.53528480669364, 89.54231872069253, 89.48561056841592, 176.8054235190604, 176.7247478588303, 175.90588220002235, 94.09199078796428, 88.71116931250087, 88.23488869894643, 17.591994842235753, 264.1734586884072, 87.96222915652935, 87.9760472724149, 87.86950136798546, 93.03139059667367, 87.5191236714382, 88.6483838087219, 86.36918874016935, 92.34467507054808, 97.50247782720463, 28.120078183651724, 157.0631483772255, 19.69954427610819, 129.88752753863764, 13.251363514156008, 139.396544110502, 16.12857516319049, 27.378625756274324, 158.0672952593817, 140.8256467728881, 223.88467479593237, 84.3392578311502, 262.0998201107375, 467.041482932322, 600.5035678548978, 60.83651524849739, 61.25253655581242, 61.28448930409432, 21.038233139791256, 31.252791192977643, 21.038416594110604, 21.038362385159104, 21.038785296896776, 18.561790003450398, 21.291840093921113, 19.040244234011837, 21.324338733097154, 13.907583107219391, 21.411779156662732, 11.093148616588035, 11.09428036124581, 10.43221216839648, 10.76382091593568, 24.18910443523381, 41.29482828073013, 41.29351206017294, 41.31382397865812, 21.202094676651356, 30.348140831276616, 21.21085748044623, 32.944944077027614, 21.212899032177145, 21.211012767604558, 21.226036134773533, 17.939286026296806, 23.688725458140915, 30.505369506416933, 30.56401395977001, 21.245089763706158, 20.86736474817187, 445.81425622229654, 292.42971820053407, 107.46716854205297, 145.67311641119448, 30.62704129592105, 26.89756233322995, 99.92023359041707, 193.7467502907453, 65.0816672338838, 213.20961711231303, 285.1556018839159, 132.09645749240002, 690.6583129555243, 326.1627244417464, 95.09682965496978, 489.7017406219653, 195.74479944650085, 205.20095262409276, 95.08544139345747, 315.23917085046156, 117.3052497001622, 193.69699556145792, 588.2596717131014, 97.03429395933665, 435.6519976276074, 97.0589103197778], \"Category\": [\"Default\", \"Default\", \"Default\", \"Default\", \"Default\", \"Default\", \"Default\", \"Default\", \"Default\", \"Default\", \"Default\", \"Default\", \"Default\", \"Default\", \"Default\", \"Default\", \"Default\", \"Default\", \"Default\", \"Default\", \"Default\", \"Default\", \"Default\", \"Default\", \"Default\", \"Default\", \"Default\", \"Default\", \"Default\", \"Default\", \"Topic1\", \"Topic1\", \"Topic1\", \"Topic1\", \"Topic1\", \"Topic1\", \"Topic1\", \"Topic1\", \"Topic1\", \"Topic1\", \"Topic1\", \"Topic1\", \"Topic1\", \"Topic1\", \"Topic1\", \"Topic1\", \"Topic1\", \"Topic1\", \"Topic1\", \"Topic1\", \"Topic1\", \"Topic1\", \"Topic1\", \"Topic1\", \"Topic1\", \"Topic1\", \"Topic1\", \"Topic1\", \"Topic1\", \"Topic1\", \"Topic1\", \"Topic1\", \"Topic1\", \"Topic1\", \"Topic1\", \"Topic1\", \"Topic1\", \"Topic1\", \"Topic1\", \"Topic1\", \"Topic1\", \"Topic1\", \"Topic1\", \"Topic1\", \"Topic1\", \"Topic1\", \"Topic1\", \"Topic1\", \"Topic1\", \"Topic1\", \"Topic1\", \"Topic1\", \"Topic1\", \"Topic1\", \"Topic1\", \"Topic1\", \"Topic1\", \"Topic1\", \"Topic1\", \"Topic1\", \"Topic1\", \"Topic1\", \"Topic1\", \"Topic1\", \"Topic1\", \"Topic1\", \"Topic1\", \"Topic1\", \"Topic1\", \"Topic2\", \"Topic2\", \"Topic2\", \"Topic2\", \"Topic2\", \"Topic2\", \"Topic2\", \"Topic2\", \"Topic2\", \"Topic2\", \"Topic2\", \"Topic2\", \"Topic2\", \"Topic2\", \"Topic2\", \"Topic2\", \"Topic2\", \"Topic2\", \"Topic2\", \"Topic2\", \"Topic2\", \"Topic2\", \"Topic2\", \"Topic2\", \"Topic2\", \"Topic2\", \"Topic2\", \"Topic2\", \"Topic2\", \"Topic2\", \"Topic2\", \"Topic2\", \"Topic2\", \"Topic2\", \"Topic2\", \"Topic2\", \"Topic2\", \"Topic2\", \"Topic2\", \"Topic2\", \"Topic2\", \"Topic2\", \"Topic2\", \"Topic2\", \"Topic2\", \"Topic2\", \"Topic2\", \"Topic2\", \"Topic2\", \"Topic2\", \"Topic2\", \"Topic2\", \"Topic2\", \"Topic2\", \"Topic2\", \"Topic2\", \"Topic2\", \"Topic2\", \"Topic2\", \"Topic2\", \"Topic2\", \"Topic2\", \"Topic2\", \"Topic3\", \"Topic3\", \"Topic3\", \"Topic3\", \"Topic3\", \"Topic3\", \"Topic3\", \"Topic3\", \"Topic3\", \"Topic3\", \"Topic3\", \"Topic3\", \"Topic3\", \"Topic3\", \"Topic3\", \"Topic3\", \"Topic3\", \"Topic3\", \"Topic3\", \"Topic3\", \"Topic3\", \"Topic3\", \"Topic3\", \"Topic3\", \"Topic3\", \"Topic3\", \"Topic3\", \"Topic3\", \"Topic3\", \"Topic3\", \"Topic3\", \"Topic3\", \"Topic3\", \"Topic3\", \"Topic3\", \"Topic3\", \"Topic3\", \"Topic3\", \"Topic3\", \"Topic3\", \"Topic3\", \"Topic3\", \"Topic3\", \"Topic3\", \"Topic3\", \"Topic3\", \"Topic3\", \"Topic3\", \"Topic3\", \"Topic3\", \"Topic3\", \"Topic3\", \"Topic3\", \"Topic3\", \"Topic3\", \"Topic3\", \"Topic3\", \"Topic3\", \"Topic3\", \"Topic3\", \"Topic3\", \"Topic3\", \"Topic3\", \"Topic3\", \"Topic3\", \"Topic3\", \"Topic3\", \"Topic3\", \"Topic4\", \"Topic4\", \"Topic4\", \"Topic4\", \"Topic4\", \"Topic4\", \"Topic4\", \"Topic4\", \"Topic4\", \"Topic4\", \"Topic4\", \"Topic4\", \"Topic4\", \"Topic4\", \"Topic4\", \"Topic4\", \"Topic4\", \"Topic4\", \"Topic4\", \"Topic4\", \"Topic4\", \"Topic4\", \"Topic4\", \"Topic4\", \"Topic4\", \"Topic4\", \"Topic4\", \"Topic4\", \"Topic4\", \"Topic4\", \"Topic4\", \"Topic4\", \"Topic4\", \"Topic4\", \"Topic4\", \"Topic4\", \"Topic4\", \"Topic4\", \"Topic4\", \"Topic4\", \"Topic4\", \"Topic5\", \"Topic5\", \"Topic5\", \"Topic5\", \"Topic5\", \"Topic5\", \"Topic5\", \"Topic5\", \"Topic5\", \"Topic5\", \"Topic5\", \"Topic5\", \"Topic5\", \"Topic5\", \"Topic5\", \"Topic5\", \"Topic5\", \"Topic5\", \"Topic5\", \"Topic5\", \"Topic5\", \"Topic5\", \"Topic5\", \"Topic5\", \"Topic5\", \"Topic5\", \"Topic5\", \"Topic5\", \"Topic5\", \"Topic5\", \"Topic5\", \"Topic5\", \"Topic5\", \"Topic5\", \"Topic5\", \"Topic5\", \"Topic5\", \"Topic6\", \"Topic6\", \"Topic6\", \"Topic6\", \"Topic6\", \"Topic6\", \"Topic6\", \"Topic6\", \"Topic6\", \"Topic6\", \"Topic6\", \"Topic6\", \"Topic6\", \"Topic6\", \"Topic6\", \"Topic6\", \"Topic6\", \"Topic6\", \"Topic6\", \"Topic6\", \"Topic6\", \"Topic6\", \"Topic6\", \"Topic6\", \"Topic6\", \"Topic6\", \"Topic6\", \"Topic6\", \"Topic6\", \"Topic6\", \"Topic6\", \"Topic6\", \"Topic6\", \"Topic6\", \"Topic6\", \"Topic6\", \"Topic6\", \"Topic6\", \"Topic6\", \"Topic6\", \"Topic6\", \"Topic6\", \"Topic6\", \"Topic6\", \"Topic6\", \"Topic6\", \"Topic6\", \"Topic6\", \"Topic6\", \"Topic6\", \"Topic6\", \"Topic6\", \"Topic6\", \"Topic6\", \"Topic6\", \"Topic6\", \"Topic6\", \"Topic6\", \"Topic6\", \"Topic6\", \"Topic6\"], \"logprob\": [30.0, 29.0, 28.0, 27.0, 26.0, 25.0, 24.0, 23.0, 22.0, 21.0, 20.0, 19.0, 18.0, 17.0, 16.0, 15.0, 14.0, 13.0, 12.0, 11.0, 10.0, 9.0, 8.0, 7.0, 6.0, 5.0, 4.0, 3.0, 2.0, 1.0, -5.6644, -5.6644, -5.933, -6.1242, -5.0957, -6.3487, -6.3517, -6.3539, -6.3557, -6.3569, -5.783, -6.3822, -6.3841, -6.5647, -5.6934, -6.2253, -5.77, -5.8408, -5.7723, -6.075, -5.7785, -4.2913, -5.4156, -5.0508, -6.6442, -5.3188, -5.486, -4.987, -6.4585, -5.4414, -3.1892, -5.2462, -5.2014, -5.4647, -3.7031, -5.4827, -5.3318, -5.651, -5.7505, -4.9673, -5.3932, -5.7522, -4.5291, -4.2542, -4.6325, -5.0321, -5.1161, -4.7657, -5.1404, -5.2122, -4.8586, -5.2243, -4.5751, -3.9316, -4.5519, -5.1637, -5.146, -5.0284, -5.1476, -5.1726, -5.1751, -5.1071, -4.7974, -4.6936, -5.0905, -5.0838, -5.0541, -5.1243, -5.1541, -5.087, -4.9346, -4.4227, -4.6496, -5.4891, -5.4895, -5.1775, -5.4929, -4.9673, -5.3187, -6.0616, -5.4899, -5.4903, -6.1457, -6.1787, -6.1788, -5.5466, -6.1835, -6.1842, -6.1846, -6.1849, -6.1852, -6.2326, -6.1823, -6.2332, -6.2352, -6.1844, -5.4653, -5.7567, -6.8326, -5.8228, -4.875, -3.5758, -5.555, -4.3306, -5.5609, -4.4603, -4.2432, -4.244, -4.2464, -3.7935, -4.1823, -3.0952, -4.806, -5.2472, -3.3197, -3.6603, -4.3438, -3.5956, -3.9827, -4.3294, -4.0356, -5.0033, -4.4365, -5.2098, -5.0222, -4.282, -4.6506, -4.9448, -4.8527, -4.8965, -4.6498, -4.8166, -5.0544, -5.0651, -5.0703, -5.744, -5.7528, -6.5008, -5.991, -6.1591, -5.662, -6.1166, -5.4119, -6.5031, -5.4032, -6.0832, -5.1814, -6.3153, -6.6771, -6.4752, -5.0117, -5.0421, -6.0628, -5.2869, -6.5598, -4.6667, -6.5616, -5.7777, -6.1063, -6.0921, -5.0685, -5.7402, -5.2038, -5.0733, -5.6531, -5.7452, -5.7467, -4.4424, -5.7548, -5.7559, -5.4709, -5.4611, -4.9303, -5.7323, -5.6143, -5.1029, -5.0089, -3.7803, -5.0766, -5.1876, -5.008, -4.2104, -4.4315, -5.287, -4.4515, -5.0063, -4.6731, -4.7359, -4.5685, -4.5807, -5.0633, -4.1861, -4.4745, -4.55, -5.0442, -4.9847, -4.8563, -5.0078, -4.9439, -4.9696, -3.1353, -3.54, -3.54, -4.2321, -4.2321, -4.2321, -4.2321, -4.2322, -4.2322, -4.2324, -4.2324, -4.2324, -4.2325, -4.2326, -4.2332, -4.2064, -4.2117, -4.2069, -4.2136, -4.2171, -4.2132, -5.6906, -5.6913, -5.6943, -5.0293, -5.701, -5.0525, -5.05, -5.0593, -4.6684, -4.1328, -4.1435, -4.7076, -5.0793, -4.2312, -4.1751, -4.0403, -4.3384, -4.5701, -4.3826, -4.4465, -3.6497, -3.6583, -4.3438, -4.3439, -4.3446, -3.6643, -3.6666, -3.675, -4.3017, -4.3621, -4.3731, -5.9869, -3.2786, -4.3795, -4.3796, -4.3818, -4.3254, -4.3903, -4.3812, -4.4188, -4.3523, -4.3117, -5.6014, -3.9498, -6.0408, -4.1632, -6.4515, -4.159, -6.3369, -5.8496, -4.1127, -4.2346, -3.8726, -4.8514, -4.0285, -3.9439, -3.9115, -4.4996, -4.5057, -4.5066, -5.5943, -5.1985, -5.5944, -5.5944, -5.5945, -5.7311, -5.6041, -5.7167, -5.6061, -6.0366, -5.6093, -6.284, -6.2849, -6.347, -6.3161, -5.5071, -4.9913, -4.9927, -4.9934, -5.6702, -5.3146, -5.6761, -5.2377, -5.6781, -5.6788, -5.6829, -5.8561, -5.5791, -5.3343, -5.3405, -5.6928, -5.7105, -3.1868, -3.6211, -4.4236, -4.2546, -5.4175, -5.5207, -4.6742, -4.2522, -4.9587, -4.4246, -4.3713, -4.7779, -4.0359, -4.4809, -4.9869, -4.3463, -4.7044, -4.8651, -5.1147, -4.8024, -5.106, -4.9974, -4.8392, -5.1898, -5.1166, -5.1969], \"loglift\": [30.0, 29.0, 28.0, 27.0, 26.0, 25.0, 24.0, 23.0, 22.0, 21.0, 20.0, 19.0, 18.0, 17.0, 16.0, 15.0, 14.0, 13.0, 12.0, 11.0, 10.0, 9.0, 8.0, 7.0, 6.0, 5.0, 4.0, 3.0, 2.0, 1.0, 1.4378, 1.4378, 1.4346, 1.4245, 1.4215, 1.4175, 1.4155, 1.414, 1.4127, 1.4119, 1.4115, 1.4106, 1.4086, 1.4049, 1.4019, 1.3839, 1.3796, 1.3791, 1.3782, 1.3759, 1.3746, 1.3727, 1.3707, 1.3676, 1.3618, 1.3609, 1.3572, 1.3566, 1.3556, 1.3541, 1.3368, 1.3525, 1.3514, 1.3516, 1.2561, 1.3378, 1.3231, 1.3483, 1.3484, 1.2572, 1.3061, 1.3463, 1.1895, 1.103, 1.1578, 1.2174, 1.22, 1.1028, 1.1761, 1.1903, 1.0372, 1.1814, 0.8999, 0.4464, 0.7977, 1.1348, 1.0436, 0.9326, 1.0438, 1.0281, 1.0254, 0.9087, 0.3253, -0.0643, 0.665, 0.626, 0.4553, 0.256, 0.7133, 1.5139, 1.5125, 1.5117, 1.5109, 1.5076, 1.5072, 1.5063, 1.5049, 1.4997, 1.4954, 1.4907, 1.4897, 1.4892, 1.4885, 1.4856, 1.4855, 1.4849, 1.4818, 1.4811, 1.4808, 1.4805, 1.4802, 1.4652, 1.4651, 1.4647, 1.4628, 1.4628, 1.4589, 1.4575, 1.4467, 1.4465, 1.4196, 1.3694, 1.4262, 1.3324, 1.4199, 1.3338, 1.2969, 1.2893, 1.2868, 1.2289, 1.2663, 1.1429, 1.3296, 1.3776, 1.0789, 1.0386, 1.1774, 0.9864, 1.0056, 1.0956, 0.9737, 1.2848, 1.0152, 1.3143, 1.1714, 0.567, 0.7629, 1.0059, 0.7716, 0.8382, -0.2718, 0.3897, 1.7138, 1.7025, 1.6979, 1.6977, 1.6876, 1.6733, 1.6717, 1.6614, 1.6525, 1.6515, 1.6463, 1.6443, 1.6384, 1.6383, 1.6367, 1.6308, 1.6297, 1.6215, 1.62, 1.6194, 1.6139, 1.6079, 1.6051, 1.6026, 1.6022, 1.602, 1.6009, 1.5995, 1.599, 1.599, 1.5987, 1.5958, 1.5989, 1.5945, 1.5936, 1.5337, 1.5873, 1.5858, 1.5597, 1.5481, 1.4654, 1.5766, 1.5512, 1.4431, 1.4061, 1.0687, 1.3873, 1.4212, 1.3258, 0.9959, 1.0674, 1.3818, 0.8994, 1.2209, 1.0134, 1.0441, 0.8858, 0.7997, 1.1576, 0.1919, 0.1549, 0.1258, 1.0234, 0.7709, 0.2412, 0.8032, -0.245, -0.571, 2.0027, 2.0015, 2.0015, 1.9965, 1.9965, 1.9965, 1.9965, 1.9964, 1.9964, 1.9962, 1.9961, 1.9961, 1.9961, 1.9959, 1.9953, 1.9933, 1.9918, 1.9882, 1.9861, 1.9796, 1.9778, 1.9249, 1.9242, 1.9215, 1.918, 1.9152, 1.8952, 1.8872, 1.879, 1.8737, 1.8484, 1.8091, 1.8458, 1.8606, 1.7111, 1.4282, 1.0824, 0.6708, 0.9049, 0.0159, 0.1828, 1.9436, 1.9395, 1.9373, 1.9372, 1.9371, 1.9364, 1.9346, 1.9308, 1.9298, 1.9282, 1.9227, 1.9214, 1.9205, 1.9193, 1.9191, 1.9181, 1.9174, 1.9136, 1.9099, 1.8983, 1.8979, 1.8841, 1.8379, 1.7693, 1.7544, 1.7459, 1.7401, 1.6794, 1.6583, 1.6164, 1.6, 1.5936, 1.492, 1.4895, 1.1785, 0.6854, 0.4664, 2.1679, 2.155, 2.1536, 2.1351, 2.1351, 2.135, 2.135, 2.1348, 2.1236, 2.1133, 2.1125, 2.1098, 2.1067, 2.1025, 2.0854, 2.0844, 2.0838, 2.0834, 2.0827, 2.0637, 2.0623, 2.0611, 2.0515, 2.0484, 2.0452, 2.0432, 2.0431, 2.0424, 2.0377, 2.0327, 2.0316, 2.0236, 2.0154, 2.0268, 2.027, 1.4891, 1.4764, 1.6749, 1.5398, 1.9363, 1.963, 1.4971, 1.257, 1.6414, 0.9889, 0.7514, 1.1143, 0.2022, 0.5074, 1.234, 0.2357, 0.7946, 0.5867, 1.1063, 0.22, 0.9049, 0.5121, -0.4406, 1.0109, -0.4177, 1.0036]}, \"token.table\": {\"Topic\": [1, 2, 5, 1, 2, 4, 5, 1, 2, 3, 5, 6, 1, 2, 5, 6, 2, 5, 6, 4, 6, 1, 2, 3, 4, 5, 6, 1, 2, 3, 4, 5, 6, 1, 2, 3, 4, 5, 6, 1, 2, 3, 4, 5, 6, 1, 2, 3, 4, 5, 6, 1, 2, 3, 5, 6, 2, 5, 6, 2, 3, 5, 3, 4, 5, 2, 3, 4, 5, 6, 3, 4, 6, 1, 2, 3, 4, 5, 6, 1, 2, 3, 5, 6, 1, 2, 5, 6, 2, 5, 6, 1, 2, 4, 6, 4, 2, 2, 6, 6, 1, 2, 3, 4, 5, 6, 1, 2, 3, 4, 5, 6, 3, 4, 5, 1, 3, 5, 2, 4, 5, 6, 1, 3, 6, 6, 1, 2, 3, 5, 3, 6, 3, 1, 2, 3, 4, 5, 1, 2, 3, 4, 5, 6, 1, 2, 3, 4, 5, 6, 2, 6, 6, 4, 4, 4, 1, 2, 3, 4, 5, 6, 2, 4, 2, 5, 6, 2, 5, 6, 1, 2, 3, 4, 5, 6, 2, 4, 6, 1, 2, 2, 4, 6, 2, 4, 6, 1, 2, 3, 4, 5, 6, 1, 4, 5, 6, 1, 2, 4, 4, 2, 3, 5, 1, 2, 3, 4, 5, 6, 2, 4, 2, 1, 2, 3, 4, 5, 6, 2, 5, 6, 2, 3, 6, 2, 3, 5, 2, 3, 4, 5, 1, 1, 1, 1, 2, 3, 5, 2, 3, 5, 1, 3, 5, 6, 2, 3, 5, 6, 1, 2, 3, 5, 6, 1, 2, 5, 6, 4, 1, 2, 3, 4, 5, 6, 1, 4, 1, 2, 3, 5, 6, 1, 2, 3, 5, 6, 1, 4, 6, 1, 2, 3, 4, 5, 6, 1, 2, 5, 1, 2, 3, 4, 5, 4, 1, 4, 5, 6, 2, 4, 6, 1, 2, 3, 4, 5, 6, 1, 2, 3, 5, 6, 4, 1, 2, 3, 4, 5, 6, 1, 2, 4, 5, 6, 6, 2, 3, 6, 1, 2, 3, 4, 5, 6, 5, 6, 1, 6, 5, 6, 5, 6, 5, 6, 2, 1, 5, 1, 3, 4, 5, 1, 2, 6, 1, 2, 6, 2, 6, 2, 5, 6, 1, 2, 3, 4, 5, 6, 2, 1, 3, 6, 2, 3, 5, 1, 6, 1, 2, 4, 5, 6, 1, 2, 3, 4, 5, 6, 1, 3, 6, 1, 2, 3, 5, 6, 1, 2, 3, 4, 5, 6, 1, 5, 1, 2, 3, 4, 5, 2, 1, 2, 3, 4, 5, 1, 4, 5, 6, 2, 3, 5, 1, 2, 3, 4, 5, 6, 1, 4, 5, 6, 1, 2, 3, 4, 5, 1, 2, 3, 4, 5, 6, 2, 4, 6, 1, 2, 3, 4, 5, 6, 5, 6, 5, 6, 1, 2, 4, 5, 6, 6, 1, 2, 3, 4, 5, 6, 1, 3, 4, 5, 3, 2, 4, 6, 2, 3, 6, 1, 2, 3, 4, 5, 6, 1, 2, 4, 5, 6, 2, 3, 5, 1, 2, 3, 5, 1, 2, 3, 4, 5, 6, 1, 2, 6, 1, 2, 3, 4, 5, 6, 6, 1, 2, 3, 4, 5, 6, 2, 6, 2, 3, 1, 2, 3, 4, 5, 6, 1, 2, 3, 4, 6, 2, 6, 2, 1, 2, 4, 5, 6, 1, 2, 4, 5, 6, 3, 5, 6, 3, 5, 6, 3, 6, 3, 6, 1, 3, 4, 5, 6, 4, 1, 2, 3, 4, 5, 6, 1, 2, 3, 4, 5, 6, 1, 2, 3, 4, 5, 6, 3, 1, 2, 3, 4, 5, 6, 2, 4, 6, 1, 2, 3, 4, 5, 6, 1, 2, 3, 4, 5, 6, 1, 2, 3, 4, 6, 1, 2, 3, 6, 3, 6, 1, 1, 3, 1, 2, 3, 4, 5, 6, 2, 4, 6, 2, 4, 5, 6, 5, 6, 2, 4, 6, 1, 2, 6, 1, 2, 3, 4, 5, 6, 1, 2, 3, 4, 5, 1, 3, 2, 4, 6, 3, 5, 6, 1, 2, 3, 4, 5, 6, 2, 4, 2, 4, 2, 2, 4, 6, 1, 2, 3, 4, 5, 6, 1, 2, 3, 4, 5, 6, 1, 2, 3, 4, 5, 6, 1, 2, 4, 5, 6, 2, 3, 5, 6, 2, 4, 6, 2, 3, 4, 5, 6, 3, 6, 1, 2, 3, 4, 5, 6, 6, 1, 2, 5, 6, 2, 4, 6, 2, 4, 6, 2, 4, 3, 6, 1, 4, 5, 1, 2, 4, 2, 4, 5, 6, 1, 2, 3, 5, 6, 1, 2, 3, 4, 5, 6, 3, 5, 6, 3, 5, 6, 3, 5, 6, 1, 3, 4, 5, 6, 1, 4, 5, 6, 1, 2, 3, 4, 5, 6, 2, 3, 5, 6, 3, 4, 5, 1, 2, 3, 4, 5, 6, 1, 2, 3, 5, 6, 2, 5, 6, 1, 2, 3, 4, 5, 6, 3, 1, 2, 3, 4, 5, 6, 1, 2, 3, 4, 6, 1, 2, 2, 1, 2, 3, 4, 1, 2, 1, 2, 4, 2, 2, 2, 1, 2, 3, 4, 5, 6, 2, 4, 6, 1, 2, 3, 4, 5, 6, 1, 1, 3, 1, 3, 4, 5, 1, 2, 5, 6, 1, 2, 3, 5, 6, 3, 4, 4, 4, 1, 2, 3, 5, 2, 4, 6, 1, 4, 5, 6, 2, 4, 6, 1, 4, 5, 6, 1, 4, 5, 6, 1, 4, 5, 6, 1, 3, 4, 5, 6, 1, 2, 3, 4, 1, 4, 5, 6, 2, 4, 5, 6, 2, 3, 5, 2, 3, 5, 1, 2, 3, 4, 5, 6, 1, 2, 3, 4, 5, 6, 1, 2, 3, 4, 6, 2, 2, 6, 1, 2, 3, 4, 5, 6, 2, 4, 6, 1, 2, 3, 4, 5, 6, 3, 6, 1, 2, 3, 4, 5, 6, 2, 4, 6, 1, 2, 3, 4, 5, 6, 1, 3, 6, 1, 2, 3, 4, 5, 6, 2, 3, 5, 6, 4, 5, 3, 4, 3, 6, 1, 2, 6, 1, 2, 3, 4, 5, 6, 6, 4, 5, 6, 5, 6, 4, 4, 4, 2, 3, 5, 2, 3, 5, 2, 3, 2, 1, 2, 3, 4, 5, 6, 2, 4, 5, 6, 6, 1, 2, 3, 4, 5, 6, 1, 4, 5, 1, 2, 3, 4, 5, 6, 1, 3, 6, 1, 4, 5, 6, 4, 1, 2, 5, 6, 1, 4, 5, 6, 1, 5], \"Freq\": [0.9465309362564555, 0.027839145184013394, 0.027839145184013394, 0.07546393236678867, 0.07546393236678867, 0.07546393236678867, 0.7546393236678867, 0.005614150736490794, 0.03368490441894476, 0.005614150736490794, 0.9319490222574718, 0.02807075368245397, 0.011368515891297998, 0.034105547673893996, 0.9094812713038398, 0.034105547673893996, 0.033817613083556214, 0.9243480909505365, 0.033817613083556214, 0.9332003421601334, 0.04241819737091515, 0.7565712876614027, 0.05043808584409352, 0.01260952146102338, 0.13870473607125716, 0.01260952146102338, 0.03782856438307014, 0.7788013540457407, 0.047200082063378224, 0.011800020515844556, 0.12980022567429012, 0.011800020515844556, 0.03540006154753367, 0.36138918828913774, 0.13939297262581027, 0.11357945917658616, 0.06711513496798273, 0.12906756724612062, 0.1858572968344137, 0.7315598075906421, 0.06153306792818485, 0.006837007547576095, 0.15725117359425017, 0.006837007547576095, 0.03418503773788047, 0.07003552465140209, 0.07003552465140209, 0.03183432938700095, 0.006366865877400189, 0.7831245029202233, 0.03820119526440114, 0.005640007649248106, 0.033840045895488634, 0.005640007649248106, 0.9306012621259375, 0.02820003824624053, 0.045333541629409474, 0.9180042179955419, 0.034000156222057105, 0.09802816221126139, 0.8822534599013525, 0.016338027035210232, 0.8807054120201732, 0.07339211766834776, 0.07339211766834776, 0.02116646806294999, 0.5926611057625997, 0.03174970209442498, 0.28574731884982485, 0.06349940418884996, 0.04792171949204114, 0.04792171949204114, 0.8625909508567405, 0.02001596601743545, 0.07005588106102406, 0.15011974513076587, 0.050039915043588616, 0.2101676431830722, 0.5003991504358862, 0.16448690386797032, 0.05693777441583588, 0.025305677518149283, 0.6642740348514187, 0.0885698713135225, 0.011380512970161702, 0.045522051880646806, 0.9104410376129362, 0.0341415389104851, 0.03350371134968971, 0.926936014008082, 0.02233580756645981, 0.12867264349284133, 0.008042040218302583, 0.8202881022668634, 0.04021020109151291, 0.991493325676586, 0.9822563275907489, 0.9353220031303695, 0.9158599465267045, 0.9290381248535217, 0.8070468906812036, 0.06253868894577592, 0.029780328069417106, 0.03275836087635882, 0.03871442649024224, 0.03275836087635882, 0.037573122962419596, 0.10019499456645226, 0.751462459248392, 0.025048748641613064, 0.012524374320806532, 0.07514624592483919, 0.8893780778591903, 0.04940989321439946, 0.04940989321439946, 0.9327653073690871, 0.02520987317213749, 0.02520987317213749, 0.035561778792683935, 0.035561778792683935, 0.8534826910244143, 0.10668533637805179, 0.6534666646023195, 0.05105208317205621, 0.296102082397926, 0.9014573179923502, 0.03121629104777805, 0.03121629104777805, 0.8428398582900073, 0.0624325820955561, 0.933769010378793, 0.04446519097041871, 0.8467740497954368, 0.0369789581164456, 0.4067685392809017, 0.4807264555137929, 0.05546843717466841, 0.0184894790582228, 0.06268757709878582, 0.7000112776031084, 0.1514949779887324, 0.005223964758232152, 0.06268757709878582, 0.015671894274696455, 0.03172499096855789, 0.7825497772244279, 0.02643749247379824, 0.005287498494759648, 0.12689996387423155, 0.02643749247379824, 0.9461177912646499, 0.023652944781616246, 0.9013653589404217, 0.9855522977319476, 0.9855564187935212, 0.9855553643981041, 0.21625488032855467, 0.13275052059772663, 0.2034080557545811, 0.1605853071746693, 0.26550104119545326, 0.021411374289955907, 0.13197399739524887, 0.8504990943249372, 0.03350634340949481, 0.9270088343293563, 0.022337562272996537, 0.04570429675480626, 0.9026598609074236, 0.034278222566104695, 0.5636270922466872, 0.04987850373864488, 0.004987850373864488, 0.33418597504892067, 0.009975700747728976, 0.039902802990915906, 0.042429916565541535, 0.9334581644419138, 0.042429916565541535, 0.9272556041301244, 0.04214798200591475, 0.04714566588936235, 0.04714566588936235, 0.8486219860085222, 0.047165151144299075, 0.047165151144299075, 0.8961378717416824, 0.03812655143171404, 0.320263032026398, 0.47276923775325413, 0.10294168886562792, 0.04956451686122826, 0.022875930859028427, 0.8774075461624999, 0.03814815418097826, 0.05722223127146739, 0.01907407709048913, 0.9081623323191287, 0.053421313665831104, 0.026710656832915552, 0.9854188535083412, 0.06939213505296707, 0.8095749089512825, 0.11565355842161178, 0.020588831771728884, 0.8166903269452458, 0.054903551391277026, 0.006862943923909628, 0.08235532708691554, 0.020588831771728884, 0.9194147241347398, 0.0437816535302257, 0.9833858393218488, 0.02661626650861147, 0.7878414886548996, 0.03726277311205606, 0.005323253301722294, 0.11178831933616817, 0.02661626650861147, 0.045466921099718574, 0.9093384219943715, 0.034100190824788934, 0.1081768991451011, 0.8113267435882583, 0.027044224786275276, 0.11505947652972259, 0.8547275399350821, 0.016437068075674657, 0.04726551545277488, 0.8271465204235604, 0.04726551545277488, 0.04726551545277488, 0.9385030902081182, 0.9378629629413435, 0.9390832525023655, 0.9369775743158908, 0.11795551104624878, 0.8551774550853036, 0.029488877761562195, 0.1214125516178131, 0.8609253660172201, 0.011037504692528463, 0.046501571793023215, 0.7285246247573637, 0.1550052393100774, 0.0775026196550387, 0.03248698420031372, 0.03248698420031372, 0.8879775681419084, 0.03248698420031372, 0.005655935095747759, 0.03959154567023431, 0.005655935095747759, 0.9275733557026324, 0.022623740382991035, 0.01157820299792756, 0.0578910149896378, 0.8915216308404221, 0.03473460899378268, 0.9882917264635063, 0.5838653033420599, 0.008109240324195277, 0.3324788532920063, 0.056764682269366935, 0.016218480648390553, 0.008109240324195277, 0.020414381506025453, 0.9696831215362091, 0.05021645295919949, 0.05021645295919949, 0.12195424290091304, 0.7173778994171356, 0.05739023195337085, 0.4944365247783093, 0.042623838342957694, 0.16197058570323924, 0.017049535337183078, 0.2813173330635208, 0.906515936097525, 0.9817986648852902, 0.010334722788266214, 0.16332252346827486, 0.03550489640614671, 0.09231273065598143, 0.021302937843688023, 0.6603910731543288, 0.03550489640614671, 0.8483337559890824, 0.01696667511978165, 0.1357334009582532, 0.14325035620446336, 0.007958353122470186, 0.06366682497976149, 0.7401268403897273, 0.031833412489880746, 0.98554233124175, 0.8856312157825869, 0.05060749804471925, 0.05060749804471925, 0.025303749022359625, 0.02899938649037802, 0.8699815947113406, 0.08699815947113407, 0.05723010413995127, 0.2098437151798213, 0.18313633324784406, 0.09156816662392203, 0.43494879146362964, 0.026707381931977258, 0.0037853916323195083, 0.0454246995878341, 0.0037853916323195083, 0.9122793833890015, 0.034068524690875575, 0.9855108244571522, 0.10991124513426756, 0.04486173270786431, 0.19739162391460296, 0.10542507186348113, 0.04486173270786431, 0.49796523305729384, 0.3191240129907924, 0.024548000999291723, 0.3962748732742807, 0.021041143713678618, 0.238466295421691, 0.9347418526840752, 0.9349365630473361, 0.02124855825107582, 0.02124855825107582, 0.15484130678311053, 0.03612963824939246, 0.17032543746142156, 0.20129369881804368, 0.046452392034933156, 0.397426020743317, 0.18589045126304513, 0.8179179855573985, 0.11148715712923267, 0.836153678469245, 0.05252033470314876, 0.9453660246566777, 0.03199714207365566, 0.9599142622096698, 0.016317342468793187, 0.9627232056587979, 0.968969152070731, 0.9622820697400223, 0.05064642472315907, 0.018178178944408437, 0.9452653051092387, 0.018178178944408437, 0.018178178944408437, 0.09056027848564538, 0.8942827500457482, 0.011320034810705672, 0.013450369510648489, 0.9684266047666913, 0.013450369510648489, 0.9212093559854271, 0.04606046779927135, 0.1240035142449848, 0.6820193283474164, 0.1240035142449848, 0.03233530547673023, 0.4979637043416456, 0.28455068819522605, 0.15520946628830512, 0.01940118328603814, 0.012934122190692093, 0.9842050572077182, 0.6204945692565256, 0.03155057131812842, 0.3365394273933698, 0.09663060586848338, 0.8696754528163504, 0.03221020195616112, 0.8774906468357102, 0.06267790334540788, 0.8899008747803221, 0.01534311853069521, 0.03068623706139042, 0.04602935559208563, 0.01534311853069521, 0.4490269418249223, 0.019810012139334806, 0.3763902306473613, 0.013206674759556537, 0.013206674759556537, 0.1254634102157871, 0.6389493597591571, 0.04122253933930046, 0.30916904504475345, 0.02051229922119959, 0.04102459844239918, 0.030768448831799387, 0.8820288665115824, 0.02051229922119959, 0.5653950054327943, 0.008566590991405974, 0.08566590991405974, 0.04283295495702987, 0.1284988648710896, 0.16276522883671352, 0.4031337348031808, 0.5928437276517365, 0.20749191944361528, 0.19847053164171896, 0.48715494130240106, 0.009021387801896315, 0.09923526582085948, 0.9507085390534964, 0.05762589592874551, 0.08232270846963644, 0.8067625430024371, 0.008232270846963643, 0.04116135423481822, 0.09795265468230338, 0.032650884894101125, 0.06530176978820225, 0.783621237458427, 0.12902958835499345, 0.8386923243074574, 0.03225739708874836, 0.2949283893280515, 0.040836238522345594, 0.3856755860443751, 0.013612079507448532, 0.2359427114624412, 0.022686799179080886, 0.88525470335804, 0.02529299152451543, 0.05058598304903086, 0.02529299152451543, 0.033507901095749, 0.033507901095749, 0.8712054284894739, 0.033507901095749, 0.033507901095749, 0.05790627979343193, 0.46904086632679864, 0.06369690777277512, 0.2547876310911005, 0.13897507150423663, 0.01737188393802958, 0.06523121912947821, 0.913237067812695, 0.02174373970982607, 0.46525461084491276, 0.07384993822935124, 0.2584747838027293, 0.007384993822935123, 0.02215498146880537, 0.17723985175044296, 0.04670326518330583, 0.9340653036661166, 0.04689477186215939, 0.9378954372431878, 0.8602353766192927, 0.03246171232525633, 0.03246171232525633, 0.048692568487884495, 0.03246171232525633, 0.9506252246868075, 0.012768678919609639, 0.012768678919609639, 0.7150460194981397, 0.025537357839219278, 0.012768678919609639, 0.24260489947258312, 0.01816642230607899, 0.9628203822221865, 0.01816642230607899, 0.01816642230607899, 0.9256323540970572, 0.048432214959307204, 0.048432214959307204, 0.8959959767471832, 0.9370059131998824, 0.028394118581814617, 0.028394118581814617, 0.35803284361492976, 0.16486163496687464, 0.21148916808881899, 0.026644304641111054, 0.21315443712888843, 0.024979035601041612, 0.8747357806082056, 0.06758444221034701, 0.007723936252611087, 0.009654920315763859, 0.040550665326208206, 0.09652605352421492, 0.8687344817179343, 0.032175351174738305, 0.044970765533232857, 0.8994153106646571, 0.022485382766616428, 0.022485382766616428, 0.022462652442339717, 0.5799448448749527, 0.06738795732701915, 0.12048149946345849, 0.06943001663995912, 0.1429441519057982, 0.030005130810741597, 0.9301590551329896, 0.030005130810741597, 0.0046902199513506335, 0.4643317751837127, 0.028141319708103803, 0.009380439902701267, 0.1969892379567266, 0.30017407688644054, 0.9506418845988014, 0.011899506861680554, 0.6357736523240753, 0.09859591399678173, 0.13599436413349203, 0.045898097895053565, 0.07309697072175197, 0.9211253969651036, 0.046056269848255185, 0.9362503697260552, 0.9640081883793736, 0.10595395358351319, 0.1648172611299094, 0.6592690445196376, 0.011772661509279244, 0.03531798452783773, 0.023545323018558488, 0.11392057198409089, 0.7974440038886362, 0.014240071498011361, 0.028480142996022723, 0.042720214494034084, 0.9800788121134703, 0.009899785980944143, 0.9556390225539514, 0.8916249106602953, 0.03566499642641181, 0.02377666428427454, 0.02377666428427454, 0.03566499642641181, 0.9038379261557481, 0.02410234469748662, 0.006025586174371655, 0.01205117234874331, 0.05423027556934489, 0.8960609326090313, 0.04716110171626481, 0.04716110171626481, 0.9103299017699502, 0.03139068626792932, 0.06278137253585864, 0.13087286261762, 0.85067360701453, 0.8920920640770887, 0.06862246646746836, 0.6949453321938597, 0.014786070897741695, 0.014786070897741695, 0.10350249628419186, 0.17743285077290036, 0.9855216044714168, 0.026435697008797217, 0.2951986165982356, 0.4273771016422217, 0.1365844345454523, 0.01762379800586481, 0.09693088903225647, 0.03467457718032253, 0.3814203489835479, 0.5067822818662524, 0.05601277852205948, 0.021338201341736945, 0.002667275167717118, 0.010515597666380666, 0.010515597666380666, 0.5573266763181753, 0.031546792999142, 0.010515597666380666, 0.38907711365608466, 0.9625204742857163, 0.038986173785728884, 0.5945391502323655, 0.07797234757145777, 0.009746543446432221, 0.07797234757145777, 0.19980414065186053, 0.9656790945601044, 0.02245765336186289, 0.9506443340907758, 0.012263817107998225, 0.5917291754609143, 0.15942962240397693, 0.012263817107998225, 0.03985740560099423, 0.18702321089697294, 0.02220536230036132, 0.7391213451405982, 0.02220536230036132, 0.003172194614337331, 0.07296047612975862, 0.13957656303084257, 0.010233559931271154, 0.6958820753264384, 0.05116779965635577, 0.040934239725084615, 0.1944376386941519, 0.01903046914752687, 0.9705539265238705, 0.09106101358028677, 0.8802564646094388, 0.09834334245218493, 0.8523089679189361, 0.9521958924859822, 0.9646412564904415, 0.02538529622343267, 0.010135257722512598, 0.6776143734479851, 0.05501997049363982, 0.0883215315818955, 0.03185366712789674, 0.13754992623409953, 0.7675336395608834, 0.2186013530394921, 0.009715615690644093, 0.44620449950781016, 0.013729369215624928, 0.013729369215624928, 0.5217160301937472, 0.04696634934269975, 0.939326986853995, 0.04706969992230112, 0.09413939984460223, 0.84725459860142, 0.007896871472557711, 0.9792120625971561, 0.007896871472557711, 0.020554863579288082, 0.8486222249163222, 0.03817331807582072, 0.014682045413777201, 0.06460099982061969, 0.014682045413777201, 0.03150111620437303, 0.8505301375180718, 0.06300223240874606, 0.03150111620437303, 0.015750558102186514, 0.01817784819466182, 0.9634259543170766, 0.042445459440442916, 0.8913546482493012, 0.042445459440442916, 0.04134092697303013, 0.04134092697303013, 0.9095003934066628, 0.01805915130980007, 0.8186815260442698, 0.024078868413066758, 0.006019717103266689, 0.1203943420653338, 0.01805915130980007, 0.9655678130728382, 0.022455065420298563, 0.919619613819192, 0.04379141018186629, 0.935270028050882, 0.021548282526855103, 0.8834795836010593, 0.08619313010742041, 0.7791809630381371, 0.06493174691984477, 0.010821957819974127, 0.1190415360197154, 0.010821957819974127, 0.032465873459922384, 0.7572761530046881, 0.0572729863616991, 0.0063636651512999, 0.1336369681772979, 0.0127273303025998, 0.038181990907799404, 0.746400901968281, 0.050603450980900404, 0.012650862745225101, 0.13915949019747612, 0.012650862745225101, 0.03795258823567531, 0.8984321103296093, 0.016637631672770544, 0.016637631672770544, 0.016637631672770544, 0.04991289501831163, 0.03188369142662186, 0.010627897142207288, 0.924627051372034, 0.03188369142662186, 0.04714112854085305, 0.04714112854085305, 0.8485403137353549, 0.03722066984983195, 0.18610334924915975, 0.13957751193686982, 0.027915502387373965, 0.5955307175973112, 0.9078741284259515, 0.09556569772904754, 0.08891025221373179, 0.05813362644744002, 0.2222756305343295, 0.08207100204344474, 0.05471400136229649, 0.4924260122606684, 0.8627125153056944, 0.9474905702467514, 0.01414165030219032, 0.01414165030219032, 0.01414165030219032, 0.024204973146920016, 0.07261491944076004, 0.8713790332891205, 0.047111952210509574, 0.047111952210509574, 0.8480151397891723, 0.010296021177914678, 0.9781220119018944, 0.9372100157874017, 0.05206722309930009, 0.9137765446452997, 0.028555517020165615, 0.028555517020165615, 0.9058485830358831, 0.05328521076681665, 0.026642605383408326, 0.36876744281536716, 0.015365310117306965, 0.015365310117306965, 0.5838817844576647, 0.17994888478781887, 0.7760295656474688, 0.01124680529923868, 0.02249361059847736, 0.01124680529923868, 0.5103902116624803, 0.19359628718232014, 0.035199324942240026, 0.21559586527122016, 0.02639949370668002, 0.021999578088900018, 0.8833368365705302, 0.04649141245108054, 0.04649141245108054, 0.8696225938486652, 0.04576961020256133, 0.09153922040512266, 0.8988256645787525, 0.024292585529155475, 0.04858517105831095, 0.27785009639458425, 0.12474902287103783, 0.5613706029196702, 0.011340820261003439, 0.028352050652508596, 0.8793752356290384, 0.04396876178145192, 0.05862501570860256, 0.01465625392715064, 0.12506438873282236, 0.1429307299803684, 0.09826487686150327, 0.01786634124754605, 0.5940558464809061, 0.01786634124754605, 0.04299624002549328, 0.01074906000637332, 0.9136701005417323, 0.03224718001911996, 0.885517694223676, 0.05903451294824507, 0.05903451294824507, 0.007698968630398558, 0.06929071767358702, 0.06929071767358702, 0.007698968630398558, 0.7698968630398558, 0.07698968630398557, 0.005684858217890072, 0.039794007525230504, 0.005684858217890072, 0.9209470312981917, 0.02842429108945036, 0.03352494307122551, 0.9275234249705726, 0.022349962047483678, 0.1455545869608642, 0.02911091739217284, 0.7423283935004075, 0.04366637608825926, 0.04366637608825926, 0.01455545869608642, 0.8663250484348257, 0.715962256029832, 0.05682240127220889, 0.022728960508883556, 0.12500928279885956, 0.034093440763325336, 0.04545792101776711, 0.009656211999304012, 0.820778019940841, 0.009656211999304012, 0.1544993919888642, 0.009656211999304012, 0.013186045634110353, 0.9757673769241662, 0.9362030845215018, 0.09406394873371625, 0.01881278974674325, 0.8653883283501895, 0.01881278974674325, 0.8794539657841706, 0.05173258622259826, 0.90502003002882, 0.05323647235463647, 0.026618236177318236, 0.9362724875410448, 0.9363045335408191, 0.9362929537126417, 0.012522621303630146, 0.5729099246410793, 0.09705031510313364, 0.26297504737623306, 0.03756786391089044, 0.01878393195544522, 0.04241477900665698, 0.9331251381464536, 0.04241477900665698, 0.03171874740977963, 0.7823957694412309, 0.03171874740977963, 0.005286457901629939, 0.12687498963911853, 0.026432289508149694, 0.9599703044828022, 0.9646513805490433, 0.025385562646027454, 0.9394193912211732, 0.8816679803258194, 0.07347233169381828, 0.07347233169381828, 0.01128052150570186, 0.0564026075285093, 0.9024417204561488, 0.03384156451710558, 0.005658517056133027, 0.03960961939293119, 0.005658517056133027, 0.9279967972058164, 0.028292585280665136, 0.020529583370974106, 0.97515521012127, 0.9915038384611095, 0.9855522410018289, 0.044986646330250395, 0.8997329266050078, 0.022493323165125197, 0.022493323165125197, 0.04843375872426638, 0.04843375872426638, 0.8718076570367949, 0.14609937093293754, 0.036524842733234385, 0.6574471691982189, 0.18262421366617193, 0.04316949886456507, 0.8633899772913014, 0.08633899772913015, 0.8932113533715731, 0.04580571042931144, 0.04580571042931144, 0.02290285521465572, 0.8810846778685011, 0.019154014736271763, 0.07661605894508705, 0.019154014736271763, 0.8967217842636628, 0.037363407677652616, 0.056045111516478924, 0.018681703838826308, 0.1645803718931926, 0.691237561951409, 0.016458037189319263, 0.04937411156795778, 0.06583214875727705, 0.07929271062862607, 0.015858542125725215, 0.8722198169148868, 0.015858542125725215, 0.8968286169452172, 0.03843551215479502, 0.0512473495397267, 0.012811837384931675, 0.042214174914857565, 0.042214174914857565, 0.042214174914857565, 0.8442834982971513, 0.2815859273953373, 0.697260391645597, 0.01340885368549225, 0.09657993876575649, 0.8692194488918085, 0.03219331292191883, 0.08540160715487914, 0.6452565873924202, 0.08540160715487914, 0.014233601192479857, 0.04744533730826619, 0.11861334327066547, 0.029840331436084264, 0.6105790893844935, 0.1354291965176132, 0.1239521459652731, 0.025249511215148224, 0.07345312353497666, 0.008026186297676829, 0.5939377860280853, 0.20868084373959755, 0.1685499122512134, 0.024078558893030486, 0.9061460485468303, 0.9212630087630307, 0.04606315043815153, 0.111684582192171, 0.09074372303113894, 0.3908960376725985, 0.04188171832206413, 0.2652508827064061, 0.10470429580516032, 0.02152462840905194, 0.8825097647711295, 0.06457388522715582, 0.33156478328308253, 0.054133025842135925, 0.4939638608094903, 0.013533256460533981, 0.09473279522373787, 0.013533256460533981, 0.8567007548247587, 0.0901790268236588, 0.11725820756904752, 0.13680124216388878, 0.42017524378908694, 0.06351486243323408, 0.14168700081259908, 0.11725820756904752, 0.047145320732977614, 0.047145320732977614, 0.848615773193597, 0.6916430856793045, 0.01773443809434114, 0.12414106666038799, 0.01773443809434114, 0.03990248571226757, 0.11084023808963214, 0.6387873075818593, 0.051515105450149944, 0.3090906327008997, 0.42893588884161604, 0.15769701795647648, 0.2460073480121033, 0.025231522873036236, 0.13246549508344024, 0.012615761436518118, 0.01910911822344744, 0.8981285565020296, 0.05732735467034232, 0.03821823644689488, 0.9838406243406949, 0.010248339836882238, 0.0035607334454328126, 0.9934446312757547, 0.09885284296915538, 0.8567246390660133, 0.8994102365431428, 0.03597640946172571, 0.03597640946172571, 0.030652155341883626, 0.11239123625357329, 0.5057605631410799, 0.01021738511396121, 0.09195646602565087, 0.2503259352920496, 0.9862497836195827, 0.050762595620692116, 0.7614389343103818, 0.15228778686207636, 0.9095045868014007, 0.05684403667508754, 0.9855306081913713, 0.9855089494664233, 0.9855538444060405, 0.06188995862219869, 0.8664594207107816, 0.041259972414799125, 0.11524064405644568, 0.8560733558478822, 0.01646294915092081, 0.1290732329631561, 0.8389760142605147, 0.9823563984780516, 0.015140451439548007, 0.27252812591186415, 0.007570225719774003, 0.28766857735141216, 0.07570225719774004, 0.34066015738983013, 0.08700844094585321, 0.8918365196949954, 0.016325854507083386, 0.9632254159179198, 0.9506501742378943, 0.7405780789363977, 0.011571532483381214, 0.16200145476733702, 0.034714597450143644, 0.034714597450143644, 0.011571532483381214, 0.9012567377832218, 0.03918507555579225, 0.058777613333688375, 0.6457897600996618, 0.007597526589407787, 0.13675547860934015, 0.02279257976822336, 0.02279257976822336, 0.15954805837756353, 0.6522772057725319, 0.05095915670097906, 0.28537127752548275, 0.11584439537540525, 0.8522837659761958, 0.016549199339343606, 0.016549199339343606, 0.9854967599533899, 0.8021575644075736, 0.08443763835869196, 0.03166411438450949, 0.08443763835869196, 0.9069275872136116, 0.01850872626966554, 0.05552617880899662, 0.01850872626966554, 0.962212343821731, 0.05064275493798585], \"Term\": [\"achievement\", \"achievement\", \"achievement\", \"actually\", \"actually\", \"actually\", \"actually\", \"acupuncture\", \"acupuncture\", \"acupuncture\", \"acupuncture\", \"acupuncture\", \"acupuncture_really\", \"acupuncture_really\", \"acupuncture_really\", \"acupuncture_really\", \"acupuncture_reduces\", \"acupuncture_reduces\", \"acupuncture_reduces\", \"addiction_onlinetherapy\", \"addiction_onlinetherapy\", \"addictionrecovery\", \"addictionrecovery\", \"addictionrecovery\", \"addictionrecovery\", \"addictionrecovery\", \"addictionrecovery\", \"addictionrecovery_bipolar\", \"addictionrecovery_bipolar\", \"addictionrecovery_bipolar\", \"addictionrecovery_bipolar\", \"addictionrecovery_bipolar\", \"addictionrecovery_bipolar\", \"adhd\", \"adhd\", \"adhd\", \"adhd\", \"adhd\", \"adhd\", \"adhd_selfhelp\", \"adhd_selfhelp\", \"adhd_selfhelp\", \"adhd_selfhelp\", \"adhd_selfhelp\", \"adhd_selfhelp\", \"always\", \"always\", \"always\", \"always\", \"always\", \"always\", \"always_known\", \"always_known\", \"always_known\", \"always_known\", \"always_known\", \"always_known_beneficial_good\", \"always_known_beneficial_good\", \"always_known_beneficial_good\", \"another_friend\", \"another_friend\", \"another_friend\", \"anxiety_spravato\", \"anxiety_spravato\", \"anxiety_spravato\", \"anyone_else\", \"anyone_else\", \"anyone_else\", \"anyone_else\", \"anyone_else\", \"architecture\", \"architecture\", \"architecture\", \"autism\", \"autism\", \"autism\", \"autism\", \"autism\", \"autism\", \"back\", \"back\", \"back\", \"back\", \"back\", \"beneficial\", \"beneficial\", \"beneficial\", \"beneficial\", \"beneficial_good\", \"beneficial_good\", \"beneficial_good\", \"best\", \"best\", \"best\", \"best\", \"best_fictional\", \"better_without\", \"better_without_using_medication\", \"bilbao\", \"bilbaobilbao2021\", \"bipolar\", \"bipolar\", \"bipolar\", \"bipolar\", \"bipolar\", \"bipolar\", \"blog\", \"blog\", \"blog\", \"blog\", \"blog\", \"blog\", \"brainsway\", \"brainsway\", \"brainsway\", \"business\", \"business\", \"business\", \"care\", \"care\", \"care\", \"care\", \"case_didn\", \"case_didn\", \"case_didn\", \"city_hive\", \"common\", \"common\", \"common\", \"common\", \"community_preview\", \"community_preview\", \"community_preview_racing_sport\", \"compulsive\", \"compulsive\", \"compulsive\", \"compulsive\", \"compulsive\", \"contact\", \"contact\", \"contact\", \"contact\", \"contact\", \"contact\", \"contact_looking\", \"contact_looking\", \"contact_looking\", \"contact_looking\", \"contact_looking\", \"contact_looking\", \"contact_schedule\", \"contact_schedule\", \"culture\", \"depiction\", \"depiction_read\", \"depiction_read_hard_hitting\", \"depression\", \"depression\", \"depression\", \"depression\", \"depression\", \"depression\", \"depression_email\", \"depression_email\", \"depression_enhances\", \"depression_enhances\", \"depression_enhances\", \"depression_enhances_ssri_performance\", \"depression_enhances_ssri_performance\", \"depression_enhances_ssri_performance\", \"depression_ptsd\", \"depression_ptsd\", \"depression_ptsd\", \"depression_ptsd\", \"depression_ptsd\", \"depression_ptsd\", \"depression_ptsd_addiction_onlinetherapy\", \"depression_ptsd_addiction_onlinetherapy\", \"depression_ptsd_addiction_onlinetherapy\", \"depressionawareness\", \"depressionawareness\", \"developed_peter\", \"developed_peter\", \"developed_peter\", \"developed_peter_strong_ocdtreatment\", \"developed_peter_strong_ocdtreatment\", \"developed_peter_strong_ocdtreatment\", \"disorder\", \"disorder\", \"disorder\", \"disorder\", \"disorder\", \"disorder\", \"drink_litre\", \"drink_litre\", \"drink_litre\", \"drink_litre\", \"dronfield_derbyshire\", \"dronfield_derbyshire\", \"dronfield_derbyshire\", \"dying\", \"dyslexia_dyspraxia\", \"dyslexia_dyspraxia\", \"dyslexia_dyspraxia\", \"effective\", \"effective\", \"effective\", \"effective\", \"effective\", \"effective\", \"effective_help\", \"effective_help\", \"effective_notice\", \"effective_online\", \"effective_online\", \"effective_online\", \"effective_online\", \"effective_online\", \"effective_online\", \"enhances\", \"enhances\", \"enhances\", \"enjoy\", \"enjoy\", \"enjoy\", \"enjoy_tweet\", \"enjoy_tweet\", \"enjoy_tweet\", \"episode\", \"episode\", \"episode\", \"episode\", \"erpsoftware\", \"erpsoftware_technology\", \"erpsolutions\", \"erpsystem\", \"eupd\", \"eupd\", \"eupd\", \"eupd_anxiety\", \"eupd_anxiety\", \"eupd_anxiety\", \"even\", \"even\", \"even\", \"even\", \"evidence\", \"evidence\", \"evidence\", \"evidence\", \"evidence_back\", \"evidence_back\", \"evidence_back\", \"evidence_back\", \"evidence_back\", \"evidence_back_acupuncture_really\", \"evidence_back_acupuncture_really\", \"evidence_back_acupuncture_really\", \"evidence_back_acupuncture_really\", \"fabulous\", \"feel_like\", \"feel_like\", \"feel_like\", \"feel_like\", \"feel_like\", \"feel_like\", \"fictional\", \"fictional\", \"find\", \"find\", \"find\", \"find\", \"find\", \"first\", \"first\", \"first\", \"first\", \"first\", \"generalisedanxietydisorder\", \"gold\", \"gold\", \"good\", \"good\", \"good\", \"good\", \"good\", \"good\", \"guy_dropped\", \"guy_dropped\", \"guy_dropped\", \"hard\", \"hard\", \"hard\", \"hard\", \"hard\", \"hard_hitting\", \"harm\", \"harm\", \"harm\", \"harm\", \"health_recommend\", \"health_recommend\", \"health_recommend\", \"help\", \"help\", \"help\", \"help\", \"help\", \"help\", \"help_mentalhealth\", \"help_mentalhealth\", \"help_mentalhealth\", \"help_mentalhealth\", \"help_mentalhealth\", \"hitting\", \"hive\", \"hive\", \"hive\", \"hive\", \"hive\", \"hive\", \"hive_hiveblogshare\", \"hive_hiveblogshare\", \"hive_hiveblogshare\", \"hive_hiveblogshare\", \"hive_hiveblogshare\", \"hive_originalcontent\", \"hive_peakd\", \"hive_peakd\", \"hive_peakd\", \"hiveblogshare\", \"hiveblogshare\", \"hiveblogshare\", \"hiveblogshare\", \"hiveblogshare\", \"hiveblogshare\", \"hiveblogshare_photography\", \"hiveblogshare_photography\", \"hivemind\", \"hivemind\", \"hivetrending\", \"hivetrending\", \"hiveworks\", \"hiveworks\", \"hiveworks_hiveblogshare\", \"hiveworks_hiveblogshare\", \"huge_improvement\", \"hunt\", \"hunt\", \"image_contact\", \"image_contact\", \"image_contact\", \"image_contact\", \"improvement\", \"improvement\", \"improvement\", \"improvement_session\", \"improvement_session\", \"improvement_session\", \"improvement_session_online_psychotherapy\", \"improvement_session_online_psychotherapy\", \"interested\", \"interested\", \"interested\", \"intrusivethoughts\", \"intrusivethoughts\", \"intrusivethoughts\", \"intrusivethoughts\", \"intrusivethoughts\", \"intrusivethoughts\", \"intrusivethoughts_ocdtreatment\", \"issue_managed\", \"issue_managed\", \"issue_managed\", \"iwillnotletmymhkillme_retweet\", \"iwillnotletmymhkillme_retweet\", \"iwillnotletmymhkillme_retweet\", \"job\", \"job\", \"keep_distracted\", \"keep_distracted\", \"keep_distracted\", \"keep_distracted\", \"keep_distracted\", \"know\", \"know\", \"know\", \"know\", \"know\", \"know\", \"know_fucking\", \"know_fucking\", \"know_fucking\", \"known\", \"known\", \"known\", \"known\", \"known\", \"last\", \"last\", \"last\", \"last\", \"last\", \"last\", \"last_night\", \"last_night\", \"learn\", \"learn\", \"learn\", \"learn\", \"learn\", \"learn_manage\", \"learn_more\", \"learn_more\", \"learn_more\", \"learn_more\", \"learn_more\", \"leofinance\", \"leofinance\", \"leofinance\", \"leofinance\", \"letsbeatmentalhealthtogether\", \"letsbeatmentalhealthtogether\", \"letsbeatmentalhealthtogether\", \"like\", \"like\", \"like\", \"like\", \"like\", \"like\", \"litre\", \"litre\", \"litre\", \"litre\", \"long\", \"long\", \"long\", \"long\", \"long\", \"looking\", \"looking\", \"looking\", \"looking\", \"looking\", \"looking\", \"looking_online\", \"looking_online\", \"looking_online\", \"make\", \"make\", \"make\", \"make\", \"make\", \"make\", \"managing\", \"managing\", \"managing_visit\", \"managing_visit\", \"med\", \"med\", \"med\", \"med\", \"med\", \"medication_online\", \"memory\", \"memory\", \"memory\", \"memory\", \"memory\", \"memory\", \"memory_memory\", \"memory_memory\", \"memory_memory\", \"memory_memory\", \"memory_memory_image_contact\", \"memory_using\", \"memory_using\", \"memory_using\", \"mental_health\", \"mental_health\", \"mental_health\", \"mentalhealth\", \"mentalhealth\", \"mentalhealth\", \"mentalhealth\", \"mentalhealth\", \"mentalhealth\", \"mentalhealth_bipolar\", \"mentalhealth_bipolar\", \"mentalhealth_bipolar\", \"mentalhealth_bipolar\", \"mentalhealth_bipolar\", \"mentalhealth_letsbeatmentalhealthtogether\", \"mentalhealth_letsbeatmentalhealthtogether\", \"mentalhealth_letsbeatmentalhealthtogether\", \"mentalillness_motivation\", \"mentalillness_motivation\", \"mentalillness_motivation\", \"mentalillness_motivation\", \"mindfulness\", \"mindfulness\", \"mindfulness\", \"mindfulness\", \"mindfulness\", \"mindfulness\", \"mindfulness_based\", \"mindfulness_based\", \"mindfulness_based\", \"mindfulness_depressio\", \"mindfulness_depressio\", \"mindfulness_depressio\", \"mindfulness_depressio\", \"mindfulness_depressio\", \"mindfulness_depressio\", \"mindfulness_therapist\", \"mindfulness_therapy\", \"mindfulness_therapy\", \"mindfulness_therapy\", \"mindfulness_therapy\", \"mindfulness_therapy\", \"mindfulness_therapy\", \"mindfulness_therapy_contact_schedule\", \"mindfulness_therapy_contact_schedule\", \"mindfulness_therapy_effective_notice\", \"misconception\", \"more\", \"more\", \"more\", \"more\", \"more\", \"more\", \"most\", \"most\", \"most\", \"most\", \"most\", \"most_people\", \"most_people\", \"most_people_huge_improvement\", \"mother\", \"mother\", \"mother\", \"mother\", \"mother\", \"mother_partner\", \"mother_partner\", \"mother_partner\", \"mother_partner\", \"mother_partner\", \"motorsport\", \"motorsport\", \"motorsport\", \"motorsport_posh\", \"motorsport_posh\", \"motorsport_posh\", \"must_place\", \"must_place\", \"nascar\", \"nascar\", \"night\", \"night\", \"night\", \"night\", \"night\", \"noir\", \"obsessive\", \"obsessive\", \"obsessive\", \"obsessive\", \"obsessive\", \"obsessive\", \"obsessive_compulsive\", \"obsessive_compulsive\", \"obsessive_compulsive\", \"obsessive_compulsive\", \"obsessive_compulsive\", \"obsessive_compulsive\", \"obsessive_intrusive\", \"obsessive_intrusive\", \"obsessive_intrusive\", \"obsessive_intrusive\", \"obsessive_intrusive\", \"obsessive_intrusive\", \"obsessive_intrusive_thought_traumatic\", \"ocdawareness\", \"ocdawareness\", \"ocdawareness\", \"ocdawareness\", \"ocdawareness\", \"ocdawareness\", \"ocdawareness_intrusivethoughts\", \"ocdawareness_intrusivethoughts\", \"ocdawareness_onlinetherapistforocd\", \"ocdrecovery\", \"ocdrecovery\", \"ocdrecovery\", \"ocdrecovery\", \"ocdrecovery\", \"ocdrecovery\", \"ocdrecovery_ocdawareness\", \"ocdrecovery_ocdawareness\", \"ocdrecovery_ocdawareness\", \"ocdrecovery_ocdawareness\", \"ocdrecovery_ocdawareness\", \"ocdrecovery_ocdawareness\", \"ocdtreatment\", \"ocdtreatment\", \"ocdtreatment\", \"ocdtreatment\", \"ocdtreatment\", \"ocdtreatment_ocdrecovery\", \"ocdtreatment_ocdrecovery\", \"odesa\", \"odesa\", \"odesa_travel\", \"odesa_travel\", \"odoo\", \"odoo_erpsystem\", \"odoo_erpsystem\", \"online\", \"online\", \"online\", \"online\", \"online\", \"online\", \"online_counseling\", \"online_counseling\", \"online_counseling\", \"online_psychotherapist\", \"online_psychotherapist\", \"online_psychotherapist\", \"online_psychotherapist\", \"online_psychotherapist_managing_visit\", \"online_psychotherapist_managing_visit\", \"online_psychotherapist_obsessive_intrusive\", \"online_psychotherapist_obsessive_intrusive\", \"online_psychotherapist_obsessive_intrusive\", \"online_psychotherapy\", \"online_psychotherapy\", \"online_psychotherapy\", \"online_therapist\", \"online_therapist\", \"online_therapist\", \"online_therapist\", \"online_therapist\", \"online_therapist\", \"online_therapist_obsessive_compulsive\", \"online_therapist_obsessive_compulsive\", \"online_therapist_obsessive_compulsive\", \"online_therapist_obsessive_compulsive\", \"online_therapist_obsessive_compulsive\", \"onlinetherapistforocd_intrusivethoughts\", \"onlinetherapistforocd_intrusivethoughts\", \"onlinetherapy\", \"onlinetherapy\", \"onlinetherapy\", \"originalcontent\", \"originalcontent\", \"originalcontent\", \"overcoming\", \"overcoming\", \"overcoming\", \"overcoming\", \"overcoming\", \"overcoming\", \"overcoming_ocdrecovery\", \"overcoming_ocdrecovery\", \"overcoming_ocdrecovery_ocdawareness_intrusivethoughts\", \"overcoming_ocdrecovery_ocdawareness_intrusivethoughts\", \"overcoming_online\", \"panicattacks_onlinetherapistforocd\", \"panicattacks_onlinetherapistforocd\", \"panicattacks_onlinetherapistforocd\", \"parent\", \"parent\", \"parent\", \"parent\", \"parent\", \"parent\", \"parent_anxiety\", \"parent_anxiety\", \"parent_anxiety\", \"parent_anxiety\", \"parent_anxiety\", \"parent_anxiety\", \"parent_anxiety_depression_ptsd\", \"parent_anxiety_depression_ptsd\", \"parent_anxiety_depression_ptsd\", \"parent_anxiety_depression_ptsd\", \"parent_anxiety_depression_ptsd\", \"parent_anxiety_depression_ptsd\", \"partner\", \"partner\", \"partner\", \"partner\", \"partner\", \"performance\", \"performance\", \"performance\", \"performance\", \"peter\", \"peter\", \"peter\", \"photography\", \"photography\", \"photography\", \"photography\", \"photography\", \"photography_macrophotography\", \"photography_macrophotography\", \"posh\", \"posh\", \"posh\", \"posh\", \"posh\", \"posh\", \"posh_hivemind\", \"positive_achievement\", \"positive_achievement\", \"positive_achievement\", \"positive_achievement\", \"powerful_technique\", \"powerful_technique\", \"powerful_technique\", \"powerful_technique_mindfulness_therapy\", \"powerful_technique_mindfulness_therapy\", \"powerful_technique_mindfulness_therapy\", \"pray\", \"pray\", \"preview\", \"preview\", \"privatepractice\", \"privatepractice\", \"privatepractice\", \"privatetherapy_phobia\", \"privatetherapy_phobia\", \"privatetherapy_phobia\", \"psychotherapist\", \"psychotherapist\", \"psychotherapist\", \"psychotherapist\", \"psychotherapy\", \"psychotherapy\", \"psychotherapy\", \"psychotherapy\", \"psychotherapy\", \"ptsd\", \"ptsd\", \"ptsd\", \"ptsd\", \"ptsd\", \"ptsd\", \"race\", \"race\", \"race\", \"racing\", \"racing\", \"racing\", \"racing_sport\", \"racing_sport\", \"racing_sport\", \"read\", \"read\", \"read\", \"read\", \"read\", \"read_witcher\", \"read_witcher\", \"read_witcher\", \"read_witcher\", \"really\", \"really\", \"really\", \"really\", \"really\", \"really\", \"reduces\", \"reduces\", \"reduces\", \"reduces\", \"relieftms\", \"relieftms\", \"relieftms\", \"research\", \"research\", \"research\", \"research\", \"research\", \"research\", \"research_find\", \"research_find\", \"research_find\", \"research_find\", \"research_find\", \"research_find_acupuncture_reduces\", \"research_find_acupuncture_reduces\", \"research_find_acupuncture_reduces\", \"right\", \"right\", \"right\", \"right\", \"right\", \"right\", \"ritual\", \"selfhelp\", \"selfhelp\", \"selfhelp\", \"selfhelp\", \"selfhelp\", \"selfhelp\", \"session\", \"session\", \"session\", \"session\", \"session\", \"session_contact\", \"session_contact\", \"session_visit\", \"share_follow\", \"share_follow\", \"share_follow\", \"share_follow\", \"sheffield\", \"sheffield\", \"sheffield_socialanxiety\", \"sheffield_socialanxiety\", \"sheffield_socialanxiety\", \"significant\", \"significant_improvement\", \"significant_improvement_session_visit\", \"skype\", \"skype\", \"skype\", \"skype\", \"skype\", \"skype\", \"skype_counseling\", \"skype_counseling\", \"skype_counseling\", \"skype_overcoming\", \"skype_overcoming\", \"skype_overcoming\", \"skype_overcoming\", \"skype_overcoming\", \"skype_overcoming\", \"software\", \"software_business\", \"software_business\", \"software_business_erpsoftware_technology\", \"spravato\", \"spravato\", \"spravato\", \"ssri\", \"ssri\", \"ssri\", \"ssri\", \"ssri_performance\", \"ssri_performance\", \"ssri_performance\", \"ssri_performance\", \"ssri_performance\", \"stephen\", \"stephen\", \"stephen_gold\", \"stephen_gold_best_fictional\", \"stress_health\", \"stress_health\", \"stress_health\", \"stress_health\", \"strong_ocdtreatment\", \"strong_ocdtreatment\", \"strong_ocdtreatment\", \"success\", \"success\", \"success\", \"success\", \"suffering_obsessive\", \"suffering_obsessive\", \"suffering_obsessive\", \"survive\", \"survive\", \"survive\", \"survive\", \"survive_mentalhealth\", \"survive_mentalhealth\", \"survive_mentalhealth\", \"survive_mentalhealth\", \"sword_destiny\", \"sword_destiny\", \"sword_destiny\", \"sword_destiny\", \"symptom\", \"symptom\", \"symptom\", \"symptom\", \"symptom\", \"symptom_treatment\", \"symptom_treatment\", \"symptom_treatment\", \"symptom_treatment\", \"take_med\", \"take_med\", \"take_med\", \"take_med\", \"technique\", \"technique\", \"technique\", \"technique\", \"thank_much\", \"thank_much\", \"thank_much\", \"thank_much_another_friend\", \"thank_much_another_friend\", \"thank_much_another_friend\", \"therapist\", \"therapist\", \"therapist\", \"therapist\", \"therapist\", \"therapist\", \"therapy\", \"therapy\", \"therapy\", \"therapy\", \"therapy\", \"therapy\", \"therapy_skype\", \"therapy_skype\", \"therapy_skype\", \"therapy_skype\", \"therapy_skype\", \"therapy_skype_learn_manage\", \"therapy_skype_most_people\", \"therapy_skype_most_people\", \"thing\", \"thing\", \"thing\", \"thing\", \"thing\", \"thing\", \"thinking_around\", \"thinking_around\", \"thinking_around\", \"this\", \"this\", \"this\", \"this\", \"this\", \"this\", \"this_posted\", \"this_posted\", \"thought\", \"thought\", \"thought\", \"thought\", \"thought\", \"thought\", \"thought_traumatic_memory_using\", \"thought_traumatic_memory_using\", \"thought_traumatic_memory_using\", \"time\", \"time\", \"time\", \"time\", \"time\", \"time\", \"time_last\", \"time_last\", \"time_last\", \"today\", \"today\", \"today\", \"today\", \"today\", \"today\", \"today_bring\", \"today_bring\", \"today_bring\", \"today_bring\", \"tough\", \"tough\", \"tough_fabulous\", \"tough_fabulous\", \"travelblogger_posh\", \"travelblogger_posh\", \"treat\", \"treat\", \"treat\", \"treatment\", \"treatment\", \"treatment\", \"treatment\", \"treatment\", \"treatment\", \"treatment_without\", \"trigger\", \"trigger\", \"trigger\", \"triggered\", \"triggered\", \"tuesdaybookblog\", \"tuesdaybookblog_pray\", \"tuesdaybookblog_pray_when_dying\", \"tweet\", \"tweet\", \"tweet\", \"twitter_hope\", \"twitter_hope\", \"twitter_hope\", \"twitter_hope_enjoy_tweet\", \"twitter_hope_enjoy_tweet\", \"using_medication\", \"visit\", \"visit\", \"visit\", \"visit\", \"visit\", \"visit\", \"visit_bulimia\", \"visit_bulimia\", \"visit_ocdrecovery\", \"visit_ocdrecovery\", \"visit_ocdrecovery_ocdawareness_onlinetherapistforocd\", \"walk\", \"walk\", \"walk\", \"walk\", \"walk\", \"walk\", \"walk_self\", \"walk_self\", \"walk_self\", \"want\", \"want\", \"want\", \"want\", \"want\", \"want\", \"want_make\", \"want_make\", \"want_make\", \"when\", \"when\", \"when\", \"when\", \"when_dying\", \"wife\", \"wife\", \"wife\", \"wife\", \"witcher\", \"witcher\", \"witcher\", \"witcher\", \"witcher_wild\", \"witcher_wild\"]}, \"R\": 30, \"lambda.step\": 0.01, \"plot.opts\": {\"xlab\": \"PC1\", \"ylab\": \"PC2\"}, \"topic.order\": [4, 2, 3, 5, 1, 6]};\n",
       "\n",
       "function LDAvis_load_lib(url, callback){\n",
       "  var s = document.createElement('script');\n",
       "  s.src = url;\n",
       "  s.async = true;\n",
       "  s.onreadystatechange = s.onload = callback;\n",
       "  s.onerror = function(){console.warn(\"failed to load library \" + url);};\n",
       "  document.getElementsByTagName(\"head\")[0].appendChild(s);\n",
       "}\n",
       "\n",
       "if(typeof(LDAvis) !== \"undefined\"){\n",
       "   // already loaded: just create the visualization\n",
       "   !function(LDAvis){\n",
       "       new LDAvis(\"#\" + \"ldavis_el1909632302321186407961333458\", ldavis_el1909632302321186407961333458_data);\n",
       "   }(LDAvis);\n",
       "}else if(typeof define === \"function\" && define.amd){\n",
       "   // require.js is available: use it to load d3/LDAvis\n",
       "   require.config({paths: {d3: \"https://d3js.org/d3.v5\"}});\n",
       "   require([\"d3\"], function(d3){\n",
       "      window.d3 = d3;\n",
       "      LDAvis_load_lib(\"https://cdn.jsdelivr.net/gh/bmabey/pyLDAvis@3.2.2/pyLDAvis/js/ldavis.v3.0.0.js\", function(){\n",
       "        new LDAvis(\"#\" + \"ldavis_el1909632302321186407961333458\", ldavis_el1909632302321186407961333458_data);\n",
       "      });\n",
       "    });\n",
       "}else{\n",
       "    // require.js not available: dynamically load d3 & LDAvis\n",
       "    LDAvis_load_lib(\"https://d3js.org/d3.v5.js\", function(){\n",
       "         LDAvis_load_lib(\"https://cdn.jsdelivr.net/gh/bmabey/pyLDAvis@3.2.2/pyLDAvis/js/ldavis.v3.0.0.js\", function(){\n",
       "                 new LDAvis(\"#\" + \"ldavis_el1909632302321186407961333458\", ldavis_el1909632302321186407961333458_data);\n",
       "            })\n",
       "         });\n",
       "}\n",
       "</script>"
      ],
      "text/plain": [
       "PreparedData(topic_coordinates=              x         y  topics  cluster       Freq\n",
       "topic                                                \n",
       "3      0.105886 -0.202247       1        1  22.953692\n",
       "1     -0.057336  0.202148       2        1  21.593784\n",
       "2      0.071004  0.037749       3        1  17.410312\n",
       "4     -0.306617 -0.066570       4        1  13.429956\n",
       "0      0.135125  0.101116       5        1  13.373064\n",
       "5      0.051938 -0.072196       6        1  11.239192, topic_info=                                            Term        Freq       Total  \\\n",
       "term                                                                       \n",
       "241                               tough_fabulous  280.000000  280.000000   \n",
       "340                         mentalhealth_bipolar  517.000000  517.000000   \n",
       "19                             help_mentalhealth  264.000000  264.000000   \n",
       "238                                 stephen_gold  187.000000  187.000000   \n",
       "224                               best_fictional  187.000000  187.000000   \n",
       "49                                        online  690.000000  690.000000   \n",
       "33                                          hive  445.000000  445.000000   \n",
       "0                                    acupuncture  178.000000  178.000000   \n",
       "4                                   always_known  177.000000  177.000000   \n",
       "14                                 evidence_back  176.000000  176.000000   \n",
       "29                              ssri_performance  176.000000  176.000000   \n",
       "26                                 research_find  175.000000  175.000000   \n",
       "213                             online_therapist  340.000000  340.000000   \n",
       "76                           mindfulness_therapy  588.000000  588.000000   \n",
       "39                                          posh  292.000000  292.000000   \n",
       "81                          obsessive_compulsive  374.000000  374.000000   \n",
       "132                     ocdrecovery_ocdawareness  315.000000  315.000000   \n",
       "380                           hive_hiveblogshare  285.000000  285.000000   \n",
       "3                                         always  157.000000  157.000000   \n",
       "50                             online_counseling  205.000000  205.000000   \n",
       "104                                      bipolar  335.000000  335.000000   \n",
       "229                                     fabulous   97.000000   97.000000   \n",
       "245                                         when  120.000000  120.000000   \n",
       "240                                        tough   97.000000   97.000000   \n",
       "231                                         gold   96.000000   96.000000   \n",
       "236                                         pray   97.000000   97.000000   \n",
       "230                                    fictional   97.000000   97.000000   \n",
       "244              tuesdaybookblog_pray_when_dying   94.000000   94.000000   \n",
       "225                                    depiction   94.000000   94.000000   \n",
       "239                  stephen_gold_best_fictional   94.000000   94.000000   \n",
       "...                                          ...         ...         ...   \n",
       "160                                 odesa_travel   25.937882   30.505370   \n",
       "156                                   must_place   25.776831   30.564014   \n",
       "516   online_psychotherapist_obsessive_intrusive   18.123243   21.245090   \n",
       "149                                 architecture   17.804169   20.867365   \n",
       "33                                          hive  222.116497  445.814256   \n",
       "39                                          posh  143.869339  292.429718   \n",
       "57                                   photography   64.479792  107.467169   \n",
       "471                       online_psychotherapist   76.354578  145.673116   \n",
       "366                                   leofinance   23.866314   30.627041   \n",
       "56                     hiveblogshare_photography   21.525388   26.897562   \n",
       "135                                       autism   50.185796   99.920234   \n",
       "35                                 hiveblogshare   76.540637  193.746750   \n",
       "472                              psychotherapist   37.762348   65.081667   \n",
       "271                        mindfulness_depressio   64.420015  213.209617   \n",
       "380                           hive_hiveblogshare   67.945155  285.155602   \n",
       "302                                        visit   45.244204  132.096457   \n",
       "49                                        online   95.021662  690.658313   \n",
       "82                                   ocdrecovery   60.889180  326.162724   \n",
       "374                          obsessive_intrusive   36.711897   95.096830   \n",
       "75                                   mindfulness   69.666886  489.701741   \n",
       "144                                    treatment   48.696916  195.744799   \n",
       "131                                 ocdawareness   41.468191  205.200953   \n",
       "905                                issue_managed   32.307056   95.085441   \n",
       "132                     ocdrecovery_ocdawareness   44.150054  315.239171   \n",
       "32                                         first   32.587815  117.305250   \n",
       "133                                         adhd   36.327919  193.696996   \n",
       "76                           mindfulness_therapy   42.554951  588.259672   \n",
       "907                                 know_fucking   29.970848   97.034294   \n",
       "91                                       therapy   32.246853  435.651998   \n",
       "917                                    time_last   29.758728   97.058910   \n",
       "\n",
       "     Category  logprob  loglift  \n",
       "term                             \n",
       "241   Default  30.0000  30.0000  \n",
       "340   Default  29.0000  29.0000  \n",
       "19    Default  28.0000  28.0000  \n",
       "238   Default  27.0000  27.0000  \n",
       "224   Default  26.0000  26.0000  \n",
       "49    Default  25.0000  25.0000  \n",
       "33    Default  24.0000  24.0000  \n",
       "0     Default  23.0000  23.0000  \n",
       "4     Default  22.0000  22.0000  \n",
       "14    Default  21.0000  21.0000  \n",
       "29    Default  20.0000  20.0000  \n",
       "26    Default  19.0000  19.0000  \n",
       "213   Default  18.0000  18.0000  \n",
       "76    Default  17.0000  17.0000  \n",
       "39    Default  16.0000  16.0000  \n",
       "81    Default  15.0000  15.0000  \n",
       "132   Default  14.0000  14.0000  \n",
       "380   Default  13.0000  13.0000  \n",
       "3     Default  12.0000  12.0000  \n",
       "50    Default  11.0000  11.0000  \n",
       "104   Default  10.0000  10.0000  \n",
       "229   Default   9.0000   9.0000  \n",
       "245   Default   8.0000   8.0000  \n",
       "240   Default   7.0000   7.0000  \n",
       "231   Default   6.0000   6.0000  \n",
       "236   Default   5.0000   5.0000  \n",
       "230   Default   4.0000   4.0000  \n",
       "244   Default   3.0000   3.0000  \n",
       "225   Default   2.0000   2.0000  \n",
       "239   Default   1.0000   1.0000  \n",
       "...       ...      ...      ...  \n",
       "160    Topic6  -5.3343   2.0236  \n",
       "156    Topic6  -5.3405   2.0154  \n",
       "516    Topic6  -5.6928   2.0268  \n",
       "149    Topic6  -5.7105   2.0270  \n",
       "33     Topic6  -3.1868   1.4891  \n",
       "39     Topic6  -3.6211   1.4764  \n",
       "57     Topic6  -4.4236   1.6749  \n",
       "471    Topic6  -4.2546   1.5398  \n",
       "366    Topic6  -5.4175   1.9363  \n",
       "56     Topic6  -5.5207   1.9630  \n",
       "135    Topic6  -4.6742   1.4971  \n",
       "35     Topic6  -4.2522   1.2570  \n",
       "472    Topic6  -4.9587   1.6414  \n",
       "271    Topic6  -4.4246   0.9889  \n",
       "380    Topic6  -4.3713   0.7514  \n",
       "302    Topic6  -4.7779   1.1143  \n",
       "49     Topic6  -4.0359   0.2022  \n",
       "82     Topic6  -4.4809   0.5074  \n",
       "374    Topic6  -4.9869   1.2340  \n",
       "75     Topic6  -4.3463   0.2357  \n",
       "144    Topic6  -4.7044   0.7946  \n",
       "131    Topic6  -4.8651   0.5867  \n",
       "905    Topic6  -5.1147   1.1063  \n",
       "132    Topic6  -4.8024   0.2200  \n",
       "32     Topic6  -5.1060   0.9049  \n",
       "133    Topic6  -4.9974   0.5121  \n",
       "76     Topic6  -4.8392  -0.4406  \n",
       "907    Topic6  -5.1898   1.0109  \n",
       "91     Topic6  -5.1166  -0.4177  \n",
       "917    Topic6  -5.1969   1.0036  \n",
       "\n",
       "[369 rows x 6 columns], token_table=      Topic      Freq                       Term\n",
       "term                                            \n",
       "335       1  0.946531                achievement\n",
       "335       2  0.027839                achievement\n",
       "335       5  0.027839                achievement\n",
       "719       1  0.075464                   actually\n",
       "719       2  0.075464                   actually\n",
       "719       4  0.075464                   actually\n",
       "719       5  0.754639                   actually\n",
       "0         1  0.005614                acupuncture\n",
       "0         2  0.033685                acupuncture\n",
       "0         3  0.005614                acupuncture\n",
       "0         5  0.931949                acupuncture\n",
       "0         6  0.028071                acupuncture\n",
       "1         1  0.011369         acupuncture_really\n",
       "1         2  0.034106         acupuncture_really\n",
       "1         5  0.909481         acupuncture_really\n",
       "1         6  0.034106         acupuncture_really\n",
       "2         2  0.033818        acupuncture_reduces\n",
       "2         5  0.924348        acupuncture_reduces\n",
       "2         6  0.033818        acupuncture_reduces\n",
       "43        4  0.933200    addiction_onlinetherapy\n",
       "43        6  0.042418    addiction_onlinetherapy\n",
       "735       1  0.756571          addictionrecovery\n",
       "735       2  0.050438          addictionrecovery\n",
       "735       3  0.012610          addictionrecovery\n",
       "735       4  0.138705          addictionrecovery\n",
       "735       5  0.012610          addictionrecovery\n",
       "735       6  0.037829          addictionrecovery\n",
       "736       1  0.778801  addictionrecovery_bipolar\n",
       "736       2  0.047200  addictionrecovery_bipolar\n",
       "736       3  0.011800  addictionrecovery_bipolar\n",
       "...     ...       ...                        ...\n",
       "125       4  0.034715                       walk\n",
       "125       5  0.034715                       walk\n",
       "125       6  0.011572                       walk\n",
       "667       1  0.901257                  walk_self\n",
       "667       4  0.039185                  walk_self\n",
       "667       5  0.058778                  walk_self\n",
       "383       1  0.645790                       want\n",
       "383       2  0.007598                       want\n",
       "383       3  0.136755                       want\n",
       "383       4  0.022793                       want\n",
       "383       5  0.022793                       want\n",
       "383       6  0.159548                       want\n",
       "920       1  0.652277                  want_make\n",
       "920       3  0.050959                  want_make\n",
       "920       6  0.285371                  want_make\n",
       "245       1  0.115844                       when\n",
       "245       4  0.852284                       when\n",
       "245       5  0.016549                       when\n",
       "245       6  0.016549                       when\n",
       "246       4  0.985497                 when_dying\n",
       "268       1  0.802158                       wife\n",
       "268       2  0.084438                       wife\n",
       "268       5  0.031664                       wife\n",
       "268       6  0.084438                       wife\n",
       "129       1  0.906928                    witcher\n",
       "129       4  0.018509                    witcher\n",
       "129       5  0.055526                    witcher\n",
       "129       6  0.018509                    witcher\n",
       "875       1  0.962212               witcher_wild\n",
       "875       5  0.050643               witcher_wild\n",
       "\n",
       "[1056 rows x 3 columns], R=30, lambda_step=0.01, plot_opts={'xlab': 'PC1', 'ylab': 'PC2'}, topic_order=[4, 2, 3, 5, 1, 6])"
      ]
     },
     "execution_count": 17,
     "metadata": {},
     "output_type": "execute_result"
    }
   ],
   "source": [
    "# visualize the topics\n",
    "pyLDAvis.enable_notebook()\n",
    "LDAvis_viz = pyLDAvis.gensim.prepare(best_model, corpus, dictionary)\n",
    "LDAvis_viz"
   ]
  },
  {
   "cell_type": "markdown",
   "id": "b39b86bd",
   "metadata": {},
   "source": [
    "### We interpret the topics based on the keywords"
   ]
  },
  {
   "cell_type": "code",
   "execution_count": 68,
   "id": "17968935",
   "metadata": {},
   "outputs": [
    {
     "name": "stdout",
     "output_type": "stream",
     "text": [
      "1: Comorbidity/Impact\n",
      "2: (Online) Therapy\n",
      "3: Experience/Symptoms\n",
      "4: Irrelevant\n",
      "5: Treatment/Tips\n",
      "6: Irrelevant\n"
     ]
    }
   ],
   "source": [
    "print('1: Comorbidity/Impact')\n",
    "print('2: (Online) Therapy')\n",
    "print('3: Experience/Symptoms')\n",
    "print('4: Irrelevant')\n",
    "print('5: Treatment/Tips')\n",
    "print('6: Irrelevant')"
   ]
  },
  {
   "cell_type": "markdown",
   "id": "93f86e3c",
   "metadata": {},
   "source": [
    "### Finally, we label the data and save it."
   ]
  },
  {
   "cell_type": "code",
   "execution_count": 69,
   "id": "60f1d7fb",
   "metadata": {},
   "outputs": [],
   "source": [
    "cat_name = ['Comorbidity/Impact', '(Online) Therapy', 'Experience/Symptoms', 'Irrelevant','Treatment/Tips', 'Irrelevant']"
   ]
  },
  {
   "cell_type": "code",
   "execution_count": 70,
   "id": "a47b7543",
   "metadata": {},
   "outputs": [],
   "source": [
    "def add_labels(model=best_model, corpus=corpus, data=data):\n",
    "    # get main topic in each document\n",
    "    topics = []\n",
    "    categories = []\n",
    "    for i, row in enumerate(model[corpus]):\n",
    "        row = sorted(row, key=lambda x: (x[1]), reverse=True)\n",
    "        for j, (topic_num, prop_topic) in enumerate(row):\n",
    "            if j == 0:  # dominant topic\n",
    "                wp = model.show_topic(topic_num)\n",
    "                topics.append(topic_num+1)\n",
    "                categories.append(cat_name[topic_num])\n",
    "            else:\n",
    "                break\n",
    "    data['category'] = categories\n",
    "    data['class'] = topics\n",
    "    return data.reset_index()"
   ]
  },
  {
   "cell_type": "code",
   "execution_count": 71,
   "id": "35bbf8a4",
   "metadata": {},
   "outputs": [
    {
     "data": {
      "text/plain": [
       "6"
      ]
     },
     "execution_count": 71,
     "metadata": {},
     "output_type": "execute_result"
    }
   ],
   "source": [
    "len(cat_name)"
   ]
  },
  {
   "cell_type": "code",
   "execution_count": 72,
   "id": "19b84d38",
   "metadata": {},
   "outputs": [],
   "source": [
    "data_labelled = add_labels(model=best_model, corpus=corpus, data=data)"
   ]
  },
  {
   "cell_type": "code",
   "execution_count": 73,
   "id": "b6a1670d",
   "metadata": {},
   "outputs": [
    {
     "data": {
      "text/plain": [
       "count           2863\n",
       "unique             5\n",
       "top       Irrelevant\n",
       "freq            1033\n",
       "Name: category, dtype: object"
      ]
     },
     "execution_count": 73,
     "metadata": {},
     "output_type": "execute_result"
    }
   ],
   "source": [
    "data_labelled.category.describe()"
   ]
  },
  {
   "cell_type": "code",
   "execution_count": 74,
   "id": "470a9700",
   "metadata": {},
   "outputs": [
    {
     "data": {
      "text/plain": [
       "array([1, 6, 5, 4, 2, 3], dtype=int64)"
      ]
     },
     "execution_count": 74,
     "metadata": {},
     "output_type": "execute_result"
    }
   ],
   "source": [
    "data_labelled['class'].unique()"
   ]
  },
  {
   "cell_type": "code",
   "execution_count": 75,
   "id": "c3a323fc",
   "metadata": {},
   "outputs": [
    {
     "data": {
      "text/html": [
       "<div>\n",
       "<style scoped>\n",
       "    .dataframe tbody tr th:only-of-type {\n",
       "        vertical-align: middle;\n",
       "    }\n",
       "\n",
       "    .dataframe tbody tr th {\n",
       "        vertical-align: top;\n",
       "    }\n",
       "\n",
       "    .dataframe thead th {\n",
       "        text-align: right;\n",
       "    }\n",
       "</style>\n",
       "<table border=\"1\" class=\"dataframe\">\n",
       "  <thead>\n",
       "    <tr style=\"text-align: right;\">\n",
       "      <th></th>\n",
       "      <th>user_ID</th>\n",
       "      <th>followers_count</th>\n",
       "      <th>user_location</th>\n",
       "      <th>user_description</th>\n",
       "      <th>date</th>\n",
       "      <th>text</th>\n",
       "      <th>hashtags</th>\n",
       "      <th>category</th>\n",
       "      <th>class</th>\n",
       "    </tr>\n",
       "  </thead>\n",
       "  <tbody>\n",
       "    <tr>\n",
       "      <th>0</th>\n",
       "      <td>8.293180e+17</td>\n",
       "      <td>294</td>\n",
       "      <td>Eora Nation</td>\n",
       "      <td>PhD candidate in gender and cultural studies @...</td>\n",
       "      <td>10/27/2021 11:59</td>\n",
       "      <td>New research out finds that #acupuncture reduc...</td>\n",
       "      <td>NaN</td>\n",
       "      <td>Comorbidity/Impact</td>\n",
       "      <td>1</td>\n",
       "    </tr>\n",
       "    <tr>\n",
       "      <th>1</th>\n",
       "      <td>4.150866e+08</td>\n",
       "      <td>432</td>\n",
       "      <td>London</td>\n",
       "      <td>Children’s Book Illustrator 🎨 &amp; former @pathwa...</td>\n",
       "      <td>10/27/2021 11:51</td>\n",
       "      <td>New research out finds that #acupuncture reduc...</td>\n",
       "      <td>['ocd']</td>\n",
       "      <td>Comorbidity/Impact</td>\n",
       "      <td>1</td>\n",
       "    </tr>\n",
       "    <tr>\n",
       "      <th>2</th>\n",
       "      <td>1.311980e+18</td>\n",
       "      <td>17</td>\n",
       "      <td>NaN</td>\n",
       "      <td>One of the greatest regrets in life is being w...</td>\n",
       "      <td>10/27/2021 11:26</td>\n",
       "      <td>New research out finds that #acupuncture reduc...</td>\n",
       "      <td>['oknottobeok']</td>\n",
       "      <td>Comorbidity/Impact</td>\n",
       "      <td>1</td>\n",
       "    </tr>\n",
       "    <tr>\n",
       "      <th>3</th>\n",
       "      <td>8.996297e+07</td>\n",
       "      <td>29198</td>\n",
       "      <td>Boulder CO, USA</td>\n",
       "      <td>Peter Strong - Psychotherapist specializing in...</td>\n",
       "      <td>10/27/2021 11:25</td>\n",
       "      <td>New research out finds that #acupuncture reduc...</td>\n",
       "      <td>['OCD']</td>\n",
       "      <td>Comorbidity/Impact</td>\n",
       "      <td>1</td>\n",
       "    </tr>\n",
       "    <tr>\n",
       "      <th>4</th>\n",
       "      <td>8.853120e+17</td>\n",
       "      <td>981</td>\n",
       "      <td>Hell</td>\n",
       "      <td>A free thinker and freelance writer\\r\\r\\n\\r\\r\\...</td>\n",
       "      <td>10/27/2021 11:06</td>\n",
       "      <td>New research out finds that #acupuncture reduc...</td>\n",
       "      <td>NaN</td>\n",
       "      <td>Comorbidity/Impact</td>\n",
       "      <td>1</td>\n",
       "    </tr>\n",
       "  </tbody>\n",
       "</table>\n",
       "</div>"
      ],
      "text/plain": [
       "        user_ID  followers_count    user_location  \\\n",
       "0  8.293180e+17              294      Eora Nation   \n",
       "1  4.150866e+08              432           London   \n",
       "2  1.311980e+18               17              NaN   \n",
       "3  8.996297e+07            29198  Boulder CO, USA   \n",
       "4  8.853120e+17              981             Hell   \n",
       "\n",
       "                                    user_description              date  \\\n",
       "0  PhD candidate in gender and cultural studies @...  10/27/2021 11:59   \n",
       "1  Children’s Book Illustrator 🎨 & former @pathwa...  10/27/2021 11:51   \n",
       "2  One of the greatest regrets in life is being w...  10/27/2021 11:26   \n",
       "3  Peter Strong - Psychotherapist specializing in...  10/27/2021 11:25   \n",
       "4  A free thinker and freelance writer\\r\\r\\n\\r\\r\\...  10/27/2021 11:06   \n",
       "\n",
       "                                                text         hashtags  \\\n",
       "0  New research out finds that #acupuncture reduc...              NaN   \n",
       "1  New research out finds that #acupuncture reduc...          ['ocd']   \n",
       "2  New research out finds that #acupuncture reduc...  ['oknottobeok']   \n",
       "3  New research out finds that #acupuncture reduc...          ['OCD']   \n",
       "4  New research out finds that #acupuncture reduc...              NaN   \n",
       "\n",
       "             category  class  \n",
       "0  Comorbidity/Impact      1  \n",
       "1  Comorbidity/Impact      1  \n",
       "2  Comorbidity/Impact      1  \n",
       "3  Comorbidity/Impact      1  \n",
       "4  Comorbidity/Impact      1  "
      ]
     },
     "execution_count": 75,
     "metadata": {},
     "output_type": "execute_result"
    }
   ],
   "source": [
    "data.head()"
   ]
  },
  {
   "cell_type": "code",
   "execution_count": 77,
   "id": "6a852f3b",
   "metadata": {},
   "outputs": [
    {
     "name": "stdout",
     "output_type": "stream",
     "text": [
      "Tweet: I think her sign turned out beautiful, letting people know #OCD is not some personality trait to be made light of. https://t.co/ZDMese8GL5\n",
      "************************************************************\n",
      "Category: Experience/Symptoms\n",
      "--------------------------------------------------------------------------------------------------------------------------------\n",
      "Tweet: \"A person attempts suicide several times, but fails. Onset of OCD. Years later, OCD had grown so powerful that its bearer couldn't even attempt suicide. The thought of cleaning up afterwards if it fails was overwhelmingly scary.\" \r",
      "\r\n",
      "\r",
      "\r\n",
      " #Unbelievable #OCD #Mentalhealth #shortstory\n",
      "************************************************************\n",
      "Category: Experience/Symptoms\n",
      "--------------------------------------------------------------------------------------------------------------------------------\n",
      "Tweet: 30 days of growing up Mr. Avocado\r",
      "\r\n",
      "https://t.co/78GniSNc2j\r",
      "\r\n",
      "#hive #naturalmedicine #garden #nature #posh #ocd\n",
      "************************************************************\n",
      "Category: Irrelevant\n",
      "--------------------------------------------------------------------------------------------------------------------------------\n"
     ]
    }
   ],
   "source": [
    "for i in range(3):\n",
    "    random_tweet = random.randint(1,len(data))\n",
    "    print('Tweet:', data.text[random_tweet])\n",
    "    print('************************************************************')\n",
    "    print('Category:', data.category[random_tweet])\n",
    "    print('--------------------------------------------------------------------------------------------------------------------------------')"
   ]
  },
  {
   "cell_type": "code",
   "execution_count": 78,
   "id": "1eddb589",
   "metadata": {},
   "outputs": [],
   "source": [
    "data.to_csv('OCD with TM labels.csv')"
   ]
  }
 ],
 "metadata": {
  "kernelspec": {
   "display_name": "Python 3",
   "language": "python",
   "name": "python3"
  },
  "language_info": {
   "codemirror_mode": {
    "name": "ipython",
    "version": 3
   },
   "file_extension": ".py",
   "mimetype": "text/x-python",
   "name": "python",
   "nbconvert_exporter": "python",
   "pygments_lexer": "ipython3",
   "version": "3.6.5"
  }
 },
 "nbformat": 4,
 "nbformat_minor": 5
}
