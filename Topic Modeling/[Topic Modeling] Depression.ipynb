{
 "cells": [
  {
   "cell_type": "markdown",
   "id": "124561b3",
   "metadata": {},
   "source": [
    "# Topic Modeling: Depression"
   ]
  },
  {
   "cell_type": "markdown",
   "id": "5ff0ae1c",
   "metadata": {},
   "source": [
    "### The first step is importing the packages that we will be using for identifying topic models."
   ]
  },
  {
   "cell_type": "code",
   "execution_count": 1,
   "id": "6add74aa",
   "metadata": {},
   "outputs": [],
   "source": [
    "# Import required packages\n",
    "\n",
    "# DATA PREPROCESSING\n",
    "import nltk\n",
    "from nltk.tokenize import RegexpTokenizer\n",
    "from nltk.corpus import stopwords\n",
    "from nltk.stem import WordNetLemmatizer\n",
    "from gensim.models import Phrases\n",
    "\n",
    "# MODELING\n",
    "import sklearn\n",
    "import re\n",
    "from gensim.models.coherencemodel import CoherenceModel\n",
    "from gensim.models.ldamodel import LdaModel\n",
    "from gensim.corpora.dictionary import Dictionary\n",
    "from numpy import array\n",
    "\n",
    "# VISUALIZATION\n",
    "import matplotlib.pyplot as plt\n",
    "import seaborn as sns\n",
    "import pyLDAvis\n",
    "import pyLDAvis.gensim\n",
    "import pickle \n",
    "\n",
    "# OTHER\n",
    "import numpy as np\n",
    "import pandas as pd\n",
    "import logging\n",
    "import json\n",
    "import warnings\n",
    "import random\n",
    "\n",
    "warnings.filterwarnings('ignore')  "
   ]
  },
  {
   "cell_type": "markdown",
   "id": "a959322a",
   "metadata": {},
   "source": [
    "### In the second step, we read the dataset, and take a glance at what it looks like."
   ]
  },
  {
   "cell_type": "code",
   "execution_count": 2,
   "id": "459fa284",
   "metadata": {},
   "outputs": [],
   "source": [
    "data = pd.read_csv('depression.csv')"
   ]
  },
  {
   "cell_type": "code",
   "execution_count": 3,
   "id": "444342bc",
   "metadata": {},
   "outputs": [
    {
     "data": {
      "text/html": [
       "<div>\n",
       "<style scoped>\n",
       "    .dataframe tbody tr th:only-of-type {\n",
       "        vertical-align: middle;\n",
       "    }\n",
       "\n",
       "    .dataframe tbody tr th {\n",
       "        vertical-align: top;\n",
       "    }\n",
       "\n",
       "    .dataframe thead th {\n",
       "        text-align: right;\n",
       "    }\n",
       "</style>\n",
       "<table border=\"1\" class=\"dataframe\">\n",
       "  <thead>\n",
       "    <tr style=\"text-align: right;\">\n",
       "      <th></th>\n",
       "      <th>user_ID</th>\n",
       "      <th>followers_count</th>\n",
       "      <th>user_location</th>\n",
       "      <th>user_description</th>\n",
       "      <th>date</th>\n",
       "      <th>text</th>\n",
       "      <th>hashtags</th>\n",
       "    </tr>\n",
       "  </thead>\n",
       "  <tbody>\n",
       "    <tr>\n",
       "      <th>0</th>\n",
       "      <td>1.390000e+18</td>\n",
       "      <td>53</td>\n",
       "      <td>Barcelona, Spain</td>\n",
       "      <td>For 34 years, Psych Congress has served as a u...</td>\n",
       "      <td>10/27/2021 11:45</td>\n",
       "      <td>Extended abstract submission deadline is TODAY...</td>\n",
       "      <td>NaN</td>\n",
       "    </tr>\n",
       "    <tr>\n",
       "      <th>1</th>\n",
       "      <td>2.350451e+09</td>\n",
       "      <td>30626</td>\n",
       "      <td>Sacramento, California</td>\n",
       "      <td>Believer in creating a healthy game plan to fe...</td>\n",
       "      <td>10/27/2021 11:39</td>\n",
       "      <td>🌟This Fall and if you can, intentionally spend...</td>\n",
       "      <td>['anxiety']</td>\n",
       "    </tr>\n",
       "    <tr>\n",
       "      <th>2</th>\n",
       "      <td>3.345540e+09</td>\n",
       "      <td>829</td>\n",
       "      <td>Pittsburgh, PA</td>\n",
       "      <td>Founder Motivation Champs, Publisher 📚, Screen...</td>\n",
       "      <td>10/27/2021 11:38</td>\n",
       "      <td>Proud to welcome Stephanie Kunkel to the Motiv...</td>\n",
       "      <td>NaN</td>\n",
       "    </tr>\n",
       "    <tr>\n",
       "      <th>3</th>\n",
       "      <td>1.174093e+07</td>\n",
       "      <td>3089</td>\n",
       "      <td>Toronto, Canada</td>\n",
       "      <td>Self healing journey from ✝️ trauma to spiritu...</td>\n",
       "      <td>10/27/2021 11:35</td>\n",
       "      <td>How much energy do you put into keeping up app...</td>\n",
       "      <td>['travelblogger']</td>\n",
       "    </tr>\n",
       "    <tr>\n",
       "      <th>4</th>\n",
       "      <td>4.008473e+09</td>\n",
       "      <td>417</td>\n",
       "      <td>London, England</td>\n",
       "      <td>rTMS treatment across the UK and Ireland.\\r\\r\\...</td>\n",
       "      <td>10/27/2021 11:35</td>\n",
       "      <td>Did you know that we treat seasonal affective ...</td>\n",
       "      <td>['seasonalaffectivedisorder', 'SAD']</td>\n",
       "    </tr>\n",
       "  </tbody>\n",
       "</table>\n",
       "</div>"
      ],
      "text/plain": [
       "        user_ID  followers_count           user_location  \\\n",
       "0  1.390000e+18               53        Barcelona, Spain   \n",
       "1  2.350451e+09            30626  Sacramento, California   \n",
       "2  3.345540e+09              829          Pittsburgh, PA   \n",
       "3  1.174093e+07             3089         Toronto, Canada   \n",
       "4  4.008473e+09              417         London, England   \n",
       "\n",
       "                                    user_description              date  \\\n",
       "0  For 34 years, Psych Congress has served as a u...  10/27/2021 11:45   \n",
       "1  Believer in creating a healthy game plan to fe...  10/27/2021 11:39   \n",
       "2  Founder Motivation Champs, Publisher 📚, Screen...  10/27/2021 11:38   \n",
       "3  Self healing journey from ✝️ trauma to spiritu...  10/27/2021 11:35   \n",
       "4  rTMS treatment across the UK and Ireland.\\r\\r\\...  10/27/2021 11:35   \n",
       "\n",
       "                                                text  \\\n",
       "0  Extended abstract submission deadline is TODAY...   \n",
       "1  🌟This Fall and if you can, intentionally spend...   \n",
       "2  Proud to welcome Stephanie Kunkel to the Motiv...   \n",
       "3  How much energy do you put into keeping up app...   \n",
       "4  Did you know that we treat seasonal affective ...   \n",
       "\n",
       "                               hashtags  \n",
       "0                                   NaN  \n",
       "1                           ['anxiety']  \n",
       "2                                   NaN  \n",
       "3                     ['travelblogger']  \n",
       "4  ['seasonalaffectivedisorder', 'SAD']  "
      ]
     },
     "execution_count": 3,
     "metadata": {},
     "output_type": "execute_result"
    }
   ],
   "source": [
    "data.head()"
   ]
  },
  {
   "cell_type": "markdown",
   "id": "0aa0f50d",
   "metadata": {},
   "source": [
    "### Then, we extract our column of interest, which is the tweet."
   ]
  },
  {
   "cell_type": "code",
   "execution_count": 4,
   "id": "ac0837af",
   "metadata": {},
   "outputs": [],
   "source": [
    "tweets = data['text']"
   ]
  },
  {
   "cell_type": "markdown",
   "id": "38dfcc88",
   "metadata": {},
   "source": [
    "### Once we have the tweets, we pre-process the data to make it ready for analysis."
   ]
  },
  {
   "cell_type": "markdown",
   "id": "a2c5542e",
   "metadata": {},
   "source": [
    "Initially, we convert everything to lowercase, and then we remove users, links, punctuation, double spaces, numbers, short words, emojis and stopwords.\n",
    "\n",
    "Then, we tokenize each word, splitting the sentences in separate words.\n",
    "\n",
    "Lasly, we convert each word into their lemmas (the form of a word under which it is registered in a dictionary)."
   ]
  },
  {
   "cell_type": "code",
   "execution_count": 5,
   "id": "6a7f2cb6",
   "metadata": {},
   "outputs": [],
   "source": [
    "# list of commonly repeated words that do not add meanings\n",
    "my_stopwords = nltk.corpus.stopwords.words('english')\n",
    "repeated_words = ['ever', 'start', 'pre', '&amp', \n",
    "                  'amp', 'may', 'and', 'when',\n",
    "                  'what','who', 'why','how', \n",
    "                  'this', 'your', 'mine', 'their',\n",
    "                  'her', 'his', 'that', 'mental']\n",
    "\n",
    "for i in repeated_words:\n",
    "    my_stopwords.append(i)\n",
    "    \n",
    "tweets = tweets.apply(lambda x: ' '.join([word for word in x.split() if word not in (my_stopwords)]))\n",
    "tweets = array(tweets)\n",
    "    \n",
    "# list of common punctuation    \n",
    "my_punctuation = '!\"$%&\\'()*+,-./:;<=>?[\\\\]^_`’{|}~•@'\n",
    "\n",
    "# list of the majority of emojis\n",
    "emoj = re.compile(\"[\"  \n",
    "    u\"\\U0001F600-\\U0001F64F\" \n",
    "    u\"\\U0001F300-\\U0001F5FF\" \n",
    "    u\"\\U0001F680-\\U0001F6FF\"  \n",
    "    u\"\\U0001F1E0-\\U0001F1FF\"  \n",
    "    u\"\\U00002500-\\U00002BEF\"  \n",
    "    u\"\\U00002702-\\U000027B0\"\n",
    "    u\"\\U00002702-\\U000027B0\"\n",
    "    u\"\\U000024C2-\\U0001F251\"\n",
    "    u\"\\U0001f926-\\U0001f937\"\n",
    "    u\"\\U00010000-\\U0010ffff\"\n",
    "    u\"\\u2640-\\u2642\" \n",
    "    u\"\\u2600-\\u2B55\"\n",
    "    u\"\\u200d\"\n",
    "    u\"\\u23cf\"\n",
    "    u\"\\u23e9\"\n",
    "    u\"\\u231a\"\n",
    "    u\"\\ufe0f\"  \n",
    "    u\"\\u3030\"\n",
    "                  \"]+\", re.UNICODE) "
   ]
  },
  {
   "cell_type": "code",
   "execution_count": 6,
   "id": "2a9b40db",
   "metadata": {},
   "outputs": [],
   "source": [
    "def preprocessor(tweets):\n",
    "    \"\"\"\n",
    "    Removes unnecessary information from tweets,\n",
    "    and lemmatizes the tweets.\n",
    "\n",
    "    Input(s):\n",
    "    ------------------------------\n",
    "    tweets(array): all original tweets\n",
    "    \n",
    "    Output(s):\n",
    "    ------------------------------\n",
    "    tweets(array): cleaned up and lemmatized tweets\n",
    "    \"\"\"\n",
    "    tokenizer = RegexpTokenizer(r'\\w+')\n",
    "    for idx in range(len(tweets)):       \n",
    "        tweets[idx] = re.sub(r'http\\S+', '', tweets[idx]) # http links\n",
    "        tweets[idx] = re.sub(r'bit.ly/\\S+', '', tweets[idx]) # bitly links\n",
    "        tweets[idx] = tweets[idx].strip('[link]') # other links(i.e. gifs)\n",
    "        tweets[idx] = tweets[idx].lower()  # turn to lowercase\n",
    "        tweets[idx] = re.sub('(RT\\s@[A-Za-z]+[A-Za-z0-9-_]+)', '', tweets[idx]) # retweets\n",
    "        tweets[idx] = re.sub('(@[A-Za-z]+[A-Za-z0-9-_]+)', '', tweets[idx]) # tweeted at\n",
    "        tweets[idx] = re.sub ('#', '', tweets[idx]) # hashtags\n",
    "        tweets[idx] = re.sub(emoj, '', tweets[idx]) # emojis\n",
    "        tweets[idx] = re.sub('['+my_punctuation + ']+', ' ', tweets[idx]) # remove punctuation\n",
    "        tweets[idx] = re.sub('\\s+', ' ', tweets[idx]) # remove double spacing\n",
    "        tweets[idx] = tokenizer.tokenize(tweets[idx])   # split into words\n",
    "\n",
    "\n",
    "    # numbers (but not words with number)\n",
    "    tweets = [[token for token in tweet if not token.isdigit()] for tweet in tweets]\n",
    "    \n",
    "    # words that are only one character\n",
    "    tweets = [[token for token in tweet if len(token) > 3] for tweet in tweets]\n",
    "    \n",
    "    # lemmatize all words in documents\n",
    "    lemmatizer = WordNetLemmatizer()\n",
    "    tweets = [[lemmatizer.lemmatize(token) for token in tweet] for tweet in tweets]\n",
    " \n",
    "    return tweets"
   ]
  },
  {
   "cell_type": "code",
   "execution_count": 7,
   "id": "81b50116",
   "metadata": {},
   "outputs": [],
   "source": [
    "tweets = preprocessor(tweets)"
   ]
  },
  {
   "cell_type": "markdown",
   "id": "519c51b2",
   "metadata": {},
   "source": [
    "### We also create bi- and trigrams, and remove words that appear rarely. This is words that occurr frequently together, for example \"more_than, less_than\"."
   ]
  },
  {
   "cell_type": "code",
   "execution_count": 8,
   "id": "c7f2ad66",
   "metadata": {},
   "outputs": [],
   "source": [
    "# add bigrams and trigrams to docs\n",
    "\n",
    "# only add bi/trigrams that appear > 10 times\n",
    "bigram = Phrases(tweets, min_count=10)\n",
    "trigram = Phrases(bigram[tweets])\n",
    "\n",
    "for idx in range(len(tweets)):\n",
    "    for token in bigram[tweets[idx]]:\n",
    "        if '_' in token:\n",
    "            tweets[idx].append(token)\n",
    "    for token in trigram[tweets[idx]]:\n",
    "        if '_' in token:\n",
    "            tweets[idx].append(token)\n",
    "\n",
    "dictionary = Dictionary(tweets)\n",
    "dictionary.filter_extremes(no_below=10, no_above=0.2)\n",
    "\n",
    "corpus = [dictionary.doc2bow(t) for t in tweets]"
   ]
  },
  {
   "cell_type": "markdown",
   "id": "d1239f7b",
   "metadata": {},
   "source": [
    "### After being ready for analysis, we analyze this data with Latent Dirichlet Allocation model by assigning a random number of topics."
   ]
  },
  {
   "cell_type": "code",
   "execution_count": 9,
   "id": "62e0604d",
   "metadata": {},
   "outputs": [
    {
     "name": "stdout",
     "output_type": "stream",
     "text": [
      "[(0, '0.144*\"live_podcast\" + 0.096*\"quote_radio\" + 0.051*\"live\" + 0.051*\"quote\" + 0.050*\"podcast\" + 0.048*\"lgbtq\" + 0.048*\"radio\" + 0.048*\"strapup_freepj\" + 0.048*\"lgbtq_kyrie_irving_iheart\" + 0.048*\"lgbtq_kyrie\"'), (1, '0.099*\"really_help\" + 0.099*\"research_find\" + 0.066*\"acupuncture\" + 0.066*\"beneficial_good\" + 0.066*\"performance_always\" + 0.066*\"evidence_back\" + 0.034*\"research\" + 0.034*\"back\" + 0.034*\"always\" + 0.033*\"find\"'), (2, '0.055*\"online\" + 0.051*\"online_mindfulness\" + 0.046*\"therapy\" + 0.034*\"mindfulness\" + 0.024*\"depressiontreatment_depressionrecovery\" + 0.020*\"onlinetherapy_onlinetherapist\" + 0.019*\"contact_learn\" + 0.018*\"mindfulness_therapy\" + 0.016*\"contact\" + 0.015*\"overcoming\"'), (3, '0.099*\"million_case\" + 0.099*\"disorder_pandemic\" + 0.066*\"study_published\" + 0.066*\"lancet_october\" + 0.066*\"wide_increase\" + 0.066*\"document_world\" + 0.033*\"pandemic\" + 0.033*\"october\" + 0.033*\"major\" + 0.033*\"study\"'), (4, '0.015*\"health\" + 0.012*\"help\" + 0.011*\"life\" + 0.009*\"mentalhealthawareness\" + 0.008*\"mentalhealthmatters\" + 0.008*\"like\" + 0.008*\"mental_health\" + 0.007*\"people\" + 0.007*\"love\" + 0.007*\"ptsd\"')]\n"
     ]
    }
   ],
   "source": [
    "num_topics = 5 # number of topics\n",
    "\n",
    "temp = dictionary[0] \n",
    "id2word = dictionary.id2token\n",
    "\n",
    "lda_model = LdaModel(corpus=corpus, id2word=id2word, chunksize=len(data)/5, \\\n",
    "                       alpha='auto', eta='auto', \\\n",
    "                       iterations=20, num_topics=num_topics, \\\n",
    "                       passes=20, eval_every=1, random_state=np.random.RandomState(100))\n",
    "\n",
    "# show keywords\n",
    "print(lda_model.print_topics())"
   ]
  },
  {
   "cell_type": "markdown",
   "id": "1d55dbba",
   "metadata": {},
   "source": [
    "### We check the accuracy of our model with coherence scores (through CV, and UMass)."
   ]
  },
  {
   "cell_type": "markdown",
   "id": "2703ba5d",
   "metadata": {},
   "source": [
    "High values of c_v and low values of UMass indicate higher accuracy."
   ]
  },
  {
   "cell_type": "code",
   "execution_count": 10,
   "id": "8ec5d936",
   "metadata": {},
   "outputs": [
    {
     "name": "stdout",
     "output_type": "stream",
     "text": [
      "\n",
      "Coherence Score:  0.7569349100195523\n"
     ]
    }
   ],
   "source": [
    "# coherence score (c_v)\n",
    "coherence_model_cv = CoherenceModel(model=lda_model, texts=tweets, dictionary=dictionary, coherence='c_v')\n",
    "coherence_score = coherence_model_cv.get_coherence()\n",
    "print('\\nCoherence Score: ', coherence_score)"
   ]
  },
  {
   "cell_type": "code",
   "execution_count": 11,
   "id": "c3b871fb",
   "metadata": {},
   "outputs": [
    {
     "name": "stdout",
     "output_type": "stream",
     "text": [
      "\n",
      "Coherence Score:  -3.135932165857765\n"
     ]
    }
   ],
   "source": [
    "coherence_model_cv = CoherenceModel(model=lda_model, texts=tweets, dictionary=dictionary, coherence='u_mass')\n",
    "coherence_score = coherence_model_cv.get_coherence()\n",
    "print('\\nCoherence Score: ', coherence_score)"
   ]
  },
  {
   "cell_type": "markdown",
   "id": "de07d52e",
   "metadata": {},
   "source": [
    "### To determine the ideal number of topics, we run a simulation with different number of topics and keep track of the coherence scores."
   ]
  },
  {
   "cell_type": "code",
   "execution_count": 12,
   "id": "6677f09d",
   "metadata": {},
   "outputs": [],
   "source": [
    "def simulate_coherence_values(dictionary, corpus, texts, limit=8):\n",
    "    \"\"\"\n",
    "    Simulate c_v for multiple LDA models with different number of topics.\n",
    "\n",
    "    Input:\n",
    "    ----------\n",
    "    dictionary (dict) : gensim dictionary\n",
    "    corpus (list): gensim corpus\n",
    "    texts (list): list of input texts\n",
    "    limit (int): maximum number of topics\n",
    "\n",
    "    Output:\n",
    "    -------\n",
    "     coherence_scores : coherence scores corresponding to the LDA model with respective number of topics\n",
    "    \"\"\"\n",
    "    coherence_scores = []\n",
    "    models = []\n",
    "    for num_topics in range(2,limit):\n",
    "        model = LdaModel(corpus=corpus, id2word=dictionary, num_topics=num_topics, random_state=np.random.RandomState(100))\n",
    "        coherencemodel = CoherenceModel(model=model, texts=texts, dictionary=dictionary, coherence='c_v')\n",
    "        coherence_scores.append(coherencemodel.get_coherence())\n",
    "        models.append(model)\n",
    "\n",
    "    return coherence_scores, models"
   ]
  },
  {
   "cell_type": "code",
   "execution_count": 13,
   "id": "cafb88ea",
   "metadata": {},
   "outputs": [],
   "source": [
    "coherence_values, models = simulate_coherence_values(dictionary=dictionary, corpus=corpus, texts=tweets)"
   ]
  },
  {
   "cell_type": "code",
   "execution_count": 14,
   "id": "28554eb2",
   "metadata": {},
   "outputs": [
    {
     "data": {
      "text/plain": [
       "[0.6011542299837187,\n",
       " 0.6104435252500789,\n",
       " 0.5657169006296252,\n",
       " 0.731903407981511,\n",
       " 0.6347515042788582,\n",
       " 0.5792614546186907]"
      ]
     },
     "execution_count": 14,
     "metadata": {},
     "output_type": "execute_result"
    }
   ],
   "source": [
    "coherence_values"
   ]
  },
  {
   "cell_type": "code",
   "execution_count": 15,
   "id": "6f29817d",
   "metadata": {},
   "outputs": [],
   "source": [
    "# pick the best model, with the highest coherence score\n",
    "best_model = models[(coherence_values.index(max(coherence_values)))]"
   ]
  },
  {
   "cell_type": "markdown",
   "id": "4ae89519",
   "metadata": {},
   "source": [
    "### We plot the results of the simulation and find out that the ideal number of topics is 5."
   ]
  },
  {
   "cell_type": "code",
   "execution_count": 16,
   "id": "a2020ad2",
   "metadata": {},
   "outputs": [
    {
     "data": {
      "image/png": "[encoded data removed]",
      "text/plain": [
       "<Figure size 432x288 with 1 Axes>"
      ]
     },
     "metadata": {
      "needs_background": "light"
     },
     "output_type": "display_data"
    }
   ],
   "source": [
    "limit=8; start=2; \n",
    "x = range(start, limit)\n",
    "plt.plot(x, coherence_values)\n",
    "plt.title('Optimal Number of Topics (Depression Data)')\n",
    "plt.xlabel(\"Num Topics\")\n",
    "plt.ylabel(\"Coherence score\")\n",
    "plt.legend((\"coherence_values\"), loc='best')\n",
    "plt.show()"
   ]
  },
  {
   "cell_type": "markdown",
   "id": "e06d59bf",
   "metadata": {},
   "source": [
    "### Once we have the weights and frequency of topic words, we are able to visualize the topics."
   ]
  },
  {
   "cell_type": "code",
   "execution_count": 17,
   "id": "165604a0",
   "metadata": {},
   "outputs": [
    {
     "data": {
      "text/html": [
       "\n",
       "<link rel=\"stylesheet\" type=\"text/css\" href=\"https://cdn.jsdelivr.net/gh/bmabey/pyLDAvis@3.2.2/pyLDAvis/js/ldavis.v1.0.0.css\">\n",
       "\n",
       "\n",
       "<div id=\"ldavis_el1699614619243152089428417304\"></div>\n",
       "<script type=\"text/javascript\">\n",
       "\n",
       "var ldavis_el1699614619243152089428417304_data = {\"mdsDat\": {\"x\": [-0.34829504222923563, 0.21480596076076494, 0.00988777124340644, -0.14002281378692574, 0.2636241240119901], \"y\": [-0.22264946137061514, -0.04945565489678202, 0.026652684274964186, 0.3267584607979762, -0.08130602880554319], \"topics\": [1, 2, 3, 4, 5], \"cluster\": [1, 1, 1, 1, 1], \"Freq\": [34.3746123624979, 22.514815791318583, 17.170177777219774, 13.385649569969088, 12.554744498994655]}, \"tinfo\": {\"Term\": [\"million_case\", \"disorder_pandemic\", \"really_help\", \"research_find\", \"wide_increase\", \"lancet_october\", \"document_world\", \"wide\", \"published\", \"increase\", \"study_published\", \"acupuncture\", \"beneficial_good\", \"evidence_back\", \"performance_always\", \"million\", \"lancet\", \"live_podcast\", \"document_world_wide_increase\", \"study_published_lancet_october\", \"document\", \"reduces\", \"beneficial\", \"ssri\", \"quote_radio\", \"major\", \"case\", \"really\", \"october\", \"good\", \"really_help\", \"reduces\", \"beneficial\", \"research_find\", \"beneficial_good\", \"evidence_back\", \"performance_always\", \"acupuncture\", \"beneficial_good_evidence_back\", \"enhances\", \"enhances_ssri\", \"enhances_ssri_performance_always\", \"performance\", \"blog_blogger\", \"really\", \"enjoy_tweet\", \"good\", \"letsbeatmentalhealthtogether_iwillnotletmymhkillme\", \"twitter_hope\", \"another_friend\", \"research\", \"thank_much\", \"find\", \"fuck\", \"almost\", \"always\", \"past\", \"eupd\", \"iwillnotletmymhkillme\", \"letsbeatmentalhealthtogether\", \"help\", \"ssri\", \"worker\", \"twitter\", \"back\", \"million_case\", \"document\", \"disorder_pandemic\", \"tip_socialanxiety\", \"introvert_mentalhealthawareness\", \"shyness_anxietyhelp\", \"study_published\", \"major\", \"introvert\", \"socialanxiety\", \"mindfulness_wellness\", \"introvertlife\", \"introvertmemes\", \"introvertmemes_infj\", \"introvertproblems\", \"introvertproblems_introvertlife\", \"introvertproblems_introvertlife_introvert_mentalhealthawareness\", \"shyness\", \"socialanxietyproblems\", \"socialanxietyproblems_mentalillness\", \"socialanxietyproblems_mentalillness_introvertmemes_infj\", \"october\", \"case\", \"onlinetherapy_onlinetherapist\", \"please_retweet\", \"talk_psychotherapist\", \"world\", \"onlinetherapist\", \"mentalhealthmatters\", \"bipolardisorder\", \"pandemic\", \"study\", \"disorder\", \"mentalillness\", \"document_world\", \"lancet_october\", \"wide_increase\", \"document_world_wide_increase\", \"study_published_lancet_october\", \"today\", \"please\", \"mentalhealthawareness\", \"lancet\", \"tip\", \"ptsd\", \"know\", \"help\", \"health\", \"online_mindfulness\", \"depressiontreatment_depressionrecovery\", \"online_psychotherapy\", \"therapy_session\", \"evidence\", \"depressiontreatment\", \"contact_looking\", \"depressionrecovery\", \"healing_underlying\", \"cause_addiction\", \"sign_symptom\", \"sign\", \"friend_family\", \"mindfulness_loveyourself\", \"visit_addictionrecovery\", \"click_read\", \"depressionhelp\", \"session\", \"depressionhelp_depressionsupport\", \"underlying\", \"email_schedule\", \"using_mindfulness\", \"treat_underlying\", \"schedule\", \"mental_health\", \"therapy_skype\", \"poetry_heartbreak\", \"online_counseling\", \"without_depending\", \"poem_poetrycommunity\", \"mindfulness\", \"contact_learn\", \"contact\", \"back\", \"therapy\", \"loneliness\", \"treatment\", \"online\", \"patient\", \"like_share\", \"lancet\", \"feel_like\", \"health\", \"psychotherapy\", \"million\", \"overcoming\", \"without\", \"symptom\", \"life\", \"learn\", \"visit\", \"like\", \"people\", \"disorder\", \"mindfulness_therapy\", \"mentalhealthawareness\", \"help\", \"pandemic\", \"mentalhealthmatters\", \"study\", \"study_published\", \"increase\", \"always\", \"find\", \"could_conversation\", \"well_being\", \"poetry_poem\", \"friend_lifecoach\", \"dream_instagood\", \"lead_leadership\", \"adhd_hiddenillness\", \"contact_most\", \"artist\", \"stimulation\", \"alcohol\", \"strapup_freepj\", \"quote_radio\", \"survivor_familyman_friend_lifecoach\", \"lead_leadership_veteran_marine\", \"leadwithlove_love\", \"videooftheday_inspiration\", \"survivor_familyman\", \"videooftheday\", \"marine\", \"leadwithlove_love_dream_instagood\", \"follow_followme_videooftheday_inspiration\", \"leadwithlove\", \"veteran_marine\", \"follow_followme\", \"familyman\", \"followme\", \"track\", \"instagram\", \"isolation\", \"live_podcast\", \"podcast\", \"quote\", \"lgbtq_kyrie\", \"freepj\", \"iheart\", \"strapup\", \"irving\", \"radio\", \"live\", \"irving_iheart\", \"lgbtq_kyrie_irving_iheart\", \"quote_radio_strapup_freepj\", \"lgbtq\", \"kyrie\", \"instagood\", \"reason_keep\", \"down\", \"btslovemyself\", \"made\", \"ssri\", \"bipolar_mhsm\", \"could\", \"conversation\", \"case\", \"wide\", \"published\", \"increase\", \"wait_hell\", \"found\", \"self_care\", \"cope\", \"professional\", \"essential\", \"maybe\", \"reflection\", \"worst\", \"document_world\", \"lancet_october\", \"wide_increase\", \"document_world_wide_increase\", \"study_published_lancet_october\", \"system\", \"leading\", \"create\", \"seems\", \"thursday\", \"future\", \"awareness\", \"second\", \"caring\", \"nutrition\", \"22for22_ptsd\", \"mentalheath\", \"empty\", \"spirituality\", \"nature\", \"million\", \"give_promise\", \"selfhelp_book\", \"lancet\", \"study\", \"disorder\", \"world\", \"october\", \"coming\", \"fall\", \"pandemic\", \"disorder_pandemic\", \"mentalhealthmatters\", \"major\", \"live_podcast\", \"relief\", \"kill\", \"live\", \"case\", \"quote_radio\", \"quote\", \"lgbtq\"], \"Freq\": [5793.0, 5808.0, 7237.0, 6533.0, 4231.0, 4231.0, 4231.0, 2611.0, 2637.0, 2688.0, 3969.0, 4359.0, 4355.0, 4355.0, 4355.0, 3386.0, 3351.0, 1726.0, 2118.0, 2118.0, 1935.0, 2409.0, 2405.0, 2745.0, 1218.0, 1998.0, 2105.0, 2629.0, 2012.0, 2577.0, 7234.264876289199, 2406.6652564376795, 2401.892861828749, 6461.430013848967, 4306.712004599802, 4306.712004599802, 4306.712004599802, 4310.685505158883, 2153.9820242698215, 2153.9820242698215, 2153.9820242698215, 2153.9820242698215, 2155.6470688148192, 126.86508316286736, 2559.1573548018905, 119.74215730405389, 2482.0032157442993, 80.30801562158616, 80.22002923105272, 80.17501312407045, 2410.377914509293, 119.76414990593837, 2299.095348973863, 52.21615479039725, 65.4876751074585, 2209.9672611018927, 80.37926781577292, 40.72872436498048, 40.69373359196043, 40.68294906570931, 2379.1949623164005, 1850.0972019076946, 49.1765606403734, 71.93885564181556, 61.508220882533465, 5777.198048328061, 1916.9958372151436, 5664.133106362125, 140.50988407636626, 93.05473952722302, 93.05473952722302, 3768.3426406861104, 1875.7414979970918, 102.0269716465873, 53.110409994270256, 48.53525845849576, 45.326155044448704, 45.326155044448704, 45.326155044448704, 45.326155044448704, 45.326155044448704, 45.326155044448704, 45.326155044448704, 45.326155044448704, 45.326155044448704, 45.326155044448704, 1812.8638805725839, 1893.1848720419769, 94.34383294174825, 40.82212720350919, 28.119376681800365, 1779.8603086995447, 50.243499069907976, 1906.010838031482, 32.875946505853705, 1742.3332949596506, 1519.674967575671, 1398.7942496935966, 119.99037358975454, 1120.948290056893, 1120.948290056893, 1120.948290056893, 560.5655987520377, 560.5655987520377, 71.984522898627, 52.900640109503804, 102.03149408346819, 263.5601258974007, 57.68011262171952, 72.21820307468035, 65.28725449661238, 124.20140091069277, 81.65746055082678, 535.7000269430343, 252.5928738844501, 97.3748887018157, 112.46175548282328, 819.5223130134146, 106.33688425555508, 71.13973567223594, 102.32141431036841, 63.39789550302855, 63.3646919865056, 60.800879943372955, 93.38032763130411, 59.753907362922284, 64.85972841874174, 58.670809292626366, 57.68383296768662, 85.27450219513005, 136.31396741627344, 55.70983640837196, 63.75775727485596, 54.18699332837207, 66.35436567429451, 52.12776456362365, 62.38671709577591, 290.9990996278072, 83.8041268983927, 51.31130055075343, 48.860231970072604, 60.628655163331764, 48.54885818997449, 380.9758552518668, 175.4484830349105, 155.68467062669922, 879.8748895989921, 522.5780674682611, 88.76515858761917, 243.40590235196183, 449.53068239325387, 94.23827807687726, 130.16433925110246, 2396.9066596399375, 120.44916914764163, 407.5928287626263, 106.6402824855194, 2074.8215320908675, 124.01553338989922, 115.57980439198488, 138.91521025700595, 260.8105805614399, 147.061272702864, 124.52038012489447, 174.83707209252208, 188.70673739645463, 790.884036514594, 121.30465268131154, 175.32694171835718, 362.3863567778689, 264.58331116546753, 229.53623704802928, 227.80079246646503, 169.77750763077185, 156.66488889038945, 151.63345840128335, 132.8079906226765, 412.93344878832994, 211.44765471927926, 179.67651701475333, 171.75426510301972, 171.7502818325697, 171.7369378765621, 155.80927083473043, 142.09453458685044, 113.47713881341157, 110.59003949579319, 108.41513648691912, 607.0343341293554, 1194.3231983108924, 87.02829148770698, 87.0275446244976, 87.02698447709056, 87.02522312468845, 87.02568369033423, 87.0209037657942, 87.02044942400849, 87.01688937604378, 87.01807813331871, 87.01184182552039, 87.00681917043731, 87.00131727812821, 86.99621371286412, 86.9870708624093, 88.05399607630855, 125.74393135726721, 90.61384483101706, 1678.5376203385824, 752.1119150607892, 793.9361552042895, 575.2309070387439, 566.8531930464903, 562.2124838086888, 560.9543678370484, 560.8459730899272, 559.622760525605, 803.2488423529253, 545.4180695646519, 544.5270119649813, 542.4802084442359, 570.3688275456823, 539.0055518397986, 134.39807187103244, 184.20787303098152, 173.05466598003113, 140.78966497830288, 136.59585378955384, 880.8041636234036, 147.74659619191328, 173.2044867398327, 146.93768109755433, 179.42169973543315, 2606.1369336973876, 2611.765048451383, 2521.702323147253, 29.215768735992697, 21.61364612197476, 28.45446296149275, 13.115379819149691, 13.046879461748226, 11.420902977854842, 13.673429047195874, 10.15024163343342, 10.046600875804636, 2975.3482852614006, 2975.3482852614006, 2975.3482852614006, 1487.8100400545623, 1487.8100400545623, 11.148714827342065, 9.55981971847987, 8.944675184229384, 11.65010510366993, 8.906011841764068, 8.86014208307206, 24.549452238079798, 7.936298640682357, 7.802396188667855, 12.098466634914525, 14.487850399862415, 7.217287874662336, 7.199106924206257, 14.738141289890503, 15.04995086554434, 1281.815790961954, 19.22368006458571, 19.207352526160392, 685.8092449275329, 498.9672859705965, 294.9748386215745, 200.74137000896633, 178.59558886164635, 19.01722455815445, 15.319674853683935, 109.54681997469424, 132.2729555071298, 75.9801329307603, 55.27839617489057, 45.83607329319386, 16.709247903363973, 16.12397686853843, 26.79314030485525, 28.356687450282575, 22.285150435135453, 20.178298173273582, 19.04467694690299], \"Total\": [5793.0, 5808.0, 7237.0, 6533.0, 4231.0, 4231.0, 4231.0, 2611.0, 2637.0, 2688.0, 3969.0, 4359.0, 4355.0, 4355.0, 4355.0, 3386.0, 3351.0, 1726.0, 2118.0, 2118.0, 1935.0, 2409.0, 2405.0, 2745.0, 1218.0, 1998.0, 2105.0, 2629.0, 2012.0, 2577.0, 7237.606998959883, 2409.8668108012703, 2405.0931933710276, 6533.099573063531, 4355.132586268136, 4355.132586268136, 4355.132586268136, 4359.270516618631, 2179.7798051114437, 2179.7798051114437, 2179.7798051114437, 2179.7798051114437, 2181.6359644573354, 130.1124834013084, 2629.5602355736028, 123.26283874226954, 2577.79061220277, 83.70177171162713, 83.62364605778828, 83.59768896488323, 2526.7342967861496, 125.92596534006454, 2449.239811785961, 55.70948668380182, 70.13620951849988, 2367.530612570013, 86.6071777732381, 44.02300384670093, 43.9871888132705, 43.982092775982856, 2878.9841657184743, 2745.904871313805, 54.90719872454776, 89.34928897988428, 979.3261386880686, 5793.583211688528, 1935.1873127275408, 5808.193240844266, 145.42613564554574, 97.81142723378659, 97.81142723378659, 3969.33502493374, 1998.4304815963578, 109.17317927460115, 58.11104124793179, 53.254228095412195, 49.98694578103965, 49.98694578103965, 49.98694578103965, 49.98694578103965, 49.98694578103965, 49.98694578103965, 49.98694578103965, 49.98694578103965, 49.98694578103965, 49.98694578103965, 2012.0672418155184, 2105.181178883754, 105.98270844313093, 46.457345791457705, 32.40351663451313, 2066.096214221202, 58.7132205299793, 2231.3960224822663, 38.97103891154389, 2121.2958563128313, 2261.6465486498196, 2511.665042671008, 185.3535884984643, 4231.967643957724, 4231.967643957724, 4231.967643957724, 2118.1833788895306, 2118.1833788895306, 130.4846749202519, 68.96710241438252, 328.3662973023916, 3351.5093063348754, 96.37090337700356, 234.2050463441227, 159.95914191531955, 2878.9841657184743, 524.3724164483639, 546.5585447175689, 261.7755649055449, 101.9065807966963, 118.25892356803969, 864.1082140526996, 112.23405280857646, 75.19372528432633, 108.34403741609262, 67.440417410831, 67.4234422782644, 64.78955167400996, 99.60630309198315, 63.75925892930258, 69.31636097187858, 62.71399211878081, 61.680702016398165, 91.29405309518752, 146.0305743390652, 59.69817760211134, 68.40292681974074, 58.25118394687365, 71.55939188386445, 56.302484007997066, 67.40161332913064, 315.43673471758893, 90.84239916816388, 55.62281648164585, 53.0071115885467, 65.96505172030157, 52.83005893540227, 417.91434880271817, 191.41001931751273, 170.02972404582496, 979.3261386880686, 588.6959437666549, 96.59280992135866, 272.4237140627514, 516.204833232085, 102.95589499352313, 144.65069309031847, 3351.5093063348754, 136.87306014730683, 524.3724164483639, 120.79539464298378, 3386.7933317430106, 143.57734604763482, 134.48755523661282, 166.67736503695352, 369.94833718961445, 187.3687781716691, 151.59700957025169, 247.1759549903196, 282.7854550373754, 2511.665042671008, 153.49408567027044, 328.3662973023916, 2878.9841657184743, 2121.2958563128313, 2231.3960224822663, 2261.6465486498196, 3969.33502493374, 2688.2747992248756, 2367.530612570013, 2449.239811785961, 415.020871378279, 213.580493499588, 181.80255414024455, 173.84639543146838, 173.84314596606617, 173.8323271014927, 157.90464826795818, 144.19955543708653, 115.58738689524756, 112.77059302618548, 110.58718328787012, 619.2562525082384, 1218.6584768866016, 89.11525438244956, 89.11485914605699, 89.11437079083953, 89.1127210249218, 89.11336335784434, 89.10883796810552, 89.10891838811241, 89.10552917647337, 89.1067765787492, 89.101254138975, 89.09621286588656, 89.09193423015398, 89.08796350551225, 89.07955096894433, 90.32701794318655, 129.10012578605435, 93.03995872829125, 1726.5592243394667, 772.6226707023891, 816.9635086766118, 591.0479193666466, 583.5840210717411, 579.4813126474226, 578.3597609136729, 578.2755731435605, 577.5741529174302, 833.6041716082568, 564.5687600681305, 563.781914025679, 561.9795939526592, 591.3858894621591, 558.9134811328163, 138.4357809889221, 193.15022535667546, 182.88671299288072, 146.5864920913822, 142.34193413486383, 2745.904871313805, 164.6798188618866, 227.34706629502898, 167.85339489908282, 2105.181178883754, 2611.809718831457, 2637.666536627386, 2688.2747992248756, 33.36158140444168, 26.429236968839486, 35.0208286675734, 17.27316277800403, 17.22577987420692, 15.659436150426675, 19.153567135915985, 14.362055407231898, 14.217589235713437, 4231.967643957724, 4231.967643957724, 4231.967643957724, 2118.1833788895306, 2118.1833788895306, 16.01897684021454, 13.738901071394787, 13.10781093346165, 17.11268512098195, 13.086563603044414, 13.024866436304858, 36.72683477545155, 12.160986704691567, 12.01757815891574, 18.801170571038014, 22.727976965953417, 11.359248352673358, 11.348542463959328, 23.661636064541078, 24.353345295611696, 3386.7933317430106, 34.31163143422239, 34.36580997156494, 3351.5093063348754, 2261.6465486498196, 2511.665042671008, 2066.096214221202, 2012.0672418155184, 44.598144291935114, 29.989188313148166, 2121.2958563128313, 5808.193240844266, 2231.3960224822663, 1998.4304815963578, 1726.5592243394667, 42.121552541424265, 39.156429286507574, 833.6041716082568, 2105.181178883754, 1218.6584768866016, 816.9635086766118, 591.3858894621591], \"Category\": [\"Default\", \"Default\", \"Default\", \"Default\", \"Default\", \"Default\", \"Default\", \"Default\", \"Default\", \"Default\", \"Default\", \"Default\", \"Default\", \"Default\", \"Default\", \"Default\", \"Default\", \"Default\", \"Default\", \"Default\", \"Default\", \"Default\", \"Default\", \"Default\", \"Default\", \"Default\", \"Default\", \"Default\", \"Default\", \"Default\", \"Topic1\", \"Topic1\", \"Topic1\", \"Topic1\", \"Topic1\", \"Topic1\", \"Topic1\", \"Topic1\", \"Topic1\", \"Topic1\", \"Topic1\", \"Topic1\", \"Topic1\", \"Topic1\", \"Topic1\", \"Topic1\", \"Topic1\", \"Topic1\", \"Topic1\", \"Topic1\", \"Topic1\", \"Topic1\", \"Topic1\", \"Topic1\", \"Topic1\", \"Topic1\", \"Topic1\", \"Topic1\", \"Topic1\", \"Topic1\", \"Topic1\", \"Topic1\", \"Topic1\", \"Topic1\", \"Topic1\", \"Topic2\", \"Topic2\", \"Topic2\", \"Topic2\", \"Topic2\", \"Topic2\", \"Topic2\", \"Topic2\", \"Topic2\", \"Topic2\", \"Topic2\", \"Topic2\", \"Topic2\", \"Topic2\", \"Topic2\", \"Topic2\", \"Topic2\", \"Topic2\", \"Topic2\", \"Topic2\", \"Topic2\", \"Topic2\", \"Topic2\", \"Topic2\", \"Topic2\", \"Topic2\", \"Topic2\", \"Topic2\", \"Topic2\", \"Topic2\", \"Topic2\", \"Topic2\", \"Topic2\", \"Topic2\", \"Topic2\", \"Topic2\", \"Topic2\", \"Topic2\", \"Topic2\", \"Topic2\", \"Topic2\", \"Topic2\", \"Topic2\", \"Topic2\", \"Topic2\", \"Topic2\", \"Topic2\", \"Topic2\", \"Topic3\", \"Topic3\", \"Topic3\", \"Topic3\", \"Topic3\", \"Topic3\", \"Topic3\", \"Topic3\", \"Topic3\", \"Topic3\", \"Topic3\", \"Topic3\", \"Topic3\", \"Topic3\", \"Topic3\", \"Topic3\", \"Topic3\", \"Topic3\", \"Topic3\", \"Topic3\", \"Topic3\", \"Topic3\", \"Topic3\", \"Topic3\", \"Topic3\", \"Topic3\", \"Topic3\", \"Topic3\", \"Topic3\", \"Topic3\", \"Topic3\", \"Topic3\", \"Topic3\", \"Topic3\", \"Topic3\", \"Topic3\", \"Topic3\", \"Topic3\", \"Topic3\", \"Topic3\", \"Topic3\", \"Topic3\", \"Topic3\", \"Topic3\", \"Topic3\", \"Topic3\", \"Topic3\", \"Topic3\", \"Topic3\", \"Topic3\", \"Topic3\", \"Topic3\", \"Topic3\", \"Topic3\", \"Topic3\", \"Topic3\", \"Topic3\", \"Topic3\", \"Topic3\", \"Topic3\", \"Topic3\", \"Topic3\", \"Topic3\", \"Topic3\", \"Topic4\", \"Topic4\", \"Topic4\", \"Topic4\", \"Topic4\", \"Topic4\", \"Topic4\", \"Topic4\", \"Topic4\", \"Topic4\", \"Topic4\", \"Topic4\", \"Topic4\", \"Topic4\", \"Topic4\", \"Topic4\", \"Topic4\", \"Topic4\", \"Topic4\", \"Topic4\", \"Topic4\", \"Topic4\", \"Topic4\", \"Topic4\", \"Topic4\", \"Topic4\", \"Topic4\", \"Topic4\", \"Topic4\", \"Topic4\", \"Topic4\", \"Topic4\", \"Topic4\", \"Topic4\", \"Topic4\", \"Topic4\", \"Topic4\", \"Topic4\", \"Topic4\", \"Topic4\", \"Topic4\", \"Topic4\", \"Topic4\", \"Topic4\", \"Topic4\", \"Topic4\", \"Topic4\", \"Topic4\", \"Topic4\", \"Topic4\", \"Topic4\", \"Topic4\", \"Topic4\", \"Topic4\", \"Topic4\", \"Topic5\", \"Topic5\", \"Topic5\", \"Topic5\", \"Topic5\", \"Topic5\", \"Topic5\", \"Topic5\", \"Topic5\", \"Topic5\", \"Topic5\", \"Topic5\", \"Topic5\", \"Topic5\", \"Topic5\", \"Topic5\", \"Topic5\", \"Topic5\", \"Topic5\", \"Topic5\", \"Topic5\", \"Topic5\", \"Topic5\", \"Topic5\", \"Topic5\", \"Topic5\", \"Topic5\", \"Topic5\", \"Topic5\", \"Topic5\", \"Topic5\", \"Topic5\", \"Topic5\", \"Topic5\", \"Topic5\", \"Topic5\", \"Topic5\", \"Topic5\", \"Topic5\", \"Topic5\", \"Topic5\", \"Topic5\", \"Topic5\", \"Topic5\", \"Topic5\", \"Topic5\", \"Topic5\", \"Topic5\", \"Topic5\", \"Topic5\", \"Topic5\", \"Topic5\", \"Topic5\", \"Topic5\"], \"logprob\": [30.0, 29.0, 28.0, 27.0, 26.0, 25.0, 24.0, 23.0, 22.0, 21.0, 20.0, 19.0, 18.0, 17.0, 16.0, 15.0, 14.0, 13.0, 12.0, 11.0, 10.0, 9.0, 8.0, 7.0, 6.0, 5.0, 4.0, 3.0, 2.0, 1.0, -2.2501, -3.3507, -3.3527, -2.3631, -2.7688, -2.7688, -2.7688, -2.7679, -3.4617, -3.4617, -3.4617, -3.4617, -3.4609, -6.2936, -3.2893, -6.3514, -3.3199, -6.7509, -6.752, -6.7525, -3.3492, -6.3512, -3.3965, -7.1813, -6.9549, -3.436, -6.75, -7.4298, -7.4307, -7.4309, -3.3622, -3.6137, -7.2413, -6.8609, -7.0176, -2.0519, -3.1551, -2.0717, -5.7683, -6.1804, -6.1804, -2.4792, -3.1768, -6.0883, -6.7412, -6.8313, -6.8997, -6.8997, -6.8997, -6.8997, -6.8997, -6.8997, -6.8997, -6.8997, -6.8997, -6.8997, -3.2109, -3.1676, -6.1666, -7.0044, -7.3771, -3.2293, -6.7967, -3.1608, -7.2208, -3.2506, -3.3873, -3.4702, -5.9262, -3.6916, -3.6916, -3.6916, -4.3846, -4.3846, -6.4371, -6.7452, -6.0883, -5.1393, -6.6587, -6.4339, -6.5348, -5.8917, -6.311, -4.159, -4.9108, -5.864, -5.72, -3.7339, -5.776, -6.1779, -5.8145, -6.2931, -6.2937, -6.335, -5.9059, -6.3523, -6.2704, -6.3706, -6.3876, -5.9967, -5.5276, -6.4224, -6.2875, -6.4501, -6.2476, -6.4889, -6.3092, -4.7693, -6.0141, -6.5047, -6.5536, -6.3378, -6.56, -4.4998, -5.2752, -5.3947, -3.6628, -4.1838, -5.9566, -4.9478, -4.3344, -5.8968, -5.5738, -2.6606, -5.6514, -4.4323, -5.7731, -2.8049, -5.6222, -5.6926, -5.5087, -4.8788, -5.4517, -5.6181, -5.2787, -5.2024, -3.7694, -5.6443, -5.2759, -4.5499, -4.8644, -5.0065, -5.0141, -5.3081, -5.3885, -5.4211, -5.5537, -4.1703, -4.8396, -5.0024, -5.0475, -5.0475, -5.0476, -5.145, -5.2371, -5.462, -5.4878, -5.5076, -3.785, -3.1083, -5.7274, -5.7274, -5.7274, -5.7274, -5.7274, -5.7274, -5.7274, -5.7275, -5.7275, -5.7275, -5.7276, -5.7277, -5.7277, -5.7278, -5.7156, -5.3593, -5.687, -2.7679, -3.5707, -3.5166, -3.8388, -3.8535, -3.8617, -3.8639, -3.8641, -3.8663, -3.5049, -3.892, -3.8937, -3.8974, -3.8473, -3.9039, -5.2928, -4.9775, -5.04, -5.2463, -5.2766, -3.4128, -5.1981, -5.0391, -5.2036, -5.0039, -2.2639, -2.2617, -2.2968, -6.7548, -7.0562, -6.7812, -7.5557, -7.561, -7.6941, -7.5141, -7.812, -7.8223, -2.1314, -2.1314, -2.1314, -2.8244, -2.8244, -7.7182, -7.8719, -7.9384, -7.6742, -7.9428, -7.9479, -6.9288, -8.0581, -8.0751, -7.6364, -7.4562, -8.153, -8.1555, -7.4391, -7.4181, -2.9735, -7.1734, -7.1742, -3.5989, -3.917, -4.4426, -4.8275, -4.9444, -7.1842, -7.4004, -5.4332, -5.2446, -5.799, -6.1171, -6.3044, -7.3135, -7.3492, -6.8414, -6.7846, -7.0256, -7.1249, -7.1827], \"loglift\": [30.0, 29.0, 28.0, 27.0, 26.0, 25.0, 24.0, 23.0, 22.0, 21.0, 20.0, 19.0, 18.0, 17.0, 16.0, 15.0, 14.0, 13.0, 12.0, 11.0, 10.0, 9.0, 8.0, 7.0, 6.0, 5.0, 4.0, 3.0, 2.0, 1.0, 1.0674, 1.0665, 1.0665, 1.0568, 1.0567, 1.0567, 1.0567, 1.0566, 1.0559, 1.0559, 1.0559, 1.0559, 1.0559, 1.0426, 1.0407, 1.0389, 1.03, 1.0265, 1.0263, 1.026, 1.0207, 1.0177, 1.0046, 1.0031, 0.9993, 0.999, 0.9932, 0.9901, 0.99, 0.9899, 0.8772, 0.673, 0.9576, 0.8511, -1.6998, 1.4882, 1.4816, 1.4659, 1.4566, 1.4411, 1.4411, 1.439, 1.4276, 1.4233, 1.401, 1.3982, 1.3931, 1.3931, 1.3931, 1.3931, 1.3931, 1.3931, 1.3931, 1.3931, 1.3931, 1.3931, 1.3867, 1.3849, 1.3747, 1.3617, 1.3492, 1.3419, 1.3352, 1.3334, 1.3209, 1.2942, 1.0934, 0.9057, 1.0561, 0.1625, 0.1625, 0.1625, 0.1616, 0.1616, 0.8962, 1.2258, 0.3221, -1.0519, 0.9777, 0.3145, 0.5949, -1.6523, -0.3687, 1.7419, 1.7263, 1.7165, 1.7117, 1.709, 1.708, 1.7066, 1.7048, 1.7002, 1.6999, 1.6985, 1.6975, 1.6971, 1.6955, 1.6954, 1.695, 1.6938, 1.6931, 1.6929, 1.6917, 1.6897, 1.6865, 1.685, 1.6847, 1.6814, 1.6814, 1.6813, 1.6805, 1.6776, 1.6775, 1.6695, 1.6749, 1.6739, 1.6549, 1.6429, 1.6775, 1.6494, 1.6237, 1.6735, 1.6565, 1.4268, 1.6342, 1.5101, 1.6374, 1.272, 1.6155, 1.6105, 1.5798, 1.4124, 1.5198, 1.5652, 1.4158, 1.3575, 0.6064, 1.5266, 1.1345, -0.3105, -0.3196, -0.5123, -0.5334, -1.3899, -1.0805, -0.9861, -1.1526, 2.0059, 2.001, 1.9992, 1.9989, 1.9989, 1.9989, 1.9976, 1.9963, 1.9926, 1.9915, 1.9912, 1.9911, 1.9908, 1.9873, 1.9873, 1.9873, 1.9873, 1.9873, 1.9873, 1.9873, 1.9873, 1.9873, 1.9873, 1.9873, 1.9872, 1.9872, 1.9872, 1.9855, 1.9846, 1.9846, 1.9828, 1.9841, 1.9824, 1.9839, 1.9819, 1.9807, 1.9804, 1.9804, 1.9794, 1.9739, 1.9765, 1.9762, 1.9757, 1.9748, 1.9747, 1.9814, 1.9636, 1.9557, 1.9706, 1.9698, 0.874, 1.9025, 1.739, 1.8779, -0.4514, 2.0729, 2.0652, 2.0111, 1.9424, 1.8739, 1.8674, 1.7997, 1.7972, 1.7594, 1.738, 1.728, 1.7278, 1.7228, 1.7228, 1.7228, 1.7218, 1.7218, 1.7126, 1.7124, 1.6929, 1.6906, 1.6902, 1.6898, 1.6723, 1.6483, 1.6431, 1.6342, 1.6248, 1.6215, 1.6199, 1.6017, 1.5938, 1.1035, 1.4957, 1.4933, 0.4885, 0.5638, -0.0667, -0.2563, -0.3467, 1.2227, 1.4034, -0.8884, -1.7071, -1.3048, -1.5127, -1.5537, 1.1505, 1.1878, -1.3625, -2.2322, -1.9265, -1.6259, -1.3606]}, \"token.table\": {\"Topic\": [1, 4, 5, 1, 3, 4, 1, 4, 1, 4, 1, 3, 4, 1, 2, 3, 4, 1, 4, 1, 4, 1, 4, 5, 1, 2, 3, 4, 5, 1, 4, 1, 3, 4, 1, 3, 4, 1, 2, 4, 5, 1, 2, 3, 4, 1, 4, 1, 4, 1, 4, 5, 1, 2, 3, 4, 5, 1, 3, 4, 1, 3, 4, 1, 4, 5, 1, 2, 3, 4, 1, 2, 3, 4, 1, 3, 4, 1, 4, 1, 3, 4, 1, 4, 5, 1, 2, 3, 4, 1, 4, 1, 4, 5, 1, 2, 3, 4, 1, 3, 4, 1, 3, 4, 1, 3, 4, 1, 2, 3, 4, 1, 2, 3, 4, 5, 1, 2, 3, 4, 5, 1, 2, 3, 4, 5, 1, 2, 3, 4, 5, 1, 2, 3, 4, 5, 1, 2, 4, 1, 4, 1, 3, 4, 1, 4, 5, 1, 3, 4, 1, 3, 4, 1, 3, 4, 1, 3, 4, 1, 4, 5, 1, 4, 1, 3, 4, 1, 3, 4, 1, 4, 5, 1, 4, 1, 2, 3, 4, 1, 2, 3, 4, 5, 1, 4, 1, 4, 1, 4, 1, 3, 4, 5, 1, 4, 5, 1, 3, 4, 1, 4, 1, 4, 1, 4, 5, 1, 4, 5, 1, 2, 3, 4, 1, 3, 4, 1, 2, 3, 4, 5, 1, 2, 3, 4, 5, 1, 4, 5, 1, 2, 3, 4, 5, 1, 4, 1, 3, 4, 5, 1, 2, 3, 4, 1, 2, 3, 4, 1, 2, 3, 4, 1, 2, 3, 4, 1, 2, 3, 4, 1, 2, 3, 4, 1, 2, 3, 4, 1, 2, 3, 4, 1, 4, 5, 1, 4, 5, 1, 3, 4, 1, 4, 1, 3, 4, 5, 1, 2, 3, 4, 1, 4, 5, 1, 2, 3, 4, 5, 1, 2, 3, 4, 5, 1, 4, 1, 4, 1, 4, 5, 1, 4, 1, 4, 1, 4, 1, 2, 3, 4, 5, 1, 4, 1, 4, 1, 4, 5, 1, 4, 5, 1, 4, 5, 1, 2, 3, 4, 5, 1, 2, 3, 4, 5, 1, 3, 4, 1, 3, 4, 5, 1, 4, 5, 1, 3, 4, 5, 1, 4, 1, 2, 3, 4, 5, 1, 4, 1, 4, 5, 1, 3, 4, 5, 1, 2, 3, 4, 5, 1, 2, 3, 4, 5, 1, 4, 5, 1, 2, 3, 4, 5, 1, 2, 3, 4, 5, 1, 2, 3, 4, 5, 1, 2, 3, 4, 5, 1, 3, 4, 5, 1, 2, 3, 4, 1, 2, 4, 1, 4, 5, 1, 4, 5, 1, 2, 3, 4, 5, 1, 2, 3, 4, 5, 1, 3, 4, 1, 3, 4, 1, 3, 4, 5, 1, 2, 3, 4, 1, 2, 3, 4, 1, 2, 3, 4, 5, 1, 2, 3, 4, 5, 1, 2, 4, 1, 3, 4, 5, 1, 2, 3, 4, 5, 1, 3, 4, 1, 3, 4, 1, 2, 3, 4, 5, 1, 2, 4, 1, 3, 4, 5, 1, 3, 4, 5, 1, 3, 4, 5, 1, 4, 1, 4, 5, 1, 2, 3, 4, 5, 1, 2, 3, 4, 5, 1, 2, 4, 5, 1, 2, 4, 5, 1, 4, 5, 1, 4, 5, 1, 3, 4, 5, 1, 2, 3, 4, 5, 1, 4, 1, 4, 1, 4, 1, 4, 5, 1, 3, 4, 5, 1, 2, 3, 4, 1, 3, 4, 1, 3, 4, 1, 4, 5, 1, 4, 5, 1, 4, 5, 1, 4, 5, 1, 2, 3, 4, 1, 2, 3, 4, 1, 2, 3, 4, 1, 2, 3, 4, 5, 1, 3, 4, 1, 2, 3, 4, 1, 2, 3, 4, 1, 2, 3, 4, 1, 2, 3, 4, 1, 4, 5, 1, 3, 4, 1, 3, 4, 1, 4, 5, 1, 4, 5, 1, 2, 3, 4, 5, 1, 2, 3, 4, 5, 1, 2, 3, 4, 5, 1, 4, 1, 4, 1, 2, 3, 4, 5, 1, 4, 5, 1, 2, 4, 1, 2, 3, 4, 1, 2, 3, 4, 5, 1, 2, 3, 4, 1, 2, 3, 4, 1, 4, 5, 1, 2, 3, 4, 1, 2, 3, 4, 1, 2, 3, 4, 5, 1, 4, 1, 3, 4, 1, 2, 3, 4, 5, 1, 2, 3, 4, 1, 4, 1, 3, 4, 1, 3, 4, 1, 4, 1, 4, 1, 4, 1, 2, 3, 4, 1, 3, 4, 1, 4, 5, 1, 4, 1, 2, 3, 4, 5, 1, 2, 3, 4, 5, 1, 2, 3, 4, 5, 1, 3, 4, 1, 4, 1, 2, 3, 4, 5, 1, 4, 5], \"Freq\": [0.2199931831808003, 0.08799727327232013, 0.6159809129062409, 0.9889269279264474, 0.009634639520508187, 0.0013763770743583125, 0.006332935799983785, 0.9879379847974705, 0.009042639212510679, 0.9766050349511534, 0.9267680766645209, 0.014257970410223399, 0.042773911230670196, 0.9334620588499974, 0.0004223810221040712, 0.06420191535981883, 0.001689524088416285, 0.9569642533252981, 0.023924106333132453, 0.008651462991427099, 0.9776153180312622, 0.2450524270611977, 0.08168414235373256, 0.6807011862811047, 0.06330883813951586, 0.002042220585145673, 0.8985770574640962, 0.036759970532622116, 0.0010211102925728366, 0.9987138987463966, 0.0008315686084482902, 0.9889480778564814, 0.009643793654509455, 0.001377684807787065, 0.9881732067381339, 0.009634000622795178, 0.001835047737675272, 0.006072389482275776, 0.012144778964551552, 0.8987136433768148, 0.07894106326958508, 0.025660080611907495, 0.8467826601929473, 0.025660080611907495, 0.07698024183572248, 0.9760785182178984, 0.01537131524752596, 0.03410955490280096, 0.961889448258987, 0.08321144133837885, 0.1664228826767577, 0.6656915307070308, 0.00047501849723463586, 0.8992100152651658, 0.0014250554917039076, 0.08502831100499983, 0.013300517922569805, 0.01483163668613779, 0.9343931112266808, 0.02966327337227558, 0.016212526240932605, 0.9403265219740912, 0.03242505248186521, 0.022422457612901948, 0.5381389827096468, 0.426026694645137, 0.0058813246072815396, 0.035287947643689234, 0.9174866387359202, 0.035287947643689234, 0.005224386913316124, 0.06269264295979349, 0.9142677098303217, 0.015673160739948372, 0.013298982012378682, 0.9442277228788865, 0.026597964024757365, 0.006934834139875656, 0.9847464478623432, 0.005957579830906739, 0.11319401678722806, 0.8757642351432907, 0.057893277152081195, 0.11578655430416239, 0.7526126029770556, 0.008797122534251635, 0.06597841900688727, 0.16274676688365527, 0.7609510992127665, 0.002409517373617892, 0.9951306753041895, 0.07629038937746635, 0.1525807787549327, 0.6866135043971971, 0.02190723198492135, 0.010953615992460674, 0.9310573593591573, 0.03286084797738202, 0.016750930098151488, 0.9380520854964834, 0.033501860196302975, 0.009229857257022134, 0.9414454402162576, 0.036919429028088535, 0.00890995179248828, 0.9444548900037575, 0.03563980716995312, 0.0076401324956424, 0.0038200662478212, 0.9664767606987636, 0.0267404637347484, 0.005972133921188943, 0.5570010237162221, 0.31493052877736355, 0.004777707136951154, 0.11745196711671588, 0.000516511740501927, 0.9751741660676382, 0.001033023481003854, 0.000516511740501927, 0.02272651658208479, 0.0005167458433729367, 0.9906017817459196, 0.0005167458433729367, 0.0010334916867458734, 0.007234441807221113, 0.00047259340530534055, 0.26488860367364336, 0.029537087831583785, 0.0021266703238740324, 0.7029826903916941, 0.0004721026564396212, 0.2648495902626275, 0.029742467355696134, 0.002832615938637727, 0.7024887527821563, 0.04921079204015409, 0.005467865782239343, 0.9459407803274064, 0.005752311915680575, 0.989397649497059, 0.0171670330496977, 0.9270197846836757, 0.0343340660993954, 0.08811704262250394, 0.1762340852450079, 0.6168192983575276, 0.9881732067381339, 0.009634000622795178, 0.001835047737675272, 0.9881732067381339, 0.009634000622795178, 0.001835047737675272, 0.9881732067381339, 0.009634000622795178, 0.001835047737675272, 0.9735294207438154, 0.00811274517286513, 0.01622549034573026, 0.06385925970730133, 0.12771851941460266, 0.7024518567803146, 0.9313312681427242, 0.04543079356793776, 0.038189661275442315, 0.9489552195715969, 0.012729887091814104, 0.9889480778564814, 0.009643793654509455, 0.001377684807787065, 0.033345350649639616, 0.433489558445315, 0.5001802597445942, 0.011224860920051516, 0.9765629000444818, 0.007306039617465778, 0.08767247540958933, 0.8767247540958933, 0.021918118852397334, 0.9386585947758183, 0.0008165798997614775, 0.05430256333413825, 0.0061243492482110804, 0.00040828994988073873, 0.011224360640960704, 0.9765193757635813, 0.011222491020267553, 0.976356718763277, 0.0112259209787511, 0.9766551251513457, 0.037836885006518224, 0.037836885006518224, 0.11351065501955468, 0.832411470143401, 0.0017135493157669375, 0.9715824620398537, 0.025703239736504065, 0.01568399659583274, 0.9410397957499644, 0.03136799319166548, 0.005752204395829466, 0.9893791560826681, 0.9334137342737283, 0.03590052824129725, 0.07677621915666254, 0.15355243831332507, 0.6909859724099628, 0.34973562895150506, 0.05828927149191751, 0.5537480791732163, 0.9628400337291496, 0.001551716412134004, 0.032198115551780586, 0.003103432824268008, 0.014827903479722517, 0.9341579192225186, 0.029655806959445034, 0.04195491469404243, 0.15637740931415817, 0.778072963416787, 0.020977457347021215, 0.0038140831540038576, 0.8263331310842069, 0.04307074747979893, 0.12573879506199365, 0.0038207921151434533, 0.0006946894754806279, 0.0017256811879427013, 0.9698328276237981, 0.025885217819140518, 0.0018599289036380048, 0.0007439715614552018, 0.05840176757423335, 0.0011159573421828028, 0.9381481389950096, 0.021670697984071518, 0.9679578432885277, 0.015491851675763774, 0.007745925837881887, 0.9759866555731177, 0.007745925837881887, 0.009159758895403419, 0.9342954073311487, 0.027479276686210256, 0.018319517790806837, 0.01022375430234571, 0.950809150118151, 0.01022375430234571, 0.02044750860469142, 0.02000522305124123, 0.9002350373058554, 0.02000522305124123, 0.04001044610248246, 0.02000522305124123, 0.9002350373058554, 0.02000522305124123, 0.04001044610248246, 0.02000522305124123, 0.9002350373058554, 0.02000522305124123, 0.04001044610248246, 0.02000522305124123, 0.9002350373058554, 0.02000522305124123, 0.04001044610248246, 0.02000522305124123, 0.9002350373058554, 0.02000522305124123, 0.04001044610248246, 0.02000522305124123, 0.9002350373058554, 0.02000522305124123, 0.04001044610248246, 0.0017292793374686498, 0.9701257083199126, 0.025939190062029747, 0.0017712634327824355, 0.9653385708664274, 0.030111478357301404, 0.01074807011598473, 0.01074807011598473, 0.9780743805546106, 0.9320895721262984, 0.045467784006160895, 0.25538590168245434, 0.15323154100947262, 0.17877013117771806, 0.40861744269192696, 0.11252873567882093, 0.4063537677290756, 0.37509578559606976, 0.10627713925221977, 0.0017891856857222004, 0.964371084604266, 0.032205342342999606, 0.0005967460678744613, 0.07877048095942889, 0.7152001623475418, 0.0008951191018116918, 0.2046839012809402, 0.00047259340530534055, 0.26488860367364336, 0.029537087831583785, 0.0021266703238740324, 0.7029826903916941, 0.0057526699243699705, 0.989459226991635, 0.011221473159274431, 0.9762681648568755, 0.07278602522890712, 0.14557205045781424, 0.7278602522890711, 0.011223186583213045, 0.976417232739535, 0.01122153465401334, 0.9762735148991606, 0.011222648125679177, 0.9763703869340883, 0.03735947935566155, 0.14410084894326597, 0.7845490664688926, 0.026685342396901107, 0.005337068479380221, 0.9321975697888738, 0.04547305218482311, 0.9557742729224343, 0.023894356823060858, 0.0016909432873169472, 0.9638376737706599, 0.032127922459022, 0.001691910194137181, 0.9728483616288791, 0.023686742717920536, 0.0017737355085754882, 0.9666858521736411, 0.0301535036457833, 0.09190472447663289, 0.15948172776827474, 0.7055039143647408, 0.02162464105332539, 0.02162464105332539, 0.02831990676550293, 0.18205654349251885, 0.7079976691375732, 0.07282261739700753, 0.008091401933000838, 0.0069132057277845865, 0.8987167446119962, 0.08987167446119963, 0.0023992202391951056, 0.0011996101195975528, 0.963286926036835, 0.03238947322913393, 0.0005791866192036199, 0.9724543336428778, 0.026642584483366514, 0.031058212329079765, 0.9213936324293663, 0.041410949772106354, 0.010352737443026588, 0.03512668301431594, 0.9624711145922568, 0.0010007853755324972, 0.9387366822494823, 0.030523953953741162, 0.0020015707510649943, 0.02752159782714367, 0.011222221278060144, 0.9763332511912326, 0.10441919177810392, 0.10441919177810392, 0.7309343424467275, 0.01902124686071142, 0.922530472744504, 0.047553117151778554, 0.00951062343035571, 0.04568069294330332, 0.31062871201446257, 0.5329414176718721, 0.10354290400482086, 0.0030453795295535546, 0.005377799314462733, 0.8541737911138307, 0.1030744868605357, 0.003585199542975155, 0.03405939565826397, 0.08803399388346445, 0.1760679877669289, 0.6162379571842511, 0.032370562925733225, 0.6474112585146644, 0.22659394048013257, 0.09171659495624412, 0.005395093820955537, 0.0029526454733077873, 0.0050194973046232385, 0.6126739357113659, 0.0005905290946615575, 0.37852914967805834, 0.000517814259394344, 0.9971376588403752, 0.000172604753131448, 0.000345209506262896, 0.0017260475313144801, 0.01435700883970456, 0.0622137049720531, 0.9116700613212396, 0.011964174033087135, 0.002392834806617427, 0.014426608465578519, 0.9377295502626037, 0.028853216931157038, 0.014426608465578519, 0.006514908998827213, 0.18241745196716197, 0.7883039888580927, 0.013029817997654425, 0.03755570349112427, 0.9201147355325446, 0.03755570349112427, 0.24637272322013018, 0.12318636161006509, 0.6159318080503254, 0.21275271052334055, 0.10637635526167027, 0.6382581315700216, 0.001988005130678804, 0.9010633254801679, 0.0069580179573758135, 0.001491003848009103, 0.08896322959787648, 0.009686077460169782, 0.1026724210777997, 0.8717469714152805, 0.015497723936271652, 0.0019372154920339565, 0.018865393152568438, 0.9244042644758534, 0.037730786305136876, 0.0091481508217637, 0.9806817680930686, 0.0091481508217637, 0.009812908962130724, 0.9518521693266804, 0.01962581792426145, 0.009812908962130724, 0.034063878321557724, 0.8515969580389432, 0.034063878321557724, 0.08515969580389432, 0.01887100291528383, 0.88693713701834, 0.01887100291528383, 0.07548401166113532, 0.04178932237686977, 0.06964887062811628, 0.8636459957886419, 0.020894661188434884, 0.006964887062811628, 0.0004714099624642496, 0.8211961546127228, 0.12492364005302614, 0.0018856398498569983, 0.05185509587106745, 0.9237109678075696, 0.02309277419518924, 0.03463916129278386, 0.019425793929777585, 0.9130123146995465, 0.04856448482444396, 0.009712896964888793, 0.056579996301030756, 0.21217498612886534, 0.6683512063059258, 0.060116246069845176, 0.0035362497688144223, 0.988249201573961, 0.010084175526264907, 0.0018334864593208924, 0.9889480778564814, 0.009643793654509455, 0.001377684807787065, 0.07249833362518202, 0.7684823364269293, 0.10149766707525482, 0.04349900017510921, 0.014499666725036402, 0.0645753636780434, 0.8825299702665931, 0.04305024245202893, 0.0012942928520216768, 0.0012942928520216768, 0.973308224720301, 0.02329727133639018, 0.01892861791471302, 0.9275022778209379, 0.03785723582942604, 0.01892861791471302, 0.017978233812197826, 0.9168899244220892, 0.03595646762439565, 0.017978233812197826, 0.005500472777893916, 0.9900851000209049, 0.05805252402518816, 0.11610504805037632, 0.754682812327446, 0.09106307432092917, 0.008278461301902651, 0.8857953593035837, 0.016556922603805303, 0.008278461301902651, 0.051237153884242666, 0.307422923305456, 0.461134384958184, 0.17506027577116243, 0.0042697628236868885, 0.0075824596181034735, 0.001137368942715521, 0.0007582459618103474, 0.9902692261243136, 0.0012240448800704532, 0.0012240448800704532, 0.9718916347759399, 0.024480897601409066, 0.0008205744422791651, 0.9797658840813231, 0.018052637730141635, 0.0017794240409452293, 0.9644478301923143, 0.032029632737014126, 0.0017313794167360527, 0.0017313794167360527, 0.9695724733721895, 0.027702070667776843, 0.9731665262430427, 0.0030423338061525366, 0.017493419385377088, 0.005704375886536006, 0.00038029172576906707, 0.9995016310003567, 0.0002763344293614478, 0.04141853826588617, 0.9526263801153819, 0.9988103862054032, 0.0008299213844664754, 0.06962791687159611, 0.13925583374319223, 0.6962791687159611, 0.02374081532290516, 0.04748163064581032, 0.5222979371039136, 0.4035938604893877, 0.9538003275870247, 0.0003957677707829978, 0.04155561593221477, 0.003957677707829978, 0.9889639561961059, 0.009796268874253332, 0.001071466908121458, 0.029672880235577535, 0.9198592873029037, 0.029672880235577535, 0.08223016966330632, 0.16446033932661264, 0.6578413573064505, 0.0584361830379205, 0.233744732151682, 0.701234196455046, 0.11421774276014472, 0.05710887138007236, 0.799524199321013, 0.3491842622050542, 0.058197377034175705, 0.5528750818246692, 0.013695762062513318, 0.020543643093769978, 0.9313118202509056, 0.03423940515628329, 0.02000522305124123, 0.9002350373058554, 0.02000522305124123, 0.04001044610248246, 0.01022375430234571, 0.950809150118151, 0.01022375430234571, 0.02044750860469142, 0.02007905060137676, 0.01003952530068838, 0.9336758529640193, 0.03011857590206514, 0.01003952530068838, 0.01543458743211439, 0.9415098333589779, 0.03086917486422878, 0.03441686738096749, 0.9120469855956386, 0.017208433690483745, 0.03441686738096749, 0.02000522305124123, 0.9002350373058554, 0.02000522305124123, 0.04001044610248246, 0.02000522305124123, 0.9002350373058554, 0.02000522305124123, 0.04001044610248246, 0.02000522305124123, 0.9002350373058554, 0.02000522305124123, 0.04001044610248246, 0.2535750268339009, 0.08452500894463362, 0.6339375670847521, 0.6737305502920972, 0.0054626801375034905, 0.32084141340937167, 0.0088675600009286, 0.0088675600009286, 0.9842991601030745, 0.0017290276184156283, 0.9699844939311675, 0.025935414276234425, 0.0016148403765801238, 0.9802081085841352, 0.01614840376580124, 0.003979401646721903, 0.6720767225574769, 0.10081150838362153, 0.002652934431147935, 0.22063571352380326, 0.0032751077745615613, 0.9492773918883048, 0.04282833243657426, 0.0005038627345479325, 0.00403090187638346, 0.0004721026564396212, 0.2648495902626275, 0.029742467355696134, 0.002832615938637727, 0.7024887527821563, 0.011221661514271345, 0.976284551741607, 0.011221423390751616, 0.9762638349953906, 0.023998459533561577, 0.05399653395051354, 0.8339464687912648, 0.08399460836746551, 0.005999614883390394, 0.062425959533793, 0.18727787860137898, 0.686685554871723, 0.030860847952993334, 0.8641037426838133, 0.06172169590598667, 0.9529408782052106, 0.023823521955130263, 0.007941173985043421, 0.015882347970086842, 0.022082706934962153, 0.06964546033334218, 0.8884042866911698, 0.018685367406506437, 0.001698669764227858, 0.008456021497816652, 0.016912042995633304, 0.947074407755465, 0.016912042995633304, 0.011008075625004568, 0.022016151250009136, 0.9246783525003837, 0.033024226875013704, 0.07641425437059453, 0.15282850874118906, 0.6877282893353508, 0.07263603177627129, 0.6018414061462478, 0.3009207030731239, 0.020753151936077508, 0.006876343069703434, 0.9695643728281842, 0.006876343069703434, 0.013752686139406868, 0.06897361705886546, 0.5517889364709236, 0.33720435006556443, 0.038318676143814144, 0.007663735228762828, 0.011070884689550751, 0.9742378526804661, 0.017761205702007083, 0.9235826965043682, 0.053283617106021246, 0.014683009567510046, 0.05139053348628516, 0.8919928312262353, 0.03670752391877512, 0.0036707523918775116, 0.8058262222568976, 0.05596015432339567, 0.02238406172935827, 0.12311233951147046, 0.956667208037256, 0.0239166802009314, 0.014619257486382951, 0.9356324791285089, 0.043857772459148854, 0.02794881213140898, 0.9223108003364964, 0.04192321819711347, 0.011223821617482949, 0.9764724807210166, 0.011222231406024252, 0.9763341323241099, 0.011221742401069023, 0.976291588893005, 0.059367925696643134, 0.09894654282773856, 0.824554523564488, 0.01978930856554771, 0.015945404944178836, 0.9407788917065513, 0.03189080988835767, 0.0299745982625051, 0.0599491965250102, 0.8692633496126478, 0.00468207551923242, 0.9879179345580407, 0.0003828762841296905, 0.0003828762841296905, 0.0003828762841296905, 0.000765752568259381, 0.9977755964419736, 0.00047259340530534055, 0.26488860367364336, 0.029537087831583785, 0.0021266703238740324, 0.7029826903916941, 0.02230689668439509, 0.08179195450944866, 0.8625333384632768, 0.037178161140658486, 0.007435632228131697, 0.03031908484632439, 0.9247320878128938, 0.03031908484632439, 0.8924148588569901, 0.09106274069969288, 0.0019360182611378373, 0.8615281262063376, 0.03775235609218783, 0.0019360182611378373, 0.09728491762217632, 0.07033541224331342, 0.14067082448662685, 0.7033541224331342], \"Term\": [\"22for22_ptsd\", \"22for22_ptsd\", \"22for22_ptsd\", \"acupuncture\", \"acupuncture\", \"acupuncture\", \"adhd_hiddenillness\", \"adhd_hiddenillness\", \"alcohol\", \"alcohol\", \"almost\", \"almost\", \"almost\", \"always\", \"always\", \"always\", \"always\", \"another_friend\", \"another_friend\", \"artist\", \"artist\", \"awareness\", \"awareness\", \"awareness\", \"back\", \"back\", \"back\", \"back\", \"back\", \"beneficial\", \"beneficial\", \"beneficial_good\", \"beneficial_good\", \"beneficial_good\", \"beneficial_good_evidence_back\", \"beneficial_good_evidence_back\", \"beneficial_good_evidence_back\", \"bipolar_mhsm\", \"bipolar_mhsm\", \"bipolar_mhsm\", \"bipolar_mhsm\", \"bipolardisorder\", \"bipolardisorder\", \"bipolardisorder\", \"bipolardisorder\", \"blog_blogger\", \"blog_blogger\", \"btslovemyself\", \"btslovemyself\", \"caring\", \"caring\", \"caring\", \"case\", \"case\", \"case\", \"case\", \"case\", \"cause_addiction\", \"cause_addiction\", \"cause_addiction\", \"click_read\", \"click_read\", \"click_read\", \"coming\", \"coming\", \"coming\", \"contact\", \"contact\", \"contact\", \"contact\", \"contact_learn\", \"contact_learn\", \"contact_learn\", \"contact_learn\", \"contact_looking\", \"contact_looking\", \"contact_looking\", \"contact_most\", \"contact_most\", \"conversation\", \"conversation\", \"conversation\", \"cope\", \"cope\", \"cope\", \"could\", \"could\", \"could\", \"could\", \"could_conversation\", \"could_conversation\", \"create\", \"create\", \"create\", \"depressionhelp\", \"depressionhelp\", \"depressionhelp\", \"depressionhelp\", \"depressionhelp_depressionsupport\", \"depressionhelp_depressionsupport\", \"depressionhelp_depressionsupport\", \"depressionrecovery\", \"depressionrecovery\", \"depressionrecovery\", \"depressiontreatment\", \"depressiontreatment\", \"depressiontreatment\", \"depressiontreatment_depressionrecovery\", \"depressiontreatment_depressionrecovery\", \"depressiontreatment_depressionrecovery\", \"depressiontreatment_depressionrecovery\", \"disorder\", \"disorder\", \"disorder\", \"disorder\", \"disorder\", \"disorder_pandemic\", \"disorder_pandemic\", \"disorder_pandemic\", \"disorder_pandemic\", \"disorder_pandemic\", \"document\", \"document\", \"document\", \"document\", \"document\", \"document_world\", \"document_world\", \"document_world\", \"document_world\", \"document_world\", \"document_world_wide_increase\", \"document_world_wide_increase\", \"document_world_wide_increase\", \"document_world_wide_increase\", \"document_world_wide_increase\", \"down\", \"down\", \"down\", \"dream_instagood\", \"dream_instagood\", \"email_schedule\", \"email_schedule\", \"email_schedule\", \"empty\", \"empty\", \"empty\", \"enhances\", \"enhances\", \"enhances\", \"enhances_ssri\", \"enhances_ssri\", \"enhances_ssri\", \"enhances_ssri_performance_always\", \"enhances_ssri_performance_always\", \"enhances_ssri_performance_always\", \"enjoy_tweet\", \"enjoy_tweet\", \"enjoy_tweet\", \"essential\", \"essential\", \"essential\", \"eupd\", \"eupd\", \"evidence\", \"evidence\", \"evidence\", \"evidence_back\", \"evidence_back\", \"evidence_back\", \"fall\", \"fall\", \"fall\", \"familyman\", \"familyman\", \"feel_like\", \"feel_like\", \"feel_like\", \"feel_like\", \"find\", \"find\", \"find\", \"find\", \"find\", \"follow_followme\", \"follow_followme\", \"follow_followme_videooftheday_inspiration\", \"follow_followme_videooftheday_inspiration\", \"followme\", \"followme\", \"found\", \"found\", \"found\", \"found\", \"freepj\", \"freepj\", \"freepj\", \"friend_family\", \"friend_family\", \"friend_family\", \"friend_lifecoach\", \"friend_lifecoach\", \"fuck\", \"fuck\", \"future\", \"future\", \"future\", \"give_promise\", \"give_promise\", \"give_promise\", \"good\", \"good\", \"good\", \"good\", \"healing_underlying\", \"healing_underlying\", \"healing_underlying\", \"health\", \"health\", \"health\", \"health\", \"health\", \"help\", \"help\", \"help\", \"help\", \"help\", \"iheart\", \"iheart\", \"iheart\", \"increase\", \"increase\", \"increase\", \"increase\", \"increase\", \"instagood\", \"instagood\", \"instagram\", \"instagram\", \"instagram\", \"instagram\", \"introvert\", \"introvert\", \"introvert\", \"introvert\", \"introvert_mentalhealthawareness\", \"introvert_mentalhealthawareness\", \"introvert_mentalhealthawareness\", \"introvert_mentalhealthawareness\", \"introvertlife\", \"introvertlife\", \"introvertlife\", \"introvertlife\", \"introvertmemes\", \"introvertmemes\", \"introvertmemes\", \"introvertmemes\", \"introvertmemes_infj\", \"introvertmemes_infj\", \"introvertmemes_infj\", \"introvertmemes_infj\", \"introvertproblems\", \"introvertproblems\", \"introvertproblems\", \"introvertproblems\", \"introvertproblems_introvertlife\", \"introvertproblems_introvertlife\", \"introvertproblems_introvertlife\", \"introvertproblems_introvertlife\", \"introvertproblems_introvertlife_introvert_mentalhealthawareness\", \"introvertproblems_introvertlife_introvert_mentalhealthawareness\", \"introvertproblems_introvertlife_introvert_mentalhealthawareness\", \"introvertproblems_introvertlife_introvert_mentalhealthawareness\", \"irving\", \"irving\", \"irving\", \"irving_iheart\", \"irving_iheart\", \"irving_iheart\", \"isolation\", \"isolation\", \"isolation\", \"iwillnotletmymhkillme\", \"iwillnotletmymhkillme\", \"kill\", \"kill\", \"kill\", \"kill\", \"know\", \"know\", \"know\", \"know\", \"kyrie\", \"kyrie\", \"kyrie\", \"lancet\", \"lancet\", \"lancet\", \"lancet\", \"lancet\", \"lancet_october\", \"lancet_october\", \"lancet_october\", \"lancet_october\", \"lancet_october\", \"lead_leadership\", \"lead_leadership\", \"lead_leadership_veteran_marine\", \"lead_leadership_veteran_marine\", \"leading\", \"leading\", \"leading\", \"leadwithlove\", \"leadwithlove\", \"leadwithlove_love\", \"leadwithlove_love\", \"leadwithlove_love_dream_instagood\", \"leadwithlove_love_dream_instagood\", \"learn\", \"learn\", \"learn\", \"learn\", \"learn\", \"letsbeatmentalhealthtogether\", \"letsbeatmentalhealthtogether\", \"letsbeatmentalhealthtogether_iwillnotletmymhkillme\", \"letsbeatmentalhealthtogether_iwillnotletmymhkillme\", \"lgbtq\", \"lgbtq\", \"lgbtq\", \"lgbtq_kyrie\", \"lgbtq_kyrie\", \"lgbtq_kyrie\", \"lgbtq_kyrie_irving_iheart\", \"lgbtq_kyrie_irving_iheart\", \"lgbtq_kyrie_irving_iheart\", \"life\", \"life\", \"life\", \"life\", \"life\", \"like\", \"like\", \"like\", \"like\", \"like\", \"like_share\", \"like_share\", \"like_share\", \"live\", \"live\", \"live\", \"live\", \"live_podcast\", \"live_podcast\", \"live_podcast\", \"loneliness\", \"loneliness\", \"loneliness\", \"loneliness\", \"made\", \"made\", \"major\", \"major\", \"major\", \"major\", \"major\", \"marine\", \"marine\", \"maybe\", \"maybe\", \"maybe\", \"mental_health\", \"mental_health\", \"mental_health\", \"mental_health\", \"mentalhealthawareness\", \"mentalhealthawareness\", \"mentalhealthawareness\", \"mentalhealthawareness\", \"mentalhealthawareness\", \"mentalhealthmatters\", \"mentalhealthmatters\", \"mentalhealthmatters\", \"mentalhealthmatters\", \"mentalhealthmatters\", \"mentalheath\", \"mentalheath\", \"mentalheath\", \"mentalillness\", \"mentalillness\", \"mentalillness\", \"mentalillness\", \"mentalillness\", \"million\", \"million\", \"million\", \"million\", \"million\", \"million_case\", \"million_case\", \"million_case\", \"million_case\", \"million_case\", \"mindfulness\", \"mindfulness\", \"mindfulness\", \"mindfulness\", \"mindfulness\", \"mindfulness_loveyourself\", \"mindfulness_loveyourself\", \"mindfulness_loveyourself\", \"mindfulness_loveyourself\", \"mindfulness_therapy\", \"mindfulness_therapy\", \"mindfulness_therapy\", \"mindfulness_therapy\", \"mindfulness_wellness\", \"mindfulness_wellness\", \"mindfulness_wellness\", \"nature\", \"nature\", \"nature\", \"nutrition\", \"nutrition\", \"nutrition\", \"october\", \"october\", \"october\", \"october\", \"october\", \"online\", \"online\", \"online\", \"online\", \"online\", \"online_counseling\", \"online_counseling\", \"online_counseling\", \"online_mindfulness\", \"online_mindfulness\", \"online_mindfulness\", \"online_psychotherapy\", \"online_psychotherapy\", \"online_psychotherapy\", \"online_psychotherapy\", \"onlinetherapist\", \"onlinetherapist\", \"onlinetherapist\", \"onlinetherapist\", \"onlinetherapy_onlinetherapist\", \"onlinetherapy_onlinetherapist\", \"onlinetherapy_onlinetherapist\", \"onlinetherapy_onlinetherapist\", \"overcoming\", \"overcoming\", \"overcoming\", \"overcoming\", \"overcoming\", \"pandemic\", \"pandemic\", \"pandemic\", \"pandemic\", \"pandemic\", \"past\", \"past\", \"past\", \"patient\", \"patient\", \"patient\", \"patient\", \"people\", \"people\", \"people\", \"people\", \"people\", \"performance\", \"performance\", \"performance\", \"performance_always\", \"performance_always\", \"performance_always\", \"please\", \"please\", \"please\", \"please\", \"please\", \"please_retweet\", \"please_retweet\", \"please_retweet\", \"podcast\", \"podcast\", \"podcast\", \"podcast\", \"poem_poetrycommunity\", \"poem_poetrycommunity\", \"poem_poetrycommunity\", \"poem_poetrycommunity\", \"poetry_heartbreak\", \"poetry_heartbreak\", \"poetry_heartbreak\", \"poetry_heartbreak\", \"poetry_poem\", \"poetry_poem\", \"professional\", \"professional\", \"professional\", \"psychotherapy\", \"psychotherapy\", \"psychotherapy\", \"psychotherapy\", \"psychotherapy\", \"ptsd\", \"ptsd\", \"ptsd\", \"ptsd\", \"ptsd\", \"published\", \"published\", \"published\", \"published\", \"quote\", \"quote\", \"quote\", \"quote\", \"quote_radio\", \"quote_radio\", \"quote_radio\", \"quote_radio_strapup_freepj\", \"quote_radio_strapup_freepj\", \"quote_radio_strapup_freepj\", \"radio\", \"radio\", \"radio\", \"radio\", \"really\", \"really\", \"really\", \"really\", \"really\", \"really_help\", \"really_help\", \"reason_keep\", \"reason_keep\", \"reduces\", \"reduces\", \"reflection\", \"reflection\", \"reflection\", \"relief\", \"relief\", \"relief\", \"relief\", \"research\", \"research\", \"research\", \"research\", \"research_find\", \"research_find\", \"research_find\", \"schedule\", \"schedule\", \"schedule\", \"second\", \"second\", \"second\", \"seems\", \"seems\", \"seems\", \"self_care\", \"self_care\", \"self_care\", \"selfhelp_book\", \"selfhelp_book\", \"selfhelp_book\", \"session\", \"session\", \"session\", \"session\", \"shyness\", \"shyness\", \"shyness\", \"shyness\", \"shyness_anxietyhelp\", \"shyness_anxietyhelp\", \"shyness_anxietyhelp\", \"shyness_anxietyhelp\", \"sign\", \"sign\", \"sign\", \"sign\", \"sign\", \"sign_symptom\", \"sign_symptom\", \"sign_symptom\", \"socialanxiety\", \"socialanxiety\", \"socialanxiety\", \"socialanxiety\", \"socialanxietyproblems\", \"socialanxietyproblems\", \"socialanxietyproblems\", \"socialanxietyproblems\", \"socialanxietyproblems_mentalillness\", \"socialanxietyproblems_mentalillness\", \"socialanxietyproblems_mentalillness\", \"socialanxietyproblems_mentalillness\", \"socialanxietyproblems_mentalillness_introvertmemes_infj\", \"socialanxietyproblems_mentalillness_introvertmemes_infj\", \"socialanxietyproblems_mentalillness_introvertmemes_infj\", \"socialanxietyproblems_mentalillness_introvertmemes_infj\", \"spirituality\", \"spirituality\", \"spirituality\", \"ssri\", \"ssri\", \"ssri\", \"stimulation\", \"stimulation\", \"stimulation\", \"strapup\", \"strapup\", \"strapup\", \"strapup_freepj\", \"strapup_freepj\", \"strapup_freepj\", \"study\", \"study\", \"study\", \"study\", \"study\", \"study_published\", \"study_published\", \"study_published\", \"study_published\", \"study_published\", \"study_published_lancet_october\", \"study_published_lancet_october\", \"study_published_lancet_october\", \"study_published_lancet_october\", \"study_published_lancet_october\", \"survivor_familyman\", \"survivor_familyman\", \"survivor_familyman_friend_lifecoach\", \"survivor_familyman_friend_lifecoach\", \"symptom\", \"symptom\", \"symptom\", \"symptom\", \"symptom\", \"system\", \"system\", \"system\", \"talk_psychotherapist\", \"talk_psychotherapist\", \"talk_psychotherapist\", \"thank_much\", \"thank_much\", \"thank_much\", \"thank_much\", \"therapy\", \"therapy\", \"therapy\", \"therapy\", \"therapy\", \"therapy_session\", \"therapy_session\", \"therapy_session\", \"therapy_session\", \"therapy_skype\", \"therapy_skype\", \"therapy_skype\", \"therapy_skype\", \"thursday\", \"thursday\", \"thursday\", \"tip\", \"tip\", \"tip\", \"tip\", \"tip_socialanxiety\", \"tip_socialanxiety\", \"tip_socialanxiety\", \"tip_socialanxiety\", \"today\", \"today\", \"today\", \"today\", \"today\", \"track\", \"track\", \"treat_underlying\", \"treat_underlying\", \"treat_underlying\", \"treatment\", \"treatment\", \"treatment\", \"treatment\", \"treatment\", \"twitter\", \"twitter\", \"twitter\", \"twitter\", \"twitter_hope\", \"twitter_hope\", \"underlying\", \"underlying\", \"underlying\", \"using_mindfulness\", \"using_mindfulness\", \"using_mindfulness\", \"veteran_marine\", \"veteran_marine\", \"videooftheday\", \"videooftheday\", \"videooftheday_inspiration\", \"videooftheday_inspiration\", \"visit\", \"visit\", \"visit\", \"visit\", \"visit_addictionrecovery\", \"visit_addictionrecovery\", \"visit_addictionrecovery\", \"wait_hell\", \"wait_hell\", \"wait_hell\", \"well_being\", \"well_being\", \"wide\", \"wide\", \"wide\", \"wide\", \"wide\", \"wide_increase\", \"wide_increase\", \"wide_increase\", \"wide_increase\", \"wide_increase\", \"without\", \"without\", \"without\", \"without\", \"without\", \"without_depending\", \"without_depending\", \"without_depending\", \"worker\", \"worker\", \"world\", \"world\", \"world\", \"world\", \"world\", \"worst\", \"worst\", \"worst\"]}, \"R\": 30, \"lambda.step\": 0.01, \"plot.opts\": {\"xlab\": \"PC1\", \"ylab\": \"PC2\"}, \"topic.order\": [2, 3, 5, 4, 1]};\n",
       "\n",
       "function LDAvis_load_lib(url, callback){\n",
       "  var s = document.createElement('script');\n",
       "  s.src = url;\n",
       "  s.async = true;\n",
       "  s.onreadystatechange = s.onload = callback;\n",
       "  s.onerror = function(){console.warn(\"failed to load library \" + url);};\n",
       "  document.getElementsByTagName(\"head\")[0].appendChild(s);\n",
       "}\n",
       "\n",
       "if(typeof(LDAvis) !== \"undefined\"){\n",
       "   // already loaded: just create the visualization\n",
       "   !function(LDAvis){\n",
       "       new LDAvis(\"#\" + \"ldavis_el1699614619243152089428417304\", ldavis_el1699614619243152089428417304_data);\n",
       "   }(LDAvis);\n",
       "}else if(typeof define === \"function\" && define.amd){\n",
       "   // require.js is available: use it to load d3/LDAvis\n",
       "   require.config({paths: {d3: \"https://d3js.org/d3.v5\"}});\n",
       "   require([\"d3\"], function(d3){\n",
       "      window.d3 = d3;\n",
       "      LDAvis_load_lib(\"https://cdn.jsdelivr.net/gh/bmabey/pyLDAvis@3.2.2/pyLDAvis/js/ldavis.v3.0.0.js\", function(){\n",
       "        new LDAvis(\"#\" + \"ldavis_el1699614619243152089428417304\", ldavis_el1699614619243152089428417304_data);\n",
       "      });\n",
       "    });\n",
       "}else{\n",
       "    // require.js not available: dynamically load d3 & LDAvis\n",
       "    LDAvis_load_lib(\"https://d3js.org/d3.v5.js\", function(){\n",
       "         LDAvis_load_lib(\"https://cdn.jsdelivr.net/gh/bmabey/pyLDAvis@3.2.2/pyLDAvis/js/ldavis.v3.0.0.js\", function(){\n",
       "                 new LDAvis(\"#\" + \"ldavis_el1699614619243152089428417304\", ldavis_el1699614619243152089428417304_data);\n",
       "            })\n",
       "         });\n",
       "}\n",
       "</script>"
      ],
      "text/plain": [
       "PreparedData(topic_coordinates=              x         y  topics  cluster       Freq\n",
       "topic                                                \n",
       "1     -0.348295 -0.222649       1        1  34.374612\n",
       "2      0.214806 -0.049456       2        1  22.514816\n",
       "4      0.009888  0.026653       3        1  17.170178\n",
       "3     -0.140023  0.326758       4        1  13.385650\n",
       "0      0.263624 -0.081306       5        1  12.554744, topic_info=                                Term         Freq        Total Category  \\\n",
       "term                                                                      \n",
       "1197                    million_case  5793.000000  5793.000000  Default   \n",
       "1196               disorder_pandemic  5808.000000  5808.000000  Default   \n",
       "839                      really_help  7237.000000  7237.000000  Default   \n",
       "1210                   research_find  6533.000000  6533.000000  Default   \n",
       "1229                   wide_increase  4231.000000  4231.000000  Default   \n",
       "1227                  lancet_october  4231.000000  4231.000000  Default   \n",
       "1225                  document_world  4231.000000  4231.000000  Default   \n",
       "684                             wide  2611.000000  2611.000000  Default   \n",
       "1071                       published  2637.000000  2637.000000  Default   \n",
       "271                         increase  2688.000000  2688.000000  Default   \n",
       "1195                 study_published  3969.000000  3969.000000  Default   \n",
       "1201                     acupuncture  4359.000000  4359.000000  Default   \n",
       "1202                 beneficial_good  4355.000000  4355.000000  Default   \n",
       "1207                   evidence_back  4355.000000  4355.000000  Default   \n",
       "1209              performance_always  4355.000000  4355.000000  Default   \n",
       "807                          million  3386.000000  3386.000000  Default   \n",
       "1190                          lancet  3351.000000  3351.000000  Default   \n",
       "1175                    live_podcast  1726.000000  1726.000000  Default   \n",
       "1226    document_world_wide_increase  2118.000000  2118.000000  Default   \n",
       "1228  study_published_lancet_october  2118.000000  2118.000000  Default   \n",
       "1224                        document  1935.000000  1935.000000  Default   \n",
       "1095                         reduces  2409.000000  2409.000000  Default   \n",
       "935                       beneficial  2405.000000  2405.000000  Default   \n",
       "939                             ssri  2745.000000  2745.000000  Default   \n",
       "1176                     quote_radio  1218.000000  1218.000000  Default   \n",
       "591                            major  1998.000000  1998.000000  Default   \n",
       "262                             case  2105.000000  2105.000000  Default   \n",
       "153                           really  2629.000000  2629.000000  Default   \n",
       "805                          october  2012.000000  2012.000000  Default   \n",
       "308                             good  2577.000000  2577.000000  Default   \n",
       "...                              ...          ...          ...      ...   \n",
       "1153                          second     7.936299    12.160987   Topic5   \n",
       "994                           caring     7.802396    12.017578   Topic5   \n",
       "1126                       nutrition    12.098467    18.801171   Topic5   \n",
       "60                      22for22_ptsd    14.487850    22.727977   Topic5   \n",
       "772                      mentalheath     7.217288    11.359248   Topic5   \n",
       "1164                           empty     7.199107    11.348542   Topic5   \n",
       "1073                    spirituality    14.738141    23.661636   Topic5   \n",
       "12                            nature    15.049951    24.353345   Topic5   \n",
       "807                          million  1281.815791  3386.793332   Topic5   \n",
       "1070                    give_promise    19.223680    34.311631   Topic5   \n",
       "1072                   selfhelp_book    19.207353    34.365810   Topic5   \n",
       "1190                          lancet   685.809245  3351.509306   Topic5   \n",
       "289                            study   498.967286  2261.646549   Topic5   \n",
       "42                          disorder   294.974839  2511.665043   Topic5   \n",
       "7                              world   200.741370  2066.096214   Topic5   \n",
       "805                          october   178.595589  2012.067242   Topic5   \n",
       "19                            coming    19.017225    44.598144   Topic5   \n",
       "9                               fall    15.319675    29.989188   Topic5   \n",
       "640                         pandemic   109.546820  2121.295856   Topic5   \n",
       "1196               disorder_pandemic   132.272956  5808.193241   Topic5   \n",
       "132              mentalhealthmatters    75.980133  2231.396022   Topic5   \n",
       "591                            major    55.278396  1998.430482   Topic5   \n",
       "1175                    live_podcast    45.836073  1726.559224   Topic5   \n",
       "974                           relief    16.709248    42.121553   Topic5   \n",
       "371                             kill    16.123977    39.156429   Topic5   \n",
       "171                             live    26.793140   833.604172   Topic5   \n",
       "262                             case    28.356687  2105.181179   Topic5   \n",
       "1176                     quote_radio    22.285150  1218.658477   Topic5   \n",
       "465                            quote    20.178298   816.963509   Topic5   \n",
       "817                            lgbtq    19.044677   591.385889   Topic5   \n",
       "\n",
       "      logprob  loglift  \n",
       "term                    \n",
       "1197  30.0000  30.0000  \n",
       "1196  29.0000  29.0000  \n",
       "839   28.0000  28.0000  \n",
       "1210  27.0000  27.0000  \n",
       "1229  26.0000  26.0000  \n",
       "1227  25.0000  25.0000  \n",
       "1225  24.0000  24.0000  \n",
       "684   23.0000  23.0000  \n",
       "1071  22.0000  22.0000  \n",
       "271   21.0000  21.0000  \n",
       "1195  20.0000  20.0000  \n",
       "1201  19.0000  19.0000  \n",
       "1202  18.0000  18.0000  \n",
       "1207  17.0000  17.0000  \n",
       "1209  16.0000  16.0000  \n",
       "807   15.0000  15.0000  \n",
       "1190  14.0000  14.0000  \n",
       "1175  13.0000  13.0000  \n",
       "1226  12.0000  12.0000  \n",
       "1228  11.0000  11.0000  \n",
       "1224  10.0000  10.0000  \n",
       "1095   9.0000   9.0000  \n",
       "935    8.0000   8.0000  \n",
       "939    7.0000   7.0000  \n",
       "1176   6.0000   6.0000  \n",
       "591    5.0000   5.0000  \n",
       "262    4.0000   4.0000  \n",
       "153    3.0000   3.0000  \n",
       "805    2.0000   2.0000  \n",
       "308    1.0000   1.0000  \n",
       "...       ...      ...  \n",
       "1153  -8.0581   1.6483  \n",
       "994   -8.0751   1.6431  \n",
       "1126  -7.6364   1.6342  \n",
       "60    -7.4562   1.6248  \n",
       "772   -8.1530   1.6215  \n",
       "1164  -8.1555   1.6199  \n",
       "1073  -7.4391   1.6017  \n",
       "12    -7.4181   1.5938  \n",
       "807   -2.9735   1.1035  \n",
       "1070  -7.1734   1.4957  \n",
       "1072  -7.1742   1.4933  \n",
       "1190  -3.5989   0.4885  \n",
       "289   -3.9170   0.5638  \n",
       "42    -4.4426  -0.0667  \n",
       "7     -4.8275  -0.2563  \n",
       "805   -4.9444  -0.3467  \n",
       "19    -7.1842   1.2227  \n",
       "9     -7.4004   1.4034  \n",
       "640   -5.4332  -0.8884  \n",
       "1196  -5.2446  -1.7071  \n",
       "132   -5.7990  -1.3048  \n",
       "591   -6.1171  -1.5127  \n",
       "1175  -6.3044  -1.5537  \n",
       "974   -7.3135   1.1505  \n",
       "371   -7.3492   1.1878  \n",
       "171   -6.8414  -1.3625  \n",
       "262   -6.7846  -2.2322  \n",
       "1176  -7.0256  -1.9265  \n",
       "465   -7.1249  -1.6259  \n",
       "817   -7.1827  -1.3606  \n",
       "\n",
       "[286 rows x 6 columns], token_table=      Topic      Freq                Term\n",
       "term                                     \n",
       "60        1  0.219993        22for22_ptsd\n",
       "60        4  0.087997        22for22_ptsd\n",
       "60        5  0.615981        22for22_ptsd\n",
       "1201      1  0.988927         acupuncture\n",
       "1201      3  0.009635         acupuncture\n",
       "1201      4  0.001376         acupuncture\n",
       "650       1  0.006333  adhd_hiddenillness\n",
       "650       4  0.987938  adhd_hiddenillness\n",
       "1099      1  0.009043             alcohol\n",
       "1099      4  0.976605             alcohol\n",
       "850       1  0.926768              almost\n",
       "850       3  0.014258              almost\n",
       "850       4  0.042774              almost\n",
       "62        1  0.933462              always\n",
       "62        2  0.000422              always\n",
       "62        3  0.064202              always\n",
       "62        4  0.001690              always\n",
       "894       1  0.956964      another_friend\n",
       "894       4  0.023924      another_friend\n",
       "905       1  0.008651              artist\n",
       "905       4  0.977615              artist\n",
       "802       1  0.245052           awareness\n",
       "802       4  0.081684           awareness\n",
       "802       5  0.680701           awareness\n",
       "75        1  0.063309                back\n",
       "75        2  0.002042                back\n",
       "75        3  0.898577                back\n",
       "75        4  0.036760                back\n",
       "75        5  0.001021                back\n",
       "935       1  0.998714          beneficial\n",
       "...     ...       ...                 ...\n",
       "799       1  0.004682          well_being\n",
       "799       4  0.987918          well_being\n",
       "684       1  0.000383                wide\n",
       "684       2  0.000383                wide\n",
       "684       3  0.000383                wide\n",
       "684       4  0.000766                wide\n",
       "684       5  0.997776                wide\n",
       "1229      1  0.000473       wide_increase\n",
       "1229      2  0.264889       wide_increase\n",
       "1229      3  0.029537       wide_increase\n",
       "1229      4  0.002127       wide_increase\n",
       "1229      5  0.702983       wide_increase\n",
       "219       1  0.022307             without\n",
       "219       2  0.081792             without\n",
       "219       3  0.862533             without\n",
       "219       4  0.037178             without\n",
       "219       5  0.007436             without\n",
       "220       1  0.030319   without_depending\n",
       "220       3  0.924732   without_depending\n",
       "220       4  0.030319   without_depending\n",
       "690       1  0.892415              worker\n",
       "690       4  0.091063              worker\n",
       "7         1  0.001936               world\n",
       "7         2  0.861528               world\n",
       "7         3  0.037752               world\n",
       "7         4  0.001936               world\n",
       "7         5  0.097285               world\n",
       "1165      1  0.070335               worst\n",
       "1165      4  0.140671               worst\n",
       "1165      5  0.703354               worst\n",
       "\n",
       "[757 rows x 3 columns], R=30, lambda_step=0.01, plot_opts={'xlab': 'PC1', 'ylab': 'PC2'}, topic_order=[2, 3, 5, 4, 1])"
      ]
     },
     "execution_count": 17,
     "metadata": {},
     "output_type": "execute_result"
    }
   ],
   "source": [
    "# visualize the topics\n",
    "pyLDAvis.enable_notebook()\n",
    "LDAvis_viz = pyLDAvis.gensim.prepare(best_model, corpus, dictionary)\n",
    "LDAvis_viz"
   ]
  },
  {
   "cell_type": "code",
   "execution_count": 18,
   "id": "3382668e",
   "metadata": {},
   "outputs": [],
   "source": [
    "pyLDAvis.save_html(LDAvis_viz, 'Depression Visualization.html')"
   ]
  },
  {
   "cell_type": "markdown",
   "id": "7a3f8530",
   "metadata": {},
   "source": [
    "### We interpret the topics based on the keywords."
   ]
  },
  {
   "cell_type": "code",
   "execution_count": 20,
   "id": "5390552a",
   "metadata": {},
   "outputs": [
    {
     "name": "stdout",
     "output_type": "stream",
     "text": [
      "1: Treatment/Tips\n",
      "2: Studies/Publications\n",
      "3: Online/Mindfulness\n",
      "4: Irrelevant\n",
      "5: Stats/Pandemic news\n"
     ]
    }
   ],
   "source": [
    "print('1: Treatment/Tips')\n",
    "print('2: Studies/Publications')\n",
    "print('3: Online/Mindfulness')\n",
    "print('4: Irrelevant')\n",
    "print('5: Stats/Pandemic news')"
   ]
  }
 ],
 "metadata": {
  "kernelspec": {
   "display_name": "Python 3",
   "language": "python",
   "name": "python3"
  },
  "language_info": {
   "codemirror_mode": {
    "name": "ipython",
    "version": 3
   },
   "file_extension": ".py",
   "mimetype": "text/x-python",
   "name": "python",
   "nbconvert_exporter": "python",
   "pygments_lexer": "ipython3",
   "version": "3.6.5"
  }
 },
 "nbformat": 4,
 "nbformat_minor": 5
}
