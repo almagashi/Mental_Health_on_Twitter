{
 "cells": [
  {
   "cell_type": "markdown",
   "id": "b413950f",
   "metadata": {},
   "source": [
    "**Import libraries and packages**"
   ]
  },
  {
   "cell_type": "code",
   "execution_count": 1,
   "id": "31a09ae4",
   "metadata": {},
   "outputs": [],
   "source": [
    "import pandas as pd\n",
    "import numpy as np\n",
    "\n",
    "import matplotlib.pyplot as plt\n",
    "import seaborn as sns\n",
    "\n",
    "import sklearn\n",
    "import re\n",
    "\n",
    "import nltk\n",
    "from nltk.tokenize import RegexpTokenizer\n",
    "from nltk.corpus import stopwords\n",
    "\n",
    "from sklearn.feature_extraction.text import CountVectorizer\n",
    "from sklearn.decomposition import LatentDirichletAllocation\n",
    "from sklearn.decomposition import NMF"
   ]
  },
  {
   "cell_type": "markdown",
   "id": "9dfc4cb9",
   "metadata": {},
   "source": [
    "**Read the data from the file**"
   ]
  },
  {
   "cell_type": "code",
   "execution_count": 2,
   "id": "92251359",
   "metadata": {},
   "outputs": [],
   "source": [
    "### read data ###\n",
    "data = pd.read_csv('ocd.csv')"
   ]
  },
  {
   "cell_type": "markdown",
   "id": "b52e57fc",
   "metadata": {},
   "source": [
    "One example of how a tweet looks like:"
   ]
  },
  {
   "cell_type": "code",
   "execution_count": 3,
   "id": "e91ece6e",
   "metadata": {},
   "outputs": [
    {
     "data": {
      "text/plain": [
       "'Admitting health anxiety https://t.co/0LJdlfdSjJ \\r\\r\\n\\r\\r\\n#factitiousdisorder #malingering #OCD #hypnotherapy #hypnotherapist  #hypnosis #hypnotist #cardiff https://t.co/3KORilvwlF'"
      ]
     },
     "execution_count": 3,
     "metadata": {},
     "output_type": "execute_result"
    }
   ],
   "source": [
    "data.text[1000]"
   ]
  },
  {
   "cell_type": "markdown",
   "id": "dfb540a2",
   "metadata": {},
   "source": [
    "A sneak-peek at the data:"
   ]
  },
  {
   "cell_type": "code",
   "execution_count": 4,
   "id": "c960fc7f",
   "metadata": {},
   "outputs": [
    {
     "data": {
      "text/html": [
       "<div>\n",
       "<style scoped>\n",
       "    .dataframe tbody tr th:only-of-type {\n",
       "        vertical-align: middle;\n",
       "    }\n",
       "\n",
       "    .dataframe tbody tr th {\n",
       "        vertical-align: top;\n",
       "    }\n",
       "\n",
       "    .dataframe thead th {\n",
       "        text-align: right;\n",
       "    }\n",
       "</style>\n",
       "<table border=\"1\" class=\"dataframe\">\n",
       "  <thead>\n",
       "    <tr style=\"text-align: right;\">\n",
       "      <th></th>\n",
       "      <th>Unnamed: 0</th>\n",
       "      <th>user_ID</th>\n",
       "      <th>followers_count</th>\n",
       "      <th>user_location</th>\n",
       "      <th>user_description</th>\n",
       "      <th>date</th>\n",
       "      <th>text</th>\n",
       "      <th>hashtags</th>\n",
       "    </tr>\n",
       "  </thead>\n",
       "  <tbody>\n",
       "    <tr>\n",
       "      <th>0</th>\n",
       "      <td>0</td>\n",
       "      <td>829318199468490752</td>\n",
       "      <td>294</td>\n",
       "      <td>Eora Nation</td>\n",
       "      <td>PhD candidate in gender and cultural studies @...</td>\n",
       "      <td>2021-10-27 11:59:28</td>\n",
       "      <td>New research out finds that #acupuncture reduc...</td>\n",
       "      <td>NaN</td>\n",
       "    </tr>\n",
       "    <tr>\n",
       "      <th>1</th>\n",
       "      <td>1</td>\n",
       "      <td>415086641</td>\n",
       "      <td>432</td>\n",
       "      <td>London</td>\n",
       "      <td>Children’s Book Illustrator 🎨 &amp; former @pathwa...</td>\n",
       "      <td>2021-10-27 11:51:28</td>\n",
       "      <td>New research out finds that #acupuncture reduc...</td>\n",
       "      <td>['ocd']</td>\n",
       "    </tr>\n",
       "    <tr>\n",
       "      <th>2</th>\n",
       "      <td>2</td>\n",
       "      <td>1311981838026657792</td>\n",
       "      <td>17</td>\n",
       "      <td>NaN</td>\n",
       "      <td>One of the greatest regrets in life is being w...</td>\n",
       "      <td>2021-10-27 11:26:01</td>\n",
       "      <td>New research out finds that #acupuncture reduc...</td>\n",
       "      <td>['oknottobeok']</td>\n",
       "    </tr>\n",
       "    <tr>\n",
       "      <th>3</th>\n",
       "      <td>3</td>\n",
       "      <td>89962967</td>\n",
       "      <td>29198</td>\n",
       "      <td>Boulder CO, USA</td>\n",
       "      <td>Peter Strong - Psychotherapist specializing in...</td>\n",
       "      <td>2021-10-27 11:25:00</td>\n",
       "      <td>New research out finds that #acupuncture reduc...</td>\n",
       "      <td>['OCD']</td>\n",
       "    </tr>\n",
       "    <tr>\n",
       "      <th>4</th>\n",
       "      <td>4</td>\n",
       "      <td>885311783795212288</td>\n",
       "      <td>981</td>\n",
       "      <td>Hell</td>\n",
       "      <td>A free thinker and freelance writer\\r\\r\\n\\r\\r\\...</td>\n",
       "      <td>2021-10-27 11:06:55</td>\n",
       "      <td>New research out finds that #acupuncture reduc...</td>\n",
       "      <td>NaN</td>\n",
       "    </tr>\n",
       "  </tbody>\n",
       "</table>\n",
       "</div>"
      ],
      "text/plain": [
       "   Unnamed: 0              user_ID  followers_count    user_location  \\\n",
       "0           0   829318199468490752              294      Eora Nation   \n",
       "1           1            415086641              432           London   \n",
       "2           2  1311981838026657792               17              NaN   \n",
       "3           3             89962967            29198  Boulder CO, USA   \n",
       "4           4   885311783795212288              981             Hell   \n",
       "\n",
       "                                    user_description                 date  \\\n",
       "0  PhD candidate in gender and cultural studies @...  2021-10-27 11:59:28   \n",
       "1  Children’s Book Illustrator 🎨 & former @pathwa...  2021-10-27 11:51:28   \n",
       "2  One of the greatest regrets in life is being w...  2021-10-27 11:26:01   \n",
       "3  Peter Strong - Psychotherapist specializing in...  2021-10-27 11:25:00   \n",
       "4  A free thinker and freelance writer\\r\\r\\n\\r\\r\\...  2021-10-27 11:06:55   \n",
       "\n",
       "                                                text         hashtags  \n",
       "0  New research out finds that #acupuncture reduc...              NaN  \n",
       "1  New research out finds that #acupuncture reduc...          ['ocd']  \n",
       "2  New research out finds that #acupuncture reduc...  ['oknottobeok']  \n",
       "3  New research out finds that #acupuncture reduc...          ['OCD']  \n",
       "4  New research out finds that #acupuncture reduc...              NaN  "
      ]
     },
     "execution_count": 4,
     "metadata": {},
     "output_type": "execute_result"
    }
   ],
   "source": [
    "data.head()"
   ]
  },
  {
   "cell_type": "markdown",
   "id": "907cc541",
   "metadata": {},
   "source": [
    "**Data Cleaning**"
   ]
  },
  {
   "cell_type": "markdown",
   "id": "d27b6003",
   "metadata": {},
   "source": [
    "1. Remove links\n",
    "2. Remove '@' and usernames\n",
    "3. Remove retweets\n",
    "4. Remove english words that do not contribute to the meaning of the sentence (and, or, while, etc.)\n",
    "5. Remove words that appear in almost every tweet ('ocd').\n",
    "6. Remove punctuation\n",
    "7. Remove double-spacing\n",
    "8. Remove numbers\n",
    "9. Keep the stem of the words (i.e therapeutic, therapy, therapist, therapies - will all be recognized as therapy)\n",
    "10. Check for words that appear together"
   ]
  },
  {
   "cell_type": "code",
   "execution_count": 5,
   "id": "9d60577e",
   "metadata": {},
   "outputs": [],
   "source": [
    "### data cleaning ###\n",
    "def remove_links(tweet):\n",
    "    '''Takes a string and removes web links from it'''\n",
    "    tweet = re.sub(r'http\\S+', '', tweet) # remove http links\n",
    "    tweet = re.sub(r'bit.ly/\\S+', '', tweet) # rempve bitly links\n",
    "    tweet = tweet.strip('[link]') # remove [links]\n",
    "    return tweet\n",
    "\n",
    "def remove_users(tweet):\n",
    "    '''Takes a string and removes retweet and @user information'''\n",
    "    tweet = re.sub('(RT\\s@[A-Za-z]+[A-Za-z0-9-_]+)', '', tweet) # remove retweet\n",
    "    tweet = re.sub('(@[A-Za-z]+[A-Za-z0-9-_]+)', '', tweet) # remove tweeted at\n",
    "    tweet = re.sub ('#', '', tweet)\n",
    "    return tweet\n",
    "\n",
    "my_stopwords = nltk.corpus.stopwords.words('english')\n",
    "repeated_words = ['first','last', 'make', '#ocd', '&amp', 'amp', 'non', 'ever', \n",
    "                  'got', 'via', 'best', 'row', 'know', 'want']\n",
    "my_stopwords.extend(repeated_words)\n",
    "word_rooter = nltk.stem.snowball.PorterStemmer(ignore_stopwords=False).stem\n",
    "my_punctuation = '!\"$%&\\'()*+,-./:;<=>?[\\\\]^_`’{|}~•@'\n",
    "\n",
    "# cleaning master function\n",
    "def clean_tweet(tweet, bigrams=False):\n",
    "    tweet = remove_users(tweet)\n",
    "    tweet = remove_links(tweet)\n",
    "    tweet = tweet.lower() # lower case\n",
    "    tweet = re.sub('['+my_punctuation + ']+', ' ', tweet) # strip punctuation\n",
    "    tweet = re.sub('\\s+', ' ', tweet) #remove double spacing\n",
    "    tweet = re.sub('([0-9]+)', '', tweet) # remove numbers\n",
    "    tweet_token_list = [word for word in tweet.split(' ')\n",
    "                            if word not in my_stopwords] # remove stopwords\n",
    "\n",
    "    tweet_token_list = [word_rooter(word) if '#' not in word else word\n",
    "                        for word in tweet_token_list] # apply word rooter\n",
    "    if bigrams:\n",
    "        tweet_token_list = tweet_token_list+[tweet_token_list[i]+'_'+tweet_token_list[i+1]\n",
    "                                            for i in range(len(tweet_token_list)-1)]\n",
    "    tweet = ' '.join(tweet_token_list)\n",
    "    return tweet"
   ]
  },
  {
   "cell_type": "markdown",
   "id": "3b4f3c53",
   "metadata": {},
   "source": [
    "Save the original tweets + the cleaned up tweets."
   ]
  },
  {
   "cell_type": "code",
   "execution_count": 6,
   "id": "2c254622",
   "metadata": {},
   "outputs": [],
   "source": [
    "data['clean_tweet'] = data.text.apply(clean_tweet, True)"
   ]
  },
  {
   "cell_type": "code",
   "execution_count": 7,
   "id": "27c99e08",
   "metadata": {},
   "outputs": [],
   "source": [
    "data = data.drop(columns=\"Unnamed: 0\")"
   ]
  },
  {
   "cell_type": "markdown",
   "id": "a5503780",
   "metadata": {},
   "source": [
    "Turn words into vectors to allow machine process algorithms to process it."
   ]
  },
  {
   "cell_type": "code",
   "execution_count": 8,
   "id": "d17c515e",
   "metadata": {},
   "outputs": [],
   "source": [
    "### Vectorize ###\n",
    "\n",
    "# the vectorizer object will be used to transform text to vector form\n",
    "vectorizer = CountVectorizer(max_df=0.9, min_df=25, token_pattern='\\w+|\\$[\\d\\.]+|\\S+')\n",
    "\n",
    "# apply transformation\n",
    "tf = vectorizer.fit_transform(data['clean_tweet']).toarray()\n",
    "\n",
    "# tf_feature_names tells us what word each column in the matric represents\n",
    "tf_feature_names = vectorizer.get_feature_names()"
   ]
  },
  {
   "cell_type": "markdown",
   "id": "66a5f30e",
   "metadata": {},
   "source": [
    "Apply the machine learning algorithm (NMF) to find the main 5 topics in all tweets:"
   ]
  },
  {
   "cell_type": "code",
   "execution_count": 9,
   "id": "c86f6cd9",
   "metadata": {},
   "outputs": [
    {
     "name": "stderr",
     "output_type": "stream",
     "text": [
      "C:\\Users\\almag\\Anaconda3\\lib\\site-packages\\sklearn\\decomposition\\_nmf.py:315: FutureWarning: The 'init' value, when 'init=None' and n_components is less than n_samples and n_features, will be changed from 'nndsvd' to 'nndsvda' in 1.1 (renaming of 0.26).\n",
      "  \"'nndsvda' in 1.1 (renaming of 0.26).\"), FutureWarning)\n",
      "C:\\Users\\almag\\Anaconda3\\lib\\site-packages\\sklearn\\decomposition\\_nmf.py:1091: ConvergenceWarning: Maximum number of iterations 200 reached. Increase it to improve convergence.\n",
      "  \" improve convergence.\" % max_iter, ConvergenceWarning)\n"
     ]
    },
    {
     "data": {
      "text/plain": [
       "NMF(alpha=0.1, l1_ratio=0.5, n_components=5, random_state=0)"
      ]
     },
     "execution_count": 9,
     "metadata": {},
     "output_type": "execute_result"
    }
   ],
   "source": [
    "### Apply NMF topic modeling ###\n",
    "number_of_topics = 5\n",
    "model_nmf = NMF(n_components=number_of_topics, random_state=0, alpha=.1, l1_ratio=.5)\n",
    "model_nmf.fit(tf)"
   ]
  },
  {
   "cell_type": "code",
   "execution_count": 10,
   "id": "37174810",
   "metadata": {},
   "outputs": [],
   "source": [
    "### show topic modeling ###\n",
    "def display_topics(model, feature_names, no_top_words):\n",
    "    topic_dict = {}\n",
    "    for topic_idx, topic in enumerate(model.components_):\n",
    "        topic_dict[\"Topic %d words\" % (topic_idx)]= ['{}'.format(feature_names[i])\n",
    "                        for i in topic.argsort()[:-no_top_words - 1:-1]]\n",
    "        # topic_dict[\"Topic %d weights\" % (topic_idx)]= ['{:.1f}'.format(topic[i])\n",
    "                        # for i in topic.argsort()[:-no_top_words - 1:-1]]\n",
    "    return pd.DataFrame(topic_dict)"
   ]
  },
  {
   "cell_type": "markdown",
   "id": "61c8e161",
   "metadata": {},
   "source": [
    "Show what words appear most often in the 5 classified topics:"
   ]
  },
  {
   "cell_type": "code",
   "execution_count": 11,
   "id": "27852077",
   "metadata": {},
   "outputs": [
    {
     "data": {
      "text/html": [
       "<div>\n",
       "<style scoped>\n",
       "    .dataframe tbody tr th:only-of-type {\n",
       "        vertical-align: middle;\n",
       "    }\n",
       "\n",
       "    .dataframe tbody tr th {\n",
       "        vertical-align: top;\n",
       "    }\n",
       "\n",
       "    .dataframe thead th {\n",
       "        text-align: right;\n",
       "    }\n",
       "</style>\n",
       "<table border=\"1\" class=\"dataframe\">\n",
       "  <thead>\n",
       "    <tr style=\"text-align: right;\">\n",
       "      <th></th>\n",
       "      <th>Topic 0 words</th>\n",
       "      <th>Topic 1 words</th>\n",
       "      <th>Topic 2 words</th>\n",
       "      <th>Topic 3 words</th>\n",
       "      <th>Topic 4 words</th>\n",
       "    </tr>\n",
       "  </thead>\n",
       "  <tbody>\n",
       "    <tr>\n",
       "      <th>0</th>\n",
       "      <td>onlin</td>\n",
       "      <td>acupunctur</td>\n",
       "      <td>read</td>\n",
       "      <td>time</td>\n",
       "      <td>anxieti</td>\n",
       "    </tr>\n",
       "    <tr>\n",
       "      <th>1</th>\n",
       "      <td>mind</td>\n",
       "      <td>help</td>\n",
       "      <td>fiction</td>\n",
       "      <td>night</td>\n",
       "      <td>depress</td>\n",
       "    </tr>\n",
       "    <tr>\n",
       "      <th>2</th>\n",
       "      <td>therapi</td>\n",
       "      <td>mentalhealth</td>\n",
       "      <td>hard</td>\n",
       "      <td>manag</td>\n",
       "      <td>mentalhealth</td>\n",
       "    </tr>\n",
       "    <tr>\n",
       "      <th>3</th>\n",
       "      <td>see</td>\n",
       "      <td>new</td>\n",
       "      <td>die</td>\n",
       "      <td>issu</td>\n",
       "      <td>bipolar</td>\n",
       "    </tr>\n",
       "    <tr>\n",
       "      <th>4</th>\n",
       "      <td>skype</td>\n",
       "      <td>realli</td>\n",
       "      <td>hit</td>\n",
       "      <td>fuck</td>\n",
       "      <td>ptsd</td>\n",
       "    </tr>\n",
       "    <tr>\n",
       "      <th>5</th>\n",
       "      <td>ocdrecoveri</td>\n",
       "      <td>depress</td>\n",
       "      <td>stephen</td>\n",
       "      <td>attempt</td>\n",
       "      <td>bpd</td>\n",
       "    </tr>\n",
       "    <tr>\n",
       "      <th>6</th>\n",
       "      <td>contact</td>\n",
       "      <td>alway</td>\n",
       "      <td>pray</td>\n",
       "      <td>case</td>\n",
       "      <td>health</td>\n",
       "    </tr>\n",
       "    <tr>\n",
       "      <th>7</th>\n",
       "      <td>overcom</td>\n",
       "      <td>back</td>\n",
       "      <td>fabul</td>\n",
       "      <td>stay</td>\n",
       "      <td>adhd</td>\n",
       "    </tr>\n",
       "    <tr>\n",
       "      <th>8</th>\n",
       "      <td>ocdawar</td>\n",
       "      <td>find</td>\n",
       "      <td>tough</td>\n",
       "      <td>slight</td>\n",
       "      <td>❤️</td>\n",
       "    </tr>\n",
       "    <tr>\n",
       "      <th>9</th>\n",
       "      <td>therapist</td>\n",
       "      <td>research</td>\n",
       "      <td>gold</td>\n",
       "      <td>redo</td>\n",
       "      <td>add</td>\n",
       "    </tr>\n",
       "  </tbody>\n",
       "</table>\n",
       "</div>"
      ],
      "text/plain": [
       "  Topic 0 words Topic 1 words Topic 2 words Topic 3 words Topic 4 words\n",
       "0         onlin    acupunctur          read          time       anxieti\n",
       "1          mind          help       fiction         night       depress\n",
       "2       therapi  mentalhealth          hard         manag  mentalhealth\n",
       "3           see           new           die          issu       bipolar\n",
       "4         skype        realli           hit          fuck          ptsd\n",
       "5   ocdrecoveri       depress       stephen       attempt           bpd\n",
       "6       contact         alway          pray          case        health\n",
       "7       overcom          back         fabul          stay          adhd\n",
       "8       ocdawar          find         tough        slight            ❤️\n",
       "9     therapist      research          gold          redo           add"
      ]
     },
     "execution_count": 11,
     "metadata": {},
     "output_type": "execute_result"
    }
   ],
   "source": [
    "no_top_words =  10\n",
    "display_topics(model_nmf, tf_feature_names, no_top_words)"
   ]
  },
  {
   "cell_type": "markdown",
   "id": "8b537fa3",
   "metadata": {},
   "source": [
    "From here, we infer the name of the topic/category based on the 7 most frequent words that the algorithm has identified."
   ]
  },
  {
   "cell_type": "markdown",
   "id": "cad87ccb",
   "metadata": {},
   "source": [
    "- **Topic 0 (Counseling/Recovery)**: Given its most frequent words, like onlin, skype, therapy, recovery etc., it seems to be describing the counseling options or things related to OCD recovery. \n",
    "- **Topic 1 (News/Publication)**: Given the words like find, acupuncture, research, new etc., this topic seems to be describing new findings on the treatment of OCD.\n",
    "- **Topic 2 (Experience)**: Given the words like manage, issue, attept, etc., this topic seems to be describing the struggles or experiences of OCD.\n",
    "- **Topic 3 (Reading)**: Given the words like read, fiction, pray, etc., this topic seems to be talking about plots of books, or generally reading, which could also include religious reading.\n",
    "- **Topic 4 (Co-ocurring Mental Disorders)**: This topic seems to be gathering a lot of mental disorders keywords, which means that it must be showing co-ocurring mental disorders."
   ]
  },
  {
   "cell_type": "code",
   "execution_count": 12,
   "id": "8cc4405d",
   "metadata": {},
   "outputs": [],
   "source": [
    "# category 0: Counseling/Recovery\n",
    "# category 1: News/Publication\n",
    "# category 2: Experience\n",
    "# category 3: Reading\n",
    "# category 4: Co-ocurring Mental Disorders"
   ]
  },
  {
   "cell_type": "markdown",
   "id": "da9f52b4",
   "metadata": {},
   "source": [
    "We add the labels of the topics in our original data:"
   ]
  },
  {
   "cell_type": "code",
   "execution_count": 13,
   "id": "07d9407f",
   "metadata": {},
   "outputs": [],
   "source": [
    "doc_topic = model_nmf.transform(tf)"
   ]
  },
  {
   "cell_type": "code",
   "execution_count": 14,
   "id": "d9756b7e",
   "metadata": {},
   "outputs": [],
   "source": [
    "cat_name = ['Counseling/Recovery',  'News/Publications', 'Experience', 'Reading', 'Co-ocurring Mental Disorders']"
   ]
  },
  {
   "cell_type": "code",
   "execution_count": 15,
   "id": "560ae8ee",
   "metadata": {},
   "outputs": [],
   "source": [
    "classes = []\n",
    "categories = []\n",
    "for n in range(doc_topic.shape[0]):\n",
    "    topic_doc = doc_topic[n].argmax()\n",
    "    classes.append(topic_doc)\n",
    "    categories.append(cat_name[topic_doc])\n",
    "    # print(\"Document\", n+1, \"Topic\", topic_doc)"
   ]
  },
  {
   "cell_type": "code",
   "execution_count": 16,
   "id": "aafc0465",
   "metadata": {},
   "outputs": [],
   "source": [
    "data['category'] = categories\n",
    "data['class'] = classes"
   ]
  },
  {
   "cell_type": "code",
   "execution_count": 17,
   "id": "aac3ca93",
   "metadata": {},
   "outputs": [
    {
     "data": {
      "text/html": [
       "<div>\n",
       "<style scoped>\n",
       "    .dataframe tbody tr th:only-of-type {\n",
       "        vertical-align: middle;\n",
       "    }\n",
       "\n",
       "    .dataframe tbody tr th {\n",
       "        vertical-align: top;\n",
       "    }\n",
       "\n",
       "    .dataframe thead th {\n",
       "        text-align: right;\n",
       "    }\n",
       "</style>\n",
       "<table border=\"1\" class=\"dataframe\">\n",
       "  <thead>\n",
       "    <tr style=\"text-align: right;\">\n",
       "      <th></th>\n",
       "      <th>user_description</th>\n",
       "      <th>text</th>\n",
       "      <th>hashtags</th>\n",
       "      <th>clean_tweet</th>\n",
       "      <th>category</th>\n",
       "      <th>class</th>\n",
       "    </tr>\n",
       "  </thead>\n",
       "  <tbody>\n",
       "    <tr>\n",
       "      <th>2858</th>\n",
       "      <td>DBT/mindfulness-based counseling &amp; education; ...</td>\n",
       "      <td>#therapistsconnect colleagues and others, plea...</td>\n",
       "      <td>['therapistsconnect', 'ocd', 'bpd']</td>\n",
       "      <td>therapistsconnect colleagu other pleas note re...</td>\n",
       "      <td>Co-ocurring Mental Disorders</td>\n",
       "      <td>4</td>\n",
       "    </tr>\n",
       "    <tr>\n",
       "      <th>2859</th>\n",
       "      <td>Introverted Extrovert. Drama Teacher @perthaca...</td>\n",
       "      <td>This is on point. #OCD #Anxiety #Exposure #ERP...</td>\n",
       "      <td>['OCD', 'Anxiety', 'Exposure', 'ERP']</td>\n",
       "      <td>point ocd anxieti exposur erp</td>\n",
       "      <td>Co-ocurring Mental Disorders</td>\n",
       "      <td>4</td>\n",
       "    </tr>\n",
       "    <tr>\n",
       "      <th>2860</th>\n",
       "      <td>Rehabilitation center for #Mentalillness,#drug...</td>\n",
       "      <td>Nearly 2% of the population in the country suf...</td>\n",
       "      <td>NaN</td>\n",
       "      <td>nearli  popul countri suffer ocd commonli seen...</td>\n",
       "      <td>Counseling/Recovery</td>\n",
       "      <td>0</td>\n",
       "    </tr>\n",
       "    <tr>\n",
       "      <th>2861</th>\n",
       "      <td>I’m not sarcastic, I’m British</td>\n",
       "      <td>I have to have my house super organized and cl...</td>\n",
       "      <td>['OCD', 'perfectionist']</td>\n",
       "      <td>hous super organ clean die one judg 🤷🏼‍♀️ ocd ...</td>\n",
       "      <td>Experience</td>\n",
       "      <td>2</td>\n",
       "    </tr>\n",
       "    <tr>\n",
       "      <th>2862</th>\n",
       "      <td>AKA Shiftrox\\r\\r\\nBLOG | LIFE | GAMES | FUN 🧠 ...</td>\n",
       "      <td>How Is The Proof Of Brain Community Changing Y...</td>\n",
       "      <td>['hive', 'ecency', 'proofofbrain']</td>\n",
       "      <td>proof brain commun chang life hive ecenc proof...</td>\n",
       "      <td>Co-ocurring Mental Disorders</td>\n",
       "      <td>4</td>\n",
       "    </tr>\n",
       "  </tbody>\n",
       "</table>\n",
       "</div>"
      ],
      "text/plain": [
       "                                       user_description  \\\n",
       "2858  DBT/mindfulness-based counseling & education; ...   \n",
       "2859  Introverted Extrovert. Drama Teacher @perthaca...   \n",
       "2860  Rehabilitation center for #Mentalillness,#drug...   \n",
       "2861                     I’m not sarcastic, I’m British   \n",
       "2862  AKA Shiftrox\\r\\r\\nBLOG | LIFE | GAMES | FUN 🧠 ...   \n",
       "\n",
       "                                                   text  \\\n",
       "2858  #therapistsconnect colleagues and others, plea...   \n",
       "2859  This is on point. #OCD #Anxiety #Exposure #ERP...   \n",
       "2860  Nearly 2% of the population in the country suf...   \n",
       "2861  I have to have my house super organized and cl...   \n",
       "2862  How Is The Proof Of Brain Community Changing Y...   \n",
       "\n",
       "                                   hashtags  \\\n",
       "2858    ['therapistsconnect', 'ocd', 'bpd']   \n",
       "2859  ['OCD', 'Anxiety', 'Exposure', 'ERP']   \n",
       "2860                                    NaN   \n",
       "2861               ['OCD', 'perfectionist']   \n",
       "2862     ['hive', 'ecency', 'proofofbrain']   \n",
       "\n",
       "                                            clean_tweet  \\\n",
       "2858  therapistsconnect colleagu other pleas note re...   \n",
       "2859                     point ocd anxieti exposur erp    \n",
       "2860  nearli  popul countri suffer ocd commonli seen...   \n",
       "2861  hous super organ clean die one judg 🤷🏼‍♀️ ocd ...   \n",
       "2862  proof brain commun chang life hive ecenc proof...   \n",
       "\n",
       "                          category  class  \n",
       "2858  Co-ocurring Mental Disorders      4  \n",
       "2859  Co-ocurring Mental Disorders      4  \n",
       "2860           Counseling/Recovery      0  \n",
       "2861                    Experience      2  \n",
       "2862  Co-ocurring Mental Disorders      4  "
      ]
     },
     "execution_count": 17,
     "metadata": {},
     "output_type": "execute_result"
    }
   ],
   "source": [
    "data[['user_description', 'text', 'hashtags', 'clean_tweet', 'category', 'class']].tail()"
   ]
  },
  {
   "cell_type": "markdown",
   "id": "3fb1faac",
   "metadata": {},
   "source": [
    "**An example of Categorization in topics**"
   ]
  },
  {
   "cell_type": "markdown",
   "id": "c7651918",
   "metadata": {},
   "source": [
    "We select a random tweet: namely, tweet 111."
   ]
  },
  {
   "cell_type": "code",
   "execution_count": 18,
   "id": "5fd1b678",
   "metadata": {},
   "outputs": [
    {
     "data": {
      "text/plain": [
       "\"New research out finds that #acupuncture reduces #depression &amp; enhances SSRI performance https://t.co/TIBa8O94vm \\r\\r\\nWe've always known how beneficial it is, so its good to have the evidence to back it up. Acupuncture can really help!\\r\\r\\n\\r\\r\\n#mentalhealth https://t.co/OtkjCKTKX4\""
      ]
     },
     "execution_count": 18,
     "metadata": {},
     "output_type": "execute_result"
    }
   ],
   "source": [
    "data['text'][111]"
   ]
  },
  {
   "cell_type": "markdown",
   "id": "f100c194",
   "metadata": {},
   "source": [
    "Its category has been selected as News/Publications, which seems to be adequate given the tweet content:"
   ]
  },
  {
   "cell_type": "code",
   "execution_count": 19,
   "id": "90105992",
   "metadata": {},
   "outputs": [
    {
     "data": {
      "text/plain": [
       "'News/Publications'"
      ]
     },
     "execution_count": 19,
     "metadata": {},
     "output_type": "execute_result"
    }
   ],
   "source": [
    "data['category'][111]"
   ]
  }
 ],
 "metadata": {
  "kernelspec": {
   "display_name": "Python 3",
   "language": "python",
   "name": "python3"
  },
  "language_info": {
   "codemirror_mode": {
    "name": "ipython",
    "version": 3
   },
   "file_extension": ".py",
   "mimetype": "text/x-python",
   "name": "python",
   "nbconvert_exporter": "python",
   "pygments_lexer": "ipython3",
   "version": "3.6.5"
  }
 },
 "nbformat": 4,
 "nbformat_minor": 5
}
