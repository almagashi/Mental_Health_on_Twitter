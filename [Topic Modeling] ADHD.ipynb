{
 "cells": [
  {
   "cell_type": "markdown",
   "id": "4f9dda40",
   "metadata": {},
   "source": [
    "# Topic Modeling: ADHD"
   ]
  },
  {
   "cell_type": "markdown",
   "id": "a2568b51",
   "metadata": {},
   "source": [
    "### The first step is importing the packages that we will be using for identifying topic models."
   ]
  },
  {
   "cell_type": "code",
   "execution_count": 1,
   "id": "76c04294",
   "metadata": {},
   "outputs": [],
   "source": [
    "# Import required packages\n",
    "\n",
    "# DATA PREPROCESSING\n",
    "import nltk\n",
    "from nltk.tokenize import RegexpTokenizer\n",
    "from nltk.corpus import stopwords\n",
    "from nltk.stem import WordNetLemmatizer\n",
    "from gensim.models import Phrases\n",
    "\n",
    "# MODELING\n",
    "import sklearn\n",
    "import re\n",
    "from gensim.models.coherencemodel import CoherenceModel\n",
    "from gensim.models.ldamodel import LdaModel\n",
    "from gensim.corpora.dictionary import Dictionary\n",
    "from numpy import array\n",
    "\n",
    "# VISUALIZATION\n",
    "import matplotlib.pyplot as plt\n",
    "import seaborn as sns\n",
    "import pyLDAvis\n",
    "import pyLDAvis.gensim\n",
    "import pickle \n",
    "\n",
    "# OTHER\n",
    "import numpy as np\n",
    "import pandas as pd\n",
    "import logging\n",
    "import json\n",
    "import warnings\n",
    "import random\n",
    "\n",
    "warnings.filterwarnings('ignore')  "
   ]
  },
  {
   "cell_type": "markdown",
   "id": "88dd1ec9",
   "metadata": {},
   "source": [
    "### In the second step, we read the dataset, and take a glance at what it looks like."
   ]
  },
  {
   "cell_type": "code",
   "execution_count": 2,
   "id": "3111bdb0",
   "metadata": {},
   "outputs": [],
   "source": [
    "data = pd.read_csv('adhd.csv')"
   ]
  },
  {
   "cell_type": "code",
   "execution_count": 3,
   "id": "936dac61",
   "metadata": {},
   "outputs": [
    {
     "data": {
      "text/html": [
       "<div>\n",
       "<style scoped>\n",
       "    .dataframe tbody tr th:only-of-type {\n",
       "        vertical-align: middle;\n",
       "    }\n",
       "\n",
       "    .dataframe tbody tr th {\n",
       "        vertical-align: top;\n",
       "    }\n",
       "\n",
       "    .dataframe thead th {\n",
       "        text-align: right;\n",
       "    }\n",
       "</style>\n",
       "<table border=\"1\" class=\"dataframe\">\n",
       "  <thead>\n",
       "    <tr style=\"text-align: right;\">\n",
       "      <th></th>\n",
       "      <th>user_ID</th>\n",
       "      <th>followers_count</th>\n",
       "      <th>user_location</th>\n",
       "      <th>user_description</th>\n",
       "      <th>date</th>\n",
       "      <th>text</th>\n",
       "      <th>hashtags</th>\n",
       "    </tr>\n",
       "  </thead>\n",
       "  <tbody>\n",
       "    <tr>\n",
       "      <th>0</th>\n",
       "      <td>1.365320e+18</td>\n",
       "      <td>52</td>\n",
       "      <td>Sheffield, England</td>\n",
       "      <td>❤Sal / UK\\r\\r\\n🧡Player of games, Master of non...</td>\n",
       "      <td>10/27/2021 12:40</td>\n",
       "      <td>Saw GP today and we went through stuff and I t...</td>\n",
       "      <td>NaN</td>\n",
       "    </tr>\n",
       "    <tr>\n",
       "      <th>1</th>\n",
       "      <td>5.363879e+07</td>\n",
       "      <td>1667</td>\n",
       "      <td>UK</td>\n",
       "      <td>27y/o nonbinary creator. They/Them. disabled. ...</td>\n",
       "      <td>10/27/2021 12:40</td>\n",
       "      <td>My ADHD Graveyard | Officially Diagnosed and A...</td>\n",
       "      <td>NaN</td>\n",
       "    </tr>\n",
       "    <tr>\n",
       "      <th>2</th>\n",
       "      <td>1.329360e+18</td>\n",
       "      <td>12</td>\n",
       "      <td>England, United Kingdom</td>\n",
       "      <td>38. A diagnosis referral is hard in the UK. Se...</td>\n",
       "      <td>10/27/2021 12:37</td>\n",
       "      <td>Have there been any studies of adults or child...</td>\n",
       "      <td>['askADHD', 'ADHD']</td>\n",
       "    </tr>\n",
       "    <tr>\n",
       "      <th>3</th>\n",
       "      <td>1.242600e+18</td>\n",
       "      <td>8</td>\n",
       "      <td>West Hempstead, NY</td>\n",
       "      <td>OrganizeU4Life is making an impact on the live...</td>\n",
       "      <td>10/27/2021 12:35</td>\n",
       "      <td>Environmental factors don’t directly cause ADH...</td>\n",
       "      <td>NaN</td>\n",
       "    </tr>\n",
       "    <tr>\n",
       "      <th>4</th>\n",
       "      <td>1.429030e+18</td>\n",
       "      <td>48</td>\n",
       "      <td>España</td>\n",
       "      <td>🔞. Mainly NSFW. He/Him. 28. Gay, Single and Lo...</td>\n",
       "      <td>10/27/2021 12:33</td>\n",
       "      <td>Here in Spain we celebrate the national day of...</td>\n",
       "      <td>['ADHD']</td>\n",
       "    </tr>\n",
       "  </tbody>\n",
       "</table>\n",
       "</div>"
      ],
      "text/plain": [
       "        user_ID  followers_count            user_location  \\\n",
       "0  1.365320e+18               52       Sheffield, England   \n",
       "1  5.363879e+07             1667                       UK   \n",
       "2  1.329360e+18               12  England, United Kingdom   \n",
       "3  1.242600e+18                8       West Hempstead, NY   \n",
       "4  1.429030e+18               48                   España   \n",
       "\n",
       "                                    user_description              date  \\\n",
       "0  ❤Sal / UK\\r\\r\\n🧡Player of games, Master of non...  10/27/2021 12:40   \n",
       "1  27y/o nonbinary creator. They/Them. disabled. ...  10/27/2021 12:40   \n",
       "2  38. A diagnosis referral is hard in the UK. Se...  10/27/2021 12:37   \n",
       "3  OrganizeU4Life is making an impact on the live...  10/27/2021 12:35   \n",
       "4  🔞. Mainly NSFW. He/Him. 28. Gay, Single and Lo...  10/27/2021 12:33   \n",
       "\n",
       "                                                text             hashtags  \n",
       "0  Saw GP today and we went through stuff and I t...                  NaN  \n",
       "1  My ADHD Graveyard | Officially Diagnosed and A...                  NaN  \n",
       "2  Have there been any studies of adults or child...  ['askADHD', 'ADHD']  \n",
       "3  Environmental factors don’t directly cause ADH...                  NaN  \n",
       "4  Here in Spain we celebrate the national day of...             ['ADHD']  "
      ]
     },
     "execution_count": 3,
     "metadata": {},
     "output_type": "execute_result"
    }
   ],
   "source": [
    "data.head()"
   ]
  },
  {
   "cell_type": "markdown",
   "id": "782834b2",
   "metadata": {},
   "source": [
    "### Then, we extract our column of interest, which is the tweet."
   ]
  },
  {
   "cell_type": "code",
   "execution_count": 4,
   "id": "f1ae30e5",
   "metadata": {},
   "outputs": [],
   "source": [
    "tweets = data['text']"
   ]
  },
  {
   "cell_type": "markdown",
   "id": "f00f4fe9",
   "metadata": {},
   "source": [
    "### Once we have the tweets, we pre-process the data to make it ready for analysis."
   ]
  },
  {
   "cell_type": "markdown",
   "id": "ff841578",
   "metadata": {},
   "source": [
    "Initially, we convert everything to lowercase, and then we remove users, links, punctuation, double spaces, numbers, short words, emojis and stopwords.\n",
    "\n",
    "Then, we tokenize each word, splitting the sentences in separate words.\n",
    "\n",
    "Lasly, we convert each word into their lemmas (the form of a word under which it is registered in a dictionary)."
   ]
  },
  {
   "cell_type": "code",
   "execution_count": 5,
   "id": "ca776e95",
   "metadata": {},
   "outputs": [],
   "source": [
    "# list of commonly repeated words that do not add meanings\n",
    "my_stopwords = nltk.corpus.stopwords.words('english')\n",
    "repeated_words = ['ever', 'start', 'pre', '&amp', \n",
    "                  'amp', 'may', 'and', 'when',\n",
    "                  'what','who', 'why','how', \n",
    "                  'this', 'your', 'mine', 'their',\n",
    "                  'her', 'his', 'that', 'mental']\n",
    "\n",
    "for i in repeated_words:\n",
    "    my_stopwords.append(i)\n",
    "    \n",
    "tweets = tweets.apply(lambda x: ' '.join([word for word in x.split() if word not in (my_stopwords)]))\n",
    "tweets = array(tweets)\n",
    "    \n",
    "# list of common punctuation    \n",
    "my_punctuation = '!\"$%&\\'()*+,-./:;<=>?[\\\\]^_`’{|}~•@'\n",
    "\n",
    "# list of the majority of emojis\n",
    "emoj = re.compile(\"[\"  \n",
    "    u\"\\U0001F600-\\U0001F64F\" \n",
    "    u\"\\U0001F300-\\U0001F5FF\" \n",
    "    u\"\\U0001F680-\\U0001F6FF\"  \n",
    "    u\"\\U0001F1E0-\\U0001F1FF\"  \n",
    "    u\"\\U00002500-\\U00002BEF\"  \n",
    "    u\"\\U00002702-\\U000027B0\"\n",
    "    u\"\\U00002702-\\U000027B0\"\n",
    "    u\"\\U000024C2-\\U0001F251\"\n",
    "    u\"\\U0001f926-\\U0001f937\"\n",
    "    u\"\\U00010000-\\U0010ffff\"\n",
    "    u\"\\u2640-\\u2642\" \n",
    "    u\"\\u2600-\\u2B55\"\n",
    "    u\"\\u200d\"\n",
    "    u\"\\u23cf\"\n",
    "    u\"\\u23e9\"\n",
    "    u\"\\u231a\"\n",
    "    u\"\\ufe0f\"  \n",
    "    u\"\\u3030\"\n",
    "                  \"]+\", re.UNICODE) "
   ]
  },
  {
   "cell_type": "code",
   "execution_count": 6,
   "id": "9e93843a",
   "metadata": {},
   "outputs": [],
   "source": [
    "def preprocessor(tweets):\n",
    "    \"\"\"\n",
    "    Removes unnecessary information from tweets,\n",
    "    and lemmatizes the tweets.\n",
    "\n",
    "    Input(s):\n",
    "    ------------------------------\n",
    "    tweets(array): all original tweets\n",
    "    \n",
    "    Output(s):\n",
    "    ------------------------------\n",
    "    tweets(array): cleaned up and lemmatized tweets\n",
    "    \"\"\"\n",
    "    tokenizer = RegexpTokenizer(r'\\w+')\n",
    "    for idx in range(len(tweets)):       \n",
    "        tweets[idx] = re.sub(r'http\\S+', '', tweets[idx]) # http links\n",
    "        tweets[idx] = re.sub(r'bit.ly/\\S+', '', tweets[idx]) # bitly links\n",
    "        tweets[idx] = tweets[idx].strip('[link]') # other links(i.e. gifs)\n",
    "        tweets[idx] = tweets[idx].lower()  # turn to lowercase\n",
    "        tweets[idx] = re.sub('(RT\\s@[A-Za-z]+[A-Za-z0-9-_]+)', '', tweets[idx]) # retweets\n",
    "        tweets[idx] = re.sub('(@[A-Za-z]+[A-Za-z0-9-_]+)', '', tweets[idx]) # tweeted at\n",
    "        tweets[idx] = re.sub ('#', '', tweets[idx]) # hashtags\n",
    "        tweets[idx] = re.sub(emoj, '', tweets[idx]) # emojis\n",
    "        tweets[idx] = re.sub('['+my_punctuation + ']+', ' ', tweets[idx]) # remove punctuation\n",
    "        tweets[idx] = re.sub('\\s+', ' ', tweets[idx]) # remove double spacing\n",
    "        tweets[idx] = tokenizer.tokenize(tweets[idx])   # split into words\n",
    "\n",
    "\n",
    "    # numbers (but not words with number)\n",
    "    tweets = [[token for token in tweet if not token.isdigit()] for tweet in tweets]\n",
    "    \n",
    "    # words that are only one character\n",
    "    tweets = [[token for token in tweet if len(token) > 3] for tweet in tweets]\n",
    "    \n",
    "    tweets = [[token for token in tweet if len(token) > 3] for tweet in tweets]\n",
    "    \n",
    "    # lemmatize all words in documents\n",
    "    lemmatizer = WordNetLemmatizer()\n",
    "    tweets = [[lemmatizer.lemmatize(token) for token in tweet] for tweet in tweets]\n",
    " \n",
    "    return tweets"
   ]
  },
  {
   "cell_type": "code",
   "execution_count": 7,
   "id": "6f7ebc8f",
   "metadata": {},
   "outputs": [],
   "source": [
    "tweets = preprocessor(tweets)"
   ]
  },
  {
   "cell_type": "markdown",
   "id": "f8b516c5",
   "metadata": {},
   "source": [
    "### We also create bi- and trigrams, and remove words that appear rarely. This is words that occurr frequently together, for example \"more_than, less_than\"."
   ]
  },
  {
   "cell_type": "code",
   "execution_count": 8,
   "id": "e08cd707",
   "metadata": {},
   "outputs": [],
   "source": [
    "# add bigrams and trigrams to docs\n",
    "\n",
    "# only add bi/trigrams that appear > 10 times\n",
    "bigram = Phrases(tweets, min_count=10)\n",
    "trigram = Phrases(bigram[tweets])\n",
    "\n",
    "for idx in range(len(tweets)):\n",
    "    for token in bigram[tweets[idx]]:\n",
    "        if '_' in token:\n",
    "            tweets[idx].append(token)\n",
    "    for token in trigram[tweets[idx]]:\n",
    "        if '_' in token:\n",
    "            tweets[idx].append(token)\n",
    "\n",
    "dictionary = Dictionary(tweets)\n",
    "dictionary.filter_extremes(no_below=10, no_above=0.2)\n",
    "\n",
    "corpus = [dictionary.doc2bow(t) for t in tweets]"
   ]
  },
  {
   "cell_type": "markdown",
   "id": "bc9525e4",
   "metadata": {},
   "source": [
    "### After being ready for analysis, we analyze this data with Latent Dirichlet Allocation model by assigning a random number of topics."
   ]
  },
  {
   "cell_type": "code",
   "execution_count": 9,
   "id": "feb63c95",
   "metadata": {},
   "outputs": [
    {
     "name": "stdout",
     "output_type": "stream",
     "text": [
      "[(0, '0.078*\"what\" + 0.076*\"change_knew\" + 0.052*\"would\" + 0.051*\"find_started\" + 0.051*\"asking_question\" + 0.051*\"exercise_nutrition\" + 0.051*\"important_sleep\" + 0.026*\"sleep\" + 0.026*\"question\" + 0.026*\"habit\"'), (1, '0.015*\"adhdawarenessmonth\" + 0.012*\"autism\" + 0.011*\"like\" + 0.009*\"anxiety\" + 0.009*\"people\" + 0.008*\"help\" + 0.008*\"mentalhealth\" + 0.008*\"time\" + 0.008*\"child\" + 0.008*\"thing\"'), (2, '0.016*\"think_might\" + 0.016*\"planner\" + 0.015*\"organisation_planner\" + 0.015*\"already_curious\" + 0.015*\"many_different\" + 0.015*\"adhdawareness_adhdperson\" + 0.015*\"adh_adhdtwitter\" + 0.015*\"planner_journal\" + 0.015*\"started_hyperfocus\" + 0.013*\"awareness_month\"'), (3, '0.116*\"job\" + 0.059*\"there\" + 0.059*\"with\" + 0.058*\"body\" + 0.058*\"room\" + 0.058*\"people\" + 0.058*\"human\" + 0.058*\"thinking\" + 0.058*\"though\" + 0.058*\"seem\"'), (4, '0.129*\"meet_brain\" + 0.086*\"have_heard\" + 0.086*\"learn_below\" + 0.086*\"teamadhd_lifeinadhd\" + 0.044*\"learn\" + 0.044*\"teamadhd\" + 0.044*\"heard\" + 0.044*\"meet\" + 0.043*\"brain\" + 0.043*\"frontal\"')]\n"
     ]
    }
   ],
   "source": [
    "num_topics = 5 # number of topics\n",
    "\n",
    "temp = dictionary[0] \n",
    "id2word = dictionary.id2token\n",
    "\n",
    "lda_model = LdaModel(corpus=corpus, id2word=id2word, chunksize=len(data)/5, \\\n",
    "                       alpha='auto', eta='auto', \\\n",
    "                       iterations=20, num_topics=num_topics, \\\n",
    "                       passes=20, eval_every=1)\n",
    "\n",
    "# show keywords\n",
    "print(lda_model.print_topics())"
   ]
  },
  {
   "cell_type": "markdown",
   "id": "dcb95581",
   "metadata": {},
   "source": [
    "### We check the accuracy of our model with coherence scores (through CV, and UMass)"
   ]
  },
  {
   "cell_type": "markdown",
   "id": "c1209605",
   "metadata": {},
   "source": [
    "High values of c_v and low values of UMass indicate higher accuracy."
   ]
  },
  {
   "cell_type": "code",
   "execution_count": 10,
   "id": "8b4c303e",
   "metadata": {},
   "outputs": [
    {
     "name": "stdout",
     "output_type": "stream",
     "text": [
      "\n",
      "Coherence Score:  0.7347021167312239\n"
     ]
    }
   ],
   "source": [
    "# coherence score (c_v)\n",
    "coherence_model_cv = CoherenceModel(model=lda_model, texts=tweets, dictionary=dictionary, coherence='c_v')\n",
    "coherence_score = coherence_model_cv.get_coherence()\n",
    "print('\\nCoherence Score: ', coherence_score)"
   ]
  },
  {
   "cell_type": "code",
   "execution_count": 11,
   "id": "ad917aed",
   "metadata": {},
   "outputs": [
    {
     "name": "stdout",
     "output_type": "stream",
     "text": [
      "\n",
      "Coherence Score:  -4.150358001608944\n"
     ]
    }
   ],
   "source": [
    "coherence_model_cv = CoherenceModel(model=lda_model, texts=tweets, dictionary=dictionary, coherence='u_mass')\n",
    "coherence_score = coherence_model_cv.get_coherence()\n",
    "print('\\nCoherence Score: ', coherence_score)"
   ]
  },
  {
   "cell_type": "markdown",
   "id": "93ecfa94",
   "metadata": {},
   "source": [
    "### To determine the ideal number of topics, we run a simulation with different number of topics and keep track of the coherence scores."
   ]
  },
  {
   "cell_type": "code",
   "execution_count": 12,
   "id": "9aff5f87",
   "metadata": {},
   "outputs": [],
   "source": [
    "def simulate_coherence_values(dictionary, corpus, texts, limit=11):\n",
    "    \"\"\"\n",
    "    Simulate c_v for multiple LDA models with different number of topics.\n",
    "\n",
    "    Input:\n",
    "    ----------\n",
    "    dictionary (dict) : gensim dictionary\n",
    "    corpus (list): gensim corpus\n",
    "    texts (list): list of input texts\n",
    "    limit (int): maximum number of topics\n",
    "\n",
    "    Output:\n",
    "    -------\n",
    "     coherence_scores : coherence scores corresponding to the LDA model with respective number of topics\n",
    "    \"\"\"\n",
    "    coherence_scores = []\n",
    "    models = []\n",
    "    for num_topics in range(2,limit):\n",
    "        model = LdaModel(corpus=corpus, id2word=dictionary, num_topics=num_topics)\n",
    "        coherencemodel = CoherenceModel(model=model, texts=texts, dictionary=dictionary, coherence='c_v')\n",
    "        coherence_scores.append(coherencemodel.get_coherence())\n",
    "        models.append(model)\n",
    "\n",
    "    return coherence_scores, models"
   ]
  },
  {
   "cell_type": "code",
   "execution_count": 13,
   "id": "1e70cb06",
   "metadata": {},
   "outputs": [],
   "source": [
    "coherence_values, models = simulate_coherence_values(dictionary=dictionary, corpus=corpus, texts=tweets)"
   ]
  },
  {
   "cell_type": "code",
   "execution_count": 14,
   "id": "29e44a13",
   "metadata": {},
   "outputs": [
    {
     "data": {
      "text/plain": [
       "[0.9022027314395564,\n",
       " 0.7122792833386223,\n",
       " 0.6095803161033292,\n",
       " 0.6625075856760905,\n",
       " 0.43763769745142106,\n",
       " 0.6211287278964944,\n",
       " 0.5636129032444519,\n",
       " 0.5365208432992248,\n",
       " 0.5366971972785584]"
      ]
     },
     "execution_count": 14,
     "metadata": {},
     "output_type": "execute_result"
    }
   ],
   "source": [
    "coherence_values"
   ]
  },
  {
   "cell_type": "code",
   "execution_count": 15,
   "id": "943b5bc7",
   "metadata": {},
   "outputs": [],
   "source": [
    "# pick the best model, with the highest coherence score\n",
    "best_model = models[(coherence_values.index(max(coherence_values)))]"
   ]
  },
  {
   "cell_type": "markdown",
   "id": "24f89e40",
   "metadata": {},
   "source": [
    "### We plot the results of the simulation and find out that the ideal number of topics is 5."
   ]
  },
  {
   "cell_type": "code",
   "execution_count": 16,
   "id": "4cf81e55",
   "metadata": {},
   "outputs": [
    {
     "data": {
      "image/png": "[encoded data removed]",
      "text/plain": [
       "<Figure size 432x288 with 1 Axes>"
      ]
     },
     "metadata": {},
     "output_type": "display_data"
    }
   ],
   "source": [
    "limit=11; start=2; \n",
    "x = range(start, limit)\n",
    "plt.plot(x, coherence_values)\n",
    "plt.title('Optimal Number of Topics (ADHD Data)')\n",
    "plt.xlabel(\"Num Topics\")\n",
    "plt.ylabel(\"Coherence score\")\n",
    "plt.legend((\"coherence_values\"), loc='best')\n",
    "plt.show()"
   ]
  },
  {
   "cell_type": "markdown",
   "id": "3a284b0b",
   "metadata": {},
   "source": [
    "### Once we have the weights and frequency of topic words, we are able to visualize the topics."
   ]
  },
  {
   "cell_type": "code",
   "execution_count": 17,
   "id": "3fc2f5c2",
   "metadata": {},
   "outputs": [
    {
     "data": {
      "text/html": [
       "\n",
       "<link rel=\"stylesheet\" type=\"text/css\" href=\"https://cdn.jsdelivr.net/gh/bmabey/pyLDAvis@3.2.2/pyLDAvis/js/ldavis.v1.0.0.css\">\n",
       "\n",
       "\n",
       "<div id=\"ldavis_el82042632373322280165073474\"></div>\n",
       "<script type=\"text/javascript\">\n",
       "\n",
       "var ldavis_el82042632373322280165073474_data = {\"mdsDat\": {\"x\": [0.2593353774154856, -0.2593353774154856], \"y\": [0.0, 0.0], \"topics\": [1, 2], \"cluster\": [1, 1], \"Freq\": [52.53059440639861, 47.46940559360139]}, \"tinfo\": {\"Term\": [\"meet_brain\", \"what\", \"have_heard\", \"teamadhd_lifeinadhd\", \"learn_below\", \"change_knew\", \"would\", \"exercise_nutrition\", \"asking_question\", \"find_started\", \"important_sleep\", \"learn\", \"adhdawareness\", \"brain\", \"have\", \"teamadhd\", \"heard\", \"meet\", \"frontal\", \"lifeinadhd\", \"teamadhd_lifeinadhd_learn_below\", \"frontal_vortex\", \"vortex\", \"have_heard_frontal_vortex\", \"below\", \"important\", \"question\", \"started\", \"find\", \"sleep\", \"exercise_nutrition\", \"change_knew\", \"asking_question\", \"important_sleep_exercise_nutrition\", \"mattered\", \"nutrition\", \"find_started\", \"find_started_asking_question\", \"asking\", \"knew\", \"important_sleep\", \"question\", \"habit\", \"exercise\", \"what\", \"would\", \"sleep\", \"change\", \"important\", \"gonna_smoke\", \"blunt\", \"just_shittonne\", \"just_shittonne_mediocre_taco\", \"mediocre\", \"mediocre_taco\", \"shittonne\", \"taco\", \"find\", \"disorder_severe\", \"little_month\", \"started\", \"parent\", \"best_treatment\", \"lack_internet\", \"visit_recent\", \"addictiveness\", \"commentary\", \"autism_send\", \"accept_everyone\", \"else_nurodiverse\", \"taken_year\", \"researcher_estimated\", \"word_hate\", \"constantly_myself\", \"extra_energy\", \"have_heard\", \"meet_brain\", \"teamadhd_lifeinadhd\", \"learn_below\", \"meet\", \"teamadhd\", \"have\", \"heard\", \"teamadhd_lifeinadhd_learn_below\", \"have_heard_frontal_vortex\", \"lifeinadhd\", \"vortex\", \"frontal\", \"frontal_vortex\", \"learn\", \"below\", \"treatment_option\", \"childhood_neurodevelopmental\", \"childhood_persist\", \"disorder_prevent\", \"growth_sign\", \"often_begin\", \"brain\", \"adhdawareness\", \"childhood\", \"growth\", \"begin\", \"adulthood_learn\", \"disorder_prevent_growth_sign\", \"hcpspace\", \"adulthood\", \"talk\", \"like_share\", \"work\", \"feel_like\", \"adhdawarenessmonth\", \"thing\", \"anxiety\", \"people\", \"like\", \"autism\", \"know\", \"child\", \"help\", \"disorder\", \"mentalhealth\"], \"Freq\": [4586.0, 3857.0, 3061.0, 3057.0, 3057.0, 3133.0, 2297.0, 2090.0, 2088.0, 2087.0, 2086.0, 1741.0, 1773.0, 1717.0, 1602.0, 1599.0, 1598.0, 1572.0, 1536.0, 1531.0, 1528.0, 1533.0, 1531.0, 1528.0, 1537.0, 1467.0, 1343.0, 1453.0, 1379.0, 1278.0, 2089.5634949486807, 3130.673931830479, 2086.208123786869, 1043.899688857582, 1043.7387078699508, 1046.8543166507911, 2084.4767236195944, 1043.1436967473153, 1098.7398399675988, 1074.1969129842498, 2083.399013691276, 1341.297902388223, 1155.3773136917964, 1055.40616711506, 3844.8575379544577, 2289.3636886054883, 1272.6040269821667, 1126.9474039130623, 1460.7530385412492, 436.2297880086149, 146.18010630220255, 146.18010630220255, 146.18010630220255, 146.18010630220255, 146.18010630220255, 146.18010630220255, 146.18010630220255, 1367.0915653765862, 359.1275858853512, 359.1275858853512, 1434.144622940562, 1148.7184140825916, 549.2138221403833, 549.2138221403833, 549.2138221403833, 275.18454633799416, 275.18454633799416, 549.4723439337155, 439.5856067919799, 439.5856067919799, 439.5856067919799, 617.0827717170002, 617.0827717170002, 476.5384344055072, 476.5384344055072, 3059.465885046224, 4582.384200804961, 3053.693235747829, 3053.6388128705826, 1570.3303497048043, 1595.5671204170314, 1598.8148423889152, 1594.5229366181907, 1524.8962196244952, 1524.8504749898368, 1527.7876923837023, 1527.738858883038, 1532.1412283856866, 1529.5087791044002, 1733.864623920035, 1530.6413633065517, 237.1028622712, 234.07347532205233, 234.07347532205233, 234.07347532205233, 234.07347532205233, 234.07347532205233, 1704.2238657277276, 1755.2053049768606, 257.00972114587336, 122.70790484085302, 117.94965384767112, 117.09585818865634, 117.09585818865634, 117.09585818865634, 125.38028874692962, 174.65902738254238, 172.97309489876824, 225.56377817863682, 310.88546461471884, 536.3435594492977, 228.26695881423623, 312.536132544926, 318.4773456739265, 414.19644926347434, 386.98872463400323, 256.88993565761007, 334.5373896604351, 332.43615178772916, 294.0170938122461, 268.0929768692849], \"Total\": [4586.0, 3857.0, 3061.0, 3057.0, 3057.0, 3133.0, 2297.0, 2090.0, 2088.0, 2087.0, 2086.0, 1741.0, 1773.0, 1717.0, 1602.0, 1599.0, 1598.0, 1572.0, 1536.0, 1531.0, 1528.0, 1533.0, 1531.0, 1528.0, 1537.0, 1467.0, 1343.0, 1453.0, 1379.0, 1278.0, 2090.8544843699397, 3133.2818655361075, 2088.383598296493, 1045.0768974346272, 1044.9559677086536, 1048.1047580982156, 2087.096654547439, 1044.5215392660527, 1100.2101341534503, 1075.691581833485, 2086.3018944554215, 1343.4655403942284, 1157.517227746441, 1058.0652090275498, 3857.994021977339, 2297.3821049431526, 1278.3334545645473, 1132.023558168704, 1467.7387129843958, 439.2732141870074, 147.3957490253224, 147.3957490253224, 147.3957490253224, 147.3957490253224, 147.3957490253224, 147.3957490253224, 147.3957490253224, 1379.2299182025802, 362.8699866454192, 362.8699866454192, 1453.6066092676983, 1165.025238697904, 554.9647758323081, 554.9647758323081, 554.9647758323081, 278.2108987176087, 278.2108987176087, 561.107951641567, 447.76534513228535, 447.76534513228535, 447.76534513228535, 639.3358196755189, 639.3358196755189, 487.7397507705024, 487.7397507705024, 3061.3676805598307, 4586.862318727261, 3057.6232881295236, 3057.7853141166643, 1572.5085671051704, 1599.086557594565, 1602.4736981024912, 1598.2564278212196, 1528.476842662629, 1528.6219590259216, 1531.6044675823841, 1531.8528989828699, 1536.3196198062071, 1533.8096900756827, 1741.3962781031203, 1537.59444628586, 238.56465422283443, 235.55732980247936, 235.55732980247936, 235.55732980247936, 235.55732980247936, 235.55732980247936, 1717.4504086453094, 1773.598021183113, 259.7459331467489, 124.03722513312594, 119.24177163869277, 118.4706662727383, 118.4706662727383, 118.4706662727383, 126.88989942874463, 177.3736101700918, 176.56554970632018, 233.52192159953944, 327.73266313352195, 582.0958078522015, 237.09545402230196, 332.46507956305356, 342.26770892117656, 472.5222650135062, 458.8034225946714, 273.06037108104, 440.73621351929614, 445.087806569909, 445.9188005379593, 387.6228353020224], \"Category\": [\"Default\", \"Default\", \"Default\", \"Default\", \"Default\", \"Default\", \"Default\", \"Default\", \"Default\", \"Default\", \"Default\", \"Default\", \"Default\", \"Default\", \"Default\", \"Default\", \"Default\", \"Default\", \"Default\", \"Default\", \"Default\", \"Default\", \"Default\", \"Default\", \"Default\", \"Default\", \"Default\", \"Default\", \"Default\", \"Default\", \"Topic1\", \"Topic1\", \"Topic1\", \"Topic1\", \"Topic1\", \"Topic1\", \"Topic1\", \"Topic1\", \"Topic1\", \"Topic1\", \"Topic1\", \"Topic1\", \"Topic1\", \"Topic1\", \"Topic1\", \"Topic1\", \"Topic1\", \"Topic1\", \"Topic1\", \"Topic1\", \"Topic1\", \"Topic1\", \"Topic1\", \"Topic1\", \"Topic1\", \"Topic1\", \"Topic1\", \"Topic1\", \"Topic1\", \"Topic1\", \"Topic1\", \"Topic1\", \"Topic1\", \"Topic1\", \"Topic1\", \"Topic1\", \"Topic1\", \"Topic1\", \"Topic1\", \"Topic1\", \"Topic1\", \"Topic1\", \"Topic1\", \"Topic1\", \"Topic1\", \"Topic2\", \"Topic2\", \"Topic2\", \"Topic2\", \"Topic2\", \"Topic2\", \"Topic2\", \"Topic2\", \"Topic2\", \"Topic2\", \"Topic2\", \"Topic2\", \"Topic2\", \"Topic2\", \"Topic2\", \"Topic2\", \"Topic2\", \"Topic2\", \"Topic2\", \"Topic2\", \"Topic2\", \"Topic2\", \"Topic2\", \"Topic2\", \"Topic2\", \"Topic2\", \"Topic2\", \"Topic2\", \"Topic2\", \"Topic2\", \"Topic2\", \"Topic2\", \"Topic2\", \"Topic2\", \"Topic2\", \"Topic2\", \"Topic2\", \"Topic2\", \"Topic2\", \"Topic2\", \"Topic2\", \"Topic2\", \"Topic2\", \"Topic2\", \"Topic2\", \"Topic2\"], \"logprob\": [30.0, 29.0, 28.0, 27.0, 26.0, 25.0, 24.0, 23.0, 22.0, 21.0, 20.0, 19.0, 18.0, 17.0, 16.0, 15.0, 14.0, 13.0, 12.0, 11.0, 10.0, 9.0, 8.0, 7.0, 6.0, 5.0, 4.0, 3.0, 2.0, 1.0, -3.7334, -3.3291, -3.735, -4.4274, -4.4275, -4.4246, -3.7358, -4.4281, -4.3762, -4.3988, -3.7363, -4.1767, -4.3259, -4.4164, -3.1236, -3.6421, -4.2293, -4.3508, -4.0914, -5.2999, -6.3933, -6.3933, -6.3933, -6.3933, -6.3933, -6.3933, -6.3933, -4.1577, -5.4944, -5.4944, -4.1098, -4.3317, -5.0696, -5.0696, -5.0696, -5.7607, -5.7607, -5.0691, -5.2923, -5.2923, -5.2923, -4.9531, -4.9531, -5.2116, -5.2116, -3.2508, -2.8468, -3.2527, -3.2527, -3.9178, -3.9018, -3.8998, -3.9025, -3.9471, -3.9471, -3.9452, -3.9453, -3.9424, -3.9441, -3.8187, -3.9434, -5.8083, -5.8212, -5.8212, -5.8212, -5.8212, -5.8212, -3.8359, -3.8065, -5.7277, -6.467, -6.5065, -6.5138, -6.5138, -6.5138, -6.4454, -6.114, -6.1237, -5.8582, -5.5374, -4.992, -5.8463, -5.5321, -5.5132, -5.2505, -5.3184, -5.7281, -5.464, -5.4703, -5.5932, -5.6855], \"loglift\": [30.0, 29.0, 28.0, 27.0, 26.0, 25.0, 24.0, 23.0, 22.0, 21.0, 20.0, 19.0, 18.0, 17.0, 16.0, 15.0, 14.0, 13.0, 12.0, 11.0, 10.0, 9.0, 8.0, 7.0, 6.0, 5.0, 4.0, 3.0, 2.0, 1.0, 0.6432, 0.6429, 0.6427, 0.6426, 0.6426, 0.6426, 0.6425, 0.6425, 0.6424, 0.6424, 0.6424, 0.6422, 0.6419, 0.6413, 0.6404, 0.6403, 0.6393, 0.6393, 0.639, 0.6368, 0.6355, 0.6355, 0.6355, 0.6355, 0.6355, 0.6355, 0.6355, 0.6349, 0.6334, 0.6334, 0.6303, 0.6297, 0.6334, 0.6334, 0.6334, 0.6328, 0.6328, 0.6228, 0.6253, 0.6253, 0.6253, 0.6083, 0.6083, 0.6205, 0.6205, 0.7445, 0.7441, 0.7438, 0.7437, 0.7437, 0.7429, 0.7428, 0.7427, 0.7427, 0.7426, 0.7426, 0.7424, 0.7424, 0.7423, 0.7408, 0.7406, 0.7389, 0.7388, 0.7388, 0.7388, 0.7388, 0.7388, 0.7374, 0.7347, 0.7345, 0.7343, 0.7342, 0.7334, 0.7334, 0.7334, 0.7331, 0.7297, 0.7245, 0.7104, 0.6923, 0.6632, 0.7071, 0.6833, 0.673, 0.6133, 0.5749, 0.684, 0.4694, 0.4533, 0.3286, 0.3764]}, \"token.table\": {\"Topic\": [1, 2, 1, 2, 1, 2, 1, 2, 1, 2, 1, 2, 1, 2, 1, 2, 1, 2, 1, 2, 1, 2, 1, 2, 1, 2, 1, 2, 1, 2, 1, 2, 1, 2, 1, 2, 1, 2, 1, 2, 1, 2, 1, 2, 1, 2, 1, 2, 1, 2, 1, 2, 1, 2, 1, 2, 1, 2, 1, 2, 1, 2, 1, 2, 1, 2, 1, 2, 1, 2, 1, 2, 1, 2, 1, 2, 1, 2, 1, 2, 1, 2, 1, 2, 1, 2, 1, 2, 1, 2, 1, 2, 1, 2, 1, 2, 1, 2, 1, 2, 1, 2, 1, 2, 1, 2, 1, 2, 1, 2, 1, 2, 1, 2, 1, 2, 1, 2, 1, 2, 1, 2, 1, 2, 1, 2, 1, 2, 1, 2, 1, 2, 1, 2, 1, 2, 1, 2, 1, 2, 1, 2, 1, 2, 1, 2, 1, 2, 1, 2, 1, 2, 1, 2, 1, 2, 1, 2, 1, 2, 1, 2, 1, 2, 1, 2, 1, 2, 1, 2, 1, 2, 1, 2, 1, 2, 1, 2, 1, 2, 1, 2], \"Freq\": [0.9826575566494741, 0.017866501029990437, 0.9884587601261882, 0.010783186474103871, 0.0101488611201724, 0.9895139592168091, 0.07902479176019035, 0.9208106170317834, 0.015761695840283217, 0.985105990017701, 0.008440908044678681, 0.9875862412274057, 0.06015669382867293, 0.9414522584187314, 0.9989000881596302, 0.000908917277670273, 0.9988586396204044, 0.0009576784655996207, 0.1569299539938441, 0.8434985027169121, 0.9784213508182442, 0.021386259034278564, 0.008386322898908607, 0.9895861020712156, 0.00455256587126005, 0.9957111926998766, 0.9892519740133734, 0.010811496983752715, 0.9905306019030263, 0.006784456177417989, 0.007569359752433342, 0.9921683860112626, 0.995562320119176, 0.004416869210821544, 0.9992717330792334, 0.0009574625356875441, 0.24050667212840487, 0.7600918411605249, 0.011549747723307326, 0.989428388296661, 0.004245251042871494, 0.9933887440319297, 0.004245251042871494, 0.9933887440319297, 0.9884587601261882, 0.010783186474103871, 0.9779805710862476, 0.022553011073267765, 0.34086923407720465, 0.6593128606493301, 0.004245251042871494, 0.9933887440319297, 0.008440908044678681, 0.9875862412274057, 0.9893350599723179, 0.011023231865986829, 0.9826575566494741, 0.017866501029990437, 0.9971030055601516, 0.0028353639968535117, 0.9995913228891216, 0.00047827336023402943, 0.9779805710862476, 0.022553011073267765, 0.05187154627024164, 0.9489441700026559, 0.9911327922624255, 0.008700507320518731, 0.9985162859895866, 0.0014374034827105374, 0.9985433146097477, 0.000957376140565434, 0.002603624889269177, 0.9971883325900948, 0.0026078854670703168, 0.9975161911543963, 0.9925485686782306, 0.0068294626285199354, 0.00806209586619441, 0.9916377915419123, 0.004245251042871494, 0.9933887440319297, 0.997825321570944, 0.001727836054668301, 0.002496140813254189, 0.997832290098362, 0.0006533027746716987, 0.9992265938603632, 0.0026167359276644867, 0.9976305724220856, 0.008440908044678681, 0.9875862412274057, 0.002502727303560977, 0.9979625122949395, 0.25388248865058793, 0.7459202321415505, 0.995408778875435, 0.004769241240334049, 0.9984173458001468, 0.0014379510501202307, 0.9989695519657255, 0.0009568673869403501, 0.9905306019030263, 0.006784456177417989, 0.9905306019030263, 0.006784456177417989, 0.9984274471771901, 0.0009296344945783893, 0.058595100917267315, 0.9411838084836063, 0.9892519740133734, 0.010811496983752715, 0.004594014642499577, 0.9957526737617833, 0.0013081363107911726, 0.9987620732890603, 0.0026116403318631885, 0.997646606771738, 0.12274553877020414, 0.8761491905321467, 0.02265447595328286, 0.9798060849794836, 0.9893350599723179, 0.011023231865986829, 0.9990851598170688, 0.0009569781224301426, 0.9905306019030263, 0.006784456177417989, 0.9905306019030263, 0.006784456177417989, 0.0012718531662322184, 0.9984047354922915, 0.000872055824232784, 0.998939946658654, 0.309579284477655, 0.6913937353334295, 0.9989459468725052, 0.0009541031011198712, 0.004245251042871494, 0.9933887440319297, 0.9862447282980629, 0.013733608052888603, 0.07012055000937042, 0.9290972876241581, 0.9981647907444616, 0.0014886872345182126, 0.9650640258403558, 0.03441071080792192, 0.9905306019030263, 0.006784456177417989, 0.9958278064729487, 0.0046936110281521545, 0.9865117500548681, 0.013070936716208155, 0.9905306019030263, 0.006784456177417989, 0.9826575566494741, 0.017866501029990437, 0.016913451765023898, 0.9866180196263941, 0.0025014280690452573, 0.9980697995490576, 0.001308205630016302, 0.9988149985174465, 0.002616984365318837, 0.9977252892778066, 0.037959395034007824, 0.9616380075281983, 0.004191735792788218, 0.9934413828908076, 0.9892519740133734, 0.010811496983752715, 0.002611216783710725, 0.997484811377497, 0.9966319227289318, 0.0033696267868598474, 0.9650640258403558, 0.03441071080792192, 0.034258025735669426, 0.9677892270326612, 0.9963514537154627, 0.003482224390442858], \"Term\": [\"accept_everyone\", \"accept_everyone\", \"addictiveness\", \"addictiveness\", \"adhdawareness\", \"adhdawareness\", \"adhdawarenessmonth\", \"adhdawarenessmonth\", \"adulthood\", \"adulthood\", \"adulthood_learn\", \"adulthood_learn\", \"anxiety\", \"anxiety\", \"asking\", \"asking\", \"asking_question\", \"asking_question\", \"autism\", \"autism\", \"autism_send\", \"autism_send\", \"begin\", \"begin\", \"below\", \"below\", \"best_treatment\", \"best_treatment\", \"blunt\", \"blunt\", \"brain\", \"brain\", \"change\", \"change\", \"change_knew\", \"change_knew\", \"child\", \"child\", \"childhood\", \"childhood\", \"childhood_neurodevelopmental\", \"childhood_neurodevelopmental\", \"childhood_persist\", \"childhood_persist\", \"commentary\", \"commentary\", \"constantly_myself\", \"constantly_myself\", \"disorder\", \"disorder\", \"disorder_prevent\", \"disorder_prevent\", \"disorder_prevent_growth_sign\", \"disorder_prevent_growth_sign\", \"disorder_severe\", \"disorder_severe\", \"else_nurodiverse\", \"else_nurodiverse\", \"exercise\", \"exercise\", \"exercise_nutrition\", \"exercise_nutrition\", \"extra_energy\", \"extra_energy\", \"feel_like\", \"feel_like\", \"find\", \"find\", \"find_started\", \"find_started\", \"find_started_asking_question\", \"find_started_asking_question\", \"frontal\", \"frontal\", \"frontal_vortex\", \"frontal_vortex\", \"gonna_smoke\", \"gonna_smoke\", \"growth\", \"growth\", \"growth_sign\", \"growth_sign\", \"habit\", \"habit\", \"have\", \"have\", \"have_heard\", \"have_heard\", \"have_heard_frontal_vortex\", \"have_heard_frontal_vortex\", \"hcpspace\", \"hcpspace\", \"heard\", \"heard\", \"help\", \"help\", \"important\", \"important\", \"important_sleep\", \"important_sleep\", \"important_sleep_exercise_nutrition\", \"important_sleep_exercise_nutrition\", \"just_shittonne\", \"just_shittonne\", \"just_shittonne_mediocre_taco\", \"just_shittonne_mediocre_taco\", \"knew\", \"knew\", \"know\", \"know\", \"lack_internet\", \"lack_internet\", \"learn\", \"learn\", \"learn_below\", \"learn_below\", \"lifeinadhd\", \"lifeinadhd\", \"like\", \"like\", \"like_share\", \"like_share\", \"little_month\", \"little_month\", \"mattered\", \"mattered\", \"mediocre\", \"mediocre\", \"mediocre_taco\", \"mediocre_taco\", \"meet\", \"meet\", \"meet_brain\", \"meet_brain\", \"mentalhealth\", \"mentalhealth\", \"nutrition\", \"nutrition\", \"often_begin\", \"often_begin\", \"parent\", \"parent\", \"people\", \"people\", \"question\", \"question\", \"researcher_estimated\", \"researcher_estimated\", \"shittonne\", \"shittonne\", \"sleep\", \"sleep\", \"started\", \"started\", \"taco\", \"taco\", \"taken_year\", \"taken_year\", \"talk\", \"talk\", \"teamadhd\", \"teamadhd\", \"teamadhd_lifeinadhd\", \"teamadhd_lifeinadhd\", \"teamadhd_lifeinadhd_learn_below\", \"teamadhd_lifeinadhd_learn_below\", \"thing\", \"thing\", \"treatment_option\", \"treatment_option\", \"visit_recent\", \"visit_recent\", \"vortex\", \"vortex\", \"what\", \"what\", \"word_hate\", \"word_hate\", \"work\", \"work\", \"would\", \"would\"]}, \"R\": 30, \"lambda.step\": 0.01, \"plot.opts\": {\"xlab\": \"PC1\", \"ylab\": \"PC2\"}, \"topic.order\": [2, 1]};\n",
       "\n",
       "function LDAvis_load_lib(url, callback){\n",
       "  var s = document.createElement('script');\n",
       "  s.src = url;\n",
       "  s.async = true;\n",
       "  s.onreadystatechange = s.onload = callback;\n",
       "  s.onerror = function(){console.warn(\"failed to load library \" + url);};\n",
       "  document.getElementsByTagName(\"head\")[0].appendChild(s);\n",
       "}\n",
       "\n",
       "if(typeof(LDAvis) !== \"undefined\"){\n",
       "   // already loaded: just create the visualization\n",
       "   !function(LDAvis){\n",
       "       new LDAvis(\"#\" + \"ldavis_el82042632373322280165073474\", ldavis_el82042632373322280165073474_data);\n",
       "   }(LDAvis);\n",
       "}else if(typeof define === \"function\" && define.amd){\n",
       "   // require.js is available: use it to load d3/LDAvis\n",
       "   require.config({paths: {d3: \"https://d3js.org/d3.v5\"}});\n",
       "   require([\"d3\"], function(d3){\n",
       "      window.d3 = d3;\n",
       "      LDAvis_load_lib(\"https://cdn.jsdelivr.net/gh/bmabey/pyLDAvis@3.2.2/pyLDAvis/js/ldavis.v3.0.0.js\", function(){\n",
       "        new LDAvis(\"#\" + \"ldavis_el82042632373322280165073474\", ldavis_el82042632373322280165073474_data);\n",
       "      });\n",
       "    });\n",
       "}else{\n",
       "    // require.js not available: dynamically load d3 & LDAvis\n",
       "    LDAvis_load_lib(\"https://d3js.org/d3.v5.js\", function(){\n",
       "         LDAvis_load_lib(\"https://cdn.jsdelivr.net/gh/bmabey/pyLDAvis@3.2.2/pyLDAvis/js/ldavis.v3.0.0.js\", function(){\n",
       "                 new LDAvis(\"#\" + \"ldavis_el82042632373322280165073474\", ldavis_el82042632373322280165073474_data);\n",
       "            })\n",
       "         });\n",
       "}\n",
       "</script>"
      ],
      "text/plain": [
       "PreparedData(topic_coordinates=              x    y  topics  cluster       Freq\n",
       "topic                                           \n",
       "1      0.259335  0.0       1        1  52.530594\n",
       "0     -0.259335  0.0       2        1  47.469406, topic_info=                                 Term         Freq        Total Category  \\\n",
       "term                                                                       \n",
       "481                        meet_brain  4586.000000  4586.000000  Default   \n",
       "132                              what  3857.000000  3857.000000  Default   \n",
       "475                        have_heard  3061.000000  3061.000000  Default   \n",
       "482               teamadhd_lifeinadhd  3057.000000  3057.000000  Default   \n",
       "479                       learn_below  3057.000000  3057.000000  Default   \n",
       "1050                      change_knew  3133.000000  3133.000000  Default   \n",
       "64                              would  2297.000000  2297.000000  Default   \n",
       "1051               exercise_nutrition  2090.000000  2090.000000  Default   \n",
       "1049                  asking_question  2088.000000  2088.000000  Default   \n",
       "1052                     find_started  2087.000000  2087.000000  Default   \n",
       "1054                  important_sleep  2086.000000  2086.000000  Default   \n",
       "478                             learn  1741.000000  1741.000000  Default   \n",
       "12                      adhdawareness  1773.000000  1773.000000  Default   \n",
       "183                             brain  1717.000000  1717.000000  Default   \n",
       "32                               have  1602.000000  1602.000000  Default   \n",
       "148                          teamadhd  1599.000000  1599.000000  Default   \n",
       "477                             heard  1598.000000  1598.000000  Default   \n",
       "480                              meet  1572.000000  1572.000000  Default   \n",
       "230                           frontal  1536.000000  1536.000000  Default   \n",
       "408                        lifeinadhd  1531.000000  1531.000000  Default   \n",
       "483   teamadhd_lifeinadhd_learn_below  1528.000000  1528.000000  Default   \n",
       "407                    frontal_vortex  1533.000000  1533.000000  Default   \n",
       "410                            vortex  1531.000000  1531.000000  Default   \n",
       "476         have_heard_frontal_vortex  1528.000000  1528.000000  Default   \n",
       "474                             below  1537.000000  1537.000000  Default   \n",
       "169                         important  1467.000000  1467.000000  Default   \n",
       "210                          question  1343.000000  1343.000000  Default   \n",
       "179                           started  1453.000000  1453.000000  Default   \n",
       "435                              find  1379.000000  1379.000000  Default   \n",
       "424                             sleep  1278.000000  1278.000000  Default   \n",
       "...                               ...          ...          ...      ...   \n",
       "1008                 treatment_option   237.102862   238.564654   Topic2   \n",
       "1141     childhood_neurodevelopmental   234.073475   235.557330   Topic2   \n",
       "1142                childhood_persist   234.073475   235.557330   Topic2   \n",
       "1143                 disorder_prevent   234.073475   235.557330   Topic2   \n",
       "1145                      growth_sign   234.073475   235.557330   Topic2   \n",
       "1147                      often_begin   234.073475   235.557330   Topic2   \n",
       "183                             brain  1704.223866  1717.450409   Topic2   \n",
       "12                      adhdawareness  1755.205305  1773.598021   Topic2   \n",
       "81                          childhood   257.009721   259.745933   Topic2   \n",
       "916                            growth   122.707905   124.037225   Topic2   \n",
       "1063                            begin   117.949654   119.241772   Topic2   \n",
       "1140                  adulthood_learn   117.095858   118.470666   Topic2   \n",
       "1144     disorder_prevent_growth_sign   117.095858   118.470666   Topic2   \n",
       "1146                         hcpspace   117.095858   118.470666   Topic2   \n",
       "960                         adulthood   125.380289   126.889899   Topic2   \n",
       "623                              talk   174.659027   177.373610   Topic2   \n",
       "335                        like_share   172.973095   176.565550   Topic2   \n",
       "185                              work   225.563778   233.521922   Topic2   \n",
       "157                         feel_like   310.885465   327.732663   Topic2   \n",
       "13                 adhdawarenessmonth   536.343559   582.095808   Topic2   \n",
       "121                             thing   228.266959   237.095454   Topic2   \n",
       "226                           anxiety   312.536133   332.465080   Topic2   \n",
       "53                             people   318.477346   342.267709   Topic2   \n",
       "59                               like   414.196449   472.522265   Topic2   \n",
       "90                             autism   386.988725   458.803423   Topic2   \n",
       "114                              know   256.889936   273.060371   Topic2   \n",
       "31                              child   334.537390   440.736214   Topic2   \n",
       "125                              help   332.436152   445.087807   Topic2   \n",
       "269                          disorder   294.017094   445.918801   Topic2   \n",
       "219                      mentalhealth   268.092977   387.622835   Topic2   \n",
       "\n",
       "      logprob  loglift  \n",
       "term                    \n",
       "481   30.0000  30.0000  \n",
       "132   29.0000  29.0000  \n",
       "475   28.0000  28.0000  \n",
       "482   27.0000  27.0000  \n",
       "479   26.0000  26.0000  \n",
       "1050  25.0000  25.0000  \n",
       "64    24.0000  24.0000  \n",
       "1051  23.0000  23.0000  \n",
       "1049  22.0000  22.0000  \n",
       "1052  21.0000  21.0000  \n",
       "1054  20.0000  20.0000  \n",
       "478   19.0000  19.0000  \n",
       "12    18.0000  18.0000  \n",
       "183   17.0000  17.0000  \n",
       "32    16.0000  16.0000  \n",
       "148   15.0000  15.0000  \n",
       "477   14.0000  14.0000  \n",
       "480   13.0000  13.0000  \n",
       "230   12.0000  12.0000  \n",
       "408   11.0000  11.0000  \n",
       "483   10.0000  10.0000  \n",
       "407    9.0000   9.0000  \n",
       "410    8.0000   8.0000  \n",
       "476    7.0000   7.0000  \n",
       "474    6.0000   6.0000  \n",
       "169    5.0000   5.0000  \n",
       "210    4.0000   4.0000  \n",
       "179    3.0000   3.0000  \n",
       "435    2.0000   2.0000  \n",
       "424    1.0000   1.0000  \n",
       "...       ...      ...  \n",
       "1008  -5.8083   0.7389  \n",
       "1141  -5.8212   0.7388  \n",
       "1142  -5.8212   0.7388  \n",
       "1143  -5.8212   0.7388  \n",
       "1145  -5.8212   0.7388  \n",
       "1147  -5.8212   0.7388  \n",
       "183   -3.8359   0.7374  \n",
       "12    -3.8065   0.7347  \n",
       "81    -5.7277   0.7345  \n",
       "916   -6.4670   0.7343  \n",
       "1063  -6.5065   0.7342  \n",
       "1140  -6.5138   0.7334  \n",
       "1144  -6.5138   0.7334  \n",
       "1146  -6.5138   0.7334  \n",
       "960   -6.4454   0.7331  \n",
       "623   -6.1140   0.7297  \n",
       "335   -6.1237   0.7245  \n",
       "185   -5.8582   0.7104  \n",
       "157   -5.5374   0.6923  \n",
       "13    -4.9920   0.6632  \n",
       "121   -5.8463   0.7071  \n",
       "226   -5.5321   0.6833  \n",
       "53    -5.5132   0.6730  \n",
       "59    -5.2505   0.6133  \n",
       "90    -5.3184   0.5749  \n",
       "114   -5.7281   0.6840  \n",
       "31    -5.4640   0.4694  \n",
       "125   -5.4703   0.4533  \n",
       "269   -5.5932   0.3286  \n",
       "219   -5.6855   0.3764  \n",
       "\n",
       "[121 rows x 6 columns], token_table=      Topic      Freq                             Term\n",
       "term                                                  \n",
       "1300      1  0.982658                  accept_everyone\n",
       "1300      2  0.017867                  accept_everyone\n",
       "1209      1  0.988459                    addictiveness\n",
       "1209      2  0.010783                    addictiveness\n",
       "12        1  0.010149                    adhdawareness\n",
       "12        2  0.989514                    adhdawareness\n",
       "13        1  0.079025               adhdawarenessmonth\n",
       "13        2  0.920811               adhdawarenessmonth\n",
       "960       1  0.015762                        adulthood\n",
       "960       2  0.985106                        adulthood\n",
       "1140      1  0.008441                  adulthood_learn\n",
       "1140      2  0.987586                  adulthood_learn\n",
       "226       1  0.060157                          anxiety\n",
       "226       2  0.941452                          anxiety\n",
       "513       1  0.998900                           asking\n",
       "513       2  0.000909                           asking\n",
       "1049      1  0.998859                  asking_question\n",
       "1049      2  0.000958                  asking_question\n",
       "90        1  0.156930                           autism\n",
       "90        2  0.843499                           autism\n",
       "1150      1  0.978421                      autism_send\n",
       "1150      2  0.021386                      autism_send\n",
       "1063      1  0.008386                            begin\n",
       "1063      2  0.989586                            begin\n",
       "474       1  0.004553                            below\n",
       "474       2  0.995711                            below\n",
       "1210      1  0.989252                   best_treatment\n",
       "1210      2  0.010811                   best_treatment\n",
       "1261      1  0.990531                            blunt\n",
       "1261      2  0.006784                            blunt\n",
       "...     ...       ...                              ...\n",
       "179       1  0.986512                          started\n",
       "179       2  0.013071                          started\n",
       "1268      1  0.990531                             taco\n",
       "1268      2  0.006784                             taco\n",
       "1303      1  0.982658                       taken_year\n",
       "1303      2  0.017867                       taken_year\n",
       "623       1  0.016913                             talk\n",
       "623       2  0.986618                             talk\n",
       "148       1  0.002501                         teamadhd\n",
       "148       2  0.998070                         teamadhd\n",
       "482       1  0.001308              teamadhd_lifeinadhd\n",
       "482       2  0.998815              teamadhd_lifeinadhd\n",
       "483       1  0.002617  teamadhd_lifeinadhd_learn_below\n",
       "483       2  0.997725  teamadhd_lifeinadhd_learn_below\n",
       "121       1  0.037959                            thing\n",
       "121       2  0.961638                            thing\n",
       "1008      1  0.004192                 treatment_option\n",
       "1008      2  0.993441                 treatment_option\n",
       "1221      1  0.989252                     visit_recent\n",
       "1221      2  0.010811                     visit_recent\n",
       "410       1  0.002611                           vortex\n",
       "410       2  0.997485                           vortex\n",
       "132       1  0.996632                             what\n",
       "132       2  0.003370                             what\n",
       "1260      1  0.965064                        word_hate\n",
       "1260      2  0.034411                        word_hate\n",
       "185       1  0.034258                             work\n",
       "185       2  0.967789                             work\n",
       "64        1  0.996351                            would\n",
       "64        2  0.003482                            would\n",
       "\n",
       "[182 rows x 3 columns], R=30, lambda_step=0.01, plot_opts={'xlab': 'PC1', 'ylab': 'PC2'}, topic_order=[2, 1])"
      ]
     },
     "execution_count": 17,
     "metadata": {},
     "output_type": "execute_result"
    }
   ],
   "source": [
    "# visualize the topics\n",
    "pyLDAvis.enable_notebook()\n",
    "LDAvis_viz = pyLDAvis.gensim.prepare(best_model, corpus, dictionary)\n",
    "LDAvis_viz"
   ]
  },
  {
   "cell_type": "markdown",
   "id": "e7144208",
   "metadata": {},
   "source": [
    "### We interpret the topics based on the keywords"
   ]
  },
  {
   "cell_type": "code",
   "execution_count": 26,
   "id": "f1603ef5",
   "metadata": {},
   "outputs": [
    {
     "name": "stdout",
     "output_type": "stream",
     "text": [
      "1: Contact Awareness\n",
      "2: Treatment/Factors\n"
     ]
    }
   ],
   "source": [
    "print('1: Contact Awareness')\n",
    "print('2: Treatment/Factors')"
   ]
  },
  {
   "cell_type": "markdown",
   "id": "c6babacc",
   "metadata": {},
   "source": [
    "### Finally, we label the data and save it."
   ]
  },
  {
   "cell_type": "code",
   "execution_count": 33,
   "id": "6bbc5b4f",
   "metadata": {},
   "outputs": [],
   "source": [
    "cat_name = ['Contact/Awareness', 'Treatment/Factors']\n",
    "\n",
    "def add_labels(model=best_model, corpus=corpus, data=data):\n",
    "    # get main topic in each document\n",
    "    topics = []\n",
    "    categories = []\n",
    "    for i, row in enumerate(model[corpus]):\n",
    "        row = sorted(row, key=lambda x: (x[1]), reverse=True)\n",
    "        for j, (topic_num, prop_topic) in enumerate(row):\n",
    "            if j == 0:  # dominant topic\n",
    "                wp = model.show_topic(topic_num)\n",
    "                topics.append(topic_num+1)\n",
    "                categories.append(cat_name[topic_num])\n",
    "            else:\n",
    "                break\n",
    "    data['category'] = categories\n",
    "    data['class'] = topics\n",
    "    return data.reset_index()"
   ]
  },
  {
   "cell_type": "code",
   "execution_count": 34,
   "id": "1df5cbb9",
   "metadata": {},
   "outputs": [],
   "source": [
    "data_labelled = add_labels(model=best_model, corpus=corpus, data=data)"
   ]
  },
  {
   "cell_type": "code",
   "execution_count": 35,
   "id": "52466289",
   "metadata": {},
   "outputs": [
    {
     "data": {
      "text/plain": [
       "count                 10802\n",
       "unique                    2\n",
       "top       Contact/Awareness\n",
       "freq                   7966\n",
       "Name: category, dtype: object"
      ]
     },
     "execution_count": 35,
     "metadata": {},
     "output_type": "execute_result"
    }
   ],
   "source": [
    "data_labelled.category.describe()"
   ]
  },
  {
   "cell_type": "code",
   "execution_count": 36,
   "id": "fc2ddc99",
   "metadata": {},
   "outputs": [
    {
     "data": {
      "text/plain": [
       "array([1, 2], dtype=int64)"
      ]
     },
     "execution_count": 36,
     "metadata": {},
     "output_type": "execute_result"
    }
   ],
   "source": [
    "data_labelled['class'].unique()"
   ]
  },
  {
   "cell_type": "code",
   "execution_count": 37,
   "id": "5019717c",
   "metadata": {},
   "outputs": [
    {
     "data": {
      "text/html": [
       "<div>\n",
       "<style scoped>\n",
       "    .dataframe tbody tr th:only-of-type {\n",
       "        vertical-align: middle;\n",
       "    }\n",
       "\n",
       "    .dataframe tbody tr th {\n",
       "        vertical-align: top;\n",
       "    }\n",
       "\n",
       "    .dataframe thead th {\n",
       "        text-align: right;\n",
       "    }\n",
       "</style>\n",
       "<table border=\"1\" class=\"dataframe\">\n",
       "  <thead>\n",
       "    <tr style=\"text-align: right;\">\n",
       "      <th></th>\n",
       "      <th>user_ID</th>\n",
       "      <th>followers_count</th>\n",
       "      <th>user_location</th>\n",
       "      <th>user_description</th>\n",
       "      <th>date</th>\n",
       "      <th>text</th>\n",
       "      <th>hashtags</th>\n",
       "      <th>category</th>\n",
       "      <th>class</th>\n",
       "    </tr>\n",
       "  </thead>\n",
       "  <tbody>\n",
       "    <tr>\n",
       "      <th>0</th>\n",
       "      <td>1.365320e+18</td>\n",
       "      <td>52</td>\n",
       "      <td>Sheffield, England</td>\n",
       "      <td>❤Sal / UK\\r\\r\\n🧡Player of games, Master of non...</td>\n",
       "      <td>10/27/2021 12:40</td>\n",
       "      <td>Saw GP today and we went through stuff and I t...</td>\n",
       "      <td>NaN</td>\n",
       "      <td>Contact/Awareness</td>\n",
       "      <td>1</td>\n",
       "    </tr>\n",
       "    <tr>\n",
       "      <th>1</th>\n",
       "      <td>5.363879e+07</td>\n",
       "      <td>1667</td>\n",
       "      <td>UK</td>\n",
       "      <td>27y/o nonbinary creator. They/Them. disabled. ...</td>\n",
       "      <td>10/27/2021 12:40</td>\n",
       "      <td>My ADHD Graveyard | Officially Diagnosed and A...</td>\n",
       "      <td>NaN</td>\n",
       "      <td>Treatment/Factors</td>\n",
       "      <td>2</td>\n",
       "    </tr>\n",
       "    <tr>\n",
       "      <th>2</th>\n",
       "      <td>1.329360e+18</td>\n",
       "      <td>12</td>\n",
       "      <td>England, United Kingdom</td>\n",
       "      <td>38. A diagnosis referral is hard in the UK. Se...</td>\n",
       "      <td>10/27/2021 12:37</td>\n",
       "      <td>Have there been any studies of adults or child...</td>\n",
       "      <td>['askADHD', 'ADHD']</td>\n",
       "      <td>Contact/Awareness</td>\n",
       "      <td>1</td>\n",
       "    </tr>\n",
       "    <tr>\n",
       "      <th>3</th>\n",
       "      <td>1.242600e+18</td>\n",
       "      <td>8</td>\n",
       "      <td>West Hempstead, NY</td>\n",
       "      <td>OrganizeU4Life is making an impact on the live...</td>\n",
       "      <td>10/27/2021 12:35</td>\n",
       "      <td>Environmental factors don’t directly cause ADH...</td>\n",
       "      <td>NaN</td>\n",
       "      <td>Contact/Awareness</td>\n",
       "      <td>1</td>\n",
       "    </tr>\n",
       "    <tr>\n",
       "      <th>4</th>\n",
       "      <td>1.429030e+18</td>\n",
       "      <td>48</td>\n",
       "      <td>España</td>\n",
       "      <td>🔞. Mainly NSFW. He/Him. 28. Gay, Single and Lo...</td>\n",
       "      <td>10/27/2021 12:33</td>\n",
       "      <td>Here in Spain we celebrate the national day of...</td>\n",
       "      <td>['ADHD']</td>\n",
       "      <td>Contact/Awareness</td>\n",
       "      <td>1</td>\n",
       "    </tr>\n",
       "  </tbody>\n",
       "</table>\n",
       "</div>"
      ],
      "text/plain": [
       "        user_ID  followers_count            user_location  \\\n",
       "0  1.365320e+18               52       Sheffield, England   \n",
       "1  5.363879e+07             1667                       UK   \n",
       "2  1.329360e+18               12  England, United Kingdom   \n",
       "3  1.242600e+18                8       West Hempstead, NY   \n",
       "4  1.429030e+18               48                   España   \n",
       "\n",
       "                                    user_description              date  \\\n",
       "0  ❤Sal / UK\\r\\r\\n🧡Player of games, Master of non...  10/27/2021 12:40   \n",
       "1  27y/o nonbinary creator. They/Them. disabled. ...  10/27/2021 12:40   \n",
       "2  38. A diagnosis referral is hard in the UK. Se...  10/27/2021 12:37   \n",
       "3  OrganizeU4Life is making an impact on the live...  10/27/2021 12:35   \n",
       "4  🔞. Mainly NSFW. He/Him. 28. Gay, Single and Lo...  10/27/2021 12:33   \n",
       "\n",
       "                                                text             hashtags  \\\n",
       "0  Saw GP today and we went through stuff and I t...                  NaN   \n",
       "1  My ADHD Graveyard | Officially Diagnosed and A...                  NaN   \n",
       "2  Have there been any studies of adults or child...  ['askADHD', 'ADHD']   \n",
       "3  Environmental factors don’t directly cause ADH...                  NaN   \n",
       "4  Here in Spain we celebrate the national day of...             ['ADHD']   \n",
       "\n",
       "            category  class  \n",
       "0  Contact/Awareness      1  \n",
       "1  Treatment/Factors      2  \n",
       "2  Contact/Awareness      1  \n",
       "3  Contact/Awareness      1  \n",
       "4  Contact/Awareness      1  "
      ]
     },
     "execution_count": 37,
     "metadata": {},
     "output_type": "execute_result"
    }
   ],
   "source": [
    "data.head()"
   ]
  },
  {
   "cell_type": "code",
   "execution_count": 40,
   "id": "9a708515",
   "metadata": {},
   "outputs": [
    {
     "name": "stdout",
     "output_type": "stream",
     "text": [
      "Tweet: What if...?\r",
      "\r\n",
      "\r",
      "\r\n",
      "How important is sleep, exercise and nutrition for those with #ADHD? What would we find out if we started asking questions? What habits would we change if we knew it mattered?\r",
      "\r\n",
      "\r",
      "\r\n",
      "#ADHD_parents https://t.co/JerKIQvBT0\n",
      "************************************************************\n",
      "Category: Treatment/Factors\n",
      "--------------------------------------------------------------------------------------------------------------------------------\n",
      "Tweet: Professionals must include a ‘disclosure’ section in their assessments. There are pros and cons and it depends…on #context #autism #adhd #aspergers https://t.co/nmzlbjWB3z\n",
      "************************************************************\n",
      "Category: Contact/Awareness\n",
      "--------------------------------------------------------------------------------------------------------------------------------\n",
      "Tweet: Have you ever heard of the Pre-Frontal Vortex? Meet the ADD brain 😵‍💫\r",
      "\r\n",
      "@AdultingADHD #ADHDAwareness #ADHD #TeamADHD #LifeInADHD @HowtoADHD @ADHD_Alien\r",
      "\r\n",
      "Learn more below: \r",
      "\r\n",
      "https://t.co/Rqene7HJRc\n",
      "************************************************************\n",
      "Category: Contact/Awareness\n",
      "--------------------------------------------------------------------------------------------------------------------------------\n"
     ]
    }
   ],
   "source": [
    "for i in range(3):\n",
    "    random_tweet = random.randint(1,len(data))\n",
    "    print('Tweet:', data.text[random_tweet])\n",
    "    print('************************************************************')\n",
    "    print('Category:', data.category[random_tweet])\n",
    "    print('--------------------------------------------------------------------------------------------------------------------------------')"
   ]
  },
  {
   "cell_type": "code",
   "execution_count": 41,
   "id": "2910f445",
   "metadata": {},
   "outputs": [],
   "source": [
    "data.to_csv('ADHD with TM labels.csv')"
   ]
  }
 ],
 "metadata": {
  "kernelspec": {
   "display_name": "Python 3",
   "language": "python",
   "name": "python3"
  },
  "language_info": {
   "codemirror_mode": {
    "name": "ipython",
    "version": 3
   },
   "file_extension": ".py",
   "mimetype": "text/x-python",
   "name": "python",
   "nbconvert_exporter": "python",
   "pygments_lexer": "ipython3",
   "version": "3.6.5"
  }
 },
 "nbformat": 4,
 "nbformat_minor": 5
}
