{
 "cells": [
  {
   "cell_type": "code",
   "execution_count": 1,
   "id": "5b113821",
   "metadata": {},
   "outputs": [],
   "source": [
    "import pandas as pd"
   ]
  },
  {
   "cell_type": "code",
   "execution_count": 2,
   "id": "c4ab44e3",
   "metadata": {},
   "outputs": [],
   "source": [
    "dataset = pd.read_csv('depression.csv')"
   ]
  },
  {
   "cell_type": "code",
   "execution_count": 3,
   "id": "f29e1d47",
   "metadata": {},
   "outputs": [
    {
     "data": {
      "text/html": [
       "<div>\n",
       "<style scoped>\n",
       "    .dataframe tbody tr th:only-of-type {\n",
       "        vertical-align: middle;\n",
       "    }\n",
       "\n",
       "    .dataframe tbody tr th {\n",
       "        vertical-align: top;\n",
       "    }\n",
       "\n",
       "    .dataframe thead th {\n",
       "        text-align: right;\n",
       "    }\n",
       "</style>\n",
       "<table border=\"1\" class=\"dataframe\">\n",
       "  <thead>\n",
       "    <tr style=\"text-align: right;\">\n",
       "      <th></th>\n",
       "      <th>Unnamed: 0</th>\n",
       "      <th>user_ID</th>\n",
       "      <th>followers_count</th>\n",
       "      <th>user_location</th>\n",
       "      <th>user_description</th>\n",
       "      <th>date</th>\n",
       "      <th>text</th>\n",
       "      <th>hashtags</th>\n",
       "      <th>mylabels</th>\n",
       "    </tr>\n",
       "  </thead>\n",
       "  <tbody>\n",
       "    <tr>\n",
       "      <th>0</th>\n",
       "      <td>0</td>\n",
       "      <td>1.390000e+18</td>\n",
       "      <td>53</td>\n",
       "      <td>Barcelona, Spain</td>\n",
       "      <td>For 34 years, Psych Congress has served as a u...</td>\n",
       "      <td>10/27/2021 11:45</td>\n",
       "      <td>Extended abstract submission deadline is TODAY...</td>\n",
       "      <td>NaN</td>\n",
       "      <td>2.0</td>\n",
       "    </tr>\n",
       "    <tr>\n",
       "      <th>1</th>\n",
       "      <td>1</td>\n",
       "      <td>2.350451e+09</td>\n",
       "      <td>30626</td>\n",
       "      <td>Sacramento, California</td>\n",
       "      <td>Believer in creating a healthy game plan to fe...</td>\n",
       "      <td>10/27/2021 11:39</td>\n",
       "      <td>🌟This Fall and if you can, intentionally spend...</td>\n",
       "      <td>['anxiety']</td>\n",
       "      <td>2.0</td>\n",
       "    </tr>\n",
       "    <tr>\n",
       "      <th>2</th>\n",
       "      <td>2</td>\n",
       "      <td>3.345540e+09</td>\n",
       "      <td>829</td>\n",
       "      <td>Pittsburgh, PA</td>\n",
       "      <td>Founder Motivation Champs, Publisher 📚, Screen...</td>\n",
       "      <td>10/27/2021 11:38</td>\n",
       "      <td>Proud to welcome Stephanie Kunkel to the Motiv...</td>\n",
       "      <td>NaN</td>\n",
       "      <td>3.0</td>\n",
       "    </tr>\n",
       "    <tr>\n",
       "      <th>3</th>\n",
       "      <td>3</td>\n",
       "      <td>1.174093e+07</td>\n",
       "      <td>3089</td>\n",
       "      <td>Toronto, Canada</td>\n",
       "      <td>Self healing journey from ✝️ trauma to spiritu...</td>\n",
       "      <td>10/27/2021 11:35</td>\n",
       "      <td>How much energy do you put into keeping up app...</td>\n",
       "      <td>['travelblogger']</td>\n",
       "      <td>2.0</td>\n",
       "    </tr>\n",
       "    <tr>\n",
       "      <th>4</th>\n",
       "      <td>4</td>\n",
       "      <td>4.008473e+09</td>\n",
       "      <td>417</td>\n",
       "      <td>London, England</td>\n",
       "      <td>rTMS treatment across the UK and Ireland.\\r\\r\\...</td>\n",
       "      <td>10/27/2021 11:35</td>\n",
       "      <td>Did you know that we treat seasonal affective ...</td>\n",
       "      <td>['seasonalaffectivedisorder', 'SAD']</td>\n",
       "      <td>2.0</td>\n",
       "    </tr>\n",
       "  </tbody>\n",
       "</table>\n",
       "</div>"
      ],
      "text/plain": [
       "   Unnamed: 0       user_ID  followers_count           user_location  \\\n",
       "0           0  1.390000e+18               53        Barcelona, Spain   \n",
       "1           1  2.350451e+09            30626  Sacramento, California   \n",
       "2           2  3.345540e+09              829          Pittsburgh, PA   \n",
       "3           3  1.174093e+07             3089         Toronto, Canada   \n",
       "4           4  4.008473e+09              417         London, England   \n",
       "\n",
       "                                    user_description              date  \\\n",
       "0  For 34 years, Psych Congress has served as a u...  10/27/2021 11:45   \n",
       "1  Believer in creating a healthy game plan to fe...  10/27/2021 11:39   \n",
       "2  Founder Motivation Champs, Publisher 📚, Screen...  10/27/2021 11:38   \n",
       "3  Self healing journey from ✝️ trauma to spiritu...  10/27/2021 11:35   \n",
       "4  rTMS treatment across the UK and Ireland.\\r\\r\\...  10/27/2021 11:35   \n",
       "\n",
       "                                                text  \\\n",
       "0  Extended abstract submission deadline is TODAY...   \n",
       "1  🌟This Fall and if you can, intentionally spend...   \n",
       "2  Proud to welcome Stephanie Kunkel to the Motiv...   \n",
       "3  How much energy do you put into keeping up app...   \n",
       "4  Did you know that we treat seasonal affective ...   \n",
       "\n",
       "                               hashtags  mylabels  \n",
       "0                                   NaN       2.0  \n",
       "1                           ['anxiety']       2.0  \n",
       "2                                   NaN       3.0  \n",
       "3                     ['travelblogger']       2.0  \n",
       "4  ['seasonalaffectivedisorder', 'SAD']       2.0  "
      ]
     },
     "execution_count": 3,
     "metadata": {},
     "output_type": "execute_result"
    }
   ],
   "source": [
    "dataset.head()"
   ]
  },
  {
   "cell_type": "code",
   "execution_count": 4,
   "id": "09902c88",
   "metadata": {},
   "outputs": [
    {
     "data": {
      "text/plain": [
       "Unnamed: 0          16733\n",
       "user_ID             16733\n",
       "followers_count     16733\n",
       "user_location       12922\n",
       "user_description    16278\n",
       "date                16733\n",
       "text                16733\n",
       "hashtags            11886\n",
       "mylabels              101\n",
       "dtype: int64"
      ]
     },
     "execution_count": 4,
     "metadata": {},
     "output_type": "execute_result"
    }
   ],
   "source": [
    "dataset.count()"
   ]
  },
  {
   "cell_type": "code",
   "execution_count": 3,
   "id": "174a7aa4",
   "metadata": {},
   "outputs": [
    {
     "name": "stderr",
     "output_type": "stream",
     "text": [
      "Some weights of the model checkpoint at vinai/bertweet-large were not used when initializing RobertaModel: ['lm_head.layer_norm.bias', 'lm_head.layer_norm.weight', 'lm_head.decoder.bias', 'lm_head.dense.bias', 'lm_head.bias', 'lm_head.decoder.weight', 'lm_head.dense.weight']\n",
      "- This IS expected if you are initializing RobertaModel from the checkpoint of a model trained on another task or with another architecture (e.g. initializing a BertForSequenceClassification model from a BertForPreTraining model).\n",
      "- This IS NOT expected if you are initializing RobertaModel from the checkpoint of a model that you expect to be exactly identical (initializing a BertForSequenceClassification model from a BertForSequenceClassification model).\n",
      "Some weights of RobertaModel were not initialized from the model checkpoint at vinai/bertweet-large and are newly initialized: ['roberta.pooler.dense.bias', 'roberta.pooler.dense.weight']\n",
      "You should probably TRAIN this model on a down-stream task to be able to use it for predictions and inference.\n"
     ]
    }
   ],
   "source": [
    "import torch\n",
    "from transformers import AutoModel, AutoTokenizer \n",
    "\n",
    "bertweet = AutoModel.from_pretrained(\"vinai/bertweet-large\")\n",
    "\n",
    "tokenizer = AutoTokenizer.from_pretrained(\"vinai/bertweet-large\")\n",
    "\n",
    "# INPUT TWEET IS ALREADY NORMALIZED!\n",
    "line = \"DHEC confirms HTTPURL via @USER :crying_face:\"\n",
    "\n",
    "input_ids = torch.tensor([tokenizer.encode(line)])\n",
    "\n",
    "with torch.no_grad():\n",
    "    features = bertweet(input_ids)  # Models outputs are now tuples\n",
    "    "
   ]
  },
  {
   "cell_type": "code",
   "execution_count": null,
   "id": "79c84585",
   "metadata": {},
   "outputs": [],
   "source": []
  },
  {
   "cell_type": "code",
   "execution_count": 8,
   "id": "10b4f3ad",
   "metadata": {},
   "outputs": [],
   "source": [
    "from nltk.sentiment.vader import SentimentIntensityAnalyzer\n",
    "\n",
    "analyzer = SentimentIntensityAnalyzer()\n",
    "\n",
    "def vader_sentiment_result(sent):\n",
    "    scores = analyzer.polarity_scores(sent)\n",
    "    \n",
    "    if scores[\"pos\"] >= 0.55: \n",
    "        return 3\n",
    "    if scores[\"neg\"] >= 0.55: \n",
    "        return 1\n",
    "    else: return 2\n",
    "\n",
    "dataset[\"vader_result\"] = dataset['clean_tweet'].apply(lambda x: vader_sentiment_result(x))"
   ]
  },
  {
   "cell_type": "code",
   "execution_count": 9,
   "id": "7075a395",
   "metadata": {},
   "outputs": [],
   "source": [
    "vader = list(dataset['vader_result'][:101])\n",
    "miner = list(dataset['mylabels'][:101])"
   ]
  },
  {
   "cell_type": "code",
   "execution_count": 10,
   "id": "c5a64fbb",
   "metadata": {},
   "outputs": [],
   "source": [
    "wrong = 0\n",
    "for i in range(len(vader)):\n",
    "    if vader[i]!=miner[i]:\n",
    "        wrong+=1\n",
    "            "
   ]
  },
  {
   "cell_type": "code",
   "execution_count": 11,
   "id": "a0f51757",
   "metadata": {},
   "outputs": [
    {
     "data": {
      "text/plain": [
       "44"
      ]
     },
     "execution_count": 11,
     "metadata": {},
     "output_type": "execute_result"
    }
   ],
   "source": [
    "wrong"
   ]
  },
  {
   "cell_type": "code",
   "execution_count": 15,
   "id": "d97766c2",
   "metadata": {},
   "outputs": [],
   "source": [
    "import numpy as np\n",
    "import pandas as pd\n",
    "from sklearn.preprocessing import LabelEncoder\n",
    "from sklearn.model_selection import train_test_split"
   ]
  },
  {
   "cell_type": "code",
   "execution_count": 16,
   "id": "41e536e0",
   "metadata": {},
   "outputs": [
    {
     "data": {
      "text/html": [
       "<div>\n",
       "<style scoped>\n",
       "    .dataframe tbody tr th:only-of-type {\n",
       "        vertical-align: middle;\n",
       "    }\n",
       "\n",
       "    .dataframe tbody tr th {\n",
       "        vertical-align: top;\n",
       "    }\n",
       "\n",
       "    .dataframe thead th {\n",
       "        text-align: right;\n",
       "    }\n",
       "</style>\n",
       "<table border=\"1\" class=\"dataframe\">\n",
       "  <thead>\n",
       "    <tr style=\"text-align: right;\">\n",
       "      <th></th>\n",
       "      <th>Unnamed: 0</th>\n",
       "      <th>user_ID</th>\n",
       "      <th>followers_count</th>\n",
       "      <th>user_location</th>\n",
       "      <th>user_description</th>\n",
       "      <th>date</th>\n",
       "      <th>text</th>\n",
       "      <th>hashtags</th>\n",
       "      <th>mylabels</th>\n",
       "      <th>clean_tweet</th>\n",
       "      <th>vader_result</th>\n",
       "    </tr>\n",
       "  </thead>\n",
       "  <tbody>\n",
       "    <tr>\n",
       "      <th>0</th>\n",
       "      <td>0</td>\n",
       "      <td>1.390000e+18</td>\n",
       "      <td>53</td>\n",
       "      <td>Barcelona, Spain</td>\n",
       "      <td>For 34 years, Psych Congress has served as a u...</td>\n",
       "      <td>10/27/2021 11:45</td>\n",
       "      <td>Extended abstract submission deadline is TODAY...</td>\n",
       "      <td>NaN</td>\n",
       "      <td>2.0</td>\n",
       "      <td>extend abstract submiss deadlin today❗ add fin...</td>\n",
       "      <td>2</td>\n",
       "    </tr>\n",
       "    <tr>\n",
       "      <th>1</th>\n",
       "      <td>1</td>\n",
       "      <td>2.350451e+09</td>\n",
       "      <td>30626</td>\n",
       "      <td>Sacramento, California</td>\n",
       "      <td>Believer in creating a healthy game plan to fe...</td>\n",
       "      <td>10/27/2021 11:39</td>\n",
       "      <td>🌟This Fall and if you can, intentionally spend...</td>\n",
       "      <td>['anxiety']</td>\n",
       "      <td>2.0</td>\n",
       "      <td>🌟thi fall intent spend time natur ▪️it help de...</td>\n",
       "      <td>2</td>\n",
       "    </tr>\n",
       "    <tr>\n",
       "      <th>2</th>\n",
       "      <td>2</td>\n",
       "      <td>3.345540e+09</td>\n",
       "      <td>829</td>\n",
       "      <td>Pittsburgh, PA</td>\n",
       "      <td>Founder Motivation Champs, Publisher 📚, Screen...</td>\n",
       "      <td>10/27/2021 11:38</td>\n",
       "      <td>Proud to welcome Stephanie Kunkel to the Motiv...</td>\n",
       "      <td>NaN</td>\n",
       "      <td>3.0</td>\n",
       "      <td>proud welcom stephani kunkel motiv champ famil...</td>\n",
       "      <td>2</td>\n",
       "    </tr>\n",
       "    <tr>\n",
       "      <th>3</th>\n",
       "      <td>3</td>\n",
       "      <td>1.174093e+07</td>\n",
       "      <td>3089</td>\n",
       "      <td>Toronto, Canada</td>\n",
       "      <td>Self healing journey from ✝️ trauma to spiritu...</td>\n",
       "      <td>10/27/2021 11:35</td>\n",
       "      <td>How much energy do you put into keeping up app...</td>\n",
       "      <td>['travelblogger']</td>\n",
       "      <td>2.0</td>\n",
       "      <td>much energi put keep appear ⁠ se jump ⁠ #trave...</td>\n",
       "      <td>2</td>\n",
       "    </tr>\n",
       "    <tr>\n",
       "      <th>4</th>\n",
       "      <td>4</td>\n",
       "      <td>4.008473e+09</td>\n",
       "      <td>417</td>\n",
       "      <td>London, England</td>\n",
       "      <td>rTMS treatment across the UK and Ireland.\\r\\r\\...</td>\n",
       "      <td>10/27/2021 11:35</td>\n",
       "      <td>Did you know that we treat seasonal affective ...</td>\n",
       "      <td>['seasonalaffectivedisorder', 'SAD']</td>\n",
       "      <td>2.0</td>\n",
       "      <td>know treat season affect disord #seasonalaffec...</td>\n",
       "      <td>2</td>\n",
       "    </tr>\n",
       "  </tbody>\n",
       "</table>\n",
       "</div>"
      ],
      "text/plain": [
       "   Unnamed: 0       user_ID  followers_count           user_location  \\\n",
       "0           0  1.390000e+18               53        Barcelona, Spain   \n",
       "1           1  2.350451e+09            30626  Sacramento, California   \n",
       "2           2  3.345540e+09              829          Pittsburgh, PA   \n",
       "3           3  1.174093e+07             3089         Toronto, Canada   \n",
       "4           4  4.008473e+09              417         London, England   \n",
       "\n",
       "                                    user_description              date  \\\n",
       "0  For 34 years, Psych Congress has served as a u...  10/27/2021 11:45   \n",
       "1  Believer in creating a healthy game plan to fe...  10/27/2021 11:39   \n",
       "2  Founder Motivation Champs, Publisher 📚, Screen...  10/27/2021 11:38   \n",
       "3  Self healing journey from ✝️ trauma to spiritu...  10/27/2021 11:35   \n",
       "4  rTMS treatment across the UK and Ireland.\\r\\r\\...  10/27/2021 11:35   \n",
       "\n",
       "                                                text  \\\n",
       "0  Extended abstract submission deadline is TODAY...   \n",
       "1  🌟This Fall and if you can, intentionally spend...   \n",
       "2  Proud to welcome Stephanie Kunkel to the Motiv...   \n",
       "3  How much energy do you put into keeping up app...   \n",
       "4  Did you know that we treat seasonal affective ...   \n",
       "\n",
       "                               hashtags  mylabels  \\\n",
       "0                                   NaN       2.0   \n",
       "1                           ['anxiety']       2.0   \n",
       "2                                   NaN       3.0   \n",
       "3                     ['travelblogger']       2.0   \n",
       "4  ['seasonalaffectivedisorder', 'SAD']       2.0   \n",
       "\n",
       "                                         clean_tweet  vader_result  \n",
       "0  extend abstract submiss deadlin today❗ add fin...             2  \n",
       "1  🌟thi fall intent spend time natur ▪️it help de...             2  \n",
       "2  proud welcom stephani kunkel motiv champ famil...             2  \n",
       "3  much energi put keep appear ⁠ se jump ⁠ #trave...             2  \n",
       "4  know treat season affect disord #seasonalaffec...             2  "
      ]
     },
     "execution_count": 16,
     "metadata": {},
     "output_type": "execute_result"
    }
   ],
   "source": [
    "data_train= dataset[:81]\n",
    "data_test= dataset[:21]\n",
    "data_train.head(5)"
   ]
  },
  {
   "cell_type": "code",
   "execution_count": 19,
   "id": "2b310faf",
   "metadata": {},
   "outputs": [
    {
     "name": "stderr",
     "output_type": "stream",
     "text": [
      "C:\\Users\\almag\\Anaconda3\\lib\\site-packages\\ipykernel_launcher.py:1: SettingWithCopyWarning: \n",
      "A value is trying to be set on a copy of a slice from a DataFrame.\n",
      "Try using .loc[row_indexer,col_indexer] = value instead\n",
      "\n",
      "See the caveats in the documentation: http://pandas.pydata.org/pandas-docs/stable/indexing.html#indexing-view-versus-copy\n",
      "  \"\"\"Entry point for launching an IPython kernel.\n"
     ]
    }
   ],
   "source": [
    "data_train['mylabels'] = data_train['mylabels'].astype(int)"
   ]
  },
  {
   "cell_type": "code",
   "execution_count": 20,
   "id": "ce45e305",
   "metadata": {},
   "outputs": [
    {
     "data": {
      "text/plain": [
       "array([2, 3, 1], dtype=int64)"
      ]
     },
     "execution_count": 20,
     "metadata": {},
     "output_type": "execute_result"
    }
   ],
   "source": [
    "data_train['mylabels'].unique()"
   ]
  },
  {
   "cell_type": "code",
   "execution_count": 21,
   "id": "40450250",
   "metadata": {},
   "outputs": [],
   "source": [
    "def get_labels(self):\n",
    "    return ['1', '2', '3']"
   ]
  },
  {
   "cell_type": "code",
   "execution_count": 23,
   "id": "e953150f",
   "metadata": {},
   "outputs": [
    {
     "data": {
      "text/html": [
       "<div>\n",
       "<style scoped>\n",
       "    .dataframe tbody tr th:only-of-type {\n",
       "        vertical-align: middle;\n",
       "    }\n",
       "\n",
       "    .dataframe tbody tr th {\n",
       "        vertical-align: top;\n",
       "    }\n",
       "\n",
       "    .dataframe thead th {\n",
       "        text-align: right;\n",
       "    }\n",
       "</style>\n",
       "<table border=\"1\" class=\"dataframe\">\n",
       "  <thead>\n",
       "    <tr style=\"text-align: right;\">\n",
       "      <th></th>\n",
       "      <th>id</th>\n",
       "      <th>label</th>\n",
       "      <th>alpha</th>\n",
       "      <th>text</th>\n",
       "    </tr>\n",
       "  </thead>\n",
       "  <tbody>\n",
       "    <tr>\n",
       "      <th>0</th>\n",
       "      <td>0</td>\n",
       "      <td>2</td>\n",
       "      <td>a</td>\n",
       "      <td>extend abstract submiss deadlin today❗ add fin...</td>\n",
       "    </tr>\n",
       "    <tr>\n",
       "      <th>1</th>\n",
       "      <td>1</td>\n",
       "      <td>2</td>\n",
       "      <td>a</td>\n",
       "      <td>🌟thi fall intent spend time natur ▪️it help de...</td>\n",
       "    </tr>\n",
       "    <tr>\n",
       "      <th>2</th>\n",
       "      <td>2</td>\n",
       "      <td>3</td>\n",
       "      <td>a</td>\n",
       "      <td>proud welcom stephani kunkel motiv champ famil...</td>\n",
       "    </tr>\n",
       "    <tr>\n",
       "      <th>3</th>\n",
       "      <td>3</td>\n",
       "      <td>2</td>\n",
       "      <td>a</td>\n",
       "      <td>much energi put keep appear ⁠ se jump ⁠ #trave...</td>\n",
       "    </tr>\n",
       "    <tr>\n",
       "      <th>4</th>\n",
       "      <td>4</td>\n",
       "      <td>2</td>\n",
       "      <td>a</td>\n",
       "      <td>know treat season affect disord #seasonalaffec...</td>\n",
       "    </tr>\n",
       "  </tbody>\n",
       "</table>\n",
       "</div>"
      ],
      "text/plain": [
       "   id  label alpha                                               text\n",
       "0   0      2     a  extend abstract submiss deadlin today❗ add fin...\n",
       "1   1      2     a  🌟thi fall intent spend time natur ▪️it help de...\n",
       "2   2      3     a  proud welcom stephani kunkel motiv champ famil...\n",
       "3   3      2     a  much energi put keep appear ⁠ se jump ⁠ #trave...\n",
       "4   4      2     a  know treat season affect disord #seasonalaffec..."
      ]
     },
     "execution_count": 23,
     "metadata": {},
     "output_type": "execute_result"
    }
   ],
   "source": [
    "df_bert = pd.DataFrame({\n",
    " 'id':range(len(data_train)),\n",
    " 'label':data_train['mylabels'],\n",
    " 'alpha':['a']*data_train.shape[0],\n",
    " 'text': data_train['clean_tweet'].replace(r'\\n', '' , regex=True)\n",
    "})\n",
    "df_bert.head()"
   ]
  },
  {
   "cell_type": "code",
   "execution_count": 27,
   "id": "c619143b",
   "metadata": {},
   "outputs": [],
   "source": [
    "df_bert_train, df_bert_dev = train_test_split(df_bert, test_size=0.25)"
   ]
  },
  {
   "cell_type": "code",
   "execution_count": 28,
   "id": "cb6fdaae",
   "metadata": {},
   "outputs": [
    {
     "data": {
      "text/html": [
       "<div>\n",
       "<style scoped>\n",
       "    .dataframe tbody tr th:only-of-type {\n",
       "        vertical-align: middle;\n",
       "    }\n",
       "\n",
       "    .dataframe tbody tr th {\n",
       "        vertical-align: top;\n",
       "    }\n",
       "\n",
       "    .dataframe thead th {\n",
       "        text-align: right;\n",
       "    }\n",
       "</style>\n",
       "<table border=\"1\" class=\"dataframe\">\n",
       "  <thead>\n",
       "    <tr style=\"text-align: right;\">\n",
       "      <th></th>\n",
       "      <th>id</th>\n",
       "      <th>text</th>\n",
       "    </tr>\n",
       "  </thead>\n",
       "  <tbody>\n",
       "    <tr>\n",
       "      <th>16</th>\n",
       "      <td>16</td>\n",
       "      <td>onlin mind therapi via skype heal underli caus...</td>\n",
       "    </tr>\n",
       "    <tr>\n",
       "      <th>17</th>\n",
       "      <td>17</td>\n",
       "      <td>mental ill ignor #mentalillness #mentalhealth ...</td>\n",
       "    </tr>\n",
       "    <tr>\n",
       "      <th>18</th>\n",
       "      <td>18</td>\n",
       "      <td>#add #adhdproblems #autismawareness #adhdlife ...</td>\n",
       "    </tr>\n",
       "    <tr>\n",
       "      <th>19</th>\n",
       "      <td>19</td>\n",
       "      <td>🎉#highlycitedpaper #highlyaccessedpaper depres...</td>\n",
       "    </tr>\n",
       "    <tr>\n",
       "      <th>20</th>\n",
       "      <td>20</td>\n",
       "      <td>“around  patient inflammatori bowel diseas ibd...</td>\n",
       "    </tr>\n",
       "  </tbody>\n",
       "</table>\n",
       "</div>"
      ],
      "text/plain": [
       "    id                                               text\n",
       "16  16  onlin mind therapi via skype heal underli caus...\n",
       "17  17  mental ill ignor #mentalillness #mentalhealth ...\n",
       "18  18  #add #adhdproblems #autismawareness #adhdlife ...\n",
       "19  19  🎉#highlycitedpaper #highlyaccessedpaper depres...\n",
       "20  20  “around  patient inflammatori bowel diseas ibd..."
      ]
     },
     "execution_count": 28,
     "metadata": {},
     "output_type": "execute_result"
    }
   ],
   "source": [
    "df_bert_test = pd.DataFrame({\n",
    " 'id':range(len(data_test)),\n",
    " 'text': data_test['clean_tweet'].replace(r'\\n', '' , regex=True)\n",
    "})\n",
    "df_bert_test.tail()"
   ]
  },
  {
   "cell_type": "code",
   "execution_count": 29,
   "id": "3d8d7de9",
   "metadata": {},
   "outputs": [],
   "source": [
    "df_bert_train.to_csv('depr_train.tsv', sep='\\t', index=False, header=False)\n",
    "df_bert_dev.to_csv('depr_dev.tsv', sep='\\t', index=False, header=False)\n",
    "df_bert_test.to_csv('depr_test.tsv', sep='\\t', index=False, header=True)"
   ]
  },
  {
   "cell_type": "code",
   "execution_count": null,
   "id": "bb94cc6e",
   "metadata": {},
   "outputs": [],
   "source": [
    "task_name = "
   ]
  }
 ],
 "metadata": {
  "kernelspec": {
   "display_name": "Python 3",
   "language": "python",
   "name": "python3"
  },
  "language_info": {
   "codemirror_mode": {
    "name": "ipython",
    "version": 3
   },
   "file_extension": ".py",
   "mimetype": "text/x-python",
   "name": "python",
   "nbconvert_exporter": "python",
   "pygments_lexer": "ipython3",
   "version": "3.6.5"
  }
 },
 "nbformat": 4,
 "nbformat_minor": 5
}
