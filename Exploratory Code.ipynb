{
 "cells": [
  {
   "cell_type": "code",
   "execution_count": 1,
   "id": "0c705c40",
   "metadata": {},
   "outputs": [],
   "source": [
    "import pandas as pd"
   ]
  },
  {
   "cell_type": "code",
   "execution_count": 2,
   "id": "39119360",
   "metadata": {},
   "outputs": [],
   "source": [
    "depression = pd.read_csv('depression.csv')"
   ]
  },
  {
   "cell_type": "code",
   "execution_count": 3,
   "id": "2a210cf1",
   "metadata": {},
   "outputs": [
    {
     "data": {
      "text/plain": [
       "Unnamed: 0          16733\n",
       "user_ID              1782\n",
       "followers_count      2340\n",
       "user_location        1580\n",
       "user_description     3259\n",
       "date                 4924\n",
       "text                 3324\n",
       "hashtags             2423\n",
       "mylabels                3\n",
       "dtype: int64"
      ]
     },
     "execution_count": 3,
     "metadata": {},
     "output_type": "execute_result"
    }
   ],
   "source": [
    "depression.nunique()"
   ]
  },
  {
   "cell_type": "code",
   "execution_count": 4,
   "id": "680658fb",
   "metadata": {},
   "outputs": [],
   "source": [
    "adhd = pd.read_csv('adhd.csv')"
   ]
  },
  {
   "cell_type": "code",
   "execution_count": 5,
   "id": "c0d939c3",
   "metadata": {},
   "outputs": [
    {
     "data": {
      "text/plain": [
       "Unnamed: 0          10802\n",
       "user_ID              2597\n",
       "followers_count      2062\n",
       "user_location        1287\n",
       "user_description     2581\n",
       "date                 4302\n",
       "text                 1892\n",
       "hashtags             1303\n",
       "dtype: int64"
      ]
     },
     "execution_count": 5,
     "metadata": {},
     "output_type": "execute_result"
    }
   ],
   "source": [
    "adhd.nunique()"
   ]
  },
  {
   "cell_type": "code",
   "execution_count": 6,
   "id": "a30f35bd",
   "metadata": {},
   "outputs": [],
   "source": [
    "ocd = pd.read_csv('ocd.csv')"
   ]
  },
  {
   "cell_type": "code",
   "execution_count": 8,
   "id": "65a373f9",
   "metadata": {},
   "outputs": [
    {
     "data": {
      "text/plain": [
       "Unnamed: 0          2863\n",
       "user_ID              517\n",
       "followers_count      650\n",
       "user_location        329\n",
       "user_description     504\n",
       "date                1142\n",
       "text                 934\n",
       "hashtags             393\n",
       "dtype: int64"
      ]
     },
     "execution_count": 8,
     "metadata": {},
     "output_type": "execute_result"
    }
   ],
   "source": [
    "ocd.nunique()"
   ]
  },
  {
   "cell_type": "code",
   "execution_count": null,
   "id": "36eaf20a",
   "metadata": {},
   "outputs": [],
   "source": []
  }
 ],
 "metadata": {
  "kernelspec": {
   "display_name": "Python 3",
   "language": "python",
   "name": "python3"
  },
  "language_info": {
   "codemirror_mode": {
    "name": "ipython",
    "version": 3
   },
   "file_extension": ".py",
   "mimetype": "text/x-python",
   "name": "python",
   "nbconvert_exporter": "python",
   "pygments_lexer": "ipython3",
   "version": "3.6.5"
  }
 },
 "nbformat": 4,
 "nbformat_minor": 5
}
