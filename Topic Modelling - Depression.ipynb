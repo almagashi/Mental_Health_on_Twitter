{
 "cells": [
  {
   "cell_type": "markdown",
   "id": "e5de8062",
   "metadata": {},
   "source": [
    "**Import libraries and packages**"
   ]
  },
  {
   "cell_type": "code",
   "execution_count": 1,
   "id": "d5433c5f",
   "metadata": {},
   "outputs": [],
   "source": [
    "import pandas as pd\n",
    "import numpy as np\n",
    "\n",
    "import matplotlib.pyplot as plt\n",
    "import seaborn as sns\n",
    "\n",
    "import sklearn\n",
    "import re\n",
    "\n",
    "import nltk\n",
    "from nltk.tokenize import RegexpTokenizer\n",
    "from nltk.corpus import stopwords\n",
    "\n",
    "from sklearn.feature_extraction.text import CountVectorizer\n",
    "from sklearn.decomposition import LatentDirichletAllocation\n",
    "from sklearn.decomposition import NMF"
   ]
  },
  {
   "cell_type": "markdown",
   "id": "35c198e0",
   "metadata": {},
   "source": [
    "**Read the data from the file**"
   ]
  },
  {
   "cell_type": "code",
   "execution_count": 2,
   "id": "578d54c4",
   "metadata": {},
   "outputs": [],
   "source": [
    "### read data ###\n",
    "data = pd.read_csv('depression.csv')"
   ]
  },
  {
   "cell_type": "markdown",
   "id": "ffa97b8a",
   "metadata": {},
   "source": [
    "One example of how a tweet looks like:"
   ]
  },
  {
   "cell_type": "code",
   "execution_count": 3,
   "id": "b1ed0203",
   "metadata": {},
   "outputs": [
    {
     "data": {
      "text/plain": [
       "\"New research out finds that #acupuncture reduces #depression &amp; enhances SSRI performance https://t.co/TIBa8O94vm \\r\\r\\nWe've always known how beneficial it is, so its good to have the evidence to back it up. Acupuncture can really help!\\r\\r\\n\\r\\r\\n#mentalhealth https://t.co/OtkjCKTKX4\""
      ]
     },
     "execution_count": 3,
     "metadata": {},
     "output_type": "execute_result"
    }
   ],
   "source": [
    "data.text[4444]"
   ]
  },
  {
   "cell_type": "markdown",
   "id": "0fde4a44",
   "metadata": {},
   "source": [
    "A sneak-peek at the data:"
   ]
  },
  {
   "cell_type": "code",
   "execution_count": 4,
   "id": "a056dd6a",
   "metadata": {},
   "outputs": [
    {
     "data": {
      "text/html": [
       "<div>\n",
       "<style scoped>\n",
       "    .dataframe tbody tr th:only-of-type {\n",
       "        vertical-align: middle;\n",
       "    }\n",
       "\n",
       "    .dataframe tbody tr th {\n",
       "        vertical-align: top;\n",
       "    }\n",
       "\n",
       "    .dataframe thead th {\n",
       "        text-align: right;\n",
       "    }\n",
       "</style>\n",
       "<table border=\"1\" class=\"dataframe\">\n",
       "  <thead>\n",
       "    <tr style=\"text-align: right;\">\n",
       "      <th></th>\n",
       "      <th>Unnamed: 0</th>\n",
       "      <th>user_ID</th>\n",
       "      <th>followers_count</th>\n",
       "      <th>user_location</th>\n",
       "      <th>user_description</th>\n",
       "      <th>date</th>\n",
       "      <th>text</th>\n",
       "      <th>hashtags</th>\n",
       "    </tr>\n",
       "  </thead>\n",
       "  <tbody>\n",
       "    <tr>\n",
       "      <th>0</th>\n",
       "      <td>0</td>\n",
       "      <td>1390286708755808256</td>\n",
       "      <td>53</td>\n",
       "      <td>Barcelona, Spain</td>\n",
       "      <td>For 34 years, Psych Congress has served as a u...</td>\n",
       "      <td>2021-10-27 11:45:02</td>\n",
       "      <td>Extended abstract submission deadline is TODAY...</td>\n",
       "      <td>NaN</td>\n",
       "    </tr>\n",
       "    <tr>\n",
       "      <th>1</th>\n",
       "      <td>1</td>\n",
       "      <td>2350451402</td>\n",
       "      <td>30626</td>\n",
       "      <td>Sacramento, California</td>\n",
       "      <td>Believer in creating a healthy game plan to fe...</td>\n",
       "      <td>2021-10-27 11:39:41</td>\n",
       "      <td>🌟This Fall and if you can, intentionally spend...</td>\n",
       "      <td>['anxiety']</td>\n",
       "    </tr>\n",
       "    <tr>\n",
       "      <th>2</th>\n",
       "      <td>2</td>\n",
       "      <td>3345539973</td>\n",
       "      <td>829</td>\n",
       "      <td>Pittsburgh, PA</td>\n",
       "      <td>Founder Motivation Champs, Publisher 📚, Screen...</td>\n",
       "      <td>2021-10-27 11:38:22</td>\n",
       "      <td>Proud to welcome Stephanie Kunkel to the Motiv...</td>\n",
       "      <td>NaN</td>\n",
       "    </tr>\n",
       "    <tr>\n",
       "      <th>3</th>\n",
       "      <td>3</td>\n",
       "      <td>11740932</td>\n",
       "      <td>3089</td>\n",
       "      <td>Toronto, Canada</td>\n",
       "      <td>Self healing journey from ✝️ trauma to spiritu...</td>\n",
       "      <td>2021-10-27 11:35:33</td>\n",
       "      <td>How much energy do you put into keeping up app...</td>\n",
       "      <td>['travelblogger']</td>\n",
       "    </tr>\n",
       "    <tr>\n",
       "      <th>4</th>\n",
       "      <td>4</td>\n",
       "      <td>4008473487</td>\n",
       "      <td>417</td>\n",
       "      <td>London, England</td>\n",
       "      <td>rTMS treatment across the UK and Ireland.\\r\\r\\...</td>\n",
       "      <td>2021-10-27 11:35:03</td>\n",
       "      <td>Did you know that we treat seasonal affective ...</td>\n",
       "      <td>['seasonalaffectivedisorder', 'SAD']</td>\n",
       "    </tr>\n",
       "  </tbody>\n",
       "</table>\n",
       "</div>"
      ],
      "text/plain": [
       "   Unnamed: 0              user_ID  followers_count           user_location  \\\n",
       "0           0  1390286708755808256               53        Barcelona, Spain   \n",
       "1           1           2350451402            30626  Sacramento, California   \n",
       "2           2           3345539973              829          Pittsburgh, PA   \n",
       "3           3             11740932             3089         Toronto, Canada   \n",
       "4           4           4008473487              417         London, England   \n",
       "\n",
       "                                    user_description                 date  \\\n",
       "0  For 34 years, Psych Congress has served as a u...  2021-10-27 11:45:02   \n",
       "1  Believer in creating a healthy game plan to fe...  2021-10-27 11:39:41   \n",
       "2  Founder Motivation Champs, Publisher 📚, Screen...  2021-10-27 11:38:22   \n",
       "3  Self healing journey from ✝️ trauma to spiritu...  2021-10-27 11:35:33   \n",
       "4  rTMS treatment across the UK and Ireland.\\r\\r\\...  2021-10-27 11:35:03   \n",
       "\n",
       "                                                text  \\\n",
       "0  Extended abstract submission deadline is TODAY...   \n",
       "1  🌟This Fall and if you can, intentionally spend...   \n",
       "2  Proud to welcome Stephanie Kunkel to the Motiv...   \n",
       "3  How much energy do you put into keeping up app...   \n",
       "4  Did you know that we treat seasonal affective ...   \n",
       "\n",
       "                               hashtags  \n",
       "0                                   NaN  \n",
       "1                           ['anxiety']  \n",
       "2                                   NaN  \n",
       "3                     ['travelblogger']  \n",
       "4  ['seasonalaffectivedisorder', 'SAD']  "
      ]
     },
     "execution_count": 4,
     "metadata": {},
     "output_type": "execute_result"
    }
   ],
   "source": [
    "data.head()"
   ]
  },
  {
   "cell_type": "markdown",
   "id": "f3183990",
   "metadata": {},
   "source": [
    "**Data Cleaning**"
   ]
  },
  {
   "cell_type": "markdown",
   "id": "ab8da000",
   "metadata": {},
   "source": [
    "1. Remove links\n",
    "2. Remove '@' and usernames\n",
    "3. Remove retweets\n",
    "4. Remove english words that do not contribute to the meaning of the sentence (and, or, while, etc.)\n",
    "5. Remove words that appear in almost every tweet ('depression', 'depress', etc.)\n",
    "6. Remove punctuation\n",
    "7. Remove double-spacing\n",
    "8. Remove numbers\n",
    "9. Keep the stem of the words (i.e depressive, depression, depressing, depressed - will all be recognized as depression)\n",
    "10. Check for words that appear together"
   ]
  },
  {
   "cell_type": "code",
   "execution_count": 5,
   "id": "951cb100",
   "metadata": {},
   "outputs": [],
   "source": [
    "### data cleaning ###\n",
    "def remove_links(tweet):\n",
    "    '''Takes a string and removes web links from it'''\n",
    "    tweet = re.sub(r'http\\S+', '', tweet) # remove http links\n",
    "    tweet = re.sub(r'bit.ly/\\S+', '', tweet) # rempve bitly links\n",
    "    tweet = tweet.strip('[link]') # remove [links]\n",
    "    return tweet\n",
    "\n",
    "def remove_users(tweet):\n",
    "    '''Takes a string and removes retweet and @user information'''\n",
    "    tweet = re.sub('(RT\\s@[A-Za-z]+[A-Za-z0-9-_]+)', '', tweet) # remove retweet\n",
    "    tweet = re.sub('(@[A-Za-z]+[A-Za-z0-9-_]+)', '', tweet) # remove tweeted at\n",
    "    tweet = re.sub ('#', '', tweet)\n",
    "    return tweet\n",
    "\n",
    "my_stopwords = nltk.corpus.stopwords.words('english')\n",
    "repeated_words = ['','depress', '#depression', '#depressio', '&amp', 'amp']\n",
    "my_stopwords.extend(repeated_words)\n",
    "word_rooter = nltk.stem.snowball.PorterStemmer(ignore_stopwords=False).stem\n",
    "my_punctuation = '!\"$%&\\'()*+,-./:;<=>?[\\\\]^_`’{|}~•@'\n",
    "\n",
    "# cleaning master function\n",
    "def clean_tweet(tweet, bigrams=False):\n",
    "    tweet = remove_users(tweet)\n",
    "    tweet = remove_links(tweet)\n",
    "    tweet = tweet.lower() # lower case\n",
    "    tweet = re.sub('['+my_punctuation + ']+', ' ', tweet) # strip punctuation\n",
    "    tweet = re.sub('\\s+', ' ', tweet) #remove double spacing\n",
    "    tweet = re.sub('([0-9]+)', '', tweet) # remove numbers\n",
    "    tweet_token_list = [word for word in tweet.split(' ')\n",
    "                            if word not in my_stopwords] # remove stopwords\n",
    "\n",
    "    tweet_token_list = [word_rooter(word) if '#' not in word else word\n",
    "                        for word in tweet_token_list] # apply word rooter\n",
    "    if bigrams:\n",
    "        tweet_token_list = tweet_token_list+[tweet_token_list[i]+'_'+tweet_token_list[i+1]\n",
    "                                            for i in range(len(tweet_token_list)-1)]\n",
    "    tweet = ' '.join(tweet_token_list)\n",
    "    return tweet"
   ]
  },
  {
   "cell_type": "markdown",
   "id": "232771a7",
   "metadata": {},
   "source": [
    "Save the original tweets + the cleaned up tweets."
   ]
  },
  {
   "cell_type": "code",
   "execution_count": 6,
   "id": "c8105918",
   "metadata": {},
   "outputs": [],
   "source": [
    "data['clean_tweet'] = data.text.apply(clean_tweet, True)"
   ]
  },
  {
   "cell_type": "code",
   "execution_count": 7,
   "id": "5459cc4c",
   "metadata": {},
   "outputs": [],
   "source": [
    "data = data.drop(columns=\"Unnamed: 0\")"
   ]
  },
  {
   "cell_type": "markdown",
   "id": "ff74b4d5",
   "metadata": {},
   "source": [
    "Turn words into vectors to allow machine process algorithms to process it."
   ]
  },
  {
   "cell_type": "code",
   "execution_count": 8,
   "id": "67e62faa",
   "metadata": {},
   "outputs": [],
   "source": [
    "### Vectorize ###\n",
    "\n",
    "# the vectorizer object will be used to transform text to vector form\n",
    "vectorizer = CountVectorizer(max_df=0.9, min_df=25, token_pattern='\\w+|\\$[\\d\\.]+|\\S+')\n",
    "\n",
    "# apply transformation\n",
    "tf = vectorizer.fit_transform(data['clean_tweet']).toarray()\n",
    "\n",
    "# tf_feature_names tells us what word each column in the matric represents\n",
    "tf_feature_names = vectorizer.get_feature_names()"
   ]
  },
  {
   "cell_type": "markdown",
   "id": "64d30868",
   "metadata": {},
   "source": [
    "Apply the machine learning algorithm (NMF) to find the main 5 topics in all tweets:"
   ]
  },
  {
   "cell_type": "code",
   "execution_count": 9,
   "id": "46f5e906",
   "metadata": {},
   "outputs": [
    {
     "name": "stderr",
     "output_type": "stream",
     "text": [
      "C:\\Users\\almag\\Anaconda3\\lib\\site-packages\\sklearn\\decomposition\\_nmf.py:315: FutureWarning: The 'init' value, when 'init=None' and n_components is less than n_samples and n_features, will be changed from 'nndsvd' to 'nndsvda' in 1.1 (renaming of 0.26).\n",
      "  \"'nndsvda' in 1.1 (renaming of 0.26).\"), FutureWarning)\n",
      "C:\\Users\\almag\\Anaconda3\\lib\\site-packages\\sklearn\\decomposition\\_nmf.py:1091: ConvergenceWarning: Maximum number of iterations 200 reached. Increase it to improve convergence.\n",
      "  \" improve convergence.\" % max_iter, ConvergenceWarning)\n"
     ]
    },
    {
     "data": {
      "text/plain": [
       "NMF(alpha=0.1, l1_ratio=0.5, n_components=5, random_state=0)"
      ]
     },
     "execution_count": 9,
     "metadata": {},
     "output_type": "execute_result"
    }
   ],
   "source": [
    "### Apply NMF topic modeling ###\n",
    "number_of_topics = 5\n",
    "model_nmf = NMF(n_components=number_of_topics, random_state=0, alpha=.1, l1_ratio=.5)\n",
    "model_nmf.fit(tf)"
   ]
  },
  {
   "cell_type": "code",
   "execution_count": 10,
   "id": "119fdb8e",
   "metadata": {},
   "outputs": [],
   "source": [
    "### show topic modeling ###\n",
    "def display_topics(model, feature_names, no_top_words):\n",
    "    topic_dict = {}\n",
    "    for topic_idx, topic in enumerate(model.components_):\n",
    "        topic_dict[\"Topic %d words\" % (topic_idx)]= ['{}'.format(feature_names[i])\n",
    "                        for i in topic.argsort()[:-no_top_words - 1:-1]]\n",
    "        # topic_dict[\"Topic %d weights\" % (topic_idx)]= ['{:.1f}'.format(topic[i])\n",
    "                        # for i in topic.argsort()[:-no_top_words - 1:-1]]\n",
    "    return pd.DataFrame(topic_dict)"
   ]
  },
  {
   "cell_type": "markdown",
   "id": "a97a9f19",
   "metadata": {},
   "source": [
    "Show what words appear most often in the 5 classified topics:"
   ]
  },
  {
   "cell_type": "code",
   "execution_count": 11,
   "id": "fdae8175",
   "metadata": {},
   "outputs": [
    {
     "data": {
      "text/html": [
       "<div>\n",
       "<style scoped>\n",
       "    .dataframe tbody tr th:only-of-type {\n",
       "        vertical-align: middle;\n",
       "    }\n",
       "\n",
       "    .dataframe tbody tr th {\n",
       "        vertical-align: top;\n",
       "    }\n",
       "\n",
       "    .dataframe thead th {\n",
       "        text-align: right;\n",
       "    }\n",
       "</style>\n",
       "<table border=\"1\" class=\"dataframe\">\n",
       "  <thead>\n",
       "    <tr style=\"text-align: right;\">\n",
       "      <th></th>\n",
       "      <th>Topic 0 words</th>\n",
       "      <th>Topic 1 words</th>\n",
       "      <th>Topic 2 words</th>\n",
       "      <th>Topic 3 words</th>\n",
       "      <th>Topic 4 words</th>\n",
       "    </tr>\n",
       "  </thead>\n",
       "  <tbody>\n",
       "    <tr>\n",
       "      <th>0</th>\n",
       "      <td>il</td>\n",
       "      <td>acupunctur</td>\n",
       "      <td>mn</td>\n",
       "      <td>anxieti</td>\n",
       "      <td>live</td>\n",
       "    </tr>\n",
       "    <tr>\n",
       "      <th>1</th>\n",
       "      <td>depressio</td>\n",
       "      <td>mentalhealth</td>\n",
       "      <td>anxieti</td>\n",
       "      <td>skype</td>\n",
       "      <td>quot</td>\n",
       "    </tr>\n",
       "    <tr>\n",
       "      <th>2</th>\n",
       "      <td>trauma</td>\n",
       "      <td>help</td>\n",
       "      <td>mentalhealthmatt</td>\n",
       "      <td>onlinetherapi</td>\n",
       "      <td>podcast</td>\n",
       "    </tr>\n",
       "    <tr>\n",
       "      <th>3</th>\n",
       "      <td>chang</td>\n",
       "      <td>find</td>\n",
       "      <td>disord</td>\n",
       "      <td>therapist</td>\n",
       "      <td>lgbtq</td>\n",
       "    </tr>\n",
       "    <tr>\n",
       "      <th>4</th>\n",
       "      <td>affect</td>\n",
       "      <td>new</td>\n",
       "      <td>studi</td>\n",
       "      <td>onlinecounsel</td>\n",
       "      <td>nba</td>\n",
       "    </tr>\n",
       "    <tr>\n",
       "      <th>5</th>\n",
       "      <td>post</td>\n",
       "      <td>good</td>\n",
       "      <td>new</td>\n",
       "      <td>onlinepsychotherapi</td>\n",
       "      <td>radio</td>\n",
       "    </tr>\n",
       "    <tr>\n",
       "      <th>6</th>\n",
       "      <td>head</td>\n",
       "      <td>realli</td>\n",
       "      <td>pandem</td>\n",
       "      <td>onlin</td>\n",
       "      <td>iheart</td>\n",
       "    </tr>\n",
       "    <tr>\n",
       "      <th>7</th>\n",
       "      <td>loss</td>\n",
       "      <td>research</td>\n",
       "      <td>world</td>\n",
       "      <td>mentalhealth</td>\n",
       "      <td>kyri</td>\n",
       "    </tr>\n",
       "    <tr>\n",
       "      <th>8</th>\n",
       "      <td>associ</td>\n",
       "      <td>back</td>\n",
       "      <td>increas</td>\n",
       "      <td>therapi</td>\n",
       "      <td>freepj</td>\n",
       "    </tr>\n",
       "    <tr>\n",
       "      <th>9</th>\n",
       "      <td>traumat</td>\n",
       "      <td>alway</td>\n",
       "      <td>million</td>\n",
       "      <td>see</td>\n",
       "      <td>irv</td>\n",
       "    </tr>\n",
       "  </tbody>\n",
       "</table>\n",
       "</div>"
      ],
      "text/plain": [
       "  Topic 0 words Topic 1 words     Topic 2 words        Topic 3 words  \\\n",
       "0            il    acupunctur                mn              anxieti   \n",
       "1     depressio  mentalhealth           anxieti                skype   \n",
       "2        trauma          help  mentalhealthmatt        onlinetherapi   \n",
       "3         chang          find            disord            therapist   \n",
       "4        affect           new             studi        onlinecounsel   \n",
       "5          post          good               new  onlinepsychotherapi   \n",
       "6          head        realli            pandem                onlin   \n",
       "7          loss      research             world         mentalhealth   \n",
       "8        associ          back           increas              therapi   \n",
       "9       traumat         alway           million                  see   \n",
       "\n",
       "  Topic 4 words  \n",
       "0          live  \n",
       "1          quot  \n",
       "2       podcast  \n",
       "3         lgbtq  \n",
       "4           nba  \n",
       "5         radio  \n",
       "6        iheart  \n",
       "7          kyri  \n",
       "8        freepj  \n",
       "9           irv  "
      ]
     },
     "execution_count": 11,
     "metadata": {},
     "output_type": "execute_result"
    }
   ],
   "source": [
    "no_top_words =  10\n",
    "display_topics(model_nmf, tf_feature_names, no_top_words)"
   ]
  },
  {
   "cell_type": "markdown",
   "id": "4d138e1c",
   "metadata": {},
   "source": [
    "From here, we infer the name of the topic/category based on the 7 most frequent words that the algorithm has identified."
   ]
  },
  {
   "cell_type": "markdown",
   "id": "df5cf5b4",
   "metadata": {},
   "source": [
    "- **Topic 0 (Experience/Symptom)**: Given its most frequent words, like il (most likely a root for the word illness), affect, change, etc., it seems to be describing the symptoms or experience of depression. \n",
    "- **Topic 1 (Treatment tips)**: Given the words like find, good, acupuncture, etc., this topic seems to be describing the treatment options or treatment advice for depression.\n",
    "- **Topic 2 (News/Publications)**: Given the words like study, new, world, etc., this topic seems to be describing the news or publications about depression.\n",
    "- **Topic 3 ((Online) Counseling)**: Given the words like online, counseling, therapist, etc., this topic seems to be describing therapy/couseling option, especially online.\n",
    "- **Topic 4 (Irrelevant)**: This topic seems to be gathering a lot of irrelevant keywords, which we will categorize as simply 'irrelevant'."
   ]
  },
  {
   "cell_type": "code",
   "execution_count": 12,
   "id": "8941f6d3",
   "metadata": {},
   "outputs": [],
   "source": [
    "# category 0: Feeling/Symptom/Experience\n",
    "# category 1: Finding treatment\n",
    "# category 2: News/Publications\n",
    "# category 3: Online Counseling\n",
    "# category 4: Irrelevant"
   ]
  },
  {
   "cell_type": "markdown",
   "id": "da9301b3",
   "metadata": {},
   "source": [
    "We add the labels of the topics in our original data:"
   ]
  },
  {
   "cell_type": "code",
   "execution_count": 13,
   "id": "fad5776e",
   "metadata": {},
   "outputs": [],
   "source": [
    "doc_topic = model_nmf.transform(tf)"
   ]
  },
  {
   "cell_type": "code",
   "execution_count": 14,
   "id": "d2d3e5a6",
   "metadata": {},
   "outputs": [],
   "source": [
    "cat_name = ['Experience/Symptom', 'Treatment tips', 'News/Publications', '(Online) Counseling', 'Irrelevant']"
   ]
  },
  {
   "cell_type": "code",
   "execution_count": 15,
   "id": "eb904cac",
   "metadata": {},
   "outputs": [],
   "source": [
    "classes = []\n",
    "categories = []\n",
    "for n in range(doc_topic.shape[0]):\n",
    "    topic_doc = doc_topic[n].argmax()\n",
    "    classes.append(topic_doc)\n",
    "    categories.append(cat_name[topic_doc])\n",
    "    # print(\"Document\", n+1, \"Topic\", topic_doc)"
   ]
  },
  {
   "cell_type": "code",
   "execution_count": 16,
   "id": "8d91b1db",
   "metadata": {},
   "outputs": [],
   "source": [
    "data['category'] = categories\n",
    "data['class'] = classes"
   ]
  },
  {
   "cell_type": "code",
   "execution_count": 17,
   "id": "d17ebe49",
   "metadata": {},
   "outputs": [
    {
     "data": {
      "text/html": [
       "<div>\n",
       "<style scoped>\n",
       "    .dataframe tbody tr th:only-of-type {\n",
       "        vertical-align: middle;\n",
       "    }\n",
       "\n",
       "    .dataframe tbody tr th {\n",
       "        vertical-align: top;\n",
       "    }\n",
       "\n",
       "    .dataframe thead th {\n",
       "        text-align: right;\n",
       "    }\n",
       "</style>\n",
       "<table border=\"1\" class=\"dataframe\">\n",
       "  <thead>\n",
       "    <tr style=\"text-align: right;\">\n",
       "      <th></th>\n",
       "      <th>user_description</th>\n",
       "      <th>text</th>\n",
       "      <th>hashtags</th>\n",
       "      <th>clean_tweet</th>\n",
       "      <th>category</th>\n",
       "      <th>class</th>\n",
       "    </tr>\n",
       "  </thead>\n",
       "  <tbody>\n",
       "    <tr>\n",
       "      <th>0</th>\n",
       "      <td>For 34 years, Psych Congress has served as a u...</td>\n",
       "      <td>Extended abstract submission deadline is TODAY...</td>\n",
       "      <td>NaN</td>\n",
       "      <td>extend abstract submiss deadlin today❗ add fin...</td>\n",
       "      <td>News/Publications</td>\n",
       "      <td>2</td>\n",
       "    </tr>\n",
       "    <tr>\n",
       "      <th>1</th>\n",
       "      <td>Believer in creating a healthy game plan to fe...</td>\n",
       "      <td>🌟This Fall and if you can, intentionally spend...</td>\n",
       "      <td>['anxiety']</td>\n",
       "      <td>🌟thi fall intent spend time natur ▪️it help de...</td>\n",
       "      <td>(Online) Counseling</td>\n",
       "      <td>3</td>\n",
       "    </tr>\n",
       "    <tr>\n",
       "      <th>2</th>\n",
       "      <td>Founder Motivation Champs, Publisher 📚, Screen...</td>\n",
       "      <td>Proud to welcome Stephanie Kunkel to the Motiv...</td>\n",
       "      <td>NaN</td>\n",
       "      <td>proud welcom stephani kunkel motiv champ famil...</td>\n",
       "      <td>News/Publications</td>\n",
       "      <td>2</td>\n",
       "    </tr>\n",
       "    <tr>\n",
       "      <th>3</th>\n",
       "      <td>Self healing journey from ✝️ trauma to spiritu...</td>\n",
       "      <td>How much energy do you put into keeping up app...</td>\n",
       "      <td>['travelblogger']</td>\n",
       "      <td>much energi put keep appear ⁠ se jump ⁠ travel...</td>\n",
       "      <td>(Online) Counseling</td>\n",
       "      <td>3</td>\n",
       "    </tr>\n",
       "    <tr>\n",
       "      <th>4</th>\n",
       "      <td>rTMS treatment across the UK and Ireland.\\r\\r\\...</td>\n",
       "      <td>Did you know that we treat seasonal affective ...</td>\n",
       "      <td>['seasonalaffectivedisorder', 'SAD']</td>\n",
       "      <td>know treat season affect disord seasonalaffect...</td>\n",
       "      <td>News/Publications</td>\n",
       "      <td>2</td>\n",
       "    </tr>\n",
       "  </tbody>\n",
       "</table>\n",
       "</div>"
      ],
      "text/plain": [
       "                                    user_description  \\\n",
       "0  For 34 years, Psych Congress has served as a u...   \n",
       "1  Believer in creating a healthy game plan to fe...   \n",
       "2  Founder Motivation Champs, Publisher 📚, Screen...   \n",
       "3  Self healing journey from ✝️ trauma to spiritu...   \n",
       "4  rTMS treatment across the UK and Ireland.\\r\\r\\...   \n",
       "\n",
       "                                                text  \\\n",
       "0  Extended abstract submission deadline is TODAY...   \n",
       "1  🌟This Fall and if you can, intentionally spend...   \n",
       "2  Proud to welcome Stephanie Kunkel to the Motiv...   \n",
       "3  How much energy do you put into keeping up app...   \n",
       "4  Did you know that we treat seasonal affective ...   \n",
       "\n",
       "                               hashtags  \\\n",
       "0                                   NaN   \n",
       "1                           ['anxiety']   \n",
       "2                                   NaN   \n",
       "3                     ['travelblogger']   \n",
       "4  ['seasonalaffectivedisorder', 'SAD']   \n",
       "\n",
       "                                         clean_tweet             category  \\\n",
       "0  extend abstract submiss deadlin today❗ add fin...    News/Publications   \n",
       "1  🌟thi fall intent spend time natur ▪️it help de...  (Online) Counseling   \n",
       "2  proud welcom stephani kunkel motiv champ famil...    News/Publications   \n",
       "3  much energi put keep appear ⁠ se jump ⁠ travel...  (Online) Counseling   \n",
       "4  know treat season affect disord seasonalaffect...    News/Publications   \n",
       "\n",
       "   class  \n",
       "0      2  \n",
       "1      3  \n",
       "2      2  \n",
       "3      3  \n",
       "4      2  "
      ]
     },
     "execution_count": 17,
     "metadata": {},
     "output_type": "execute_result"
    }
   ],
   "source": [
    "data[['user_description', 'text', 'hashtags', 'clean_tweet', 'category', 'class']].head()"
   ]
  },
  {
   "cell_type": "markdown",
   "id": "43dd10f7",
   "metadata": {},
   "source": [
    "**An example of Categorization in topics**"
   ]
  },
  {
   "cell_type": "markdown",
   "id": "1f1edee2",
   "metadata": {},
   "source": [
    "We select a random tweet: namely, tweet 5478."
   ]
  },
  {
   "cell_type": "code",
   "execution_count": 18,
   "id": "aada0cc8",
   "metadata": {},
   "outputs": [
    {
     "data": {
      "text/plain": [
       "'Talk to an Online Therapist for help with #Addiction. To recover fully you must heal the underlying emotional pain that fuels your addiction. See: https://t.co/ga8WHFMkiw #addictionrecovery #AddictionTreatment #alcoholism #depression'"
      ]
     },
     "execution_count": 18,
     "metadata": {},
     "output_type": "execute_result"
    }
   ],
   "source": [
    "data['text'][5478]"
   ]
  },
  {
   "cell_type": "markdown",
   "id": "4ef0831f",
   "metadata": {},
   "source": [
    "Its category has been selected as (Online) Counseling, which seems to be adequate given the tweet content:"
   ]
  },
  {
   "cell_type": "code",
   "execution_count": 19,
   "id": "7561e32b",
   "metadata": {},
   "outputs": [
    {
     "data": {
      "text/plain": [
       "'(Online) Counseling'"
      ]
     },
     "execution_count": 19,
     "metadata": {},
     "output_type": "execute_result"
    }
   ],
   "source": [
    "data['category'][5478]"
   ]
  }
 ],
 "metadata": {
  "kernelspec": {
   "display_name": "Python 3",
   "language": "python",
   "name": "python3"
  },
  "language_info": {
   "codemirror_mode": {
    "name": "ipython",
    "version": 3
   },
   "file_extension": ".py",
   "mimetype": "text/x-python",
   "name": "python",
   "nbconvert_exporter": "python",
   "pygments_lexer": "ipython3",
   "version": "3.6.5"
  }
 },
 "nbformat": 4,
 "nbformat_minor": 5
}
