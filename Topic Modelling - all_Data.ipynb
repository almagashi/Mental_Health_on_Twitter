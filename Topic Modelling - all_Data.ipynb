{
 "cells": [
  {
   "cell_type": "markdown",
   "id": "d7e475e3",
   "metadata": {},
   "source": [
    "**Import libraries and packages**"
   ]
  },
  {
   "cell_type": "code",
   "execution_count": 1,
   "id": "e416c289",
   "metadata": {},
   "outputs": [],
   "source": [
    "import pandas as pd\n",
    "import numpy as np\n",
    "\n",
    "import matplotlib.pyplot as plt\n",
    "import seaborn as sns\n",
    "\n",
    "import sklearn\n",
    "import re\n",
    "\n",
    "import nltk\n",
    "from nltk.tokenize import RegexpTokenizer\n",
    "from nltk.corpus import stopwords\n",
    "\n",
    "from sklearn.feature_extraction.text import CountVectorizer\n",
    "from sklearn.decomposition import LatentDirichletAllocation\n",
    "from sklearn.decomposition import NMF"
   ]
  },
  {
   "cell_type": "markdown",
   "id": "870e8cc5",
   "metadata": {},
   "source": [
    "**Read the data from the file**"
   ]
  },
  {
   "cell_type": "code",
   "execution_count": 2,
   "id": "fdf81b6f",
   "metadata": {},
   "outputs": [],
   "source": [
    "### read data ###\n",
    "data = pd.read_csv('data.csv')"
   ]
  },
  {
   "cell_type": "markdown",
   "id": "26bda84a",
   "metadata": {},
   "source": [
    "One example of how a tweet looks like:"
   ]
  },
  {
   "cell_type": "code",
   "execution_count": 3,
   "id": "68c48819",
   "metadata": {},
   "outputs": [
    {
     "data": {
      "text/plain": [
       "'Suffering from Obsessive thinking around your health? I recommend Online Mindfulness Therapy via Skype for Health Anxiety and Hypochondria. Visit: https://t.co/a34MmnaE1i #OCD #anxiety #panicattacks #OnlineTherapistForOCD #intrusivethoughts'"
      ]
     },
     "execution_count": 3,
     "metadata": {},
     "output_type": "execute_result"
    }
   ],
   "source": [
    "data.text[789]"
   ]
  },
  {
   "cell_type": "markdown",
   "id": "18d93404",
   "metadata": {},
   "source": [
    "A sneak-peek at the data:"
   ]
  },
  {
   "cell_type": "code",
   "execution_count": 4,
   "id": "6d0e0025",
   "metadata": {},
   "outputs": [
    {
     "data": {
      "text/html": [
       "<div>\n",
       "<style scoped>\n",
       "    .dataframe tbody tr th:only-of-type {\n",
       "        vertical-align: middle;\n",
       "    }\n",
       "\n",
       "    .dataframe tbody tr th {\n",
       "        vertical-align: top;\n",
       "    }\n",
       "\n",
       "    .dataframe thead th {\n",
       "        text-align: right;\n",
       "    }\n",
       "</style>\n",
       "<table border=\"1\" class=\"dataframe\">\n",
       "  <thead>\n",
       "    <tr style=\"text-align: right;\">\n",
       "      <th></th>\n",
       "      <th>Unnamed: 0</th>\n",
       "      <th>user_ID</th>\n",
       "      <th>followers_count</th>\n",
       "      <th>user_location</th>\n",
       "      <th>user_description</th>\n",
       "      <th>date</th>\n",
       "      <th>text</th>\n",
       "      <th>hashtags</th>\n",
       "    </tr>\n",
       "  </thead>\n",
       "  <tbody>\n",
       "    <tr>\n",
       "      <th>0</th>\n",
       "      <td>0</td>\n",
       "      <td>829318199468490752</td>\n",
       "      <td>294</td>\n",
       "      <td>Eora Nation</td>\n",
       "      <td>PhD candidate in gender and cultural studies @...</td>\n",
       "      <td>2021-10-27 11:59:28</td>\n",
       "      <td>New research out finds that #acupuncture reduc...</td>\n",
       "      <td>NaN</td>\n",
       "    </tr>\n",
       "    <tr>\n",
       "      <th>1</th>\n",
       "      <td>1</td>\n",
       "      <td>415086641</td>\n",
       "      <td>432</td>\n",
       "      <td>London</td>\n",
       "      <td>Children’s Book Illustrator 🎨 &amp; former @pathwa...</td>\n",
       "      <td>2021-10-27 11:51:28</td>\n",
       "      <td>New research out finds that #acupuncture reduc...</td>\n",
       "      <td>['ocd']</td>\n",
       "    </tr>\n",
       "    <tr>\n",
       "      <th>2</th>\n",
       "      <td>2</td>\n",
       "      <td>1311981838026657792</td>\n",
       "      <td>17</td>\n",
       "      <td>NaN</td>\n",
       "      <td>One of the greatest regrets in life is being w...</td>\n",
       "      <td>2021-10-27 11:26:01</td>\n",
       "      <td>New research out finds that #acupuncture reduc...</td>\n",
       "      <td>['oknottobeok']</td>\n",
       "    </tr>\n",
       "    <tr>\n",
       "      <th>3</th>\n",
       "      <td>3</td>\n",
       "      <td>89962967</td>\n",
       "      <td>29198</td>\n",
       "      <td>Boulder CO, USA</td>\n",
       "      <td>Peter Strong - Psychotherapist specializing in...</td>\n",
       "      <td>2021-10-27 11:25:00</td>\n",
       "      <td>New research out finds that #acupuncture reduc...</td>\n",
       "      <td>['OCD']</td>\n",
       "    </tr>\n",
       "    <tr>\n",
       "      <th>4</th>\n",
       "      <td>4</td>\n",
       "      <td>885311783795212288</td>\n",
       "      <td>981</td>\n",
       "      <td>Hell</td>\n",
       "      <td>A free thinker and freelance writer\\r\\r\\n\\r\\r\\...</td>\n",
       "      <td>2021-10-27 11:06:55</td>\n",
       "      <td>New research out finds that #acupuncture reduc...</td>\n",
       "      <td>NaN</td>\n",
       "    </tr>\n",
       "  </tbody>\n",
       "</table>\n",
       "</div>"
      ],
      "text/plain": [
       "   Unnamed: 0              user_ID  followers_count    user_location  \\\n",
       "0           0   829318199468490752              294      Eora Nation   \n",
       "1           1            415086641              432           London   \n",
       "2           2  1311981838026657792               17              NaN   \n",
       "3           3             89962967            29198  Boulder CO, USA   \n",
       "4           4   885311783795212288              981             Hell   \n",
       "\n",
       "                                    user_description                 date  \\\n",
       "0  PhD candidate in gender and cultural studies @...  2021-10-27 11:59:28   \n",
       "1  Children’s Book Illustrator 🎨 & former @pathwa...  2021-10-27 11:51:28   \n",
       "2  One of the greatest regrets in life is being w...  2021-10-27 11:26:01   \n",
       "3  Peter Strong - Psychotherapist specializing in...  2021-10-27 11:25:00   \n",
       "4  A free thinker and freelance writer\\r\\r\\n\\r\\r\\...  2021-10-27 11:06:55   \n",
       "\n",
       "                                                text         hashtags  \n",
       "0  New research out finds that #acupuncture reduc...              NaN  \n",
       "1  New research out finds that #acupuncture reduc...          ['ocd']  \n",
       "2  New research out finds that #acupuncture reduc...  ['oknottobeok']  \n",
       "3  New research out finds that #acupuncture reduc...          ['OCD']  \n",
       "4  New research out finds that #acupuncture reduc...              NaN  "
      ]
     },
     "execution_count": 4,
     "metadata": {},
     "output_type": "execute_result"
    }
   ],
   "source": [
    "data.head()"
   ]
  },
  {
   "cell_type": "code",
   "execution_count": 5,
   "id": "83a85b26",
   "metadata": {},
   "outputs": [
    {
     "data": {
      "text/plain": [
       "(30398, 8)"
      ]
     },
     "execution_count": 5,
     "metadata": {},
     "output_type": "execute_result"
    }
   ],
   "source": [
    "data.shape # number of datapoints x number of columns"
   ]
  },
  {
   "cell_type": "markdown",
   "id": "98d11a4b",
   "metadata": {},
   "source": [
    "**Data Cleaning**"
   ]
  },
  {
   "cell_type": "markdown",
   "id": "75f90c66",
   "metadata": {},
   "source": [
    "1. Remove links\n",
    "2. Remove '@' and usernames\n",
    "3. Remove retweets\n",
    "4. Remove english words that do not contribute to the meaning of the sentence (and, or, while, etc.)\n",
    "5. Remove words that appear in almost every tweet ('ocd').\n",
    "6. Remove punctuation\n",
    "7. Remove double-spacing\n",
    "8. Remove numbers\n",
    "9. Keep the stem of the words (i.e therapeutic, therapy, therapist, therapies - will all be recognized as therapy)\n",
    "10. Check for words that appear together"
   ]
  },
  {
   "cell_type": "code",
   "execution_count": 6,
   "id": "a207fe1d",
   "metadata": {},
   "outputs": [],
   "source": [
    "### data cleaning ###\n",
    "def remove_links(tweet):\n",
    "    '''Takes a string and removes web links from it'''\n",
    "    tweet = re.sub(r'http\\S+', '', tweet) # remove http links\n",
    "    tweet = re.sub(r'bit.ly/\\S+', '', tweet) # rempve bitly links\n",
    "    tweet = tweet.strip('[link]') # remove [links]\n",
    "    return tweet\n",
    "\n",
    "def remove_users(tweet):\n",
    "    '''Takes a string and removes retweet and @user information'''\n",
    "    tweet = re.sub('(RT\\s@[A-Za-z]+[A-Za-z0-9-_]+)', '', tweet) # remove retweet\n",
    "    tweet = re.sub('(@[A-Za-z]+[A-Za-z0-9-_]+)', '', tweet) # remove tweeted at\n",
    "    tweet = re.sub ('#', '', tweet)\n",
    "    return tweet\n",
    "\n",
    "def remove_emojis(tweet):\n",
    "    emoj = re.compile(\"[\"\n",
    "        u\"\\U0001F600-\\U0001F64F\"  # emoticons\n",
    "        u\"\\U0001F300-\\U0001F5FF\"  # symbols & pictographs\n",
    "        u\"\\U0001F680-\\U0001F6FF\"  # transport & map symbols\n",
    "        u\"\\U0001F1E0-\\U0001F1FF\"  # flags (iOS)\n",
    "        u\"\\U00002500-\\U00002BEF\"  # chinese char\n",
    "        u\"\\U00002702-\\U000027B0\"\n",
    "        u\"\\U00002702-\\U000027B0\"\n",
    "        u\"\\U000024C2-\\U0001F251\"\n",
    "        u\"\\U0001f926-\\U0001f937\"\n",
    "        u\"\\U00010000-\\U0010ffff\"\n",
    "        u\"\\u2640-\\u2642\" \n",
    "        u\"\\u2600-\\u2B55\"\n",
    "        u\"\\u200d\"\n",
    "        u\"\\u23cf\"\n",
    "        u\"\\u23e9\"\n",
    "        u\"\\u231a\"\n",
    "        u\"\\ufe0f\"  # dingbats\n",
    "        u\"\\u3030\"\n",
    "                      \"]+\", re.UNICODE)\n",
    "    return re.sub(emoj, '', tweet)\n",
    "\n",
    "my_stopwords = nltk.corpus.stopwords.words('english')\n",
    "repeated_words = ['first','last', 'make', '#ocd', '&amp', 'amp', 'non', 'ever', \n",
    "                  'got', 'via', 'best', 'row', 'know', 'want', 'depress', '#depression',\n",
    "                  '#depressio', 'ever', 'start', 'pre', 'add', 'adhd', 'may', 'heard',\n",
    "                  'know', 'often', 'would','end', 'might', 'xd', 'go', 'wait', 'especially', \n",
    "                  'part','current', 'entire', 'think', 'never','listen']\n",
    "my_stopwords.extend(repeated_words)\n",
    "word_rooter = nltk.stem.snowball.PorterStemmer(ignore_stopwords=False).stem\n",
    "my_punctuation = '!\"$%&\\'()*+,-./:;<=>?[\\\\]^_`’{|}~•@'\n",
    "\n",
    "# cleaning master function\n",
    "def clean_tweet(tweet, bigrams=False):\n",
    "    tweet = remove_users(tweet)\n",
    "    tweet = remove_links(tweet)\n",
    "    tweet = tweet.lower() # lower case\n",
    "    tweet = re.sub('['+my_punctuation + ']+', ' ', tweet) # strip punctuation\n",
    "    tweet = re.sub('\\s+', ' ', tweet) #remove double spacing\n",
    "    tweet = re.sub('([0-9]+)', '', tweet) # remove numbers\n",
    "    tweet = remove_emojis(tweet)\n",
    "    tweet_token_list = [word for word in tweet.split(' ')\n",
    "                            if word not in my_stopwords] # remove stopwords\n",
    "\n",
    "    tweet_token_list = [word_rooter(word) if '#' not in word else word\n",
    "                        for word in tweet_token_list] # apply word rooter\n",
    "    if bigrams:\n",
    "        tweet_token_list = tweet_token_list+[tweet_token_list[i]+'_'+tweet_token_list[i+1]\n",
    "                                            for i in range(len(tweet_token_list)-1)]\n",
    "    tweet = ' '.join(tweet_token_list)\n",
    "    return tweet"
   ]
  },
  {
   "cell_type": "markdown",
   "id": "2c83bfb4",
   "metadata": {},
   "source": [
    "Save the original tweets + the cleaned up tweets."
   ]
  },
  {
   "cell_type": "code",
   "execution_count": 7,
   "id": "247596e0",
   "metadata": {},
   "outputs": [],
   "source": [
    "data['clean_tweet'] = data.text.apply(clean_tweet, True)"
   ]
  },
  {
   "cell_type": "code",
   "execution_count": 8,
   "id": "7d8fe9b5",
   "metadata": {},
   "outputs": [],
   "source": [
    "data = data.drop(columns=\"Unnamed: 0\")"
   ]
  },
  {
   "cell_type": "markdown",
   "id": "db4ea416",
   "metadata": {},
   "source": [
    "Turn words into vectors to allow machine process algorithms to process it."
   ]
  },
  {
   "cell_type": "code",
   "execution_count": 9,
   "id": "04e5db72",
   "metadata": {},
   "outputs": [],
   "source": [
    "### Vectorize ###\n",
    "\n",
    "# the vectorizer object will be used to transform text to vector form\n",
    "vectorizer = CountVectorizer(max_df=0.9, min_df=25, token_pattern='\\w+|\\$[\\d\\.]+|\\S+')\n",
    "\n",
    "# apply transformation\n",
    "tf = vectorizer.fit_transform(data['clean_tweet']).toarray()\n",
    "\n",
    "# tf_feature_names tells us what word each column in the matric represents\n",
    "tf_feature_names = vectorizer.get_feature_names()"
   ]
  },
  {
   "cell_type": "markdown",
   "id": "c3d1443f",
   "metadata": {},
   "source": [
    "Apply the machine learning algorithm (NMF) to find the main 5 topics in all tweets:"
   ]
  },
  {
   "cell_type": "code",
   "execution_count": 10,
   "id": "3c53e7a0",
   "metadata": {},
   "outputs": [
    {
     "name": "stderr",
     "output_type": "stream",
     "text": [
      "C:\\Users\\almag\\Anaconda3\\lib\\site-packages\\sklearn\\decomposition\\_nmf.py:315: FutureWarning: The 'init' value, when 'init=None' and n_components is less than n_samples and n_features, will be changed from 'nndsvd' to 'nndsvda' in 1.1 (renaming of 0.26).\n",
      "  \"'nndsvda' in 1.1 (renaming of 0.26).\"), FutureWarning)\n",
      "C:\\Users\\almag\\Anaconda3\\lib\\site-packages\\sklearn\\decomposition\\_nmf.py:1091: ConvergenceWarning: Maximum number of iterations 200 reached. Increase it to improve convergence.\n",
      "  \" improve convergence.\" % max_iter, ConvergenceWarning)\n"
     ]
    },
    {
     "data": {
      "text/plain": [
       "NMF(alpha=0.1, l1_ratio=0.5, n_components=10, random_state=0)"
      ]
     },
     "execution_count": 10,
     "metadata": {},
     "output_type": "execute_result"
    }
   ],
   "source": [
    "### Apply NMF topic modeling ###\n",
    "number_of_topics = 10\n",
    "model_nmf = NMF(n_components=number_of_topics, random_state=0, alpha=.1, l1_ratio=.5)\n",
    "model_nmf.fit(tf)"
   ]
  },
  {
   "cell_type": "code",
   "execution_count": 11,
   "id": "64fc42f4",
   "metadata": {},
   "outputs": [],
   "source": [
    "### show topic modeling ###\n",
    "def display_topics(model, feature_names, no_top_words):\n",
    "    topic_dict = {}\n",
    "    for topic_idx, topic in enumerate(model.components_):\n",
    "        topic_dict[\"Topic %d words\" % (topic_idx)]= ['{}'.format(feature_names[i])\n",
    "                        for i in topic.argsort()[:-no_top_words - 1:-1]]\n",
    "        # topic_dict[\"Topic %d weights\" % (topic_idx)]= ['{:.1f}'.format(topic[i])\n",
    "                        # for i in topic.argsort()[:-no_top_words - 1:-1]]\n",
    "    return pd.DataFrame(topic_dict)"
   ]
  },
  {
   "cell_type": "markdown",
   "id": "746a3c4e",
   "metadata": {},
   "source": [
    "Show what words appear most often in the 5 classified topics:"
   ]
  },
  {
   "cell_type": "code",
   "execution_count": 12,
   "id": "83b58f66",
   "metadata": {},
   "outputs": [
    {
     "data": {
      "text/html": [
       "<div>\n",
       "<style scoped>\n",
       "    .dataframe tbody tr th:only-of-type {\n",
       "        vertical-align: middle;\n",
       "    }\n",
       "\n",
       "    .dataframe tbody tr th {\n",
       "        vertical-align: top;\n",
       "    }\n",
       "\n",
       "    .dataframe thead th {\n",
       "        text-align: right;\n",
       "    }\n",
       "</style>\n",
       "<table border=\"1\" class=\"dataframe\">\n",
       "  <thead>\n",
       "    <tr style=\"text-align: right;\">\n",
       "      <th></th>\n",
       "      <th>Topic 0 words</th>\n",
       "      <th>Topic 1 words</th>\n",
       "      <th>Topic 2 words</th>\n",
       "      <th>Topic 3 words</th>\n",
       "      <th>Topic 4 words</th>\n",
       "      <th>Topic 5 words</th>\n",
       "      <th>Topic 6 words</th>\n",
       "      <th>Topic 7 words</th>\n",
       "      <th>Topic 8 words</th>\n",
       "      <th>Topic 9 words</th>\n",
       "    </tr>\n",
       "  </thead>\n",
       "  <tbody>\n",
       "    <tr>\n",
       "      <th>0</th>\n",
       "      <td>il</td>\n",
       "      <td>acupunctur</td>\n",
       "      <td>mn</td>\n",
       "      <td>sleep</td>\n",
       "      <td>depress</td>\n",
       "      <td>depress</td>\n",
       "      <td>learn</td>\n",
       "      <td>ocd</td>\n",
       "      <td>diagnosi</td>\n",
       "      <td>feel</td>\n",
       "    </tr>\n",
       "    <tr>\n",
       "      <th>1</th>\n",
       "      <td>depress</td>\n",
       "      <td>depress</td>\n",
       "      <td>depress</td>\n",
       "      <td>parent</td>\n",
       "      <td>anxieti</td>\n",
       "      <td>live</td>\n",
       "      <td>brain</td>\n",
       "      <td>onlin</td>\n",
       "      <td>women</td>\n",
       "      <td>life</td>\n",
       "    </tr>\n",
       "    <tr>\n",
       "      <th>2</th>\n",
       "      <td>depressio</td>\n",
       "      <td>mentalhealth</td>\n",
       "      <td>anxieti</td>\n",
       "      <td>find</td>\n",
       "      <td>skype</td>\n",
       "      <td>podcast</td>\n",
       "      <td>adhdawar</td>\n",
       "      <td>mind</td>\n",
       "      <td>decad</td>\n",
       "      <td>diagnos</td>\n",
       "    </tr>\n",
       "    <tr>\n",
       "      <th>3</th>\n",
       "      <td>trauma</td>\n",
       "      <td>help</td>\n",
       "      <td>disord</td>\n",
       "      <td>import</td>\n",
       "      <td>onlinetherapi</td>\n",
       "      <td>quot</td>\n",
       "      <td>meet</td>\n",
       "      <td>therapi</td>\n",
       "      <td>childhood</td>\n",
       "      <td>thank</td>\n",
       "    </tr>\n",
       "    <tr>\n",
       "      <th>4</th>\n",
       "      <td>post</td>\n",
       "      <td>realli</td>\n",
       "      <td>mentalhealthmatt</td>\n",
       "      <td>start</td>\n",
       "      <td>therapist</td>\n",
       "      <td>lgbtq</td>\n",
       "      <td>teamadhd</td>\n",
       "      <td>anxieti</td>\n",
       "      <td>adhdawarenessmonth</td>\n",
       "      <td>listen</td>\n",
       "    </tr>\n",
       "    <tr>\n",
       "      <th>5</th>\n",
       "      <td>chang</td>\n",
       "      <td>new</td>\n",
       "      <td>new</td>\n",
       "      <td>chang</td>\n",
       "      <td>onlinecounsel</td>\n",
       "      <td>nba</td>\n",
       "      <td>frontal</td>\n",
       "      <td>see</td>\n",
       "      <td>treatment</td>\n",
       "      <td>current</td>\n",
       "    </tr>\n",
       "    <tr>\n",
       "      <th>6</th>\n",
       "      <td>affect</td>\n",
       "      <td>good</td>\n",
       "      <td>studi</td>\n",
       "      <td>ask</td>\n",
       "      <td>onlinepsychotherapi</td>\n",
       "      <td>radio</td>\n",
       "      <td>lifeinadhd</td>\n",
       "      <td>ocdrecoveri</td>\n",
       "      <td>sign</td>\n",
       "      <td>valid</td>\n",
       "    </tr>\n",
       "    <tr>\n",
       "      <th>7</th>\n",
       "      <td>head</td>\n",
       "      <td>find</td>\n",
       "      <td>world</td>\n",
       "      <td>exercis</td>\n",
       "      <td>mentalhealth</td>\n",
       "      <td>kyri</td>\n",
       "      <td>vortex</td>\n",
       "      <td>contact</td>\n",
       "      <td>disord</td>\n",
       "      <td>kitchen</td>\n",
       "    </tr>\n",
       "    <tr>\n",
       "      <th>8</th>\n",
       "      <td>loss</td>\n",
       "      <td>research</td>\n",
       "      <td>increas</td>\n",
       "      <td>matter</td>\n",
       "      <td>health</td>\n",
       "      <td>irv</td>\n",
       "      <td>adhdawarenessmonth</td>\n",
       "      <td>overcom</td>\n",
       "      <td>autism</td>\n",
       "      <td>contributor</td>\n",
       "    </tr>\n",
       "    <tr>\n",
       "      <th>9</th>\n",
       "      <td>associ</td>\n",
       "      <td>back</td>\n",
       "      <td>pandem</td>\n",
       "      <td>question</td>\n",
       "      <td>help</td>\n",
       "      <td>freepj</td>\n",
       "      <td>planner</td>\n",
       "      <td>mentalhealth</td>\n",
       "      <td>neurodevelopment</td>\n",
       "      <td>mourn</td>\n",
       "    </tr>\n",
       "  </tbody>\n",
       "</table>\n",
       "</div>"
      ],
      "text/plain": [
       "  Topic 0 words Topic 1 words     Topic 2 words Topic 3 words  \\\n",
       "0            il    acupunctur                mn         sleep   \n",
       "1       depress       depress           depress        parent   \n",
       "2     depressio  mentalhealth           anxieti          find   \n",
       "3        trauma          help            disord        import   \n",
       "4          post        realli  mentalhealthmatt         start   \n",
       "5         chang           new               new         chang   \n",
       "6        affect          good             studi           ask   \n",
       "7          head          find             world       exercis   \n",
       "8          loss      research           increas        matter   \n",
       "9        associ          back            pandem      question   \n",
       "\n",
       "         Topic 4 words Topic 5 words       Topic 6 words Topic 7 words  \\\n",
       "0              depress       depress               learn           ocd   \n",
       "1              anxieti          live               brain         onlin   \n",
       "2                skype       podcast            adhdawar          mind   \n",
       "3        onlinetherapi          quot                meet       therapi   \n",
       "4            therapist         lgbtq            teamadhd       anxieti   \n",
       "5        onlinecounsel           nba             frontal           see   \n",
       "6  onlinepsychotherapi         radio          lifeinadhd   ocdrecoveri   \n",
       "7         mentalhealth          kyri              vortex       contact   \n",
       "8               health           irv  adhdawarenessmonth       overcom   \n",
       "9                 help        freepj             planner  mentalhealth   \n",
       "\n",
       "        Topic 8 words Topic 9 words  \n",
       "0            diagnosi          feel  \n",
       "1               women          life  \n",
       "2               decad       diagnos  \n",
       "3           childhood         thank  \n",
       "4  adhdawarenessmonth        listen  \n",
       "5           treatment       current  \n",
       "6                sign         valid  \n",
       "7              disord       kitchen  \n",
       "8              autism   contributor  \n",
       "9    neurodevelopment         mourn  "
      ]
     },
     "execution_count": 12,
     "metadata": {},
     "output_type": "execute_result"
    }
   ],
   "source": [
    "no_top_words =  8\n",
    "display_topics(model_nmf, tf_feature_names, no_top_words)"
   ]
  },
  {
   "cell_type": "markdown",
   "id": "5ab97f9f",
   "metadata": {},
   "source": [
    "From here, we infer the name of the topic/category based on the 7 most frequent words that the algorithm has identified."
   ]
  },
  {
   "cell_type": "markdown",
   "id": "4b76c4c0",
   "metadata": {},
   "source": [
    "### NO NEW INSIGHTS, THUS USELESS!"
   ]
  }
 ],
 "metadata": {
  "kernelspec": {
   "display_name": "Python 3",
   "language": "python",
   "name": "python3"
  },
  "language_info": {
   "codemirror_mode": {
    "name": "ipython",
    "version": 3
   },
   "file_extension": ".py",
   "mimetype": "text/x-python",
   "name": "python",
   "nbconvert_exporter": "python",
   "pygments_lexer": "ipython3",
   "version": "3.6.5"
  }
 },
 "nbformat": 4,
 "nbformat_minor": 5
}
